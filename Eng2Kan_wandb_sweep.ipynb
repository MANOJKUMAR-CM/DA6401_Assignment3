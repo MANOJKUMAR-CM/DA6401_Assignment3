{
 "cells": [
  {
   "cell_type": "code",
   "execution_count": 1,
   "id": "1ef1a137-1769-4365-9f5d-445ed6f1f736",
   "metadata": {},
   "outputs": [],
   "source": [
    "import os\n",
    "os.environ[\"CUDA_VISIBLE_DEVICES\"] = \"1\"\n",
    "\n",
    "import warnings\n",
    "warnings.filterwarnings(\"ignore\")"
   ]
  },
  {
   "cell_type": "code",
   "execution_count": 2,
   "id": "8df10e30-bce3-4f4c-a540-1d4ff8fc39c0",
   "metadata": {},
   "outputs": [],
   "source": [
    "import numpy as np\n",
    "import pandas as pd\n",
    "import re\n",
    "from keras.preprocessing import sequence\n",
    "import tensorflow as tf\n",
    "from tensorflow.keras.layers import Input, Embedding, LSTM, GRU, SimpleRNN, Dense, TimeDistributed\n",
    "from tensorflow.keras.models import Model\n",
    "\n",
    "import wandb\n",
    "from wandb.keras import WandbCallback\n",
    "\n",
    "warnings.filterwarnings(\"ignore\", category=UserWarning, module=\"tensorflow\")\n",
    "warnings.filterwarnings(\"ignore\", category=UserWarning, module=\"absl\")"
   ]
  },
  {
   "cell_type": "code",
   "execution_count": 3,
   "id": "6b02689d-6f75-42e3-a1b6-6010b2daeb1c",
   "metadata": {
    "scrolled": true
   },
   "outputs": [
    {
     "data": {
      "text/plain": [
       "([PhysicalDevice(name='/physical_device:GPU:0', device_type='GPU')],\n",
       " '/device:GPU:0')"
      ]
     },
     "execution_count": 3,
     "metadata": {},
     "output_type": "execute_result"
    }
   ],
   "source": [
    "tf.config.list_physical_devices('GPU'), tf.test.gpu_device_name()"
   ]
  },
  {
   "cell_type": "code",
   "execution_count": 4,
   "id": "4b40b4d4-9435-494f-a669-831f5a876d6d",
   "metadata": {},
   "outputs": [],
   "source": [
    "# Loading the DATA\n",
    "train_data = pd.read_csv(\"dakshina_dataset_v1.0/kn/lexicons/kn.translit.sampled.train.tsv\", sep='\\t', header=None)\n",
    "test_data =  pd.read_csv(\"dakshina_dataset_v1.0/kn/lexicons/kn.translit.sampled.test.tsv\", sep='\\t', header = None)\n",
    "val_data = pd.read_csv(\"dakshina_dataset_v1.0/kn/lexicons/kn.translit.sampled.dev.tsv\", sep='\\t', header= None)"
   ]
  },
  {
   "cell_type": "code",
   "execution_count": 5,
   "id": "2ee0f5de-e6b8-436e-9123-930c1216021a",
   "metadata": {},
   "outputs": [],
   "source": [
    "# Filtering the data\n",
    "train_data = train_data.dropna()\n",
    "test_data = test_data.dropna()\n",
    "val_data = val_data.dropna()"
   ]
  },
  {
   "cell_type": "code",
   "execution_count": 6,
   "id": "124f067c-b4a0-4e18-9d48-c8e5f7c1deaa",
   "metadata": {},
   "outputs": [],
   "source": [
    "# Creating Vocubalory\n",
    "X = [list('\\t'+ w +'\\n') for w in np.array(train_data[1])] # Input Sequence\n",
    "Y = [list('\\t'+ w +'\\n') for w in np.array(train_data[0])] # Traget Sequence\n",
    "\n",
    "kannada_vocab = set() # Set avoids duplicates\n",
    "eng_vocab = set() # Set avoids duplicates\n",
    "\n",
    "for word in X:\n",
    "    for char in word:\n",
    "        eng_vocab.add(char)\n",
    "\n",
    "for word in Y:\n",
    "    for char in word:\n",
    "        kannada_vocab.add(char)\n",
    "\n",
    "kannada_vocab_list = sorted(list(kannada_vocab))\n",
    "eng_vocab_list = sorted(list(eng_vocab))"
   ]
  },
  {
   "cell_type": "code",
   "execution_count": 7,
   "id": "a9111d35-a0e1-4224-a809-229e3466bc3b",
   "metadata": {},
   "outputs": [],
   "source": [
    "# Preparing Data\n",
    "num_input_tokens = len(eng_vocab_list)\n",
    "num_output_tokens = len(kannada_vocab_list)\n",
    "\n",
    "# Mapping character to index\n",
    "input_token_index = {}\n",
    "for i, char in enumerate(eng_vocab_list):\n",
    "    input_token_index[char] = i\n",
    "\n",
    "output_token_index = {}\n",
    "for i, char in enumerate(kannada_vocab_list):\n",
    "    output_token_index[char] = i\n",
    "\n",
    "# Mapping index to character: \n",
    "# Inverting the previous dictionaries to avoid searching operations while decoding\n",
    "\n",
    "input_index_token = {i: char for char, i in input_token_index.items()}\n",
    "output_input_token = {i: char for char, i in output_token_index.items()}\n",
    "\n",
    "max_input_seq_length = max([len(seq) for seq in X])\n",
    "max_output_seq_length = max([len(seq) for seq in Y])"
   ]
  },
  {
   "cell_type": "code",
   "execution_count": 8,
   "id": "77728c58-705d-46b8-8026-28b54bf7d794",
   "metadata": {},
   "outputs": [],
   "source": [
    "def prepare(x, y):\n",
    "    # Converts list of characters -> list of indexes and provides the corresponding teacher forcing targets\n",
    "    decoder_target = np.zeros((len(x), max_output_seq_length, num_output_tokens), dtype=\"float32\")\n",
    "\n",
    "    for i, seq in enumerate(y):\n",
    "        for t, char in enumerate(seq):\n",
    "            if t > 0 :\n",
    "                decoder_target[i, t-1, output_token_index[char]] = 1.0\n",
    "        decoder_target[i, t:, output_token_index[\"\\n\"]] = 1.0\n",
    "    \n",
    "    encoder_samples = [[input_token_index[letter] for letter in seq] for seq in x]\n",
    "    decoder_samples = [[output_token_index[letter] for letter in seq] for seq in y]\n",
    "\n",
    "    return encoder_samples, decoder_samples, decoder_target"
   ]
  },
  {
   "cell_type": "code",
   "execution_count": 9,
   "id": "70346467-c930-4037-adaf-c134032c1531",
   "metadata": {},
   "outputs": [],
   "source": [
    "X_train = [list('\\t'+ w +'\\n') for w in np.array(train_data[1])] # Input Sequence\n",
    "Y_train = [list('\\t'+ w +'\\n') for w in np.array(train_data[0])] # Traget Sequence\n",
    "\n",
    "X_test = [list('\\t'+ w +'\\n') for w in np.array(test_data[1])] # Input Sequence\n",
    "Y_test = [list('\\t'+ w +'\\n') for w in np.array(test_data[0])] # Traget Sequence\n",
    "\n",
    "X_val = [list('\\t'+ w +'\\n') for w in np.array(val_data[1])] # Input Sequence\n",
    "Y_val = [list('\\t'+ w +'\\n') for w in np.array(val_data[0])] # Traget Sequence"
   ]
  },
  {
   "cell_type": "code",
   "execution_count": 10,
   "id": "41e566cf-805a-45e9-a101-bf5718499fa2",
   "metadata": {},
   "outputs": [],
   "source": [
    "encoder_train, decoder_train, decoder_target_train = prepare(X_train, Y_train)\n",
    "encoder_test, decoder_test, decoder_target_test = prepare(X_test, Y_test)\n",
    "encoder_val, decoder_val, decoder_target_val = prepare(X_val, Y_val)"
   ]
  },
  {
   "cell_type": "code",
   "execution_count": 11,
   "id": "61ff4628-d9cd-4f98-b45b-e4292e50c7f4",
   "metadata": {},
   "outputs": [],
   "source": [
    "def pad(List, max_length):\n",
    "    return sequence.data_utils.pad_sequences(List, maxlen=max_length, padding=\"post\")"
   ]
  },
  {
   "cell_type": "code",
   "execution_count": 12,
   "id": "fb8451fd-c64f-40c4-9e60-90cb01fab9d0",
   "metadata": {},
   "outputs": [],
   "source": [
    "encoder_train = pad(encoder_train, max_input_seq_length)\n",
    "encoder_test = pad(encoder_test, max_input_seq_length)\n",
    "encoder_val = pad(encoder_val, max_input_seq_length)\n",
    "\n",
    "decoder_train = pad(decoder_train, max_output_seq_length)\n",
    "decoder_test = pad(decoder_test, max_output_seq_length)\n",
    "decoder_val = pad(decoder_val, max_output_seq_length)"
   ]
  },
  {
   "cell_type": "code",
   "execution_count": 13,
   "id": "74e542ab-1757-4079-bd44-c17aaf26d647",
   "metadata": {},
   "outputs": [],
   "source": [
    "def Eng2Kan(encoder_tokens, decoder_tokens, embedding_dim, hidden_dim, max_input_seq_length, max_output_seq_length,\n",
    "            no_encoder_layers, no_decoder_layers, dropouts=0.1, cell_type=\"gru\"):\n",
    "\n",
    "    cell_type = cell_type.lower()  \n",
    "    \n",
    "    input_encoder = Input(shape=(None,))\n",
    "    input_decoder = Input(shape=(None,))\n",
    "    \n",
    "    input_embedding = Embedding(encoder_tokens, embedding_dim, input_length=max_input_seq_length)(input_encoder)\n",
    "    x = input_embedding\n",
    "\n",
    "    encoder_states = None\n",
    "    for _ in range(no_encoder_layers):\n",
    "        if cell_type == \"lstm\":\n",
    "            x, memory_state, carry_state = LSTM(hidden_dim, return_state=True, return_sequences=True, \n",
    "                                                dropout=dropouts)(x)\n",
    "            encoder_states = [memory_state, carry_state]\n",
    "        elif cell_type == \"gru\":\n",
    "            x, carry_state = GRU(hidden_dim, return_state=True, return_sequences=True, dropout=dropouts)(x)\n",
    "            encoder_states = [carry_state]\n",
    "        else:\n",
    "            x, carry_state = SimpleRNN(hidden_dim, return_state=True, return_sequences=True, dropout=dropouts)(x)\n",
    "            encoder_states = [carry_state]\n",
    "\n",
    "    target_embedding = Embedding(decoder_tokens, embedding_dim, input_length=max_output_seq_length)(input_decoder)\n",
    "\n",
    "    if cell_type == \"lstm\":\n",
    "        decoder_x, _, _ = LSTM(hidden_dim, return_sequences=True, return_state=True,\n",
    "                               dropout=dropouts)(target_embedding, initial_state=encoder_states)\n",
    "    elif cell_type == \"rnn\":\n",
    "        decoder_x, _ = SimpleRNN(hidden_dim, return_sequences=True, return_state=True,\n",
    "                                 dropout=dropouts)(target_embedding, initial_state=encoder_states)\n",
    "    elif cell_type == \"gru\":\n",
    "        decoder_x, _ = GRU(hidden_dim, return_sequences=True, return_state=True,\n",
    "                           dropout=dropouts)(target_embedding, initial_state=encoder_states)\n",
    "\n",
    "    for _ in range(no_decoder_layers - 1):\n",
    "        if cell_type == \"lstm\":\n",
    "            decoder_x, _, _ = LSTM(hidden_dim, return_sequences=True, return_state=True,\n",
    "                                   dropout=dropouts)(decoder_x)\n",
    "        elif cell_type == \"rnn\":\n",
    "            decoder_x, _ = SimpleRNN(hidden_dim, return_sequences=True, return_state=True,\n",
    "                                     dropout=dropouts)(decoder_x)\n",
    "        elif cell_type == \"gru\":\n",
    "            decoder_x, _ = GRU(hidden_dim, return_sequences=True, return_state=True,\n",
    "                               dropout=dropouts)(decoder_x)\n",
    "\n",
    "    output = TimeDistributed(Dense(decoder_tokens, activation='softmax'))(decoder_x)\n",
    "\n",
    "    model = Model([input_encoder, input_decoder], output)\n",
    "\n",
    "    return model"
   ]
  },
  {
   "cell_type": "code",
   "execution_count": 14,
   "id": "a49279b7-1834-4dd8-a500-76db687ff544",
   "metadata": {},
   "outputs": [],
   "source": [
    "class Word_Accuracy(tf.keras.callbacks.Callback):\n",
    "    def __init__(self, encoder_cv, decoder_cv, inv_target_token_index, max_length_y, sample_size=None):\n",
    "        super().__init__()\n",
    "        self.encoder_val = encoder_cv\n",
    "        self.decoder_val = decoder_cv\n",
    "        self.inv_target_token_index = inv_target_token_index\n",
    "        self.max_output_seq_length = max_length_y\n",
    "        self.sample_size = sample_size  # optional\n",
    "\n",
    "    def on_epoch_end(self, epoch, logs=None):\n",
    "        if self.sample_size:\n",
    "            indices = np.random.choice(len(self.encoder_val), self.sample_size, replace=False)\n",
    "            enc = self.encoder_val[indices]\n",
    "            dec = self.decoder_val[indices]\n",
    "        else:\n",
    "            enc = self.encoder_val\n",
    "            dec = self.decoder_val\n",
    "\n",
    "        predictions = self.model.predict([enc, dec], verbose=0)\n",
    "        count = 0\n",
    "\n",
    "        for i in range(len(predictions)):\n",
    "            actual_out = re.sub(r'\\t|\\n', '', ''.join(\n",
    "                [self.inv_target_token_index[dec[i][j]] for j in range(self.max_output_seq_length)]\n",
    "            ))\n",
    "            predicted_out = re.sub(r'\\t|\\n', '', ''.join(\n",
    "                [self.inv_target_token_index[np.argmax(predictions[i][j])] for j in range(self.max_output_seq_length)]\n",
    "            ))\n",
    "\n",
    "            if actual_out == predicted_out:\n",
    "                count += 1\n",
    "\n",
    "        acc = count / len(predictions)\n",
    "        logs[\"WordAccuracy\"] = acc\n",
    "        print(f\"\\nEpoch {epoch + 1}: Word-level Accuracy = {acc:.4f}\")\n",
    "\n",
    "        wandb.log({\"Val_WordAccuracy\": acc, \"epoch\": epoch + 1})\n"
   ]
  },
  {
   "cell_type": "code",
   "execution_count": 15,
   "id": "a633c942-844a-4424-9e9c-94da800fb7da",
   "metadata": {},
   "outputs": [],
   "source": [
    "sweep_config = {\n",
    "    \"name\": \"RNN - Hyperparameter Search\",\n",
    "    \"metric\": {\n",
    "        \"name\": \"Val_WordAccuracy\", \n",
    "        \"goal\": \"maximize\"\n",
    "    },\n",
    "    \"method\": \"random\", # options: [bayes, random, grid]\n",
    "    \"parameters\" : {\n",
    "        \"char_embedding_dim\": {\n",
    "            \"values\": [8, 12, 16, 32]\n",
    "        },\n",
    "        \"encoder_layers\" : {\n",
    "            \"values\" : [1, 2, 3]\n",
    "        },\n",
    "        \"decoder_layers\": {\n",
    "            \"values\": [1, 2, 3]\n",
    "        },\n",
    "        \"hidden_state_dim\":{\n",
    "            \"values\": [64, 128, 256, 512]\n",
    "        },\n",
    "        \"cell_type\":{\n",
    "            \"values\":[\"gru\", \"lstm\", \"rnn\"]\n",
    "        },\n",
    "        \"dropout\": {\n",
    "            \"values\":[0.1, 0.2, 0.3, 0.4]\n",
    "        }\n",
    "    }\n",
    "}"
   ]
  },
  {
   "cell_type": "code",
   "execution_count": 16,
   "id": "f917c75b-b8b6-48f8-8514-8067cb5063b9",
   "metadata": {},
   "outputs": [],
   "source": [
    "def sweep_hyperparameters():\n",
    "    \n",
    "    default_config = {\n",
    "        \"char_embedding_dim\": 32,\n",
    "        \"encoder_layers\": 2,\n",
    "        \"decoder_layers\": 2,\n",
    "        \"hidden_state_dim\": 512,\n",
    "        \"cell_type\": \"lstm\",\n",
    "        \"dropout\": 0.1  \n",
    "    }\n",
    "\n",
    "    wandb.init(config = default_config)\n",
    "    config = wandb.config # To get the Hyper Parameters from sweep_config\n",
    "\n",
    "    embedding_dim = config.char_embedding_dim\n",
    "    encoder_layers = config.encoder_layers\n",
    "    decoder_layers = config.decoder_layers\n",
    "    hidden_dim = config.hidden_state_dim\n",
    "    cell_type = config.cell_type\n",
    "    dropout = config.dropout\n",
    "\n",
    "    run_name = f\"RNN Layer Type: {cell_type}, Character_Embedding_dim: {embedding_dim}, Hidden_dim:{hidden_dim}, Num_Encoder_Layer:{encoder_layers}, Num_Decoder_Layer:{decoder_layers}, Dropout:{dropout}\"\n",
    "    print(\"Sweep Name: \", run_name)\n",
    "\n",
    "    model = Eng2Kan(num_input_tokens, num_output_tokens, embedding_dim, hidden_dim, max_input_seq_length, \n",
    "                    max_output_seq_length, encoder_layers, decoder_layers, dropout, cell_type)\n",
    "\n",
    "    model.compile(optimizer='Adam', loss='categorical_crossentropy', metrics=[\"accuracy\"])\n",
    "\n",
    "    epochs = 10\n",
    "    batch_size = 32\n",
    "    \n",
    "    word_accuracy = Word_Accuracy(\n",
    "        encoder_cv=encoder_val,\n",
    "        decoder_cv=decoder_val,\n",
    "        inv_target_token_index=output_input_token,\n",
    "        max_length_y=max_output_seq_length\n",
    "    )\n",
    "\n",
    "    history = model.fit(\n",
    "        [encoder_train, decoder_train],\n",
    "        decoder_target_train,\n",
    "        batch_size=batch_size,\n",
    "        epochs=epochs,\n",
    "        validation_data=([encoder_val, decoder_val], decoder_target_val),\n",
    "        callbacks=[word_accuracy, WandbCallback()],\n",
    "        verbose=1\n",
    "    )\n",
    "\n",
    "    wandb.run.name = run_name\n",
    "    wandb.run.save()"
   ]
  },
  {
   "cell_type": "code",
   "execution_count": null,
   "id": "d3389d0f-f4dd-49c1-8408-f7905d34c768",
   "metadata": {},
   "outputs": [
    {
     "name": "stdout",
     "output_type": "stream",
     "text": [
      "Create sweep with ID: fjtuyyfs\n",
      "Sweep URL: https://wandb.ai/manoj_da24s018-iit-madras/Transliterator_HyperParameterSweep/sweeps/fjtuyyfs\n"
     ]
    },
    {
     "name": "stderr",
     "output_type": "stream",
     "text": [
      "wandb: Agent Starting Run: 3t7mhwgo with config:\n",
      "wandb: \tcell_type: gru\n",
      "wandb: \tchar_embedding_dim: 12\n",
      "wandb: \tdecoder_layers: 2\n",
      "wandb: \tdropout: 0.3\n",
      "wandb: \tencoder_layers: 2\n",
      "wandb: \thidden_state_dim: 256\n",
      "wandb: Currently logged in as: manoj_da24s018 (manoj_da24s018-iit-madras). Use `wandb login --relogin` to force relogin\n"
     ]
    },
    {
     "data": {
      "text/html": [
       "wandb version 0.19.11 is available!  To upgrade, please run:\n",
       " $ pip install wandb --upgrade"
      ],
      "text/plain": [
       "<IPython.core.display.HTML object>"
      ]
     },
     "metadata": {},
     "output_type": "display_data"
    },
    {
     "data": {
      "text/html": [
       "Tracking run with wandb version 0.16.6"
      ],
      "text/plain": [
       "<IPython.core.display.HTML object>"
      ]
     },
     "metadata": {},
     "output_type": "display_data"
    },
    {
     "data": {
      "text/html": [
       "Run data is saved locally in <code>D:\\DL\\wandb\\run-20250515_172713-3t7mhwgo</code>"
      ],
      "text/plain": [
       "<IPython.core.display.HTML object>"
      ]
     },
     "metadata": {},
     "output_type": "display_data"
    },
    {
     "data": {
      "text/html": [
       "Syncing run <strong><a href='https://wandb.ai/manoj_da24s018-iit-madras/Transliterator_HyperParameterSweep/runs/3t7mhwgo' target=\"_blank\">curious-sweep-1</a></strong> to <a href='https://wandb.ai/manoj_da24s018-iit-madras/Transliterator_HyperParameterSweep' target=\"_blank\">Weights & Biases</a> (<a href='https://wandb.me/run' target=\"_blank\">docs</a>)<br/>Sweep page: <a href='https://wandb.ai/manoj_da24s018-iit-madras/Transliterator_HyperParameterSweep/sweeps/fjtuyyfs' target=\"_blank\">https://wandb.ai/manoj_da24s018-iit-madras/Transliterator_HyperParameterSweep/sweeps/fjtuyyfs</a>"
      ],
      "text/plain": [
       "<IPython.core.display.HTML object>"
      ]
     },
     "metadata": {},
     "output_type": "display_data"
    },
    {
     "data": {
      "text/html": [
       " View project at <a href='https://wandb.ai/manoj_da24s018-iit-madras/Transliterator_HyperParameterSweep' target=\"_blank\">https://wandb.ai/manoj_da24s018-iit-madras/Transliterator_HyperParameterSweep</a>"
      ],
      "text/plain": [
       "<IPython.core.display.HTML object>"
      ]
     },
     "metadata": {},
     "output_type": "display_data"
    },
    {
     "data": {
      "text/html": [
       " View sweep at <a href='https://wandb.ai/manoj_da24s018-iit-madras/Transliterator_HyperParameterSweep/sweeps/fjtuyyfs' target=\"_blank\">https://wandb.ai/manoj_da24s018-iit-madras/Transliterator_HyperParameterSweep/sweeps/fjtuyyfs</a>"
      ],
      "text/plain": [
       "<IPython.core.display.HTML object>"
      ]
     },
     "metadata": {},
     "output_type": "display_data"
    },
    {
     "data": {
      "text/html": [
       " View run at <a href='https://wandb.ai/manoj_da24s018-iit-madras/Transliterator_HyperParameterSweep/runs/3t7mhwgo' target=\"_blank\">https://wandb.ai/manoj_da24s018-iit-madras/Transliterator_HyperParameterSweep/runs/3t7mhwgo</a>"
      ],
      "text/plain": [
       "<IPython.core.display.HTML object>"
      ]
     },
     "metadata": {},
     "output_type": "display_data"
    },
    {
     "name": "stdout",
     "output_type": "stream",
     "text": [
      "Sweep Name:  RNN Layer Type: gru, Character_Embedding_dim: 12, Hidden_dim:256, Num_Encoder_Layer:2, Num_Decoder_Layer:2, Dropout:0.3\n"
     ]
    },
    {
     "name": "stderr",
     "output_type": "stream",
     "text": [
      "wandb: WARNING The save_model argument by default saves the model in the HDF5 format that cannot save custom objects like subclassed models and custom layers. This behavior will be deprecated in a future release in favor of the SavedModel format. Meanwhile, the HDF5 model is saved as W&B files and the SavedModel as W&B Artifacts.\n"
     ]
    },
    {
     "name": "stdout",
     "output_type": "stream",
     "text": [
      "Epoch 1/10\n",
      "1580/1582 [============================>.] - ETA: 0s - loss: 0.9503 - accuracy: 0.7406\n",
      "Epoch 1: Word-level Accuracy = 0.0002\n"
     ]
    },
    {
     "name": "stderr",
     "output_type": "stream",
     "text": [
      "WARNING:absl:Found untraced functions such as gru_cell_layer_call_fn, gru_cell_layer_call_and_return_conditional_losses, gru_cell_1_layer_call_fn, gru_cell_1_layer_call_and_return_conditional_losses, gru_cell_2_layer_call_fn while saving (showing 5 of 8). These functions will not be directly callable after loading.\n"
     ]
    },
    {
     "name": "stdout",
     "output_type": "stream",
     "text": [
      "INFO:tensorflow:Assets written to: D:\\DL\\wandb\\run-20250515_172713-3t7mhwgo\\files\\model-best\\assets\n"
     ]
    },
    {
     "name": "stderr",
     "output_type": "stream",
     "text": [
      "INFO:tensorflow:Assets written to: D:\\DL\\wandb\\run-20250515_172713-3t7mhwgo\\files\\model-best\\assets\n",
      "wandb: Adding directory to artifact (D:\\DL\\wandb\\run-20250515_172713-3t7mhwgo\\files\\model-best)... Done. 0.0s\n"
     ]
    },
    {
     "name": "stdout",
     "output_type": "stream",
     "text": [
      "1582/1582 [==============================] - 37s 20ms/step - loss: 0.9501 - accuracy: 0.7407 - val_loss: 0.7276 - val_accuracy: 0.7956 - WordAccuracy: 1.9893e-04\n",
      "Epoch 2/10\n",
      "1582/1582 [==============================] - ETA: 0s - loss: 0.6471 - accuracy: 0.8118\n",
      "Epoch 2: Word-level Accuracy = 0.0030\n"
     ]
    },
    {
     "name": "stderr",
     "output_type": "stream",
     "text": [
      "WARNING:absl:Found untraced functions such as gru_cell_layer_call_fn, gru_cell_layer_call_and_return_conditional_losses, gru_cell_1_layer_call_fn, gru_cell_1_layer_call_and_return_conditional_losses, gru_cell_2_layer_call_fn while saving (showing 5 of 8). These functions will not be directly callable after loading.\n"
     ]
    },
    {
     "name": "stdout",
     "output_type": "stream",
     "text": [
      "INFO:tensorflow:Assets written to: D:\\DL\\wandb\\run-20250515_172713-3t7mhwgo\\files\\model-best\\assets\n"
     ]
    },
    {
     "name": "stderr",
     "output_type": "stream",
     "text": [
      "INFO:tensorflow:Assets written to: D:\\DL\\wandb\\run-20250515_172713-3t7mhwgo\\files\\model-best\\assets\n",
      "wandb: Adding directory to artifact (D:\\DL\\wandb\\run-20250515_172713-3t7mhwgo\\files\\model-best)... Done. 0.0s\n"
     ]
    },
    {
     "name": "stdout",
     "output_type": "stream",
     "text": [
      "1582/1582 [==============================] - 30s 19ms/step - loss: 0.6471 - accuracy: 0.8118 - val_loss: 0.5368 - val_accuracy: 0.8437 - WordAccuracy: 0.0030\n",
      "Epoch 3/10\n",
      "1578/1582 [============================>.] - ETA: 0s - loss: 0.4731 - accuracy: 0.8586\n",
      "Epoch 3: Word-level Accuracy = 0.0255\n"
     ]
    },
    {
     "name": "stderr",
     "output_type": "stream",
     "text": [
      "WARNING:absl:Found untraced functions such as gru_cell_layer_call_fn, gru_cell_layer_call_and_return_conditional_losses, gru_cell_1_layer_call_fn, gru_cell_1_layer_call_and_return_conditional_losses, gru_cell_2_layer_call_fn while saving (showing 5 of 8). These functions will not be directly callable after loading.\n"
     ]
    },
    {
     "name": "stdout",
     "output_type": "stream",
     "text": [
      "INFO:tensorflow:Assets written to: D:\\DL\\wandb\\run-20250515_172713-3t7mhwgo\\files\\model-best\\assets\n"
     ]
    },
    {
     "name": "stderr",
     "output_type": "stream",
     "text": [
      "INFO:tensorflow:Assets written to: D:\\DL\\wandb\\run-20250515_172713-3t7mhwgo\\files\\model-best\\assets\n",
      "wandb: Adding directory to artifact (D:\\DL\\wandb\\run-20250515_172713-3t7mhwgo\\files\\model-best)... Done. 0.0s\n"
     ]
    },
    {
     "name": "stdout",
     "output_type": "stream",
     "text": [
      "1582/1582 [==============================] - 31s 20ms/step - loss: 0.4730 - accuracy: 0.8586 - val_loss: 0.4237 - val_accuracy: 0.8731 - WordAccuracy: 0.0255\n",
      "Epoch 4/10\n",
      "1581/1582 [============================>.] - ETA: 0s - loss: 0.3618 - accuracy: 0.8898\n",
      "Epoch 4: Word-level Accuracy = 0.0676\n"
     ]
    },
    {
     "name": "stderr",
     "output_type": "stream",
     "text": [
      "WARNING:absl:Found untraced functions such as gru_cell_layer_call_fn, gru_cell_layer_call_and_return_conditional_losses, gru_cell_1_layer_call_fn, gru_cell_1_layer_call_and_return_conditional_losses, gru_cell_2_layer_call_fn while saving (showing 5 of 8). These functions will not be directly callable after loading.\n"
     ]
    },
    {
     "name": "stdout",
     "output_type": "stream",
     "text": [
      "INFO:tensorflow:Assets written to: D:\\DL\\wandb\\run-20250515_172713-3t7mhwgo\\files\\model-best\\assets\n"
     ]
    },
    {
     "name": "stderr",
     "output_type": "stream",
     "text": [
      "INFO:tensorflow:Assets written to: D:\\DL\\wandb\\run-20250515_172713-3t7mhwgo\\files\\model-best\\assets\n",
      "wandb: Adding directory to artifact (D:\\DL\\wandb\\run-20250515_172713-3t7mhwgo\\files\\model-best)... Done. 0.0s\n"
     ]
    },
    {
     "name": "stdout",
     "output_type": "stream",
     "text": [
      "1582/1582 [==============================] - 31s 19ms/step - loss: 0.3617 - accuracy: 0.8898 - val_loss: 0.3398 - val_accuracy: 0.8973 - WordAccuracy: 0.0676\n",
      "Epoch 5/10\n",
      "1578/1582 [============================>.] - ETA: 0s - loss: 0.2835 - accuracy: 0.9134\n",
      "Epoch 5: Word-level Accuracy = 0.1178\n"
     ]
    },
    {
     "name": "stderr",
     "output_type": "stream",
     "text": [
      "WARNING:absl:Found untraced functions such as gru_cell_layer_call_fn, gru_cell_layer_call_and_return_conditional_losses, gru_cell_1_layer_call_fn, gru_cell_1_layer_call_and_return_conditional_losses, gru_cell_2_layer_call_fn while saving (showing 5 of 8). These functions will not be directly callable after loading.\n"
     ]
    },
    {
     "name": "stdout",
     "output_type": "stream",
     "text": [
      "INFO:tensorflow:Assets written to: D:\\DL\\wandb\\run-20250515_172713-3t7mhwgo\\files\\model-best\\assets\n"
     ]
    },
    {
     "name": "stderr",
     "output_type": "stream",
     "text": [
      "INFO:tensorflow:Assets written to: D:\\DL\\wandb\\run-20250515_172713-3t7mhwgo\\files\\model-best\\assets\n",
      "wandb: Adding directory to artifact (D:\\DL\\wandb\\run-20250515_172713-3t7mhwgo\\files\\model-best)... Done. 0.0s\n"
     ]
    },
    {
     "name": "stdout",
     "output_type": "stream",
     "text": [
      "1582/1582 [==============================] - 29s 19ms/step - loss: 0.2835 - accuracy: 0.9134 - val_loss: 0.2886 - val_accuracy: 0.9139 - WordAccuracy: 0.1178\n",
      "Epoch 6/10\n",
      "1580/1582 [============================>.] - ETA: 0s - loss: 0.2292 - accuracy: 0.9296\n",
      "Epoch 6: Word-level Accuracy = 0.1699\n"
     ]
    },
    {
     "name": "stderr",
     "output_type": "stream",
     "text": [
      "WARNING:absl:Found untraced functions such as gru_cell_layer_call_fn, gru_cell_layer_call_and_return_conditional_losses, gru_cell_1_layer_call_fn, gru_cell_1_layer_call_and_return_conditional_losses, gru_cell_2_layer_call_fn while saving (showing 5 of 8). These functions will not be directly callable after loading.\n"
     ]
    },
    {
     "name": "stdout",
     "output_type": "stream",
     "text": [
      "INFO:tensorflow:Assets written to: D:\\DL\\wandb\\run-20250515_172713-3t7mhwgo\\files\\model-best\\assets\n"
     ]
    },
    {
     "name": "stderr",
     "output_type": "stream",
     "text": [
      "INFO:tensorflow:Assets written to: D:\\DL\\wandb\\run-20250515_172713-3t7mhwgo\\files\\model-best\\assets\n",
      "wandb: Adding directory to artifact (D:\\DL\\wandb\\run-20250515_172713-3t7mhwgo\\files\\model-best)... Done. 0.0s\n"
     ]
    },
    {
     "name": "stdout",
     "output_type": "stream",
     "text": [
      "1582/1582 [==============================] - 29s 19ms/step - loss: 0.2292 - accuracy: 0.9296 - val_loss: 0.2506 - val_accuracy: 0.9252 - WordAccuracy: 0.1699\n",
      "Epoch 7/10\n",
      "1579/1582 [============================>.] - ETA: 0s - loss: 0.1909 - accuracy: 0.9413\n",
      "Epoch 7: Word-level Accuracy = 0.2123\n"
     ]
    },
    {
     "name": "stderr",
     "output_type": "stream",
     "text": [
      "WARNING:absl:Found untraced functions such as gru_cell_layer_call_fn, gru_cell_layer_call_and_return_conditional_losses, gru_cell_1_layer_call_fn, gru_cell_1_layer_call_and_return_conditional_losses, gru_cell_2_layer_call_fn while saving (showing 5 of 8). These functions will not be directly callable after loading.\n"
     ]
    },
    {
     "name": "stdout",
     "output_type": "stream",
     "text": [
      "INFO:tensorflow:Assets written to: D:\\DL\\wandb\\run-20250515_172713-3t7mhwgo\\files\\model-best\\assets\n"
     ]
    },
    {
     "name": "stderr",
     "output_type": "stream",
     "text": [
      "INFO:tensorflow:Assets written to: D:\\DL\\wandb\\run-20250515_172713-3t7mhwgo\\files\\model-best\\assets\n",
      "wandb: Adding directory to artifact (D:\\DL\\wandb\\run-20250515_172713-3t7mhwgo\\files\\model-best)... Done. 0.0s\n"
     ]
    },
    {
     "name": "stdout",
     "output_type": "stream",
     "text": [
      "1582/1582 [==============================] - 28s 18ms/step - loss: 0.1908 - accuracy: 0.9413 - val_loss: 0.2220 - val_accuracy: 0.9348 - WordAccuracy: 0.2123\n",
      "Epoch 8/10\n",
      "1581/1582 [============================>.] - ETA: 0s - loss: 0.1621 - accuracy: 0.9500\n",
      "Epoch 8: Word-level Accuracy = 0.2381\n"
     ]
    },
    {
     "name": "stderr",
     "output_type": "stream",
     "text": [
      "WARNING:absl:Found untraced functions such as gru_cell_layer_call_fn, gru_cell_layer_call_and_return_conditional_losses, gru_cell_1_layer_call_fn, gru_cell_1_layer_call_and_return_conditional_losses, gru_cell_2_layer_call_fn while saving (showing 5 of 8). These functions will not be directly callable after loading.\n"
     ]
    },
    {
     "name": "stdout",
     "output_type": "stream",
     "text": [
      "INFO:tensorflow:Assets written to: D:\\DL\\wandb\\run-20250515_172713-3t7mhwgo\\files\\model-best\\assets\n"
     ]
    },
    {
     "name": "stderr",
     "output_type": "stream",
     "text": [
      "INFO:tensorflow:Assets written to: D:\\DL\\wandb\\run-20250515_172713-3t7mhwgo\\files\\model-best\\assets\n",
      "wandb: Adding directory to artifact (D:\\DL\\wandb\\run-20250515_172713-3t7mhwgo\\files\\model-best)... Done. 0.0s\n"
     ]
    },
    {
     "name": "stdout",
     "output_type": "stream",
     "text": [
      "1582/1582 [==============================] - 29s 18ms/step - loss: 0.1621 - accuracy: 0.9500 - val_loss: 0.2085 - val_accuracy: 0.9375 - WordAccuracy: 0.2381\n",
      "Epoch 9/10\n",
      "1580/1582 [============================>.] - ETA: 0s - loss: 0.1415 - accuracy: 0.9562\n",
      "Epoch 9: Word-level Accuracy = 0.2695\n"
     ]
    },
    {
     "name": "stderr",
     "output_type": "stream",
     "text": [
      "WARNING:absl:Found untraced functions such as gru_cell_layer_call_fn, gru_cell_layer_call_and_return_conditional_losses, gru_cell_1_layer_call_fn, gru_cell_1_layer_call_and_return_conditional_losses, gru_cell_2_layer_call_fn while saving (showing 5 of 8). These functions will not be directly callable after loading.\n"
     ]
    },
    {
     "name": "stdout",
     "output_type": "stream",
     "text": [
      "INFO:tensorflow:Assets written to: D:\\DL\\wandb\\run-20250515_172713-3t7mhwgo\\files\\model-best\\assets\n"
     ]
    },
    {
     "name": "stderr",
     "output_type": "stream",
     "text": [
      "INFO:tensorflow:Assets written to: D:\\DL\\wandb\\run-20250515_172713-3t7mhwgo\\files\\model-best\\assets\n",
      "wandb: Adding directory to artifact (D:\\DL\\wandb\\run-20250515_172713-3t7mhwgo\\files\\model-best)... Done. 0.0s\n"
     ]
    },
    {
     "name": "stdout",
     "output_type": "stream",
     "text": [
      "1582/1582 [==============================] - 30s 19ms/step - loss: 0.1415 - accuracy: 0.9562 - val_loss: 0.1931 - val_accuracy: 0.9435 - WordAccuracy: 0.2695\n",
      "Epoch 10/10\n",
      "1582/1582 [==============================] - ETA: 0s - loss: 0.1260 - accuracy: 0.9607\n",
      "Epoch 10: Word-level Accuracy = 0.2928\n"
     ]
    },
    {
     "name": "stderr",
     "output_type": "stream",
     "text": [
      "WARNING:absl:Found untraced functions such as gru_cell_layer_call_fn, gru_cell_layer_call_and_return_conditional_losses, gru_cell_1_layer_call_fn, gru_cell_1_layer_call_and_return_conditional_losses, gru_cell_2_layer_call_fn while saving (showing 5 of 8). These functions will not be directly callable after loading.\n"
     ]
    },
    {
     "name": "stdout",
     "output_type": "stream",
     "text": [
      "INFO:tensorflow:Assets written to: D:\\DL\\wandb\\run-20250515_172713-3t7mhwgo\\files\\model-best\\assets\n"
     ]
    },
    {
     "name": "stderr",
     "output_type": "stream",
     "text": [
      "INFO:tensorflow:Assets written to: D:\\DL\\wandb\\run-20250515_172713-3t7mhwgo\\files\\model-best\\assets\n",
      "wandb: Adding directory to artifact (D:\\DL\\wandb\\run-20250515_172713-3t7mhwgo\\files\\model-best)... Done. 0.0s\n"
     ]
    },
    {
     "name": "stdout",
     "output_type": "stream",
     "text": [
      "1582/1582 [==============================] - 27s 17ms/step - loss: 0.1260 - accuracy: 0.9607 - val_loss: 0.1854 - val_accuracy: 0.9463 - WordAccuracy: 0.2928\n"
     ]
    },
    {
     "name": "stderr",
     "output_type": "stream",
     "text": [
      "wandb: WARNING Calling wandb.run.save without any arguments is deprecated.Changes to attributes are automatically persisted.\n"
     ]
    },
    {
     "data": {
      "application/vnd.jupyter.widget-view+json": {
       "model_id": "4ee83723f8b34c6ca1884e16830a0c67",
       "version_major": 2,
       "version_minor": 0
      },
      "text/plain": [
       "VBox(children=(Label(value='164.952 MB of 164.952 MB uploaded (0.265 MB deduped)\\r'), FloatProgress(value=1.0,…"
      ]
     },
     "metadata": {},
     "output_type": "display_data"
    },
    {
     "data": {
      "text/html": [
       "<style>\n",
       "    table.wandb td:nth-child(1) { padding: 0 10px; text-align: left ; width: auto;} td:nth-child(2) {text-align: left ; width: 100%}\n",
       "    .wandb-row { display: flex; flex-direction: row; flex-wrap: wrap; justify-content: flex-start; width: 100% }\n",
       "    .wandb-col { display: flex; flex-direction: column; flex-basis: 100%; flex: 1; padding: 10px; }\n",
       "    </style>\n",
       "<div class=\"wandb-row\"><div class=\"wandb-col\"><h3>Run history:</h3><br/><table class=\"wandb\"><tr><td>Val_WordAccuracy</td><td>▁▁▂▃▄▅▆▇▇█</td></tr><tr><td>WordAccuracy</td><td>▁▁▂▃▄▅▆▇▇█</td></tr><tr><td>accuracy</td><td>▁▃▅▆▆▇▇███</td></tr><tr><td>epoch</td><td>▂▁▂▂▃▂▄▃▅▄▅▅▆▅▇▆▇▇█▇</td></tr><tr><td>loss</td><td>█▅▄▃▂▂▂▁▁▁</td></tr><tr><td>val_accuracy</td><td>▁▃▅▆▆▇▇███</td></tr><tr><td>val_loss</td><td>█▆▄▃▂▂▁▁▁▁</td></tr></table><br/></div><div class=\"wandb-col\"><h3>Run summary:</h3><br/><table class=\"wandb\"><tr><td>Val_WordAccuracy</td><td>0.29282</td></tr><tr><td>WordAccuracy</td><td>0.29282</td></tr><tr><td>accuracy</td><td>0.9607</td></tr><tr><td>best_epoch</td><td>9</td></tr><tr><td>best_val_loss</td><td>0.18536</td></tr><tr><td>epoch</td><td>9</td></tr><tr><td>loss</td><td>0.12597</td></tr><tr><td>val_accuracy</td><td>0.94625</td></tr><tr><td>val_loss</td><td>0.18536</td></tr></table><br/></div></div>"
      ],
      "text/plain": [
       "<IPython.core.display.HTML object>"
      ]
     },
     "metadata": {},
     "output_type": "display_data"
    },
    {
     "data": {
      "text/html": [
       " View run <strong style=\"color:#cdcd00\">curious-sweep-1</strong> at: <a href='https://wandb.ai/manoj_da24s018-iit-madras/Transliterator_HyperParameterSweep/runs/3t7mhwgo' target=\"_blank\">https://wandb.ai/manoj_da24s018-iit-madras/Transliterator_HyperParameterSweep/runs/3t7mhwgo</a><br/> View project at: <a href='https://wandb.ai/manoj_da24s018-iit-madras/Transliterator_HyperParameterSweep' target=\"_blank\">https://wandb.ai/manoj_da24s018-iit-madras/Transliterator_HyperParameterSweep</a><br/>Synced 5 W&B file(s), 1 media file(s), 40 artifact file(s) and 1 other file(s)"
      ],
      "text/plain": [
       "<IPython.core.display.HTML object>"
      ]
     },
     "metadata": {},
     "output_type": "display_data"
    },
    {
     "data": {
      "text/html": [
       "Find logs at: <code>.\\wandb\\run-20250515_172713-3t7mhwgo\\logs</code>"
      ],
      "text/plain": [
       "<IPython.core.display.HTML object>"
      ]
     },
     "metadata": {},
     "output_type": "display_data"
    },
    {
     "name": "stderr",
     "output_type": "stream",
     "text": [
      "wandb: Agent Starting Run: f25m9dz9 with config:\n",
      "wandb: \tcell_type: gru\n",
      "wandb: \tchar_embedding_dim: 8\n",
      "wandb: \tdecoder_layers: 3\n",
      "wandb: \tdropout: 0.3\n",
      "wandb: \tencoder_layers: 3\n",
      "wandb: \thidden_state_dim: 128\n"
     ]
    },
    {
     "data": {
      "text/html": [
       "wandb version 0.19.11 is available!  To upgrade, please run:\n",
       " $ pip install wandb --upgrade"
      ],
      "text/plain": [
       "<IPython.core.display.HTML object>"
      ]
     },
     "metadata": {},
     "output_type": "display_data"
    },
    {
     "data": {
      "text/html": [
       "Tracking run with wandb version 0.16.6"
      ],
      "text/plain": [
       "<IPython.core.display.HTML object>"
      ]
     },
     "metadata": {},
     "output_type": "display_data"
    },
    {
     "data": {
      "text/html": [
       "Run data is saved locally in <code>D:\\DL\\wandb\\run-20250515_173241-f25m9dz9</code>"
      ],
      "text/plain": [
       "<IPython.core.display.HTML object>"
      ]
     },
     "metadata": {},
     "output_type": "display_data"
    },
    {
     "data": {
      "text/html": [
       "Syncing run <strong><a href='https://wandb.ai/manoj_da24s018-iit-madras/Transliterator_HyperParameterSweep/runs/f25m9dz9' target=\"_blank\">frosty-sweep-2</a></strong> to <a href='https://wandb.ai/manoj_da24s018-iit-madras/Transliterator_HyperParameterSweep' target=\"_blank\">Weights & Biases</a> (<a href='https://wandb.me/run' target=\"_blank\">docs</a>)<br/>Sweep page: <a href='https://wandb.ai/manoj_da24s018-iit-madras/Transliterator_HyperParameterSweep/sweeps/fjtuyyfs' target=\"_blank\">https://wandb.ai/manoj_da24s018-iit-madras/Transliterator_HyperParameterSweep/sweeps/fjtuyyfs</a>"
      ],
      "text/plain": [
       "<IPython.core.display.HTML object>"
      ]
     },
     "metadata": {},
     "output_type": "display_data"
    },
    {
     "data": {
      "text/html": [
       " View project at <a href='https://wandb.ai/manoj_da24s018-iit-madras/Transliterator_HyperParameterSweep' target=\"_blank\">https://wandb.ai/manoj_da24s018-iit-madras/Transliterator_HyperParameterSweep</a>"
      ],
      "text/plain": [
       "<IPython.core.display.HTML object>"
      ]
     },
     "metadata": {},
     "output_type": "display_data"
    },
    {
     "data": {
      "text/html": [
       " View sweep at <a href='https://wandb.ai/manoj_da24s018-iit-madras/Transliterator_HyperParameterSweep/sweeps/fjtuyyfs' target=\"_blank\">https://wandb.ai/manoj_da24s018-iit-madras/Transliterator_HyperParameterSweep/sweeps/fjtuyyfs</a>"
      ],
      "text/plain": [
       "<IPython.core.display.HTML object>"
      ]
     },
     "metadata": {},
     "output_type": "display_data"
    },
    {
     "data": {
      "text/html": [
       " View run at <a href='https://wandb.ai/manoj_da24s018-iit-madras/Transliterator_HyperParameterSweep/runs/f25m9dz9' target=\"_blank\">https://wandb.ai/manoj_da24s018-iit-madras/Transliterator_HyperParameterSweep/runs/f25m9dz9</a>"
      ],
      "text/plain": [
       "<IPython.core.display.HTML object>"
      ]
     },
     "metadata": {},
     "output_type": "display_data"
    },
    {
     "name": "stdout",
     "output_type": "stream",
     "text": [
      "Sweep Name:  RNN Layer Type: gru, Character_Embedding_dim: 8, Hidden_dim:128, Num_Encoder_Layer:3, Num_Decoder_Layer:3, Dropout:0.3\n",
      "Epoch 1/10\n",
      "1582/1582 [==============================] - ETA: 0s - loss: 1.0224 - accuracy: 0.7247\n",
      "Epoch 1: Word-level Accuracy = 0.0000\n"
     ]
    },
    {
     "name": "stderr",
     "output_type": "stream",
     "text": [
      "WARNING:absl:Found untraced functions such as gru_cell_layer_call_fn, gru_cell_layer_call_and_return_conditional_losses, gru_cell_1_layer_call_fn, gru_cell_1_layer_call_and_return_conditional_losses, gru_cell_2_layer_call_fn while saving (showing 5 of 12). These functions will not be directly callable after loading.\n"
     ]
    },
    {
     "name": "stdout",
     "output_type": "stream",
     "text": [
      "INFO:tensorflow:Assets written to: D:\\DL\\wandb\\run-20250515_173241-f25m9dz9\\files\\model-best\\assets\n"
     ]
    },
    {
     "name": "stderr",
     "output_type": "stream",
     "text": [
      "INFO:tensorflow:Assets written to: D:\\DL\\wandb\\run-20250515_173241-f25m9dz9\\files\\model-best\\assets\n",
      "wandb: Adding directory to artifact (D:\\DL\\wandb\\run-20250515_173241-f25m9dz9\\files\\model-best)... Done. 0.0s\n"
     ]
    },
    {
     "name": "stdout",
     "output_type": "stream",
     "text": [
      "1582/1582 [==============================] - 45s 26ms/step - loss: 1.0224 - accuracy: 0.7247 - val_loss: 0.8265 - val_accuracy: 0.7655 - WordAccuracy: 0.0000e+00\n",
      "Epoch 2/10\n",
      "1580/1582 [============================>.] - ETA: 0s - loss: 0.8160 - accuracy: 0.7668\n",
      "Epoch 2: Word-level Accuracy = 0.0000\n"
     ]
    },
    {
     "name": "stderr",
     "output_type": "stream",
     "text": [
      "WARNING:absl:Found untraced functions such as gru_cell_layer_call_fn, gru_cell_layer_call_and_return_conditional_losses, gru_cell_1_layer_call_fn, gru_cell_1_layer_call_and_return_conditional_losses, gru_cell_2_layer_call_fn while saving (showing 5 of 12). These functions will not be directly callable after loading.\n"
     ]
    },
    {
     "name": "stdout",
     "output_type": "stream",
     "text": [
      "INFO:tensorflow:Assets written to: D:\\DL\\wandb\\run-20250515_173241-f25m9dz9\\files\\model-best\\assets\n"
     ]
    },
    {
     "name": "stderr",
     "output_type": "stream",
     "text": [
      "INFO:tensorflow:Assets written to: D:\\DL\\wandb\\run-20250515_173241-f25m9dz9\\files\\model-best\\assets\n",
      "wandb: Adding directory to artifact (D:\\DL\\wandb\\run-20250515_173241-f25m9dz9\\files\\model-best)... Done. 0.0s\n"
     ]
    },
    {
     "name": "stdout",
     "output_type": "stream",
     "text": [
      "1582/1582 [==============================] - 36s 23ms/step - loss: 0.8159 - accuracy: 0.7668 - val_loss: 0.7301 - val_accuracy: 0.7938 - WordAccuracy: 0.0000e+00\n",
      "Epoch 3/10\n",
      "1582/1582 [==============================] - ETA: 0s - loss: 0.7028 - accuracy: 0.7964\n",
      "Epoch 3: Word-level Accuracy = 0.0008\n"
     ]
    },
    {
     "name": "stderr",
     "output_type": "stream",
     "text": [
      "WARNING:absl:Found untraced functions such as gru_cell_layer_call_fn, gru_cell_layer_call_and_return_conditional_losses, gru_cell_1_layer_call_fn, gru_cell_1_layer_call_and_return_conditional_losses, gru_cell_2_layer_call_fn while saving (showing 5 of 12). These functions will not be directly callable after loading.\n"
     ]
    },
    {
     "name": "stdout",
     "output_type": "stream",
     "text": [
      "INFO:tensorflow:Assets written to: D:\\DL\\wandb\\run-20250515_173241-f25m9dz9\\files\\model-best\\assets\n"
     ]
    },
    {
     "name": "stderr",
     "output_type": "stream",
     "text": [
      "INFO:tensorflow:Assets written to: D:\\DL\\wandb\\run-20250515_173241-f25m9dz9\\files\\model-best\\assets\n",
      "wandb: Adding directory to artifact (D:\\DL\\wandb\\run-20250515_173241-f25m9dz9\\files\\model-best)... Done. 0.0s\n"
     ]
    },
    {
     "name": "stdout",
     "output_type": "stream",
     "text": [
      "1582/1582 [==============================] - 37s 23ms/step - loss: 0.7028 - accuracy: 0.7964 - val_loss: 0.6049 - val_accuracy: 0.8264 - WordAccuracy: 7.9570e-04\n",
      "Epoch 4/10\n",
      "1581/1582 [============================>.] - ETA: 0s - loss: 0.5953 - accuracy: 0.8238\n",
      "Epoch 4: Word-level Accuracy = 0.0064\n"
     ]
    },
    {
     "name": "stderr",
     "output_type": "stream",
     "text": [
      "WARNING:absl:Found untraced functions such as gru_cell_layer_call_fn, gru_cell_layer_call_and_return_conditional_losses, gru_cell_1_layer_call_fn, gru_cell_1_layer_call_and_return_conditional_losses, gru_cell_2_layer_call_fn while saving (showing 5 of 12). These functions will not be directly callable after loading.\n"
     ]
    },
    {
     "name": "stdout",
     "output_type": "stream",
     "text": [
      "INFO:tensorflow:Assets written to: D:\\DL\\wandb\\run-20250515_173241-f25m9dz9\\files\\model-best\\assets\n"
     ]
    },
    {
     "name": "stderr",
     "output_type": "stream",
     "text": [
      "INFO:tensorflow:Assets written to: D:\\DL\\wandb\\run-20250515_173241-f25m9dz9\\files\\model-best\\assets\n",
      "wandb: Adding directory to artifact (D:\\DL\\wandb\\run-20250515_173241-f25m9dz9\\files\\model-best)... Done. 0.0s\n"
     ]
    },
    {
     "name": "stdout",
     "output_type": "stream",
     "text": [
      "1582/1582 [==============================] - 37s 23ms/step - loss: 0.5952 - accuracy: 0.8238 - val_loss: 0.5309 - val_accuracy: 0.8438 - WordAccuracy: 0.0064\n",
      "Epoch 5/10\n",
      "1579/1582 [============================>.] - ETA: 0s - loss: 0.5205 - accuracy: 0.8426\n",
      "Epoch 5: Word-level Accuracy = 0.0143\n"
     ]
    },
    {
     "name": "stderr",
     "output_type": "stream",
     "text": [
      "WARNING:absl:Found untraced functions such as gru_cell_layer_call_fn, gru_cell_layer_call_and_return_conditional_losses, gru_cell_1_layer_call_fn, gru_cell_1_layer_call_and_return_conditional_losses, gru_cell_2_layer_call_fn while saving (showing 5 of 12). These functions will not be directly callable after loading.\n"
     ]
    },
    {
     "name": "stdout",
     "output_type": "stream",
     "text": [
      "INFO:tensorflow:Assets written to: D:\\DL\\wandb\\run-20250515_173241-f25m9dz9\\files\\model-best\\assets\n"
     ]
    },
    {
     "name": "stderr",
     "output_type": "stream",
     "text": [
      "INFO:tensorflow:Assets written to: D:\\DL\\wandb\\run-20250515_173241-f25m9dz9\\files\\model-best\\assets\n",
      "wandb: Adding directory to artifact (D:\\DL\\wandb\\run-20250515_173241-f25m9dz9\\files\\model-best)... Done. 0.0s\n"
     ]
    },
    {
     "name": "stdout",
     "output_type": "stream",
     "text": [
      "1582/1582 [==============================] - 36s 22ms/step - loss: 0.5204 - accuracy: 0.8426 - val_loss: 0.4697 - val_accuracy: 0.8593 - WordAccuracy: 0.0143\n",
      "Epoch 6/10\n",
      "1581/1582 [============================>.] - ETA: 0s - loss: 0.4630 - accuracy: 0.8583\n",
      "Epoch 6: Word-level Accuracy = 0.0239\n"
     ]
    },
    {
     "name": "stderr",
     "output_type": "stream",
     "text": [
      "WARNING:absl:Found untraced functions such as gru_cell_layer_call_fn, gru_cell_layer_call_and_return_conditional_losses, gru_cell_1_layer_call_fn, gru_cell_1_layer_call_and_return_conditional_losses, gru_cell_2_layer_call_fn while saving (showing 5 of 12). These functions will not be directly callable after loading.\n"
     ]
    },
    {
     "name": "stdout",
     "output_type": "stream",
     "text": [
      "INFO:tensorflow:Assets written to: D:\\DL\\wandb\\run-20250515_173241-f25m9dz9\\files\\model-best\\assets\n"
     ]
    },
    {
     "name": "stderr",
     "output_type": "stream",
     "text": [
      "INFO:tensorflow:Assets written to: D:\\DL\\wandb\\run-20250515_173241-f25m9dz9\\files\\model-best\\assets\n",
      "wandb: Adding directory to artifact (D:\\DL\\wandb\\run-20250515_173241-f25m9dz9\\files\\model-best)... Done. 0.0s\n"
     ]
    },
    {
     "name": "stdout",
     "output_type": "stream",
     "text": [
      "1582/1582 [==============================] - 38s 24ms/step - loss: 0.4630 - accuracy: 0.8583 - val_loss: 0.4219 - val_accuracy: 0.8719 - WordAccuracy: 0.0239\n",
      "Epoch 7/10\n",
      "1579/1582 [============================>.] - ETA: 0s - loss: 0.4168 - accuracy: 0.8714\n",
      "Epoch 7: Word-level Accuracy = 0.0374\n"
     ]
    },
    {
     "name": "stderr",
     "output_type": "stream",
     "text": [
      "WARNING:absl:Found untraced functions such as gru_cell_layer_call_fn, gru_cell_layer_call_and_return_conditional_losses, gru_cell_1_layer_call_fn, gru_cell_1_layer_call_and_return_conditional_losses, gru_cell_2_layer_call_fn while saving (showing 5 of 12). These functions will not be directly callable after loading.\n"
     ]
    },
    {
     "name": "stdout",
     "output_type": "stream",
     "text": [
      "INFO:tensorflow:Assets written to: D:\\DL\\wandb\\run-20250515_173241-f25m9dz9\\files\\model-best\\assets\n"
     ]
    },
    {
     "name": "stderr",
     "output_type": "stream",
     "text": [
      "INFO:tensorflow:Assets written to: D:\\DL\\wandb\\run-20250515_173241-f25m9dz9\\files\\model-best\\assets\n",
      "wandb: Adding directory to artifact (D:\\DL\\wandb\\run-20250515_173241-f25m9dz9\\files\\model-best)... Done. 0.0s\n"
     ]
    },
    {
     "name": "stdout",
     "output_type": "stream",
     "text": [
      "1582/1582 [==============================] - 35s 22ms/step - loss: 0.4168 - accuracy: 0.8714 - val_loss: 0.3823 - val_accuracy: 0.8827 - WordAccuracy: 0.0374\n",
      "Epoch 8/10\n",
      "1582/1582 [==============================] - ETA: 0s - loss: 0.3819 - accuracy: 0.8811\n",
      "Epoch 8: Word-level Accuracy = 0.0541\n"
     ]
    },
    {
     "name": "stderr",
     "output_type": "stream",
     "text": [
      "WARNING:absl:Found untraced functions such as gru_cell_layer_call_fn, gru_cell_layer_call_and_return_conditional_losses, gru_cell_1_layer_call_fn, gru_cell_1_layer_call_and_return_conditional_losses, gru_cell_2_layer_call_fn while saving (showing 5 of 12). These functions will not be directly callable after loading.\n"
     ]
    },
    {
     "name": "stdout",
     "output_type": "stream",
     "text": [
      "INFO:tensorflow:Assets written to: D:\\DL\\wandb\\run-20250515_173241-f25m9dz9\\files\\model-best\\assets\n"
     ]
    },
    {
     "name": "stderr",
     "output_type": "stream",
     "text": [
      "INFO:tensorflow:Assets written to: D:\\DL\\wandb\\run-20250515_173241-f25m9dz9\\files\\model-best\\assets\n",
      "wandb: Adding directory to artifact (D:\\DL\\wandb\\run-20250515_173241-f25m9dz9\\files\\model-best)... Done. 0.0s\n"
     ]
    },
    {
     "name": "stdout",
     "output_type": "stream",
     "text": [
      "1582/1582 [==============================] - 36s 23ms/step - loss: 0.3819 - accuracy: 0.8811 - val_loss: 0.3546 - val_accuracy: 0.8888 - WordAccuracy: 0.0541\n",
      "Epoch 9/10\n",
      "1581/1582 [============================>.] - ETA: 0s - loss: 0.3558 - accuracy: 0.8887\n",
      "Epoch 9: Word-level Accuracy = 0.0716\n"
     ]
    },
    {
     "name": "stderr",
     "output_type": "stream",
     "text": [
      "WARNING:absl:Found untraced functions such as gru_cell_layer_call_fn, gru_cell_layer_call_and_return_conditional_losses, gru_cell_1_layer_call_fn, gru_cell_1_layer_call_and_return_conditional_losses, gru_cell_2_layer_call_fn while saving (showing 5 of 12). These functions will not be directly callable after loading.\n"
     ]
    },
    {
     "name": "stdout",
     "output_type": "stream",
     "text": [
      "INFO:tensorflow:Assets written to: D:\\DL\\wandb\\run-20250515_173241-f25m9dz9\\files\\model-best\\assets\n"
     ]
    },
    {
     "name": "stderr",
     "output_type": "stream",
     "text": [
      "INFO:tensorflow:Assets written to: D:\\DL\\wandb\\run-20250515_173241-f25m9dz9\\files\\model-best\\assets\n",
      "wandb: Adding directory to artifact (D:\\DL\\wandb\\run-20250515_173241-f25m9dz9\\files\\model-best)... Done. 0.0s\n"
     ]
    },
    {
     "name": "stdout",
     "output_type": "stream",
     "text": [
      "1582/1582 [==============================] - 37s 23ms/step - loss: 0.3558 - accuracy: 0.8887 - val_loss: 0.3358 - val_accuracy: 0.8952 - WordAccuracy: 0.0716\n",
      "Epoch 10/10\n",
      "1580/1582 [============================>.] - ETA: 0s - loss: 0.3338 - accuracy: 0.8951\n",
      "Epoch 10: Word-level Accuracy = 0.0788\n"
     ]
    },
    {
     "name": "stderr",
     "output_type": "stream",
     "text": [
      "WARNING:absl:Found untraced functions such as gru_cell_layer_call_fn, gru_cell_layer_call_and_return_conditional_losses, gru_cell_1_layer_call_fn, gru_cell_1_layer_call_and_return_conditional_losses, gru_cell_2_layer_call_fn while saving (showing 5 of 12). These functions will not be directly callable after loading.\n"
     ]
    },
    {
     "name": "stdout",
     "output_type": "stream",
     "text": [
      "INFO:tensorflow:Assets written to: D:\\DL\\wandb\\run-20250515_173241-f25m9dz9\\files\\model-best\\assets\n"
     ]
    },
    {
     "name": "stderr",
     "output_type": "stream",
     "text": [
      "INFO:tensorflow:Assets written to: D:\\DL\\wandb\\run-20250515_173241-f25m9dz9\\files\\model-best\\assets\n",
      "wandb: Adding directory to artifact (D:\\DL\\wandb\\run-20250515_173241-f25m9dz9\\files\\model-best)... Done. 0.0s\n"
     ]
    },
    {
     "name": "stdout",
     "output_type": "stream",
     "text": [
      "1582/1582 [==============================] - 38s 24ms/step - loss: 0.3338 - accuracy: 0.8951 - val_loss: 0.3226 - val_accuracy: 0.8992 - WordAccuracy: 0.0788\n"
     ]
    },
    {
     "data": {
      "application/vnd.jupyter.widget-view+json": {
       "model_id": "c1c81ae169384b7da53259c59bc67055",
       "version_major": 2,
       "version_minor": 0
      },
      "text/plain": [
       "VBox(children=(Label(value='95.657 MB of 95.657 MB uploaded (0.344 MB deduped)\\r'), FloatProgress(value=1.0, m…"
      ]
     },
     "metadata": {},
     "output_type": "display_data"
    },
    {
     "data": {
      "text/html": [
       "<style>\n",
       "    table.wandb td:nth-child(1) { padding: 0 10px; text-align: left ; width: auto;} td:nth-child(2) {text-align: left ; width: 100%}\n",
       "    .wandb-row { display: flex; flex-direction: row; flex-wrap: wrap; justify-content: flex-start; width: 100% }\n",
       "    .wandb-col { display: flex; flex-direction: column; flex-basis: 100%; flex: 1; padding: 10px; }\n",
       "    </style>\n",
       "<div class=\"wandb-row\"><div class=\"wandb-col\"><h3>Run history:</h3><br/><table class=\"wandb\"><tr><td>Val_WordAccuracy</td><td>▁▁▁▂▂▃▄▆▇█</td></tr><tr><td>WordAccuracy</td><td>▁▁▁▂▂▃▄▆▇█</td></tr><tr><td>accuracy</td><td>▁▃▄▅▆▆▇▇██</td></tr><tr><td>epoch</td><td>▂▁▂▂▃▂▄▃▅▄▅▅▆▅▇▆▇▇█▇</td></tr><tr><td>loss</td><td>█▆▅▄▃▂▂▁▁▁</td></tr><tr><td>val_accuracy</td><td>▁▂▄▅▆▇▇▇██</td></tr><tr><td>val_loss</td><td>█▇▅▄▃▂▂▁▁▁</td></tr></table><br/></div><div class=\"wandb-col\"><h3>Run summary:</h3><br/><table class=\"wandb\"><tr><td>Val_WordAccuracy</td><td>0.07877</td></tr><tr><td>WordAccuracy</td><td>0.07877</td></tr><tr><td>accuracy</td><td>0.89513</td></tr><tr><td>best_epoch</td><td>9</td></tr><tr><td>best_val_loss</td><td>0.32264</td></tr><tr><td>epoch</td><td>9</td></tr><tr><td>loss</td><td>0.33377</td></tr><tr><td>val_accuracy</td><td>0.89924</td></tr><tr><td>val_loss</td><td>0.32264</td></tr></table><br/></div></div>"
      ],
      "text/plain": [
       "<IPython.core.display.HTML object>"
      ]
     },
     "metadata": {},
     "output_type": "display_data"
    },
    {
     "data": {
      "text/html": [
       " View run <strong style=\"color:#cdcd00\">frosty-sweep-2</strong> at: <a href='https://wandb.ai/manoj_da24s018-iit-madras/Transliterator_HyperParameterSweep/runs/f25m9dz9' target=\"_blank\">https://wandb.ai/manoj_da24s018-iit-madras/Transliterator_HyperParameterSweep/runs/f25m9dz9</a><br/> View project at: <a href='https://wandb.ai/manoj_da24s018-iit-madras/Transliterator_HyperParameterSweep' target=\"_blank\">https://wandb.ai/manoj_da24s018-iit-madras/Transliterator_HyperParameterSweep</a><br/>Synced 5 W&B file(s), 1 media file(s), 40 artifact file(s) and 1 other file(s)"
      ],
      "text/plain": [
       "<IPython.core.display.HTML object>"
      ]
     },
     "metadata": {},
     "output_type": "display_data"
    },
    {
     "data": {
      "text/html": [
       "Find logs at: <code>.\\wandb\\run-20250515_173241-f25m9dz9\\logs</code>"
      ],
      "text/plain": [
       "<IPython.core.display.HTML object>"
      ]
     },
     "metadata": {},
     "output_type": "display_data"
    },
    {
     "name": "stderr",
     "output_type": "stream",
     "text": [
      "wandb: Agent Starting Run: zreha5nq with config:\n",
      "wandb: \tcell_type: lstm\n",
      "wandb: \tchar_embedding_dim: 32\n",
      "wandb: \tdecoder_layers: 1\n",
      "wandb: \tdropout: 0.2\n",
      "wandb: \tencoder_layers: 3\n",
      "wandb: \thidden_state_dim: 512\n"
     ]
    },
    {
     "data": {
      "text/html": [
       "wandb version 0.19.11 is available!  To upgrade, please run:\n",
       " $ pip install wandb --upgrade"
      ],
      "text/plain": [
       "<IPython.core.display.HTML object>"
      ]
     },
     "metadata": {},
     "output_type": "display_data"
    },
    {
     "data": {
      "text/html": [
       "Tracking run with wandb version 0.16.6"
      ],
      "text/plain": [
       "<IPython.core.display.HTML object>"
      ]
     },
     "metadata": {},
     "output_type": "display_data"
    },
    {
     "data": {
      "text/html": [
       "Run data is saved locally in <code>D:\\DL\\wandb\\run-20250515_173918-zreha5nq</code>"
      ],
      "text/plain": [
       "<IPython.core.display.HTML object>"
      ]
     },
     "metadata": {},
     "output_type": "display_data"
    },
    {
     "data": {
      "text/html": [
       "Syncing run <strong><a href='https://wandb.ai/manoj_da24s018-iit-madras/Transliterator_HyperParameterSweep/runs/zreha5nq' target=\"_blank\">upbeat-sweep-3</a></strong> to <a href='https://wandb.ai/manoj_da24s018-iit-madras/Transliterator_HyperParameterSweep' target=\"_blank\">Weights & Biases</a> (<a href='https://wandb.me/run' target=\"_blank\">docs</a>)<br/>Sweep page: <a href='https://wandb.ai/manoj_da24s018-iit-madras/Transliterator_HyperParameterSweep/sweeps/fjtuyyfs' target=\"_blank\">https://wandb.ai/manoj_da24s018-iit-madras/Transliterator_HyperParameterSweep/sweeps/fjtuyyfs</a>"
      ],
      "text/plain": [
       "<IPython.core.display.HTML object>"
      ]
     },
     "metadata": {},
     "output_type": "display_data"
    },
    {
     "data": {
      "text/html": [
       " View project at <a href='https://wandb.ai/manoj_da24s018-iit-madras/Transliterator_HyperParameterSweep' target=\"_blank\">https://wandb.ai/manoj_da24s018-iit-madras/Transliterator_HyperParameterSweep</a>"
      ],
      "text/plain": [
       "<IPython.core.display.HTML object>"
      ]
     },
     "metadata": {},
     "output_type": "display_data"
    },
    {
     "data": {
      "text/html": [
       " View sweep at <a href='https://wandb.ai/manoj_da24s018-iit-madras/Transliterator_HyperParameterSweep/sweeps/fjtuyyfs' target=\"_blank\">https://wandb.ai/manoj_da24s018-iit-madras/Transliterator_HyperParameterSweep/sweeps/fjtuyyfs</a>"
      ],
      "text/plain": [
       "<IPython.core.display.HTML object>"
      ]
     },
     "metadata": {},
     "output_type": "display_data"
    },
    {
     "data": {
      "text/html": [
       " View run at <a href='https://wandb.ai/manoj_da24s018-iit-madras/Transliterator_HyperParameterSweep/runs/zreha5nq' target=\"_blank\">https://wandb.ai/manoj_da24s018-iit-madras/Transliterator_HyperParameterSweep/runs/zreha5nq</a>"
      ],
      "text/plain": [
       "<IPython.core.display.HTML object>"
      ]
     },
     "metadata": {},
     "output_type": "display_data"
    },
    {
     "name": "stdout",
     "output_type": "stream",
     "text": [
      "Sweep Name:  RNN Layer Type: lstm, Character_Embedding_dim: 32, Hidden_dim:512, Num_Encoder_Layer:3, Num_Decoder_Layer:1, Dropout:0.2\n",
      "Epoch 1/10\n",
      "1580/1582 [============================>.] - ETA: 0s - loss: 0.8753 - accuracy: 0.7585\n",
      "Epoch 1: Word-level Accuracy = 0.0000\n"
     ]
    },
    {
     "name": "stderr",
     "output_type": "stream",
     "text": [
      "WARNING:absl:Found untraced functions such as lstm_cell_layer_call_fn, lstm_cell_layer_call_and_return_conditional_losses, lstm_cell_1_layer_call_fn, lstm_cell_1_layer_call_and_return_conditional_losses, lstm_cell_2_layer_call_fn while saving (showing 5 of 8). These functions will not be directly callable after loading.\n"
     ]
    },
    {
     "name": "stdout",
     "output_type": "stream",
     "text": [
      "INFO:tensorflow:Assets written to: D:\\DL\\wandb\\run-20250515_173918-zreha5nq\\files\\model-best\\assets\n"
     ]
    },
    {
     "name": "stderr",
     "output_type": "stream",
     "text": [
      "INFO:tensorflow:Assets written to: D:\\DL\\wandb\\run-20250515_173918-zreha5nq\\files\\model-best\\assets\n",
      "wandb: Adding directory to artifact (D:\\DL\\wandb\\run-20250515_173918-zreha5nq\\files\\model-best)... Done. 0.1s\n"
     ]
    },
    {
     "name": "stdout",
     "output_type": "stream",
     "text": [
      "1582/1582 [==============================] - 40s 23ms/step - loss: 0.8751 - accuracy: 0.7585 - val_loss: 0.6928 - val_accuracy: 0.8038 - WordAccuracy: 0.0000e+00\n",
      "Epoch 2/10\n",
      "1578/1582 [============================>.] - ETA: 0s - loss: 0.5388 - accuracy: 0.8442\n",
      "Epoch 2: Word-level Accuracy = 0.0105\n"
     ]
    },
    {
     "name": "stderr",
     "output_type": "stream",
     "text": [
      "WARNING:absl:Found untraced functions such as lstm_cell_layer_call_fn, lstm_cell_layer_call_and_return_conditional_losses, lstm_cell_1_layer_call_fn, lstm_cell_1_layer_call_and_return_conditional_losses, lstm_cell_2_layer_call_fn while saving (showing 5 of 8). These functions will not be directly callable after loading.\n"
     ]
    },
    {
     "name": "stdout",
     "output_type": "stream",
     "text": [
      "INFO:tensorflow:Assets written to: D:\\DL\\wandb\\run-20250515_173918-zreha5nq\\files\\model-best\\assets\n"
     ]
    },
    {
     "name": "stderr",
     "output_type": "stream",
     "text": [
      "INFO:tensorflow:Assets written to: D:\\DL\\wandb\\run-20250515_173918-zreha5nq\\files\\model-best\\assets\n",
      "wandb: Adding directory to artifact (D:\\DL\\wandb\\run-20250515_173918-zreha5nq\\files\\model-best)... Done. 0.2s\n"
     ]
    },
    {
     "name": "stdout",
     "output_type": "stream",
     "text": [
      "1582/1582 [==============================] - 34s 22ms/step - loss: 0.5385 - accuracy: 0.8443 - val_loss: 0.4202 - val_accuracy: 0.8767 - WordAccuracy: 0.0105\n",
      "Epoch 3/10\n",
      "1582/1582 [==============================] - ETA: 0s - loss: 0.2605 - accuracy: 0.9237\n",
      "Epoch 3: Word-level Accuracy = 0.2009\n"
     ]
    },
    {
     "name": "stderr",
     "output_type": "stream",
     "text": [
      "WARNING:absl:Found untraced functions such as lstm_cell_layer_call_fn, lstm_cell_layer_call_and_return_conditional_losses, lstm_cell_1_layer_call_fn, lstm_cell_1_layer_call_and_return_conditional_losses, lstm_cell_2_layer_call_fn while saving (showing 5 of 8). These functions will not be directly callable after loading.\n"
     ]
    },
    {
     "name": "stdout",
     "output_type": "stream",
     "text": [
      "INFO:tensorflow:Assets written to: D:\\DL\\wandb\\run-20250515_173918-zreha5nq\\files\\model-best\\assets\n"
     ]
    },
    {
     "name": "stderr",
     "output_type": "stream",
     "text": [
      "INFO:tensorflow:Assets written to: D:\\DL\\wandb\\run-20250515_173918-zreha5nq\\files\\model-best\\assets\n",
      "wandb: Adding directory to artifact (D:\\DL\\wandb\\run-20250515_173918-zreha5nq\\files\\model-best)... Done. 0.2s\n"
     ]
    },
    {
     "name": "stdout",
     "output_type": "stream",
     "text": [
      "1582/1582 [==============================] - 35s 22ms/step - loss: 0.2605 - accuracy: 0.9237 - val_loss: 0.2212 - val_accuracy: 0.9339 - WordAccuracy: 0.2009\n",
      "Epoch 4/10\n",
      "1581/1582 [============================>.] - ETA: 0s - loss: 0.1265 - accuracy: 0.9629\n",
      "Epoch 4: Word-level Accuracy = 0.3326\n"
     ]
    },
    {
     "name": "stderr",
     "output_type": "stream",
     "text": [
      "WARNING:absl:Found untraced functions such as lstm_cell_layer_call_fn, lstm_cell_layer_call_and_return_conditional_losses, lstm_cell_1_layer_call_fn, lstm_cell_1_layer_call_and_return_conditional_losses, lstm_cell_2_layer_call_fn while saving (showing 5 of 8). These functions will not be directly callable after loading.\n"
     ]
    },
    {
     "name": "stdout",
     "output_type": "stream",
     "text": [
      "INFO:tensorflow:Assets written to: D:\\DL\\wandb\\run-20250515_173918-zreha5nq\\files\\model-best\\assets\n"
     ]
    },
    {
     "name": "stderr",
     "output_type": "stream",
     "text": [
      "INFO:tensorflow:Assets written to: D:\\DL\\wandb\\run-20250515_173918-zreha5nq\\files\\model-best\\assets\n",
      "wandb: Adding directory to artifact (D:\\DL\\wandb\\run-20250515_173918-zreha5nq\\files\\model-best)... Done. 0.2s\n"
     ]
    },
    {
     "name": "stdout",
     "output_type": "stream",
     "text": [
      "1582/1582 [==============================] - 31s 20ms/step - loss: 0.1265 - accuracy: 0.9629 - val_loss: 0.1557 - val_accuracy: 0.9533 - WordAccuracy: 0.3326\n",
      "Epoch 5/10\n",
      "1582/1582 [==============================] - ETA: 0s - loss: 0.0748 - accuracy: 0.9776\n",
      "Epoch 5: Word-level Accuracy = 0.4002\n"
     ]
    },
    {
     "name": "stderr",
     "output_type": "stream",
     "text": [
      "WARNING:absl:Found untraced functions such as lstm_cell_layer_call_fn, lstm_cell_layer_call_and_return_conditional_losses, lstm_cell_1_layer_call_fn, lstm_cell_1_layer_call_and_return_conditional_losses, lstm_cell_2_layer_call_fn while saving (showing 5 of 8). These functions will not be directly callable after loading.\n"
     ]
    },
    {
     "name": "stdout",
     "output_type": "stream",
     "text": [
      "INFO:tensorflow:Assets written to: D:\\DL\\wandb\\run-20250515_173918-zreha5nq\\files\\model-best\\assets\n"
     ]
    },
    {
     "name": "stderr",
     "output_type": "stream",
     "text": [
      "INFO:tensorflow:Assets written to: D:\\DL\\wandb\\run-20250515_173918-zreha5nq\\files\\model-best\\assets\n",
      "wandb: Adding directory to artifact (D:\\DL\\wandb\\run-20250515_173918-zreha5nq\\files\\model-best)... Done. 0.2s\n"
     ]
    },
    {
     "name": "stdout",
     "output_type": "stream",
     "text": [
      "1582/1582 [==============================] - 35s 22ms/step - loss: 0.0748 - accuracy: 0.9776 - val_loss: 0.1342 - val_accuracy: 0.9600 - WordAccuracy: 0.4002\n",
      "Epoch 6/10\n",
      "1581/1582 [============================>.] - ETA: 0s - loss: 0.0537 - accuracy: 0.9839\n",
      "Epoch 6: Word-level Accuracy = 0.3965\n"
     ]
    },
    {
     "name": "stderr",
     "output_type": "stream",
     "text": [
      "WARNING:absl:Found untraced functions such as lstm_cell_layer_call_fn, lstm_cell_layer_call_and_return_conditional_losses, lstm_cell_1_layer_call_fn, lstm_cell_1_layer_call_and_return_conditional_losses, lstm_cell_2_layer_call_fn while saving (showing 5 of 8). These functions will not be directly callable after loading.\n"
     ]
    },
    {
     "name": "stdout",
     "output_type": "stream",
     "text": [
      "INFO:tensorflow:Assets written to: D:\\DL\\wandb\\run-20250515_173918-zreha5nq\\files\\model-best\\assets\n"
     ]
    },
    {
     "name": "stderr",
     "output_type": "stream",
     "text": [
      "INFO:tensorflow:Assets written to: D:\\DL\\wandb\\run-20250515_173918-zreha5nq\\files\\model-best\\assets\n",
      "wandb: Adding directory to artifact (D:\\DL\\wandb\\run-20250515_173918-zreha5nq\\files\\model-best)... Done. 0.1s\n"
     ]
    },
    {
     "name": "stdout",
     "output_type": "stream",
     "text": [
      "1582/1582 [==============================] - 34s 22ms/step - loss: 0.0537 - accuracy: 0.9839 - val_loss: 0.1335 - val_accuracy: 0.9613 - WordAccuracy: 0.3965\n",
      "Epoch 7/10\n",
      "1582/1582 [==============================] - ETA: 0s - loss: 0.0411 - accuracy: 0.9875\n",
      "Epoch 7: Word-level Accuracy = 0.4195\n"
     ]
    },
    {
     "name": "stderr",
     "output_type": "stream",
     "text": [
      "WARNING:absl:Found untraced functions such as lstm_cell_layer_call_fn, lstm_cell_layer_call_and_return_conditional_losses, lstm_cell_1_layer_call_fn, lstm_cell_1_layer_call_and_return_conditional_losses, lstm_cell_2_layer_call_fn while saving (showing 5 of 8). These functions will not be directly callable after loading.\n"
     ]
    },
    {
     "name": "stdout",
     "output_type": "stream",
     "text": [
      "INFO:tensorflow:Assets written to: D:\\DL\\wandb\\run-20250515_173918-zreha5nq\\files\\model-best\\assets\n"
     ]
    },
    {
     "name": "stderr",
     "output_type": "stream",
     "text": [
      "INFO:tensorflow:Assets written to: D:\\DL\\wandb\\run-20250515_173918-zreha5nq\\files\\model-best\\assets\n",
      "wandb: Adding directory to artifact (D:\\DL\\wandb\\run-20250515_173918-zreha5nq\\files\\model-best)... Done. 0.2s\n"
     ]
    },
    {
     "name": "stdout",
     "output_type": "stream",
     "text": [
      "1582/1582 [==============================] - 35s 22ms/step - loss: 0.0411 - accuracy: 0.9875 - val_loss: 0.1321 - val_accuracy: 0.9630 - WordAccuracy: 0.4195\n",
      "Epoch 8/10\n",
      "1580/1582 [============================>.] - ETA: 0s - loss: 0.0340 - accuracy: 0.9897\n",
      "Epoch 8: Word-level Accuracy = 0.4237\n",
      "1582/1582 [==============================] - 25s 16ms/step - loss: 0.0340 - accuracy: 0.9897 - val_loss: 0.1372 - val_accuracy: 0.9632 - WordAccuracy: 0.4237\n",
      "Epoch 9/10\n",
      "1582/1582 [==============================] - ETA: 0s - loss: 0.0285 - accuracy: 0.9912\n",
      "Epoch 9: Word-level Accuracy = 0.4307\n"
     ]
    },
    {
     "name": "stderr",
     "output_type": "stream",
     "text": [
      "WARNING:absl:Found untraced functions such as lstm_cell_layer_call_fn, lstm_cell_layer_call_and_return_conditional_losses, lstm_cell_1_layer_call_fn, lstm_cell_1_layer_call_and_return_conditional_losses, lstm_cell_2_layer_call_fn while saving (showing 5 of 8). These functions will not be directly callable after loading.\n"
     ]
    },
    {
     "name": "stdout",
     "output_type": "stream",
     "text": [
      "INFO:tensorflow:Assets written to: D:\\DL\\wandb\\run-20250515_173918-zreha5nq\\files\\model-best\\assets\n"
     ]
    },
    {
     "name": "stderr",
     "output_type": "stream",
     "text": [
      "INFO:tensorflow:Assets written to: D:\\DL\\wandb\\run-20250515_173918-zreha5nq\\files\\model-best\\assets\n",
      "wandb: Adding directory to artifact (D:\\DL\\wandb\\run-20250515_173918-zreha5nq\\files\\model-best)... Done. 0.2s\n"
     ]
    },
    {
     "name": "stdout",
     "output_type": "stream",
     "text": [
      "1582/1582 [==============================] - 34s 21ms/step - loss: 0.0285 - accuracy: 0.9912 - val_loss: 0.1305 - val_accuracy: 0.9642 - WordAccuracy: 0.4307\n",
      "Epoch 10/10\n",
      "1582/1582 [==============================] - ETA: 0s - loss: 0.0245 - accuracy: 0.9925\n",
      "Epoch 10: Word-level Accuracy = 0.4452\n",
      "1582/1582 [==============================] - 26s 16ms/step - loss: 0.0245 - accuracy: 0.9925 - val_loss: 0.1351 - val_accuracy: 0.9648 - WordAccuracy: 0.4452\n"
     ]
    },
    {
     "data": {
      "application/vnd.jupyter.widget-view+json": {
       "model_id": "e6d0a7197128405fa7ac9145da1f2c05",
       "version_major": 2,
       "version_minor": 0
      },
      "text/plain": [
       "VBox(children=(Label(value='615.441 MB of 615.441 MB uploaded (0.207 MB deduped)\\r'), FloatProgress(value=1.0,…"
      ]
     },
     "metadata": {},
     "output_type": "display_data"
    },
    {
     "data": {
      "text/html": [
       "<style>\n",
       "    table.wandb td:nth-child(1) { padding: 0 10px; text-align: left ; width: auto;} td:nth-child(2) {text-align: left ; width: 100%}\n",
       "    .wandb-row { display: flex; flex-direction: row; flex-wrap: wrap; justify-content: flex-start; width: 100% }\n",
       "    .wandb-col { display: flex; flex-direction: column; flex-basis: 100%; flex: 1; padding: 10px; }\n",
       "    </style>\n",
       "<div class=\"wandb-row\"><div class=\"wandb-col\"><h3>Run history:</h3><br/><table class=\"wandb\"><tr><td>Val_WordAccuracy</td><td>▁▁▄▆▇▇████</td></tr><tr><td>WordAccuracy</td><td>▁▁▄▆▇▇████</td></tr><tr><td>accuracy</td><td>▁▄▆▇██████</td></tr><tr><td>epoch</td><td>▂▁▂▂▃▂▄▃▅▄▅▅▆▅▇▆▇▇█▇</td></tr><tr><td>loss</td><td>█▅▃▂▁▁▁▁▁▁</td></tr><tr><td>val_accuracy</td><td>▁▄▇███████</td></tr><tr><td>val_loss</td><td>█▅▂▁▁▁▁▁▁▁</td></tr></table><br/></div><div class=\"wandb-col\"><h3>Run summary:</h3><br/><table class=\"wandb\"><tr><td>Val_WordAccuracy</td><td>0.4452</td></tr><tr><td>WordAccuracy</td><td>0.4452</td></tr><tr><td>accuracy</td><td>0.99248</td></tr><tr><td>best_epoch</td><td>8</td></tr><tr><td>best_val_loss</td><td>0.13053</td></tr><tr><td>epoch</td><td>9</td></tr><tr><td>loss</td><td>0.02453</td></tr><tr><td>val_accuracy</td><td>0.96476</td></tr><tr><td>val_loss</td><td>0.13511</td></tr></table><br/></div></div>"
      ],
      "text/plain": [
       "<IPython.core.display.HTML object>"
      ]
     },
     "metadata": {},
     "output_type": "display_data"
    },
    {
     "data": {
      "text/html": [
       " View run <strong style=\"color:#cdcd00\">upbeat-sweep-3</strong> at: <a href='https://wandb.ai/manoj_da24s018-iit-madras/Transliterator_HyperParameterSweep/runs/zreha5nq' target=\"_blank\">https://wandb.ai/manoj_da24s018-iit-madras/Transliterator_HyperParameterSweep/runs/zreha5nq</a><br/> View project at: <a href='https://wandb.ai/manoj_da24s018-iit-madras/Transliterator_HyperParameterSweep' target=\"_blank\">https://wandb.ai/manoj_da24s018-iit-madras/Transliterator_HyperParameterSweep</a><br/>Synced 5 W&B file(s), 1 media file(s), 32 artifact file(s) and 1 other file(s)"
      ],
      "text/plain": [
       "<IPython.core.display.HTML object>"
      ]
     },
     "metadata": {},
     "output_type": "display_data"
    },
    {
     "data": {
      "text/html": [
       "Find logs at: <code>.\\wandb\\run-20250515_173918-zreha5nq\\logs</code>"
      ],
      "text/plain": [
       "<IPython.core.display.HTML object>"
      ]
     },
     "metadata": {},
     "output_type": "display_data"
    },
    {
     "name": "stderr",
     "output_type": "stream",
     "text": [
      "wandb: Agent Starting Run: 6ehfhafp with config:\n",
      "wandb: \tcell_type: lstm\n",
      "wandb: \tchar_embedding_dim: 16\n",
      "wandb: \tdecoder_layers: 1\n",
      "wandb: \tdropout: 0.2\n",
      "wandb: \tencoder_layers: 2\n",
      "wandb: \thidden_state_dim: 128\n"
     ]
    },
    {
     "data": {
      "text/html": [
       "wandb version 0.19.11 is available!  To upgrade, please run:\n",
       " $ pip install wandb --upgrade"
      ],
      "text/plain": [
       "<IPython.core.display.HTML object>"
      ]
     },
     "metadata": {},
     "output_type": "display_data"
    },
    {
     "data": {
      "text/html": [
       "Tracking run with wandb version 0.16.6"
      ],
      "text/plain": [
       "<IPython.core.display.HTML object>"
      ]
     },
     "metadata": {},
     "output_type": "display_data"
    },
    {
     "data": {
      "text/html": [
       "Run data is saved locally in <code>D:\\DL\\wandb\\run-20250515_174507-6ehfhafp</code>"
      ],
      "text/plain": [
       "<IPython.core.display.HTML object>"
      ]
     },
     "metadata": {},
     "output_type": "display_data"
    },
    {
     "data": {
      "text/html": [
       "Syncing run <strong><a href='https://wandb.ai/manoj_da24s018-iit-madras/Transliterator_HyperParameterSweep/runs/6ehfhafp' target=\"_blank\">classic-sweep-4</a></strong> to <a href='https://wandb.ai/manoj_da24s018-iit-madras/Transliterator_HyperParameterSweep' target=\"_blank\">Weights & Biases</a> (<a href='https://wandb.me/run' target=\"_blank\">docs</a>)<br/>Sweep page: <a href='https://wandb.ai/manoj_da24s018-iit-madras/Transliterator_HyperParameterSweep/sweeps/fjtuyyfs' target=\"_blank\">https://wandb.ai/manoj_da24s018-iit-madras/Transliterator_HyperParameterSweep/sweeps/fjtuyyfs</a>"
      ],
      "text/plain": [
       "<IPython.core.display.HTML object>"
      ]
     },
     "metadata": {},
     "output_type": "display_data"
    },
    {
     "data": {
      "text/html": [
       " View project at <a href='https://wandb.ai/manoj_da24s018-iit-madras/Transliterator_HyperParameterSweep' target=\"_blank\">https://wandb.ai/manoj_da24s018-iit-madras/Transliterator_HyperParameterSweep</a>"
      ],
      "text/plain": [
       "<IPython.core.display.HTML object>"
      ]
     },
     "metadata": {},
     "output_type": "display_data"
    },
    {
     "data": {
      "text/html": [
       " View sweep at <a href='https://wandb.ai/manoj_da24s018-iit-madras/Transliterator_HyperParameterSweep/sweeps/fjtuyyfs' target=\"_blank\">https://wandb.ai/manoj_da24s018-iit-madras/Transliterator_HyperParameterSweep/sweeps/fjtuyyfs</a>"
      ],
      "text/plain": [
       "<IPython.core.display.HTML object>"
      ]
     },
     "metadata": {},
     "output_type": "display_data"
    },
    {
     "data": {
      "text/html": [
       " View run at <a href='https://wandb.ai/manoj_da24s018-iit-madras/Transliterator_HyperParameterSweep/runs/6ehfhafp' target=\"_blank\">https://wandb.ai/manoj_da24s018-iit-madras/Transliterator_HyperParameterSweep/runs/6ehfhafp</a>"
      ],
      "text/plain": [
       "<IPython.core.display.HTML object>"
      ]
     },
     "metadata": {},
     "output_type": "display_data"
    },
    {
     "name": "stdout",
     "output_type": "stream",
     "text": [
      "Sweep Name:  RNN Layer Type: lstm, Character_Embedding_dim: 16, Hidden_dim:128, Num_Encoder_Layer:2, Num_Decoder_Layer:1, Dropout:0.2\n",
      "Epoch 1/10\n",
      "1579/1582 [============================>.] - ETA: 0s - loss: 1.0482 - accuracy: 0.7174\n",
      "Epoch 1: Word-level Accuracy = 0.0000\n"
     ]
    },
    {
     "name": "stderr",
     "output_type": "stream",
     "text": [
      "WARNING:absl:Found untraced functions such as lstm_cell_layer_call_fn, lstm_cell_layer_call_and_return_conditional_losses, lstm_cell_1_layer_call_fn, lstm_cell_1_layer_call_and_return_conditional_losses, lstm_cell_2_layer_call_fn while saving (showing 5 of 6). These functions will not be directly callable after loading.\n"
     ]
    },
    {
     "name": "stdout",
     "output_type": "stream",
     "text": [
      "INFO:tensorflow:Assets written to: D:\\DL\\wandb\\run-20250515_174507-6ehfhafp\\files\\model-best\\assets\n"
     ]
    },
    {
     "name": "stderr",
     "output_type": "stream",
     "text": [
      "INFO:tensorflow:Assets written to: D:\\DL\\wandb\\run-20250515_174507-6ehfhafp\\files\\model-best\\assets\n",
      "wandb: Adding directory to artifact (D:\\DL\\wandb\\run-20250515_174507-6ehfhafp\\files\\model-best)... Done. 0.0s\n"
     ]
    },
    {
     "name": "stdout",
     "output_type": "stream",
     "text": [
      "1582/1582 [==============================] - 31s 18ms/step - loss: 1.0481 - accuracy: 0.7174 - val_loss: 0.8975 - val_accuracy: 0.7491 - WordAccuracy: 0.0000e+00\n",
      "Epoch 2/10\n",
      "1579/1582 [============================>.] - ETA: 0s - loss: 0.8677 - accuracy: 0.7559\n",
      "Epoch 2: Word-level Accuracy = 0.0000\n"
     ]
    },
    {
     "name": "stderr",
     "output_type": "stream",
     "text": [
      "WARNING:absl:Found untraced functions such as lstm_cell_layer_call_fn, lstm_cell_layer_call_and_return_conditional_losses, lstm_cell_1_layer_call_fn, lstm_cell_1_layer_call_and_return_conditional_losses, lstm_cell_2_layer_call_fn while saving (showing 5 of 6). These functions will not be directly callable after loading.\n"
     ]
    },
    {
     "name": "stdout",
     "output_type": "stream",
     "text": [
      "INFO:tensorflow:Assets written to: D:\\DL\\wandb\\run-20250515_174507-6ehfhafp\\files\\model-best\\assets\n"
     ]
    },
    {
     "name": "stderr",
     "output_type": "stream",
     "text": [
      "INFO:tensorflow:Assets written to: D:\\DL\\wandb\\run-20250515_174507-6ehfhafp\\files\\model-best\\assets\n",
      "wandb: Adding directory to artifact (D:\\DL\\wandb\\run-20250515_174507-6ehfhafp\\files\\model-best)... Done. 0.0s\n"
     ]
    },
    {
     "name": "stdout",
     "output_type": "stream",
     "text": [
      "1582/1582 [==============================] - 23s 15ms/step - loss: 0.8676 - accuracy: 0.7559 - val_loss: 0.7803 - val_accuracy: 0.7780 - WordAccuracy: 0.0000e+00\n",
      "Epoch 3/10\n",
      "1580/1582 [============================>.] - ETA: 0s - loss: 0.7303 - accuracy: 0.7902\n",
      "Epoch 3: Word-level Accuracy = 0.0008\n"
     ]
    },
    {
     "name": "stderr",
     "output_type": "stream",
     "text": [
      "WARNING:absl:Found untraced functions such as lstm_cell_layer_call_fn, lstm_cell_layer_call_and_return_conditional_losses, lstm_cell_1_layer_call_fn, lstm_cell_1_layer_call_and_return_conditional_losses, lstm_cell_2_layer_call_fn while saving (showing 5 of 6). These functions will not be directly callable after loading.\n"
     ]
    },
    {
     "name": "stdout",
     "output_type": "stream",
     "text": [
      "INFO:tensorflow:Assets written to: D:\\DL\\wandb\\run-20250515_174507-6ehfhafp\\files\\model-best\\assets\n"
     ]
    },
    {
     "name": "stderr",
     "output_type": "stream",
     "text": [
      "INFO:tensorflow:Assets written to: D:\\DL\\wandb\\run-20250515_174507-6ehfhafp\\files\\model-best\\assets\n",
      "wandb: Adding directory to artifact (D:\\DL\\wandb\\run-20250515_174507-6ehfhafp\\files\\model-best)... Done. 0.0s\n"
     ]
    },
    {
     "name": "stdout",
     "output_type": "stream",
     "text": [
      "1582/1582 [==============================] - 26s 17ms/step - loss: 0.7302 - accuracy: 0.7902 - val_loss: 0.6475 - val_accuracy: 0.8134 - WordAccuracy: 7.9570e-04\n",
      "Epoch 4/10\n",
      "1582/1582 [==============================] - ETA: 0s - loss: 0.6005 - accuracy: 0.8254\n",
      "Epoch 4: Word-level Accuracy = 0.0010\n"
     ]
    },
    {
     "name": "stderr",
     "output_type": "stream",
     "text": [
      "WARNING:absl:Found untraced functions such as lstm_cell_layer_call_fn, lstm_cell_layer_call_and_return_conditional_losses, lstm_cell_1_layer_call_fn, lstm_cell_1_layer_call_and_return_conditional_losses, lstm_cell_2_layer_call_fn while saving (showing 5 of 6). These functions will not be directly callable after loading.\n"
     ]
    },
    {
     "name": "stdout",
     "output_type": "stream",
     "text": [
      "INFO:tensorflow:Assets written to: D:\\DL\\wandb\\run-20250515_174507-6ehfhafp\\files\\model-best\\assets\n"
     ]
    },
    {
     "name": "stderr",
     "output_type": "stream",
     "text": [
      "INFO:tensorflow:Assets written to: D:\\DL\\wandb\\run-20250515_174507-6ehfhafp\\files\\model-best\\assets\n",
      "wandb: Adding directory to artifact (D:\\DL\\wandb\\run-20250515_174507-6ehfhafp\\files\\model-best)... Done. 0.0s\n"
     ]
    },
    {
     "name": "stdout",
     "output_type": "stream",
     "text": [
      "1582/1582 [==============================] - 26s 16ms/step - loss: 0.6005 - accuracy: 0.8254 - val_loss: 0.5363 - val_accuracy: 0.8435 - WordAccuracy: 9.9463e-04\n",
      "Epoch 5/10\n",
      "1581/1582 [============================>.] - ETA: 0s - loss: 0.4949 - accuracy: 0.8548\n",
      "Epoch 5: Word-level Accuracy = 0.0121\n"
     ]
    },
    {
     "name": "stderr",
     "output_type": "stream",
     "text": [
      "WARNING:absl:Found untraced functions such as lstm_cell_layer_call_fn, lstm_cell_layer_call_and_return_conditional_losses, lstm_cell_1_layer_call_fn, lstm_cell_1_layer_call_and_return_conditional_losses, lstm_cell_2_layer_call_fn while saving (showing 5 of 6). These functions will not be directly callable after loading.\n"
     ]
    },
    {
     "name": "stdout",
     "output_type": "stream",
     "text": [
      "INFO:tensorflow:Assets written to: D:\\DL\\wandb\\run-20250515_174507-6ehfhafp\\files\\model-best\\assets\n"
     ]
    },
    {
     "name": "stderr",
     "output_type": "stream",
     "text": [
      "INFO:tensorflow:Assets written to: D:\\DL\\wandb\\run-20250515_174507-6ehfhafp\\files\\model-best\\assets\n",
      "wandb: Adding directory to artifact (D:\\DL\\wandb\\run-20250515_174507-6ehfhafp\\files\\model-best)... Done. 0.0s\n"
     ]
    },
    {
     "name": "stdout",
     "output_type": "stream",
     "text": [
      "1582/1582 [==============================] - 26s 16ms/step - loss: 0.4949 - accuracy: 0.8548 - val_loss: 0.4427 - val_accuracy: 0.8711 - WordAccuracy: 0.0121\n",
      "Epoch 6/10\n",
      "1581/1582 [============================>.] - ETA: 0s - loss: 0.3994 - accuracy: 0.8818\n",
      "Epoch 6: Word-level Accuracy = 0.0430\n"
     ]
    },
    {
     "name": "stderr",
     "output_type": "stream",
     "text": [
      "WARNING:absl:Found untraced functions such as lstm_cell_layer_call_fn, lstm_cell_layer_call_and_return_conditional_losses, lstm_cell_1_layer_call_fn, lstm_cell_1_layer_call_and_return_conditional_losses, lstm_cell_2_layer_call_fn while saving (showing 5 of 6). These functions will not be directly callable after loading.\n"
     ]
    },
    {
     "name": "stdout",
     "output_type": "stream",
     "text": [
      "INFO:tensorflow:Assets written to: D:\\DL\\wandb\\run-20250515_174507-6ehfhafp\\files\\model-best\\assets\n"
     ]
    },
    {
     "name": "stderr",
     "output_type": "stream",
     "text": [
      "INFO:tensorflow:Assets written to: D:\\DL\\wandb\\run-20250515_174507-6ehfhafp\\files\\model-best\\assets\n",
      "wandb: Adding directory to artifact (D:\\DL\\wandb\\run-20250515_174507-6ehfhafp\\files\\model-best)... Done. 0.0s\n"
     ]
    },
    {
     "name": "stdout",
     "output_type": "stream",
     "text": [
      "1582/1582 [==============================] - 27s 17ms/step - loss: 0.3993 - accuracy: 0.8818 - val_loss: 0.3584 - val_accuracy: 0.8946 - WordAccuracy: 0.0430\n",
      "Epoch 7/10\n",
      "1581/1582 [============================>.] - ETA: 0s - loss: 0.3217 - accuracy: 0.9046\n",
      "Epoch 7: Word-level Accuracy = 0.0993\n"
     ]
    },
    {
     "name": "stderr",
     "output_type": "stream",
     "text": [
      "WARNING:absl:Found untraced functions such as lstm_cell_layer_call_fn, lstm_cell_layer_call_and_return_conditional_losses, lstm_cell_1_layer_call_fn, lstm_cell_1_layer_call_and_return_conditional_losses, lstm_cell_2_layer_call_fn while saving (showing 5 of 6). These functions will not be directly callable after loading.\n"
     ]
    },
    {
     "name": "stdout",
     "output_type": "stream",
     "text": [
      "INFO:tensorflow:Assets written to: D:\\DL\\wandb\\run-20250515_174507-6ehfhafp\\files\\model-best\\assets\n"
     ]
    },
    {
     "name": "stderr",
     "output_type": "stream",
     "text": [
      "INFO:tensorflow:Assets written to: D:\\DL\\wandb\\run-20250515_174507-6ehfhafp\\files\\model-best\\assets\n",
      "wandb: Adding directory to artifact (D:\\DL\\wandb\\run-20250515_174507-6ehfhafp\\files\\model-best)... Done. 0.0s\n"
     ]
    },
    {
     "name": "stdout",
     "output_type": "stream",
     "text": [
      "1582/1582 [==============================] - 27s 17ms/step - loss: 0.3217 - accuracy: 0.9046 - val_loss: 0.2981 - val_accuracy: 0.9115 - WordAccuracy: 0.0993\n",
      "Epoch 8/10\n",
      "1579/1582 [============================>.] - ETA: 0s - loss: 0.2650 - accuracy: 0.9214\n",
      "Epoch 8: Word-level Accuracy = 0.1508\n"
     ]
    },
    {
     "name": "stderr",
     "output_type": "stream",
     "text": [
      "WARNING:absl:Found untraced functions such as lstm_cell_layer_call_fn, lstm_cell_layer_call_and_return_conditional_losses, lstm_cell_1_layer_call_fn, lstm_cell_1_layer_call_and_return_conditional_losses, lstm_cell_2_layer_call_fn while saving (showing 5 of 6). These functions will not be directly callable after loading.\n"
     ]
    },
    {
     "name": "stdout",
     "output_type": "stream",
     "text": [
      "INFO:tensorflow:Assets written to: D:\\DL\\wandb\\run-20250515_174507-6ehfhafp\\files\\model-best\\assets\n"
     ]
    },
    {
     "name": "stderr",
     "output_type": "stream",
     "text": [
      "INFO:tensorflow:Assets written to: D:\\DL\\wandb\\run-20250515_174507-6ehfhafp\\files\\model-best\\assets\n",
      "wandb: Adding directory to artifact (D:\\DL\\wandb\\run-20250515_174507-6ehfhafp\\files\\model-best)... Done. 0.0s\n"
     ]
    },
    {
     "name": "stdout",
     "output_type": "stream",
     "text": [
      "1582/1582 [==============================] - 26s 16ms/step - loss: 0.2649 - accuracy: 0.9215 - val_loss: 0.2610 - val_accuracy: 0.9227 - WordAccuracy: 0.1508\n",
      "Epoch 9/10\n",
      "1581/1582 [============================>.] - ETA: 0s - loss: 0.2229 - accuracy: 0.9333\n",
      "Epoch 9: Word-level Accuracy = 0.2031\n"
     ]
    },
    {
     "name": "stderr",
     "output_type": "stream",
     "text": [
      "WARNING:absl:Found untraced functions such as lstm_cell_layer_call_fn, lstm_cell_layer_call_and_return_conditional_losses, lstm_cell_1_layer_call_fn, lstm_cell_1_layer_call_and_return_conditional_losses, lstm_cell_2_layer_call_fn while saving (showing 5 of 6). These functions will not be directly callable after loading.\n"
     ]
    },
    {
     "name": "stdout",
     "output_type": "stream",
     "text": [
      "INFO:tensorflow:Assets written to: D:\\DL\\wandb\\run-20250515_174507-6ehfhafp\\files\\model-best\\assets\n"
     ]
    },
    {
     "name": "stderr",
     "output_type": "stream",
     "text": [
      "INFO:tensorflow:Assets written to: D:\\DL\\wandb\\run-20250515_174507-6ehfhafp\\files\\model-best\\assets\n",
      "wandb: Adding directory to artifact (D:\\DL\\wandb\\run-20250515_174507-6ehfhafp\\files\\model-best)... Done. 0.0s\n"
     ]
    },
    {
     "name": "stdout",
     "output_type": "stream",
     "text": [
      "1582/1582 [==============================] - 25s 16ms/step - loss: 0.2229 - accuracy: 0.9333 - val_loss: 0.2263 - val_accuracy: 0.9324 - WordAccuracy: 0.2031\n",
      "Epoch 10/10\n",
      "1578/1582 [============================>.] - ETA: 0s - loss: 0.1918 - accuracy: 0.9425\n",
      "Epoch 10: Word-level Accuracy = 0.2302\n"
     ]
    },
    {
     "name": "stderr",
     "output_type": "stream",
     "text": [
      "WARNING:absl:Found untraced functions such as lstm_cell_layer_call_fn, lstm_cell_layer_call_and_return_conditional_losses, lstm_cell_1_layer_call_fn, lstm_cell_1_layer_call_and_return_conditional_losses, lstm_cell_2_layer_call_fn while saving (showing 5 of 6). These functions will not be directly callable after loading.\n"
     ]
    },
    {
     "name": "stdout",
     "output_type": "stream",
     "text": [
      "INFO:tensorflow:Assets written to: D:\\DL\\wandb\\run-20250515_174507-6ehfhafp\\files\\model-best\\assets\n"
     ]
    },
    {
     "name": "stderr",
     "output_type": "stream",
     "text": [
      "INFO:tensorflow:Assets written to: D:\\DL\\wandb\\run-20250515_174507-6ehfhafp\\files\\model-best\\assets\n",
      "wandb: Adding directory to artifact (D:\\DL\\wandb\\run-20250515_174507-6ehfhafp\\files\\model-best)... Done. 0.0s\n"
     ]
    },
    {
     "name": "stdout",
     "output_type": "stream",
     "text": [
      "1582/1582 [==============================] - 26s 17ms/step - loss: 0.1918 - accuracy: 0.9425 - val_loss: 0.2069 - val_accuracy: 0.9379 - WordAccuracy: 0.2302\n"
     ]
    },
    {
     "data": {
      "application/vnd.jupyter.widget-view+json": {
       "model_id": "d2bb2a8ac588458c94eef9f497b2ba56",
       "version_major": 2,
       "version_minor": 0
      },
      "text/plain": [
       "VBox(children=(Label(value='55.298 MB of 55.298 MB uploaded (0.227 MB deduped)\\r'), FloatProgress(value=1.0, m…"
      ]
     },
     "metadata": {},
     "output_type": "display_data"
    },
    {
     "data": {
      "text/html": [
       "<style>\n",
       "    table.wandb td:nth-child(1) { padding: 0 10px; text-align: left ; width: auto;} td:nth-child(2) {text-align: left ; width: 100%}\n",
       "    .wandb-row { display: flex; flex-direction: row; flex-wrap: wrap; justify-content: flex-start; width: 100% }\n",
       "    .wandb-col { display: flex; flex-direction: column; flex-basis: 100%; flex: 1; padding: 10px; }\n",
       "    </style>\n",
       "<div class=\"wandb-row\"><div class=\"wandb-col\"><h3>Run history:</h3><br/><table class=\"wandb\"><tr><td>Val_WordAccuracy</td><td>▁▁▁▁▁▂▄▆▇█</td></tr><tr><td>WordAccuracy</td><td>▁▁▁▁▁▂▄▆▇█</td></tr><tr><td>accuracy</td><td>▁▂▃▄▅▆▇▇██</td></tr><tr><td>epoch</td><td>▂▁▂▂▃▂▄▃▅▄▅▅▆▅▇▆▇▇█▇</td></tr><tr><td>loss</td><td>█▇▅▄▃▃▂▂▁▁</td></tr><tr><td>val_accuracy</td><td>▁▂▃▄▆▆▇▇██</td></tr><tr><td>val_loss</td><td>█▇▅▄▃▃▂▂▁▁</td></tr></table><br/></div><div class=\"wandb-col\"><h3>Run summary:</h3><br/><table class=\"wandb\"><tr><td>Val_WordAccuracy</td><td>0.23016</td></tr><tr><td>WordAccuracy</td><td>0.23016</td></tr><tr><td>accuracy</td><td>0.94255</td></tr><tr><td>best_epoch</td><td>9</td></tr><tr><td>best_val_loss</td><td>0.2069</td></tr><tr><td>epoch</td><td>9</td></tr><tr><td>loss</td><td>0.1918</td></tr><tr><td>val_accuracy</td><td>0.93793</td></tr><tr><td>val_loss</td><td>0.2069</td></tr></table><br/></div></div>"
      ],
      "text/plain": [
       "<IPython.core.display.HTML object>"
      ]
     },
     "metadata": {},
     "output_type": "display_data"
    },
    {
     "data": {
      "text/html": [
       " View run <strong style=\"color:#cdcd00\">classic-sweep-4</strong> at: <a href='https://wandb.ai/manoj_da24s018-iit-madras/Transliterator_HyperParameterSweep/runs/6ehfhafp' target=\"_blank\">https://wandb.ai/manoj_da24s018-iit-madras/Transliterator_HyperParameterSweep/runs/6ehfhafp</a><br/> View project at: <a href='https://wandb.ai/manoj_da24s018-iit-madras/Transliterator_HyperParameterSweep' target=\"_blank\">https://wandb.ai/manoj_da24s018-iit-madras/Transliterator_HyperParameterSweep</a><br/>Synced 5 W&B file(s), 1 media file(s), 40 artifact file(s) and 1 other file(s)"
      ],
      "text/plain": [
       "<IPython.core.display.HTML object>"
      ]
     },
     "metadata": {},
     "output_type": "display_data"
    },
    {
     "data": {
      "text/html": [
       "Find logs at: <code>.\\wandb\\run-20250515_174507-6ehfhafp\\logs</code>"
      ],
      "text/plain": [
       "<IPython.core.display.HTML object>"
      ]
     },
     "metadata": {},
     "output_type": "display_data"
    },
    {
     "name": "stderr",
     "output_type": "stream",
     "text": [
      "wandb: Sweep Agent: Waiting for job.\n",
      "wandb: Job received.\n",
      "wandb: Agent Starting Run: 0hppswoa with config:\n",
      "wandb: \tcell_type: gru\n",
      "wandb: \tchar_embedding_dim: 8\n",
      "wandb: \tdecoder_layers: 2\n",
      "wandb: \tdropout: 0.1\n",
      "wandb: \tencoder_layers: 2\n",
      "wandb: \thidden_state_dim: 256\n"
     ]
    },
    {
     "data": {
      "text/html": [
       "wandb version 0.19.11 is available!  To upgrade, please run:\n",
       " $ pip install wandb --upgrade"
      ],
      "text/plain": [
       "<IPython.core.display.HTML object>"
      ]
     },
     "metadata": {},
     "output_type": "display_data"
    },
    {
     "data": {
      "text/html": [
       "Tracking run with wandb version 0.16.6"
      ],
      "text/plain": [
       "<IPython.core.display.HTML object>"
      ]
     },
     "metadata": {},
     "output_type": "display_data"
    },
    {
     "data": {
      "text/html": [
       "Run data is saved locally in <code>D:\\DL\\wandb\\run-20250515_174957-0hppswoa</code>"
      ],
      "text/plain": [
       "<IPython.core.display.HTML object>"
      ]
     },
     "metadata": {},
     "output_type": "display_data"
    },
    {
     "data": {
      "text/html": [
       "Syncing run <strong><a href='https://wandb.ai/manoj_da24s018-iit-madras/Transliterator_HyperParameterSweep/runs/0hppswoa' target=\"_blank\">sunny-sweep-5</a></strong> to <a href='https://wandb.ai/manoj_da24s018-iit-madras/Transliterator_HyperParameterSweep' target=\"_blank\">Weights & Biases</a> (<a href='https://wandb.me/run' target=\"_blank\">docs</a>)<br/>Sweep page: <a href='https://wandb.ai/manoj_da24s018-iit-madras/Transliterator_HyperParameterSweep/sweeps/fjtuyyfs' target=\"_blank\">https://wandb.ai/manoj_da24s018-iit-madras/Transliterator_HyperParameterSweep/sweeps/fjtuyyfs</a>"
      ],
      "text/plain": [
       "<IPython.core.display.HTML object>"
      ]
     },
     "metadata": {},
     "output_type": "display_data"
    },
    {
     "data": {
      "text/html": [
       " View project at <a href='https://wandb.ai/manoj_da24s018-iit-madras/Transliterator_HyperParameterSweep' target=\"_blank\">https://wandb.ai/manoj_da24s018-iit-madras/Transliterator_HyperParameterSweep</a>"
      ],
      "text/plain": [
       "<IPython.core.display.HTML object>"
      ]
     },
     "metadata": {},
     "output_type": "display_data"
    },
    {
     "data": {
      "text/html": [
       " View sweep at <a href='https://wandb.ai/manoj_da24s018-iit-madras/Transliterator_HyperParameterSweep/sweeps/fjtuyyfs' target=\"_blank\">https://wandb.ai/manoj_da24s018-iit-madras/Transliterator_HyperParameterSweep/sweeps/fjtuyyfs</a>"
      ],
      "text/plain": [
       "<IPython.core.display.HTML object>"
      ]
     },
     "metadata": {},
     "output_type": "display_data"
    },
    {
     "data": {
      "text/html": [
       " View run at <a href='https://wandb.ai/manoj_da24s018-iit-madras/Transliterator_HyperParameterSweep/runs/0hppswoa' target=\"_blank\">https://wandb.ai/manoj_da24s018-iit-madras/Transliterator_HyperParameterSweep/runs/0hppswoa</a>"
      ],
      "text/plain": [
       "<IPython.core.display.HTML object>"
      ]
     },
     "metadata": {},
     "output_type": "display_data"
    },
    {
     "name": "stdout",
     "output_type": "stream",
     "text": [
      "Sweep Name:  RNN Layer Type: gru, Character_Embedding_dim: 8, Hidden_dim:256, Num_Encoder_Layer:2, Num_Decoder_Layer:2, Dropout:0.1\n",
      "Epoch 1/10\n",
      "1581/1582 [============================>.] - ETA: 0s - loss: 0.9560 - accuracy: 0.7394\n",
      "Epoch 1: Word-level Accuracy = 0.0000\n"
     ]
    },
    {
     "name": "stderr",
     "output_type": "stream",
     "text": [
      "WARNING:absl:Found untraced functions such as gru_cell_layer_call_fn, gru_cell_layer_call_and_return_conditional_losses, gru_cell_1_layer_call_fn, gru_cell_1_layer_call_and_return_conditional_losses, gru_cell_2_layer_call_fn while saving (showing 5 of 8). These functions will not be directly callable after loading.\n"
     ]
    },
    {
     "name": "stdout",
     "output_type": "stream",
     "text": [
      "INFO:tensorflow:Assets written to: D:\\DL\\wandb\\run-20250515_174957-0hppswoa\\files\\model-best\\assets\n"
     ]
    },
    {
     "name": "stderr",
     "output_type": "stream",
     "text": [
      "INFO:tensorflow:Assets written to: D:\\DL\\wandb\\run-20250515_174957-0hppswoa\\files\\model-best\\assets\n",
      "wandb: Adding directory to artifact (D:\\DL\\wandb\\run-20250515_174957-0hppswoa\\files\\model-best)... Done. 0.0s\n"
     ]
    },
    {
     "name": "stdout",
     "output_type": "stream",
     "text": [
      "1582/1582 [==============================] - 37s 21ms/step - loss: 0.9559 - accuracy: 0.7395 - val_loss: 0.7685 - val_accuracy: 0.7840 - WordAccuracy: 0.0000e+00\n",
      "Epoch 2/10\n",
      "1579/1582 [============================>.] - ETA: 0s - loss: 0.6614 - accuracy: 0.8085\n",
      "Epoch 2: Word-level Accuracy = 0.0044\n"
     ]
    },
    {
     "name": "stderr",
     "output_type": "stream",
     "text": [
      "WARNING:absl:Found untraced functions such as gru_cell_layer_call_fn, gru_cell_layer_call_and_return_conditional_losses, gru_cell_1_layer_call_fn, gru_cell_1_layer_call_and_return_conditional_losses, gru_cell_2_layer_call_fn while saving (showing 5 of 8). These functions will not be directly callable after loading.\n"
     ]
    },
    {
     "name": "stdout",
     "output_type": "stream",
     "text": [
      "INFO:tensorflow:Assets written to: D:\\DL\\wandb\\run-20250515_174957-0hppswoa\\files\\model-best\\assets\n"
     ]
    },
    {
     "name": "stderr",
     "output_type": "stream",
     "text": [
      "INFO:tensorflow:Assets written to: D:\\DL\\wandb\\run-20250515_174957-0hppswoa\\files\\model-best\\assets\n",
      "wandb: Adding directory to artifact (D:\\DL\\wandb\\run-20250515_174957-0hppswoa\\files\\model-best)... Done. 0.0s\n"
     ]
    },
    {
     "name": "stdout",
     "output_type": "stream",
     "text": [
      "1582/1582 [==============================] - 33s 21ms/step - loss: 0.6612 - accuracy: 0.8086 - val_loss: 0.5276 - val_accuracy: 0.8485 - WordAccuracy: 0.0044\n",
      "Epoch 3/10\n",
      "1580/1582 [============================>.] - ETA: 0s - loss: 0.4165 - accuracy: 0.8768\n",
      "Epoch 3: Word-level Accuracy = 0.0718\n"
     ]
    },
    {
     "name": "stderr",
     "output_type": "stream",
     "text": [
      "WARNING:absl:Found untraced functions such as gru_cell_layer_call_fn, gru_cell_layer_call_and_return_conditional_losses, gru_cell_1_layer_call_fn, gru_cell_1_layer_call_and_return_conditional_losses, gru_cell_2_layer_call_fn while saving (showing 5 of 8). These functions will not be directly callable after loading.\n"
     ]
    },
    {
     "name": "stdout",
     "output_type": "stream",
     "text": [
      "INFO:tensorflow:Assets written to: D:\\DL\\wandb\\run-20250515_174957-0hppswoa\\files\\model-best\\assets\n"
     ]
    },
    {
     "name": "stderr",
     "output_type": "stream",
     "text": [
      "INFO:tensorflow:Assets written to: D:\\DL\\wandb\\run-20250515_174957-0hppswoa\\files\\model-best\\assets\n",
      "wandb: Adding directory to artifact (D:\\DL\\wandb\\run-20250515_174957-0hppswoa\\files\\model-best)... Done. 0.0s\n"
     ]
    },
    {
     "name": "stdout",
     "output_type": "stream",
     "text": [
      "1582/1582 [==============================] - 31s 20ms/step - loss: 0.4164 - accuracy: 0.8768 - val_loss: 0.3431 - val_accuracy: 0.8990 - WordAccuracy: 0.0718\n",
      "Epoch 4/10\n",
      "1580/1582 [============================>.] - ETA: 0s - loss: 0.2616 - accuracy: 0.9218\n",
      "Epoch 4: Word-level Accuracy = 0.1599\n"
     ]
    },
    {
     "name": "stderr",
     "output_type": "stream",
     "text": [
      "WARNING:absl:Found untraced functions such as gru_cell_layer_call_fn, gru_cell_layer_call_and_return_conditional_losses, gru_cell_1_layer_call_fn, gru_cell_1_layer_call_and_return_conditional_losses, gru_cell_2_layer_call_fn while saving (showing 5 of 8). These functions will not be directly callable after loading.\n"
     ]
    },
    {
     "name": "stdout",
     "output_type": "stream",
     "text": [
      "INFO:tensorflow:Assets written to: D:\\DL\\wandb\\run-20250515_174957-0hppswoa\\files\\model-best\\assets\n"
     ]
    },
    {
     "name": "stderr",
     "output_type": "stream",
     "text": [
      "INFO:tensorflow:Assets written to: D:\\DL\\wandb\\run-20250515_174957-0hppswoa\\files\\model-best\\assets\n",
      "wandb: Adding directory to artifact (D:\\DL\\wandb\\run-20250515_174957-0hppswoa\\files\\model-best)... Done. 0.0s\n"
     ]
    },
    {
     "name": "stdout",
     "output_type": "stream",
     "text": [
      "1582/1582 [==============================] - 32s 20ms/step - loss: 0.2615 - accuracy: 0.9218 - val_loss: 0.2544 - val_accuracy: 0.9243 - WordAccuracy: 0.1599\n",
      "Epoch 5/10\n",
      "1579/1582 [============================>.] - ETA: 0s - loss: 0.1814 - accuracy: 0.9456\n",
      "Epoch 5: Word-level Accuracy = 0.2272\n"
     ]
    },
    {
     "name": "stderr",
     "output_type": "stream",
     "text": [
      "WARNING:absl:Found untraced functions such as gru_cell_layer_call_fn, gru_cell_layer_call_and_return_conditional_losses, gru_cell_1_layer_call_fn, gru_cell_1_layer_call_and_return_conditional_losses, gru_cell_2_layer_call_fn while saving (showing 5 of 8). These functions will not be directly callable after loading.\n"
     ]
    },
    {
     "name": "stdout",
     "output_type": "stream",
     "text": [
      "INFO:tensorflow:Assets written to: D:\\DL\\wandb\\run-20250515_174957-0hppswoa\\files\\model-best\\assets\n"
     ]
    },
    {
     "name": "stderr",
     "output_type": "stream",
     "text": [
      "INFO:tensorflow:Assets written to: D:\\DL\\wandb\\run-20250515_174957-0hppswoa\\files\\model-best\\assets\n",
      "wandb: Adding directory to artifact (D:\\DL\\wandb\\run-20250515_174957-0hppswoa\\files\\model-best)... Done. 0.0s\n"
     ]
    },
    {
     "name": "stdout",
     "output_type": "stream",
     "text": [
      "1582/1582 [==============================] - 29s 18ms/step - loss: 0.1813 - accuracy: 0.9456 - val_loss: 0.2074 - val_accuracy: 0.9379 - WordAccuracy: 0.2272\n",
      "Epoch 6/10\n",
      "1579/1582 [============================>.] - ETA: 0s - loss: 0.1368 - accuracy: 0.9587\n",
      "Epoch 6: Word-level Accuracy = 0.2658\n"
     ]
    },
    {
     "name": "stderr",
     "output_type": "stream",
     "text": [
      "WARNING:absl:Found untraced functions such as gru_cell_layer_call_fn, gru_cell_layer_call_and_return_conditional_losses, gru_cell_1_layer_call_fn, gru_cell_1_layer_call_and_return_conditional_losses, gru_cell_2_layer_call_fn while saving (showing 5 of 8). These functions will not be directly callable after loading.\n"
     ]
    },
    {
     "name": "stdout",
     "output_type": "stream",
     "text": [
      "INFO:tensorflow:Assets written to: D:\\DL\\wandb\\run-20250515_174957-0hppswoa\\files\\model-best\\assets\n"
     ]
    },
    {
     "name": "stderr",
     "output_type": "stream",
     "text": [
      "INFO:tensorflow:Assets written to: D:\\DL\\wandb\\run-20250515_174957-0hppswoa\\files\\model-best\\assets\n",
      "wandb: Adding directory to artifact (D:\\DL\\wandb\\run-20250515_174957-0hppswoa\\files\\model-best)... Done. 0.0s\n"
     ]
    },
    {
     "name": "stdout",
     "output_type": "stream",
     "text": [
      "1582/1582 [==============================] - 30s 19ms/step - loss: 0.1368 - accuracy: 0.9587 - val_loss: 0.1889 - val_accuracy: 0.9433 - WordAccuracy: 0.2658\n",
      "Epoch 7/10\n",
      "1580/1582 [============================>.] - ETA: 0s - loss: 0.1106 - accuracy: 0.9662\n",
      "Epoch 7: Word-level Accuracy = 0.3020\n"
     ]
    },
    {
     "name": "stderr",
     "output_type": "stream",
     "text": [
      "WARNING:absl:Found untraced functions such as gru_cell_layer_call_fn, gru_cell_layer_call_and_return_conditional_losses, gru_cell_1_layer_call_fn, gru_cell_1_layer_call_and_return_conditional_losses, gru_cell_2_layer_call_fn while saving (showing 5 of 8). These functions will not be directly callable after loading.\n"
     ]
    },
    {
     "name": "stdout",
     "output_type": "stream",
     "text": [
      "INFO:tensorflow:Assets written to: D:\\DL\\wandb\\run-20250515_174957-0hppswoa\\files\\model-best\\assets\n"
     ]
    },
    {
     "name": "stderr",
     "output_type": "stream",
     "text": [
      "INFO:tensorflow:Assets written to: D:\\DL\\wandb\\run-20250515_174957-0hppswoa\\files\\model-best\\assets\n",
      "wandb: Adding directory to artifact (D:\\DL\\wandb\\run-20250515_174957-0hppswoa\\files\\model-best)... Done. 0.0s\n"
     ]
    },
    {
     "name": "stdout",
     "output_type": "stream",
     "text": [
      "1582/1582 [==============================] - 30s 19ms/step - loss: 0.1106 - accuracy: 0.9662 - val_loss: 0.1763 - val_accuracy: 0.9481 - WordAccuracy: 0.3020\n",
      "Epoch 8/10\n",
      "1581/1582 [============================>.] - ETA: 0s - loss: 0.0937 - accuracy: 0.9711\n",
      "Epoch 8: Word-level Accuracy = 0.3426\n"
     ]
    },
    {
     "name": "stderr",
     "output_type": "stream",
     "text": [
      "WARNING:absl:Found untraced functions such as gru_cell_layer_call_fn, gru_cell_layer_call_and_return_conditional_losses, gru_cell_1_layer_call_fn, gru_cell_1_layer_call_and_return_conditional_losses, gru_cell_2_layer_call_fn while saving (showing 5 of 8). These functions will not be directly callable after loading.\n"
     ]
    },
    {
     "name": "stdout",
     "output_type": "stream",
     "text": [
      "INFO:tensorflow:Assets written to: D:\\DL\\wandb\\run-20250515_174957-0hppswoa\\files\\model-best\\assets\n"
     ]
    },
    {
     "name": "stderr",
     "output_type": "stream",
     "text": [
      "INFO:tensorflow:Assets written to: D:\\DL\\wandb\\run-20250515_174957-0hppswoa\\files\\model-best\\assets\n",
      "wandb: Adding directory to artifact (D:\\DL\\wandb\\run-20250515_174957-0hppswoa\\files\\model-best)... Done. 0.0s\n"
     ]
    },
    {
     "name": "stdout",
     "output_type": "stream",
     "text": [
      "1582/1582 [==============================] - 31s 20ms/step - loss: 0.0937 - accuracy: 0.9711 - val_loss: 0.1619 - val_accuracy: 0.9533 - WordAccuracy: 0.3426\n",
      "Epoch 9/10\n",
      "1578/1582 [============================>.] - ETA: 0s - loss: 0.0808 - accuracy: 0.9750\n",
      "Epoch 9: Word-level Accuracy = 0.3473\n"
     ]
    },
    {
     "name": "stderr",
     "output_type": "stream",
     "text": [
      "WARNING:absl:Found untraced functions such as gru_cell_layer_call_fn, gru_cell_layer_call_and_return_conditional_losses, gru_cell_1_layer_call_fn, gru_cell_1_layer_call_and_return_conditional_losses, gru_cell_2_layer_call_fn while saving (showing 5 of 8). These functions will not be directly callable after loading.\n"
     ]
    },
    {
     "name": "stdout",
     "output_type": "stream",
     "text": [
      "INFO:tensorflow:Assets written to: D:\\DL\\wandb\\run-20250515_174957-0hppswoa\\files\\model-best\\assets\n"
     ]
    },
    {
     "name": "stderr",
     "output_type": "stream",
     "text": [
      "INFO:tensorflow:Assets written to: D:\\DL\\wandb\\run-20250515_174957-0hppswoa\\files\\model-best\\assets\n",
      "wandb: Adding directory to artifact (D:\\DL\\wandb\\run-20250515_174957-0hppswoa\\files\\model-best)... Done. 0.0s\n"
     ]
    },
    {
     "name": "stdout",
     "output_type": "stream",
     "text": [
      "1582/1582 [==============================] - 31s 20ms/step - loss: 0.0807 - accuracy: 0.9750 - val_loss: 0.1605 - val_accuracy: 0.9537 - WordAccuracy: 0.3473\n",
      "Epoch 10/10\n",
      "1579/1582 [============================>.] - ETA: 0s - loss: 0.0716 - accuracy: 0.9777\n",
      "Epoch 10: Word-level Accuracy = 0.3640\n",
      "1582/1582 [==============================] - 23s 15ms/step - loss: 0.0716 - accuracy: 0.9776 - val_loss: 0.1607 - val_accuracy: 0.9547 - WordAccuracy: 0.3640\n"
     ]
    },
    {
     "data": {
      "application/vnd.jupyter.widget-view+json": {
       "model_id": "314beccf78a848b4876c335a3fbecc53",
       "version_major": 2,
       "version_minor": 0
      },
      "text/plain": [
       "VBox(children=(Label(value='147.801 MB of 147.801 MB uploaded (0.235 MB deduped)\\r'), FloatProgress(value=1.0,…"
      ]
     },
     "metadata": {},
     "output_type": "display_data"
    },
    {
     "data": {
      "text/html": [
       "<style>\n",
       "    table.wandb td:nth-child(1) { padding: 0 10px; text-align: left ; width: auto;} td:nth-child(2) {text-align: left ; width: 100%}\n",
       "    .wandb-row { display: flex; flex-direction: row; flex-wrap: wrap; justify-content: flex-start; width: 100% }\n",
       "    .wandb-col { display: flex; flex-direction: column; flex-basis: 100%; flex: 1; padding: 10px; }\n",
       "    </style>\n",
       "<div class=\"wandb-row\"><div class=\"wandb-col\"><h3>Run history:</h3><br/><table class=\"wandb\"><tr><td>Val_WordAccuracy</td><td>▁▁▂▄▅▆▇███</td></tr><tr><td>WordAccuracy</td><td>▁▁▂▄▅▆▇███</td></tr><tr><td>accuracy</td><td>▁▃▅▆▇▇████</td></tr><tr><td>epoch</td><td>▂▁▂▂▃▂▄▃▅▄▅▅▆▅▇▆▇▇█▇</td></tr><tr><td>loss</td><td>█▆▄▃▂▂▁▁▁▁</td></tr><tr><td>val_accuracy</td><td>▁▄▆▇▇█████</td></tr><tr><td>val_loss</td><td>█▅▃▂▂▁▁▁▁▁</td></tr></table><br/></div><div class=\"wandb-col\"><h3>Run summary:</h3><br/><table class=\"wandb\"><tr><td>Val_WordAccuracy</td><td>0.36403</td></tr><tr><td>WordAccuracy</td><td>0.36403</td></tr><tr><td>accuracy</td><td>0.97765</td></tr><tr><td>best_epoch</td><td>8</td></tr><tr><td>best_val_loss</td><td>0.16045</td></tr><tr><td>epoch</td><td>9</td></tr><tr><td>loss</td><td>0.0716</td></tr><tr><td>val_accuracy</td><td>0.95471</td></tr><tr><td>val_loss</td><td>0.16068</td></tr></table><br/></div></div>"
      ],
      "text/plain": [
       "<IPython.core.display.HTML object>"
      ]
     },
     "metadata": {},
     "output_type": "display_data"
    },
    {
     "data": {
      "text/html": [
       " View run <strong style=\"color:#cdcd00\">sunny-sweep-5</strong> at: <a href='https://wandb.ai/manoj_da24s018-iit-madras/Transliterator_HyperParameterSweep/runs/0hppswoa' target=\"_blank\">https://wandb.ai/manoj_da24s018-iit-madras/Transliterator_HyperParameterSweep/runs/0hppswoa</a><br/> View project at: <a href='https://wandb.ai/manoj_da24s018-iit-madras/Transliterator_HyperParameterSweep' target=\"_blank\">https://wandb.ai/manoj_da24s018-iit-madras/Transliterator_HyperParameterSweep</a><br/>Synced 5 W&B file(s), 1 media file(s), 36 artifact file(s) and 1 other file(s)"
      ],
      "text/plain": [
       "<IPython.core.display.HTML object>"
      ]
     },
     "metadata": {},
     "output_type": "display_data"
    },
    {
     "data": {
      "text/html": [
       "Find logs at: <code>.\\wandb\\run-20250515_174957-0hppswoa\\logs</code>"
      ],
      "text/plain": [
       "<IPython.core.display.HTML object>"
      ]
     },
     "metadata": {},
     "output_type": "display_data"
    },
    {
     "name": "stderr",
     "output_type": "stream",
     "text": [
      "wandb: Agent Starting Run: urg5is3l with config:\n",
      "wandb: \tcell_type: rnn\n",
      "wandb: \tchar_embedding_dim: 32\n",
      "wandb: \tdecoder_layers: 1\n",
      "wandb: \tdropout: 0.2\n",
      "wandb: \tencoder_layers: 2\n",
      "wandb: \thidden_state_dim: 128\n"
     ]
    },
    {
     "data": {
      "text/html": [
       "wandb version 0.19.11 is available!  To upgrade, please run:\n",
       " $ pip install wandb --upgrade"
      ],
      "text/plain": [
       "<IPython.core.display.HTML object>"
      ]
     },
     "metadata": {},
     "output_type": "display_data"
    },
    {
     "data": {
      "text/html": [
       "Tracking run with wandb version 0.16.6"
      ],
      "text/plain": [
       "<IPython.core.display.HTML object>"
      ]
     },
     "metadata": {},
     "output_type": "display_data"
    },
    {
     "data": {
      "text/html": [
       "Run data is saved locally in <code>D:\\DL\\wandb\\run-20250515_175521-urg5is3l</code>"
      ],
      "text/plain": [
       "<IPython.core.display.HTML object>"
      ]
     },
     "metadata": {},
     "output_type": "display_data"
    },
    {
     "data": {
      "text/html": [
       "Syncing run <strong><a href='https://wandb.ai/manoj_da24s018-iit-madras/Transliterator_HyperParameterSweep/runs/urg5is3l' target=\"_blank\">frosty-sweep-6</a></strong> to <a href='https://wandb.ai/manoj_da24s018-iit-madras/Transliterator_HyperParameterSweep' target=\"_blank\">Weights & Biases</a> (<a href='https://wandb.me/run' target=\"_blank\">docs</a>)<br/>Sweep page: <a href='https://wandb.ai/manoj_da24s018-iit-madras/Transliterator_HyperParameterSweep/sweeps/fjtuyyfs' target=\"_blank\">https://wandb.ai/manoj_da24s018-iit-madras/Transliterator_HyperParameterSweep/sweeps/fjtuyyfs</a>"
      ],
      "text/plain": [
       "<IPython.core.display.HTML object>"
      ]
     },
     "metadata": {},
     "output_type": "display_data"
    },
    {
     "data": {
      "text/html": [
       " View project at <a href='https://wandb.ai/manoj_da24s018-iit-madras/Transliterator_HyperParameterSweep' target=\"_blank\">https://wandb.ai/manoj_da24s018-iit-madras/Transliterator_HyperParameterSweep</a>"
      ],
      "text/plain": [
       "<IPython.core.display.HTML object>"
      ]
     },
     "metadata": {},
     "output_type": "display_data"
    },
    {
     "data": {
      "text/html": [
       " View sweep at <a href='https://wandb.ai/manoj_da24s018-iit-madras/Transliterator_HyperParameterSweep/sweeps/fjtuyyfs' target=\"_blank\">https://wandb.ai/manoj_da24s018-iit-madras/Transliterator_HyperParameterSweep/sweeps/fjtuyyfs</a>"
      ],
      "text/plain": [
       "<IPython.core.display.HTML object>"
      ]
     },
     "metadata": {},
     "output_type": "display_data"
    },
    {
     "data": {
      "text/html": [
       " View run at <a href='https://wandb.ai/manoj_da24s018-iit-madras/Transliterator_HyperParameterSweep/runs/urg5is3l' target=\"_blank\">https://wandb.ai/manoj_da24s018-iit-madras/Transliterator_HyperParameterSweep/runs/urg5is3l</a>"
      ],
      "text/plain": [
       "<IPython.core.display.HTML object>"
      ]
     },
     "metadata": {},
     "output_type": "display_data"
    },
    {
     "name": "stdout",
     "output_type": "stream",
     "text": [
      "Sweep Name:  RNN Layer Type: rnn, Character_Embedding_dim: 32, Hidden_dim:128, Num_Encoder_Layer:2, Num_Decoder_Layer:1, Dropout:0.2\n",
      "Epoch 1/10\n",
      "1582/1582 [==============================] - ETA: 0s - loss: 0.9338 - accuracy: 0.7478\n",
      "Epoch 1: Word-level Accuracy = 0.0018\n",
      "INFO:tensorflow:Assets written to: D:\\DL\\wandb\\run-20250515_175521-urg5is3l\\files\\model-best\\assets\n"
     ]
    },
    {
     "name": "stderr",
     "output_type": "stream",
     "text": [
      "INFO:tensorflow:Assets written to: D:\\DL\\wandb\\run-20250515_175521-urg5is3l\\files\\model-best\\assets\n",
      "wandb: Adding directory to artifact (D:\\DL\\wandb\\run-20250515_175521-urg5is3l\\files\\model-best)... Done. 0.0s\n"
     ]
    },
    {
     "name": "stdout",
     "output_type": "stream",
     "text": [
      "1582/1582 [==============================] - 115s 72ms/step - loss: 0.9338 - accuracy: 0.7478 - val_loss: 0.6552 - val_accuracy: 0.8142 - WordAccuracy: 0.0018\n",
      "Epoch 2/10\n",
      "1582/1582 [==============================] - ETA: 0s - loss: 0.6240 - accuracy: 0.8208\n",
      "Epoch 2: Word-level Accuracy = 0.0090\n",
      "INFO:tensorflow:Assets written to: D:\\DL\\wandb\\run-20250515_175521-urg5is3l\\files\\model-best\\assets\n"
     ]
    },
    {
     "name": "stderr",
     "output_type": "stream",
     "text": [
      "INFO:tensorflow:Assets written to: D:\\DL\\wandb\\run-20250515_175521-urg5is3l\\files\\model-best\\assets\n",
      "wandb: Adding directory to artifact (D:\\DL\\wandb\\run-20250515_175521-urg5is3l\\files\\model-best)... Done. 0.0s\n"
     ]
    },
    {
     "name": "stdout",
     "output_type": "stream",
     "text": [
      "1582/1582 [==============================] - 97s 61ms/step - loss: 0.6240 - accuracy: 0.8208 - val_loss: 0.5342 - val_accuracy: 0.8465 - WordAccuracy: 0.0090\n",
      "Epoch 3/10\n",
      "1582/1582 [==============================] - ETA: 0s - loss: 0.5424 - accuracy: 0.8414\n",
      "Epoch 3: Word-level Accuracy = 0.0099\n",
      "INFO:tensorflow:Assets written to: D:\\DL\\wandb\\run-20250515_175521-urg5is3l\\files\\model-best\\assets\n"
     ]
    },
    {
     "name": "stderr",
     "output_type": "stream",
     "text": [
      "INFO:tensorflow:Assets written to: D:\\DL\\wandb\\run-20250515_175521-urg5is3l\\files\\model-best\\assets\n",
      "wandb: Adding directory to artifact (D:\\DL\\wandb\\run-20250515_175521-urg5is3l\\files\\model-best)... Done. 0.0s\n"
     ]
    },
    {
     "name": "stdout",
     "output_type": "stream",
     "text": [
      "1582/1582 [==============================] - 106s 67ms/step - loss: 0.5424 - accuracy: 0.8414 - val_loss: 0.4995 - val_accuracy: 0.8541 - WordAccuracy: 0.0099\n",
      "Epoch 4/10\n",
      "1582/1582 [==============================] - ETA: 0s - loss: 0.4977 - accuracy: 0.8530\n",
      "Epoch 4: Word-level Accuracy = 0.0163\n",
      "INFO:tensorflow:Assets written to: D:\\DL\\wandb\\run-20250515_175521-urg5is3l\\files\\model-best\\assets\n"
     ]
    },
    {
     "name": "stderr",
     "output_type": "stream",
     "text": [
      "INFO:tensorflow:Assets written to: D:\\DL\\wandb\\run-20250515_175521-urg5is3l\\files\\model-best\\assets\n",
      "wandb: Adding directory to artifact (D:\\DL\\wandb\\run-20250515_175521-urg5is3l\\files\\model-best)... Done. 0.0s\n"
     ]
    },
    {
     "name": "stdout",
     "output_type": "stream",
     "text": [
      "1582/1582 [==============================] - 112s 71ms/step - loss: 0.4977 - accuracy: 0.8530 - val_loss: 0.4657 - val_accuracy: 0.8637 - WordAccuracy: 0.0163\n",
      "Epoch 5/10\n",
      "1581/1582 [============================>.] - ETA: 0s - loss: 0.4698 - accuracy: 0.8603\n",
      "Epoch 5: Word-level Accuracy = 0.0233\n",
      "INFO:tensorflow:Assets written to: D:\\DL\\wandb\\run-20250515_175521-urg5is3l\\files\\model-best\\assets\n"
     ]
    },
    {
     "name": "stderr",
     "output_type": "stream",
     "text": [
      "INFO:tensorflow:Assets written to: D:\\DL\\wandb\\run-20250515_175521-urg5is3l\\files\\model-best\\assets\n",
      "wandb: Adding directory to artifact (D:\\DL\\wandb\\run-20250515_175521-urg5is3l\\files\\model-best)... Done. 0.0s\n"
     ]
    },
    {
     "name": "stdout",
     "output_type": "stream",
     "text": [
      "1582/1582 [==============================] - 105s 66ms/step - loss: 0.4698 - accuracy: 0.8603 - val_loss: 0.4438 - val_accuracy: 0.8683 - WordAccuracy: 0.0233\n",
      "Epoch 6/10\n",
      "1582/1582 [==============================] - ETA: 0s - loss: 0.4470 - accuracy: 0.8664\n",
      "Epoch 6: Word-level Accuracy = 0.0257\n",
      "INFO:tensorflow:Assets written to: D:\\DL\\wandb\\run-20250515_175521-urg5is3l\\files\\model-best\\assets\n"
     ]
    },
    {
     "name": "stderr",
     "output_type": "stream",
     "text": [
      "INFO:tensorflow:Assets written to: D:\\DL\\wandb\\run-20250515_175521-urg5is3l\\files\\model-best\\assets\n",
      "wandb: Adding directory to artifact (D:\\DL\\wandb\\run-20250515_175521-urg5is3l\\files\\model-best)... Done. 0.0s\n"
     ]
    },
    {
     "name": "stdout",
     "output_type": "stream",
     "text": [
      "1582/1582 [==============================] - 96s 61ms/step - loss: 0.4470 - accuracy: 0.8664 - val_loss: 0.4242 - val_accuracy: 0.8749 - WordAccuracy: 0.0257\n",
      "Epoch 7/10\n",
      "1582/1582 [==============================] - ETA: 0s - loss: 0.4300 - accuracy: 0.8712\n",
      "Epoch 7: Word-level Accuracy = 0.0280\n",
      "INFO:tensorflow:Assets written to: D:\\DL\\wandb\\run-20250515_175521-urg5is3l\\files\\model-best\\assets\n"
     ]
    },
    {
     "name": "stderr",
     "output_type": "stream",
     "text": [
      "INFO:tensorflow:Assets written to: D:\\DL\\wandb\\run-20250515_175521-urg5is3l\\files\\model-best\\assets\n",
      "wandb: Adding directory to artifact (D:\\DL\\wandb\\run-20250515_175521-urg5is3l\\files\\model-best)... Done. 0.0s\n"
     ]
    },
    {
     "name": "stdout",
     "output_type": "stream",
     "text": [
      "1582/1582 [==============================] - 104s 66ms/step - loss: 0.4300 - accuracy: 0.8712 - val_loss: 0.4116 - val_accuracy: 0.8775 - WordAccuracy: 0.0280\n",
      "Epoch 8/10\n",
      "1582/1582 [==============================] - ETA: 0s - loss: 0.4170 - accuracy: 0.8748\n",
      "Epoch 8: Word-level Accuracy = 0.0324\n",
      "INFO:tensorflow:Assets written to: D:\\DL\\wandb\\run-20250515_175521-urg5is3l\\files\\model-best\\assets\n"
     ]
    },
    {
     "name": "stderr",
     "output_type": "stream",
     "text": [
      "INFO:tensorflow:Assets written to: D:\\DL\\wandb\\run-20250515_175521-urg5is3l\\files\\model-best\\assets\n",
      "wandb: Adding directory to artifact (D:\\DL\\wandb\\run-20250515_175521-urg5is3l\\files\\model-best)... Done. 0.0s\n"
     ]
    },
    {
     "name": "stdout",
     "output_type": "stream",
     "text": [
      "1582/1582 [==============================] - 107s 68ms/step - loss: 0.4170 - accuracy: 0.8748 - val_loss: 0.4110 - val_accuracy: 0.8782 - WordAccuracy: 0.0324\n",
      "Epoch 9/10\n",
      "1581/1582 [============================>.] - ETA: 0s - loss: 0.4046 - accuracy: 0.8781\n",
      "Epoch 9: Word-level Accuracy = 0.0344\n",
      "INFO:tensorflow:Assets written to: D:\\DL\\wandb\\run-20250515_175521-urg5is3l\\files\\model-best\\assets\n"
     ]
    },
    {
     "name": "stderr",
     "output_type": "stream",
     "text": [
      "INFO:tensorflow:Assets written to: D:\\DL\\wandb\\run-20250515_175521-urg5is3l\\files\\model-best\\assets\n",
      "wandb: Adding directory to artifact (D:\\DL\\wandb\\run-20250515_175521-urg5is3l\\files\\model-best)... Done. 0.0s\n"
     ]
    },
    {
     "name": "stdout",
     "output_type": "stream",
     "text": [
      "1582/1582 [==============================] - 104s 65ms/step - loss: 0.4046 - accuracy: 0.8781 - val_loss: 0.3910 - val_accuracy: 0.8830 - WordAccuracy: 0.0344\n",
      "Epoch 10/10\n",
      "1582/1582 [==============================] - ETA: 0s - loss: 0.3941 - accuracy: 0.8806\n",
      "Epoch 10: Word-level Accuracy = 0.0352\n",
      "1582/1582 [==============================] - 107s 68ms/step - loss: 0.3941 - accuracy: 0.8806 - val_loss: 0.3917 - val_accuracy: 0.8836 - WordAccuracy: 0.0352\n"
     ]
    },
    {
     "data": {
      "application/vnd.jupyter.widget-view+json": {
       "model_id": "08ec2a8ad426449fa584cd1597f35943",
       "version_major": 2,
       "version_minor": 0
      },
      "text/plain": [
       "VBox(children=(Label(value='16.112 MB of 16.112 MB uploaded (0.195 MB deduped)\\r'), FloatProgress(value=1.0, m…"
      ]
     },
     "metadata": {},
     "output_type": "display_data"
    },
    {
     "data": {
      "text/html": [
       "W&B sync reduced upload amount by 1.1%             "
      ],
      "text/plain": [
       "<IPython.core.display.HTML object>"
      ]
     },
     "metadata": {},
     "output_type": "display_data"
    },
    {
     "data": {
      "text/html": [
       "<style>\n",
       "    table.wandb td:nth-child(1) { padding: 0 10px; text-align: left ; width: auto;} td:nth-child(2) {text-align: left ; width: 100%}\n",
       "    .wandb-row { display: flex; flex-direction: row; flex-wrap: wrap; justify-content: flex-start; width: 100% }\n",
       "    .wandb-col { display: flex; flex-direction: column; flex-basis: 100%; flex: 1; padding: 10px; }\n",
       "    </style>\n",
       "<div class=\"wandb-row\"><div class=\"wandb-col\"><h3>Run history:</h3><br/><table class=\"wandb\"><tr><td>Val_WordAccuracy</td><td>▁▂▃▄▅▆▆▇██</td></tr><tr><td>WordAccuracy</td><td>▁▂▃▄▅▆▆▇██</td></tr><tr><td>accuracy</td><td>▁▅▆▇▇▇████</td></tr><tr><td>epoch</td><td>▂▁▂▂▃▂▄▃▅▄▅▅▆▅▇▆▇▇█▇</td></tr><tr><td>loss</td><td>█▄▃▂▂▂▁▁▁▁</td></tr><tr><td>val_accuracy</td><td>▁▄▅▆▆▇▇▇██</td></tr><tr><td>val_loss</td><td>█▅▄▃▂▂▂▂▁▁</td></tr></table><br/></div><div class=\"wandb-col\"><h3>Run summary:</h3><br/><table class=\"wandb\"><tr><td>Val_WordAccuracy</td><td>0.03521</td></tr><tr><td>WordAccuracy</td><td>0.03521</td></tr><tr><td>accuracy</td><td>0.88058</td></tr><tr><td>best_epoch</td><td>8</td></tr><tr><td>best_val_loss</td><td>0.391</td></tr><tr><td>epoch</td><td>9</td></tr><tr><td>loss</td><td>0.39413</td></tr><tr><td>val_accuracy</td><td>0.88364</td></tr><tr><td>val_loss</td><td>0.39171</td></tr></table><br/></div></div>"
      ],
      "text/plain": [
       "<IPython.core.display.HTML object>"
      ]
     },
     "metadata": {},
     "output_type": "display_data"
    },
    {
     "data": {
      "text/html": [
       " View run <strong style=\"color:#cdcd00\">frosty-sweep-6</strong> at: <a href='https://wandb.ai/manoj_da24s018-iit-madras/Transliterator_HyperParameterSweep/runs/urg5is3l' target=\"_blank\">https://wandb.ai/manoj_da24s018-iit-madras/Transliterator_HyperParameterSweep/runs/urg5is3l</a><br/> View project at: <a href='https://wandb.ai/manoj_da24s018-iit-madras/Transliterator_HyperParameterSweep' target=\"_blank\">https://wandb.ai/manoj_da24s018-iit-madras/Transliterator_HyperParameterSweep</a><br/>Synced 5 W&B file(s), 1 media file(s), 36 artifact file(s) and 1 other file(s)"
      ],
      "text/plain": [
       "<IPython.core.display.HTML object>"
      ]
     },
     "metadata": {},
     "output_type": "display_data"
    },
    {
     "data": {
      "text/html": [
       "Find logs at: <code>.\\wandb\\run-20250515_175521-urg5is3l\\logs</code>"
      ],
      "text/plain": [
       "<IPython.core.display.HTML object>"
      ]
     },
     "metadata": {},
     "output_type": "display_data"
    },
    {
     "name": "stderr",
     "output_type": "stream",
     "text": [
      "wandb: Agent Starting Run: lvqpcjlm with config:\n",
      "wandb: \tcell_type: rnn\n",
      "wandb: \tchar_embedding_dim: 32\n",
      "wandb: \tdecoder_layers: 2\n",
      "wandb: \tdropout: 0.4\n",
      "wandb: \tencoder_layers: 3\n",
      "wandb: \thidden_state_dim: 64\n"
     ]
    },
    {
     "data": {
      "text/html": [
       "wandb version 0.19.11 is available!  To upgrade, please run:\n",
       " $ pip install wandb --upgrade"
      ],
      "text/plain": [
       "<IPython.core.display.HTML object>"
      ]
     },
     "metadata": {},
     "output_type": "display_data"
    },
    {
     "data": {
      "text/html": [
       "Tracking run with wandb version 0.16.6"
      ],
      "text/plain": [
       "<IPython.core.display.HTML object>"
      ]
     },
     "metadata": {},
     "output_type": "display_data"
    },
    {
     "data": {
      "text/html": [
       "Run data is saved locally in <code>D:\\DL\\wandb\\run-20250515_181309-lvqpcjlm</code>"
      ],
      "text/plain": [
       "<IPython.core.display.HTML object>"
      ]
     },
     "metadata": {},
     "output_type": "display_data"
    },
    {
     "data": {
      "text/html": [
       "Syncing run <strong><a href='https://wandb.ai/manoj_da24s018-iit-madras/Transliterator_HyperParameterSweep/runs/lvqpcjlm' target=\"_blank\">smooth-sweep-7</a></strong> to <a href='https://wandb.ai/manoj_da24s018-iit-madras/Transliterator_HyperParameterSweep' target=\"_blank\">Weights & Biases</a> (<a href='https://wandb.me/run' target=\"_blank\">docs</a>)<br/>Sweep page: <a href='https://wandb.ai/manoj_da24s018-iit-madras/Transliterator_HyperParameterSweep/sweeps/fjtuyyfs' target=\"_blank\">https://wandb.ai/manoj_da24s018-iit-madras/Transliterator_HyperParameterSweep/sweeps/fjtuyyfs</a>"
      ],
      "text/plain": [
       "<IPython.core.display.HTML object>"
      ]
     },
     "metadata": {},
     "output_type": "display_data"
    },
    {
     "data": {
      "text/html": [
       " View project at <a href='https://wandb.ai/manoj_da24s018-iit-madras/Transliterator_HyperParameterSweep' target=\"_blank\">https://wandb.ai/manoj_da24s018-iit-madras/Transliterator_HyperParameterSweep</a>"
      ],
      "text/plain": [
       "<IPython.core.display.HTML object>"
      ]
     },
     "metadata": {},
     "output_type": "display_data"
    },
    {
     "data": {
      "text/html": [
       " View sweep at <a href='https://wandb.ai/manoj_da24s018-iit-madras/Transliterator_HyperParameterSweep/sweeps/fjtuyyfs' target=\"_blank\">https://wandb.ai/manoj_da24s018-iit-madras/Transliterator_HyperParameterSweep/sweeps/fjtuyyfs</a>"
      ],
      "text/plain": [
       "<IPython.core.display.HTML object>"
      ]
     },
     "metadata": {},
     "output_type": "display_data"
    },
    {
     "data": {
      "text/html": [
       " View run at <a href='https://wandb.ai/manoj_da24s018-iit-madras/Transliterator_HyperParameterSweep/runs/lvqpcjlm' target=\"_blank\">https://wandb.ai/manoj_da24s018-iit-madras/Transliterator_HyperParameterSweep/runs/lvqpcjlm</a>"
      ],
      "text/plain": [
       "<IPython.core.display.HTML object>"
      ]
     },
     "metadata": {},
     "output_type": "display_data"
    },
    {
     "name": "stdout",
     "output_type": "stream",
     "text": [
      "Sweep Name:  RNN Layer Type: rnn, Character_Embedding_dim: 32, Hidden_dim:64, Num_Encoder_Layer:3, Num_Decoder_Layer:2, Dropout:0.4\n",
      "Epoch 1/10\n",
      "1582/1582 [==============================] - ETA: 0s - loss: 1.0454 - accuracy: 0.7177\n",
      "Epoch 1: Word-level Accuracy = 0.0000\n",
      "INFO:tensorflow:Assets written to: D:\\DL\\wandb\\run-20250515_181309-lvqpcjlm\\files\\model-best\\assets\n"
     ]
    },
    {
     "name": "stderr",
     "output_type": "stream",
     "text": [
      "INFO:tensorflow:Assets written to: D:\\DL\\wandb\\run-20250515_181309-lvqpcjlm\\files\\model-best\\assets\n",
      "wandb: Adding directory to artifact (D:\\DL\\wandb\\run-20250515_181309-lvqpcjlm\\files\\model-best)... Done. 0.0s\n"
     ]
    },
    {
     "name": "stdout",
     "output_type": "stream",
     "text": [
      "1582/1582 [==============================] - 183s 114ms/step - loss: 1.0454 - accuracy: 0.7177 - val_loss: 0.8430 - val_accuracy: 0.7657 - WordAccuracy: 0.0000e+00\n",
      "Epoch 2/10\n",
      "1582/1582 [==============================] - ETA: 0s - loss: 0.8475 - accuracy: 0.7611\n",
      "Epoch 2: Word-level Accuracy = 0.0000\n",
      "INFO:tensorflow:Assets written to: D:\\DL\\wandb\\run-20250515_181309-lvqpcjlm\\files\\model-best\\assets\n"
     ]
    },
    {
     "name": "stderr",
     "output_type": "stream",
     "text": [
      "INFO:tensorflow:Assets written to: D:\\DL\\wandb\\run-20250515_181309-lvqpcjlm\\files\\model-best\\assets\n",
      "wandb: Adding directory to artifact (D:\\DL\\wandb\\run-20250515_181309-lvqpcjlm\\files\\model-best)... Done. 0.0s\n"
     ]
    },
    {
     "name": "stdout",
     "output_type": "stream",
     "text": [
      "1582/1582 [==============================] - 157s 99ms/step - loss: 0.8475 - accuracy: 0.7611 - val_loss: 0.7573 - val_accuracy: 0.7851 - WordAccuracy: 0.0000e+00\n",
      "Epoch 3/10\n",
      "1582/1582 [==============================] - ETA: 0s - loss: 0.7921 - accuracy: 0.7737\n",
      "Epoch 3: Word-level Accuracy = 0.0000\n",
      "INFO:tensorflow:Assets written to: D:\\DL\\wandb\\run-20250515_181309-lvqpcjlm\\files\\model-best\\assets\n"
     ]
    },
    {
     "name": "stderr",
     "output_type": "stream",
     "text": [
      "INFO:tensorflow:Assets written to: D:\\DL\\wandb\\run-20250515_181309-lvqpcjlm\\files\\model-best\\assets\n",
      "wandb: Adding directory to artifact (D:\\DL\\wandb\\run-20250515_181309-lvqpcjlm\\files\\model-best)... Done. 0.0s\n"
     ]
    },
    {
     "name": "stdout",
     "output_type": "stream",
     "text": [
      "1582/1582 [==============================] - 186s 117ms/step - loss: 0.7921 - accuracy: 0.7737 - val_loss: 0.7274 - val_accuracy: 0.7952 - WordAccuracy: 0.0000e+00\n",
      "Epoch 4/10\n",
      "1582/1582 [==============================] - ETA: 0s - loss: 0.7615 - accuracy: 0.7825\n",
      "Epoch 4: Word-level Accuracy = 0.0002\n",
      "INFO:tensorflow:Assets written to: D:\\DL\\wandb\\run-20250515_181309-lvqpcjlm\\files\\model-best\\assets\n"
     ]
    },
    {
     "name": "stderr",
     "output_type": "stream",
     "text": [
      "INFO:tensorflow:Assets written to: D:\\DL\\wandb\\run-20250515_181309-lvqpcjlm\\files\\model-best\\assets\n",
      "wandb: Adding directory to artifact (D:\\DL\\wandb\\run-20250515_181309-lvqpcjlm\\files\\model-best)... Done. 0.0s\n"
     ]
    },
    {
     "name": "stdout",
     "output_type": "stream",
     "text": [
      "1582/1582 [==============================] - 177s 112ms/step - loss: 0.7615 - accuracy: 0.7825 - val_loss: 0.7072 - val_accuracy: 0.7973 - WordAccuracy: 1.9893e-04\n",
      "Epoch 5/10\n",
      "1582/1582 [==============================] - ETA: 0s - loss: 0.7470 - accuracy: 0.7856\n",
      "Epoch 5: Word-level Accuracy = 0.0004\n",
      "INFO:tensorflow:Assets written to: D:\\DL\\wandb\\run-20250515_181309-lvqpcjlm\\files\\model-best\\assets\n"
     ]
    },
    {
     "name": "stderr",
     "output_type": "stream",
     "text": [
      "INFO:tensorflow:Assets written to: D:\\DL\\wandb\\run-20250515_181309-lvqpcjlm\\files\\model-best\\assets\n",
      "wandb: Adding directory to artifact (D:\\DL\\wandb\\run-20250515_181309-lvqpcjlm\\files\\model-best)... Done. 0.0s\n"
     ]
    },
    {
     "name": "stdout",
     "output_type": "stream",
     "text": [
      "1582/1582 [==============================] - 183s 116ms/step - loss: 0.7470 - accuracy: 0.7856 - val_loss: 0.6980 - val_accuracy: 0.7994 - WordAccuracy: 3.9785e-04\n",
      "Epoch 6/10\n",
      "1582/1582 [==============================] - ETA: 0s - loss: 0.7418 - accuracy: 0.7868\n",
      "Epoch 6: Word-level Accuracy = 0.0002\n",
      "INFO:tensorflow:Assets written to: D:\\DL\\wandb\\run-20250515_181309-lvqpcjlm\\files\\model-best\\assets\n"
     ]
    },
    {
     "name": "stderr",
     "output_type": "stream",
     "text": [
      "INFO:tensorflow:Assets written to: D:\\DL\\wandb\\run-20250515_181309-lvqpcjlm\\files\\model-best\\assets\n",
      "wandb: Adding directory to artifact (D:\\DL\\wandb\\run-20250515_181309-lvqpcjlm\\files\\model-best)... Done. 0.0s\n"
     ]
    },
    {
     "name": "stdout",
     "output_type": "stream",
     "text": [
      "1582/1582 [==============================] - 177s 112ms/step - loss: 0.7418 - accuracy: 0.7868 - val_loss: 0.6893 - val_accuracy: 0.8023 - WordAccuracy: 1.9893e-04\n",
      "Epoch 7/10\n",
      "1582/1582 [==============================] - ETA: 0s - loss: 0.7287 - accuracy: 0.7900\n",
      "Epoch 7: Word-level Accuracy = 0.0004\n",
      "INFO:tensorflow:Assets written to: D:\\DL\\wandb\\run-20250515_181309-lvqpcjlm\\files\\model-best\\assets\n"
     ]
    },
    {
     "name": "stderr",
     "output_type": "stream",
     "text": [
      "INFO:tensorflow:Assets written to: D:\\DL\\wandb\\run-20250515_181309-lvqpcjlm\\files\\model-best\\assets\n",
      "wandb: Adding directory to artifact (D:\\DL\\wandb\\run-20250515_181309-lvqpcjlm\\files\\model-best)... Done. 0.0s\n"
     ]
    },
    {
     "name": "stdout",
     "output_type": "stream",
     "text": [
      "1582/1582 [==============================] - 172s 109ms/step - loss: 0.7287 - accuracy: 0.7900 - val_loss: 0.6862 - val_accuracy: 0.8029 - WordAccuracy: 3.9785e-04\n",
      "Epoch 8/10\n",
      "1582/1582 [==============================] - ETA: 0s - loss: 0.7184 - accuracy: 0.7921\n",
      "Epoch 8: Word-level Accuracy = 0.0006\n",
      "INFO:tensorflow:Assets written to: D:\\DL\\wandb\\run-20250515_181309-lvqpcjlm\\files\\model-best\\assets\n"
     ]
    },
    {
     "name": "stderr",
     "output_type": "stream",
     "text": [
      "INFO:tensorflow:Assets written to: D:\\DL\\wandb\\run-20250515_181309-lvqpcjlm\\files\\model-best\\assets\n",
      "wandb: Adding directory to artifact (D:\\DL\\wandb\\run-20250515_181309-lvqpcjlm\\files\\model-best)... Done. 0.0s\n"
     ]
    },
    {
     "name": "stdout",
     "output_type": "stream",
     "text": [
      "1582/1582 [==============================] - 176s 111ms/step - loss: 0.7184 - accuracy: 0.7921 - val_loss: 0.6786 - val_accuracy: 0.8058 - WordAccuracy: 5.9678e-04\n",
      "Epoch 9/10\n",
      "1582/1582 [==============================] - ETA: 0s - loss: 0.7192 - accuracy: 0.7921\n",
      "Epoch 9: Word-level Accuracy = 0.0000\n",
      "1582/1582 [==============================] - 165s 104ms/step - loss: 0.7192 - accuracy: 0.7921 - val_loss: 0.7095 - val_accuracy: 0.8008 - WordAccuracy: 0.0000e+00\n",
      "Epoch 10/10\n",
      "1582/1582 [==============================] - ETA: 0s - loss: 0.7190 - accuracy: 0.7927\n",
      "Epoch 10: Word-level Accuracy = 0.0000\n",
      "INFO:tensorflow:Assets written to: D:\\DL\\wandb\\run-20250515_181309-lvqpcjlm\\files\\model-best\\assets\n"
     ]
    },
    {
     "name": "stderr",
     "output_type": "stream",
     "text": [
      "INFO:tensorflow:Assets written to: D:\\DL\\wandb\\run-20250515_181309-lvqpcjlm\\files\\model-best\\assets\n",
      "wandb: Adding directory to artifact (D:\\DL\\wandb\\run-20250515_181309-lvqpcjlm\\files\\model-best)... Done. 0.0s\n"
     ]
    },
    {
     "name": "stdout",
     "output_type": "stream",
     "text": [
      "1582/1582 [==============================] - 175s 111ms/step - loss: 0.7190 - accuracy: 0.7927 - val_loss: 0.6735 - val_accuracy: 0.8072 - WordAccuracy: 0.0000e+00\n"
     ]
    },
    {
     "data": {
      "application/vnd.jupyter.widget-view+json": {
       "model_id": "0d45212cc646468581bc28e94eee1b98",
       "version_major": 2,
       "version_minor": 0
      },
      "text/plain": [
       "VBox(children=(Label(value='16.066 MB of 16.066 MB uploaded (0.262 MB deduped)\\r'), FloatProgress(value=1.0, m…"
      ]
     },
     "metadata": {},
     "output_type": "display_data"
    },
    {
     "data": {
      "text/html": [
       "W&B sync reduced upload amount by 1.6%             "
      ],
      "text/plain": [
       "<IPython.core.display.HTML object>"
      ]
     },
     "metadata": {},
     "output_type": "display_data"
    },
    {
     "data": {
      "text/html": [
       "<style>\n",
       "    table.wandb td:nth-child(1) { padding: 0 10px; text-align: left ; width: auto;} td:nth-child(2) {text-align: left ; width: 100%}\n",
       "    .wandb-row { display: flex; flex-direction: row; flex-wrap: wrap; justify-content: flex-start; width: 100% }\n",
       "    .wandb-col { display: flex; flex-direction: column; flex-basis: 100%; flex: 1; padding: 10px; }\n",
       "    </style>\n",
       "<div class=\"wandb-row\"><div class=\"wandb-col\"><h3>Run history:</h3><br/><table class=\"wandb\"><tr><td>Val_WordAccuracy</td><td>▁▁▁▃▆▃▆█▁▁</td></tr><tr><td>WordAccuracy</td><td>▁▁▁▃▆▃▆█▁▁</td></tr><tr><td>accuracy</td><td>▁▅▆▇▇▇████</td></tr><tr><td>epoch</td><td>▂▁▂▂▃▂▄▃▅▄▅▅▆▅▇▆▇▇█▇</td></tr><tr><td>loss</td><td>█▄▃▂▂▂▁▁▁▁</td></tr><tr><td>val_accuracy</td><td>▁▄▆▆▇▇▇█▇█</td></tr><tr><td>val_loss</td><td>█▄▃▂▂▂▂▁▂▁</td></tr></table><br/></div><div class=\"wandb-col\"><h3>Run summary:</h3><br/><table class=\"wandb\"><tr><td>Val_WordAccuracy</td><td>0.0</td></tr><tr><td>WordAccuracy</td><td>0.0</td></tr><tr><td>accuracy</td><td>0.79272</td></tr><tr><td>best_epoch</td><td>9</td></tr><tr><td>best_val_loss</td><td>0.67347</td></tr><tr><td>epoch</td><td>9</td></tr><tr><td>loss</td><td>0.71904</td></tr><tr><td>val_accuracy</td><td>0.80722</td></tr><tr><td>val_loss</td><td>0.67347</td></tr></table><br/></div></div>"
      ],
      "text/plain": [
       "<IPython.core.display.HTML object>"
      ]
     },
     "metadata": {},
     "output_type": "display_data"
    },
    {
     "data": {
      "text/html": [
       " View run <strong style=\"color:#cdcd00\">smooth-sweep-7</strong> at: <a href='https://wandb.ai/manoj_da24s018-iit-madras/Transliterator_HyperParameterSweep/runs/lvqpcjlm' target=\"_blank\">https://wandb.ai/manoj_da24s018-iit-madras/Transliterator_HyperParameterSweep/runs/lvqpcjlm</a><br/> View project at: <a href='https://wandb.ai/manoj_da24s018-iit-madras/Transliterator_HyperParameterSweep' target=\"_blank\">https://wandb.ai/manoj_da24s018-iit-madras/Transliterator_HyperParameterSweep</a><br/>Synced 5 W&B file(s), 1 media file(s), 36 artifact file(s) and 1 other file(s)"
      ],
      "text/plain": [
       "<IPython.core.display.HTML object>"
      ]
     },
     "metadata": {},
     "output_type": "display_data"
    },
    {
     "data": {
      "text/html": [
       "Find logs at: <code>.\\wandb\\run-20250515_181309-lvqpcjlm\\logs</code>"
      ],
      "text/plain": [
       "<IPython.core.display.HTML object>"
      ]
     },
     "metadata": {},
     "output_type": "display_data"
    },
    {
     "name": "stderr",
     "output_type": "stream",
     "text": [
      "wandb: Agent Starting Run: 2zp841ea with config:\n",
      "wandb: \tcell_type: gru\n",
      "wandb: \tchar_embedding_dim: 12\n",
      "wandb: \tdecoder_layers: 2\n",
      "wandb: \tdropout: 0.3\n",
      "wandb: \tencoder_layers: 3\n",
      "wandb: \thidden_state_dim: 128\n"
     ]
    },
    {
     "data": {
      "text/html": [
       "wandb version 0.19.11 is available!  To upgrade, please run:\n",
       " $ pip install wandb --upgrade"
      ],
      "text/plain": [
       "<IPython.core.display.HTML object>"
      ]
     },
     "metadata": {},
     "output_type": "display_data"
    },
    {
     "data": {
      "text/html": [
       "Tracking run with wandb version 0.16.6"
      ],
      "text/plain": [
       "<IPython.core.display.HTML object>"
      ]
     },
     "metadata": {},
     "output_type": "display_data"
    },
    {
     "data": {
      "text/html": [
       "Run data is saved locally in <code>D:\\DL\\wandb\\run-20250515_184243-2zp841ea</code>"
      ],
      "text/plain": [
       "<IPython.core.display.HTML object>"
      ]
     },
     "metadata": {},
     "output_type": "display_data"
    },
    {
     "data": {
      "text/html": [
       "Syncing run <strong><a href='https://wandb.ai/manoj_da24s018-iit-madras/Transliterator_HyperParameterSweep/runs/2zp841ea' target=\"_blank\">exalted-sweep-8</a></strong> to <a href='https://wandb.ai/manoj_da24s018-iit-madras/Transliterator_HyperParameterSweep' target=\"_blank\">Weights & Biases</a> (<a href='https://wandb.me/run' target=\"_blank\">docs</a>)<br/>Sweep page: <a href='https://wandb.ai/manoj_da24s018-iit-madras/Transliterator_HyperParameterSweep/sweeps/fjtuyyfs' target=\"_blank\">https://wandb.ai/manoj_da24s018-iit-madras/Transliterator_HyperParameterSweep/sweeps/fjtuyyfs</a>"
      ],
      "text/plain": [
       "<IPython.core.display.HTML object>"
      ]
     },
     "metadata": {},
     "output_type": "display_data"
    },
    {
     "data": {
      "text/html": [
       " View project at <a href='https://wandb.ai/manoj_da24s018-iit-madras/Transliterator_HyperParameterSweep' target=\"_blank\">https://wandb.ai/manoj_da24s018-iit-madras/Transliterator_HyperParameterSweep</a>"
      ],
      "text/plain": [
       "<IPython.core.display.HTML object>"
      ]
     },
     "metadata": {},
     "output_type": "display_data"
    },
    {
     "data": {
      "text/html": [
       " View sweep at <a href='https://wandb.ai/manoj_da24s018-iit-madras/Transliterator_HyperParameterSweep/sweeps/fjtuyyfs' target=\"_blank\">https://wandb.ai/manoj_da24s018-iit-madras/Transliterator_HyperParameterSweep/sweeps/fjtuyyfs</a>"
      ],
      "text/plain": [
       "<IPython.core.display.HTML object>"
      ]
     },
     "metadata": {},
     "output_type": "display_data"
    },
    {
     "data": {
      "text/html": [
       " View run at <a href='https://wandb.ai/manoj_da24s018-iit-madras/Transliterator_HyperParameterSweep/runs/2zp841ea' target=\"_blank\">https://wandb.ai/manoj_da24s018-iit-madras/Transliterator_HyperParameterSweep/runs/2zp841ea</a>"
      ],
      "text/plain": [
       "<IPython.core.display.HTML object>"
      ]
     },
     "metadata": {},
     "output_type": "display_data"
    },
    {
     "name": "stdout",
     "output_type": "stream",
     "text": [
      "Sweep Name:  RNN Layer Type: gru, Character_Embedding_dim: 12, Hidden_dim:128, Num_Encoder_Layer:3, Num_Decoder_Layer:2, Dropout:0.3\n",
      "Epoch 1/10\n",
      "1582/1582 [==============================] - ETA: 0s - loss: 1.0094 - accuracy: 0.7274\n",
      "Epoch 1: Word-level Accuracy = 0.0000\n"
     ]
    },
    {
     "name": "stderr",
     "output_type": "stream",
     "text": [
      "WARNING:absl:Found untraced functions such as gru_cell_layer_call_fn, gru_cell_layer_call_and_return_conditional_losses, gru_cell_1_layer_call_fn, gru_cell_1_layer_call_and_return_conditional_losses, gru_cell_2_layer_call_fn while saving (showing 5 of 10). These functions will not be directly callable after loading.\n"
     ]
    },
    {
     "name": "stdout",
     "output_type": "stream",
     "text": [
      "INFO:tensorflow:Assets written to: D:\\DL\\wandb\\run-20250515_184243-2zp841ea\\files\\model-best\\assets\n"
     ]
    },
    {
     "name": "stderr",
     "output_type": "stream",
     "text": [
      "INFO:tensorflow:Assets written to: D:\\DL\\wandb\\run-20250515_184243-2zp841ea\\files\\model-best\\assets\n",
      "wandb: Adding directory to artifact (D:\\DL\\wandb\\run-20250515_184243-2zp841ea\\files\\model-best)... Done. 0.0s\n"
     ]
    },
    {
     "name": "stdout",
     "output_type": "stream",
     "text": [
      "1582/1582 [==============================] - 39s 22ms/step - loss: 1.0094 - accuracy: 0.7274 - val_loss: 0.7809 - val_accuracy: 0.7786 - WordAccuracy: 0.0000e+00\n",
      "Epoch 2/10\n",
      "1581/1582 [============================>.] - ETA: 0s - loss: 0.7330 - accuracy: 0.7884\n",
      "Epoch 2: Word-level Accuracy = 0.0004\n"
     ]
    },
    {
     "name": "stderr",
     "output_type": "stream",
     "text": [
      "WARNING:absl:Found untraced functions such as gru_cell_layer_call_fn, gru_cell_layer_call_and_return_conditional_losses, gru_cell_1_layer_call_fn, gru_cell_1_layer_call_and_return_conditional_losses, gru_cell_2_layer_call_fn while saving (showing 5 of 10). These functions will not be directly callable after loading.\n"
     ]
    },
    {
     "name": "stdout",
     "output_type": "stream",
     "text": [
      "INFO:tensorflow:Assets written to: D:\\DL\\wandb\\run-20250515_184243-2zp841ea\\files\\model-best\\assets\n"
     ]
    },
    {
     "name": "stderr",
     "output_type": "stream",
     "text": [
      "INFO:tensorflow:Assets written to: D:\\DL\\wandb\\run-20250515_184243-2zp841ea\\files\\model-best\\assets\n",
      "wandb: Adding directory to artifact (D:\\DL\\wandb\\run-20250515_184243-2zp841ea\\files\\model-best)... Done. 0.0s\n"
     ]
    },
    {
     "name": "stdout",
     "output_type": "stream",
     "text": [
      "1582/1582 [==============================] - 32s 20ms/step - loss: 0.7329 - accuracy: 0.7884 - val_loss: 0.6197 - val_accuracy: 0.8222 - WordAccuracy: 3.9785e-04\n",
      "Epoch 3/10\n",
      "1581/1582 [============================>.] - ETA: 0s - loss: 0.5843 - accuracy: 0.8274\n",
      "Epoch 3: Word-level Accuracy = 0.0103\n"
     ]
    },
    {
     "name": "stderr",
     "output_type": "stream",
     "text": [
      "WARNING:absl:Found untraced functions such as gru_cell_layer_call_fn, gru_cell_layer_call_and_return_conditional_losses, gru_cell_1_layer_call_fn, gru_cell_1_layer_call_and_return_conditional_losses, gru_cell_2_layer_call_fn while saving (showing 5 of 10). These functions will not be directly callable after loading.\n"
     ]
    },
    {
     "name": "stdout",
     "output_type": "stream",
     "text": [
      "INFO:tensorflow:Assets written to: D:\\DL\\wandb\\run-20250515_184243-2zp841ea\\files\\model-best\\assets\n"
     ]
    },
    {
     "name": "stderr",
     "output_type": "stream",
     "text": [
      "INFO:tensorflow:Assets written to: D:\\DL\\wandb\\run-20250515_184243-2zp841ea\\files\\model-best\\assets\n",
      "wandb: Adding directory to artifact (D:\\DL\\wandb\\run-20250515_184243-2zp841ea\\files\\model-best)... Done. 0.0s\n"
     ]
    },
    {
     "name": "stdout",
     "output_type": "stream",
     "text": [
      "1582/1582 [==============================] - 32s 20ms/step - loss: 0.5843 - accuracy: 0.8274 - val_loss: 0.4899 - val_accuracy: 0.8550 - WordAccuracy: 0.0103\n",
      "Epoch 4/10\n",
      "1579/1582 [============================>.] - ETA: 0s - loss: 0.4710 - accuracy: 0.8581\n",
      "Epoch 4: Word-level Accuracy = 0.0286\n"
     ]
    },
    {
     "name": "stderr",
     "output_type": "stream",
     "text": [
      "WARNING:absl:Found untraced functions such as gru_cell_layer_call_fn, gru_cell_layer_call_and_return_conditional_losses, gru_cell_1_layer_call_fn, gru_cell_1_layer_call_and_return_conditional_losses, gru_cell_2_layer_call_fn while saving (showing 5 of 10). These functions will not be directly callable after loading.\n"
     ]
    },
    {
     "name": "stdout",
     "output_type": "stream",
     "text": [
      "INFO:tensorflow:Assets written to: D:\\DL\\wandb\\run-20250515_184243-2zp841ea\\files\\model-best\\assets\n"
     ]
    },
    {
     "name": "stderr",
     "output_type": "stream",
     "text": [
      "INFO:tensorflow:Assets written to: D:\\DL\\wandb\\run-20250515_184243-2zp841ea\\files\\model-best\\assets\n",
      "wandb: Adding directory to artifact (D:\\DL\\wandb\\run-20250515_184243-2zp841ea\\files\\model-best)... Done. 0.0s\n"
     ]
    },
    {
     "name": "stdout",
     "output_type": "stream",
     "text": [
      "1582/1582 [==============================] - 32s 20ms/step - loss: 0.4709 - accuracy: 0.8581 - val_loss: 0.4006 - val_accuracy: 0.8796 - WordAccuracy: 0.0286\n",
      "Epoch 5/10\n",
      "1579/1582 [============================>.] - ETA: 0s - loss: 0.3905 - accuracy: 0.8813\n",
      "Epoch 5: Word-level Accuracy = 0.0672\n"
     ]
    },
    {
     "name": "stderr",
     "output_type": "stream",
     "text": [
      "WARNING:absl:Found untraced functions such as gru_cell_layer_call_fn, gru_cell_layer_call_and_return_conditional_losses, gru_cell_1_layer_call_fn, gru_cell_1_layer_call_and_return_conditional_losses, gru_cell_2_layer_call_fn while saving (showing 5 of 10). These functions will not be directly callable after loading.\n"
     ]
    },
    {
     "name": "stdout",
     "output_type": "stream",
     "text": [
      "INFO:tensorflow:Assets written to: D:\\DL\\wandb\\run-20250515_184243-2zp841ea\\files\\model-best\\assets\n"
     ]
    },
    {
     "name": "stderr",
     "output_type": "stream",
     "text": [
      "INFO:tensorflow:Assets written to: D:\\DL\\wandb\\run-20250515_184243-2zp841ea\\files\\model-best\\assets\n",
      "wandb: Adding directory to artifact (D:\\DL\\wandb\\run-20250515_184243-2zp841ea\\files\\model-best)... Done. 0.0s\n"
     ]
    },
    {
     "name": "stdout",
     "output_type": "stream",
     "text": [
      "1582/1582 [==============================] - 33s 21ms/step - loss: 0.3904 - accuracy: 0.8813 - val_loss: 0.3360 - val_accuracy: 0.8980 - WordAccuracy: 0.0672\n",
      "Epoch 6/10\n",
      "1579/1582 [============================>.] - ETA: 0s - loss: 0.3315 - accuracy: 0.8988\n",
      "Epoch 6: Word-level Accuracy = 0.1154\n"
     ]
    },
    {
     "name": "stderr",
     "output_type": "stream",
     "text": [
      "WARNING:absl:Found untraced functions such as gru_cell_layer_call_fn, gru_cell_layer_call_and_return_conditional_losses, gru_cell_1_layer_call_fn, gru_cell_1_layer_call_and_return_conditional_losses, gru_cell_2_layer_call_fn while saving (showing 5 of 10). These functions will not be directly callable after loading.\n"
     ]
    },
    {
     "name": "stdout",
     "output_type": "stream",
     "text": [
      "INFO:tensorflow:Assets written to: D:\\DL\\wandb\\run-20250515_184243-2zp841ea\\files\\model-best\\assets\n"
     ]
    },
    {
     "name": "stderr",
     "output_type": "stream",
     "text": [
      "INFO:tensorflow:Assets written to: D:\\DL\\wandb\\run-20250515_184243-2zp841ea\\files\\model-best\\assets\n",
      "wandb: Adding directory to artifact (D:\\DL\\wandb\\run-20250515_184243-2zp841ea\\files\\model-best)... Done. 0.0s\n"
     ]
    },
    {
     "name": "stdout",
     "output_type": "stream",
     "text": [
      "1582/1582 [==============================] - 33s 21ms/step - loss: 0.3315 - accuracy: 0.8989 - val_loss: 0.2928 - val_accuracy: 0.9112 - WordAccuracy: 0.1154\n",
      "Epoch 7/10\n",
      "1580/1582 [============================>.] - ETA: 0s - loss: 0.2856 - accuracy: 0.9127\n",
      "Epoch 7: Word-level Accuracy = 0.1735\n"
     ]
    },
    {
     "name": "stderr",
     "output_type": "stream",
     "text": [
      "WARNING:absl:Found untraced functions such as gru_cell_layer_call_fn, gru_cell_layer_call_and_return_conditional_losses, gru_cell_1_layer_call_fn, gru_cell_1_layer_call_and_return_conditional_losses, gru_cell_2_layer_call_fn while saving (showing 5 of 10). These functions will not be directly callable after loading.\n"
     ]
    },
    {
     "name": "stdout",
     "output_type": "stream",
     "text": [
      "INFO:tensorflow:Assets written to: D:\\DL\\wandb\\run-20250515_184243-2zp841ea\\files\\model-best\\assets\n"
     ]
    },
    {
     "name": "stderr",
     "output_type": "stream",
     "text": [
      "INFO:tensorflow:Assets written to: D:\\DL\\wandb\\run-20250515_184243-2zp841ea\\files\\model-best\\assets\n",
      "wandb: Adding directory to artifact (D:\\DL\\wandb\\run-20250515_184243-2zp841ea\\files\\model-best)... Done. 0.0s\n"
     ]
    },
    {
     "name": "stdout",
     "output_type": "stream",
     "text": [
      "1582/1582 [==============================] - 33s 21ms/step - loss: 0.2856 - accuracy: 0.9127 - val_loss: 0.2534 - val_accuracy: 0.9239 - WordAccuracy: 0.1735\n",
      "Epoch 8/10\n",
      "1581/1582 [============================>.] - ETA: 0s - loss: 0.2507 - accuracy: 0.9228\n",
      "Epoch 8: Word-level Accuracy = 0.1997\n"
     ]
    },
    {
     "name": "stderr",
     "output_type": "stream",
     "text": [
      "WARNING:absl:Found untraced functions such as gru_cell_layer_call_fn, gru_cell_layer_call_and_return_conditional_losses, gru_cell_1_layer_call_fn, gru_cell_1_layer_call_and_return_conditional_losses, gru_cell_2_layer_call_fn while saving (showing 5 of 10). These functions will not be directly callable after loading.\n"
     ]
    },
    {
     "name": "stdout",
     "output_type": "stream",
     "text": [
      "INFO:tensorflow:Assets written to: D:\\DL\\wandb\\run-20250515_184243-2zp841ea\\files\\model-best\\assets\n"
     ]
    },
    {
     "name": "stderr",
     "output_type": "stream",
     "text": [
      "INFO:tensorflow:Assets written to: D:\\DL\\wandb\\run-20250515_184243-2zp841ea\\files\\model-best\\assets\n",
      "wandb: Adding directory to artifact (D:\\DL\\wandb\\run-20250515_184243-2zp841ea\\files\\model-best)... Done. 0.0s\n"
     ]
    },
    {
     "name": "stdout",
     "output_type": "stream",
     "text": [
      "1582/1582 [==============================] - 33s 21ms/step - loss: 0.2507 - accuracy: 0.9228 - val_loss: 0.2301 - val_accuracy: 0.9316 - WordAccuracy: 0.1997\n",
      "Epoch 9/10\n",
      "1579/1582 [============================>.] - ETA: 0s - loss: 0.2253 - accuracy: 0.9303\n",
      "Epoch 9: Word-level Accuracy = 0.2236\n"
     ]
    },
    {
     "name": "stderr",
     "output_type": "stream",
     "text": [
      "WARNING:absl:Found untraced functions such as gru_cell_layer_call_fn, gru_cell_layer_call_and_return_conditional_losses, gru_cell_1_layer_call_fn, gru_cell_1_layer_call_and_return_conditional_losses, gru_cell_2_layer_call_fn while saving (showing 5 of 10). These functions will not be directly callable after loading.\n"
     ]
    },
    {
     "name": "stdout",
     "output_type": "stream",
     "text": [
      "INFO:tensorflow:Assets written to: D:\\DL\\wandb\\run-20250515_184243-2zp841ea\\files\\model-best\\assets\n"
     ]
    },
    {
     "name": "stderr",
     "output_type": "stream",
     "text": [
      "INFO:tensorflow:Assets written to: D:\\DL\\wandb\\run-20250515_184243-2zp841ea\\files\\model-best\\assets\n",
      "wandb: Adding directory to artifact (D:\\DL\\wandb\\run-20250515_184243-2zp841ea\\files\\model-best)... Done. 0.0s\n"
     ]
    },
    {
     "name": "stdout",
     "output_type": "stream",
     "text": [
      "1582/1582 [==============================] - 32s 20ms/step - loss: 0.2253 - accuracy: 0.9303 - val_loss: 0.2148 - val_accuracy: 0.9358 - WordAccuracy: 0.2236\n",
      "Epoch 10/10\n",
      "1580/1582 [============================>.] - ETA: 0s - loss: 0.2059 - accuracy: 0.9362\n",
      "Epoch 10: Word-level Accuracy = 0.2495\n"
     ]
    },
    {
     "name": "stderr",
     "output_type": "stream",
     "text": [
      "WARNING:absl:Found untraced functions such as gru_cell_layer_call_fn, gru_cell_layer_call_and_return_conditional_losses, gru_cell_1_layer_call_fn, gru_cell_1_layer_call_and_return_conditional_losses, gru_cell_2_layer_call_fn while saving (showing 5 of 10). These functions will not be directly callable after loading.\n"
     ]
    },
    {
     "name": "stdout",
     "output_type": "stream",
     "text": [
      "INFO:tensorflow:Assets written to: D:\\DL\\wandb\\run-20250515_184243-2zp841ea\\files\\model-best\\assets\n"
     ]
    },
    {
     "name": "stderr",
     "output_type": "stream",
     "text": [
      "INFO:tensorflow:Assets written to: D:\\DL\\wandb\\run-20250515_184243-2zp841ea\\files\\model-best\\assets\n",
      "wandb: Adding directory to artifact (D:\\DL\\wandb\\run-20250515_184243-2zp841ea\\files\\model-best)... Done. 0.0s\n"
     ]
    },
    {
     "name": "stdout",
     "output_type": "stream",
     "text": [
      "1582/1582 [==============================] - 32s 20ms/step - loss: 0.2059 - accuracy: 0.9362 - val_loss: 0.1977 - val_accuracy: 0.9402 - WordAccuracy: 0.2495\n"
     ]
    },
    {
     "data": {
      "application/vnd.jupyter.widget-view+json": {
       "model_id": "b284eca268134cd8a62d37a9ead01175",
       "version_major": 2,
       "version_minor": 0
      },
      "text/plain": [
       "VBox(children=(Label(value='78.728 MB of 78.728 MB uploaded (0.304 MB deduped)\\r'), FloatProgress(value=1.0, m…"
      ]
     },
     "metadata": {},
     "output_type": "display_data"
    },
    {
     "data": {
      "text/html": [
       "<style>\n",
       "    table.wandb td:nth-child(1) { padding: 0 10px; text-align: left ; width: auto;} td:nth-child(2) {text-align: left ; width: 100%}\n",
       "    .wandb-row { display: flex; flex-direction: row; flex-wrap: wrap; justify-content: flex-start; width: 100% }\n",
       "    .wandb-col { display: flex; flex-direction: column; flex-basis: 100%; flex: 1; padding: 10px; }\n",
       "    </style>\n",
       "<div class=\"wandb-row\"><div class=\"wandb-col\"><h3>Run history:</h3><br/><table class=\"wandb\"><tr><td>Val_WordAccuracy</td><td>▁▁▁▂▃▄▆▇▇█</td></tr><tr><td>WordAccuracy</td><td>▁▁▁▂▃▄▆▇▇█</td></tr><tr><td>accuracy</td><td>▁▃▄▅▆▇▇███</td></tr><tr><td>epoch</td><td>▂▁▂▂▃▂▄▃▅▄▅▅▆▅▇▆▇▇█▇</td></tr><tr><td>loss</td><td>█▆▄▃▃▂▂▁▁▁</td></tr><tr><td>val_accuracy</td><td>▁▃▄▅▆▇▇███</td></tr><tr><td>val_loss</td><td>█▆▅▃▃▂▂▁▁▁</td></tr></table><br/></div><div class=\"wandb-col\"><h3>Run summary:</h3><br/><table class=\"wandb\"><tr><td>Val_WordAccuracy</td><td>0.24945</td></tr><tr><td>WordAccuracy</td><td>0.24945</td></tr><tr><td>accuracy</td><td>0.93617</td></tr><tr><td>best_epoch</td><td>9</td></tr><tr><td>best_val_loss</td><td>0.19768</td></tr><tr><td>epoch</td><td>9</td></tr><tr><td>loss</td><td>0.20589</td></tr><tr><td>val_accuracy</td><td>0.94022</td></tr><tr><td>val_loss</td><td>0.19768</td></tr></table><br/></div></div>"
      ],
      "text/plain": [
       "<IPython.core.display.HTML object>"
      ]
     },
     "metadata": {},
     "output_type": "display_data"
    },
    {
     "data": {
      "text/html": [
       " View run <strong style=\"color:#cdcd00\">exalted-sweep-8</strong> at: <a href='https://wandb.ai/manoj_da24s018-iit-madras/Transliterator_HyperParameterSweep/runs/2zp841ea' target=\"_blank\">https://wandb.ai/manoj_da24s018-iit-madras/Transliterator_HyperParameterSweep/runs/2zp841ea</a><br/> View project at: <a href='https://wandb.ai/manoj_da24s018-iit-madras/Transliterator_HyperParameterSweep' target=\"_blank\">https://wandb.ai/manoj_da24s018-iit-madras/Transliterator_HyperParameterSweep</a><br/>Synced 5 W&B file(s), 1 media file(s), 40 artifact file(s) and 1 other file(s)"
      ],
      "text/plain": [
       "<IPython.core.display.HTML object>"
      ]
     },
     "metadata": {},
     "output_type": "display_data"
    },
    {
     "data": {
      "text/html": [
       "Find logs at: <code>.\\wandb\\run-20250515_184243-2zp841ea\\logs</code>"
      ],
      "text/plain": [
       "<IPython.core.display.HTML object>"
      ]
     },
     "metadata": {},
     "output_type": "display_data"
    },
    {
     "name": "stderr",
     "output_type": "stream",
     "text": [
      "wandb: Agent Starting Run: 1jzk677s with config:\n",
      "wandb: \tcell_type: gru\n",
      "wandb: \tchar_embedding_dim: 32\n",
      "wandb: \tdecoder_layers: 2\n",
      "wandb: \tdropout: 0.1\n",
      "wandb: \tencoder_layers: 3\n",
      "wandb: \thidden_state_dim: 256\n"
     ]
    },
    {
     "data": {
      "text/html": [
       "wandb version 0.19.11 is available!  To upgrade, please run:\n",
       " $ pip install wandb --upgrade"
      ],
      "text/plain": [
       "<IPython.core.display.HTML object>"
      ]
     },
     "metadata": {},
     "output_type": "display_data"
    },
    {
     "data": {
      "text/html": [
       "Tracking run with wandb version 0.16.6"
      ],
      "text/plain": [
       "<IPython.core.display.HTML object>"
      ]
     },
     "metadata": {},
     "output_type": "display_data"
    },
    {
     "data": {
      "text/html": [
       "Run data is saved locally in <code>D:\\DL\\wandb\\run-20250515_184833-1jzk677s</code>"
      ],
      "text/plain": [
       "<IPython.core.display.HTML object>"
      ]
     },
     "metadata": {},
     "output_type": "display_data"
    },
    {
     "data": {
      "text/html": [
       "Syncing run <strong><a href='https://wandb.ai/manoj_da24s018-iit-madras/Transliterator_HyperParameterSweep/runs/1jzk677s' target=\"_blank\">iconic-sweep-9</a></strong> to <a href='https://wandb.ai/manoj_da24s018-iit-madras/Transliterator_HyperParameterSweep' target=\"_blank\">Weights & Biases</a> (<a href='https://wandb.me/run' target=\"_blank\">docs</a>)<br/>Sweep page: <a href='https://wandb.ai/manoj_da24s018-iit-madras/Transliterator_HyperParameterSweep/sweeps/fjtuyyfs' target=\"_blank\">https://wandb.ai/manoj_da24s018-iit-madras/Transliterator_HyperParameterSweep/sweeps/fjtuyyfs</a>"
      ],
      "text/plain": [
       "<IPython.core.display.HTML object>"
      ]
     },
     "metadata": {},
     "output_type": "display_data"
    },
    {
     "data": {
      "text/html": [
       " View project at <a href='https://wandb.ai/manoj_da24s018-iit-madras/Transliterator_HyperParameterSweep' target=\"_blank\">https://wandb.ai/manoj_da24s018-iit-madras/Transliterator_HyperParameterSweep</a>"
      ],
      "text/plain": [
       "<IPython.core.display.HTML object>"
      ]
     },
     "metadata": {},
     "output_type": "display_data"
    },
    {
     "data": {
      "text/html": [
       " View sweep at <a href='https://wandb.ai/manoj_da24s018-iit-madras/Transliterator_HyperParameterSweep/sweeps/fjtuyyfs' target=\"_blank\">https://wandb.ai/manoj_da24s018-iit-madras/Transliterator_HyperParameterSweep/sweeps/fjtuyyfs</a>"
      ],
      "text/plain": [
       "<IPython.core.display.HTML object>"
      ]
     },
     "metadata": {},
     "output_type": "display_data"
    },
    {
     "data": {
      "text/html": [
       " View run at <a href='https://wandb.ai/manoj_da24s018-iit-madras/Transliterator_HyperParameterSweep/runs/1jzk677s' target=\"_blank\">https://wandb.ai/manoj_da24s018-iit-madras/Transliterator_HyperParameterSweep/runs/1jzk677s</a>"
      ],
      "text/plain": [
       "<IPython.core.display.HTML object>"
      ]
     },
     "metadata": {},
     "output_type": "display_data"
    },
    {
     "name": "stdout",
     "output_type": "stream",
     "text": [
      "Sweep Name:  RNN Layer Type: gru, Character_Embedding_dim: 32, Hidden_dim:256, Num_Encoder_Layer:3, Num_Decoder_Layer:2, Dropout:0.1\n",
      "Epoch 1/10\n",
      "1580/1582 [============================>.] - ETA: 0s - loss: 0.8779 - accuracy: 0.7583\n",
      "Epoch 1: Word-level Accuracy = 0.0002\n"
     ]
    },
    {
     "name": "stderr",
     "output_type": "stream",
     "text": [
      "WARNING:absl:Found untraced functions such as gru_cell_layer_call_fn, gru_cell_layer_call_and_return_conditional_losses, gru_cell_1_layer_call_fn, gru_cell_1_layer_call_and_return_conditional_losses, gru_cell_2_layer_call_fn while saving (showing 5 of 10). These functions will not be directly callable after loading.\n"
     ]
    },
    {
     "name": "stdout",
     "output_type": "stream",
     "text": [
      "INFO:tensorflow:Assets written to: D:\\DL\\wandb\\run-20250515_184833-1jzk677s\\files\\model-best\\assets\n"
     ]
    },
    {
     "name": "stderr",
     "output_type": "stream",
     "text": [
      "INFO:tensorflow:Assets written to: D:\\DL\\wandb\\run-20250515_184833-1jzk677s\\files\\model-best\\assets\n",
      "wandb: Adding directory to artifact (D:\\DL\\wandb\\run-20250515_184833-1jzk677s\\files\\model-best)... Done. 0.0s\n"
     ]
    },
    {
     "name": "stdout",
     "output_type": "stream",
     "text": [
      "1582/1582 [==============================] - 42s 24ms/step - loss: 0.8775 - accuracy: 0.7584 - val_loss: 0.6313 - val_accuracy: 0.8207 - WordAccuracy: 1.9893e-04\n",
      "Epoch 2/10\n",
      "1582/1582 [==============================] - ETA: 0s - loss: 0.4072 - accuracy: 0.8807\n",
      "Epoch 2: Word-level Accuracy = 0.1281\n"
     ]
    },
    {
     "name": "stderr",
     "output_type": "stream",
     "text": [
      "WARNING:absl:Found untraced functions such as gru_cell_layer_call_fn, gru_cell_layer_call_and_return_conditional_losses, gru_cell_1_layer_call_fn, gru_cell_1_layer_call_and_return_conditional_losses, gru_cell_2_layer_call_fn while saving (showing 5 of 10). These functions will not be directly callable after loading.\n"
     ]
    },
    {
     "name": "stdout",
     "output_type": "stream",
     "text": [
      "INFO:tensorflow:Assets written to: D:\\DL\\wandb\\run-20250515_184833-1jzk677s\\files\\model-best\\assets\n"
     ]
    },
    {
     "name": "stderr",
     "output_type": "stream",
     "text": [
      "INFO:tensorflow:Assets written to: D:\\DL\\wandb\\run-20250515_184833-1jzk677s\\files\\model-best\\assets\n",
      "wandb: Adding directory to artifact (D:\\DL\\wandb\\run-20250515_184833-1jzk677s\\files\\model-best)... Done. 0.1s\n"
     ]
    },
    {
     "name": "stdout",
     "output_type": "stream",
     "text": [
      "1582/1582 [==============================] - 39s 24ms/step - loss: 0.4072 - accuracy: 0.8807 - val_loss: 0.2654 - val_accuracy: 0.9214 - WordAccuracy: 0.1281\n",
      "Epoch 3/10\n",
      "1581/1582 [============================>.] - ETA: 0s - loss: 0.1825 - accuracy: 0.9453\n",
      "Epoch 3: Word-level Accuracy = 0.2956\n"
     ]
    },
    {
     "name": "stderr",
     "output_type": "stream",
     "text": [
      "WARNING:absl:Found untraced functions such as gru_cell_layer_call_fn, gru_cell_layer_call_and_return_conditional_losses, gru_cell_1_layer_call_fn, gru_cell_1_layer_call_and_return_conditional_losses, gru_cell_2_layer_call_fn while saving (showing 5 of 10). These functions will not be directly callable after loading.\n"
     ]
    },
    {
     "name": "stdout",
     "output_type": "stream",
     "text": [
      "INFO:tensorflow:Assets written to: D:\\DL\\wandb\\run-20250515_184833-1jzk677s\\files\\model-best\\assets\n"
     ]
    },
    {
     "name": "stderr",
     "output_type": "stream",
     "text": [
      "INFO:tensorflow:Assets written to: D:\\DL\\wandb\\run-20250515_184833-1jzk677s\\files\\model-best\\assets\n",
      "wandb: Adding directory to artifact (D:\\DL\\wandb\\run-20250515_184833-1jzk677s\\files\\model-best)... Done. 0.0s\n"
     ]
    },
    {
     "name": "stdout",
     "output_type": "stream",
     "text": [
      "1582/1582 [==============================] - 39s 25ms/step - loss: 0.1825 - accuracy: 0.9453 - val_loss: 0.1724 - val_accuracy: 0.9487 - WordAccuracy: 0.2956\n",
      "Epoch 4/10\n",
      "1581/1582 [============================>.] - ETA: 0s - loss: 0.1144 - accuracy: 0.9653\n",
      "Epoch 4: Word-level Accuracy = 0.3603\n"
     ]
    },
    {
     "name": "stderr",
     "output_type": "stream",
     "text": [
      "WARNING:absl:Found untraced functions such as gru_cell_layer_call_fn, gru_cell_layer_call_and_return_conditional_losses, gru_cell_1_layer_call_fn, gru_cell_1_layer_call_and_return_conditional_losses, gru_cell_2_layer_call_fn while saving (showing 5 of 10). These functions will not be directly callable after loading.\n"
     ]
    },
    {
     "name": "stdout",
     "output_type": "stream",
     "text": [
      "INFO:tensorflow:Assets written to: D:\\DL\\wandb\\run-20250515_184833-1jzk677s\\files\\model-best\\assets\n"
     ]
    },
    {
     "name": "stderr",
     "output_type": "stream",
     "text": [
      "INFO:tensorflow:Assets written to: D:\\DL\\wandb\\run-20250515_184833-1jzk677s\\files\\model-best\\assets\n",
      "wandb: Adding directory to artifact (D:\\DL\\wandb\\run-20250515_184833-1jzk677s\\files\\model-best)... Done. 0.0s\n"
     ]
    },
    {
     "name": "stdout",
     "output_type": "stream",
     "text": [
      "1582/1582 [==============================] - 38s 24ms/step - loss: 0.1144 - accuracy: 0.9653 - val_loss: 0.1446 - val_accuracy: 0.9572 - WordAccuracy: 0.3603\n",
      "Epoch 5/10\n",
      "1580/1582 [============================>.] - ETA: 0s - loss: 0.0850 - accuracy: 0.9741\n",
      "Epoch 5: Word-level Accuracy = 0.3778\n"
     ]
    },
    {
     "name": "stderr",
     "output_type": "stream",
     "text": [
      "WARNING:absl:Found untraced functions such as gru_cell_layer_call_fn, gru_cell_layer_call_and_return_conditional_losses, gru_cell_1_layer_call_fn, gru_cell_1_layer_call_and_return_conditional_losses, gru_cell_2_layer_call_fn while saving (showing 5 of 10). These functions will not be directly callable after loading.\n"
     ]
    },
    {
     "name": "stdout",
     "output_type": "stream",
     "text": [
      "INFO:tensorflow:Assets written to: D:\\DL\\wandb\\run-20250515_184833-1jzk677s\\files\\model-best\\assets\n"
     ]
    },
    {
     "name": "stderr",
     "output_type": "stream",
     "text": [
      "INFO:tensorflow:Assets written to: D:\\DL\\wandb\\run-20250515_184833-1jzk677s\\files\\model-best\\assets\n",
      "wandb: Adding directory to artifact (D:\\DL\\wandb\\run-20250515_184833-1jzk677s\\files\\model-best)... Done. 0.0s\n"
     ]
    },
    {
     "name": "stdout",
     "output_type": "stream",
     "text": [
      "1582/1582 [==============================] - 39s 25ms/step - loss: 0.0850 - accuracy: 0.9741 - val_loss: 0.1382 - val_accuracy: 0.9586 - WordAccuracy: 0.3778\n",
      "Epoch 6/10\n",
      "1581/1582 [============================>.] - ETA: 0s - loss: 0.0686 - accuracy: 0.9788\n",
      "Epoch 6: Word-level Accuracy = 0.3971\n"
     ]
    },
    {
     "name": "stderr",
     "output_type": "stream",
     "text": [
      "WARNING:absl:Found untraced functions such as gru_cell_layer_call_fn, gru_cell_layer_call_and_return_conditional_losses, gru_cell_1_layer_call_fn, gru_cell_1_layer_call_and_return_conditional_losses, gru_cell_2_layer_call_fn while saving (showing 5 of 10). These functions will not be directly callable after loading.\n"
     ]
    },
    {
     "name": "stdout",
     "output_type": "stream",
     "text": [
      "INFO:tensorflow:Assets written to: D:\\DL\\wandb\\run-20250515_184833-1jzk677s\\files\\model-best\\assets\n"
     ]
    },
    {
     "name": "stderr",
     "output_type": "stream",
     "text": [
      "INFO:tensorflow:Assets written to: D:\\DL\\wandb\\run-20250515_184833-1jzk677s\\files\\model-best\\assets\n",
      "wandb: Adding directory to artifact (D:\\DL\\wandb\\run-20250515_184833-1jzk677s\\files\\model-best)... Done. 0.0s\n"
     ]
    },
    {
     "name": "stdout",
     "output_type": "stream",
     "text": [
      "1582/1582 [==============================] - 37s 24ms/step - loss: 0.0686 - accuracy: 0.9788 - val_loss: 0.1334 - val_accuracy: 0.9605 - WordAccuracy: 0.3971\n",
      "Epoch 7/10\n",
      "1579/1582 [============================>.] - ETA: 0s - loss: 0.0577 - accuracy: 0.9820\n",
      "Epoch 7: Word-level Accuracy = 0.4058\n"
     ]
    },
    {
     "name": "stderr",
     "output_type": "stream",
     "text": [
      "WARNING:absl:Found untraced functions such as gru_cell_layer_call_fn, gru_cell_layer_call_and_return_conditional_losses, gru_cell_1_layer_call_fn, gru_cell_1_layer_call_and_return_conditional_losses, gru_cell_2_layer_call_fn while saving (showing 5 of 10). These functions will not be directly callable after loading.\n"
     ]
    },
    {
     "name": "stdout",
     "output_type": "stream",
     "text": [
      "INFO:tensorflow:Assets written to: D:\\DL\\wandb\\run-20250515_184833-1jzk677s\\files\\model-best\\assets\n"
     ]
    },
    {
     "name": "stderr",
     "output_type": "stream",
     "text": [
      "INFO:tensorflow:Assets written to: D:\\DL\\wandb\\run-20250515_184833-1jzk677s\\files\\model-best\\assets\n",
      "wandb: Adding directory to artifact (D:\\DL\\wandb\\run-20250515_184833-1jzk677s\\files\\model-best)... Done. 0.0s\n"
     ]
    },
    {
     "name": "stdout",
     "output_type": "stream",
     "text": [
      "1582/1582 [==============================] - 38s 24ms/step - loss: 0.0577 - accuracy: 0.9820 - val_loss: 0.1327 - val_accuracy: 0.9617 - WordAccuracy: 0.4058\n",
      "Epoch 8/10\n",
      "1581/1582 [============================>.] - ETA: 0s - loss: 0.0502 - accuracy: 0.9841\n",
      "Epoch 8: Word-level Accuracy = 0.4297\n"
     ]
    },
    {
     "name": "stderr",
     "output_type": "stream",
     "text": [
      "WARNING:absl:Found untraced functions such as gru_cell_layer_call_fn, gru_cell_layer_call_and_return_conditional_losses, gru_cell_1_layer_call_fn, gru_cell_1_layer_call_and_return_conditional_losses, gru_cell_2_layer_call_fn while saving (showing 5 of 10). These functions will not be directly callable after loading.\n"
     ]
    },
    {
     "name": "stdout",
     "output_type": "stream",
     "text": [
      "INFO:tensorflow:Assets written to: D:\\DL\\wandb\\run-20250515_184833-1jzk677s\\files\\model-best\\assets\n"
     ]
    },
    {
     "name": "stderr",
     "output_type": "stream",
     "text": [
      "INFO:tensorflow:Assets written to: D:\\DL\\wandb\\run-20250515_184833-1jzk677s\\files\\model-best\\assets\n",
      "wandb: Adding directory to artifact (D:\\DL\\wandb\\run-20250515_184833-1jzk677s\\files\\model-best)... Done. 0.0s\n"
     ]
    },
    {
     "name": "stdout",
     "output_type": "stream",
     "text": [
      "1582/1582 [==============================] - 90s 57ms/step - loss: 0.0503 - accuracy: 0.9841 - val_loss: 0.1323 - val_accuracy: 0.9637 - WordAccuracy: 0.4297\n",
      "Epoch 9/10\n",
      "1582/1582 [==============================] - ETA: 0s - loss: 0.0447 - accuracy: 0.9860\n",
      "Epoch 9: Word-level Accuracy = 0.4177\n"
     ]
    },
    {
     "name": "stderr",
     "output_type": "stream",
     "text": [
      "WARNING:absl:Found untraced functions such as gru_cell_layer_call_fn, gru_cell_layer_call_and_return_conditional_losses, gru_cell_1_layer_call_fn, gru_cell_1_layer_call_and_return_conditional_losses, gru_cell_2_layer_call_fn while saving (showing 5 of 10). These functions will not be directly callable after loading.\n"
     ]
    },
    {
     "name": "stdout",
     "output_type": "stream",
     "text": [
      "INFO:tensorflow:Assets written to: D:\\DL\\wandb\\run-20250515_184833-1jzk677s\\files\\model-best\\assets\n"
     ]
    },
    {
     "name": "stderr",
     "output_type": "stream",
     "text": [
      "INFO:tensorflow:Assets written to: D:\\DL\\wandb\\run-20250515_184833-1jzk677s\\files\\model-best\\assets\n",
      "wandb: Adding directory to artifact (D:\\DL\\wandb\\run-20250515_184833-1jzk677s\\files\\model-best)... Done. 0.1s\n"
     ]
    },
    {
     "name": "stdout",
     "output_type": "stream",
     "text": [
      "1582/1582 [==============================] - 38s 24ms/step - loss: 0.0447 - accuracy: 0.9860 - val_loss: 0.1322 - val_accuracy: 0.9629 - WordAccuracy: 0.4177\n",
      "Epoch 10/10\n",
      "1579/1582 [============================>.] - ETA: 0s - loss: 0.0409 - accuracy: 0.9870\n",
      "Epoch 10: Word-level Accuracy = 0.4325\n"
     ]
    },
    {
     "name": "stderr",
     "output_type": "stream",
     "text": [
      "WARNING:absl:Found untraced functions such as gru_cell_layer_call_fn, gru_cell_layer_call_and_return_conditional_losses, gru_cell_1_layer_call_fn, gru_cell_1_layer_call_and_return_conditional_losses, gru_cell_2_layer_call_fn while saving (showing 5 of 10). These functions will not be directly callable after loading.\n"
     ]
    },
    {
     "name": "stdout",
     "output_type": "stream",
     "text": [
      "INFO:tensorflow:Assets written to: D:\\DL\\wandb\\run-20250515_184833-1jzk677s\\files\\model-best\\assets\n"
     ]
    },
    {
     "name": "stderr",
     "output_type": "stream",
     "text": [
      "INFO:tensorflow:Assets written to: D:\\DL\\wandb\\run-20250515_184833-1jzk677s\\files\\model-best\\assets\n",
      "wandb: Adding directory to artifact (D:\\DL\\wandb\\run-20250515_184833-1jzk677s\\files\\model-best)... Done. 0.0s\n"
     ]
    },
    {
     "name": "stdout",
     "output_type": "stream",
     "text": [
      "1582/1582 [==============================] - 34s 22ms/step - loss: 0.0409 - accuracy: 0.9870 - val_loss: 0.1294 - val_accuracy: 0.9645 - WordAccuracy: 0.4325\n"
     ]
    },
    {
     "data": {
      "application/vnd.jupyter.widget-view+json": {
       "model_id": "dbaf455f059c44c281ff138db75fd8b9",
       "version_major": 2,
       "version_minor": 0
      },
      "text/plain": [
       "VBox(children=(Label(value='219.869 MB of 219.869 MB uploaded (0.304 MB deduped)\\r'), FloatProgress(value=1.0,…"
      ]
     },
     "metadata": {},
     "output_type": "display_data"
    },
    {
     "data": {
      "text/html": [
       "<style>\n",
       "    table.wandb td:nth-child(1) { padding: 0 10px; text-align: left ; width: auto;} td:nth-child(2) {text-align: left ; width: 100%}\n",
       "    .wandb-row { display: flex; flex-direction: row; flex-wrap: wrap; justify-content: flex-start; width: 100% }\n",
       "    .wandb-col { display: flex; flex-direction: column; flex-basis: 100%; flex: 1; padding: 10px; }\n",
       "    </style>\n",
       "<div class=\"wandb-row\"><div class=\"wandb-col\"><h3>Run history:</h3><br/><table class=\"wandb\"><tr><td>Val_WordAccuracy</td><td>▁▃▆▇▇▇████</td></tr><tr><td>WordAccuracy</td><td>▁▃▆▇▇▇████</td></tr><tr><td>accuracy</td><td>▁▅▇▇██████</td></tr><tr><td>epoch</td><td>▂▁▂▂▃▂▄▃▅▄▅▅▆▅▇▆▇▇█▇</td></tr><tr><td>loss</td><td>█▄▂▂▁▁▁▁▁▁</td></tr><tr><td>val_accuracy</td><td>▁▆▇███████</td></tr><tr><td>val_loss</td><td>█▃▂▁▁▁▁▁▁▁</td></tr></table><br/></div><div class=\"wandb-col\"><h3>Run summary:</h3><br/><table class=\"wandb\"><tr><td>Val_WordAccuracy</td><td>0.43246</td></tr><tr><td>WordAccuracy</td><td>0.43246</td></tr><tr><td>accuracy</td><td>0.987</td></tr><tr><td>best_epoch</td><td>9</td></tr><tr><td>best_val_loss</td><td>0.12942</td></tr><tr><td>epoch</td><td>9</td></tr><tr><td>loss</td><td>0.04087</td></tr><tr><td>val_accuracy</td><td>0.96447</td></tr><tr><td>val_loss</td><td>0.12942</td></tr></table><br/></div></div>"
      ],
      "text/plain": [
       "<IPython.core.display.HTML object>"
      ]
     },
     "metadata": {},
     "output_type": "display_data"
    },
    {
     "data": {
      "text/html": [
       " View run <strong style=\"color:#cdcd00\">iconic-sweep-9</strong> at: <a href='https://wandb.ai/manoj_da24s018-iit-madras/Transliterator_HyperParameterSweep/runs/1jzk677s' target=\"_blank\">https://wandb.ai/manoj_da24s018-iit-madras/Transliterator_HyperParameterSweep/runs/1jzk677s</a><br/> View project at: <a href='https://wandb.ai/manoj_da24s018-iit-madras/Transliterator_HyperParameterSweep' target=\"_blank\">https://wandb.ai/manoj_da24s018-iit-madras/Transliterator_HyperParameterSweep</a><br/>Synced 5 W&B file(s), 1 media file(s), 40 artifact file(s) and 1 other file(s)"
      ],
      "text/plain": [
       "<IPython.core.display.HTML object>"
      ]
     },
     "metadata": {},
     "output_type": "display_data"
    },
    {
     "data": {
      "text/html": [
       "Find logs at: <code>.\\wandb\\run-20250515_184833-1jzk677s\\logs</code>"
      ],
      "text/plain": [
       "<IPython.core.display.HTML object>"
      ]
     },
     "metadata": {},
     "output_type": "display_data"
    },
    {
     "name": "stderr",
     "output_type": "stream",
     "text": [
      "wandb: Agent Starting Run: 6djpnhsx with config:\n",
      "wandb: \tcell_type: lstm\n",
      "wandb: \tchar_embedding_dim: 32\n",
      "wandb: \tdecoder_layers: 3\n",
      "wandb: \tdropout: 0.1\n",
      "wandb: \tencoder_layers: 2\n",
      "wandb: \thidden_state_dim: 128\n"
     ]
    },
    {
     "data": {
      "text/html": [
       "wandb version 0.19.11 is available!  To upgrade, please run:\n",
       " $ pip install wandb --upgrade"
      ],
      "text/plain": [
       "<IPython.core.display.HTML object>"
      ]
     },
     "metadata": {},
     "output_type": "display_data"
    },
    {
     "data": {
      "text/html": [
       "Tracking run with wandb version 0.16.6"
      ],
      "text/plain": [
       "<IPython.core.display.HTML object>"
      ]
     },
     "metadata": {},
     "output_type": "display_data"
    },
    {
     "data": {
      "text/html": [
       "Run data is saved locally in <code>D:\\DL\\wandb\\run-20250515_185613-6djpnhsx</code>"
      ],
      "text/plain": [
       "<IPython.core.display.HTML object>"
      ]
     },
     "metadata": {},
     "output_type": "display_data"
    },
    {
     "data": {
      "text/html": [
       "Syncing run <strong><a href='https://wandb.ai/manoj_da24s018-iit-madras/Transliterator_HyperParameterSweep/runs/6djpnhsx' target=\"_blank\">upbeat-sweep-10</a></strong> to <a href='https://wandb.ai/manoj_da24s018-iit-madras/Transliterator_HyperParameterSweep' target=\"_blank\">Weights & Biases</a> (<a href='https://wandb.me/run' target=\"_blank\">docs</a>)<br/>Sweep page: <a href='https://wandb.ai/manoj_da24s018-iit-madras/Transliterator_HyperParameterSweep/sweeps/fjtuyyfs' target=\"_blank\">https://wandb.ai/manoj_da24s018-iit-madras/Transliterator_HyperParameterSweep/sweeps/fjtuyyfs</a>"
      ],
      "text/plain": [
       "<IPython.core.display.HTML object>"
      ]
     },
     "metadata": {},
     "output_type": "display_data"
    },
    {
     "data": {
      "text/html": [
       " View project at <a href='https://wandb.ai/manoj_da24s018-iit-madras/Transliterator_HyperParameterSweep' target=\"_blank\">https://wandb.ai/manoj_da24s018-iit-madras/Transliterator_HyperParameterSweep</a>"
      ],
      "text/plain": [
       "<IPython.core.display.HTML object>"
      ]
     },
     "metadata": {},
     "output_type": "display_data"
    },
    {
     "data": {
      "text/html": [
       " View sweep at <a href='https://wandb.ai/manoj_da24s018-iit-madras/Transliterator_HyperParameterSweep/sweeps/fjtuyyfs' target=\"_blank\">https://wandb.ai/manoj_da24s018-iit-madras/Transliterator_HyperParameterSweep/sweeps/fjtuyyfs</a>"
      ],
      "text/plain": [
       "<IPython.core.display.HTML object>"
      ]
     },
     "metadata": {},
     "output_type": "display_data"
    },
    {
     "data": {
      "text/html": [
       " View run at <a href='https://wandb.ai/manoj_da24s018-iit-madras/Transliterator_HyperParameterSweep/runs/6djpnhsx' target=\"_blank\">https://wandb.ai/manoj_da24s018-iit-madras/Transliterator_HyperParameterSweep/runs/6djpnhsx</a>"
      ],
      "text/plain": [
       "<IPython.core.display.HTML object>"
      ]
     },
     "metadata": {},
     "output_type": "display_data"
    },
    {
     "name": "stdout",
     "output_type": "stream",
     "text": [
      "Sweep Name:  RNN Layer Type: lstm, Character_Embedding_dim: 32, Hidden_dim:128, Num_Encoder_Layer:2, Num_Decoder_Layer:3, Dropout:0.1\n",
      "Epoch 1/10\n",
      "1579/1582 [============================>.] - ETA: 0s - loss: 1.0280 - accuracy: 0.7263\n",
      "Epoch 1: Word-level Accuracy = 0.0000\n"
     ]
    },
    {
     "name": "stderr",
     "output_type": "stream",
     "text": [
      "WARNING:absl:Found untraced functions such as lstm_cell_layer_call_fn, lstm_cell_layer_call_and_return_conditional_losses, lstm_cell_1_layer_call_fn, lstm_cell_1_layer_call_and_return_conditional_losses, lstm_cell_2_layer_call_fn while saving (showing 5 of 10). These functions will not be directly callable after loading.\n"
     ]
    },
    {
     "name": "stdout",
     "output_type": "stream",
     "text": [
      "INFO:tensorflow:Assets written to: D:\\DL\\wandb\\run-20250515_185613-6djpnhsx\\files\\model-best\\assets\n"
     ]
    },
    {
     "name": "stderr",
     "output_type": "stream",
     "text": [
      "INFO:tensorflow:Assets written to: D:\\DL\\wandb\\run-20250515_185613-6djpnhsx\\files\\model-best\\assets\n",
      "wandb: Adding directory to artifact (D:\\DL\\wandb\\run-20250515_185613-6djpnhsx\\files\\model-best)... Done. 0.0s\n"
     ]
    },
    {
     "name": "stdout",
     "output_type": "stream",
     "text": [
      "1582/1582 [==============================] - 44s 26ms/step - loss: 1.0277 - accuracy: 0.7263 - val_loss: 0.8270 - val_accuracy: 0.7708 - WordAccuracy: 0.0000e+00\n",
      "Epoch 2/10\n",
      "1582/1582 [==============================] - ETA: 0s - loss: 0.8121 - accuracy: 0.7723\n",
      "Epoch 2: Word-level Accuracy = 0.0000\n"
     ]
    },
    {
     "name": "stderr",
     "output_type": "stream",
     "text": [
      "WARNING:absl:Found untraced functions such as lstm_cell_layer_call_fn, lstm_cell_layer_call_and_return_conditional_losses, lstm_cell_1_layer_call_fn, lstm_cell_1_layer_call_and_return_conditional_losses, lstm_cell_2_layer_call_fn while saving (showing 5 of 10). These functions will not be directly callable after loading.\n"
     ]
    },
    {
     "name": "stdout",
     "output_type": "stream",
     "text": [
      "INFO:tensorflow:Assets written to: D:\\DL\\wandb\\run-20250515_185613-6djpnhsx\\files\\model-best\\assets\n"
     ]
    },
    {
     "name": "stderr",
     "output_type": "stream",
     "text": [
      "INFO:tensorflow:Assets written to: D:\\DL\\wandb\\run-20250515_185613-6djpnhsx\\files\\model-best\\assets\n",
      "wandb: Adding directory to artifact (D:\\DL\\wandb\\run-20250515_185613-6djpnhsx\\files\\model-best)... Done. 0.0s\n"
     ]
    },
    {
     "name": "stdout",
     "output_type": "stream",
     "text": [
      "1582/1582 [==============================] - 41s 26ms/step - loss: 0.8121 - accuracy: 0.7723 - val_loss: 0.7616 - val_accuracy: 0.7878 - WordAccuracy: 0.0000e+00\n",
      "Epoch 3/10\n",
      "1580/1582 [============================>.] - ETA: 0s - loss: 0.7434 - accuracy: 0.7893\n",
      "Epoch 3: Word-level Accuracy = 0.0000\n"
     ]
    },
    {
     "name": "stderr",
     "output_type": "stream",
     "text": [
      "WARNING:absl:Found untraced functions such as lstm_cell_layer_call_fn, lstm_cell_layer_call_and_return_conditional_losses, lstm_cell_1_layer_call_fn, lstm_cell_1_layer_call_and_return_conditional_losses, lstm_cell_2_layer_call_fn while saving (showing 5 of 10). These functions will not be directly callable after loading.\n"
     ]
    },
    {
     "name": "stdout",
     "output_type": "stream",
     "text": [
      "INFO:tensorflow:Assets written to: D:\\DL\\wandb\\run-20250515_185613-6djpnhsx\\files\\model-best\\assets\n"
     ]
    },
    {
     "name": "stderr",
     "output_type": "stream",
     "text": [
      "INFO:tensorflow:Assets written to: D:\\DL\\wandb\\run-20250515_185613-6djpnhsx\\files\\model-best\\assets\n",
      "wandb: Adding directory to artifact (D:\\DL\\wandb\\run-20250515_185613-6djpnhsx\\files\\model-best)... Done. 0.0s\n"
     ]
    },
    {
     "name": "stdout",
     "output_type": "stream",
     "text": [
      "1582/1582 [==============================] - 41s 26ms/step - loss: 0.7433 - accuracy: 0.7894 - val_loss: 0.6992 - val_accuracy: 0.8025 - WordAccuracy: 0.0000e+00\n",
      "Epoch 4/10\n",
      "1581/1582 [============================>.] - ETA: 0s - loss: 0.6338 - accuracy: 0.8166\n",
      "Epoch 4: Word-level Accuracy = 0.0000\n"
     ]
    },
    {
     "name": "stderr",
     "output_type": "stream",
     "text": [
      "WARNING:absl:Found untraced functions such as lstm_cell_layer_call_fn, lstm_cell_layer_call_and_return_conditional_losses, lstm_cell_1_layer_call_fn, lstm_cell_1_layer_call_and_return_conditional_losses, lstm_cell_2_layer_call_fn while saving (showing 5 of 10). These functions will not be directly callable after loading.\n"
     ]
    },
    {
     "name": "stdout",
     "output_type": "stream",
     "text": [
      "INFO:tensorflow:Assets written to: D:\\DL\\wandb\\run-20250515_185613-6djpnhsx\\files\\model-best\\assets\n"
     ]
    },
    {
     "name": "stderr",
     "output_type": "stream",
     "text": [
      "INFO:tensorflow:Assets written to: D:\\DL\\wandb\\run-20250515_185613-6djpnhsx\\files\\model-best\\assets\n",
      "wandb: Adding directory to artifact (D:\\DL\\wandb\\run-20250515_185613-6djpnhsx\\files\\model-best)... Done. 0.0s\n"
     ]
    },
    {
     "name": "stdout",
     "output_type": "stream",
     "text": [
      "1582/1582 [==============================] - 93s 59ms/step - loss: 0.6337 - accuracy: 0.8167 - val_loss: 0.5743 - val_accuracy: 0.8350 - WordAccuracy: 0.0000e+00\n",
      "Epoch 5/10\n",
      "1582/1582 [==============================] - ETA: 0s - loss: 0.5163 - accuracy: 0.8491\n",
      "Epoch 5: Word-level Accuracy = 0.0103\n"
     ]
    },
    {
     "name": "stderr",
     "output_type": "stream",
     "text": [
      "WARNING:absl:Found untraced functions such as lstm_cell_layer_call_fn, lstm_cell_layer_call_and_return_conditional_losses, lstm_cell_1_layer_call_fn, lstm_cell_1_layer_call_and_return_conditional_losses, lstm_cell_2_layer_call_fn while saving (showing 5 of 10). These functions will not be directly callable after loading.\n"
     ]
    },
    {
     "name": "stdout",
     "output_type": "stream",
     "text": [
      "INFO:tensorflow:Assets written to: D:\\DL\\wandb\\run-20250515_185613-6djpnhsx\\files\\model-best\\assets\n"
     ]
    },
    {
     "name": "stderr",
     "output_type": "stream",
     "text": [
      "INFO:tensorflow:Assets written to: D:\\DL\\wandb\\run-20250515_185613-6djpnhsx\\files\\model-best\\assets\n",
      "wandb: Adding directory to artifact (D:\\DL\\wandb\\run-20250515_185613-6djpnhsx\\files\\model-best)... Done. 0.0s\n"
     ]
    },
    {
     "name": "stdout",
     "output_type": "stream",
     "text": [
      "1582/1582 [==============================] - 63s 40ms/step - loss: 0.5163 - accuracy: 0.8491 - val_loss: 0.4764 - val_accuracy: 0.8630 - WordAccuracy: 0.0103\n",
      "Epoch 6/10\n",
      "1580/1582 [============================>.] - ETA: 0s - loss: 0.4222 - accuracy: 0.8757\n",
      "Epoch 6: Word-level Accuracy = 0.0282\n"
     ]
    },
    {
     "name": "stderr",
     "output_type": "stream",
     "text": [
      "WARNING:absl:Found untraced functions such as lstm_cell_layer_call_fn, lstm_cell_layer_call_and_return_conditional_losses, lstm_cell_1_layer_call_fn, lstm_cell_1_layer_call_and_return_conditional_losses, lstm_cell_2_layer_call_fn while saving (showing 5 of 10). These functions will not be directly callable after loading.\n"
     ]
    },
    {
     "name": "stdout",
     "output_type": "stream",
     "text": [
      "INFO:tensorflow:Assets written to: D:\\DL\\wandb\\run-20250515_185613-6djpnhsx\\files\\model-best\\assets\n"
     ]
    },
    {
     "name": "stderr",
     "output_type": "stream",
     "text": [
      "INFO:tensorflow:Assets written to: D:\\DL\\wandb\\run-20250515_185613-6djpnhsx\\files\\model-best\\assets\n",
      "wandb: Adding directory to artifact (D:\\DL\\wandb\\run-20250515_185613-6djpnhsx\\files\\model-best)... Done. 0.0s\n"
     ]
    },
    {
     "name": "stdout",
     "output_type": "stream",
     "text": [
      "1582/1582 [==============================] - 43s 27ms/step - loss: 0.4222 - accuracy: 0.8757 - val_loss: 0.4045 - val_accuracy: 0.8832 - WordAccuracy: 0.0282\n",
      "Epoch 7/10\n",
      "1581/1582 [============================>.] - ETA: 0s - loss: 0.3493 - accuracy: 0.8961\n",
      "Epoch 7: Word-level Accuracy = 0.0533\n"
     ]
    },
    {
     "name": "stderr",
     "output_type": "stream",
     "text": [
      "WARNING:absl:Found untraced functions such as lstm_cell_layer_call_fn, lstm_cell_layer_call_and_return_conditional_losses, lstm_cell_1_layer_call_fn, lstm_cell_1_layer_call_and_return_conditional_losses, lstm_cell_2_layer_call_fn while saving (showing 5 of 10). These functions will not be directly callable after loading.\n"
     ]
    },
    {
     "name": "stdout",
     "output_type": "stream",
     "text": [
      "INFO:tensorflow:Assets written to: D:\\DL\\wandb\\run-20250515_185613-6djpnhsx\\files\\model-best\\assets\n"
     ]
    },
    {
     "name": "stderr",
     "output_type": "stream",
     "text": [
      "INFO:tensorflow:Assets written to: D:\\DL\\wandb\\run-20250515_185613-6djpnhsx\\files\\model-best\\assets\n",
      "wandb: Adding directory to artifact (D:\\DL\\wandb\\run-20250515_185613-6djpnhsx\\files\\model-best)... Done. 0.0s\n"
     ]
    },
    {
     "name": "stdout",
     "output_type": "stream",
     "text": [
      "1582/1582 [==============================] - 38s 24ms/step - loss: 0.3493 - accuracy: 0.8962 - val_loss: 0.3549 - val_accuracy: 0.8968 - WordAccuracy: 0.0533\n",
      "Epoch 8/10\n",
      "1582/1582 [==============================] - ETA: 0s - loss: 0.2931 - accuracy: 0.9125\n",
      "Epoch 8: Word-level Accuracy = 0.1011\n"
     ]
    },
    {
     "name": "stderr",
     "output_type": "stream",
     "text": [
      "WARNING:absl:Found untraced functions such as lstm_cell_layer_call_fn, lstm_cell_layer_call_and_return_conditional_losses, lstm_cell_1_layer_call_fn, lstm_cell_1_layer_call_and_return_conditional_losses, lstm_cell_2_layer_call_fn while saving (showing 5 of 10). These functions will not be directly callable after loading.\n"
     ]
    },
    {
     "name": "stdout",
     "output_type": "stream",
     "text": [
      "INFO:tensorflow:Assets written to: D:\\DL\\wandb\\run-20250515_185613-6djpnhsx\\files\\model-best\\assets\n"
     ]
    },
    {
     "name": "stderr",
     "output_type": "stream",
     "text": [
      "INFO:tensorflow:Assets written to: D:\\DL\\wandb\\run-20250515_185613-6djpnhsx\\files\\model-best\\assets\n",
      "wandb: Adding directory to artifact (D:\\DL\\wandb\\run-20250515_185613-6djpnhsx\\files\\model-best)... Done. 0.0s\n"
     ]
    },
    {
     "name": "stdout",
     "output_type": "stream",
     "text": [
      "1582/1582 [==============================] - 38s 24ms/step - loss: 0.2931 - accuracy: 0.9125 - val_loss: 0.3055 - val_accuracy: 0.9108 - WordAccuracy: 0.1011\n",
      "Epoch 9/10\n",
      "1582/1582 [==============================] - ETA: 0s - loss: 0.2484 - accuracy: 0.9255\n",
      "Epoch 9: Word-level Accuracy = 0.1416\n"
     ]
    },
    {
     "name": "stderr",
     "output_type": "stream",
     "text": [
      "WARNING:absl:Found untraced functions such as lstm_cell_layer_call_fn, lstm_cell_layer_call_and_return_conditional_losses, lstm_cell_1_layer_call_fn, lstm_cell_1_layer_call_and_return_conditional_losses, lstm_cell_2_layer_call_fn while saving (showing 5 of 10). These functions will not be directly callable after loading.\n"
     ]
    },
    {
     "name": "stdout",
     "output_type": "stream",
     "text": [
      "INFO:tensorflow:Assets written to: D:\\DL\\wandb\\run-20250515_185613-6djpnhsx\\files\\model-best\\assets\n"
     ]
    },
    {
     "name": "stderr",
     "output_type": "stream",
     "text": [
      "INFO:tensorflow:Assets written to: D:\\DL\\wandb\\run-20250515_185613-6djpnhsx\\files\\model-best\\assets\n",
      "wandb: Adding directory to artifact (D:\\DL\\wandb\\run-20250515_185613-6djpnhsx\\files\\model-best)... Done. 0.0s\n"
     ]
    },
    {
     "name": "stdout",
     "output_type": "stream",
     "text": [
      "1582/1582 [==============================] - 43s 27ms/step - loss: 0.2484 - accuracy: 0.9255 - val_loss: 0.2745 - val_accuracy: 0.9200 - WordAccuracy: 0.1416\n",
      "Epoch 10/10\n",
      "1581/1582 [============================>.] - ETA: 0s - loss: 0.2141 - accuracy: 0.9355\n",
      "Epoch 10: Word-level Accuracy = 0.1806\n"
     ]
    },
    {
     "name": "stderr",
     "output_type": "stream",
     "text": [
      "WARNING:absl:Found untraced functions such as lstm_cell_layer_call_fn, lstm_cell_layer_call_and_return_conditional_losses, lstm_cell_1_layer_call_fn, lstm_cell_1_layer_call_and_return_conditional_losses, lstm_cell_2_layer_call_fn while saving (showing 5 of 10). These functions will not be directly callable after loading.\n"
     ]
    },
    {
     "name": "stdout",
     "output_type": "stream",
     "text": [
      "INFO:tensorflow:Assets written to: D:\\DL\\wandb\\run-20250515_185613-6djpnhsx\\files\\model-best\\assets\n"
     ]
    },
    {
     "name": "stderr",
     "output_type": "stream",
     "text": [
      "INFO:tensorflow:Assets written to: D:\\DL\\wandb\\run-20250515_185613-6djpnhsx\\files\\model-best\\assets\n",
      "wandb: Adding directory to artifact (D:\\DL\\wandb\\run-20250515_185613-6djpnhsx\\files\\model-best)... Done. 0.0s\n"
     ]
    },
    {
     "name": "stdout",
     "output_type": "stream",
     "text": [
      "1582/1582 [==============================] - 39s 24ms/step - loss: 0.2141 - accuracy: 0.9355 - val_loss: 0.2478 - val_accuracy: 0.9269 - WordAccuracy: 0.1806\n"
     ]
    },
    {
     "data": {
      "application/vnd.jupyter.widget-view+json": {
       "model_id": "c55a1172169443669b4d9213b0432ba5",
       "version_major": 2,
       "version_minor": 0
      },
      "text/plain": [
       "VBox(children=(Label(value='101.460 MB of 101.460 MB uploaded (0.307 MB deduped)\\r'), FloatProgress(value=1.0,…"
      ]
     },
     "metadata": {},
     "output_type": "display_data"
    },
    {
     "data": {
      "text/html": [
       "<style>\n",
       "    table.wandb td:nth-child(1) { padding: 0 10px; text-align: left ; width: auto;} td:nth-child(2) {text-align: left ; width: 100%}\n",
       "    .wandb-row { display: flex; flex-direction: row; flex-wrap: wrap; justify-content: flex-start; width: 100% }\n",
       "    .wandb-col { display: flex; flex-direction: column; flex-basis: 100%; flex: 1; padding: 10px; }\n",
       "    </style>\n",
       "<div class=\"wandb-row\"><div class=\"wandb-col\"><h3>Run history:</h3><br/><table class=\"wandb\"><tr><td>Val_WordAccuracy</td><td>▁▁▁▁▁▂▃▅▆█</td></tr><tr><td>WordAccuracy</td><td>▁▁▁▁▁▂▃▅▆█</td></tr><tr><td>accuracy</td><td>▁▃▃▄▅▆▇▇██</td></tr><tr><td>epoch</td><td>▂▁▂▂▃▂▄▃▅▄▅▅▆▅▇▆▇▇█▇</td></tr><tr><td>loss</td><td>█▆▆▅▄▃▂▂▁▁</td></tr><tr><td>val_accuracy</td><td>▁▂▂▄▅▆▇▇██</td></tr><tr><td>val_loss</td><td>█▇▆▅▄▃▂▂▁▁</td></tr></table><br/></div><div class=\"wandb-col\"><h3>Run summary:</h3><br/><table class=\"wandb\"><tr><td>Val_WordAccuracy</td><td>0.18062</td></tr><tr><td>WordAccuracy</td><td>0.18062</td></tr><tr><td>accuracy</td><td>0.93551</td></tr><tr><td>best_epoch</td><td>9</td></tr><tr><td>best_val_loss</td><td>0.24781</td></tr><tr><td>epoch</td><td>9</td></tr><tr><td>loss</td><td>0.21411</td></tr><tr><td>val_accuracy</td><td>0.9269</td></tr><tr><td>val_loss</td><td>0.24781</td></tr></table><br/></div></div>"
      ],
      "text/plain": [
       "<IPython.core.display.HTML object>"
      ]
     },
     "metadata": {},
     "output_type": "display_data"
    },
    {
     "data": {
      "text/html": [
       " View run <strong style=\"color:#cdcd00\">upbeat-sweep-10</strong> at: <a href='https://wandb.ai/manoj_da24s018-iit-madras/Transliterator_HyperParameterSweep/runs/6djpnhsx' target=\"_blank\">https://wandb.ai/manoj_da24s018-iit-madras/Transliterator_HyperParameterSweep/runs/6djpnhsx</a><br/> View project at: <a href='https://wandb.ai/manoj_da24s018-iit-madras/Transliterator_HyperParameterSweep' target=\"_blank\">https://wandb.ai/manoj_da24s018-iit-madras/Transliterator_HyperParameterSweep</a><br/>Synced 5 W&B file(s), 1 media file(s), 40 artifact file(s) and 1 other file(s)"
      ],
      "text/plain": [
       "<IPython.core.display.HTML object>"
      ]
     },
     "metadata": {},
     "output_type": "display_data"
    },
    {
     "data": {
      "text/html": [
       "Find logs at: <code>.\\wandb\\run-20250515_185613-6djpnhsx\\logs</code>"
      ],
      "text/plain": [
       "<IPython.core.display.HTML object>"
      ]
     },
     "metadata": {},
     "output_type": "display_data"
    },
    {
     "name": "stderr",
     "output_type": "stream",
     "text": [
      "wandb: Agent Starting Run: 3qmxjcpt with config:\n",
      "wandb: \tcell_type: lstm\n",
      "wandb: \tchar_embedding_dim: 8\n",
      "wandb: \tdecoder_layers: 2\n",
      "wandb: \tdropout: 0.3\n",
      "wandb: \tencoder_layers: 3\n",
      "wandb: \thidden_state_dim: 256\n"
     ]
    },
    {
     "data": {
      "text/html": [
       "wandb version 0.19.11 is available!  To upgrade, please run:\n",
       " $ pip install wandb --upgrade"
      ],
      "text/plain": [
       "<IPython.core.display.HTML object>"
      ]
     },
     "metadata": {},
     "output_type": "display_data"
    },
    {
     "data": {
      "text/html": [
       "Tracking run with wandb version 0.16.6"
      ],
      "text/plain": [
       "<IPython.core.display.HTML object>"
      ]
     },
     "metadata": {},
     "output_type": "display_data"
    },
    {
     "data": {
      "text/html": [
       "Run data is saved locally in <code>D:\\DL\\wandb\\run-20250515_190436-3qmxjcpt</code>"
      ],
      "text/plain": [
       "<IPython.core.display.HTML object>"
      ]
     },
     "metadata": {},
     "output_type": "display_data"
    },
    {
     "data": {
      "text/html": [
       "Syncing run <strong><a href='https://wandb.ai/manoj_da24s018-iit-madras/Transliterator_HyperParameterSweep/runs/3qmxjcpt' target=\"_blank\">lively-sweep-11</a></strong> to <a href='https://wandb.ai/manoj_da24s018-iit-madras/Transliterator_HyperParameterSweep' target=\"_blank\">Weights & Biases</a> (<a href='https://wandb.me/run' target=\"_blank\">docs</a>)<br/>Sweep page: <a href='https://wandb.ai/manoj_da24s018-iit-madras/Transliterator_HyperParameterSweep/sweeps/fjtuyyfs' target=\"_blank\">https://wandb.ai/manoj_da24s018-iit-madras/Transliterator_HyperParameterSweep/sweeps/fjtuyyfs</a>"
      ],
      "text/plain": [
       "<IPython.core.display.HTML object>"
      ]
     },
     "metadata": {},
     "output_type": "display_data"
    },
    {
     "data": {
      "text/html": [
       " View project at <a href='https://wandb.ai/manoj_da24s018-iit-madras/Transliterator_HyperParameterSweep' target=\"_blank\">https://wandb.ai/manoj_da24s018-iit-madras/Transliterator_HyperParameterSweep</a>"
      ],
      "text/plain": [
       "<IPython.core.display.HTML object>"
      ]
     },
     "metadata": {},
     "output_type": "display_data"
    },
    {
     "data": {
      "text/html": [
       " View sweep at <a href='https://wandb.ai/manoj_da24s018-iit-madras/Transliterator_HyperParameterSweep/sweeps/fjtuyyfs' target=\"_blank\">https://wandb.ai/manoj_da24s018-iit-madras/Transliterator_HyperParameterSweep/sweeps/fjtuyyfs</a>"
      ],
      "text/plain": [
       "<IPython.core.display.HTML object>"
      ]
     },
     "metadata": {},
     "output_type": "display_data"
    },
    {
     "data": {
      "text/html": [
       " View run at <a href='https://wandb.ai/manoj_da24s018-iit-madras/Transliterator_HyperParameterSweep/runs/3qmxjcpt' target=\"_blank\">https://wandb.ai/manoj_da24s018-iit-madras/Transliterator_HyperParameterSweep/runs/3qmxjcpt</a>"
      ],
      "text/plain": [
       "<IPython.core.display.HTML object>"
      ]
     },
     "metadata": {},
     "output_type": "display_data"
    },
    {
     "name": "stdout",
     "output_type": "stream",
     "text": [
      "Sweep Name:  RNN Layer Type: lstm, Character_Embedding_dim: 8, Hidden_dim:256, Num_Encoder_Layer:3, Num_Decoder_Layer:2, Dropout:0.3\n",
      "Epoch 1/10\n",
      "1582/1582 [==============================] - ETA: 0s - loss: 0.9906 - accuracy: 0.7298\n",
      "Epoch 1: Word-level Accuracy = 0.0000\n"
     ]
    },
    {
     "name": "stderr",
     "output_type": "stream",
     "text": [
      "WARNING:absl:Found untraced functions such as lstm_cell_layer_call_fn, lstm_cell_layer_call_and_return_conditional_losses, lstm_cell_1_layer_call_fn, lstm_cell_1_layer_call_and_return_conditional_losses, lstm_cell_2_layer_call_fn while saving (showing 5 of 10). These functions will not be directly callable after loading.\n"
     ]
    },
    {
     "name": "stdout",
     "output_type": "stream",
     "text": [
      "INFO:tensorflow:Assets written to: D:\\DL\\wandb\\run-20250515_190436-3qmxjcpt\\files\\model-best\\assets\n"
     ]
    },
    {
     "name": "stderr",
     "output_type": "stream",
     "text": [
      "INFO:tensorflow:Assets written to: D:\\DL\\wandb\\run-20250515_190436-3qmxjcpt\\files\\model-best\\assets\n",
      "wandb: Adding directory to artifact (D:\\DL\\wandb\\run-20250515_190436-3qmxjcpt\\files\\model-best)... Done. 0.0s\n"
     ]
    },
    {
     "name": "stdout",
     "output_type": "stream",
     "text": [
      "1582/1582 [==============================] - 46s 27ms/step - loss: 0.9906 - accuracy: 0.7298 - val_loss: 0.7734 - val_accuracy: 0.7783 - WordAccuracy: 0.0000e+00\n",
      "Epoch 2/10\n",
      "1581/1582 [============================>.] - ETA: 0s - loss: 0.6983 - accuracy: 0.7953\n",
      "Epoch 2: Word-level Accuracy = 0.0020\n"
     ]
    },
    {
     "name": "stderr",
     "output_type": "stream",
     "text": [
      "WARNING:absl:Found untraced functions such as lstm_cell_layer_call_fn, lstm_cell_layer_call_and_return_conditional_losses, lstm_cell_1_layer_call_fn, lstm_cell_1_layer_call_and_return_conditional_losses, lstm_cell_2_layer_call_fn while saving (showing 5 of 10). These functions will not be directly callable after loading.\n"
     ]
    },
    {
     "name": "stdout",
     "output_type": "stream",
     "text": [
      "INFO:tensorflow:Assets written to: D:\\DL\\wandb\\run-20250515_190436-3qmxjcpt\\files\\model-best\\assets\n"
     ]
    },
    {
     "name": "stderr",
     "output_type": "stream",
     "text": [
      "INFO:tensorflow:Assets written to: D:\\DL\\wandb\\run-20250515_190436-3qmxjcpt\\files\\model-best\\assets\n",
      "wandb: Adding directory to artifact (D:\\DL\\wandb\\run-20250515_190436-3qmxjcpt\\files\\model-best)... Done. 0.1s\n"
     ]
    },
    {
     "name": "stdout",
     "output_type": "stream",
     "text": [
      "1582/1582 [==============================] - 41s 26ms/step - loss: 0.6982 - accuracy: 0.7954 - val_loss: 0.5610 - val_accuracy: 0.8346 - WordAccuracy: 0.0020\n",
      "Epoch 3/10\n",
      "1580/1582 [============================>.] - ETA: 0s - loss: 0.5031 - accuracy: 0.8469\n",
      "Epoch 3: Word-level Accuracy = 0.0209\n"
     ]
    },
    {
     "name": "stderr",
     "output_type": "stream",
     "text": [
      "WARNING:absl:Found untraced functions such as lstm_cell_layer_call_fn, lstm_cell_layer_call_and_return_conditional_losses, lstm_cell_1_layer_call_fn, lstm_cell_1_layer_call_and_return_conditional_losses, lstm_cell_2_layer_call_fn while saving (showing 5 of 10). These functions will not be directly callable after loading.\n"
     ]
    },
    {
     "name": "stdout",
     "output_type": "stream",
     "text": [
      "INFO:tensorflow:Assets written to: D:\\DL\\wandb\\run-20250515_190436-3qmxjcpt\\files\\model-best\\assets\n"
     ]
    },
    {
     "name": "stderr",
     "output_type": "stream",
     "text": [
      "INFO:tensorflow:Assets written to: D:\\DL\\wandb\\run-20250515_190436-3qmxjcpt\\files\\model-best\\assets\n",
      "wandb: Adding directory to artifact (D:\\DL\\wandb\\run-20250515_190436-3qmxjcpt\\files\\model-best)... Done. 0.1s\n"
     ]
    },
    {
     "name": "stdout",
     "output_type": "stream",
     "text": [
      "1582/1582 [==============================] - 41s 26ms/step - loss: 0.5030 - accuracy: 0.8469 - val_loss: 0.4242 - val_accuracy: 0.8698 - WordAccuracy: 0.0209\n",
      "Epoch 4/10\n",
      "1581/1582 [============================>.] - ETA: 0s - loss: 0.3762 - accuracy: 0.8832\n",
      "Epoch 4: Word-level Accuracy = 0.0752\n"
     ]
    },
    {
     "name": "stderr",
     "output_type": "stream",
     "text": [
      "WARNING:absl:Found untraced functions such as lstm_cell_layer_call_fn, lstm_cell_layer_call_and_return_conditional_losses, lstm_cell_1_layer_call_fn, lstm_cell_1_layer_call_and_return_conditional_losses, lstm_cell_2_layer_call_fn while saving (showing 5 of 10). These functions will not be directly callable after loading.\n"
     ]
    },
    {
     "name": "stdout",
     "output_type": "stream",
     "text": [
      "INFO:tensorflow:Assets written to: D:\\DL\\wandb\\run-20250515_190436-3qmxjcpt\\files\\model-best\\assets\n"
     ]
    },
    {
     "name": "stderr",
     "output_type": "stream",
     "text": [
      "INFO:tensorflow:Assets written to: D:\\DL\\wandb\\run-20250515_190436-3qmxjcpt\\files\\model-best\\assets\n",
      "wandb: Adding directory to artifact (D:\\DL\\wandb\\run-20250515_190436-3qmxjcpt\\files\\model-best)... Done. 0.1s\n"
     ]
    },
    {
     "name": "stdout",
     "output_type": "stream",
     "text": [
      "1582/1582 [==============================] - 40s 25ms/step - loss: 0.3762 - accuracy: 0.8832 - val_loss: 0.3407 - val_accuracy: 0.8958 - WordAccuracy: 0.0752\n",
      "Epoch 5/10\n",
      "1580/1582 [============================>.] - ETA: 0s - loss: 0.2993 - accuracy: 0.9063\n",
      "Epoch 5: Word-level Accuracy = 0.1015\n"
     ]
    },
    {
     "name": "stderr",
     "output_type": "stream",
     "text": [
      "WARNING:absl:Found untraced functions such as lstm_cell_layer_call_fn, lstm_cell_layer_call_and_return_conditional_losses, lstm_cell_1_layer_call_fn, lstm_cell_1_layer_call_and_return_conditional_losses, lstm_cell_2_layer_call_fn while saving (showing 5 of 10). These functions will not be directly callable after loading.\n"
     ]
    },
    {
     "name": "stdout",
     "output_type": "stream",
     "text": [
      "INFO:tensorflow:Assets written to: D:\\DL\\wandb\\run-20250515_190436-3qmxjcpt\\files\\model-best\\assets\n"
     ]
    },
    {
     "name": "stderr",
     "output_type": "stream",
     "text": [
      "INFO:tensorflow:Assets written to: D:\\DL\\wandb\\run-20250515_190436-3qmxjcpt\\files\\model-best\\assets\n",
      "wandb: Adding directory to artifact (D:\\DL\\wandb\\run-20250515_190436-3qmxjcpt\\files\\model-best)... Done. 0.1s\n"
     ]
    },
    {
     "name": "stdout",
     "output_type": "stream",
     "text": [
      "1582/1582 [==============================] - 41s 26ms/step - loss: 0.2993 - accuracy: 0.9064 - val_loss: 0.2968 - val_accuracy: 0.9074 - WordAccuracy: 0.1015\n",
      "Epoch 6/10\n",
      "1580/1582 [============================>.] - ETA: 0s - loss: 0.2482 - accuracy: 0.9222\n",
      "Epoch 6: Word-level Accuracy = 0.1022\n"
     ]
    },
    {
     "name": "stderr",
     "output_type": "stream",
     "text": [
      "WARNING:absl:Found untraced functions such as lstm_cell_layer_call_fn, lstm_cell_layer_call_and_return_conditional_losses, lstm_cell_1_layer_call_fn, lstm_cell_1_layer_call_and_return_conditional_losses, lstm_cell_2_layer_call_fn while saving (showing 5 of 10). These functions will not be directly callable after loading.\n"
     ]
    },
    {
     "name": "stdout",
     "output_type": "stream",
     "text": [
      "INFO:tensorflow:Assets written to: D:\\DL\\wandb\\run-20250515_190436-3qmxjcpt\\files\\model-best\\assets\n"
     ]
    },
    {
     "name": "stderr",
     "output_type": "stream",
     "text": [
      "INFO:tensorflow:Assets written to: D:\\DL\\wandb\\run-20250515_190436-3qmxjcpt\\files\\model-best\\assets\n",
      "wandb: Adding directory to artifact (D:\\DL\\wandb\\run-20250515_190436-3qmxjcpt\\files\\model-best)... Done. 0.1s\n"
     ]
    },
    {
     "name": "stdout",
     "output_type": "stream",
     "text": [
      "1582/1582 [==============================] - 42s 26ms/step - loss: 0.2482 - accuracy: 0.9223 - val_loss: 0.2946 - val_accuracy: 0.9079 - WordAccuracy: 0.1022\n",
      "Epoch 7/10\n",
      "1579/1582 [============================>.] - ETA: 0s - loss: 0.2129 - accuracy: 0.9330\n",
      "Epoch 7: Word-level Accuracy = 0.1281\n"
     ]
    },
    {
     "name": "stderr",
     "output_type": "stream",
     "text": [
      "WARNING:absl:Found untraced functions such as lstm_cell_layer_call_fn, lstm_cell_layer_call_and_return_conditional_losses, lstm_cell_1_layer_call_fn, lstm_cell_1_layer_call_and_return_conditional_losses, lstm_cell_2_layer_call_fn while saving (showing 5 of 10). These functions will not be directly callable after loading.\n"
     ]
    },
    {
     "name": "stdout",
     "output_type": "stream",
     "text": [
      "INFO:tensorflow:Assets written to: D:\\DL\\wandb\\run-20250515_190436-3qmxjcpt\\files\\model-best\\assets\n"
     ]
    },
    {
     "name": "stderr",
     "output_type": "stream",
     "text": [
      "INFO:tensorflow:Assets written to: D:\\DL\\wandb\\run-20250515_190436-3qmxjcpt\\files\\model-best\\assets\n",
      "wandb: Adding directory to artifact (D:\\DL\\wandb\\run-20250515_190436-3qmxjcpt\\files\\model-best)... Done. 0.1s\n"
     ]
    },
    {
     "name": "stdout",
     "output_type": "stream",
     "text": [
      "1582/1582 [==============================] - 41s 26ms/step - loss: 0.2129 - accuracy: 0.9330 - val_loss: 0.2840 - val_accuracy: 0.9124 - WordAccuracy: 0.1281\n",
      "Epoch 8/10\n",
      "1580/1582 [============================>.] - ETA: 0s - loss: 0.1876 - accuracy: 0.9405\n",
      "Epoch 8: Word-level Accuracy = 0.1518\n"
     ]
    },
    {
     "name": "stderr",
     "output_type": "stream",
     "text": [
      "WARNING:absl:Found untraced functions such as lstm_cell_layer_call_fn, lstm_cell_layer_call_and_return_conditional_losses, lstm_cell_1_layer_call_fn, lstm_cell_1_layer_call_and_return_conditional_losses, lstm_cell_2_layer_call_fn while saving (showing 5 of 10). These functions will not be directly callable after loading.\n"
     ]
    },
    {
     "name": "stdout",
     "output_type": "stream",
     "text": [
      "INFO:tensorflow:Assets written to: D:\\DL\\wandb\\run-20250515_190436-3qmxjcpt\\files\\model-best\\assets\n"
     ]
    },
    {
     "name": "stderr",
     "output_type": "stream",
     "text": [
      "INFO:tensorflow:Assets written to: D:\\DL\\wandb\\run-20250515_190436-3qmxjcpt\\files\\model-best\\assets\n",
      "wandb: Adding directory to artifact (D:\\DL\\wandb\\run-20250515_190436-3qmxjcpt\\files\\model-best)... Done. 0.1s\n"
     ]
    },
    {
     "name": "stdout",
     "output_type": "stream",
     "text": [
      "1582/1582 [==============================] - 39s 24ms/step - loss: 0.1876 - accuracy: 0.9405 - val_loss: 0.2703 - val_accuracy: 0.9172 - WordAccuracy: 0.1518\n",
      "Epoch 9/10\n",
      "1582/1582 [==============================] - ETA: 0s - loss: 0.1678 - accuracy: 0.9466\n",
      "Epoch 9: Word-level Accuracy = 0.1560\n",
      "1582/1582 [==============================] - 30s 19ms/step - loss: 0.1678 - accuracy: 0.9466 - val_loss: 0.2765 - val_accuracy: 0.9180 - WordAccuracy: 0.1560\n",
      "Epoch 10/10\n",
      "1579/1582 [============================>.] - ETA: 0s - loss: 0.1521 - accuracy: 0.9515\n",
      "Epoch 10: Word-level Accuracy = 0.1444\n",
      "1582/1582 [==============================] - 31s 19ms/step - loss: 0.1521 - accuracy: 0.9515 - val_loss: 0.2879 - val_accuracy: 0.9163 - WordAccuracy: 0.1444\n"
     ]
    },
    {
     "data": {
      "application/vnd.jupyter.widget-view+json": {
       "model_id": "fbe64966782d48c4a75b691afde854f3",
       "version_major": 2,
       "version_minor": 0
      },
      "text/plain": [
       "VBox(children=(Label(value='224.626 MB of 224.626 MB uploaded (0.238 MB deduped)\\r'), FloatProgress(value=1.0,…"
      ]
     },
     "metadata": {},
     "output_type": "display_data"
    },
    {
     "data": {
      "text/html": [
       "<style>\n",
       "    table.wandb td:nth-child(1) { padding: 0 10px; text-align: left ; width: auto;} td:nth-child(2) {text-align: left ; width: 100%}\n",
       "    .wandb-row { display: flex; flex-direction: row; flex-wrap: wrap; justify-content: flex-start; width: 100% }\n",
       "    .wandb-col { display: flex; flex-direction: column; flex-basis: 100%; flex: 1; padding: 10px; }\n",
       "    </style>\n",
       "<div class=\"wandb-row\"><div class=\"wandb-col\"><h3>Run history:</h3><br/><table class=\"wandb\"><tr><td>Val_WordAccuracy</td><td>▁▁▂▄▆▆▇██▇</td></tr><tr><td>WordAccuracy</td><td>▁▁▂▄▆▆▇██▇</td></tr><tr><td>accuracy</td><td>▁▃▅▆▇▇▇███</td></tr><tr><td>epoch</td><td>▂▁▂▂▃▂▄▃▅▄▅▅▆▅▇▆▇▇█▇</td></tr><tr><td>loss</td><td>█▆▄▃▂▂▂▁▁▁</td></tr><tr><td>val_accuracy</td><td>▁▄▆▇▇▇████</td></tr><tr><td>val_loss</td><td>█▅▃▂▁▁▁▁▁▁</td></tr></table><br/></div><div class=\"wandb-col\"><h3>Run summary:</h3><br/><table class=\"wandb\"><tr><td>Val_WordAccuracy</td><td>0.14442</td></tr><tr><td>WordAccuracy</td><td>0.14442</td></tr><tr><td>accuracy</td><td>0.95155</td></tr><tr><td>best_epoch</td><td>7</td></tr><tr><td>best_val_loss</td><td>0.27028</td></tr><tr><td>epoch</td><td>9</td></tr><tr><td>loss</td><td>0.15211</td></tr><tr><td>val_accuracy</td><td>0.91628</td></tr><tr><td>val_loss</td><td>0.28795</td></tr></table><br/></div></div>"
      ],
      "text/plain": [
       "<IPython.core.display.HTML object>"
      ]
     },
     "metadata": {},
     "output_type": "display_data"
    },
    {
     "data": {
      "text/html": [
       " View run <strong style=\"color:#cdcd00\">lively-sweep-11</strong> at: <a href='https://wandb.ai/manoj_da24s018-iit-madras/Transliterator_HyperParameterSweep/runs/3qmxjcpt' target=\"_blank\">https://wandb.ai/manoj_da24s018-iit-madras/Transliterator_HyperParameterSweep/runs/3qmxjcpt</a><br/> View project at: <a href='https://wandb.ai/manoj_da24s018-iit-madras/Transliterator_HyperParameterSweep' target=\"_blank\">https://wandb.ai/manoj_da24s018-iit-madras/Transliterator_HyperParameterSweep</a><br/>Synced 5 W&B file(s), 1 media file(s), 32 artifact file(s) and 1 other file(s)"
      ],
      "text/plain": [
       "<IPython.core.display.HTML object>"
      ]
     },
     "metadata": {},
     "output_type": "display_data"
    },
    {
     "data": {
      "text/html": [
       "Find logs at: <code>.\\wandb\\run-20250515_190436-3qmxjcpt\\logs</code>"
      ],
      "text/plain": [
       "<IPython.core.display.HTML object>"
      ]
     },
     "metadata": {},
     "output_type": "display_data"
    },
    {
     "name": "stderr",
     "output_type": "stream",
     "text": [
      "wandb: Sweep Agent: Waiting for job.\n",
      "wandb: Job received.\n",
      "wandb: Agent Starting Run: wqcno003 with config:\n",
      "wandb: \tcell_type: lstm\n",
      "wandb: \tchar_embedding_dim: 16\n",
      "wandb: \tdecoder_layers: 1\n",
      "wandb: \tdropout: 0.3\n",
      "wandb: \tencoder_layers: 1\n",
      "wandb: \thidden_state_dim: 256\n"
     ]
    },
    {
     "data": {
      "text/html": [
       "wandb version 0.19.11 is available!  To upgrade, please run:\n",
       " $ pip install wandb --upgrade"
      ],
      "text/plain": [
       "<IPython.core.display.HTML object>"
      ]
     },
     "metadata": {},
     "output_type": "display_data"
    },
    {
     "data": {
      "text/html": [
       "Tracking run with wandb version 0.16.6"
      ],
      "text/plain": [
       "<IPython.core.display.HTML object>"
      ]
     },
     "metadata": {},
     "output_type": "display_data"
    },
    {
     "data": {
      "text/html": [
       "Run data is saved locally in <code>D:\\DL\\wandb\\run-20250515_191134-wqcno003</code>"
      ],
      "text/plain": [
       "<IPython.core.display.HTML object>"
      ]
     },
     "metadata": {},
     "output_type": "display_data"
    },
    {
     "data": {
      "text/html": [
       "Syncing run <strong><a href='https://wandb.ai/manoj_da24s018-iit-madras/Transliterator_HyperParameterSweep/runs/wqcno003' target=\"_blank\">devout-sweep-12</a></strong> to <a href='https://wandb.ai/manoj_da24s018-iit-madras/Transliterator_HyperParameterSweep' target=\"_blank\">Weights & Biases</a> (<a href='https://wandb.me/run' target=\"_blank\">docs</a>)<br/>Sweep page: <a href='https://wandb.ai/manoj_da24s018-iit-madras/Transliterator_HyperParameterSweep/sweeps/fjtuyyfs' target=\"_blank\">https://wandb.ai/manoj_da24s018-iit-madras/Transliterator_HyperParameterSweep/sweeps/fjtuyyfs</a>"
      ],
      "text/plain": [
       "<IPython.core.display.HTML object>"
      ]
     },
     "metadata": {},
     "output_type": "display_data"
    },
    {
     "data": {
      "text/html": [
       " View project at <a href='https://wandb.ai/manoj_da24s018-iit-madras/Transliterator_HyperParameterSweep' target=\"_blank\">https://wandb.ai/manoj_da24s018-iit-madras/Transliterator_HyperParameterSweep</a>"
      ],
      "text/plain": [
       "<IPython.core.display.HTML object>"
      ]
     },
     "metadata": {},
     "output_type": "display_data"
    },
    {
     "data": {
      "text/html": [
       " View sweep at <a href='https://wandb.ai/manoj_da24s018-iit-madras/Transliterator_HyperParameterSweep/sweeps/fjtuyyfs' target=\"_blank\">https://wandb.ai/manoj_da24s018-iit-madras/Transliterator_HyperParameterSweep/sweeps/fjtuyyfs</a>"
      ],
      "text/plain": [
       "<IPython.core.display.HTML object>"
      ]
     },
     "metadata": {},
     "output_type": "display_data"
    },
    {
     "data": {
      "text/html": [
       " View run at <a href='https://wandb.ai/manoj_da24s018-iit-madras/Transliterator_HyperParameterSweep/runs/wqcno003' target=\"_blank\">https://wandb.ai/manoj_da24s018-iit-madras/Transliterator_HyperParameterSweep/runs/wqcno003</a>"
      ],
      "text/plain": [
       "<IPython.core.display.HTML object>"
      ]
     },
     "metadata": {},
     "output_type": "display_data"
    },
    {
     "name": "stdout",
     "output_type": "stream",
     "text": [
      "Sweep Name:  RNN Layer Type: lstm, Character_Embedding_dim: 16, Hidden_dim:256, Num_Encoder_Layer:1, Num_Decoder_Layer:1, Dropout:0.3\n",
      "Epoch 1/10\n",
      "1580/1582 [============================>.] - ETA: 0s - loss: 0.9791 - accuracy: 0.7344\n",
      "Epoch 1: Word-level Accuracy = 0.0000\n"
     ]
    },
    {
     "name": "stderr",
     "output_type": "stream",
     "text": [
      "WARNING:absl:Found untraced functions such as lstm_cell_layer_call_fn, lstm_cell_layer_call_and_return_conditional_losses, lstm_cell_1_layer_call_fn, lstm_cell_1_layer_call_and_return_conditional_losses while saving (showing 4 of 4). These functions will not be directly callable after loading.\n"
     ]
    },
    {
     "name": "stdout",
     "output_type": "stream",
     "text": [
      "INFO:tensorflow:Assets written to: D:\\DL\\wandb\\run-20250515_191134-wqcno003\\files\\model-best\\assets\n"
     ]
    },
    {
     "name": "stderr",
     "output_type": "stream",
     "text": [
      "INFO:tensorflow:Assets written to: D:\\DL\\wandb\\run-20250515_191134-wqcno003\\files\\model-best\\assets\n",
      "wandb: Adding directory to artifact (D:\\DL\\wandb\\run-20250515_191134-wqcno003\\files\\model-best)... Done. 0.0s\n"
     ]
    },
    {
     "name": "stdout",
     "output_type": "stream",
     "text": [
      "1582/1582 [==============================] - 21s 12ms/step - loss: 0.9789 - accuracy: 0.7345 - val_loss: 0.7723 - val_accuracy: 0.7848 - WordAccuracy: 0.0000e+00\n",
      "Epoch 2/10\n",
      "1579/1582 [============================>.] - ETA: 0s - loss: 0.7177 - accuracy: 0.7929\n",
      "Epoch 2: Word-level Accuracy = 0.0020\n"
     ]
    },
    {
     "name": "stderr",
     "output_type": "stream",
     "text": [
      "WARNING:absl:Found untraced functions such as lstm_cell_layer_call_fn, lstm_cell_layer_call_and_return_conditional_losses, lstm_cell_1_layer_call_fn, lstm_cell_1_layer_call_and_return_conditional_losses while saving (showing 4 of 4). These functions will not be directly callable after loading.\n"
     ]
    },
    {
     "name": "stdout",
     "output_type": "stream",
     "text": [
      "INFO:tensorflow:Assets written to: D:\\DL\\wandb\\run-20250515_191134-wqcno003\\files\\model-best\\assets\n"
     ]
    },
    {
     "name": "stderr",
     "output_type": "stream",
     "text": [
      "INFO:tensorflow:Assets written to: D:\\DL\\wandb\\run-20250515_191134-wqcno003\\files\\model-best\\assets\n",
      "wandb: Adding directory to artifact (D:\\DL\\wandb\\run-20250515_191134-wqcno003\\files\\model-best)... Done. 0.0s\n"
     ]
    },
    {
     "name": "stdout",
     "output_type": "stream",
     "text": [
      "1582/1582 [==============================] - 20s 13ms/step - loss: 0.7176 - accuracy: 0.7929 - val_loss: 0.5932 - val_accuracy: 0.8277 - WordAccuracy: 0.0020\n",
      "Epoch 3/10\n",
      "1580/1582 [============================>.] - ETA: 0s - loss: 0.5377 - accuracy: 0.8401\n",
      "Epoch 3: Word-level Accuracy = 0.0169\n"
     ]
    },
    {
     "name": "stderr",
     "output_type": "stream",
     "text": [
      "WARNING:absl:Found untraced functions such as lstm_cell_layer_call_fn, lstm_cell_layer_call_and_return_conditional_losses, lstm_cell_1_layer_call_fn, lstm_cell_1_layer_call_and_return_conditional_losses while saving (showing 4 of 4). These functions will not be directly callable after loading.\n"
     ]
    },
    {
     "name": "stdout",
     "output_type": "stream",
     "text": [
      "INFO:tensorflow:Assets written to: D:\\DL\\wandb\\run-20250515_191134-wqcno003\\files\\model-best\\assets\n"
     ]
    },
    {
     "name": "stderr",
     "output_type": "stream",
     "text": [
      "INFO:tensorflow:Assets written to: D:\\DL\\wandb\\run-20250515_191134-wqcno003\\files\\model-best\\assets\n",
      "wandb: Adding directory to artifact (D:\\DL\\wandb\\run-20250515_191134-wqcno003\\files\\model-best)... Done. 0.0s\n"
     ]
    },
    {
     "name": "stdout",
     "output_type": "stream",
     "text": [
      "1582/1582 [==============================] - 18s 12ms/step - loss: 0.5376 - accuracy: 0.8402 - val_loss: 0.4405 - val_accuracy: 0.8707 - WordAccuracy: 0.0169\n",
      "Epoch 4/10\n",
      "1580/1582 [============================>.] - ETA: 0s - loss: 0.4005 - accuracy: 0.8794\n",
      "Epoch 4: Word-level Accuracy = 0.0633\n"
     ]
    },
    {
     "name": "stderr",
     "output_type": "stream",
     "text": [
      "WARNING:absl:Found untraced functions such as lstm_cell_layer_call_fn, lstm_cell_layer_call_and_return_conditional_losses, lstm_cell_1_layer_call_fn, lstm_cell_1_layer_call_and_return_conditional_losses while saving (showing 4 of 4). These functions will not be directly callable after loading.\n"
     ]
    },
    {
     "name": "stdout",
     "output_type": "stream",
     "text": [
      "INFO:tensorflow:Assets written to: D:\\DL\\wandb\\run-20250515_191134-wqcno003\\files\\model-best\\assets\n"
     ]
    },
    {
     "name": "stderr",
     "output_type": "stream",
     "text": [
      "INFO:tensorflow:Assets written to: D:\\DL\\wandb\\run-20250515_191134-wqcno003\\files\\model-best\\assets\n",
      "wandb: Adding directory to artifact (D:\\DL\\wandb\\run-20250515_191134-wqcno003\\files\\model-best)... Done. 0.0s\n"
     ]
    },
    {
     "name": "stdout",
     "output_type": "stream",
     "text": [
      "1582/1582 [==============================] - 17s 11ms/step - loss: 0.4004 - accuracy: 0.8795 - val_loss: 0.3526 - val_accuracy: 0.8955 - WordAccuracy: 0.0633\n",
      "Epoch 5/10\n",
      "1577/1582 [============================>.] - ETA: 0s - loss: 0.3024 - accuracy: 0.9090\n",
      "Epoch 5: Word-level Accuracy = 0.1130\n"
     ]
    },
    {
     "name": "stderr",
     "output_type": "stream",
     "text": [
      "WARNING:absl:Found untraced functions such as lstm_cell_layer_call_fn, lstm_cell_layer_call_and_return_conditional_losses, lstm_cell_1_layer_call_fn, lstm_cell_1_layer_call_and_return_conditional_losses while saving (showing 4 of 4). These functions will not be directly callable after loading.\n"
     ]
    },
    {
     "name": "stdout",
     "output_type": "stream",
     "text": [
      "INFO:tensorflow:Assets written to: D:\\DL\\wandb\\run-20250515_191134-wqcno003\\files\\model-best\\assets\n"
     ]
    },
    {
     "name": "stderr",
     "output_type": "stream",
     "text": [
      "INFO:tensorflow:Assets written to: D:\\DL\\wandb\\run-20250515_191134-wqcno003\\files\\model-best\\assets\n",
      "wandb: Adding directory to artifact (D:\\DL\\wandb\\run-20250515_191134-wqcno003\\files\\model-best)... Done. 0.0s\n"
     ]
    },
    {
     "name": "stdout",
     "output_type": "stream",
     "text": [
      "1582/1582 [==============================] - 18s 11ms/step - loss: 0.3023 - accuracy: 0.9090 - val_loss: 0.2917 - val_accuracy: 0.9133 - WordAccuracy: 0.1130\n",
      "Epoch 6/10\n",
      "1576/1582 [============================>.] - ETA: 0s - loss: 0.2329 - accuracy: 0.9298\n",
      "Epoch 6: Word-level Accuracy = 0.1605\n"
     ]
    },
    {
     "name": "stderr",
     "output_type": "stream",
     "text": [
      "WARNING:absl:Found untraced functions such as lstm_cell_layer_call_fn, lstm_cell_layer_call_and_return_conditional_losses, lstm_cell_1_layer_call_fn, lstm_cell_1_layer_call_and_return_conditional_losses while saving (showing 4 of 4). These functions will not be directly callable after loading.\n"
     ]
    },
    {
     "name": "stdout",
     "output_type": "stream",
     "text": [
      "INFO:tensorflow:Assets written to: D:\\DL\\wandb\\run-20250515_191134-wqcno003\\files\\model-best\\assets\n"
     ]
    },
    {
     "name": "stderr",
     "output_type": "stream",
     "text": [
      "INFO:tensorflow:Assets written to: D:\\DL\\wandb\\run-20250515_191134-wqcno003\\files\\model-best\\assets\n",
      "wandb: Adding directory to artifact (D:\\DL\\wandb\\run-20250515_191134-wqcno003\\files\\model-best)... Done. 0.0s\n"
     ]
    },
    {
     "name": "stdout",
     "output_type": "stream",
     "text": [
      "1582/1582 [==============================] - 19s 12ms/step - loss: 0.2328 - accuracy: 0.9299 - val_loss: 0.2484 - val_accuracy: 0.9251 - WordAccuracy: 0.1605\n",
      "Epoch 7/10\n",
      "1576/1582 [============================>.] - ETA: 0s - loss: 0.1838 - accuracy: 0.9444\n",
      "Epoch 7: Word-level Accuracy = 0.1938\n"
     ]
    },
    {
     "name": "stderr",
     "output_type": "stream",
     "text": [
      "WARNING:absl:Found untraced functions such as lstm_cell_layer_call_fn, lstm_cell_layer_call_and_return_conditional_losses, lstm_cell_1_layer_call_fn, lstm_cell_1_layer_call_and_return_conditional_losses while saving (showing 4 of 4). These functions will not be directly callable after loading.\n"
     ]
    },
    {
     "name": "stdout",
     "output_type": "stream",
     "text": [
      "INFO:tensorflow:Assets written to: D:\\DL\\wandb\\run-20250515_191134-wqcno003\\files\\model-best\\assets\n"
     ]
    },
    {
     "name": "stderr",
     "output_type": "stream",
     "text": [
      "INFO:tensorflow:Assets written to: D:\\DL\\wandb\\run-20250515_191134-wqcno003\\files\\model-best\\assets\n",
      "wandb: Adding directory to artifact (D:\\DL\\wandb\\run-20250515_191134-wqcno003\\files\\model-best)... Done. 0.0s\n"
     ]
    },
    {
     "name": "stdout",
     "output_type": "stream",
     "text": [
      "1582/1582 [==============================] - 19s 12ms/step - loss: 0.1838 - accuracy: 0.9444 - val_loss: 0.2270 - val_accuracy: 0.9318 - WordAccuracy: 0.1938\n",
      "Epoch 8/10\n",
      "1576/1582 [============================>.] - ETA: 0s - loss: 0.1488 - accuracy: 0.9548\n",
      "Epoch 8: Word-level Accuracy = 0.2385\n"
     ]
    },
    {
     "name": "stderr",
     "output_type": "stream",
     "text": [
      "WARNING:absl:Found untraced functions such as lstm_cell_layer_call_fn, lstm_cell_layer_call_and_return_conditional_losses, lstm_cell_1_layer_call_fn, lstm_cell_1_layer_call_and_return_conditional_losses while saving (showing 4 of 4). These functions will not be directly callable after loading.\n"
     ]
    },
    {
     "name": "stdout",
     "output_type": "stream",
     "text": [
      "INFO:tensorflow:Assets written to: D:\\DL\\wandb\\run-20250515_191134-wqcno003\\files\\model-best\\assets\n"
     ]
    },
    {
     "name": "stderr",
     "output_type": "stream",
     "text": [
      "INFO:tensorflow:Assets written to: D:\\DL\\wandb\\run-20250515_191134-wqcno003\\files\\model-best\\assets\n",
      "wandb: Adding directory to artifact (D:\\DL\\wandb\\run-20250515_191134-wqcno003\\files\\model-best)... Done. 0.0s\n"
     ]
    },
    {
     "name": "stdout",
     "output_type": "stream",
     "text": [
      "1582/1582 [==============================] - 20s 13ms/step - loss: 0.1488 - accuracy: 0.9548 - val_loss: 0.2073 - val_accuracy: 0.9377 - WordAccuracy: 0.2385\n",
      "Epoch 9/10\n",
      "1581/1582 [============================>.] - ETA: 0s - loss: 0.1238 - accuracy: 0.9623\n",
      "Epoch 9: Word-level Accuracy = 0.2660\n"
     ]
    },
    {
     "name": "stderr",
     "output_type": "stream",
     "text": [
      "WARNING:absl:Found untraced functions such as lstm_cell_layer_call_fn, lstm_cell_layer_call_and_return_conditional_losses, lstm_cell_1_layer_call_fn, lstm_cell_1_layer_call_and_return_conditional_losses while saving (showing 4 of 4). These functions will not be directly callable after loading.\n"
     ]
    },
    {
     "name": "stdout",
     "output_type": "stream",
     "text": [
      "INFO:tensorflow:Assets written to: D:\\DL\\wandb\\run-20250515_191134-wqcno003\\files\\model-best\\assets\n"
     ]
    },
    {
     "name": "stderr",
     "output_type": "stream",
     "text": [
      "INFO:tensorflow:Assets written to: D:\\DL\\wandb\\run-20250515_191134-wqcno003\\files\\model-best\\assets\n",
      "wandb: Adding directory to artifact (D:\\DL\\wandb\\run-20250515_191134-wqcno003\\files\\model-best)... Done. 0.0s\n"
     ]
    },
    {
     "name": "stdout",
     "output_type": "stream",
     "text": [
      "1582/1582 [==============================] - 18s 11ms/step - loss: 0.1238 - accuracy: 0.9623 - val_loss: 0.1980 - val_accuracy: 0.9410 - WordAccuracy: 0.2660\n",
      "Epoch 10/10\n",
      "1577/1582 [============================>.] - ETA: 0s - loss: 0.1047 - accuracy: 0.9681\n",
      "Epoch 10: Word-level Accuracy = 0.2775\n"
     ]
    },
    {
     "name": "stderr",
     "output_type": "stream",
     "text": [
      "WARNING:absl:Found untraced functions such as lstm_cell_layer_call_fn, lstm_cell_layer_call_and_return_conditional_losses, lstm_cell_1_layer_call_fn, lstm_cell_1_layer_call_and_return_conditional_losses while saving (showing 4 of 4). These functions will not be directly callable after loading.\n"
     ]
    },
    {
     "name": "stdout",
     "output_type": "stream",
     "text": [
      "INFO:tensorflow:Assets written to: D:\\DL\\wandb\\run-20250515_191134-wqcno003\\files\\model-best\\assets\n"
     ]
    },
    {
     "name": "stderr",
     "output_type": "stream",
     "text": [
      "INFO:tensorflow:Assets written to: D:\\DL\\wandb\\run-20250515_191134-wqcno003\\files\\model-best\\assets\n",
      "wandb: Adding directory to artifact (D:\\DL\\wandb\\run-20250515_191134-wqcno003\\files\\model-best)... Done. 0.0s\n"
     ]
    },
    {
     "name": "stdout",
     "output_type": "stream",
     "text": [
      "1582/1582 [==============================] - 20s 13ms/step - loss: 0.1048 - accuracy: 0.9681 - val_loss: 0.1911 - val_accuracy: 0.9441 - WordAccuracy: 0.2775\n"
     ]
    },
    {
     "data": {
      "application/vnd.jupyter.widget-view+json": {
       "model_id": "1fc51b1e40b24b908592114a668fa418",
       "version_major": 2,
       "version_minor": 0
      },
      "text/plain": [
       "VBox(children=(Label(value='81.248 MB of 81.248 MB uploaded (0.187 MB deduped)\\r'), FloatProgress(value=1.0, m…"
      ]
     },
     "metadata": {},
     "output_type": "display_data"
    },
    {
     "data": {
      "text/html": [
       "<style>\n",
       "    table.wandb td:nth-child(1) { padding: 0 10px; text-align: left ; width: auto;} td:nth-child(2) {text-align: left ; width: 100%}\n",
       "    .wandb-row { display: flex; flex-direction: row; flex-wrap: wrap; justify-content: flex-start; width: 100% }\n",
       "    .wandb-col { display: flex; flex-direction: column; flex-basis: 100%; flex: 1; padding: 10px; }\n",
       "    </style>\n",
       "<div class=\"wandb-row\"><div class=\"wandb-col\"><h3>Run history:</h3><br/><table class=\"wandb\"><tr><td>Val_WordAccuracy</td><td>▁▁▁▃▄▅▆▇██</td></tr><tr><td>WordAccuracy</td><td>▁▁▁▃▄▅▆▇██</td></tr><tr><td>accuracy</td><td>▁▃▄▅▆▇▇███</td></tr><tr><td>epoch</td><td>▂▁▂▂▃▂▄▃▅▄▅▅▆▅▇▆▇▇█▇</td></tr><tr><td>loss</td><td>█▆▄▃▃▂▂▁▁▁</td></tr><tr><td>val_accuracy</td><td>▁▃▅▆▇▇▇███</td></tr><tr><td>val_loss</td><td>█▆▄▃▂▂▁▁▁▁</td></tr></table><br/></div><div class=\"wandb-col\"><h3>Run summary:</h3><br/><table class=\"wandb\"><tr><td>Val_WordAccuracy</td><td>0.2775</td></tr><tr><td>WordAccuracy</td><td>0.2775</td></tr><tr><td>accuracy</td><td>0.96807</td></tr><tr><td>best_epoch</td><td>9</td></tr><tr><td>best_val_loss</td><td>0.19105</td></tr><tr><td>epoch</td><td>9</td></tr><tr><td>loss</td><td>0.10476</td></tr><tr><td>val_accuracy</td><td>0.94408</td></tr><tr><td>val_loss</td><td>0.19105</td></tr></table><br/></div></div>"
      ],
      "text/plain": [
       "<IPython.core.display.HTML object>"
      ]
     },
     "metadata": {},
     "output_type": "display_data"
    },
    {
     "data": {
      "text/html": [
       " View run <strong style=\"color:#cdcd00\">devout-sweep-12</strong> at: <a href='https://wandb.ai/manoj_da24s018-iit-madras/Transliterator_HyperParameterSweep/runs/wqcno003' target=\"_blank\">https://wandb.ai/manoj_da24s018-iit-madras/Transliterator_HyperParameterSweep/runs/wqcno003</a><br/> View project at: <a href='https://wandb.ai/manoj_da24s018-iit-madras/Transliterator_HyperParameterSweep' target=\"_blank\">https://wandb.ai/manoj_da24s018-iit-madras/Transliterator_HyperParameterSweep</a><br/>Synced 5 W&B file(s), 1 media file(s), 40 artifact file(s) and 1 other file(s)"
      ],
      "text/plain": [
       "<IPython.core.display.HTML object>"
      ]
     },
     "metadata": {},
     "output_type": "display_data"
    },
    {
     "data": {
      "text/html": [
       "Find logs at: <code>.\\wandb\\run-20250515_191134-wqcno003\\logs</code>"
      ],
      "text/plain": [
       "<IPython.core.display.HTML object>"
      ]
     },
     "metadata": {},
     "output_type": "display_data"
    },
    {
     "name": "stderr",
     "output_type": "stream",
     "text": [
      "wandb: Agent Starting Run: mty2e2yj with config:\n",
      "wandb: \tcell_type: lstm\n",
      "wandb: \tchar_embedding_dim: 32\n",
      "wandb: \tdecoder_layers: 1\n",
      "wandb: \tdropout: 0.4\n",
      "wandb: \tencoder_layers: 2\n",
      "wandb: \thidden_state_dim: 256\n"
     ]
    },
    {
     "data": {
      "text/html": [
       "wandb version 0.19.11 is available!  To upgrade, please run:\n",
       " $ pip install wandb --upgrade"
      ],
      "text/plain": [
       "<IPython.core.display.HTML object>"
      ]
     },
     "metadata": {},
     "output_type": "display_data"
    },
    {
     "data": {
      "text/html": [
       "Tracking run with wandb version 0.16.6"
      ],
      "text/plain": [
       "<IPython.core.display.HTML object>"
      ]
     },
     "metadata": {},
     "output_type": "display_data"
    },
    {
     "data": {
      "text/html": [
       "Run data is saved locally in <code>D:\\DL\\wandb\\run-20250515_191507-mty2e2yj</code>"
      ],
      "text/plain": [
       "<IPython.core.display.HTML object>"
      ]
     },
     "metadata": {},
     "output_type": "display_data"
    },
    {
     "data": {
      "text/html": [
       "Syncing run <strong><a href='https://wandb.ai/manoj_da24s018-iit-madras/Transliterator_HyperParameterSweep/runs/mty2e2yj' target=\"_blank\">daily-sweep-13</a></strong> to <a href='https://wandb.ai/manoj_da24s018-iit-madras/Transliterator_HyperParameterSweep' target=\"_blank\">Weights & Biases</a> (<a href='https://wandb.me/run' target=\"_blank\">docs</a>)<br/>Sweep page: <a href='https://wandb.ai/manoj_da24s018-iit-madras/Transliterator_HyperParameterSweep/sweeps/fjtuyyfs' target=\"_blank\">https://wandb.ai/manoj_da24s018-iit-madras/Transliterator_HyperParameterSweep/sweeps/fjtuyyfs</a>"
      ],
      "text/plain": [
       "<IPython.core.display.HTML object>"
      ]
     },
     "metadata": {},
     "output_type": "display_data"
    },
    {
     "data": {
      "text/html": [
       " View project at <a href='https://wandb.ai/manoj_da24s018-iit-madras/Transliterator_HyperParameterSweep' target=\"_blank\">https://wandb.ai/manoj_da24s018-iit-madras/Transliterator_HyperParameterSweep</a>"
      ],
      "text/plain": [
       "<IPython.core.display.HTML object>"
      ]
     },
     "metadata": {},
     "output_type": "display_data"
    },
    {
     "data": {
      "text/html": [
       " View sweep at <a href='https://wandb.ai/manoj_da24s018-iit-madras/Transliterator_HyperParameterSweep/sweeps/fjtuyyfs' target=\"_blank\">https://wandb.ai/manoj_da24s018-iit-madras/Transliterator_HyperParameterSweep/sweeps/fjtuyyfs</a>"
      ],
      "text/plain": [
       "<IPython.core.display.HTML object>"
      ]
     },
     "metadata": {},
     "output_type": "display_data"
    },
    {
     "data": {
      "text/html": [
       " View run at <a href='https://wandb.ai/manoj_da24s018-iit-madras/Transliterator_HyperParameterSweep/runs/mty2e2yj' target=\"_blank\">https://wandb.ai/manoj_da24s018-iit-madras/Transliterator_HyperParameterSweep/runs/mty2e2yj</a>"
      ],
      "text/plain": [
       "<IPython.core.display.HTML object>"
      ]
     },
     "metadata": {},
     "output_type": "display_data"
    },
    {
     "name": "stdout",
     "output_type": "stream",
     "text": [
      "Sweep Name:  RNN Layer Type: lstm, Character_Embedding_dim: 32, Hidden_dim:256, Num_Encoder_Layer:2, Num_Decoder_Layer:1, Dropout:0.4\n",
      "Epoch 1/10\n",
      "1581/1582 [============================>.] - ETA: 0s - loss: 0.9913 - accuracy: 0.7299\n",
      "Epoch 1: Word-level Accuracy = 0.0000\n"
     ]
    },
    {
     "name": "stderr",
     "output_type": "stream",
     "text": [
      "WARNING:absl:Found untraced functions such as lstm_cell_layer_call_fn, lstm_cell_layer_call_and_return_conditional_losses, lstm_cell_1_layer_call_fn, lstm_cell_1_layer_call_and_return_conditional_losses, lstm_cell_2_layer_call_fn while saving (showing 5 of 6). These functions will not be directly callable after loading.\n"
     ]
    },
    {
     "name": "stdout",
     "output_type": "stream",
     "text": [
      "INFO:tensorflow:Assets written to: D:\\DL\\wandb\\run-20250515_191507-mty2e2yj\\files\\model-best\\assets\n"
     ]
    },
    {
     "name": "stderr",
     "output_type": "stream",
     "text": [
      "INFO:tensorflow:Assets written to: D:\\DL\\wandb\\run-20250515_191507-mty2e2yj\\files\\model-best\\assets\n",
      "wandb: Adding directory to artifact (D:\\DL\\wandb\\run-20250515_191507-mty2e2yj\\files\\model-best)... Done. 0.0s\n"
     ]
    },
    {
     "name": "stdout",
     "output_type": "stream",
     "text": [
      "1582/1582 [==============================] - 30s 17ms/step - loss: 0.9912 - accuracy: 0.7299 - val_loss: 0.8502 - val_accuracy: 0.7628 - WordAccuracy: 0.0000e+00\n",
      "Epoch 2/10\n",
      "1582/1582 [==============================] - ETA: 0s - loss: 0.8299 - accuracy: 0.7639\n",
      "Epoch 2: Word-level Accuracy = 0.0000\n"
     ]
    },
    {
     "name": "stderr",
     "output_type": "stream",
     "text": [
      "WARNING:absl:Found untraced functions such as lstm_cell_layer_call_fn, lstm_cell_layer_call_and_return_conditional_losses, lstm_cell_1_layer_call_fn, lstm_cell_1_layer_call_and_return_conditional_losses, lstm_cell_2_layer_call_fn while saving (showing 5 of 6). These functions will not be directly callable after loading.\n"
     ]
    },
    {
     "name": "stdout",
     "output_type": "stream",
     "text": [
      "INFO:tensorflow:Assets written to: D:\\DL\\wandb\\run-20250515_191507-mty2e2yj\\files\\model-best\\assets\n"
     ]
    },
    {
     "name": "stderr",
     "output_type": "stream",
     "text": [
      "INFO:tensorflow:Assets written to: D:\\DL\\wandb\\run-20250515_191507-mty2e2yj\\files\\model-best\\assets\n",
      "wandb: Adding directory to artifact (D:\\DL\\wandb\\run-20250515_191507-mty2e2yj\\files\\model-best)... Done. 0.0s\n"
     ]
    },
    {
     "name": "stdout",
     "output_type": "stream",
     "text": [
      "1582/1582 [==============================] - 25s 16ms/step - loss: 0.8299 - accuracy: 0.7639 - val_loss: 0.7797 - val_accuracy: 0.7784 - WordAccuracy: 0.0000e+00\n",
      "Epoch 3/10\n",
      "1580/1582 [============================>.] - ETA: 0s - loss: 0.7388 - accuracy: 0.7853\n",
      "Epoch 3: Word-level Accuracy = 0.0000\n"
     ]
    },
    {
     "name": "stderr",
     "output_type": "stream",
     "text": [
      "WARNING:absl:Found untraced functions such as lstm_cell_layer_call_fn, lstm_cell_layer_call_and_return_conditional_losses, lstm_cell_1_layer_call_fn, lstm_cell_1_layer_call_and_return_conditional_losses, lstm_cell_2_layer_call_fn while saving (showing 5 of 6). These functions will not be directly callable after loading.\n"
     ]
    },
    {
     "name": "stdout",
     "output_type": "stream",
     "text": [
      "INFO:tensorflow:Assets written to: D:\\DL\\wandb\\run-20250515_191507-mty2e2yj\\files\\model-best\\assets\n"
     ]
    },
    {
     "name": "stderr",
     "output_type": "stream",
     "text": [
      "INFO:tensorflow:Assets written to: D:\\DL\\wandb\\run-20250515_191507-mty2e2yj\\files\\model-best\\assets\n",
      "wandb: Adding directory to artifact (D:\\DL\\wandb\\run-20250515_191507-mty2e2yj\\files\\model-best)... Done. 0.1s\n"
     ]
    },
    {
     "name": "stdout",
     "output_type": "stream",
     "text": [
      "1582/1582 [==============================] - 26s 16ms/step - loss: 0.7387 - accuracy: 0.7853 - val_loss: 0.6664 - val_accuracy: 0.8057 - WordAccuracy: 0.0000e+00\n",
      "Epoch 4/10\n",
      "1582/1582 [==============================] - ETA: 0s - loss: 0.5987 - accuracy: 0.8218\n",
      "Epoch 4: Word-level Accuracy = 0.0008\n"
     ]
    },
    {
     "name": "stderr",
     "output_type": "stream",
     "text": [
      "WARNING:absl:Found untraced functions such as lstm_cell_layer_call_fn, lstm_cell_layer_call_and_return_conditional_losses, lstm_cell_1_layer_call_fn, lstm_cell_1_layer_call_and_return_conditional_losses, lstm_cell_2_layer_call_fn while saving (showing 5 of 6). These functions will not be directly callable after loading.\n"
     ]
    },
    {
     "name": "stdout",
     "output_type": "stream",
     "text": [
      "INFO:tensorflow:Assets written to: D:\\DL\\wandb\\run-20250515_191507-mty2e2yj\\files\\model-best\\assets\n"
     ]
    },
    {
     "name": "stderr",
     "output_type": "stream",
     "text": [
      "INFO:tensorflow:Assets written to: D:\\DL\\wandb\\run-20250515_191507-mty2e2yj\\files\\model-best\\assets\n",
      "wandb: Adding directory to artifact (D:\\DL\\wandb\\run-20250515_191507-mty2e2yj\\files\\model-best)... Done. 0.0s\n"
     ]
    },
    {
     "name": "stdout",
     "output_type": "stream",
     "text": [
      "1582/1582 [==============================] - 25s 16ms/step - loss: 0.5987 - accuracy: 0.8218 - val_loss: 0.5791 - val_accuracy: 0.8301 - WordAccuracy: 7.9570e-04\n",
      "Epoch 5/10\n",
      "1582/1582 [==============================] - ETA: 0s - loss: 0.4948 - accuracy: 0.8504\n",
      "Epoch 5: Word-level Accuracy = 0.0066\n"
     ]
    },
    {
     "name": "stderr",
     "output_type": "stream",
     "text": [
      "WARNING:absl:Found untraced functions such as lstm_cell_layer_call_fn, lstm_cell_layer_call_and_return_conditional_losses, lstm_cell_1_layer_call_fn, lstm_cell_1_layer_call_and_return_conditional_losses, lstm_cell_2_layer_call_fn while saving (showing 5 of 6). These functions will not be directly callable after loading.\n"
     ]
    },
    {
     "name": "stdout",
     "output_type": "stream",
     "text": [
      "INFO:tensorflow:Assets written to: D:\\DL\\wandb\\run-20250515_191507-mty2e2yj\\files\\model-best\\assets\n"
     ]
    },
    {
     "name": "stderr",
     "output_type": "stream",
     "text": [
      "INFO:tensorflow:Assets written to: D:\\DL\\wandb\\run-20250515_191507-mty2e2yj\\files\\model-best\\assets\n",
      "wandb: Adding directory to artifact (D:\\DL\\wandb\\run-20250515_191507-mty2e2yj\\files\\model-best)... Done. 0.0s\n"
     ]
    },
    {
     "name": "stdout",
     "output_type": "stream",
     "text": [
      "1582/1582 [==============================] - 25s 15ms/step - loss: 0.4948 - accuracy: 0.8504 - val_loss: 0.4811 - val_accuracy: 0.8554 - WordAccuracy: 0.0066\n",
      "Epoch 6/10\n",
      "1580/1582 [============================>.] - ETA: 0s - loss: 0.3781 - accuracy: 0.8846\n",
      "Epoch 6: Word-level Accuracy = 0.0294\n"
     ]
    },
    {
     "name": "stderr",
     "output_type": "stream",
     "text": [
      "WARNING:absl:Found untraced functions such as lstm_cell_layer_call_fn, lstm_cell_layer_call_and_return_conditional_losses, lstm_cell_1_layer_call_fn, lstm_cell_1_layer_call_and_return_conditional_losses, lstm_cell_2_layer_call_fn while saving (showing 5 of 6). These functions will not be directly callable after loading.\n"
     ]
    },
    {
     "name": "stdout",
     "output_type": "stream",
     "text": [
      "INFO:tensorflow:Assets written to: D:\\DL\\wandb\\run-20250515_191507-mty2e2yj\\files\\model-best\\assets\n"
     ]
    },
    {
     "name": "stderr",
     "output_type": "stream",
     "text": [
      "INFO:tensorflow:Assets written to: D:\\DL\\wandb\\run-20250515_191507-mty2e2yj\\files\\model-best\\assets\n",
      "wandb: Adding directory to artifact (D:\\DL\\wandb\\run-20250515_191507-mty2e2yj\\files\\model-best)... Done. 0.0s\n"
     ]
    },
    {
     "name": "stdout",
     "output_type": "stream",
     "text": [
      "1582/1582 [==============================] - 26s 16ms/step - loss: 0.3780 - accuracy: 0.8846 - val_loss: 0.3822 - val_accuracy: 0.8851 - WordAccuracy: 0.0294\n",
      "Epoch 7/10\n",
      "1576/1582 [============================>.] - ETA: 0s - loss: 0.2874 - accuracy: 0.9124\n",
      "Epoch 7: Word-level Accuracy = 0.0748\n"
     ]
    },
    {
     "name": "stderr",
     "output_type": "stream",
     "text": [
      "WARNING:absl:Found untraced functions such as lstm_cell_layer_call_fn, lstm_cell_layer_call_and_return_conditional_losses, lstm_cell_1_layer_call_fn, lstm_cell_1_layer_call_and_return_conditional_losses, lstm_cell_2_layer_call_fn while saving (showing 5 of 6). These functions will not be directly callable after loading.\n"
     ]
    },
    {
     "name": "stdout",
     "output_type": "stream",
     "text": [
      "INFO:tensorflow:Assets written to: D:\\DL\\wandb\\run-20250515_191507-mty2e2yj\\files\\model-best\\assets\n"
     ]
    },
    {
     "name": "stderr",
     "output_type": "stream",
     "text": [
      "INFO:tensorflow:Assets written to: D:\\DL\\wandb\\run-20250515_191507-mty2e2yj\\files\\model-best\\assets\n",
      "wandb: Adding directory to artifact (D:\\DL\\wandb\\run-20250515_191507-mty2e2yj\\files\\model-best)... Done. 0.0s\n"
     ]
    },
    {
     "name": "stdout",
     "output_type": "stream",
     "text": [
      "1582/1582 [==============================] - 26s 16ms/step - loss: 0.2873 - accuracy: 0.9124 - val_loss: 0.3110 - val_accuracy: 0.9063 - WordAccuracy: 0.0748\n",
      "Epoch 8/10\n",
      "1581/1582 [============================>.] - ETA: 0s - loss: 0.2225 - accuracy: 0.9321\n",
      "Epoch 8: Word-level Accuracy = 0.1160\n"
     ]
    },
    {
     "name": "stderr",
     "output_type": "stream",
     "text": [
      "WARNING:absl:Found untraced functions such as lstm_cell_layer_call_fn, lstm_cell_layer_call_and_return_conditional_losses, lstm_cell_1_layer_call_fn, lstm_cell_1_layer_call_and_return_conditional_losses, lstm_cell_2_layer_call_fn while saving (showing 5 of 6). These functions will not be directly callable after loading.\n"
     ]
    },
    {
     "name": "stdout",
     "output_type": "stream",
     "text": [
      "INFO:tensorflow:Assets written to: D:\\DL\\wandb\\run-20250515_191507-mty2e2yj\\files\\model-best\\assets\n"
     ]
    },
    {
     "name": "stderr",
     "output_type": "stream",
     "text": [
      "INFO:tensorflow:Assets written to: D:\\DL\\wandb\\run-20250515_191507-mty2e2yj\\files\\model-best\\assets\n",
      "wandb: Adding directory to artifact (D:\\DL\\wandb\\run-20250515_191507-mty2e2yj\\files\\model-best)... Done. 0.0s\n"
     ]
    },
    {
     "name": "stdout",
     "output_type": "stream",
     "text": [
      "1582/1582 [==============================] - 26s 16ms/step - loss: 0.2225 - accuracy: 0.9321 - val_loss: 0.2636 - val_accuracy: 0.9205 - WordAccuracy: 0.1160\n",
      "Epoch 9/10\n",
      "1579/1582 [============================>.] - ETA: 0s - loss: 0.1757 - accuracy: 0.9469\n",
      "Epoch 9: Word-level Accuracy = 0.1846\n"
     ]
    },
    {
     "name": "stderr",
     "output_type": "stream",
     "text": [
      "WARNING:absl:Found untraced functions such as lstm_cell_layer_call_fn, lstm_cell_layer_call_and_return_conditional_losses, lstm_cell_1_layer_call_fn, lstm_cell_1_layer_call_and_return_conditional_losses, lstm_cell_2_layer_call_fn while saving (showing 5 of 6). These functions will not be directly callable after loading.\n"
     ]
    },
    {
     "name": "stdout",
     "output_type": "stream",
     "text": [
      "INFO:tensorflow:Assets written to: D:\\DL\\wandb\\run-20250515_191507-mty2e2yj\\files\\model-best\\assets\n"
     ]
    },
    {
     "name": "stderr",
     "output_type": "stream",
     "text": [
      "INFO:tensorflow:Assets written to: D:\\DL\\wandb\\run-20250515_191507-mty2e2yj\\files\\model-best\\assets\n",
      "wandb: Adding directory to artifact (D:\\DL\\wandb\\run-20250515_191507-mty2e2yj\\files\\model-best)... Done. 0.0s\n"
     ]
    },
    {
     "name": "stdout",
     "output_type": "stream",
     "text": [
      "1582/1582 [==============================] - 26s 17ms/step - loss: 0.1757 - accuracy: 0.9469 - val_loss: 0.2328 - val_accuracy: 0.9307 - WordAccuracy: 0.1846\n",
      "Epoch 10/10\n",
      "1580/1582 [============================>.] - ETA: 0s - loss: 0.1423 - accuracy: 0.9568\n",
      "Epoch 10: Word-level Accuracy = 0.2349\n"
     ]
    },
    {
     "name": "stderr",
     "output_type": "stream",
     "text": [
      "WARNING:absl:Found untraced functions such as lstm_cell_layer_call_fn, lstm_cell_layer_call_and_return_conditional_losses, lstm_cell_1_layer_call_fn, lstm_cell_1_layer_call_and_return_conditional_losses, lstm_cell_2_layer_call_fn while saving (showing 5 of 6). These functions will not be directly callable after loading.\n"
     ]
    },
    {
     "name": "stdout",
     "output_type": "stream",
     "text": [
      "INFO:tensorflow:Assets written to: D:\\DL\\wandb\\run-20250515_191507-mty2e2yj\\files\\model-best\\assets\n"
     ]
    },
    {
     "name": "stderr",
     "output_type": "stream",
     "text": [
      "INFO:tensorflow:Assets written to: D:\\DL\\wandb\\run-20250515_191507-mty2e2yj\\files\\model-best\\assets\n",
      "wandb: Adding directory to artifact (D:\\DL\\wandb\\run-20250515_191507-mty2e2yj\\files\\model-best)... Done. 0.0s\n"
     ]
    },
    {
     "name": "stdout",
     "output_type": "stream",
     "text": [
      "1582/1582 [==============================] - 26s 17ms/step - loss: 0.1423 - accuracy: 0.9568 - val_loss: 0.2113 - val_accuracy: 0.9382 - WordAccuracy: 0.2349\n"
     ]
    },
    {
     "data": {
      "application/vnd.jupyter.widget-view+json": {
       "model_id": "1a2829d154e44f1fb13079907500ff4b",
       "version_major": 2,
       "version_minor": 0
      },
      "text/plain": [
       "VBox(children=(Label(value='152.329 MB of 152.329 MB uploaded (0.227 MB deduped)\\r'), FloatProgress(value=1.0,…"
      ]
     },
     "metadata": {},
     "output_type": "display_data"
    },
    {
     "data": {
      "text/html": [
       "<style>\n",
       "    table.wandb td:nth-child(1) { padding: 0 10px; text-align: left ; width: auto;} td:nth-child(2) {text-align: left ; width: 100%}\n",
       "    .wandb-row { display: flex; flex-direction: row; flex-wrap: wrap; justify-content: flex-start; width: 100% }\n",
       "    .wandb-col { display: flex; flex-direction: column; flex-basis: 100%; flex: 1; padding: 10px; }\n",
       "    </style>\n",
       "<div class=\"wandb-row\"><div class=\"wandb-col\"><h3>Run history:</h3><br/><table class=\"wandb\"><tr><td>Val_WordAccuracy</td><td>▁▁▁▁▁▂▃▄▇█</td></tr><tr><td>WordAccuracy</td><td>▁▁▁▁▁▂▃▄▇█</td></tr><tr><td>accuracy</td><td>▁▂▃▄▅▆▇▇██</td></tr><tr><td>epoch</td><td>▂▁▂▂▃▂▄▃▅▄▅▅▆▅▇▆▇▇█▇</td></tr><tr><td>loss</td><td>█▇▆▅▄▃▂▂▁▁</td></tr><tr><td>val_accuracy</td><td>▁▂▃▄▅▆▇▇██</td></tr><tr><td>val_loss</td><td>█▇▆▅▄▃▂▂▁▁</td></tr></table><br/></div><div class=\"wandb-col\"><h3>Run summary:</h3><br/><table class=\"wandb\"><tr><td>Val_WordAccuracy</td><td>0.23493</td></tr><tr><td>WordAccuracy</td><td>0.23493</td></tr><tr><td>accuracy</td><td>0.95679</td></tr><tr><td>best_epoch</td><td>9</td></tr><tr><td>best_val_loss</td><td>0.21126</td></tr><tr><td>epoch</td><td>9</td></tr><tr><td>loss</td><td>0.14232</td></tr><tr><td>val_accuracy</td><td>0.9382</td></tr><tr><td>val_loss</td><td>0.21126</td></tr></table><br/></div></div>"
      ],
      "text/plain": [
       "<IPython.core.display.HTML object>"
      ]
     },
     "metadata": {},
     "output_type": "display_data"
    },
    {
     "data": {
      "text/html": [
       " View run <strong style=\"color:#cdcd00\">daily-sweep-13</strong> at: <a href='https://wandb.ai/manoj_da24s018-iit-madras/Transliterator_HyperParameterSweep/runs/mty2e2yj' target=\"_blank\">https://wandb.ai/manoj_da24s018-iit-madras/Transliterator_HyperParameterSweep/runs/mty2e2yj</a><br/> View project at: <a href='https://wandb.ai/manoj_da24s018-iit-madras/Transliterator_HyperParameterSweep' target=\"_blank\">https://wandb.ai/manoj_da24s018-iit-madras/Transliterator_HyperParameterSweep</a><br/>Synced 5 W&B file(s), 1 media file(s), 40 artifact file(s) and 1 other file(s)"
      ],
      "text/plain": [
       "<IPython.core.display.HTML object>"
      ]
     },
     "metadata": {},
     "output_type": "display_data"
    },
    {
     "data": {
      "text/html": [
       "Find logs at: <code>.\\wandb\\run-20250515_191507-mty2e2yj\\logs</code>"
      ],
      "text/plain": [
       "<IPython.core.display.HTML object>"
      ]
     },
     "metadata": {},
     "output_type": "display_data"
    },
    {
     "name": "stderr",
     "output_type": "stream",
     "text": [
      "wandb: Agent Starting Run: 2zycne7f with config:\n",
      "wandb: \tcell_type: lstm\n",
      "wandb: \tchar_embedding_dim: 32\n",
      "wandb: \tdecoder_layers: 3\n",
      "wandb: \tdropout: 0.3\n",
      "wandb: \tencoder_layers: 3\n",
      "wandb: \thidden_state_dim: 256\n"
     ]
    },
    {
     "data": {
      "text/html": [
       "wandb version 0.19.11 is available!  To upgrade, please run:\n",
       " $ pip install wandb --upgrade"
      ],
      "text/plain": [
       "<IPython.core.display.HTML object>"
      ]
     },
     "metadata": {},
     "output_type": "display_data"
    },
    {
     "data": {
      "text/html": [
       "Tracking run with wandb version 0.16.6"
      ],
      "text/plain": [
       "<IPython.core.display.HTML object>"
      ]
     },
     "metadata": {},
     "output_type": "display_data"
    },
    {
     "data": {
      "text/html": [
       "Run data is saved locally in <code>D:\\DL\\wandb\\run-20250515_191953-2zycne7f</code>"
      ],
      "text/plain": [
       "<IPython.core.display.HTML object>"
      ]
     },
     "metadata": {},
     "output_type": "display_data"
    },
    {
     "data": {
      "text/html": [
       "Syncing run <strong><a href='https://wandb.ai/manoj_da24s018-iit-madras/Transliterator_HyperParameterSweep/runs/2zycne7f' target=\"_blank\">twilight-sweep-14</a></strong> to <a href='https://wandb.ai/manoj_da24s018-iit-madras/Transliterator_HyperParameterSweep' target=\"_blank\">Weights & Biases</a> (<a href='https://wandb.me/run' target=\"_blank\">docs</a>)<br/>Sweep page: <a href='https://wandb.ai/manoj_da24s018-iit-madras/Transliterator_HyperParameterSweep/sweeps/fjtuyyfs' target=\"_blank\">https://wandb.ai/manoj_da24s018-iit-madras/Transliterator_HyperParameterSweep/sweeps/fjtuyyfs</a>"
      ],
      "text/plain": [
       "<IPython.core.display.HTML object>"
      ]
     },
     "metadata": {},
     "output_type": "display_data"
    },
    {
     "data": {
      "text/html": [
       " View project at <a href='https://wandb.ai/manoj_da24s018-iit-madras/Transliterator_HyperParameterSweep' target=\"_blank\">https://wandb.ai/manoj_da24s018-iit-madras/Transliterator_HyperParameterSweep</a>"
      ],
      "text/plain": [
       "<IPython.core.display.HTML object>"
      ]
     },
     "metadata": {},
     "output_type": "display_data"
    },
    {
     "data": {
      "text/html": [
       " View sweep at <a href='https://wandb.ai/manoj_da24s018-iit-madras/Transliterator_HyperParameterSweep/sweeps/fjtuyyfs' target=\"_blank\">https://wandb.ai/manoj_da24s018-iit-madras/Transliterator_HyperParameterSweep/sweeps/fjtuyyfs</a>"
      ],
      "text/plain": [
       "<IPython.core.display.HTML object>"
      ]
     },
     "metadata": {},
     "output_type": "display_data"
    },
    {
     "data": {
      "text/html": [
       " View run at <a href='https://wandb.ai/manoj_da24s018-iit-madras/Transliterator_HyperParameterSweep/runs/2zycne7f' target=\"_blank\">https://wandb.ai/manoj_da24s018-iit-madras/Transliterator_HyperParameterSweep/runs/2zycne7f</a>"
      ],
      "text/plain": [
       "<IPython.core.display.HTML object>"
      ]
     },
     "metadata": {},
     "output_type": "display_data"
    },
    {
     "name": "stdout",
     "output_type": "stream",
     "text": [
      "Sweep Name:  RNN Layer Type: lstm, Character_Embedding_dim: 32, Hidden_dim:256, Num_Encoder_Layer:3, Num_Decoder_Layer:3, Dropout:0.3\n",
      "Epoch 1/10\n",
      "1580/1582 [============================>.] - ETA: 0s - loss: 0.9966 - accuracy: 0.7282\n",
      "Epoch 1: Word-level Accuracy = 0.0000\n"
     ]
    },
    {
     "name": "stderr",
     "output_type": "stream",
     "text": [
      "WARNING:absl:Found untraced functions such as lstm_cell_layer_call_fn, lstm_cell_layer_call_and_return_conditional_losses, lstm_cell_1_layer_call_fn, lstm_cell_1_layer_call_and_return_conditional_losses, lstm_cell_2_layer_call_fn while saving (showing 5 of 12). These functions will not be directly callable after loading.\n"
     ]
    },
    {
     "name": "stdout",
     "output_type": "stream",
     "text": [
      "INFO:tensorflow:Assets written to: D:\\DL\\wandb\\run-20250515_191953-2zycne7f\\files\\model-best\\assets\n"
     ]
    },
    {
     "name": "stderr",
     "output_type": "stream",
     "text": [
      "INFO:tensorflow:Assets written to: D:\\DL\\wandb\\run-20250515_191953-2zycne7f\\files\\model-best\\assets\n",
      "wandb: Adding directory to artifact (D:\\DL\\wandb\\run-20250515_191953-2zycne7f\\files\\model-best)... Done. 0.1s\n"
     ]
    },
    {
     "name": "stdout",
     "output_type": "stream",
     "text": [
      "1582/1582 [==============================] - 51s 30ms/step - loss: 0.9964 - accuracy: 0.7282 - val_loss: 0.8222 - val_accuracy: 0.7659 - WordAccuracy: 0.0000e+00\n",
      "Epoch 2/10\n",
      "1580/1582 [============================>.] - ETA: 0s - loss: 0.7580 - accuracy: 0.7815\n",
      "Epoch 2: Word-level Accuracy = 0.0006\n"
     ]
    },
    {
     "name": "stderr",
     "output_type": "stream",
     "text": [
      "WARNING:absl:Found untraced functions such as lstm_cell_layer_call_fn, lstm_cell_layer_call_and_return_conditional_losses, lstm_cell_1_layer_call_fn, lstm_cell_1_layer_call_and_return_conditional_losses, lstm_cell_2_layer_call_fn while saving (showing 5 of 12). These functions will not be directly callable after loading.\n"
     ]
    },
    {
     "name": "stdout",
     "output_type": "stream",
     "text": [
      "INFO:tensorflow:Assets written to: D:\\DL\\wandb\\run-20250515_191953-2zycne7f\\files\\model-best\\assets\n"
     ]
    },
    {
     "name": "stderr",
     "output_type": "stream",
     "text": [
      "INFO:tensorflow:Assets written to: D:\\DL\\wandb\\run-20250515_191953-2zycne7f\\files\\model-best\\assets\n",
      "wandb: Adding directory to artifact (D:\\DL\\wandb\\run-20250515_191953-2zycne7f\\files\\model-best)... Done. 0.1s\n"
     ]
    },
    {
     "name": "stdout",
     "output_type": "stream",
     "text": [
      "1582/1582 [==============================] - 47s 30ms/step - loss: 0.7579 - accuracy: 0.7815 - val_loss: 0.6381 - val_accuracy: 0.8172 - WordAccuracy: 5.9678e-04\n",
      "Epoch 3/10\n",
      "1582/1582 [==============================] - ETA: 0s - loss: 0.5603 - accuracy: 0.8337\n",
      "Epoch 3: Word-level Accuracy = 0.0135\n"
     ]
    },
    {
     "name": "stderr",
     "output_type": "stream",
     "text": [
      "WARNING:absl:Found untraced functions such as lstm_cell_layer_call_fn, lstm_cell_layer_call_and_return_conditional_losses, lstm_cell_1_layer_call_fn, lstm_cell_1_layer_call_and_return_conditional_losses, lstm_cell_2_layer_call_fn while saving (showing 5 of 12). These functions will not be directly callable after loading.\n"
     ]
    },
    {
     "name": "stdout",
     "output_type": "stream",
     "text": [
      "INFO:tensorflow:Assets written to: D:\\DL\\wandb\\run-20250515_191953-2zycne7f\\files\\model-best\\assets\n"
     ]
    },
    {
     "name": "stderr",
     "output_type": "stream",
     "text": [
      "INFO:tensorflow:Assets written to: D:\\DL\\wandb\\run-20250515_191953-2zycne7f\\files\\model-best\\assets\n",
      "wandb: Adding directory to artifact (D:\\DL\\wandb\\run-20250515_191953-2zycne7f\\files\\model-best)... Done. 0.1s\n"
     ]
    },
    {
     "name": "stdout",
     "output_type": "stream",
     "text": [
      "1582/1582 [==============================] - 46s 29ms/step - loss: 0.5603 - accuracy: 0.8337 - val_loss: 0.4623 - val_accuracy: 0.8631 - WordAccuracy: 0.0135\n",
      "Epoch 4/10\n",
      "1581/1582 [============================>.] - ETA: 0s - loss: 0.3900 - accuracy: 0.8824\n",
      "Epoch 4: Word-level Accuracy = 0.0623\n"
     ]
    },
    {
     "name": "stderr",
     "output_type": "stream",
     "text": [
      "WARNING:absl:Found untraced functions such as lstm_cell_layer_call_fn, lstm_cell_layer_call_and_return_conditional_losses, lstm_cell_1_layer_call_fn, lstm_cell_1_layer_call_and_return_conditional_losses, lstm_cell_2_layer_call_fn while saving (showing 5 of 12). These functions will not be directly callable after loading.\n"
     ]
    },
    {
     "name": "stdout",
     "output_type": "stream",
     "text": [
      "INFO:tensorflow:Assets written to: D:\\DL\\wandb\\run-20250515_191953-2zycne7f\\files\\model-best\\assets\n"
     ]
    },
    {
     "name": "stderr",
     "output_type": "stream",
     "text": [
      "INFO:tensorflow:Assets written to: D:\\DL\\wandb\\run-20250515_191953-2zycne7f\\files\\model-best\\assets\n",
      "wandb: Adding directory to artifact (D:\\DL\\wandb\\run-20250515_191953-2zycne7f\\files\\model-best)... Done. 0.1s\n"
     ]
    },
    {
     "name": "stdout",
     "output_type": "stream",
     "text": [
      "1582/1582 [==============================] - 48s 30ms/step - loss: 0.3899 - accuracy: 0.8824 - val_loss: 0.3364 - val_accuracy: 0.8989 - WordAccuracy: 0.0623\n",
      "Epoch 5/10\n",
      "1582/1582 [==============================] - ETA: 0s - loss: 0.2773 - accuracy: 0.9155\n",
      "Epoch 5: Word-level Accuracy = 0.1420\n"
     ]
    },
    {
     "name": "stderr",
     "output_type": "stream",
     "text": [
      "WARNING:absl:Found untraced functions such as lstm_cell_layer_call_fn, lstm_cell_layer_call_and_return_conditional_losses, lstm_cell_1_layer_call_fn, lstm_cell_1_layer_call_and_return_conditional_losses, lstm_cell_2_layer_call_fn while saving (showing 5 of 12). These functions will not be directly callable after loading.\n"
     ]
    },
    {
     "name": "stdout",
     "output_type": "stream",
     "text": [
      "INFO:tensorflow:Assets written to: D:\\DL\\wandb\\run-20250515_191953-2zycne7f\\files\\model-best\\assets\n"
     ]
    },
    {
     "name": "stderr",
     "output_type": "stream",
     "text": [
      "INFO:tensorflow:Assets written to: D:\\DL\\wandb\\run-20250515_191953-2zycne7f\\files\\model-best\\assets\n",
      "wandb: Adding directory to artifact (D:\\DL\\wandb\\run-20250515_191953-2zycne7f\\files\\model-best)... Done. 0.1s\n"
     ]
    },
    {
     "name": "stdout",
     "output_type": "stream",
     "text": [
      "1582/1582 [==============================] - 47s 29ms/step - loss: 0.2773 - accuracy: 0.9155 - val_loss: 0.2630 - val_accuracy: 0.9211 - WordAccuracy: 0.1420\n",
      "Epoch 6/10\n",
      "1581/1582 [============================>.] - ETA: 0s - loss: 0.2105 - accuracy: 0.9351\n",
      "Epoch 6: Word-level Accuracy = 0.1977\n"
     ]
    },
    {
     "name": "stderr",
     "output_type": "stream",
     "text": [
      "WARNING:absl:Found untraced functions such as lstm_cell_layer_call_fn, lstm_cell_layer_call_and_return_conditional_losses, lstm_cell_1_layer_call_fn, lstm_cell_1_layer_call_and_return_conditional_losses, lstm_cell_2_layer_call_fn while saving (showing 5 of 12). These functions will not be directly callable after loading.\n"
     ]
    },
    {
     "name": "stdout",
     "output_type": "stream",
     "text": [
      "INFO:tensorflow:Assets written to: D:\\DL\\wandb\\run-20250515_191953-2zycne7f\\files\\model-best\\assets\n"
     ]
    },
    {
     "name": "stderr",
     "output_type": "stream",
     "text": [
      "INFO:tensorflow:Assets written to: D:\\DL\\wandb\\run-20250515_191953-2zycne7f\\files\\model-best\\assets\n",
      "wandb: Adding directory to artifact (D:\\DL\\wandb\\run-20250515_191953-2zycne7f\\files\\model-best)... Done. 0.1s\n"
     ]
    },
    {
     "name": "stdout",
     "output_type": "stream",
     "text": [
      "1582/1582 [==============================] - 47s 30ms/step - loss: 0.2105 - accuracy: 0.9351 - val_loss: 0.2234 - val_accuracy: 0.9325 - WordAccuracy: 0.1977\n",
      "Epoch 7/10\n",
      "1582/1582 [==============================] - ETA: 0s - loss: 0.1686 - accuracy: 0.9479\n",
      "Epoch 7: Word-level Accuracy = 0.2298\n"
     ]
    },
    {
     "name": "stderr",
     "output_type": "stream",
     "text": [
      "WARNING:absl:Found untraced functions such as lstm_cell_layer_call_fn, lstm_cell_layer_call_and_return_conditional_losses, lstm_cell_1_layer_call_fn, lstm_cell_1_layer_call_and_return_conditional_losses, lstm_cell_2_layer_call_fn while saving (showing 5 of 12). These functions will not be directly callable after loading.\n"
     ]
    },
    {
     "name": "stdout",
     "output_type": "stream",
     "text": [
      "INFO:tensorflow:Assets written to: D:\\DL\\wandb\\run-20250515_191953-2zycne7f\\files\\model-best\\assets\n"
     ]
    },
    {
     "name": "stderr",
     "output_type": "stream",
     "text": [
      "INFO:tensorflow:Assets written to: D:\\DL\\wandb\\run-20250515_191953-2zycne7f\\files\\model-best\\assets\n",
      "wandb: Adding directory to artifact (D:\\DL\\wandb\\run-20250515_191953-2zycne7f\\files\\model-best)... Done. 0.1s\n"
     ]
    },
    {
     "name": "stdout",
     "output_type": "stream",
     "text": [
      "1582/1582 [==============================] - 47s 30ms/step - loss: 0.1686 - accuracy: 0.9479 - val_loss: 0.1986 - val_accuracy: 0.9401 - WordAccuracy: 0.2298\n",
      "Epoch 8/10\n",
      "1582/1582 [==============================] - ETA: 0s - loss: 0.1408 - accuracy: 0.9562\n",
      "Epoch 8: Word-level Accuracy = 0.2837\n"
     ]
    },
    {
     "name": "stderr",
     "output_type": "stream",
     "text": [
      "WARNING:absl:Found untraced functions such as lstm_cell_layer_call_fn, lstm_cell_layer_call_and_return_conditional_losses, lstm_cell_1_layer_call_fn, lstm_cell_1_layer_call_and_return_conditional_losses, lstm_cell_2_layer_call_fn while saving (showing 5 of 12). These functions will not be directly callable after loading.\n"
     ]
    },
    {
     "name": "stdout",
     "output_type": "stream",
     "text": [
      "INFO:tensorflow:Assets written to: D:\\DL\\wandb\\run-20250515_191953-2zycne7f\\files\\model-best\\assets\n"
     ]
    },
    {
     "name": "stderr",
     "output_type": "stream",
     "text": [
      "INFO:tensorflow:Assets written to: D:\\DL\\wandb\\run-20250515_191953-2zycne7f\\files\\model-best\\assets\n",
      "wandb: Adding directory to artifact (D:\\DL\\wandb\\run-20250515_191953-2zycne7f\\files\\model-best)... Done. 0.1s\n"
     ]
    },
    {
     "name": "stdout",
     "output_type": "stream",
     "text": [
      "1582/1582 [==============================] - 49s 31ms/step - loss: 0.1408 - accuracy: 0.9562 - val_loss: 0.1803 - val_accuracy: 0.9469 - WordAccuracy: 0.2837\n",
      "Epoch 9/10\n",
      "1581/1582 [============================>.] - ETA: 0s - loss: 0.1204 - accuracy: 0.9625\n",
      "Epoch 9: Word-level Accuracy = 0.3059\n"
     ]
    },
    {
     "name": "stderr",
     "output_type": "stream",
     "text": [
      "WARNING:absl:Found untraced functions such as lstm_cell_layer_call_fn, lstm_cell_layer_call_and_return_conditional_losses, lstm_cell_1_layer_call_fn, lstm_cell_1_layer_call_and_return_conditional_losses, lstm_cell_2_layer_call_fn while saving (showing 5 of 12). These functions will not be directly callable after loading.\n"
     ]
    },
    {
     "name": "stdout",
     "output_type": "stream",
     "text": [
      "INFO:tensorflow:Assets written to: D:\\DL\\wandb\\run-20250515_191953-2zycne7f\\files\\model-best\\assets\n"
     ]
    },
    {
     "name": "stderr",
     "output_type": "stream",
     "text": [
      "INFO:tensorflow:Assets written to: D:\\DL\\wandb\\run-20250515_191953-2zycne7f\\files\\model-best\\assets\n",
      "wandb: Adding directory to artifact (D:\\DL\\wandb\\run-20250515_191953-2zycne7f\\files\\model-best)... Done. 0.1s\n"
     ]
    },
    {
     "name": "stdout",
     "output_type": "stream",
     "text": [
      "1582/1582 [==============================] - 50s 32ms/step - loss: 0.1204 - accuracy: 0.9625 - val_loss: 0.1662 - val_accuracy: 0.9497 - WordAccuracy: 0.3059\n",
      "Epoch 10/10\n",
      "1581/1582 [============================>.] - ETA: 0s - loss: 0.1051 - accuracy: 0.9672\n",
      "Epoch 10: Word-level Accuracy = 0.3416\n"
     ]
    },
    {
     "name": "stderr",
     "output_type": "stream",
     "text": [
      "WARNING:absl:Found untraced functions such as lstm_cell_layer_call_fn, lstm_cell_layer_call_and_return_conditional_losses, lstm_cell_1_layer_call_fn, lstm_cell_1_layer_call_and_return_conditional_losses, lstm_cell_2_layer_call_fn while saving (showing 5 of 12). These functions will not be directly callable after loading.\n"
     ]
    },
    {
     "name": "stdout",
     "output_type": "stream",
     "text": [
      "INFO:tensorflow:Assets written to: D:\\DL\\wandb\\run-20250515_191953-2zycne7f\\files\\model-best\\assets\n"
     ]
    },
    {
     "name": "stderr",
     "output_type": "stream",
     "text": [
      "INFO:tensorflow:Assets written to: D:\\DL\\wandb\\run-20250515_191953-2zycne7f\\files\\model-best\\assets\n",
      "wandb: Adding directory to artifact (D:\\DL\\wandb\\run-20250515_191953-2zycne7f\\files\\model-best)... Done. 0.0s\n"
     ]
    },
    {
     "name": "stdout",
     "output_type": "stream",
     "text": [
      "1582/1582 [==============================] - 50s 32ms/step - loss: 0.1051 - accuracy: 0.9672 - val_loss: 0.1608 - val_accuracy: 0.9533 - WordAccuracy: 0.3416\n"
     ]
    },
    {
     "data": {
      "application/vnd.jupyter.widget-view+json": {
       "model_id": "afd1f7d760d046a3b5c9d33c68948386",
       "version_major": 2,
       "version_minor": 0
      },
      "text/plain": [
       "VBox(children=(Label(value='353.821 MB of 353.821 MB uploaded (0.347 MB deduped)\\r'), FloatProgress(value=1.0,…"
      ]
     },
     "metadata": {},
     "output_type": "display_data"
    },
    {
     "data": {
      "text/html": [
       "<style>\n",
       "    table.wandb td:nth-child(1) { padding: 0 10px; text-align: left ; width: auto;} td:nth-child(2) {text-align: left ; width: 100%}\n",
       "    .wandb-row { display: flex; flex-direction: row; flex-wrap: wrap; justify-content: flex-start; width: 100% }\n",
       "    .wandb-col { display: flex; flex-direction: column; flex-basis: 100%; flex: 1; padding: 10px; }\n",
       "    </style>\n",
       "<div class=\"wandb-row\"><div class=\"wandb-col\"><h3>Run history:</h3><br/><table class=\"wandb\"><tr><td>Val_WordAccuracy</td><td>▁▁▁▂▄▅▆▇▇█</td></tr><tr><td>WordAccuracy</td><td>▁▁▁▂▄▅▆▇▇█</td></tr><tr><td>accuracy</td><td>▁▃▄▆▆▇▇███</td></tr><tr><td>epoch</td><td>▂▁▂▂▃▂▄▃▅▄▅▅▆▅▇▆▇▇█▇</td></tr><tr><td>loss</td><td>█▆▅▃▂▂▁▁▁▁</td></tr><tr><td>val_accuracy</td><td>▁▃▅▆▇▇████</td></tr><tr><td>val_loss</td><td>█▆▄▃▂▂▁▁▁▁</td></tr></table><br/></div><div class=\"wandb-col\"><h3>Run summary:</h3><br/><table class=\"wandb\"><tr><td>Val_WordAccuracy</td><td>0.34156</td></tr><tr><td>WordAccuracy</td><td>0.34156</td></tr><tr><td>accuracy</td><td>0.96718</td></tr><tr><td>best_epoch</td><td>9</td></tr><tr><td>best_val_loss</td><td>0.16084</td></tr><tr><td>epoch</td><td>9</td></tr><tr><td>loss</td><td>0.10508</td></tr><tr><td>val_accuracy</td><td>0.95331</td></tr><tr><td>val_loss</td><td>0.16084</td></tr></table><br/></div></div>"
      ],
      "text/plain": [
       "<IPython.core.display.HTML object>"
      ]
     },
     "metadata": {},
     "output_type": "display_data"
    },
    {
     "data": {
      "text/html": [
       " View run <strong style=\"color:#cdcd00\">twilight-sweep-14</strong> at: <a href='https://wandb.ai/manoj_da24s018-iit-madras/Transliterator_HyperParameterSweep/runs/2zycne7f' target=\"_blank\">https://wandb.ai/manoj_da24s018-iit-madras/Transliterator_HyperParameterSweep/runs/2zycne7f</a><br/> View project at: <a href='https://wandb.ai/manoj_da24s018-iit-madras/Transliterator_HyperParameterSweep' target=\"_blank\">https://wandb.ai/manoj_da24s018-iit-madras/Transliterator_HyperParameterSweep</a><br/>Synced 5 W&B file(s), 1 media file(s), 40 artifact file(s) and 1 other file(s)"
      ],
      "text/plain": [
       "<IPython.core.display.HTML object>"
      ]
     },
     "metadata": {},
     "output_type": "display_data"
    },
    {
     "data": {
      "text/html": [
       "Find logs at: <code>.\\wandb\\run-20250515_191953-2zycne7f\\logs</code>"
      ],
      "text/plain": [
       "<IPython.core.display.HTML object>"
      ]
     },
     "metadata": {},
     "output_type": "display_data"
    },
    {
     "name": "stderr",
     "output_type": "stream",
     "text": [
      "wandb: Agent Starting Run: mbkbf9i2 with config:\n",
      "wandb: \tcell_type: rnn\n",
      "wandb: \tchar_embedding_dim: 16\n",
      "wandb: \tdecoder_layers: 1\n",
      "wandb: \tdropout: 0.4\n",
      "wandb: \tencoder_layers: 2\n",
      "wandb: \thidden_state_dim: 512\n"
     ]
    },
    {
     "data": {
      "text/html": [
       "wandb version 0.19.11 is available!  To upgrade, please run:\n",
       " $ pip install wandb --upgrade"
      ],
      "text/plain": [
       "<IPython.core.display.HTML object>"
      ]
     },
     "metadata": {},
     "output_type": "display_data"
    },
    {
     "data": {
      "text/html": [
       "Tracking run with wandb version 0.16.6"
      ],
      "text/plain": [
       "<IPython.core.display.HTML object>"
      ]
     },
     "metadata": {},
     "output_type": "display_data"
    },
    {
     "data": {
      "text/html": [
       "Run data is saved locally in <code>D:\\DL\\wandb\\run-20250515_192823-mbkbf9i2</code>"
      ],
      "text/plain": [
       "<IPython.core.display.HTML object>"
      ]
     },
     "metadata": {},
     "output_type": "display_data"
    },
    {
     "data": {
      "text/html": [
       "Syncing run <strong><a href='https://wandb.ai/manoj_da24s018-iit-madras/Transliterator_HyperParameterSweep/runs/mbkbf9i2' target=\"_blank\">royal-sweep-15</a></strong> to <a href='https://wandb.ai/manoj_da24s018-iit-madras/Transliterator_HyperParameterSweep' target=\"_blank\">Weights & Biases</a> (<a href='https://wandb.me/run' target=\"_blank\">docs</a>)<br/>Sweep page: <a href='https://wandb.ai/manoj_da24s018-iit-madras/Transliterator_HyperParameterSweep/sweeps/fjtuyyfs' target=\"_blank\">https://wandb.ai/manoj_da24s018-iit-madras/Transliterator_HyperParameterSweep/sweeps/fjtuyyfs</a>"
      ],
      "text/plain": [
       "<IPython.core.display.HTML object>"
      ]
     },
     "metadata": {},
     "output_type": "display_data"
    },
    {
     "data": {
      "text/html": [
       " View project at <a href='https://wandb.ai/manoj_da24s018-iit-madras/Transliterator_HyperParameterSweep' target=\"_blank\">https://wandb.ai/manoj_da24s018-iit-madras/Transliterator_HyperParameterSweep</a>"
      ],
      "text/plain": [
       "<IPython.core.display.HTML object>"
      ]
     },
     "metadata": {},
     "output_type": "display_data"
    },
    {
     "data": {
      "text/html": [
       " View sweep at <a href='https://wandb.ai/manoj_da24s018-iit-madras/Transliterator_HyperParameterSweep/sweeps/fjtuyyfs' target=\"_blank\">https://wandb.ai/manoj_da24s018-iit-madras/Transliterator_HyperParameterSweep/sweeps/fjtuyyfs</a>"
      ],
      "text/plain": [
       "<IPython.core.display.HTML object>"
      ]
     },
     "metadata": {},
     "output_type": "display_data"
    },
    {
     "data": {
      "text/html": [
       " View run at <a href='https://wandb.ai/manoj_da24s018-iit-madras/Transliterator_HyperParameterSweep/runs/mbkbf9i2' target=\"_blank\">https://wandb.ai/manoj_da24s018-iit-madras/Transliterator_HyperParameterSweep/runs/mbkbf9i2</a>"
      ],
      "text/plain": [
       "<IPython.core.display.HTML object>"
      ]
     },
     "metadata": {},
     "output_type": "display_data"
    },
    {
     "name": "stdout",
     "output_type": "stream",
     "text": [
      "Sweep Name:  RNN Layer Type: rnn, Character_Embedding_dim: 16, Hidden_dim:512, Num_Encoder_Layer:2, Num_Decoder_Layer:1, Dropout:0.4\n",
      "Epoch 1/10\n",
      "1582/1582 [==============================] - ETA: 0s - loss: 1.0032 - accuracy: 0.7253\n",
      "Epoch 1: Word-level Accuracy = 0.0000\n",
      "INFO:tensorflow:Assets written to: D:\\DL\\wandb\\run-20250515_192823-mbkbf9i2\\files\\model-best\\assets\n"
     ]
    },
    {
     "name": "stderr",
     "output_type": "stream",
     "text": [
      "INFO:tensorflow:Assets written to: D:\\DL\\wandb\\run-20250515_192823-mbkbf9i2\\files\\model-best\\assets\n",
      "wandb: Adding directory to artifact (D:\\DL\\wandb\\run-20250515_192823-mbkbf9i2\\files\\model-best)... Done. 0.0s\n"
     ]
    },
    {
     "name": "stdout",
     "output_type": "stream",
     "text": [
      "1582/1582 [==============================] - 117s 73ms/step - loss: 1.0032 - accuracy: 0.7253 - val_loss: 0.8597 - val_accuracy: 0.7584 - WordAccuracy: 0.0000e+00\n",
      "Epoch 2/10\n",
      "1582/1582 [==============================] - ETA: 0s - loss: 0.8624 - accuracy: 0.7552\n",
      "Epoch 2: Word-level Accuracy = 0.0000\n",
      "INFO:tensorflow:Assets written to: D:\\DL\\wandb\\run-20250515_192823-mbkbf9i2\\files\\model-best\\assets\n"
     ]
    },
    {
     "name": "stderr",
     "output_type": "stream",
     "text": [
      "INFO:tensorflow:Assets written to: D:\\DL\\wandb\\run-20250515_192823-mbkbf9i2\\files\\model-best\\assets\n",
      "wandb: Adding directory to artifact (D:\\DL\\wandb\\run-20250515_192823-mbkbf9i2\\files\\model-best)... Done. 0.0s\n"
     ]
    },
    {
     "name": "stdout",
     "output_type": "stream",
     "text": [
      "1582/1582 [==============================] - 125s 79ms/step - loss: 0.8624 - accuracy: 0.7552 - val_loss: 0.8123 - val_accuracy: 0.7728 - WordAccuracy: 0.0000e+00\n",
      "Epoch 3/10\n",
      "1582/1582 [==============================] - ETA: 0s - loss: 0.8112 - accuracy: 0.7676\n",
      "Epoch 3: Word-level Accuracy = 0.0000\n",
      "INFO:tensorflow:Assets written to: D:\\DL\\wandb\\run-20250515_192823-mbkbf9i2\\files\\model-best\\assets\n"
     ]
    },
    {
     "name": "stderr",
     "output_type": "stream",
     "text": [
      "INFO:tensorflow:Assets written to: D:\\DL\\wandb\\run-20250515_192823-mbkbf9i2\\files\\model-best\\assets\n",
      "wandb: Adding directory to artifact (D:\\DL\\wandb\\run-20250515_192823-mbkbf9i2\\files\\model-best)... Done. 0.0s\n"
     ]
    },
    {
     "name": "stdout",
     "output_type": "stream",
     "text": [
      "1582/1582 [==============================] - 116s 73ms/step - loss: 0.8112 - accuracy: 0.7676 - val_loss: 0.7862 - val_accuracy: 0.7793 - WordAccuracy: 0.0000e+00\n",
      "Epoch 4/10\n",
      "1582/1582 [==============================] - ETA: 0s - loss: 0.7790 - accuracy: 0.7756\n",
      "Epoch 4: Word-level Accuracy = 0.0000\n",
      "INFO:tensorflow:Assets written to: D:\\DL\\wandb\\run-20250515_192823-mbkbf9i2\\files\\model-best\\assets\n"
     ]
    },
    {
     "name": "stderr",
     "output_type": "stream",
     "text": [
      "INFO:tensorflow:Assets written to: D:\\DL\\wandb\\run-20250515_192823-mbkbf9i2\\files\\model-best\\assets\n",
      "wandb: Adding directory to artifact (D:\\DL\\wandb\\run-20250515_192823-mbkbf9i2\\files\\model-best)... Done. 0.0s\n"
     ]
    },
    {
     "name": "stdout",
     "output_type": "stream",
     "text": [
      "1582/1582 [==============================] - 120s 76ms/step - loss: 0.7790 - accuracy: 0.7756 - val_loss: 0.7686 - val_accuracy: 0.7803 - WordAccuracy: 0.0000e+00\n",
      "Epoch 5/10\n",
      "1582/1582 [==============================] - ETA: 0s - loss: 0.7566 - accuracy: 0.7811\n",
      "Epoch 5: Word-level Accuracy = 0.0000\n",
      "INFO:tensorflow:Assets written to: D:\\DL\\wandb\\run-20250515_192823-mbkbf9i2\\files\\model-best\\assets\n"
     ]
    },
    {
     "name": "stderr",
     "output_type": "stream",
     "text": [
      "INFO:tensorflow:Assets written to: D:\\DL\\wandb\\run-20250515_192823-mbkbf9i2\\files\\model-best\\assets\n",
      "wandb: Adding directory to artifact (D:\\DL\\wandb\\run-20250515_192823-mbkbf9i2\\files\\model-best)... Done. 0.0s\n"
     ]
    },
    {
     "name": "stdout",
     "output_type": "stream",
     "text": [
      "1582/1582 [==============================] - 113s 72ms/step - loss: 0.7566 - accuracy: 0.7811 - val_loss: 0.7666 - val_accuracy: 0.7837 - WordAccuracy: 0.0000e+00\n",
      "Epoch 6/10\n",
      "1582/1582 [==============================] - ETA: 0s - loss: 0.7389 - accuracy: 0.7856\n",
      "Epoch 6: Word-level Accuracy = 0.0000\n",
      "INFO:tensorflow:Assets written to: D:\\DL\\wandb\\run-20250515_192823-mbkbf9i2\\files\\model-best\\assets\n"
     ]
    },
    {
     "name": "stderr",
     "output_type": "stream",
     "text": [
      "INFO:tensorflow:Assets written to: D:\\DL\\wandb\\run-20250515_192823-mbkbf9i2\\files\\model-best\\assets\n",
      "wandb: Adding directory to artifact (D:\\DL\\wandb\\run-20250515_192823-mbkbf9i2\\files\\model-best)... Done. 0.0s\n"
     ]
    },
    {
     "name": "stdout",
     "output_type": "stream",
     "text": [
      "1582/1582 [==============================] - 115s 73ms/step - loss: 0.7389 - accuracy: 0.7856 - val_loss: 0.7563 - val_accuracy: 0.7841 - WordAccuracy: 0.0000e+00\n",
      "Epoch 7/10\n",
      "1582/1582 [==============================] - ETA: 0s - loss: 0.7262 - accuracy: 0.7889\n",
      "Epoch 7: Word-level Accuracy = 0.0000\n",
      "INFO:tensorflow:Assets written to: D:\\DL\\wandb\\run-20250515_192823-mbkbf9i2\\files\\model-best\\assets\n"
     ]
    },
    {
     "name": "stderr",
     "output_type": "stream",
     "text": [
      "INFO:tensorflow:Assets written to: D:\\DL\\wandb\\run-20250515_192823-mbkbf9i2\\files\\model-best\\assets\n",
      "wandb: Adding directory to artifact (D:\\DL\\wandb\\run-20250515_192823-mbkbf9i2\\files\\model-best)... Done. 0.0s\n"
     ]
    },
    {
     "name": "stdout",
     "output_type": "stream",
     "text": [
      "1582/1582 [==============================] - 106s 67ms/step - loss: 0.7262 - accuracy: 0.7889 - val_loss: 0.7540 - val_accuracy: 0.7830 - WordAccuracy: 0.0000e+00\n",
      "Epoch 8/10\n",
      "1582/1582 [==============================] - ETA: 0s - loss: 0.7152 - accuracy: 0.7917\n",
      "Epoch 8: Word-level Accuracy = 0.0000\n",
      "1582/1582 [==============================] - 114s 72ms/step - loss: 0.7152 - accuracy: 0.7917 - val_loss: 0.7567 - val_accuracy: 0.7861 - WordAccuracy: 0.0000e+00\n",
      "Epoch 9/10\n",
      "1581/1582 [============================>.] - ETA: 0s - loss: 0.7071 - accuracy: 0.7937\n",
      "Epoch 9: Word-level Accuracy = 0.0000\n",
      "INFO:tensorflow:Assets written to: D:\\DL\\wandb\\run-20250515_192823-mbkbf9i2\\files\\model-best\\assets\n"
     ]
    },
    {
     "name": "stderr",
     "output_type": "stream",
     "text": [
      "INFO:tensorflow:Assets written to: D:\\DL\\wandb\\run-20250515_192823-mbkbf9i2\\files\\model-best\\assets\n",
      "wandb: Adding directory to artifact (D:\\DL\\wandb\\run-20250515_192823-mbkbf9i2\\files\\model-best)... Done. 0.0s\n"
     ]
    },
    {
     "name": "stdout",
     "output_type": "stream",
     "text": [
      "1582/1582 [==============================] - 119s 75ms/step - loss: 0.7071 - accuracy: 0.7937 - val_loss: 0.7501 - val_accuracy: 0.7869 - WordAccuracy: 0.0000e+00\n",
      "Epoch 10/10\n",
      "1582/1582 [==============================] - ETA: 0s - loss: 0.7001 - accuracy: 0.7953\n",
      "Epoch 10: Word-level Accuracy = 0.0000\n",
      "1582/1582 [==============================] - 100s 63ms/step - loss: 0.7001 - accuracy: 0.7953 - val_loss: 0.7513 - val_accuracy: 0.7891 - WordAccuracy: 0.0000e+00\n"
     ]
    },
    {
     "data": {
      "application/vnd.jupyter.widget-view+json": {
       "model_id": "a1fb7b74d3904a43954eb6263176137a",
       "version_major": 2,
       "version_minor": 0
      },
      "text/plain": [
       "VBox(children=(Label(value='107.260 MB of 107.260 MB uploaded (0.171 MB deduped)\\r'), FloatProgress(value=1.0,…"
      ]
     },
     "metadata": {},
     "output_type": "display_data"
    },
    {
     "data": {
      "text/html": [
       "<style>\n",
       "    table.wandb td:nth-child(1) { padding: 0 10px; text-align: left ; width: auto;} td:nth-child(2) {text-align: left ; width: 100%}\n",
       "    .wandb-row { display: flex; flex-direction: row; flex-wrap: wrap; justify-content: flex-start; width: 100% }\n",
       "    .wandb-col { display: flex; flex-direction: column; flex-basis: 100%; flex: 1; padding: 10px; }\n",
       "    </style>\n",
       "<div class=\"wandb-row\"><div class=\"wandb-col\"><h3>Run history:</h3><br/><table class=\"wandb\"><tr><td>Val_WordAccuracy</td><td>▁▁▁▁▁▁▁▁▁▁</td></tr><tr><td>WordAccuracy</td><td>▁▁▁▁▁▁▁▁▁▁</td></tr><tr><td>accuracy</td><td>▁▄▅▆▇▇▇███</td></tr><tr><td>epoch</td><td>▂▁▂▂▃▂▄▃▅▄▅▅▆▅▇▆▇▇█▇</td></tr><tr><td>loss</td><td>█▅▄▃▂▂▂▁▁▁</td></tr><tr><td>val_accuracy</td><td>▁▄▆▆▇▇▇▇▇█</td></tr><tr><td>val_loss</td><td>█▅▃▂▂▁▁▁▁▁</td></tr></table><br/></div><div class=\"wandb-col\"><h3>Run summary:</h3><br/><table class=\"wandb\"><tr><td>Val_WordAccuracy</td><td>0.0</td></tr><tr><td>WordAccuracy</td><td>0.0</td></tr><tr><td>accuracy</td><td>0.79534</td></tr><tr><td>best_epoch</td><td>8</td></tr><tr><td>best_val_loss</td><td>0.75005</td></tr><tr><td>epoch</td><td>9</td></tr><tr><td>loss</td><td>0.70008</td></tr><tr><td>val_accuracy</td><td>0.78905</td></tr><tr><td>val_loss</td><td>0.75134</td></tr></table><br/></div></div>"
      ],
      "text/plain": [
       "<IPython.core.display.HTML object>"
      ]
     },
     "metadata": {},
     "output_type": "display_data"
    },
    {
     "data": {
      "text/html": [
       " View run <strong style=\"color:#cdcd00\">royal-sweep-15</strong> at: <a href='https://wandb.ai/manoj_da24s018-iit-madras/Transliterator_HyperParameterSweep/runs/mbkbf9i2' target=\"_blank\">https://wandb.ai/manoj_da24s018-iit-madras/Transliterator_HyperParameterSweep/runs/mbkbf9i2</a><br/> View project at: <a href='https://wandb.ai/manoj_da24s018-iit-madras/Transliterator_HyperParameterSweep' target=\"_blank\">https://wandb.ai/manoj_da24s018-iit-madras/Transliterator_HyperParameterSweep</a><br/>Synced 5 W&B file(s), 1 media file(s), 32 artifact file(s) and 1 other file(s)"
      ],
      "text/plain": [
       "<IPython.core.display.HTML object>"
      ]
     },
     "metadata": {},
     "output_type": "display_data"
    },
    {
     "data": {
      "text/html": [
       "Find logs at: <code>.\\wandb\\run-20250515_192823-mbkbf9i2\\logs</code>"
      ],
      "text/plain": [
       "<IPython.core.display.HTML object>"
      ]
     },
     "metadata": {},
     "output_type": "display_data"
    },
    {
     "name": "stderr",
     "output_type": "stream",
     "text": [
      "wandb: Agent Starting Run: nscjt1jf with config:\n",
      "wandb: \tcell_type: rnn\n",
      "wandb: \tchar_embedding_dim: 16\n",
      "wandb: \tdecoder_layers: 3\n",
      "wandb: \tdropout: 0.3\n",
      "wandb: \tencoder_layers: 3\n",
      "wandb: \thidden_state_dim: 512\n"
     ]
    },
    {
     "data": {
      "text/html": [
       "wandb version 0.19.11 is available!  To upgrade, please run:\n",
       " $ pip install wandb --upgrade"
      ],
      "text/plain": [
       "<IPython.core.display.HTML object>"
      ]
     },
     "metadata": {},
     "output_type": "display_data"
    },
    {
     "data": {
      "text/html": [
       "Tracking run with wandb version 0.16.6"
      ],
      "text/plain": [
       "<IPython.core.display.HTML object>"
      ]
     },
     "metadata": {},
     "output_type": "display_data"
    },
    {
     "data": {
      "text/html": [
       "Run data is saved locally in <code>D:\\DL\\wandb\\run-20250515_194743-nscjt1jf</code>"
      ],
      "text/plain": [
       "<IPython.core.display.HTML object>"
      ]
     },
     "metadata": {},
     "output_type": "display_data"
    },
    {
     "data": {
      "text/html": [
       "Syncing run <strong><a href='https://wandb.ai/manoj_da24s018-iit-madras/Transliterator_HyperParameterSweep/runs/nscjt1jf' target=\"_blank\">dutiful-sweep-16</a></strong> to <a href='https://wandb.ai/manoj_da24s018-iit-madras/Transliterator_HyperParameterSweep' target=\"_blank\">Weights & Biases</a> (<a href='https://wandb.me/run' target=\"_blank\">docs</a>)<br/>Sweep page: <a href='https://wandb.ai/manoj_da24s018-iit-madras/Transliterator_HyperParameterSweep/sweeps/fjtuyyfs' target=\"_blank\">https://wandb.ai/manoj_da24s018-iit-madras/Transliterator_HyperParameterSweep/sweeps/fjtuyyfs</a>"
      ],
      "text/plain": [
       "<IPython.core.display.HTML object>"
      ]
     },
     "metadata": {},
     "output_type": "display_data"
    },
    {
     "data": {
      "text/html": [
       " View project at <a href='https://wandb.ai/manoj_da24s018-iit-madras/Transliterator_HyperParameterSweep' target=\"_blank\">https://wandb.ai/manoj_da24s018-iit-madras/Transliterator_HyperParameterSweep</a>"
      ],
      "text/plain": [
       "<IPython.core.display.HTML object>"
      ]
     },
     "metadata": {},
     "output_type": "display_data"
    },
    {
     "data": {
      "text/html": [
       " View sweep at <a href='https://wandb.ai/manoj_da24s018-iit-madras/Transliterator_HyperParameterSweep/sweeps/fjtuyyfs' target=\"_blank\">https://wandb.ai/manoj_da24s018-iit-madras/Transliterator_HyperParameterSweep/sweeps/fjtuyyfs</a>"
      ],
      "text/plain": [
       "<IPython.core.display.HTML object>"
      ]
     },
     "metadata": {},
     "output_type": "display_data"
    },
    {
     "data": {
      "text/html": [
       " View run at <a href='https://wandb.ai/manoj_da24s018-iit-madras/Transliterator_HyperParameterSweep/runs/nscjt1jf' target=\"_blank\">https://wandb.ai/manoj_da24s018-iit-madras/Transliterator_HyperParameterSweep/runs/nscjt1jf</a>"
      ],
      "text/plain": [
       "<IPython.core.display.HTML object>"
      ]
     },
     "metadata": {},
     "output_type": "display_data"
    },
    {
     "name": "stdout",
     "output_type": "stream",
     "text": [
      "Sweep Name:  RNN Layer Type: rnn, Character_Embedding_dim: 16, Hidden_dim:512, Num_Encoder_Layer:3, Num_Decoder_Layer:3, Dropout:0.3\n",
      "Epoch 1/10\n",
      "1582/1582 [==============================] - ETA: 0s - loss: 1.1163 - accuracy: 0.7030\n",
      "Epoch 1: Word-level Accuracy = 0.0000\n",
      "INFO:tensorflow:Assets written to: D:\\DL\\wandb\\run-20250515_194743-nscjt1jf\\files\\model-best\\assets\n"
     ]
    },
    {
     "name": "stderr",
     "output_type": "stream",
     "text": [
      "INFO:tensorflow:Assets written to: D:\\DL\\wandb\\run-20250515_194743-nscjt1jf\\files\\model-best\\assets\n",
      "wandb: Adding directory to artifact (D:\\DL\\wandb\\run-20250515_194743-nscjt1jf\\files\\model-best)... Done. 0.1s\n"
     ]
    },
    {
     "name": "stdout",
     "output_type": "stream",
     "text": [
      "1582/1582 [==============================] - 207s 129ms/step - loss: 1.1163 - accuracy: 0.7030 - val_loss: 0.9305 - val_accuracy: 0.7376 - WordAccuracy: 0.0000e+00\n",
      "Epoch 2/10\n",
      "1582/1582 [==============================] - ETA: 0s - loss: 0.9248 - accuracy: 0.7359\n",
      "Epoch 2: Word-level Accuracy = 0.0000\n",
      "INFO:tensorflow:Assets written to: D:\\DL\\wandb\\run-20250515_194743-nscjt1jf\\files\\model-best\\assets\n"
     ]
    },
    {
     "name": "stderr",
     "output_type": "stream",
     "text": [
      "INFO:tensorflow:Assets written to: D:\\DL\\wandb\\run-20250515_194743-nscjt1jf\\files\\model-best\\assets\n",
      "wandb: Adding directory to artifact (D:\\DL\\wandb\\run-20250515_194743-nscjt1jf\\files\\model-best)... Done. 0.1s\n"
     ]
    },
    {
     "name": "stdout",
     "output_type": "stream",
     "text": [
      "1582/1582 [==============================] - 237s 150ms/step - loss: 0.9248 - accuracy: 0.7359 - val_loss: 0.8660 - val_accuracy: 0.7552 - WordAccuracy: 0.0000e+00\n",
      "Epoch 3/10\n",
      "1582/1582 [==============================] - ETA: 0s - loss: 0.8699 - accuracy: 0.7508\n",
      "Epoch 3: Word-level Accuracy = 0.0000\n",
      "INFO:tensorflow:Assets written to: D:\\DL\\wandb\\run-20250515_194743-nscjt1jf\\files\\model-best\\assets\n"
     ]
    },
    {
     "name": "stderr",
     "output_type": "stream",
     "text": [
      "INFO:tensorflow:Assets written to: D:\\DL\\wandb\\run-20250515_194743-nscjt1jf\\files\\model-best\\assets\n",
      "wandb: Adding directory to artifact (D:\\DL\\wandb\\run-20250515_194743-nscjt1jf\\files\\model-best)... Done. 0.1s\n"
     ]
    },
    {
     "name": "stdout",
     "output_type": "stream",
     "text": [
      "1582/1582 [==============================] - 229s 145ms/step - loss: 0.8699 - accuracy: 0.7508 - val_loss: 0.8411 - val_accuracy: 0.7630 - WordAccuracy: 0.0000e+00\n",
      "Epoch 4/10\n",
      "1582/1582 [==============================] - ETA: 0s - loss: 0.8368 - accuracy: 0.7602\n",
      "Epoch 4: Word-level Accuracy = 0.0000\n",
      "INFO:tensorflow:Assets written to: D:\\DL\\wandb\\run-20250515_194743-nscjt1jf\\files\\model-best\\assets\n"
     ]
    },
    {
     "name": "stderr",
     "output_type": "stream",
     "text": [
      "INFO:tensorflow:Assets written to: D:\\DL\\wandb\\run-20250515_194743-nscjt1jf\\files\\model-best\\assets\n",
      "wandb: Adding directory to artifact (D:\\DL\\wandb\\run-20250515_194743-nscjt1jf\\files\\model-best)... Done. 0.1s\n"
     ]
    },
    {
     "name": "stdout",
     "output_type": "stream",
     "text": [
      "1582/1582 [==============================] - 207s 131ms/step - loss: 0.8368 - accuracy: 0.7602 - val_loss: 0.8202 - val_accuracy: 0.7646 - WordAccuracy: 0.0000e+00\n",
      "Epoch 5/10\n",
      "1582/1582 [==============================] - ETA: 0s - loss: 0.8154 - accuracy: 0.7653\n",
      "Epoch 5: Word-level Accuracy = 0.0000\n",
      "INFO:tensorflow:Assets written to: D:\\DL\\wandb\\run-20250515_194743-nscjt1jf\\files\\model-best\\assets\n"
     ]
    },
    {
     "name": "stderr",
     "output_type": "stream",
     "text": [
      "INFO:tensorflow:Assets written to: D:\\DL\\wandb\\run-20250515_194743-nscjt1jf\\files\\model-best\\assets\n",
      "wandb: Adding directory to artifact (D:\\DL\\wandb\\run-20250515_194743-nscjt1jf\\files\\model-best)... Done. 0.1s\n"
     ]
    },
    {
     "name": "stdout",
     "output_type": "stream",
     "text": [
      "1582/1582 [==============================] - 209s 132ms/step - loss: 0.8154 - accuracy: 0.7653 - val_loss: 0.8051 - val_accuracy: 0.7702 - WordAccuracy: 0.0000e+00\n",
      "Epoch 6/10\n",
      "1582/1582 [==============================] - ETA: 0s - loss: 0.7991 - accuracy: 0.7691\n",
      "Epoch 6: Word-level Accuracy = 0.0000\n",
      "INFO:tensorflow:Assets written to: D:\\DL\\wandb\\run-20250515_194743-nscjt1jf\\files\\model-best\\assets\n"
     ]
    },
    {
     "name": "stderr",
     "output_type": "stream",
     "text": [
      "INFO:tensorflow:Assets written to: D:\\DL\\wandb\\run-20250515_194743-nscjt1jf\\files\\model-best\\assets\n",
      "wandb: Adding directory to artifact (D:\\DL\\wandb\\run-20250515_194743-nscjt1jf\\files\\model-best)... Done. 0.1s\n"
     ]
    },
    {
     "name": "stdout",
     "output_type": "stream",
     "text": [
      "1582/1582 [==============================] - 207s 131ms/step - loss: 0.7991 - accuracy: 0.7691 - val_loss: 0.7935 - val_accuracy: 0.7734 - WordAccuracy: 0.0000e+00\n",
      "Epoch 7/10\n",
      "1582/1582 [==============================] - ETA: 0s - loss: 0.7881 - accuracy: 0.7719\n",
      "Epoch 7: Word-level Accuracy = 0.0000\n",
      "INFO:tensorflow:Assets written to: D:\\DL\\wandb\\run-20250515_194743-nscjt1jf\\files\\model-best\\assets\n"
     ]
    },
    {
     "name": "stderr",
     "output_type": "stream",
     "text": [
      "INFO:tensorflow:Assets written to: D:\\DL\\wandb\\run-20250515_194743-nscjt1jf\\files\\model-best\\assets\n",
      "wandb: Adding directory to artifact (D:\\DL\\wandb\\run-20250515_194743-nscjt1jf\\files\\model-best)... Done. 0.1s\n"
     ]
    },
    {
     "name": "stdout",
     "output_type": "stream",
     "text": [
      "1582/1582 [==============================] - 203s 128ms/step - loss: 0.7881 - accuracy: 0.7719 - val_loss: 0.7847 - val_accuracy: 0.7760 - WordAccuracy: 0.0000e+00\n",
      "Epoch 8/10\n",
      "1582/1582 [==============================] - ETA: 0s - loss: 0.7770 - accuracy: 0.7747\n",
      "Epoch 8: Word-level Accuracy = 0.0000\n",
      "INFO:tensorflow:Assets written to: D:\\DL\\wandb\\run-20250515_194743-nscjt1jf\\files\\model-best\\assets\n"
     ]
    },
    {
     "name": "stderr",
     "output_type": "stream",
     "text": [
      "INFO:tensorflow:Assets written to: D:\\DL\\wandb\\run-20250515_194743-nscjt1jf\\files\\model-best\\assets\n",
      "wandb: Adding directory to artifact (D:\\DL\\wandb\\run-20250515_194743-nscjt1jf\\files\\model-best)... Done. 0.1s\n"
     ]
    },
    {
     "name": "stdout",
     "output_type": "stream",
     "text": [
      "1582/1582 [==============================] - 226s 143ms/step - loss: 0.7770 - accuracy: 0.7747 - val_loss: 0.7721 - val_accuracy: 0.7807 - WordAccuracy: 0.0000e+00\n",
      "Epoch 9/10\n",
      "1582/1582 [==============================] - ETA: 0s - loss: 0.7680 - accuracy: 0.7765\n",
      "Epoch 9: Word-level Accuracy = 0.0000\n",
      "INFO:tensorflow:Assets written to: D:\\DL\\wandb\\run-20250515_194743-nscjt1jf\\files\\model-best\\assets\n"
     ]
    },
    {
     "name": "stderr",
     "output_type": "stream",
     "text": [
      "INFO:tensorflow:Assets written to: D:\\DL\\wandb\\run-20250515_194743-nscjt1jf\\files\\model-best\\assets\n",
      "wandb: Adding directory to artifact (D:\\DL\\wandb\\run-20250515_194743-nscjt1jf\\files\\model-best)... Done. 0.1s\n"
     ]
    },
    {
     "name": "stdout",
     "output_type": "stream",
     "text": [
      "1582/1582 [==============================] - 214s 135ms/step - loss: 0.7680 - accuracy: 0.7765 - val_loss: 0.7711 - val_accuracy: 0.7792 - WordAccuracy: 0.0000e+00\n",
      "Epoch 10/10\n",
      "1582/1582 [==============================] - ETA: 0s - loss: 0.7596 - accuracy: 0.7785\n",
      "Epoch 10: Word-level Accuracy = 0.0000\n",
      "INFO:tensorflow:Assets written to: D:\\DL\\wandb\\run-20250515_194743-nscjt1jf\\files\\model-best\\assets\n"
     ]
    },
    {
     "name": "stderr",
     "output_type": "stream",
     "text": [
      "INFO:tensorflow:Assets written to: D:\\DL\\wandb\\run-20250515_194743-nscjt1jf\\files\\model-best\\assets\n",
      "wandb: Adding directory to artifact (D:\\DL\\wandb\\run-20250515_194743-nscjt1jf\\files\\model-best)... Done. 0.1s\n"
     ]
    },
    {
     "name": "stdout",
     "output_type": "stream",
     "text": [
      "1582/1582 [==============================] - 217s 137ms/step - loss: 0.7596 - accuracy: 0.7785 - val_loss: 0.7691 - val_accuracy: 0.7817 - WordAccuracy: 0.0000e+00\n"
     ]
    },
    {
     "data": {
      "application/vnd.jupyter.widget-view+json": {
       "model_id": "629f130527bc4976af6e4268add4bcc5",
       "version_major": 2,
       "version_minor": 0
      },
      "text/plain": [
       "VBox(children=(Label(value='321.270 MB of 321.270 MB uploaded (0.333 MB deduped)\\r'), FloatProgress(value=1.0,…"
      ]
     },
     "metadata": {},
     "output_type": "display_data"
    },
    {
     "data": {
      "text/html": [
       "<style>\n",
       "    table.wandb td:nth-child(1) { padding: 0 10px; text-align: left ; width: auto;} td:nth-child(2) {text-align: left ; width: 100%}\n",
       "    .wandb-row { display: flex; flex-direction: row; flex-wrap: wrap; justify-content: flex-start; width: 100% }\n",
       "    .wandb-col { display: flex; flex-direction: column; flex-basis: 100%; flex: 1; padding: 10px; }\n",
       "    </style>\n",
       "<div class=\"wandb-row\"><div class=\"wandb-col\"><h3>Run history:</h3><br/><table class=\"wandb\"><tr><td>Val_WordAccuracy</td><td>▁▁▁▁▁▁▁▁▁▁</td></tr><tr><td>WordAccuracy</td><td>▁▁▁▁▁▁▁▁▁▁</td></tr><tr><td>accuracy</td><td>▁▄▅▆▇▇▇███</td></tr><tr><td>epoch</td><td>▂▁▂▂▃▂▄▃▅▄▅▅▆▅▇▆▇▇█▇</td></tr><tr><td>loss</td><td>█▄▃▃▂▂▂▁▁▁</td></tr><tr><td>val_accuracy</td><td>▁▄▅▅▆▇▇███</td></tr><tr><td>val_loss</td><td>█▅▄▃▃▂▂▁▁▁</td></tr></table><br/></div><div class=\"wandb-col\"><h3>Run summary:</h3><br/><table class=\"wandb\"><tr><td>Val_WordAccuracy</td><td>0.0</td></tr><tr><td>WordAccuracy</td><td>0.0</td></tr><tr><td>accuracy</td><td>0.77854</td></tr><tr><td>best_epoch</td><td>9</td></tr><tr><td>best_val_loss</td><td>0.7691</td></tr><tr><td>epoch</td><td>9</td></tr><tr><td>loss</td><td>0.75959</td></tr><tr><td>val_accuracy</td><td>0.78166</td></tr><tr><td>val_loss</td><td>0.7691</td></tr></table><br/></div></div>"
      ],
      "text/plain": [
       "<IPython.core.display.HTML object>"
      ]
     },
     "metadata": {},
     "output_type": "display_data"
    },
    {
     "data": {
      "text/html": [
       " View run <strong style=\"color:#cdcd00\">dutiful-sweep-16</strong> at: <a href='https://wandb.ai/manoj_da24s018-iit-madras/Transliterator_HyperParameterSweep/runs/nscjt1jf' target=\"_blank\">https://wandb.ai/manoj_da24s018-iit-madras/Transliterator_HyperParameterSweep/runs/nscjt1jf</a><br/> View project at: <a href='https://wandb.ai/manoj_da24s018-iit-madras/Transliterator_HyperParameterSweep' target=\"_blank\">https://wandb.ai/manoj_da24s018-iit-madras/Transliterator_HyperParameterSweep</a><br/>Synced 5 W&B file(s), 1 media file(s), 40 artifact file(s) and 1 other file(s)"
      ],
      "text/plain": [
       "<IPython.core.display.HTML object>"
      ]
     },
     "metadata": {},
     "output_type": "display_data"
    },
    {
     "data": {
      "text/html": [
       "Find logs at: <code>.\\wandb\\run-20250515_194743-nscjt1jf\\logs</code>"
      ],
      "text/plain": [
       "<IPython.core.display.HTML object>"
      ]
     },
     "metadata": {},
     "output_type": "display_data"
    },
    {
     "name": "stderr",
     "output_type": "stream",
     "text": [
      "wandb: Sweep Agent: Waiting for job.\n",
      "wandb: Job received.\n",
      "wandb: Agent Starting Run: 541tkkjy with config:\n",
      "wandb: \tcell_type: rnn\n",
      "wandb: \tchar_embedding_dim: 12\n",
      "wandb: \tdecoder_layers: 3\n",
      "wandb: \tdropout: 0.2\n",
      "wandb: \tencoder_layers: 1\n",
      "wandb: \thidden_state_dim: 128\n"
     ]
    },
    {
     "data": {
      "text/html": [
       "wandb version 0.19.11 is available!  To upgrade, please run:\n",
       " $ pip install wandb --upgrade"
      ],
      "text/plain": [
       "<IPython.core.display.HTML object>"
      ]
     },
     "metadata": {},
     "output_type": "display_data"
    },
    {
     "data": {
      "text/html": [
       "Tracking run with wandb version 0.16.6"
      ],
      "text/plain": [
       "<IPython.core.display.HTML object>"
      ]
     },
     "metadata": {},
     "output_type": "display_data"
    },
    {
     "data": {
      "text/html": [
       "Run data is saved locally in <code>D:\\DL\\wandb\\run-20250515_202420-541tkkjy</code>"
      ],
      "text/plain": [
       "<IPython.core.display.HTML object>"
      ]
     },
     "metadata": {},
     "output_type": "display_data"
    },
    {
     "data": {
      "text/html": [
       "Syncing run <strong><a href='https://wandb.ai/manoj_da24s018-iit-madras/Transliterator_HyperParameterSweep/runs/541tkkjy' target=\"_blank\">curious-sweep-17</a></strong> to <a href='https://wandb.ai/manoj_da24s018-iit-madras/Transliterator_HyperParameterSweep' target=\"_blank\">Weights & Biases</a> (<a href='https://wandb.me/run' target=\"_blank\">docs</a>)<br/>Sweep page: <a href='https://wandb.ai/manoj_da24s018-iit-madras/Transliterator_HyperParameterSweep/sweeps/fjtuyyfs' target=\"_blank\">https://wandb.ai/manoj_da24s018-iit-madras/Transliterator_HyperParameterSweep/sweeps/fjtuyyfs</a>"
      ],
      "text/plain": [
       "<IPython.core.display.HTML object>"
      ]
     },
     "metadata": {},
     "output_type": "display_data"
    },
    {
     "data": {
      "text/html": [
       " View project at <a href='https://wandb.ai/manoj_da24s018-iit-madras/Transliterator_HyperParameterSweep' target=\"_blank\">https://wandb.ai/manoj_da24s018-iit-madras/Transliterator_HyperParameterSweep</a>"
      ],
      "text/plain": [
       "<IPython.core.display.HTML object>"
      ]
     },
     "metadata": {},
     "output_type": "display_data"
    },
    {
     "data": {
      "text/html": [
       " View sweep at <a href='https://wandb.ai/manoj_da24s018-iit-madras/Transliterator_HyperParameterSweep/sweeps/fjtuyyfs' target=\"_blank\">https://wandb.ai/manoj_da24s018-iit-madras/Transliterator_HyperParameterSweep/sweeps/fjtuyyfs</a>"
      ],
      "text/plain": [
       "<IPython.core.display.HTML object>"
      ]
     },
     "metadata": {},
     "output_type": "display_data"
    },
    {
     "data": {
      "text/html": [
       " View run at <a href='https://wandb.ai/manoj_da24s018-iit-madras/Transliterator_HyperParameterSweep/runs/541tkkjy' target=\"_blank\">https://wandb.ai/manoj_da24s018-iit-madras/Transliterator_HyperParameterSweep/runs/541tkkjy</a>"
      ],
      "text/plain": [
       "<IPython.core.display.HTML object>"
      ]
     },
     "metadata": {},
     "output_type": "display_data"
    },
    {
     "name": "stdout",
     "output_type": "stream",
     "text": [
      "Sweep Name:  RNN Layer Type: rnn, Character_Embedding_dim: 12, Hidden_dim:128, Num_Encoder_Layer:1, Num_Decoder_Layer:3, Dropout:0.2\n",
      "Epoch 1/10\n",
      "1582/1582 [==============================] - ETA: 0s - loss: 0.8999 - accuracy: 0.7530\n",
      "Epoch 1: Word-level Accuracy = 0.0036\n",
      "INFO:tensorflow:Assets written to: D:\\DL\\wandb\\run-20250515_202420-541tkkjy\\files\\model-best\\assets\n"
     ]
    },
    {
     "name": "stderr",
     "output_type": "stream",
     "text": [
      "INFO:tensorflow:Assets written to: D:\\DL\\wandb\\run-20250515_202420-541tkkjy\\files\\model-best\\assets\n",
      "wandb: Adding directory to artifact (D:\\DL\\wandb\\run-20250515_202420-541tkkjy\\files\\model-best)... Done. 0.0s\n"
     ]
    },
    {
     "name": "stdout",
     "output_type": "stream",
     "text": [
      "1582/1582 [==============================] - 146s 91ms/step - loss: 0.8999 - accuracy: 0.7530 - val_loss: 0.6280 - val_accuracy: 0.8208 - WordAccuracy: 0.0036\n",
      "Epoch 2/10\n",
      "1582/1582 [==============================] - ETA: 0s - loss: 0.6174 - accuracy: 0.8202\n",
      "Epoch 2: Word-level Accuracy = 0.0139\n",
      "INFO:tensorflow:Assets written to: D:\\DL\\wandb\\run-20250515_202420-541tkkjy\\files\\model-best\\assets\n"
     ]
    },
    {
     "name": "stderr",
     "output_type": "stream",
     "text": [
      "INFO:tensorflow:Assets written to: D:\\DL\\wandb\\run-20250515_202420-541tkkjy\\files\\model-best\\assets\n",
      "wandb: Adding directory to artifact (D:\\DL\\wandb\\run-20250515_202420-541tkkjy\\files\\model-best)... Done. 0.0s\n"
     ]
    },
    {
     "name": "stdout",
     "output_type": "stream",
     "text": [
      "1582/1582 [==============================] - 150s 95ms/step - loss: 0.6174 - accuracy: 0.8202 - val_loss: 0.4915 - val_accuracy: 0.8562 - WordAccuracy: 0.0139\n",
      "Epoch 3/10\n",
      "1582/1582 [==============================] - ETA: 0s - loss: 0.5239 - accuracy: 0.8453\n",
      "Epoch 3: Word-level Accuracy = 0.0257\n",
      "INFO:tensorflow:Assets written to: D:\\DL\\wandb\\run-20250515_202420-541tkkjy\\files\\model-best\\assets\n"
     ]
    },
    {
     "name": "stderr",
     "output_type": "stream",
     "text": [
      "INFO:tensorflow:Assets written to: D:\\DL\\wandb\\run-20250515_202420-541tkkjy\\files\\model-best\\assets\n",
      "wandb: Adding directory to artifact (D:\\DL\\wandb\\run-20250515_202420-541tkkjy\\files\\model-best)... Done. 0.0s\n"
     ]
    },
    {
     "name": "stdout",
     "output_type": "stream",
     "text": [
      "1582/1582 [==============================] - 140s 88ms/step - loss: 0.5239 - accuracy: 0.8453 - val_loss: 0.4336 - val_accuracy: 0.8727 - WordAccuracy: 0.0257\n",
      "Epoch 4/10\n",
      "1582/1582 [==============================] - ETA: 0s - loss: 0.4768 - accuracy: 0.8579\n",
      "Epoch 4: Word-level Accuracy = 0.0448\n",
      "INFO:tensorflow:Assets written to: D:\\DL\\wandb\\run-20250515_202420-541tkkjy\\files\\model-best\\assets\n"
     ]
    },
    {
     "name": "stderr",
     "output_type": "stream",
     "text": [
      "INFO:tensorflow:Assets written to: D:\\DL\\wandb\\run-20250515_202420-541tkkjy\\files\\model-best\\assets\n",
      "wandb: Adding directory to artifact (D:\\DL\\wandb\\run-20250515_202420-541tkkjy\\files\\model-best)... Done. 0.0s\n"
     ]
    },
    {
     "name": "stdout",
     "output_type": "stream",
     "text": [
      "1582/1582 [==============================] - 134s 85ms/step - loss: 0.4768 - accuracy: 0.8579 - val_loss: 0.3921 - val_accuracy: 0.8843 - WordAccuracy: 0.0448\n",
      "Epoch 5/10\n",
      "1582/1582 [==============================] - ETA: 0s - loss: 0.4477 - accuracy: 0.8662\n",
      "Epoch 5: Word-level Accuracy = 0.0533\n",
      "INFO:tensorflow:Assets written to: D:\\DL\\wandb\\run-20250515_202420-541tkkjy\\files\\model-best\\assets\n"
     ]
    },
    {
     "name": "stderr",
     "output_type": "stream",
     "text": [
      "INFO:tensorflow:Assets written to: D:\\DL\\wandb\\run-20250515_202420-541tkkjy\\files\\model-best\\assets\n",
      "wandb: Adding directory to artifact (D:\\DL\\wandb\\run-20250515_202420-541tkkjy\\files\\model-best)... Done. 0.0s\n"
     ]
    },
    {
     "name": "stdout",
     "output_type": "stream",
     "text": [
      "1582/1582 [==============================] - 141s 89ms/step - loss: 0.4477 - accuracy: 0.8662 - val_loss: 0.3705 - val_accuracy: 0.8903 - WordAccuracy: 0.0533\n",
      "Epoch 6/10\n",
      "1582/1582 [==============================] - ETA: 0s - loss: 0.4294 - accuracy: 0.8713\n",
      "Epoch 6: Word-level Accuracy = 0.0454\n",
      "1582/1582 [==============================] - 139s 88ms/step - loss: 0.4294 - accuracy: 0.8713 - val_loss: 0.3807 - val_accuracy: 0.8872 - WordAccuracy: 0.0454\n",
      "Epoch 7/10\n",
      "1582/1582 [==============================] - ETA: 0s - loss: 0.4128 - accuracy: 0.8760\n",
      "Epoch 7: Word-level Accuracy = 0.0730\n",
      "INFO:tensorflow:Assets written to: D:\\DL\\wandb\\run-20250515_202420-541tkkjy\\files\\model-best\\assets\n"
     ]
    },
    {
     "name": "stderr",
     "output_type": "stream",
     "text": [
      "INFO:tensorflow:Assets written to: D:\\DL\\wandb\\run-20250515_202420-541tkkjy\\files\\model-best\\assets\n",
      "wandb: Adding directory to artifact (D:\\DL\\wandb\\run-20250515_202420-541tkkjy\\files\\model-best)... Done. 0.0s\n"
     ]
    },
    {
     "name": "stdout",
     "output_type": "stream",
     "text": [
      "1582/1582 [==============================] - 142s 90ms/step - loss: 0.4128 - accuracy: 0.8760 - val_loss: 0.3336 - val_accuracy: 0.9003 - WordAccuracy: 0.0730\n",
      "Epoch 8/10\n",
      "1582/1582 [==============================] - ETA: 0s - loss: 0.3974 - accuracy: 0.8805\n",
      "Epoch 8: Word-level Accuracy = 0.0792\n",
      "1582/1582 [==============================] - 125s 79ms/step - loss: 0.3974 - accuracy: 0.8805 - val_loss: 0.3350 - val_accuracy: 0.8991 - WordAccuracy: 0.0792\n",
      "Epoch 9/10\n",
      "1582/1582 [==============================] - ETA: 0s - loss: 0.3893 - accuracy: 0.8826\n",
      "Epoch 9: Word-level Accuracy = 0.0818\n",
      "1582/1582 [==============================] - 145s 92ms/step - loss: 0.3893 - accuracy: 0.8826 - val_loss: 0.3351 - val_accuracy: 0.9001 - WordAccuracy: 0.0818\n",
      "Epoch 10/10\n",
      "1582/1582 [==============================] - ETA: 0s - loss: 0.3777 - accuracy: 0.8860\n",
      "Epoch 10: Word-level Accuracy = 0.0955\n",
      "INFO:tensorflow:Assets written to: D:\\DL\\wandb\\run-20250515_202420-541tkkjy\\files\\model-best\\assets\n"
     ]
    },
    {
     "name": "stderr",
     "output_type": "stream",
     "text": [
      "INFO:tensorflow:Assets written to: D:\\DL\\wandb\\run-20250515_202420-541tkkjy\\files\\model-best\\assets\n",
      "wandb: Adding directory to artifact (D:\\DL\\wandb\\run-20250515_202420-541tkkjy\\files\\model-best)... Done. 0.0s\n"
     ]
    },
    {
     "name": "stdout",
     "output_type": "stream",
     "text": [
      "1582/1582 [==============================] - 130s 82ms/step - loss: 0.3777 - accuracy: 0.8860 - val_loss: 0.3187 - val_accuracy: 0.9055 - WordAccuracy: 0.0955\n"
     ]
    },
    {
     "data": {
      "application/vnd.jupyter.widget-view+json": {
       "model_id": "8164da7fe58849e9a7d0a17f4069166e",
       "version_major": 2,
       "version_minor": 0
      },
      "text/plain": [
       "VBox(children=(Label(value='16.249 MB of 16.249 MB uploaded (0.172 MB deduped)\\r'), FloatProgress(value=1.0, m…"
      ]
     },
     "metadata": {},
     "output_type": "display_data"
    },
    {
     "data": {
      "text/html": [
       "<style>\n",
       "    table.wandb td:nth-child(1) { padding: 0 10px; text-align: left ; width: auto;} td:nth-child(2) {text-align: left ; width: 100%}\n",
       "    .wandb-row { display: flex; flex-direction: row; flex-wrap: wrap; justify-content: flex-start; width: 100% }\n",
       "    .wandb-col { display: flex; flex-direction: column; flex-basis: 100%; flex: 1; padding: 10px; }\n",
       "    </style>\n",
       "<div class=\"wandb-row\"><div class=\"wandb-col\"><h3>Run history:</h3><br/><table class=\"wandb\"><tr><td>Val_WordAccuracy</td><td>▁▂▃▄▅▄▆▇▇█</td></tr><tr><td>WordAccuracy</td><td>▁▂▃▄▅▄▆▇▇█</td></tr><tr><td>accuracy</td><td>▁▅▆▇▇▇▇███</td></tr><tr><td>epoch</td><td>▂▁▂▂▃▂▄▃▅▄▅▅▆▅▇▆▇▇█▇</td></tr><tr><td>loss</td><td>█▄▃▂▂▂▁▁▁▁</td></tr><tr><td>val_accuracy</td><td>▁▄▅▆▇▆█▇██</td></tr><tr><td>val_loss</td><td>█▅▄▃▂▂▁▁▁▁</td></tr></table><br/></div><div class=\"wandb-col\"><h3>Run summary:</h3><br/><table class=\"wandb\"><tr><td>Val_WordAccuracy</td><td>0.09548</td></tr><tr><td>WordAccuracy</td><td>0.09548</td></tr><tr><td>accuracy</td><td>0.88604</td></tr><tr><td>best_epoch</td><td>9</td></tr><tr><td>best_val_loss</td><td>0.31868</td></tr><tr><td>epoch</td><td>9</td></tr><tr><td>loss</td><td>0.37774</td></tr><tr><td>val_accuracy</td><td>0.90549</td></tr><tr><td>val_loss</td><td>0.31868</td></tr></table><br/></div></div>"
      ],
      "text/plain": [
       "<IPython.core.display.HTML object>"
      ]
     },
     "metadata": {},
     "output_type": "display_data"
    },
    {
     "data": {
      "text/html": [
       " View run <strong style=\"color:#cdcd00\">curious-sweep-17</strong> at: <a href='https://wandb.ai/manoj_da24s018-iit-madras/Transliterator_HyperParameterSweep/runs/541tkkjy' target=\"_blank\">https://wandb.ai/manoj_da24s018-iit-madras/Transliterator_HyperParameterSweep/runs/541tkkjy</a><br/> View project at: <a href='https://wandb.ai/manoj_da24s018-iit-madras/Transliterator_HyperParameterSweep' target=\"_blank\">https://wandb.ai/manoj_da24s018-iit-madras/Transliterator_HyperParameterSweep</a><br/>Synced 5 W&B file(s), 1 media file(s), 28 artifact file(s) and 1 other file(s)"
      ],
      "text/plain": [
       "<IPython.core.display.HTML object>"
      ]
     },
     "metadata": {},
     "output_type": "display_data"
    },
    {
     "data": {
      "text/html": [
       "Find logs at: <code>.\\wandb\\run-20250515_202420-541tkkjy\\logs</code>"
      ],
      "text/plain": [
       "<IPython.core.display.HTML object>"
      ]
     },
     "metadata": {},
     "output_type": "display_data"
    },
    {
     "name": "stderr",
     "output_type": "stream",
     "text": [
      "wandb: Agent Starting Run: aaq9hbjb with config:\n",
      "wandb: \tcell_type: gru\n",
      "wandb: \tchar_embedding_dim: 32\n",
      "wandb: \tdecoder_layers: 2\n",
      "wandb: \tdropout: 0.4\n",
      "wandb: \tencoder_layers: 3\n",
      "wandb: \thidden_state_dim: 128\n"
     ]
    },
    {
     "data": {
      "text/html": [
       "wandb version 0.19.11 is available!  To upgrade, please run:\n",
       " $ pip install wandb --upgrade"
      ],
      "text/plain": [
       "<IPython.core.display.HTML object>"
      ]
     },
     "metadata": {},
     "output_type": "display_data"
    },
    {
     "data": {
      "text/html": [
       "Tracking run with wandb version 0.16.6"
      ],
      "text/plain": [
       "<IPython.core.display.HTML object>"
      ]
     },
     "metadata": {},
     "output_type": "display_data"
    },
    {
     "data": {
      "text/html": [
       "Run data is saved locally in <code>D:\\DL\\wandb\\run-20250515_204753-aaq9hbjb</code>"
      ],
      "text/plain": [
       "<IPython.core.display.HTML object>"
      ]
     },
     "metadata": {},
     "output_type": "display_data"
    },
    {
     "data": {
      "text/html": [
       "Syncing run <strong><a href='https://wandb.ai/manoj_da24s018-iit-madras/Transliterator_HyperParameterSweep/runs/aaq9hbjb' target=\"_blank\">olive-sweep-18</a></strong> to <a href='https://wandb.ai/manoj_da24s018-iit-madras/Transliterator_HyperParameterSweep' target=\"_blank\">Weights & Biases</a> (<a href='https://wandb.me/run' target=\"_blank\">docs</a>)<br/>Sweep page: <a href='https://wandb.ai/manoj_da24s018-iit-madras/Transliterator_HyperParameterSweep/sweeps/fjtuyyfs' target=\"_blank\">https://wandb.ai/manoj_da24s018-iit-madras/Transliterator_HyperParameterSweep/sweeps/fjtuyyfs</a>"
      ],
      "text/plain": [
       "<IPython.core.display.HTML object>"
      ]
     },
     "metadata": {},
     "output_type": "display_data"
    },
    {
     "data": {
      "text/html": [
       " View project at <a href='https://wandb.ai/manoj_da24s018-iit-madras/Transliterator_HyperParameterSweep' target=\"_blank\">https://wandb.ai/manoj_da24s018-iit-madras/Transliterator_HyperParameterSweep</a>"
      ],
      "text/plain": [
       "<IPython.core.display.HTML object>"
      ]
     },
     "metadata": {},
     "output_type": "display_data"
    },
    {
     "data": {
      "text/html": [
       " View sweep at <a href='https://wandb.ai/manoj_da24s018-iit-madras/Transliterator_HyperParameterSweep/sweeps/fjtuyyfs' target=\"_blank\">https://wandb.ai/manoj_da24s018-iit-madras/Transliterator_HyperParameterSweep/sweeps/fjtuyyfs</a>"
      ],
      "text/plain": [
       "<IPython.core.display.HTML object>"
      ]
     },
     "metadata": {},
     "output_type": "display_data"
    },
    {
     "data": {
      "text/html": [
       " View run at <a href='https://wandb.ai/manoj_da24s018-iit-madras/Transliterator_HyperParameterSweep/runs/aaq9hbjb' target=\"_blank\">https://wandb.ai/manoj_da24s018-iit-madras/Transliterator_HyperParameterSweep/runs/aaq9hbjb</a>"
      ],
      "text/plain": [
       "<IPython.core.display.HTML object>"
      ]
     },
     "metadata": {},
     "output_type": "display_data"
    },
    {
     "name": "stdout",
     "output_type": "stream",
     "text": [
      "Sweep Name:  RNN Layer Type: gru, Character_Embedding_dim: 32, Hidden_dim:128, Num_Encoder_Layer:3, Num_Decoder_Layer:2, Dropout:0.4\n",
      "Epoch 1/10\n",
      "   6/1582 [..............................] - ETA: 59s - loss: 4.0260 - accuracy: 0.5643 WARNING:tensorflow:Callback method `on_train_batch_end` is slow compared to the batch time (batch time: 0.0177s vs `on_train_batch_end` time: 0.0193s). Check your callbacks.\n"
     ]
    },
    {
     "name": "stderr",
     "output_type": "stream",
     "text": [
      "WARNING:tensorflow:Callback method `on_train_batch_end` is slow compared to the batch time (batch time: 0.0177s vs `on_train_batch_end` time: 0.0193s). Check your callbacks.\n"
     ]
    },
    {
     "name": "stdout",
     "output_type": "stream",
     "text": [
      "1579/1582 [============================>.] - ETA: 0s - loss: 0.9749 - accuracy: 0.7353\n",
      "Epoch 1: Word-level Accuracy = 0.0000\n"
     ]
    },
    {
     "name": "stderr",
     "output_type": "stream",
     "text": [
      "WARNING:absl:Found untraced functions such as gru_cell_layer_call_fn, gru_cell_layer_call_and_return_conditional_losses, gru_cell_1_layer_call_fn, gru_cell_1_layer_call_and_return_conditional_losses, gru_cell_2_layer_call_fn while saving (showing 5 of 10). These functions will not be directly callable after loading.\n"
     ]
    },
    {
     "name": "stdout",
     "output_type": "stream",
     "text": [
      "INFO:tensorflow:Assets written to: D:\\DL\\wandb\\run-20250515_204753-aaq9hbjb\\files\\model-best\\assets\n"
     ]
    },
    {
     "name": "stderr",
     "output_type": "stream",
     "text": [
      "INFO:tensorflow:Assets written to: D:\\DL\\wandb\\run-20250515_204753-aaq9hbjb\\files\\model-best\\assets\n",
      "wandb: Adding directory to artifact (D:\\DL\\wandb\\run-20250515_204753-aaq9hbjb\\files\\model-best)... Done. 0.0s\n"
     ]
    },
    {
     "name": "stdout",
     "output_type": "stream",
     "text": [
      "1582/1582 [==============================] - 38s 21ms/step - loss: 0.9745 - accuracy: 0.7354 - val_loss: 0.7430 - val_accuracy: 0.7895 - WordAccuracy: 0.0000e+00\n",
      "Epoch 2/10\n",
      "1578/1582 [============================>.] - ETA: 0s - loss: 0.6964 - accuracy: 0.7982\n",
      "Epoch 2: Word-level Accuracy = 0.0020\n"
     ]
    },
    {
     "name": "stderr",
     "output_type": "stream",
     "text": [
      "WARNING:absl:Found untraced functions such as gru_cell_layer_call_fn, gru_cell_layer_call_and_return_conditional_losses, gru_cell_1_layer_call_fn, gru_cell_1_layer_call_and_return_conditional_losses, gru_cell_2_layer_call_fn while saving (showing 5 of 10). These functions will not be directly callable after loading.\n"
     ]
    },
    {
     "name": "stdout",
     "output_type": "stream",
     "text": [
      "INFO:tensorflow:Assets written to: D:\\DL\\wandb\\run-20250515_204753-aaq9hbjb\\files\\model-best\\assets\n"
     ]
    },
    {
     "name": "stderr",
     "output_type": "stream",
     "text": [
      "INFO:tensorflow:Assets written to: D:\\DL\\wandb\\run-20250515_204753-aaq9hbjb\\files\\model-best\\assets\n",
      "wandb: Adding directory to artifact (D:\\DL\\wandb\\run-20250515_204753-aaq9hbjb\\files\\model-best)... Done. 0.0s\n"
     ]
    },
    {
     "name": "stdout",
     "output_type": "stream",
     "text": [
      "1582/1582 [==============================] - 31s 20ms/step - loss: 0.6962 - accuracy: 0.7982 - val_loss: 0.5668 - val_accuracy: 0.8352 - WordAccuracy: 0.0020\n",
      "Epoch 3/10\n",
      "1580/1582 [============================>.] - ETA: 0s - loss: 0.5422 - accuracy: 0.8391\n",
      "Epoch 3: Word-level Accuracy = 0.0171\n"
     ]
    },
    {
     "name": "stderr",
     "output_type": "stream",
     "text": [
      "WARNING:absl:Found untraced functions such as gru_cell_layer_call_fn, gru_cell_layer_call_and_return_conditional_losses, gru_cell_1_layer_call_fn, gru_cell_1_layer_call_and_return_conditional_losses, gru_cell_2_layer_call_fn while saving (showing 5 of 10). These functions will not be directly callable after loading.\n"
     ]
    },
    {
     "name": "stdout",
     "output_type": "stream",
     "text": [
      "INFO:tensorflow:Assets written to: D:\\DL\\wandb\\run-20250515_204753-aaq9hbjb\\files\\model-best\\assets\n"
     ]
    },
    {
     "name": "stderr",
     "output_type": "stream",
     "text": [
      "INFO:tensorflow:Assets written to: D:\\DL\\wandb\\run-20250515_204753-aaq9hbjb\\files\\model-best\\assets\n",
      "wandb: Adding directory to artifact (D:\\DL\\wandb\\run-20250515_204753-aaq9hbjb\\files\\model-best)... Done. 0.0s\n"
     ]
    },
    {
     "name": "stdout",
     "output_type": "stream",
     "text": [
      "1582/1582 [==============================] - 32s 20ms/step - loss: 0.5421 - accuracy: 0.8392 - val_loss: 0.4299 - val_accuracy: 0.8733 - WordAccuracy: 0.0171\n",
      "Epoch 4/10\n",
      "1580/1582 [============================>.] - ETA: 0s - loss: 0.4262 - accuracy: 0.8712\n",
      "Epoch 4: Word-level Accuracy = 0.0647\n"
     ]
    },
    {
     "name": "stderr",
     "output_type": "stream",
     "text": [
      "WARNING:absl:Found untraced functions such as gru_cell_layer_call_fn, gru_cell_layer_call_and_return_conditional_losses, gru_cell_1_layer_call_fn, gru_cell_1_layer_call_and_return_conditional_losses, gru_cell_2_layer_call_fn while saving (showing 5 of 10). These functions will not be directly callable after loading.\n"
     ]
    },
    {
     "name": "stdout",
     "output_type": "stream",
     "text": [
      "INFO:tensorflow:Assets written to: D:\\DL\\wandb\\run-20250515_204753-aaq9hbjb\\files\\model-best\\assets\n"
     ]
    },
    {
     "name": "stderr",
     "output_type": "stream",
     "text": [
      "INFO:tensorflow:Assets written to: D:\\DL\\wandb\\run-20250515_204753-aaq9hbjb\\files\\model-best\\assets\n",
      "wandb: Adding directory to artifact (D:\\DL\\wandb\\run-20250515_204753-aaq9hbjb\\files\\model-best)... Done. 0.0s\n"
     ]
    },
    {
     "name": "stdout",
     "output_type": "stream",
     "text": [
      "1582/1582 [==============================] - 32s 20ms/step - loss: 0.4261 - accuracy: 0.8712 - val_loss: 0.3333 - val_accuracy: 0.8999 - WordAccuracy: 0.0647\n",
      "Epoch 5/10\n",
      "1581/1582 [============================>.] - ETA: 0s - loss: 0.3484 - accuracy: 0.8934\n",
      "Epoch 5: Word-level Accuracy = 0.1190\n"
     ]
    },
    {
     "name": "stderr",
     "output_type": "stream",
     "text": [
      "WARNING:absl:Found untraced functions such as gru_cell_layer_call_fn, gru_cell_layer_call_and_return_conditional_losses, gru_cell_1_layer_call_fn, gru_cell_1_layer_call_and_return_conditional_losses, gru_cell_2_layer_call_fn while saving (showing 5 of 10). These functions will not be directly callable after loading.\n"
     ]
    },
    {
     "name": "stdout",
     "output_type": "stream",
     "text": [
      "INFO:tensorflow:Assets written to: D:\\DL\\wandb\\run-20250515_204753-aaq9hbjb\\files\\model-best\\assets\n"
     ]
    },
    {
     "name": "stderr",
     "output_type": "stream",
     "text": [
      "INFO:tensorflow:Assets written to: D:\\DL\\wandb\\run-20250515_204753-aaq9hbjb\\files\\model-best\\assets\n",
      "wandb: Adding directory to artifact (D:\\DL\\wandb\\run-20250515_204753-aaq9hbjb\\files\\model-best)... Done. 0.0s\n"
     ]
    },
    {
     "name": "stdout",
     "output_type": "stream",
     "text": [
      "1582/1582 [==============================] - 33s 21ms/step - loss: 0.3485 - accuracy: 0.8934 - val_loss: 0.2813 - val_accuracy: 0.9152 - WordAccuracy: 0.1190\n",
      "Epoch 6/10\n",
      "1582/1582 [==============================] - ETA: 0s - loss: 0.2961 - accuracy: 0.9088\n",
      "Epoch 6: Word-level Accuracy = 0.1639\n"
     ]
    },
    {
     "name": "stderr",
     "output_type": "stream",
     "text": [
      "WARNING:absl:Found untraced functions such as gru_cell_layer_call_fn, gru_cell_layer_call_and_return_conditional_losses, gru_cell_1_layer_call_fn, gru_cell_1_layer_call_and_return_conditional_losses, gru_cell_2_layer_call_fn while saving (showing 5 of 10). These functions will not be directly callable after loading.\n"
     ]
    },
    {
     "name": "stdout",
     "output_type": "stream",
     "text": [
      "INFO:tensorflow:Assets written to: D:\\DL\\wandb\\run-20250515_204753-aaq9hbjb\\files\\model-best\\assets\n"
     ]
    },
    {
     "name": "stderr",
     "output_type": "stream",
     "text": [
      "INFO:tensorflow:Assets written to: D:\\DL\\wandb\\run-20250515_204753-aaq9hbjb\\files\\model-best\\assets\n",
      "wandb: Adding directory to artifact (D:\\DL\\wandb\\run-20250515_204753-aaq9hbjb\\files\\model-best)... Done. 0.0s\n"
     ]
    },
    {
     "name": "stdout",
     "output_type": "stream",
     "text": [
      "1582/1582 [==============================] - 35s 22ms/step - loss: 0.2961 - accuracy: 0.9088 - val_loss: 0.2436 - val_accuracy: 0.9264 - WordAccuracy: 0.1639\n",
      "Epoch 7/10\n",
      "1580/1582 [============================>.] - ETA: 0s - loss: 0.2580 - accuracy: 0.9201\n",
      "Epoch 7: Word-level Accuracy = 0.1961\n"
     ]
    },
    {
     "name": "stderr",
     "output_type": "stream",
     "text": [
      "WARNING:absl:Found untraced functions such as gru_cell_layer_call_fn, gru_cell_layer_call_and_return_conditional_losses, gru_cell_1_layer_call_fn, gru_cell_1_layer_call_and_return_conditional_losses, gru_cell_2_layer_call_fn while saving (showing 5 of 10). These functions will not be directly callable after loading.\n"
     ]
    },
    {
     "name": "stdout",
     "output_type": "stream",
     "text": [
      "INFO:tensorflow:Assets written to: D:\\DL\\wandb\\run-20250515_204753-aaq9hbjb\\files\\model-best\\assets\n"
     ]
    },
    {
     "name": "stderr",
     "output_type": "stream",
     "text": [
      "INFO:tensorflow:Assets written to: D:\\DL\\wandb\\run-20250515_204753-aaq9hbjb\\files\\model-best\\assets\n",
      "wandb: Adding directory to artifact (D:\\DL\\wandb\\run-20250515_204753-aaq9hbjb\\files\\model-best)... Done. 0.0s\n"
     ]
    },
    {
     "name": "stdout",
     "output_type": "stream",
     "text": [
      "1582/1582 [==============================] - 34s 21ms/step - loss: 0.2579 - accuracy: 0.9201 - val_loss: 0.2189 - val_accuracy: 0.9338 - WordAccuracy: 0.1961\n",
      "Epoch 8/10\n",
      "1582/1582 [==============================] - ETA: 0s - loss: 0.2297 - accuracy: 0.9287\n",
      "Epoch 8: Word-level Accuracy = 0.2395\n"
     ]
    },
    {
     "name": "stderr",
     "output_type": "stream",
     "text": [
      "WARNING:absl:Found untraced functions such as gru_cell_layer_call_fn, gru_cell_layer_call_and_return_conditional_losses, gru_cell_1_layer_call_fn, gru_cell_1_layer_call_and_return_conditional_losses, gru_cell_2_layer_call_fn while saving (showing 5 of 10). These functions will not be directly callable after loading.\n"
     ]
    },
    {
     "name": "stdout",
     "output_type": "stream",
     "text": [
      "INFO:tensorflow:Assets written to: D:\\DL\\wandb\\run-20250515_204753-aaq9hbjb\\files\\model-best\\assets\n"
     ]
    },
    {
     "name": "stderr",
     "output_type": "stream",
     "text": [
      "INFO:tensorflow:Assets written to: D:\\DL\\wandb\\run-20250515_204753-aaq9hbjb\\files\\model-best\\assets\n",
      "wandb: Adding directory to artifact (D:\\DL\\wandb\\run-20250515_204753-aaq9hbjb\\files\\model-best)... Done. 0.0s\n"
     ]
    },
    {
     "name": "stdout",
     "output_type": "stream",
     "text": [
      "1582/1582 [==============================] - 33s 21ms/step - loss: 0.2297 - accuracy: 0.9287 - val_loss: 0.1975 - val_accuracy: 0.9394 - WordAccuracy: 0.2395\n",
      "Epoch 9/10\n",
      "1581/1582 [============================>.] - ETA: 0s - loss: 0.2073 - accuracy: 0.9354\n",
      "Epoch 9: Word-level Accuracy = 0.2628\n"
     ]
    },
    {
     "name": "stderr",
     "output_type": "stream",
     "text": [
      "WARNING:absl:Found untraced functions such as gru_cell_layer_call_fn, gru_cell_layer_call_and_return_conditional_losses, gru_cell_1_layer_call_fn, gru_cell_1_layer_call_and_return_conditional_losses, gru_cell_2_layer_call_fn while saving (showing 5 of 10). These functions will not be directly callable after loading.\n"
     ]
    },
    {
     "name": "stdout",
     "output_type": "stream",
     "text": [
      "INFO:tensorflow:Assets written to: D:\\DL\\wandb\\run-20250515_204753-aaq9hbjb\\files\\model-best\\assets\n"
     ]
    },
    {
     "name": "stderr",
     "output_type": "stream",
     "text": [
      "INFO:tensorflow:Assets written to: D:\\DL\\wandb\\run-20250515_204753-aaq9hbjb\\files\\model-best\\assets\n",
      "wandb: Adding directory to artifact (D:\\DL\\wandb\\run-20250515_204753-aaq9hbjb\\files\\model-best)... Done. 0.0s\n"
     ]
    },
    {
     "name": "stdout",
     "output_type": "stream",
     "text": [
      "1582/1582 [==============================] - 34s 21ms/step - loss: 0.2073 - accuracy: 0.9354 - val_loss: 0.1811 - val_accuracy: 0.9447 - WordAccuracy: 0.2628\n",
      "Epoch 10/10\n",
      "1580/1582 [============================>.] - ETA: 0s - loss: 0.1900 - accuracy: 0.9406\n",
      "Epoch 10: Word-level Accuracy = 0.2827\n"
     ]
    },
    {
     "name": "stderr",
     "output_type": "stream",
     "text": [
      "WARNING:absl:Found untraced functions such as gru_cell_layer_call_fn, gru_cell_layer_call_and_return_conditional_losses, gru_cell_1_layer_call_fn, gru_cell_1_layer_call_and_return_conditional_losses, gru_cell_2_layer_call_fn while saving (showing 5 of 10). These functions will not be directly callable after loading.\n"
     ]
    },
    {
     "name": "stdout",
     "output_type": "stream",
     "text": [
      "INFO:tensorflow:Assets written to: D:\\DL\\wandb\\run-20250515_204753-aaq9hbjb\\files\\model-best\\assets\n"
     ]
    },
    {
     "name": "stderr",
     "output_type": "stream",
     "text": [
      "INFO:tensorflow:Assets written to: D:\\DL\\wandb\\run-20250515_204753-aaq9hbjb\\files\\model-best\\assets\n",
      "wandb: Adding directory to artifact (D:\\DL\\wandb\\run-20250515_204753-aaq9hbjb\\files\\model-best)... Done. 0.0s\n"
     ]
    },
    {
     "name": "stdout",
     "output_type": "stream",
     "text": [
      "1582/1582 [==============================] - 32s 20ms/step - loss: 0.1901 - accuracy: 0.9406 - val_loss: 0.1750 - val_accuracy: 0.9473 - WordAccuracy: 0.2827\n"
     ]
    },
    {
     "data": {
      "application/vnd.jupyter.widget-view+json": {
       "model_id": "f194190879cb484fa5ca4eb25dbe1afe",
       "version_major": 2,
       "version_minor": 0
      },
      "text/plain": [
       "VBox(children=(Label(value='80.694 MB of 80.694 MB uploaded (0.304 MB deduped)\\r'), FloatProgress(value=1.0, m…"
      ]
     },
     "metadata": {},
     "output_type": "display_data"
    },
    {
     "data": {
      "text/html": [
       "<style>\n",
       "    table.wandb td:nth-child(1) { padding: 0 10px; text-align: left ; width: auto;} td:nth-child(2) {text-align: left ; width: 100%}\n",
       "    .wandb-row { display: flex; flex-direction: row; flex-wrap: wrap; justify-content: flex-start; width: 100% }\n",
       "    .wandb-col { display: flex; flex-direction: column; flex-basis: 100%; flex: 1; padding: 10px; }\n",
       "    </style>\n",
       "<div class=\"wandb-row\"><div class=\"wandb-col\"><h3>Run history:</h3><br/><table class=\"wandb\"><tr><td>Val_WordAccuracy</td><td>▁▁▁▃▄▅▆▇██</td></tr><tr><td>WordAccuracy</td><td>▁▁▁▃▄▅▆▇██</td></tr><tr><td>accuracy</td><td>▁▃▅▆▆▇▇███</td></tr><tr><td>epoch</td><td>▂▁▂▂▃▂▄▃▅▄▅▅▆▅▇▆▇▇█▇</td></tr><tr><td>loss</td><td>█▆▄▃▂▂▂▁▁▁</td></tr><tr><td>val_accuracy</td><td>▁▃▅▆▇▇▇███</td></tr><tr><td>val_loss</td><td>█▆▄▃▂▂▂▁▁▁</td></tr></table><br/></div><div class=\"wandb-col\"><h3>Run summary:</h3><br/><table class=\"wandb\"><tr><td>Val_WordAccuracy</td><td>0.28267</td></tr><tr><td>WordAccuracy</td><td>0.28267</td></tr><tr><td>accuracy</td><td>0.94057</td></tr><tr><td>best_epoch</td><td>9</td></tr><tr><td>best_val_loss</td><td>0.17497</td></tr><tr><td>epoch</td><td>9</td></tr><tr><td>loss</td><td>0.19005</td></tr><tr><td>val_accuracy</td><td>0.94732</td></tr><tr><td>val_loss</td><td>0.17497</td></tr></table><br/></div></div>"
      ],
      "text/plain": [
       "<IPython.core.display.HTML object>"
      ]
     },
     "metadata": {},
     "output_type": "display_data"
    },
    {
     "data": {
      "text/html": [
       " View run <strong style=\"color:#cdcd00\">olive-sweep-18</strong> at: <a href='https://wandb.ai/manoj_da24s018-iit-madras/Transliterator_HyperParameterSweep/runs/aaq9hbjb' target=\"_blank\">https://wandb.ai/manoj_da24s018-iit-madras/Transliterator_HyperParameterSweep/runs/aaq9hbjb</a><br/> View project at: <a href='https://wandb.ai/manoj_da24s018-iit-madras/Transliterator_HyperParameterSweep' target=\"_blank\">https://wandb.ai/manoj_da24s018-iit-madras/Transliterator_HyperParameterSweep</a><br/>Synced 5 W&B file(s), 1 media file(s), 40 artifact file(s) and 1 other file(s)"
      ],
      "text/plain": [
       "<IPython.core.display.HTML object>"
      ]
     },
     "metadata": {},
     "output_type": "display_data"
    },
    {
     "data": {
      "text/html": [
       "Find logs at: <code>.\\wandb\\run-20250515_204753-aaq9hbjb\\logs</code>"
      ],
      "text/plain": [
       "<IPython.core.display.HTML object>"
      ]
     },
     "metadata": {},
     "output_type": "display_data"
    },
    {
     "name": "stderr",
     "output_type": "stream",
     "text": [
      "wandb: Agent Starting Run: w2ygfef0 with config:\n",
      "wandb: \tcell_type: lstm\n",
      "wandb: \tchar_embedding_dim: 8\n",
      "wandb: \tdecoder_layers: 3\n",
      "wandb: \tdropout: 0.1\n",
      "wandb: \tencoder_layers: 3\n",
      "wandb: \thidden_state_dim: 128\n"
     ]
    },
    {
     "data": {
      "text/html": [
       "wandb version 0.19.11 is available!  To upgrade, please run:\n",
       " $ pip install wandb --upgrade"
      ],
      "text/plain": [
       "<IPython.core.display.HTML object>"
      ]
     },
     "metadata": {},
     "output_type": "display_data"
    },
    {
     "data": {
      "text/html": [
       "Tracking run with wandb version 0.16.6"
      ],
      "text/plain": [
       "<IPython.core.display.HTML object>"
      ]
     },
     "metadata": {},
     "output_type": "display_data"
    },
    {
     "data": {
      "text/html": [
       "Run data is saved locally in <code>D:\\DL\\wandb\\run-20250515_205348-w2ygfef0</code>"
      ],
      "text/plain": [
       "<IPython.core.display.HTML object>"
      ]
     },
     "metadata": {},
     "output_type": "display_data"
    },
    {
     "data": {
      "text/html": [
       "Syncing run <strong><a href='https://wandb.ai/manoj_da24s018-iit-madras/Transliterator_HyperParameterSweep/runs/w2ygfef0' target=\"_blank\">wise-sweep-19</a></strong> to <a href='https://wandb.ai/manoj_da24s018-iit-madras/Transliterator_HyperParameterSweep' target=\"_blank\">Weights & Biases</a> (<a href='https://wandb.me/run' target=\"_blank\">docs</a>)<br/>Sweep page: <a href='https://wandb.ai/manoj_da24s018-iit-madras/Transliterator_HyperParameterSweep/sweeps/fjtuyyfs' target=\"_blank\">https://wandb.ai/manoj_da24s018-iit-madras/Transliterator_HyperParameterSweep/sweeps/fjtuyyfs</a>"
      ],
      "text/plain": [
       "<IPython.core.display.HTML object>"
      ]
     },
     "metadata": {},
     "output_type": "display_data"
    },
    {
     "data": {
      "text/html": [
       " View project at <a href='https://wandb.ai/manoj_da24s018-iit-madras/Transliterator_HyperParameterSweep' target=\"_blank\">https://wandb.ai/manoj_da24s018-iit-madras/Transliterator_HyperParameterSweep</a>"
      ],
      "text/plain": [
       "<IPython.core.display.HTML object>"
      ]
     },
     "metadata": {},
     "output_type": "display_data"
    },
    {
     "data": {
      "text/html": [
       " View sweep at <a href='https://wandb.ai/manoj_da24s018-iit-madras/Transliterator_HyperParameterSweep/sweeps/fjtuyyfs' target=\"_blank\">https://wandb.ai/manoj_da24s018-iit-madras/Transliterator_HyperParameterSweep/sweeps/fjtuyyfs</a>"
      ],
      "text/plain": [
       "<IPython.core.display.HTML object>"
      ]
     },
     "metadata": {},
     "output_type": "display_data"
    },
    {
     "data": {
      "text/html": [
       " View run at <a href='https://wandb.ai/manoj_da24s018-iit-madras/Transliterator_HyperParameterSweep/runs/w2ygfef0' target=\"_blank\">https://wandb.ai/manoj_da24s018-iit-madras/Transliterator_HyperParameterSweep/runs/w2ygfef0</a>"
      ],
      "text/plain": [
       "<IPython.core.display.HTML object>"
      ]
     },
     "metadata": {},
     "output_type": "display_data"
    },
    {
     "name": "stdout",
     "output_type": "stream",
     "text": [
      "Sweep Name:  RNN Layer Type: lstm, Character_Embedding_dim: 8, Hidden_dim:128, Num_Encoder_Layer:3, Num_Decoder_Layer:3, Dropout:0.1\n",
      "Epoch 1/10\n",
      "1582/1582 [==============================] - ETA: 0s - loss: 1.0540 - accuracy: 0.7186\n",
      "Epoch 1: Word-level Accuracy = 0.0000\n"
     ]
    },
    {
     "name": "stderr",
     "output_type": "stream",
     "text": [
      "WARNING:absl:Found untraced functions such as lstm_cell_layer_call_fn, lstm_cell_layer_call_and_return_conditional_losses, lstm_cell_1_layer_call_fn, lstm_cell_1_layer_call_and_return_conditional_losses, lstm_cell_2_layer_call_fn while saving (showing 5 of 12). These functions will not be directly callable after loading.\n"
     ]
    },
    {
     "name": "stdout",
     "output_type": "stream",
     "text": [
      "INFO:tensorflow:Assets written to: D:\\DL\\wandb\\run-20250515_205348-w2ygfef0\\files\\model-best\\assets\n"
     ]
    },
    {
     "name": "stderr",
     "output_type": "stream",
     "text": [
      "INFO:tensorflow:Assets written to: D:\\DL\\wandb\\run-20250515_205348-w2ygfef0\\files\\model-best\\assets\n",
      "wandb: Adding directory to artifact (D:\\DL\\wandb\\run-20250515_205348-w2ygfef0\\files\\model-best)... Done. 0.0s\n"
     ]
    },
    {
     "name": "stdout",
     "output_type": "stream",
     "text": [
      "1582/1582 [==============================] - 56s 32ms/step - loss: 1.0540 - accuracy: 0.7186 - val_loss: 0.8468 - val_accuracy: 0.7577 - WordAccuracy: 0.0000e+00\n",
      "Epoch 2/10\n",
      "1581/1582 [============================>.] - ETA: 0s - loss: 0.8448 - accuracy: 0.7586\n",
      "Epoch 2: Word-level Accuracy = 0.0000\n"
     ]
    },
    {
     "name": "stderr",
     "output_type": "stream",
     "text": [
      "WARNING:absl:Found untraced functions such as lstm_cell_layer_call_fn, lstm_cell_layer_call_and_return_conditional_losses, lstm_cell_1_layer_call_fn, lstm_cell_1_layer_call_and_return_conditional_losses, lstm_cell_2_layer_call_fn while saving (showing 5 of 12). These functions will not be directly callable after loading.\n"
     ]
    },
    {
     "name": "stdout",
     "output_type": "stream",
     "text": [
      "INFO:tensorflow:Assets written to: D:\\DL\\wandb\\run-20250515_205348-w2ygfef0\\files\\model-best\\assets\n"
     ]
    },
    {
     "name": "stderr",
     "output_type": "stream",
     "text": [
      "INFO:tensorflow:Assets written to: D:\\DL\\wandb\\run-20250515_205348-w2ygfef0\\files\\model-best\\assets\n",
      "wandb: Adding directory to artifact (D:\\DL\\wandb\\run-20250515_205348-w2ygfef0\\files\\model-best)... Done. 0.0s\n"
     ]
    },
    {
     "name": "stdout",
     "output_type": "stream",
     "text": [
      "1582/1582 [==============================] - 48s 31ms/step - loss: 0.8448 - accuracy: 0.7586 - val_loss: 0.7909 - val_accuracy: 0.7749 - WordAccuracy: 0.0000e+00\n",
      "Epoch 3/10\n",
      "1581/1582 [============================>.] - ETA: 0s - loss: 0.7670 - accuracy: 0.7809\n",
      "Epoch 3: Word-level Accuracy = 0.0000\n"
     ]
    },
    {
     "name": "stderr",
     "output_type": "stream",
     "text": [
      "WARNING:absl:Found untraced functions such as lstm_cell_layer_call_fn, lstm_cell_layer_call_and_return_conditional_losses, lstm_cell_1_layer_call_fn, lstm_cell_1_layer_call_and_return_conditional_losses, lstm_cell_2_layer_call_fn while saving (showing 5 of 12). These functions will not be directly callable after loading.\n"
     ]
    },
    {
     "name": "stdout",
     "output_type": "stream",
     "text": [
      "INFO:tensorflow:Assets written to: D:\\DL\\wandb\\run-20250515_205348-w2ygfef0\\files\\model-best\\assets\n"
     ]
    },
    {
     "name": "stderr",
     "output_type": "stream",
     "text": [
      "INFO:tensorflow:Assets written to: D:\\DL\\wandb\\run-20250515_205348-w2ygfef0\\files\\model-best\\assets\n",
      "wandb: Adding directory to artifact (D:\\DL\\wandb\\run-20250515_205348-w2ygfef0\\files\\model-best)... Done. 0.0s\n"
     ]
    },
    {
     "name": "stdout",
     "output_type": "stream",
     "text": [
      "1582/1582 [==============================] - 47s 30ms/step - loss: 0.7670 - accuracy: 0.7810 - val_loss: 0.7008 - val_accuracy: 0.8016 - WordAccuracy: 0.0000e+00\n",
      "Epoch 4/10\n",
      "1579/1582 [============================>.] - ETA: 0s - loss: 0.6630 - accuracy: 0.8075\n",
      "Epoch 4: Word-level Accuracy = 0.0012\n"
     ]
    },
    {
     "name": "stderr",
     "output_type": "stream",
     "text": [
      "WARNING:absl:Found untraced functions such as lstm_cell_layer_call_fn, lstm_cell_layer_call_and_return_conditional_losses, lstm_cell_1_layer_call_fn, lstm_cell_1_layer_call_and_return_conditional_losses, lstm_cell_2_layer_call_fn while saving (showing 5 of 12). These functions will not be directly callable after loading.\n"
     ]
    },
    {
     "name": "stdout",
     "output_type": "stream",
     "text": [
      "INFO:tensorflow:Assets written to: D:\\DL\\wandb\\run-20250515_205348-w2ygfef0\\files\\model-best\\assets\n"
     ]
    },
    {
     "name": "stderr",
     "output_type": "stream",
     "text": [
      "INFO:tensorflow:Assets written to: D:\\DL\\wandb\\run-20250515_205348-w2ygfef0\\files\\model-best\\assets\n",
      "wandb: Adding directory to artifact (D:\\DL\\wandb\\run-20250515_205348-w2ygfef0\\files\\model-best)... Done. 0.0s\n"
     ]
    },
    {
     "name": "stdout",
     "output_type": "stream",
     "text": [
      "1582/1582 [==============================] - 48s 30ms/step - loss: 0.6630 - accuracy: 0.8075 - val_loss: 0.5934 - val_accuracy: 0.8290 - WordAccuracy: 0.0012\n",
      "Epoch 5/10\n",
      "1582/1582 [==============================] - ETA: 0s - loss: 0.5574 - accuracy: 0.8354\n",
      "Epoch 5: Word-level Accuracy = 0.0046\n"
     ]
    },
    {
     "name": "stderr",
     "output_type": "stream",
     "text": [
      "WARNING:absl:Found untraced functions such as lstm_cell_layer_call_fn, lstm_cell_layer_call_and_return_conditional_losses, lstm_cell_1_layer_call_fn, lstm_cell_1_layer_call_and_return_conditional_losses, lstm_cell_2_layer_call_fn while saving (showing 5 of 12). These functions will not be directly callable after loading.\n"
     ]
    },
    {
     "name": "stdout",
     "output_type": "stream",
     "text": [
      "INFO:tensorflow:Assets written to: D:\\DL\\wandb\\run-20250515_205348-w2ygfef0\\files\\model-best\\assets\n"
     ]
    },
    {
     "name": "stderr",
     "output_type": "stream",
     "text": [
      "INFO:tensorflow:Assets written to: D:\\DL\\wandb\\run-20250515_205348-w2ygfef0\\files\\model-best\\assets\n",
      "wandb: Adding directory to artifact (D:\\DL\\wandb\\run-20250515_205348-w2ygfef0\\files\\model-best)... Done. 0.0s\n"
     ]
    },
    {
     "name": "stdout",
     "output_type": "stream",
     "text": [
      "1582/1582 [==============================] - 50s 31ms/step - loss: 0.5574 - accuracy: 0.8354 - val_loss: 0.5203 - val_accuracy: 0.8474 - WordAccuracy: 0.0046\n",
      "Epoch 6/10\n",
      "1582/1582 [==============================] - ETA: 0s - loss: 0.4849 - accuracy: 0.8552\n",
      "Epoch 6: Word-level Accuracy = 0.0107\n"
     ]
    },
    {
     "name": "stderr",
     "output_type": "stream",
     "text": [
      "WARNING:absl:Found untraced functions such as lstm_cell_layer_call_fn, lstm_cell_layer_call_and_return_conditional_losses, lstm_cell_1_layer_call_fn, lstm_cell_1_layer_call_and_return_conditional_losses, lstm_cell_2_layer_call_fn while saving (showing 5 of 12). These functions will not be directly callable after loading.\n"
     ]
    },
    {
     "name": "stdout",
     "output_type": "stream",
     "text": [
      "INFO:tensorflow:Assets written to: D:\\DL\\wandb\\run-20250515_205348-w2ygfef0\\files\\model-best\\assets\n"
     ]
    },
    {
     "name": "stderr",
     "output_type": "stream",
     "text": [
      "INFO:tensorflow:Assets written to: D:\\DL\\wandb\\run-20250515_205348-w2ygfef0\\files\\model-best\\assets\n",
      "wandb: Adding directory to artifact (D:\\DL\\wandb\\run-20250515_205348-w2ygfef0\\files\\model-best)... Done. 0.0s\n"
     ]
    },
    {
     "name": "stdout",
     "output_type": "stream",
     "text": [
      "1582/1582 [==============================] - 48s 30ms/step - loss: 0.4849 - accuracy: 0.8552 - val_loss: 0.4667 - val_accuracy: 0.8616 - WordAccuracy: 0.0107\n",
      "Epoch 7/10\n",
      "1580/1582 [============================>.] - ETA: 0s - loss: 0.4250 - accuracy: 0.8721\n",
      "Epoch 7: Word-level Accuracy = 0.0223\n"
     ]
    },
    {
     "name": "stderr",
     "output_type": "stream",
     "text": [
      "WARNING:absl:Found untraced functions such as lstm_cell_layer_call_fn, lstm_cell_layer_call_and_return_conditional_losses, lstm_cell_1_layer_call_fn, lstm_cell_1_layer_call_and_return_conditional_losses, lstm_cell_2_layer_call_fn while saving (showing 5 of 12). These functions will not be directly callable after loading.\n"
     ]
    },
    {
     "name": "stdout",
     "output_type": "stream",
     "text": [
      "INFO:tensorflow:Assets written to: D:\\DL\\wandb\\run-20250515_205348-w2ygfef0\\files\\model-best\\assets\n"
     ]
    },
    {
     "name": "stderr",
     "output_type": "stream",
     "text": [
      "INFO:tensorflow:Assets written to: D:\\DL\\wandb\\run-20250515_205348-w2ygfef0\\files\\model-best\\assets\n",
      "wandb: Adding directory to artifact (D:\\DL\\wandb\\run-20250515_205348-w2ygfef0\\files\\model-best)... Done. 0.0s\n"
     ]
    },
    {
     "name": "stdout",
     "output_type": "stream",
     "text": [
      "1582/1582 [==============================] - 50s 31ms/step - loss: 0.4250 - accuracy: 0.8721 - val_loss: 0.4266 - val_accuracy: 0.8725 - WordAccuracy: 0.0223\n",
      "Epoch 8/10\n",
      "1582/1582 [==============================] - ETA: 0s - loss: 0.3754 - accuracy: 0.8861\n",
      "Epoch 8: Word-level Accuracy = 0.0342\n"
     ]
    },
    {
     "name": "stderr",
     "output_type": "stream",
     "text": [
      "WARNING:absl:Found untraced functions such as lstm_cell_layer_call_fn, lstm_cell_layer_call_and_return_conditional_losses, lstm_cell_1_layer_call_fn, lstm_cell_1_layer_call_and_return_conditional_losses, lstm_cell_2_layer_call_fn while saving (showing 5 of 12). These functions will not be directly callable after loading.\n"
     ]
    },
    {
     "name": "stdout",
     "output_type": "stream",
     "text": [
      "INFO:tensorflow:Assets written to: D:\\DL\\wandb\\run-20250515_205348-w2ygfef0\\files\\model-best\\assets\n"
     ]
    },
    {
     "name": "stderr",
     "output_type": "stream",
     "text": [
      "INFO:tensorflow:Assets written to: D:\\DL\\wandb\\run-20250515_205348-w2ygfef0\\files\\model-best\\assets\n",
      "wandb: Adding directory to artifact (D:\\DL\\wandb\\run-20250515_205348-w2ygfef0\\files\\model-best)... Done. 0.0s\n"
     ]
    },
    {
     "name": "stdout",
     "output_type": "stream",
     "text": [
      "1582/1582 [==============================] - 50s 32ms/step - loss: 0.3754 - accuracy: 0.8861 - val_loss: 0.3951 - val_accuracy: 0.8827 - WordAccuracy: 0.0342\n",
      "Epoch 9/10\n",
      "1580/1582 [============================>.] - ETA: 0s - loss: 0.3355 - accuracy: 0.8980\n",
      "Epoch 9: Word-level Accuracy = 0.0497\n"
     ]
    },
    {
     "name": "stderr",
     "output_type": "stream",
     "text": [
      "WARNING:absl:Found untraced functions such as lstm_cell_layer_call_fn, lstm_cell_layer_call_and_return_conditional_losses, lstm_cell_1_layer_call_fn, lstm_cell_1_layer_call_and_return_conditional_losses, lstm_cell_2_layer_call_fn while saving (showing 5 of 12). These functions will not be directly callable after loading.\n"
     ]
    },
    {
     "name": "stdout",
     "output_type": "stream",
     "text": [
      "INFO:tensorflow:Assets written to: D:\\DL\\wandb\\run-20250515_205348-w2ygfef0\\files\\model-best\\assets\n"
     ]
    },
    {
     "name": "stderr",
     "output_type": "stream",
     "text": [
      "INFO:tensorflow:Assets written to: D:\\DL\\wandb\\run-20250515_205348-w2ygfef0\\files\\model-best\\assets\n",
      "wandb: Adding directory to artifact (D:\\DL\\wandb\\run-20250515_205348-w2ygfef0\\files\\model-best)... Done. 0.0s\n"
     ]
    },
    {
     "name": "stdout",
     "output_type": "stream",
     "text": [
      "1582/1582 [==============================] - 48s 30ms/step - loss: 0.3355 - accuracy: 0.8980 - val_loss: 0.3715 - val_accuracy: 0.8896 - WordAccuracy: 0.0497\n",
      "Epoch 10/10\n",
      "1580/1582 [============================>.] - ETA: 0s - loss: 0.2994 - accuracy: 0.9087\n",
      "Epoch 10: Word-level Accuracy = 0.0664\n"
     ]
    },
    {
     "name": "stderr",
     "output_type": "stream",
     "text": [
      "WARNING:absl:Found untraced functions such as lstm_cell_layer_call_fn, lstm_cell_layer_call_and_return_conditional_losses, lstm_cell_1_layer_call_fn, lstm_cell_1_layer_call_and_return_conditional_losses, lstm_cell_2_layer_call_fn while saving (showing 5 of 12). These functions will not be directly callable after loading.\n"
     ]
    },
    {
     "name": "stdout",
     "output_type": "stream",
     "text": [
      "INFO:tensorflow:Assets written to: D:\\DL\\wandb\\run-20250515_205348-w2ygfef0\\files\\model-best\\assets\n"
     ]
    },
    {
     "name": "stderr",
     "output_type": "stream",
     "text": [
      "INFO:tensorflow:Assets written to: D:\\DL\\wandb\\run-20250515_205348-w2ygfef0\\files\\model-best\\assets\n",
      "wandb: Adding directory to artifact (D:\\DL\\wandb\\run-20250515_205348-w2ygfef0\\files\\model-best)... Done. 0.0s\n"
     ]
    },
    {
     "name": "stdout",
     "output_type": "stream",
     "text": [
      "1582/1582 [==============================] - 51s 32ms/step - loss: 0.2994 - accuracy: 0.9087 - val_loss: 0.3424 - val_accuracy: 0.8988 - WordAccuracy: 0.0664\n"
     ]
    },
    {
     "data": {
      "application/vnd.jupyter.widget-view+json": {
       "model_id": "e0060aec761d46ae8cc0a42709125dae",
       "version_major": 2,
       "version_minor": 0
      },
      "text/plain": [
       "VBox(children=(Label(value='120.456 MB of 120.456 MB uploaded (0.347 MB deduped)\\r'), FloatProgress(value=1.0,…"
      ]
     },
     "metadata": {},
     "output_type": "display_data"
    },
    {
     "data": {
      "text/html": [
       "<style>\n",
       "    table.wandb td:nth-child(1) { padding: 0 10px; text-align: left ; width: auto;} td:nth-child(2) {text-align: left ; width: 100%}\n",
       "    .wandb-row { display: flex; flex-direction: row; flex-wrap: wrap; justify-content: flex-start; width: 100% }\n",
       "    .wandb-col { display: flex; flex-direction: column; flex-basis: 100%; flex: 1; padding: 10px; }\n",
       "    </style>\n",
       "<div class=\"wandb-row\"><div class=\"wandb-col\"><h3>Run history:</h3><br/><table class=\"wandb\"><tr><td>Val_WordAccuracy</td><td>▁▁▁▁▁▂▃▅▆█</td></tr><tr><td>WordAccuracy</td><td>▁▁▁▁▁▂▃▅▆█</td></tr><tr><td>accuracy</td><td>▁▂▃▄▅▆▇▇██</td></tr><tr><td>epoch</td><td>▂▁▂▂▃▂▄▃▅▄▅▅▆▅▇▆▇▇█▇</td></tr><tr><td>loss</td><td>█▆▅▄▃▃▂▂▁▁</td></tr><tr><td>val_accuracy</td><td>▁▂▃▅▅▆▇▇██</td></tr><tr><td>val_loss</td><td>█▇▆▄▃▃▂▂▁▁</td></tr></table><br/></div><div class=\"wandb-col\"><h3>Run summary:</h3><br/><table class=\"wandb\"><tr><td>Val_WordAccuracy</td><td>0.06644</td></tr><tr><td>WordAccuracy</td><td>0.06644</td></tr><tr><td>accuracy</td><td>0.90873</td></tr><tr><td>best_epoch</td><td>9</td></tr><tr><td>best_val_loss</td><td>0.34242</td></tr><tr><td>epoch</td><td>9</td></tr><tr><td>loss</td><td>0.29943</td></tr><tr><td>val_accuracy</td><td>0.89882</td></tr><tr><td>val_loss</td><td>0.34242</td></tr></table><br/></div></div>"
      ],
      "text/plain": [
       "<IPython.core.display.HTML object>"
      ]
     },
     "metadata": {},
     "output_type": "display_data"
    },
    {
     "data": {
      "text/html": [
       " View run <strong style=\"color:#cdcd00\">wise-sweep-19</strong> at: <a href='https://wandb.ai/manoj_da24s018-iit-madras/Transliterator_HyperParameterSweep/runs/w2ygfef0' target=\"_blank\">https://wandb.ai/manoj_da24s018-iit-madras/Transliterator_HyperParameterSweep/runs/w2ygfef0</a><br/> View project at: <a href='https://wandb.ai/manoj_da24s018-iit-madras/Transliterator_HyperParameterSweep' target=\"_blank\">https://wandb.ai/manoj_da24s018-iit-madras/Transliterator_HyperParameterSweep</a><br/>Synced 5 W&B file(s), 1 media file(s), 40 artifact file(s) and 1 other file(s)"
      ],
      "text/plain": [
       "<IPython.core.display.HTML object>"
      ]
     },
     "metadata": {},
     "output_type": "display_data"
    },
    {
     "data": {
      "text/html": [
       "Find logs at: <code>.\\wandb\\run-20250515_205348-w2ygfef0\\logs</code>"
      ],
      "text/plain": [
       "<IPython.core.display.HTML object>"
      ]
     },
     "metadata": {},
     "output_type": "display_data"
    },
    {
     "name": "stderr",
     "output_type": "stream",
     "text": [
      "wandb: Sweep Agent: Waiting for job.\n",
      "wandb: Job received.\n",
      "wandb: Agent Starting Run: kx0w8vu0 with config:\n",
      "wandb: \tcell_type: rnn\n",
      "wandb: \tchar_embedding_dim: 32\n",
      "wandb: \tdecoder_layers: 2\n",
      "wandb: \tdropout: 0.3\n",
      "wandb: \tencoder_layers: 3\n",
      "wandb: \thidden_state_dim: 64\n"
     ]
    },
    {
     "data": {
      "text/html": [
       "wandb version 0.19.11 is available!  To upgrade, please run:\n",
       " $ pip install wandb --upgrade"
      ],
      "text/plain": [
       "<IPython.core.display.HTML object>"
      ]
     },
     "metadata": {},
     "output_type": "display_data"
    },
    {
     "data": {
      "text/html": [
       "Tracking run with wandb version 0.16.6"
      ],
      "text/plain": [
       "<IPython.core.display.HTML object>"
      ]
     },
     "metadata": {},
     "output_type": "display_data"
    },
    {
     "data": {
      "text/html": [
       "Run data is saved locally in <code>D:\\DL\\wandb\\run-20250515_210232-kx0w8vu0</code>"
      ],
      "text/plain": [
       "<IPython.core.display.HTML object>"
      ]
     },
     "metadata": {},
     "output_type": "display_data"
    },
    {
     "data": {
      "text/html": [
       "Syncing run <strong><a href='https://wandb.ai/manoj_da24s018-iit-madras/Transliterator_HyperParameterSweep/runs/kx0w8vu0' target=\"_blank\">vocal-sweep-20</a></strong> to <a href='https://wandb.ai/manoj_da24s018-iit-madras/Transliterator_HyperParameterSweep' target=\"_blank\">Weights & Biases</a> (<a href='https://wandb.me/run' target=\"_blank\">docs</a>)<br/>Sweep page: <a href='https://wandb.ai/manoj_da24s018-iit-madras/Transliterator_HyperParameterSweep/sweeps/fjtuyyfs' target=\"_blank\">https://wandb.ai/manoj_da24s018-iit-madras/Transliterator_HyperParameterSweep/sweeps/fjtuyyfs</a>"
      ],
      "text/plain": [
       "<IPython.core.display.HTML object>"
      ]
     },
     "metadata": {},
     "output_type": "display_data"
    },
    {
     "data": {
      "text/html": [
       " View project at <a href='https://wandb.ai/manoj_da24s018-iit-madras/Transliterator_HyperParameterSweep' target=\"_blank\">https://wandb.ai/manoj_da24s018-iit-madras/Transliterator_HyperParameterSweep</a>"
      ],
      "text/plain": [
       "<IPython.core.display.HTML object>"
      ]
     },
     "metadata": {},
     "output_type": "display_data"
    },
    {
     "data": {
      "text/html": [
       " View sweep at <a href='https://wandb.ai/manoj_da24s018-iit-madras/Transliterator_HyperParameterSweep/sweeps/fjtuyyfs' target=\"_blank\">https://wandb.ai/manoj_da24s018-iit-madras/Transliterator_HyperParameterSweep/sweeps/fjtuyyfs</a>"
      ],
      "text/plain": [
       "<IPython.core.display.HTML object>"
      ]
     },
     "metadata": {},
     "output_type": "display_data"
    },
    {
     "data": {
      "text/html": [
       " View run at <a href='https://wandb.ai/manoj_da24s018-iit-madras/Transliterator_HyperParameterSweep/runs/kx0w8vu0' target=\"_blank\">https://wandb.ai/manoj_da24s018-iit-madras/Transliterator_HyperParameterSweep/runs/kx0w8vu0</a>"
      ],
      "text/plain": [
       "<IPython.core.display.HTML object>"
      ]
     },
     "metadata": {},
     "output_type": "display_data"
    },
    {
     "name": "stdout",
     "output_type": "stream",
     "text": [
      "Sweep Name:  RNN Layer Type: rnn, Character_Embedding_dim: 32, Hidden_dim:64, Num_Encoder_Layer:3, Num_Decoder_Layer:2, Dropout:0.3\n",
      "Epoch 1/10\n",
      "1582/1582 [==============================] - ETA: 0s - loss: 1.0007 - accuracy: 0.7283\n",
      "Epoch 1: Word-level Accuracy = 0.0000\n",
      "INFO:tensorflow:Assets written to: D:\\DL\\wandb\\run-20250515_210232-kx0w8vu0\\files\\model-best\\assets\n"
     ]
    },
    {
     "name": "stderr",
     "output_type": "stream",
     "text": [
      "INFO:tensorflow:Assets written to: D:\\DL\\wandb\\run-20250515_210232-kx0w8vu0\\files\\model-best\\assets\n",
      "wandb: Adding directory to artifact (D:\\DL\\wandb\\run-20250515_210232-kx0w8vu0\\files\\model-best)... Done. 0.0s\n"
     ]
    },
    {
     "name": "stdout",
     "output_type": "stream",
     "text": [
      "1582/1582 [==============================] - 168s 104ms/step - loss: 1.0007 - accuracy: 0.7283 - val_loss: 0.8375 - val_accuracy: 0.7667 - WordAccuracy: 0.0000e+00\n",
      "Epoch 2/10\n",
      "1582/1582 [==============================] - ETA: 0s - loss: 0.8427 - accuracy: 0.7633\n",
      "Epoch 2: Word-level Accuracy = 0.0000\n",
      "INFO:tensorflow:Assets written to: D:\\DL\\wandb\\run-20250515_210232-kx0w8vu0\\files\\model-best\\assets\n"
     ]
    },
    {
     "name": "stderr",
     "output_type": "stream",
     "text": [
      "INFO:tensorflow:Assets written to: D:\\DL\\wandb\\run-20250515_210232-kx0w8vu0\\files\\model-best\\assets\n",
      "wandb: Adding directory to artifact (D:\\DL\\wandb\\run-20250515_210232-kx0w8vu0\\files\\model-best)... Done. 0.0s\n"
     ]
    },
    {
     "name": "stdout",
     "output_type": "stream",
     "text": [
      "1582/1582 [==============================] - 161s 102ms/step - loss: 0.8427 - accuracy: 0.7633 - val_loss: 0.7402 - val_accuracy: 0.7895 - WordAccuracy: 0.0000e+00\n",
      "Epoch 3/10\n",
      "1582/1582 [==============================] - ETA: 0s - loss: 0.7568 - accuracy: 0.7841\n",
      "Epoch 3: Word-level Accuracy = 0.0000\n",
      "INFO:tensorflow:Assets written to: D:\\DL\\wandb\\run-20250515_210232-kx0w8vu0\\files\\model-best\\assets\n"
     ]
    },
    {
     "name": "stderr",
     "output_type": "stream",
     "text": [
      "INFO:tensorflow:Assets written to: D:\\DL\\wandb\\run-20250515_210232-kx0w8vu0\\files\\model-best\\assets\n",
      "wandb: Adding directory to artifact (D:\\DL\\wandb\\run-20250515_210232-kx0w8vu0\\files\\model-best)... Done. 0.0s\n"
     ]
    },
    {
     "name": "stdout",
     "output_type": "stream",
     "text": [
      "1582/1582 [==============================] - 165s 104ms/step - loss: 0.7568 - accuracy: 0.7841 - val_loss: 0.6827 - val_accuracy: 0.8026 - WordAccuracy: 0.0000e+00\n",
      "Epoch 4/10\n",
      "1582/1582 [==============================] - ETA: 0s - loss: 0.7148 - accuracy: 0.7938\n",
      "Epoch 4: Word-level Accuracy = 0.0000\n",
      "INFO:tensorflow:Assets written to: D:\\DL\\wandb\\run-20250515_210232-kx0w8vu0\\files\\model-best\\assets\n"
     ]
    },
    {
     "name": "stderr",
     "output_type": "stream",
     "text": [
      "INFO:tensorflow:Assets written to: D:\\DL\\wandb\\run-20250515_210232-kx0w8vu0\\files\\model-best\\assets\n",
      "wandb: Adding directory to artifact (D:\\DL\\wandb\\run-20250515_210232-kx0w8vu0\\files\\model-best)... Done. 0.0s\n"
     ]
    },
    {
     "name": "stdout",
     "output_type": "stream",
     "text": [
      "1582/1582 [==============================] - 163s 103ms/step - loss: 0.7148 - accuracy: 0.7938 - val_loss: 0.6515 - val_accuracy: 0.8108 - WordAccuracy: 0.0000e+00\n",
      "Epoch 5/10\n",
      "1582/1582 [==============================] - ETA: 0s - loss: 0.6889 - accuracy: 0.8008\n",
      "Epoch 5: Word-level Accuracy = 0.0006\n",
      "INFO:tensorflow:Assets written to: D:\\DL\\wandb\\run-20250515_210232-kx0w8vu0\\files\\model-best\\assets\n"
     ]
    },
    {
     "name": "stderr",
     "output_type": "stream",
     "text": [
      "INFO:tensorflow:Assets written to: D:\\DL\\wandb\\run-20250515_210232-kx0w8vu0\\files\\model-best\\assets\n",
      "wandb: Adding directory to artifact (D:\\DL\\wandb\\run-20250515_210232-kx0w8vu0\\files\\model-best)... Done. 0.0s\n"
     ]
    },
    {
     "name": "stdout",
     "output_type": "stream",
     "text": [
      "1582/1582 [==============================] - 160s 101ms/step - loss: 0.6889 - accuracy: 0.8008 - val_loss: 0.6183 - val_accuracy: 0.8214 - WordAccuracy: 5.9678e-04\n",
      "Epoch 6/10\n",
      "1582/1582 [==============================] - ETA: 0s - loss: 0.6667 - accuracy: 0.8066\n",
      "Epoch 6: Word-level Accuracy = 0.0008\n",
      "INFO:tensorflow:Assets written to: D:\\DL\\wandb\\run-20250515_210232-kx0w8vu0\\files\\model-best\\assets\n"
     ]
    },
    {
     "name": "stderr",
     "output_type": "stream",
     "text": [
      "INFO:tensorflow:Assets written to: D:\\DL\\wandb\\run-20250515_210232-kx0w8vu0\\files\\model-best\\assets\n",
      "wandb: Adding directory to artifact (D:\\DL\\wandb\\run-20250515_210232-kx0w8vu0\\files\\model-best)... Done. 0.0s\n"
     ]
    },
    {
     "name": "stdout",
     "output_type": "stream",
     "text": [
      "1582/1582 [==============================] - 160s 101ms/step - loss: 0.6667 - accuracy: 0.8066 - val_loss: 0.6064 - val_accuracy: 0.8252 - WordAccuracy: 7.9570e-04\n",
      "Epoch 7/10\n",
      "1582/1582 [==============================] - ETA: 0s - loss: 0.6471 - accuracy: 0.8121\n",
      "Epoch 7: Word-level Accuracy = 0.0006\n",
      "INFO:tensorflow:Assets written to: D:\\DL\\wandb\\run-20250515_210232-kx0w8vu0\\files\\model-best\\assets\n"
     ]
    },
    {
     "name": "stderr",
     "output_type": "stream",
     "text": [
      "INFO:tensorflow:Assets written to: D:\\DL\\wandb\\run-20250515_210232-kx0w8vu0\\files\\model-best\\assets\n",
      "wandb: Adding directory to artifact (D:\\DL\\wandb\\run-20250515_210232-kx0w8vu0\\files\\model-best)... Done. 0.0s\n"
     ]
    },
    {
     "name": "stdout",
     "output_type": "stream",
     "text": [
      "1582/1582 [==============================] - 166s 105ms/step - loss: 0.6471 - accuracy: 0.8121 - val_loss: 0.5915 - val_accuracy: 0.8289 - WordAccuracy: 5.9678e-04\n",
      "Epoch 8/10\n",
      "1582/1582 [==============================] - ETA: 0s - loss: 0.6319 - accuracy: 0.8163\n",
      "Epoch 8: Word-level Accuracy = 0.0014\n",
      "INFO:tensorflow:Assets written to: D:\\DL\\wandb\\run-20250515_210232-kx0w8vu0\\files\\model-best\\assets\n"
     ]
    },
    {
     "name": "stderr",
     "output_type": "stream",
     "text": [
      "INFO:tensorflow:Assets written to: D:\\DL\\wandb\\run-20250515_210232-kx0w8vu0\\files\\model-best\\assets\n",
      "wandb: Adding directory to artifact (D:\\DL\\wandb\\run-20250515_210232-kx0w8vu0\\files\\model-best)... Done. 0.0s\n"
     ]
    },
    {
     "name": "stdout",
     "output_type": "stream",
     "text": [
      "1582/1582 [==============================] - 172s 109ms/step - loss: 0.6319 - accuracy: 0.8163 - val_loss: 0.5811 - val_accuracy: 0.8328 - WordAccuracy: 0.0014\n",
      "Epoch 9/10\n",
      "1582/1582 [==============================] - ETA: 0s - loss: 0.6188 - accuracy: 0.8197\n",
      "Epoch 9: Word-level Accuracy = 0.0012\n",
      "INFO:tensorflow:Assets written to: D:\\DL\\wandb\\run-20250515_210232-kx0w8vu0\\files\\model-best\\assets\n"
     ]
    },
    {
     "name": "stderr",
     "output_type": "stream",
     "text": [
      "INFO:tensorflow:Assets written to: D:\\DL\\wandb\\run-20250515_210232-kx0w8vu0\\files\\model-best\\assets\n",
      "wandb: Adding directory to artifact (D:\\DL\\wandb\\run-20250515_210232-kx0w8vu0\\files\\model-best)... Done. 0.0s\n"
     ]
    },
    {
     "name": "stdout",
     "output_type": "stream",
     "text": [
      "1582/1582 [==============================] - 164s 104ms/step - loss: 0.6188 - accuracy: 0.8197 - val_loss: 0.5667 - val_accuracy: 0.8363 - WordAccuracy: 0.0012\n",
      "Epoch 10/10\n",
      "1582/1582 [==============================] - ETA: 0s - loss: 0.6100 - accuracy: 0.8222\n",
      "Epoch 10: Word-level Accuracy = 0.0008\n",
      "INFO:tensorflow:Assets written to: D:\\DL\\wandb\\run-20250515_210232-kx0w8vu0\\files\\model-best\\assets\n"
     ]
    },
    {
     "name": "stderr",
     "output_type": "stream",
     "text": [
      "INFO:tensorflow:Assets written to: D:\\DL\\wandb\\run-20250515_210232-kx0w8vu0\\files\\model-best\\assets\n",
      "wandb: Adding directory to artifact (D:\\DL\\wandb\\run-20250515_210232-kx0w8vu0\\files\\model-best)... Done. 0.0s\n"
     ]
    },
    {
     "name": "stdout",
     "output_type": "stream",
     "text": [
      "1582/1582 [==============================] - 170s 108ms/step - loss: 0.6100 - accuracy: 0.8222 - val_loss: 0.5579 - val_accuracy: 0.8389 - WordAccuracy: 7.9570e-04\n"
     ]
    },
    {
     "data": {
      "application/vnd.jupyter.widget-view+json": {
       "model_id": "8747a5b0593e4219980b5fdc47ef0a1c",
       "version_major": 2,
       "version_minor": 0
      },
      "text/plain": [
       "VBox(children=(Label(value='17.851 MB of 17.851 MB uploaded (0.295 MB deduped)\\r'), FloatProgress(value=1.0, m…"
      ]
     },
     "metadata": {},
     "output_type": "display_data"
    },
    {
     "data": {
      "text/html": [
       "W&B sync reduced upload amount by 1.6%             "
      ],
      "text/plain": [
       "<IPython.core.display.HTML object>"
      ]
     },
     "metadata": {},
     "output_type": "display_data"
    },
    {
     "data": {
      "text/html": [
       "<style>\n",
       "    table.wandb td:nth-child(1) { padding: 0 10px; text-align: left ; width: auto;} td:nth-child(2) {text-align: left ; width: 100%}\n",
       "    .wandb-row { display: flex; flex-direction: row; flex-wrap: wrap; justify-content: flex-start; width: 100% }\n",
       "    .wandb-col { display: flex; flex-direction: column; flex-basis: 100%; flex: 1; padding: 10px; }\n",
       "    </style>\n",
       "<div class=\"wandb-row\"><div class=\"wandb-col\"><h3>Run history:</h3><br/><table class=\"wandb\"><tr><td>Val_WordAccuracy</td><td>▁▁▁▁▄▅▄█▇▅</td></tr><tr><td>WordAccuracy</td><td>▁▁▁▁▄▅▄█▇▅</td></tr><tr><td>accuracy</td><td>▁▄▅▆▆▇▇███</td></tr><tr><td>epoch</td><td>▂▁▂▂▃▂▄▃▅▄▅▅▆▅▇▆▇▇█▇</td></tr><tr><td>loss</td><td>█▅▄▃▂▂▂▁▁▁</td></tr><tr><td>val_accuracy</td><td>▁▃▄▅▆▇▇▇██</td></tr><tr><td>val_loss</td><td>█▆▄▃▃▂▂▂▁▁</td></tr></table><br/></div><div class=\"wandb-col\"><h3>Run summary:</h3><br/><table class=\"wandb\"><tr><td>Val_WordAccuracy</td><td>0.0008</td></tr><tr><td>WordAccuracy</td><td>0.0008</td></tr><tr><td>accuracy</td><td>0.8222</td></tr><tr><td>best_epoch</td><td>9</td></tr><tr><td>best_val_loss</td><td>0.55792</td></tr><tr><td>epoch</td><td>9</td></tr><tr><td>loss</td><td>0.61003</td></tr><tr><td>val_accuracy</td><td>0.8389</td></tr><tr><td>val_loss</td><td>0.55792</td></tr></table><br/></div></div>"
      ],
      "text/plain": [
       "<IPython.core.display.HTML object>"
      ]
     },
     "metadata": {},
     "output_type": "display_data"
    },
    {
     "data": {
      "text/html": [
       " View run <strong style=\"color:#cdcd00\">vocal-sweep-20</strong> at: <a href='https://wandb.ai/manoj_da24s018-iit-madras/Transliterator_HyperParameterSweep/runs/kx0w8vu0' target=\"_blank\">https://wandb.ai/manoj_da24s018-iit-madras/Transliterator_HyperParameterSweep/runs/kx0w8vu0</a><br/> View project at: <a href='https://wandb.ai/manoj_da24s018-iit-madras/Transliterator_HyperParameterSweep' target=\"_blank\">https://wandb.ai/manoj_da24s018-iit-madras/Transliterator_HyperParameterSweep</a><br/>Synced 5 W&B file(s), 1 media file(s), 40 artifact file(s) and 1 other file(s)"
      ],
      "text/plain": [
       "<IPython.core.display.HTML object>"
      ]
     },
     "metadata": {},
     "output_type": "display_data"
    },
    {
     "data": {
      "text/html": [
       "Find logs at: <code>.\\wandb\\run-20250515_210232-kx0w8vu0\\logs</code>"
      ],
      "text/plain": [
       "<IPython.core.display.HTML object>"
      ]
     },
     "metadata": {},
     "output_type": "display_data"
    },
    {
     "name": "stderr",
     "output_type": "stream",
     "text": [
      "wandb: Sweep Agent: Waiting for job.\n",
      "wandb: Job received.\n",
      "wandb: Agent Starting Run: k273wf96 with config:\n",
      "wandb: \tcell_type: lstm\n",
      "wandb: \tchar_embedding_dim: 12\n",
      "wandb: \tdecoder_layers: 3\n",
      "wandb: \tdropout: 0.4\n",
      "wandb: \tencoder_layers: 2\n",
      "wandb: \thidden_state_dim: 256\n"
     ]
    },
    {
     "data": {
      "text/html": [
       "wandb version 0.19.11 is available!  To upgrade, please run:\n",
       " $ pip install wandb --upgrade"
      ],
      "text/plain": [
       "<IPython.core.display.HTML object>"
      ]
     },
     "metadata": {},
     "output_type": "display_data"
    },
    {
     "data": {
      "text/html": [
       "Tracking run with wandb version 0.16.6"
      ],
      "text/plain": [
       "<IPython.core.display.HTML object>"
      ]
     },
     "metadata": {},
     "output_type": "display_data"
    },
    {
     "data": {
      "text/html": [
       "Run data is saved locally in <code>D:\\DL\\wandb\\run-20250515_213027-k273wf96</code>"
      ],
      "text/plain": [
       "<IPython.core.display.HTML object>"
      ]
     },
     "metadata": {},
     "output_type": "display_data"
    },
    {
     "data": {
      "text/html": [
       "Syncing run <strong><a href='https://wandb.ai/manoj_da24s018-iit-madras/Transliterator_HyperParameterSweep/runs/k273wf96' target=\"_blank\">copper-sweep-21</a></strong> to <a href='https://wandb.ai/manoj_da24s018-iit-madras/Transliterator_HyperParameterSweep' target=\"_blank\">Weights & Biases</a> (<a href='https://wandb.me/run' target=\"_blank\">docs</a>)<br/>Sweep page: <a href='https://wandb.ai/manoj_da24s018-iit-madras/Transliterator_HyperParameterSweep/sweeps/fjtuyyfs' target=\"_blank\">https://wandb.ai/manoj_da24s018-iit-madras/Transliterator_HyperParameterSweep/sweeps/fjtuyyfs</a>"
      ],
      "text/plain": [
       "<IPython.core.display.HTML object>"
      ]
     },
     "metadata": {},
     "output_type": "display_data"
    },
    {
     "data": {
      "text/html": [
       " View project at <a href='https://wandb.ai/manoj_da24s018-iit-madras/Transliterator_HyperParameterSweep' target=\"_blank\">https://wandb.ai/manoj_da24s018-iit-madras/Transliterator_HyperParameterSweep</a>"
      ],
      "text/plain": [
       "<IPython.core.display.HTML object>"
      ]
     },
     "metadata": {},
     "output_type": "display_data"
    },
    {
     "data": {
      "text/html": [
       " View sweep at <a href='https://wandb.ai/manoj_da24s018-iit-madras/Transliterator_HyperParameterSweep/sweeps/fjtuyyfs' target=\"_blank\">https://wandb.ai/manoj_da24s018-iit-madras/Transliterator_HyperParameterSweep/sweeps/fjtuyyfs</a>"
      ],
      "text/plain": [
       "<IPython.core.display.HTML object>"
      ]
     },
     "metadata": {},
     "output_type": "display_data"
    },
    {
     "data": {
      "text/html": [
       " View run at <a href='https://wandb.ai/manoj_da24s018-iit-madras/Transliterator_HyperParameterSweep/runs/k273wf96' target=\"_blank\">https://wandb.ai/manoj_da24s018-iit-madras/Transliterator_HyperParameterSweep/runs/k273wf96</a>"
      ],
      "text/plain": [
       "<IPython.core.display.HTML object>"
      ]
     },
     "metadata": {},
     "output_type": "display_data"
    },
    {
     "name": "stdout",
     "output_type": "stream",
     "text": [
      "Sweep Name:  RNN Layer Type: lstm, Character_Embedding_dim: 12, Hidden_dim:256, Num_Encoder_Layer:2, Num_Decoder_Layer:3, Dropout:0.4\n",
      "Epoch 1/10\n",
      "1580/1582 [============================>.] - ETA: 0s - loss: 1.0421 - accuracy: 0.7186\n",
      "Epoch 1: Word-level Accuracy = 0.0000\n"
     ]
    },
    {
     "name": "stderr",
     "output_type": "stream",
     "text": [
      "WARNING:absl:Found untraced functions such as lstm_cell_layer_call_fn, lstm_cell_layer_call_and_return_conditional_losses, lstm_cell_1_layer_call_fn, lstm_cell_1_layer_call_and_return_conditional_losses, lstm_cell_2_layer_call_fn while saving (showing 5 of 10). These functions will not be directly callable after loading.\n"
     ]
    },
    {
     "name": "stdout",
     "output_type": "stream",
     "text": [
      "INFO:tensorflow:Assets written to: D:\\DL\\wandb\\run-20250515_213027-k273wf96\\files\\model-best\\assets\n"
     ]
    },
    {
     "name": "stderr",
     "output_type": "stream",
     "text": [
      "INFO:tensorflow:Assets written to: D:\\DL\\wandb\\run-20250515_213027-k273wf96\\files\\model-best\\assets\n",
      "wandb: Adding directory to artifact (D:\\DL\\wandb\\run-20250515_213027-k273wf96\\files\\model-best)... Done. 0.0s\n"
     ]
    },
    {
     "name": "stdout",
     "output_type": "stream",
     "text": [
      "1582/1582 [==============================] - 47s 27ms/step - loss: 1.0419 - accuracy: 0.7186 - val_loss: 0.8283 - val_accuracy: 0.7627 - WordAccuracy: 0.0000e+00\n",
      "Epoch 2/10\n",
      "1580/1582 [============================>.] - ETA: 0s - loss: 0.8060 - accuracy: 0.7670\n",
      "Epoch 2: Word-level Accuracy = 0.0002\n"
     ]
    },
    {
     "name": "stderr",
     "output_type": "stream",
     "text": [
      "WARNING:absl:Found untraced functions such as lstm_cell_layer_call_fn, lstm_cell_layer_call_and_return_conditional_losses, lstm_cell_1_layer_call_fn, lstm_cell_1_layer_call_and_return_conditional_losses, lstm_cell_2_layer_call_fn while saving (showing 5 of 10). These functions will not be directly callable after loading.\n"
     ]
    },
    {
     "name": "stdout",
     "output_type": "stream",
     "text": [
      "INFO:tensorflow:Assets written to: D:\\DL\\wandb\\run-20250515_213027-k273wf96\\files\\model-best\\assets\n"
     ]
    },
    {
     "name": "stderr",
     "output_type": "stream",
     "text": [
      "INFO:tensorflow:Assets written to: D:\\DL\\wandb\\run-20250515_213027-k273wf96\\files\\model-best\\assets\n",
      "wandb: Adding directory to artifact (D:\\DL\\wandb\\run-20250515_213027-k273wf96\\files\\model-best)... Done. 0.1s\n"
     ]
    },
    {
     "name": "stdout",
     "output_type": "stream",
     "text": [
      "1582/1582 [==============================] - 43s 27ms/step - loss: 0.8059 - accuracy: 0.7670 - val_loss: 0.7098 - val_accuracy: 0.7967 - WordAccuracy: 1.9893e-04\n",
      "Epoch 3/10\n",
      "1580/1582 [============================>.] - ETA: 0s - loss: 0.6849 - accuracy: 0.7986\n",
      "Epoch 3: Word-level Accuracy = 0.0008\n"
     ]
    },
    {
     "name": "stderr",
     "output_type": "stream",
     "text": [
      "WARNING:absl:Found untraced functions such as lstm_cell_layer_call_fn, lstm_cell_layer_call_and_return_conditional_losses, lstm_cell_1_layer_call_fn, lstm_cell_1_layer_call_and_return_conditional_losses, lstm_cell_2_layer_call_fn while saving (showing 5 of 10). These functions will not be directly callable after loading.\n"
     ]
    },
    {
     "name": "stdout",
     "output_type": "stream",
     "text": [
      "INFO:tensorflow:Assets written to: D:\\DL\\wandb\\run-20250515_213027-k273wf96\\files\\model-best\\assets\n"
     ]
    },
    {
     "name": "stderr",
     "output_type": "stream",
     "text": [
      "INFO:tensorflow:Assets written to: D:\\DL\\wandb\\run-20250515_213027-k273wf96\\files\\model-best\\assets\n",
      "wandb: Adding directory to artifact (D:\\DL\\wandb\\run-20250515_213027-k273wf96\\files\\model-best)... Done. 0.0s\n"
     ]
    },
    {
     "name": "stdout",
     "output_type": "stream",
     "text": [
      "1582/1582 [==============================] - 42s 27ms/step - loss: 0.6849 - accuracy: 0.7986 - val_loss: 0.5984 - val_accuracy: 0.8243 - WordAccuracy: 7.9570e-04\n",
      "Epoch 4/10\n",
      "1580/1582 [============================>.] - ETA: 0s - loss: 0.5724 - accuracy: 0.8279\n",
      "Epoch 4: Word-level Accuracy = 0.0064\n"
     ]
    },
    {
     "name": "stderr",
     "output_type": "stream",
     "text": [
      "WARNING:absl:Found untraced functions such as lstm_cell_layer_call_fn, lstm_cell_layer_call_and_return_conditional_losses, lstm_cell_1_layer_call_fn, lstm_cell_1_layer_call_and_return_conditional_losses, lstm_cell_2_layer_call_fn while saving (showing 5 of 10). These functions will not be directly callable after loading.\n"
     ]
    },
    {
     "name": "stdout",
     "output_type": "stream",
     "text": [
      "INFO:tensorflow:Assets written to: D:\\DL\\wandb\\run-20250515_213027-k273wf96\\files\\model-best\\assets\n"
     ]
    },
    {
     "name": "stderr",
     "output_type": "stream",
     "text": [
      "INFO:tensorflow:Assets written to: D:\\DL\\wandb\\run-20250515_213027-k273wf96\\files\\model-best\\assets\n",
      "wandb: Adding directory to artifact (D:\\DL\\wandb\\run-20250515_213027-k273wf96\\files\\model-best)... Done. 0.1s\n"
     ]
    },
    {
     "name": "stdout",
     "output_type": "stream",
     "text": [
      "1582/1582 [==============================] - 43s 27ms/step - loss: 0.5723 - accuracy: 0.8279 - val_loss: 0.5212 - val_accuracy: 0.8456 - WordAccuracy: 0.0064\n",
      "Epoch 5/10\n",
      "1580/1582 [============================>.] - ETA: 0s - loss: 0.4861 - accuracy: 0.8527\n",
      "Epoch 5: Word-level Accuracy = 0.0203\n"
     ]
    },
    {
     "name": "stderr",
     "output_type": "stream",
     "text": [
      "WARNING:absl:Found untraced functions such as lstm_cell_layer_call_fn, lstm_cell_layer_call_and_return_conditional_losses, lstm_cell_1_layer_call_fn, lstm_cell_1_layer_call_and_return_conditional_losses, lstm_cell_2_layer_call_fn while saving (showing 5 of 10). These functions will not be directly callable after loading.\n"
     ]
    },
    {
     "name": "stdout",
     "output_type": "stream",
     "text": [
      "INFO:tensorflow:Assets written to: D:\\DL\\wandb\\run-20250515_213027-k273wf96\\files\\model-best\\assets\n"
     ]
    },
    {
     "name": "stderr",
     "output_type": "stream",
     "text": [
      "INFO:tensorflow:Assets written to: D:\\DL\\wandb\\run-20250515_213027-k273wf96\\files\\model-best\\assets\n",
      "wandb: Adding directory to artifact (D:\\DL\\wandb\\run-20250515_213027-k273wf96\\files\\model-best)... Done. 0.1s\n"
     ]
    },
    {
     "name": "stdout",
     "output_type": "stream",
     "text": [
      "1582/1582 [==============================] - 41s 26ms/step - loss: 0.4861 - accuracy: 0.8527 - val_loss: 0.4475 - val_accuracy: 0.8669 - WordAccuracy: 0.0203\n",
      "Epoch 6/10\n",
      "1582/1582 [==============================] - ETA: 0s - loss: 0.4114 - accuracy: 0.8744\n",
      "Epoch 6: Word-level Accuracy = 0.0420\n"
     ]
    },
    {
     "name": "stderr",
     "output_type": "stream",
     "text": [
      "WARNING:absl:Found untraced functions such as lstm_cell_layer_call_fn, lstm_cell_layer_call_and_return_conditional_losses, lstm_cell_1_layer_call_fn, lstm_cell_1_layer_call_and_return_conditional_losses, lstm_cell_2_layer_call_fn while saving (showing 5 of 10). These functions will not be directly callable after loading.\n"
     ]
    },
    {
     "name": "stdout",
     "output_type": "stream",
     "text": [
      "INFO:tensorflow:Assets written to: D:\\DL\\wandb\\run-20250515_213027-k273wf96\\files\\model-best\\assets\n"
     ]
    },
    {
     "name": "stderr",
     "output_type": "stream",
     "text": [
      "INFO:tensorflow:Assets written to: D:\\DL\\wandb\\run-20250515_213027-k273wf96\\files\\model-best\\assets\n",
      "wandb: Adding directory to artifact (D:\\DL\\wandb\\run-20250515_213027-k273wf96\\files\\model-best)... Done. 0.1s\n"
     ]
    },
    {
     "name": "stdout",
     "output_type": "stream",
     "text": [
      "1582/1582 [==============================] - 42s 26ms/step - loss: 0.4114 - accuracy: 0.8744 - val_loss: 0.3945 - val_accuracy: 0.8824 - WordAccuracy: 0.0420\n",
      "Epoch 7/10\n",
      "1581/1582 [============================>.] - ETA: 0s - loss: 0.3521 - accuracy: 0.8917\n",
      "Epoch 7: Word-level Accuracy = 0.0664\n"
     ]
    },
    {
     "name": "stderr",
     "output_type": "stream",
     "text": [
      "WARNING:absl:Found untraced functions such as lstm_cell_layer_call_fn, lstm_cell_layer_call_and_return_conditional_losses, lstm_cell_1_layer_call_fn, lstm_cell_1_layer_call_and_return_conditional_losses, lstm_cell_2_layer_call_fn while saving (showing 5 of 10). These functions will not be directly callable after loading.\n"
     ]
    },
    {
     "name": "stdout",
     "output_type": "stream",
     "text": [
      "INFO:tensorflow:Assets written to: D:\\DL\\wandb\\run-20250515_213027-k273wf96\\files\\model-best\\assets\n"
     ]
    },
    {
     "name": "stderr",
     "output_type": "stream",
     "text": [
      "INFO:tensorflow:Assets written to: D:\\DL\\wandb\\run-20250515_213027-k273wf96\\files\\model-best\\assets\n",
      "wandb: Adding directory to artifact (D:\\DL\\wandb\\run-20250515_213027-k273wf96\\files\\model-best)... Done. 0.0s\n"
     ]
    },
    {
     "name": "stdout",
     "output_type": "stream",
     "text": [
      "1582/1582 [==============================] - 39s 24ms/step - loss: 0.3521 - accuracy: 0.8917 - val_loss: 0.3538 - val_accuracy: 0.8940 - WordAccuracy: 0.0664\n",
      "Epoch 8/10\n",
      "1582/1582 [==============================] - ETA: 0s - loss: 0.3036 - accuracy: 0.9065\n",
      "Epoch 8: Word-level Accuracy = 0.0885\n"
     ]
    },
    {
     "name": "stderr",
     "output_type": "stream",
     "text": [
      "WARNING:absl:Found untraced functions such as lstm_cell_layer_call_fn, lstm_cell_layer_call_and_return_conditional_losses, lstm_cell_1_layer_call_fn, lstm_cell_1_layer_call_and_return_conditional_losses, lstm_cell_2_layer_call_fn while saving (showing 5 of 10). These functions will not be directly callable after loading.\n"
     ]
    },
    {
     "name": "stdout",
     "output_type": "stream",
     "text": [
      "INFO:tensorflow:Assets written to: D:\\DL\\wandb\\run-20250515_213027-k273wf96\\files\\model-best\\assets\n"
     ]
    },
    {
     "name": "stderr",
     "output_type": "stream",
     "text": [
      "INFO:tensorflow:Assets written to: D:\\DL\\wandb\\run-20250515_213027-k273wf96\\files\\model-best\\assets\n",
      "wandb: Adding directory to artifact (D:\\DL\\wandb\\run-20250515_213027-k273wf96\\files\\model-best)... Done. 0.1s\n"
     ]
    },
    {
     "name": "stdout",
     "output_type": "stream",
     "text": [
      "1582/1582 [==============================] - 43s 27ms/step - loss: 0.3036 - accuracy: 0.9065 - val_loss: 0.3157 - val_accuracy: 0.9044 - WordAccuracy: 0.0885\n",
      "Epoch 9/10\n",
      "1579/1582 [============================>.] - ETA: 0s - loss: 0.2677 - accuracy: 0.9172\n",
      "Epoch 9: Word-level Accuracy = 0.1110\n"
     ]
    },
    {
     "name": "stderr",
     "output_type": "stream",
     "text": [
      "WARNING:absl:Found untraced functions such as lstm_cell_layer_call_fn, lstm_cell_layer_call_and_return_conditional_losses, lstm_cell_1_layer_call_fn, lstm_cell_1_layer_call_and_return_conditional_losses, lstm_cell_2_layer_call_fn while saving (showing 5 of 10). These functions will not be directly callable after loading.\n"
     ]
    },
    {
     "name": "stdout",
     "output_type": "stream",
     "text": [
      "INFO:tensorflow:Assets written to: D:\\DL\\wandb\\run-20250515_213027-k273wf96\\files\\model-best\\assets\n"
     ]
    },
    {
     "name": "stderr",
     "output_type": "stream",
     "text": [
      "INFO:tensorflow:Assets written to: D:\\DL\\wandb\\run-20250515_213027-k273wf96\\files\\model-best\\assets\n",
      "wandb: Adding directory to artifact (D:\\DL\\wandb\\run-20250515_213027-k273wf96\\files\\model-best)... Done. 0.0s\n"
     ]
    },
    {
     "name": "stdout",
     "output_type": "stream",
     "text": [
      "1582/1582 [==============================] - 43s 27ms/step - loss: 0.2677 - accuracy: 0.9172 - val_loss: 0.2971 - val_accuracy: 0.9101 - WordAccuracy: 0.1110\n",
      "Epoch 10/10\n",
      "1580/1582 [============================>.] - ETA: 0s - loss: 0.2363 - accuracy: 0.9271\n",
      "Epoch 10: Word-level Accuracy = 0.1377\n"
     ]
    },
    {
     "name": "stderr",
     "output_type": "stream",
     "text": [
      "WARNING:absl:Found untraced functions such as lstm_cell_layer_call_fn, lstm_cell_layer_call_and_return_conditional_losses, lstm_cell_1_layer_call_fn, lstm_cell_1_layer_call_and_return_conditional_losses, lstm_cell_2_layer_call_fn while saving (showing 5 of 10). These functions will not be directly callable after loading.\n"
     ]
    },
    {
     "name": "stdout",
     "output_type": "stream",
     "text": [
      "INFO:tensorflow:Assets written to: D:\\DL\\wandb\\run-20250515_213027-k273wf96\\files\\model-best\\assets\n"
     ]
    },
    {
     "name": "stderr",
     "output_type": "stream",
     "text": [
      "INFO:tensorflow:Assets written to: D:\\DL\\wandb\\run-20250515_213027-k273wf96\\files\\model-best\\assets\n",
      "wandb: Adding directory to artifact (D:\\DL\\wandb\\run-20250515_213027-k273wf96\\files\\model-best)... Done. 0.1s\n"
     ]
    },
    {
     "name": "stdout",
     "output_type": "stream",
     "text": [
      "1582/1582 [==============================] - 42s 27ms/step - loss: 0.2363 - accuracy: 0.9271 - val_loss: 0.2759 - val_accuracy: 0.9170 - WordAccuracy: 0.1377\n"
     ]
    },
    {
     "data": {
      "application/vnd.jupyter.widget-view+json": {
       "model_id": "7629f154b3e840838c024a61722ed4e5",
       "version_major": 2,
       "version_minor": 0
      },
      "text/plain": [
       "VBox(children=(Label(value='281.762 MB of 281.762 MB uploaded (0.307 MB deduped)\\r'), FloatProgress(value=1.0,…"
      ]
     },
     "metadata": {},
     "output_type": "display_data"
    },
    {
     "data": {
      "text/html": [
       "<style>\n",
       "    table.wandb td:nth-child(1) { padding: 0 10px; text-align: left ; width: auto;} td:nth-child(2) {text-align: left ; width: 100%}\n",
       "    .wandb-row { display: flex; flex-direction: row; flex-wrap: wrap; justify-content: flex-start; width: 100% }\n",
       "    .wandb-col { display: flex; flex-direction: column; flex-basis: 100%; flex: 1; padding: 10px; }\n",
       "    </style>\n",
       "<div class=\"wandb-row\"><div class=\"wandb-col\"><h3>Run history:</h3><br/><table class=\"wandb\"><tr><td>Val_WordAccuracy</td><td>▁▁▁▁▂▃▄▆▇█</td></tr><tr><td>WordAccuracy</td><td>▁▁▁▁▂▃▄▆▇█</td></tr><tr><td>accuracy</td><td>▁▃▄▅▆▆▇▇██</td></tr><tr><td>epoch</td><td>▂▁▂▂▃▂▄▃▅▄▅▅▆▅▇▆▇▇█▇</td></tr><tr><td>loss</td><td>█▆▅▄▃▃▂▂▁▁</td></tr><tr><td>val_accuracy</td><td>▁▃▄▅▆▆▇▇██</td></tr><tr><td>val_loss</td><td>█▆▅▄▃▃▂▂▁▁</td></tr></table><br/></div><div class=\"wandb-col\"><h3>Run summary:</h3><br/><table class=\"wandb\"><tr><td>Val_WordAccuracy</td><td>0.13766</td></tr><tr><td>WordAccuracy</td><td>0.13766</td></tr><tr><td>accuracy</td><td>0.92712</td></tr><tr><td>best_epoch</td><td>9</td></tr><tr><td>best_val_loss</td><td>0.27585</td></tr><tr><td>epoch</td><td>9</td></tr><tr><td>loss</td><td>0.23631</td></tr><tr><td>val_accuracy</td><td>0.91696</td></tr><tr><td>val_loss</td><td>0.27585</td></tr></table><br/></div></div>"
      ],
      "text/plain": [
       "<IPython.core.display.HTML object>"
      ]
     },
     "metadata": {},
     "output_type": "display_data"
    },
    {
     "data": {
      "text/html": [
       " View run <strong style=\"color:#cdcd00\">copper-sweep-21</strong> at: <a href='https://wandb.ai/manoj_da24s018-iit-madras/Transliterator_HyperParameterSweep/runs/k273wf96' target=\"_blank\">https://wandb.ai/manoj_da24s018-iit-madras/Transliterator_HyperParameterSweep/runs/k273wf96</a><br/> View project at: <a href='https://wandb.ai/manoj_da24s018-iit-madras/Transliterator_HyperParameterSweep' target=\"_blank\">https://wandb.ai/manoj_da24s018-iit-madras/Transliterator_HyperParameterSweep</a><br/>Synced 5 W&B file(s), 1 media file(s), 40 artifact file(s) and 1 other file(s)"
      ],
      "text/plain": [
       "<IPython.core.display.HTML object>"
      ]
     },
     "metadata": {},
     "output_type": "display_data"
    },
    {
     "data": {
      "text/html": [
       "Find logs at: <code>.\\wandb\\run-20250515_213027-k273wf96\\logs</code>"
      ],
      "text/plain": [
       "<IPython.core.display.HTML object>"
      ]
     },
     "metadata": {},
     "output_type": "display_data"
    },
    {
     "name": "stderr",
     "output_type": "stream",
     "text": [
      "wandb: Agent Starting Run: tu1s1zno with config:\n",
      "wandb: \tcell_type: gru\n",
      "wandb: \tchar_embedding_dim: 32\n",
      "wandb: \tdecoder_layers: 2\n",
      "wandb: \tdropout: 0.4\n",
      "wandb: \tencoder_layers: 3\n",
      "wandb: \thidden_state_dim: 512\n"
     ]
    },
    {
     "data": {
      "text/html": [
       "wandb version 0.19.11 is available!  To upgrade, please run:\n",
       " $ pip install wandb --upgrade"
      ],
      "text/plain": [
       "<IPython.core.display.HTML object>"
      ]
     },
     "metadata": {},
     "output_type": "display_data"
    },
    {
     "data": {
      "text/html": [
       "Tracking run with wandb version 0.16.6"
      ],
      "text/plain": [
       "<IPython.core.display.HTML object>"
      ]
     },
     "metadata": {},
     "output_type": "display_data"
    },
    {
     "data": {
      "text/html": [
       "Run data is saved locally in <code>D:\\DL\\wandb\\run-20250515_213753-tu1s1zno</code>"
      ],
      "text/plain": [
       "<IPython.core.display.HTML object>"
      ]
     },
     "metadata": {},
     "output_type": "display_data"
    },
    {
     "data": {
      "text/html": [
       "Syncing run <strong><a href='https://wandb.ai/manoj_da24s018-iit-madras/Transliterator_HyperParameterSweep/runs/tu1s1zno' target=\"_blank\">avid-sweep-22</a></strong> to <a href='https://wandb.ai/manoj_da24s018-iit-madras/Transliterator_HyperParameterSweep' target=\"_blank\">Weights & Biases</a> (<a href='https://wandb.me/run' target=\"_blank\">docs</a>)<br/>Sweep page: <a href='https://wandb.ai/manoj_da24s018-iit-madras/Transliterator_HyperParameterSweep/sweeps/fjtuyyfs' target=\"_blank\">https://wandb.ai/manoj_da24s018-iit-madras/Transliterator_HyperParameterSweep/sweeps/fjtuyyfs</a>"
      ],
      "text/plain": [
       "<IPython.core.display.HTML object>"
      ]
     },
     "metadata": {},
     "output_type": "display_data"
    },
    {
     "data": {
      "text/html": [
       " View project at <a href='https://wandb.ai/manoj_da24s018-iit-madras/Transliterator_HyperParameterSweep' target=\"_blank\">https://wandb.ai/manoj_da24s018-iit-madras/Transliterator_HyperParameterSweep</a>"
      ],
      "text/plain": [
       "<IPython.core.display.HTML object>"
      ]
     },
     "metadata": {},
     "output_type": "display_data"
    },
    {
     "data": {
      "text/html": [
       " View sweep at <a href='https://wandb.ai/manoj_da24s018-iit-madras/Transliterator_HyperParameterSweep/sweeps/fjtuyyfs' target=\"_blank\">https://wandb.ai/manoj_da24s018-iit-madras/Transliterator_HyperParameterSweep/sweeps/fjtuyyfs</a>"
      ],
      "text/plain": [
       "<IPython.core.display.HTML object>"
      ]
     },
     "metadata": {},
     "output_type": "display_data"
    },
    {
     "data": {
      "text/html": [
       " View run at <a href='https://wandb.ai/manoj_da24s018-iit-madras/Transliterator_HyperParameterSweep/runs/tu1s1zno' target=\"_blank\">https://wandb.ai/manoj_da24s018-iit-madras/Transliterator_HyperParameterSweep/runs/tu1s1zno</a>"
      ],
      "text/plain": [
       "<IPython.core.display.HTML object>"
      ]
     },
     "metadata": {},
     "output_type": "display_data"
    },
    {
     "name": "stdout",
     "output_type": "stream",
     "text": [
      "Sweep Name:  RNN Layer Type: gru, Character_Embedding_dim: 32, Hidden_dim:512, Num_Encoder_Layer:3, Num_Decoder_Layer:2, Dropout:0.4\n",
      "Epoch 1/10\n",
      "1581/1582 [============================>.] - ETA: 0s - loss: 0.8917 - accuracy: 0.7531\n",
      "Epoch 1: Word-level Accuracy = 0.0000\n"
     ]
    },
    {
     "name": "stderr",
     "output_type": "stream",
     "text": [
      "WARNING:absl:Found untraced functions such as gru_cell_layer_call_fn, gru_cell_layer_call_and_return_conditional_losses, gru_cell_1_layer_call_fn, gru_cell_1_layer_call_and_return_conditional_losses, gru_cell_2_layer_call_fn while saving (showing 5 of 10). These functions will not be directly callable after loading.\n"
     ]
    },
    {
     "name": "stdout",
     "output_type": "stream",
     "text": [
      "INFO:tensorflow:Assets written to: D:\\DL\\wandb\\run-20250515_213753-tu1s1zno\\files\\model-best\\assets\n"
     ]
    },
    {
     "name": "stderr",
     "output_type": "stream",
     "text": [
      "INFO:tensorflow:Assets written to: D:\\DL\\wandb\\run-20250515_213753-tu1s1zno\\files\\model-best\\assets\n",
      "wandb: Adding directory to artifact (D:\\DL\\wandb\\run-20250515_213753-tu1s1zno\\files\\model-best)... Done. 0.2s\n"
     ]
    },
    {
     "name": "stdout",
     "output_type": "stream",
     "text": [
      "1582/1582 [==============================] - 48s 28ms/step - loss: 0.8916 - accuracy: 0.7531 - val_loss: 0.6946 - val_accuracy: 0.8018 - WordAccuracy: 0.0000e+00\n",
      "Epoch 2/10\n",
      "1582/1582 [==============================] - ETA: 0s - loss: 0.5300 - accuracy: 0.8443\n",
      "Epoch 2: Word-level Accuracy = 0.0223\n"
     ]
    },
    {
     "name": "stderr",
     "output_type": "stream",
     "text": [
      "WARNING:absl:Found untraced functions such as gru_cell_layer_call_fn, gru_cell_layer_call_and_return_conditional_losses, gru_cell_1_layer_call_fn, gru_cell_1_layer_call_and_return_conditional_losses, gru_cell_2_layer_call_fn while saving (showing 5 of 10). These functions will not be directly callable after loading.\n"
     ]
    },
    {
     "name": "stdout",
     "output_type": "stream",
     "text": [
      "INFO:tensorflow:Assets written to: D:\\DL\\wandb\\run-20250515_213753-tu1s1zno\\files\\model-best\\assets\n"
     ]
    },
    {
     "name": "stderr",
     "output_type": "stream",
     "text": [
      "INFO:tensorflow:Assets written to: D:\\DL\\wandb\\run-20250515_213753-tu1s1zno\\files\\model-best\\assets\n",
      "wandb: Adding directory to artifact (D:\\DL\\wandb\\run-20250515_213753-tu1s1zno\\files\\model-best)... Done. 0.1s\n"
     ]
    },
    {
     "name": "stdout",
     "output_type": "stream",
     "text": [
      "1582/1582 [==============================] - 43s 27ms/step - loss: 0.5300 - accuracy: 0.8443 - val_loss: 0.4075 - val_accuracy: 0.8794 - WordAccuracy: 0.0223\n",
      "Epoch 3/10\n",
      "1580/1582 [============================>.] - ETA: 0s - loss: 0.2840 - accuracy: 0.9139\n",
      "Epoch 3: Word-level Accuracy = 0.1472\n"
     ]
    },
    {
     "name": "stderr",
     "output_type": "stream",
     "text": [
      "WARNING:absl:Found untraced functions such as gru_cell_layer_call_fn, gru_cell_layer_call_and_return_conditional_losses, gru_cell_1_layer_call_fn, gru_cell_1_layer_call_and_return_conditional_losses, gru_cell_2_layer_call_fn while saving (showing 5 of 10). These functions will not be directly callable after loading.\n"
     ]
    },
    {
     "name": "stdout",
     "output_type": "stream",
     "text": [
      "INFO:tensorflow:Assets written to: D:\\DL\\wandb\\run-20250515_213753-tu1s1zno\\files\\model-best\\assets\n"
     ]
    },
    {
     "name": "stderr",
     "output_type": "stream",
     "text": [
      "INFO:tensorflow:Assets written to: D:\\DL\\wandb\\run-20250515_213753-tu1s1zno\\files\\model-best\\assets\n",
      "wandb: Adding directory to artifact (D:\\DL\\wandb\\run-20250515_213753-tu1s1zno\\files\\model-best)... Done. 0.1s\n"
     ]
    },
    {
     "name": "stdout",
     "output_type": "stream",
     "text": [
      "1582/1582 [==============================] - 41s 26ms/step - loss: 0.2839 - accuracy: 0.9139 - val_loss: 0.2611 - val_accuracy: 0.9213 - WordAccuracy: 0.1472\n",
      "Epoch 4/10\n",
      "1581/1582 [============================>.] - ETA: 0s - loss: 0.1723 - accuracy: 0.9467\n",
      "Epoch 4: Word-level Accuracy = 0.2497\n"
     ]
    },
    {
     "name": "stderr",
     "output_type": "stream",
     "text": [
      "WARNING:absl:Found untraced functions such as gru_cell_layer_call_fn, gru_cell_layer_call_and_return_conditional_losses, gru_cell_1_layer_call_fn, gru_cell_1_layer_call_and_return_conditional_losses, gru_cell_2_layer_call_fn while saving (showing 5 of 10). These functions will not be directly callable after loading.\n"
     ]
    },
    {
     "name": "stdout",
     "output_type": "stream",
     "text": [
      "INFO:tensorflow:Assets written to: D:\\DL\\wandb\\run-20250515_213753-tu1s1zno\\files\\model-best\\assets\n"
     ]
    },
    {
     "name": "stderr",
     "output_type": "stream",
     "text": [
      "INFO:tensorflow:Assets written to: D:\\DL\\wandb\\run-20250515_213753-tu1s1zno\\files\\model-best\\assets\n",
      "wandb: Adding directory to artifact (D:\\DL\\wandb\\run-20250515_213753-tu1s1zno\\files\\model-best)... Done. 0.2s\n"
     ]
    },
    {
     "name": "stdout",
     "output_type": "stream",
     "text": [
      "1582/1582 [==============================] - 41s 26ms/step - loss: 0.1723 - accuracy: 0.9467 - val_loss: 0.1986 - val_accuracy: 0.9412 - WordAccuracy: 0.2497\n",
      "Epoch 5/10\n",
      "1580/1582 [============================>.] - ETA: 0s - loss: 0.1243 - accuracy: 0.9612\n",
      "Epoch 5: Word-level Accuracy = 0.2980\n"
     ]
    },
    {
     "name": "stderr",
     "output_type": "stream",
     "text": [
      "WARNING:absl:Found untraced functions such as gru_cell_layer_call_fn, gru_cell_layer_call_and_return_conditional_losses, gru_cell_1_layer_call_fn, gru_cell_1_layer_call_and_return_conditional_losses, gru_cell_2_layer_call_fn while saving (showing 5 of 10). These functions will not be directly callable after loading.\n"
     ]
    },
    {
     "name": "stdout",
     "output_type": "stream",
     "text": [
      "INFO:tensorflow:Assets written to: D:\\DL\\wandb\\run-20250515_213753-tu1s1zno\\files\\model-best\\assets\n"
     ]
    },
    {
     "name": "stderr",
     "output_type": "stream",
     "text": [
      "INFO:tensorflow:Assets written to: D:\\DL\\wandb\\run-20250515_213753-tu1s1zno\\files\\model-best\\assets\n",
      "wandb: Adding directory to artifact (D:\\DL\\wandb\\run-20250515_213753-tu1s1zno\\files\\model-best)... Done. 0.2s\n"
     ]
    },
    {
     "name": "stdout",
     "output_type": "stream",
     "text": [
      "1582/1582 [==============================] - 43s 27ms/step - loss: 0.1243 - accuracy: 0.9612 - val_loss: 0.1784 - val_accuracy: 0.9467 - WordAccuracy: 0.2980\n",
      "Epoch 6/10\n",
      "1581/1582 [============================>.] - ETA: 0s - loss: 0.1001 - accuracy: 0.9684\n",
      "Epoch 6: Word-level Accuracy = 0.3485\n"
     ]
    },
    {
     "name": "stderr",
     "output_type": "stream",
     "text": [
      "WARNING:absl:Found untraced functions such as gru_cell_layer_call_fn, gru_cell_layer_call_and_return_conditional_losses, gru_cell_1_layer_call_fn, gru_cell_1_layer_call_and_return_conditional_losses, gru_cell_2_layer_call_fn while saving (showing 5 of 10). These functions will not be directly callable after loading.\n"
     ]
    },
    {
     "name": "stdout",
     "output_type": "stream",
     "text": [
      "INFO:tensorflow:Assets written to: D:\\DL\\wandb\\run-20250515_213753-tu1s1zno\\files\\model-best\\assets\n"
     ]
    },
    {
     "name": "stderr",
     "output_type": "stream",
     "text": [
      "INFO:tensorflow:Assets written to: D:\\DL\\wandb\\run-20250515_213753-tu1s1zno\\files\\model-best\\assets\n",
      "wandb: Adding directory to artifact (D:\\DL\\wandb\\run-20250515_213753-tu1s1zno\\files\\model-best)... Done. 0.2s\n"
     ]
    },
    {
     "name": "stdout",
     "output_type": "stream",
     "text": [
      "1582/1582 [==============================] - 43s 27ms/step - loss: 0.1001 - accuracy: 0.9684 - val_loss: 0.1642 - val_accuracy: 0.9538 - WordAccuracy: 0.3485\n",
      "Epoch 7/10\n",
      "1582/1582 [==============================] - ETA: 0s - loss: 0.0865 - accuracy: 0.9725\n",
      "Epoch 7: Word-level Accuracy = 0.3398\n"
     ]
    },
    {
     "name": "stderr",
     "output_type": "stream",
     "text": [
      "WARNING:absl:Found untraced functions such as gru_cell_layer_call_fn, gru_cell_layer_call_and_return_conditional_losses, gru_cell_1_layer_call_fn, gru_cell_1_layer_call_and_return_conditional_losses, gru_cell_2_layer_call_fn while saving (showing 5 of 10). These functions will not be directly callable after loading.\n"
     ]
    },
    {
     "name": "stdout",
     "output_type": "stream",
     "text": [
      "INFO:tensorflow:Assets written to: D:\\DL\\wandb\\run-20250515_213753-tu1s1zno\\files\\model-best\\assets\n"
     ]
    },
    {
     "name": "stderr",
     "output_type": "stream",
     "text": [
      "INFO:tensorflow:Assets written to: D:\\DL\\wandb\\run-20250515_213753-tu1s1zno\\files\\model-best\\assets\n",
      "wandb: Adding directory to artifact (D:\\DL\\wandb\\run-20250515_213753-tu1s1zno\\files\\model-best)... Done. 0.1s\n"
     ]
    },
    {
     "name": "stdout",
     "output_type": "stream",
     "text": [
      "1582/1582 [==============================] - 43s 27ms/step - loss: 0.0865 - accuracy: 0.9725 - val_loss: 0.1637 - val_accuracy: 0.9532 - WordAccuracy: 0.3398\n",
      "Epoch 8/10\n",
      "1582/1582 [==============================] - ETA: 0s - loss: 0.0779 - accuracy: 0.9752\n",
      "Epoch 8: Word-level Accuracy = 0.3706\n"
     ]
    },
    {
     "name": "stderr",
     "output_type": "stream",
     "text": [
      "WARNING:absl:Found untraced functions such as gru_cell_layer_call_fn, gru_cell_layer_call_and_return_conditional_losses, gru_cell_1_layer_call_fn, gru_cell_1_layer_call_and_return_conditional_losses, gru_cell_2_layer_call_fn while saving (showing 5 of 10). These functions will not be directly callable after loading.\n"
     ]
    },
    {
     "name": "stdout",
     "output_type": "stream",
     "text": [
      "INFO:tensorflow:Assets written to: D:\\DL\\wandb\\run-20250515_213753-tu1s1zno\\files\\model-best\\assets\n"
     ]
    },
    {
     "name": "stderr",
     "output_type": "stream",
     "text": [
      "INFO:tensorflow:Assets written to: D:\\DL\\wandb\\run-20250515_213753-tu1s1zno\\files\\model-best\\assets\n",
      "wandb: Adding directory to artifact (D:\\DL\\wandb\\run-20250515_213753-tu1s1zno\\files\\model-best)... Done. 0.2s\n"
     ]
    },
    {
     "name": "stdout",
     "output_type": "stream",
     "text": [
      "1582/1582 [==============================] - 42s 27ms/step - loss: 0.0779 - accuracy: 0.9752 - val_loss: 0.1621 - val_accuracy: 0.9555 - WordAccuracy: 0.3706\n",
      "Epoch 9/10\n",
      "1582/1582 [==============================] - ETA: 0s - loss: 0.0705 - accuracy: 0.9773\n",
      "Epoch 9: Word-level Accuracy = 0.3853\n"
     ]
    },
    {
     "name": "stderr",
     "output_type": "stream",
     "text": [
      "WARNING:absl:Found untraced functions such as gru_cell_layer_call_fn, gru_cell_layer_call_and_return_conditional_losses, gru_cell_1_layer_call_fn, gru_cell_1_layer_call_and_return_conditional_losses, gru_cell_2_layer_call_fn while saving (showing 5 of 10). These functions will not be directly callable after loading.\n"
     ]
    },
    {
     "name": "stdout",
     "output_type": "stream",
     "text": [
      "INFO:tensorflow:Assets written to: D:\\DL\\wandb\\run-20250515_213753-tu1s1zno\\files\\model-best\\assets\n"
     ]
    },
    {
     "name": "stderr",
     "output_type": "stream",
     "text": [
      "INFO:tensorflow:Assets written to: D:\\DL\\wandb\\run-20250515_213753-tu1s1zno\\files\\model-best\\assets\n",
      "wandb: Adding directory to artifact (D:\\DL\\wandb\\run-20250515_213753-tu1s1zno\\files\\model-best)... Done. 0.1s\n"
     ]
    },
    {
     "name": "stdout",
     "output_type": "stream",
     "text": [
      "1582/1582 [==============================] - 44s 28ms/step - loss: 0.0705 - accuracy: 0.9773 - val_loss: 0.1560 - val_accuracy: 0.9577 - WordAccuracy: 0.3853\n",
      "Epoch 10/10\n",
      "1580/1582 [============================>.] - ETA: 0s - loss: 0.0660 - accuracy: 0.9787\n",
      "Epoch 10: Word-level Accuracy = 0.3891\n",
      "1582/1582 [==============================] - 33s 21ms/step - loss: 0.0660 - accuracy: 0.9787 - val_loss: 0.1571 - val_accuracy: 0.9582 - WordAccuracy: 0.3891\n"
     ]
    },
    {
     "data": {
      "application/vnd.jupyter.widget-view+json": {
       "model_id": "29154c42c0bb4f629f4ed1f9874fd30d",
       "version_major": 2,
       "version_minor": 0
      },
      "text/plain": [
       "VBox(children=(Label(value='691.400 MB of 691.400 MB uploaded (0.270 MB deduped)\\r'), FloatProgress(value=1.0,…"
      ]
     },
     "metadata": {},
     "output_type": "display_data"
    },
    {
     "data": {
      "text/html": [
       "<style>\n",
       "    table.wandb td:nth-child(1) { padding: 0 10px; text-align: left ; width: auto;} td:nth-child(2) {text-align: left ; width: 100%}\n",
       "    .wandb-row { display: flex; flex-direction: row; flex-wrap: wrap; justify-content: flex-start; width: 100% }\n",
       "    .wandb-col { display: flex; flex-direction: column; flex-basis: 100%; flex: 1; padding: 10px; }\n",
       "    </style>\n",
       "<div class=\"wandb-row\"><div class=\"wandb-col\"><h3>Run history:</h3><br/><table class=\"wandb\"><tr><td>Val_WordAccuracy</td><td>▁▁▄▅▆▇▇███</td></tr><tr><td>WordAccuracy</td><td>▁▁▄▅▆▇▇███</td></tr><tr><td>accuracy</td><td>▁▄▆▇▇█████</td></tr><tr><td>epoch</td><td>▂▁▂▂▃▂▄▃▅▄▅▅▆▅▇▆▇▇█▇</td></tr><tr><td>loss</td><td>█▅▃▂▁▁▁▁▁▁</td></tr><tr><td>val_accuracy</td><td>▁▄▆▇▇█████</td></tr><tr><td>val_loss</td><td>█▄▂▂▁▁▁▁▁▁</td></tr></table><br/></div><div class=\"wandb-col\"><h3>Run summary:</h3><br/><table class=\"wandb\"><tr><td>Val_WordAccuracy</td><td>0.3891</td></tr><tr><td>WordAccuracy</td><td>0.3891</td></tr><tr><td>accuracy</td><td>0.97872</td></tr><tr><td>best_epoch</td><td>8</td></tr><tr><td>best_val_loss</td><td>0.15598</td></tr><tr><td>epoch</td><td>9</td></tr><tr><td>loss</td><td>0.066</td></tr><tr><td>val_accuracy</td><td>0.95816</td></tr><tr><td>val_loss</td><td>0.15711</td></tr></table><br/></div></div>"
      ],
      "text/plain": [
       "<IPython.core.display.HTML object>"
      ]
     },
     "metadata": {},
     "output_type": "display_data"
    },
    {
     "data": {
      "text/html": [
       " View run <strong style=\"color:#cdcd00\">avid-sweep-22</strong> at: <a href='https://wandb.ai/manoj_da24s018-iit-madras/Transliterator_HyperParameterSweep/runs/tu1s1zno' target=\"_blank\">https://wandb.ai/manoj_da24s018-iit-madras/Transliterator_HyperParameterSweep/runs/tu1s1zno</a><br/> View project at: <a href='https://wandb.ai/manoj_da24s018-iit-madras/Transliterator_HyperParameterSweep' target=\"_blank\">https://wandb.ai/manoj_da24s018-iit-madras/Transliterator_HyperParameterSweep</a><br/>Synced 5 W&B file(s), 1 media file(s), 36 artifact file(s) and 1 other file(s)"
      ],
      "text/plain": [
       "<IPython.core.display.HTML object>"
      ]
     },
     "metadata": {},
     "output_type": "display_data"
    },
    {
     "data": {
      "text/html": [
       "Find logs at: <code>.\\wandb\\run-20250515_213753-tu1s1zno\\logs</code>"
      ],
      "text/plain": [
       "<IPython.core.display.HTML object>"
      ]
     },
     "metadata": {},
     "output_type": "display_data"
    },
    {
     "name": "stderr",
     "output_type": "stream",
     "text": [
      "wandb: Agent Starting Run: agqmc8rs with config:\n",
      "wandb: \tcell_type: gru\n",
      "wandb: \tchar_embedding_dim: 8\n",
      "wandb: \tdecoder_layers: 3\n",
      "wandb: \tdropout: 0.4\n",
      "wandb: \tencoder_layers: 1\n",
      "wandb: \thidden_state_dim: 128\n"
     ]
    },
    {
     "data": {
      "text/html": [
       "wandb version 0.19.11 is available!  To upgrade, please run:\n",
       " $ pip install wandb --upgrade"
      ],
      "text/plain": [
       "<IPython.core.display.HTML object>"
      ]
     },
     "metadata": {},
     "output_type": "display_data"
    },
    {
     "data": {
      "text/html": [
       "Tracking run with wandb version 0.16.6"
      ],
      "text/plain": [
       "<IPython.core.display.HTML object>"
      ]
     },
     "metadata": {},
     "output_type": "display_data"
    },
    {
     "data": {
      "text/html": [
       "Run data is saved locally in <code>D:\\DL\\wandb\\run-20250515_214512-agqmc8rs</code>"
      ],
      "text/plain": [
       "<IPython.core.display.HTML object>"
      ]
     },
     "metadata": {},
     "output_type": "display_data"
    },
    {
     "data": {
      "text/html": [
       "Syncing run <strong><a href='https://wandb.ai/manoj_da24s018-iit-madras/Transliterator_HyperParameterSweep/runs/agqmc8rs' target=\"_blank\">quiet-sweep-23</a></strong> to <a href='https://wandb.ai/manoj_da24s018-iit-madras/Transliterator_HyperParameterSweep' target=\"_blank\">Weights & Biases</a> (<a href='https://wandb.me/run' target=\"_blank\">docs</a>)<br/>Sweep page: <a href='https://wandb.ai/manoj_da24s018-iit-madras/Transliterator_HyperParameterSweep/sweeps/fjtuyyfs' target=\"_blank\">https://wandb.ai/manoj_da24s018-iit-madras/Transliterator_HyperParameterSweep/sweeps/fjtuyyfs</a>"
      ],
      "text/plain": [
       "<IPython.core.display.HTML object>"
      ]
     },
     "metadata": {},
     "output_type": "display_data"
    },
    {
     "data": {
      "text/html": [
       " View project at <a href='https://wandb.ai/manoj_da24s018-iit-madras/Transliterator_HyperParameterSweep' target=\"_blank\">https://wandb.ai/manoj_da24s018-iit-madras/Transliterator_HyperParameterSweep</a>"
      ],
      "text/plain": [
       "<IPython.core.display.HTML object>"
      ]
     },
     "metadata": {},
     "output_type": "display_data"
    },
    {
     "data": {
      "text/html": [
       " View sweep at <a href='https://wandb.ai/manoj_da24s018-iit-madras/Transliterator_HyperParameterSweep/sweeps/fjtuyyfs' target=\"_blank\">https://wandb.ai/manoj_da24s018-iit-madras/Transliterator_HyperParameterSweep/sweeps/fjtuyyfs</a>"
      ],
      "text/plain": [
       "<IPython.core.display.HTML object>"
      ]
     },
     "metadata": {},
     "output_type": "display_data"
    },
    {
     "data": {
      "text/html": [
       " View run at <a href='https://wandb.ai/manoj_da24s018-iit-madras/Transliterator_HyperParameterSweep/runs/agqmc8rs' target=\"_blank\">https://wandb.ai/manoj_da24s018-iit-madras/Transliterator_HyperParameterSweep/runs/agqmc8rs</a>"
      ],
      "text/plain": [
       "<IPython.core.display.HTML object>"
      ]
     },
     "metadata": {},
     "output_type": "display_data"
    },
    {
     "name": "stdout",
     "output_type": "stream",
     "text": [
      "Sweep Name:  RNN Layer Type: gru, Character_Embedding_dim: 8, Hidden_dim:128, Num_Encoder_Layer:1, Num_Decoder_Layer:3, Dropout:0.4\n",
      "Epoch 1/10\n",
      "   4/1582 [..............................] - ETA: 40s - loss: 4.0906 - accuracy: 0.5009    "
     ]
    }
   ],
   "source": [
    "sweep_ID = wandb.sweep(sweep_config, entity=\"manoj_da24s018-iit-madras\", project=\"Transliterator_HyperParameterSweep\")\n",
    "wandb.agent(sweep_ID, sweep_hyperparameters, count=25)"
   ]
  },
  {
   "cell_type": "code",
   "execution_count": null,
   "id": "ecca7390-f753-47e2-94aa-217ec367ecbc",
   "metadata": {},
   "outputs": [],
   "source": []
  }
 ],
 "metadata": {
  "kernelspec": {
   "display_name": "Python 3 (ipykernel)",
   "language": "python",
   "name": "python3"
  },
  "language_info": {
   "codemirror_mode": {
    "name": "ipython",
    "version": 3
   },
   "file_extension": ".py",
   "mimetype": "text/x-python",
   "name": "python",
   "nbconvert_exporter": "python",
   "pygments_lexer": "ipython3",
   "version": "3.10.17"
  }
 },
 "nbformat": 4,
 "nbformat_minor": 5
}
