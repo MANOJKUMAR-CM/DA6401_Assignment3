{
 "cells": [
  {
   "cell_type": "code",
   "execution_count": 1,
   "id": "1ef1a137-1769-4365-9f5d-445ed6f1f736",
   "metadata": {},
   "outputs": [],
   "source": [
    "import os\n",
    "os.environ[\"CUDA_VISIBLE_DEVICES\"] = \"1\"\n",
    "\n",
    "import warnings\n",
    "warnings.filterwarnings(\"ignore\")"
   ]
  },
  {
   "cell_type": "code",
   "execution_count": 2,
   "id": "8df10e30-bce3-4f4c-a540-1d4ff8fc39c0",
   "metadata": {},
   "outputs": [],
   "source": [
    "import numpy as np\n",
    "import pandas as pd\n",
    "import re\n",
    "from keras.preprocessing import sequence\n",
    "import tensorflow as tf\n",
    "from tensorflow.keras.layers import Input, Embedding, LSTM, GRU, SimpleRNN, Dense, TimeDistributed\n",
    "from tensorflow.keras.models import Model\n",
    "from tensorflow.keras.layers import Attention, Concatenate\n",
    "import wandb\n",
    "from wandb.keras import WandbCallback\n",
    "\n",
    "warnings.filterwarnings(\"ignore\", category=UserWarning, module=\"tensorflow\")\n",
    "warnings.filterwarnings(\"ignore\", category=UserWarning, module=\"absl\")"
   ]
  },
  {
   "cell_type": "code",
   "execution_count": 3,
   "id": "6b02689d-6f75-42e3-a1b6-6010b2daeb1c",
   "metadata": {
    "scrolled": true
   },
   "outputs": [
    {
     "data": {
      "text/plain": [
       "([PhysicalDevice(name='/physical_device:GPU:0', device_type='GPU')],\n",
       " '/device:GPU:0')"
      ]
     },
     "execution_count": 3,
     "metadata": {},
     "output_type": "execute_result"
    }
   ],
   "source": [
    "tf.config.list_physical_devices('GPU'), tf.test.gpu_device_name()"
   ]
  },
  {
   "cell_type": "code",
   "execution_count": 4,
   "id": "4b40b4d4-9435-494f-a669-831f5a876d6d",
   "metadata": {},
   "outputs": [],
   "source": [
    "# Loading the DATA\n",
    "train_data = pd.read_csv(\"dakshina_dataset_v1.0/kn/lexicons/kn.translit.sampled.train.tsv\", sep='\\t', header=None)\n",
    "test_data =  pd.read_csv(\"dakshina_dataset_v1.0/kn/lexicons/kn.translit.sampled.test.tsv\", sep='\\t', header = None)\n",
    "val_data = pd.read_csv(\"dakshina_dataset_v1.0/kn/lexicons/kn.translit.sampled.dev.tsv\", sep='\\t', header= None)"
   ]
  },
  {
   "cell_type": "code",
   "execution_count": 5,
   "id": "2ee0f5de-e6b8-436e-9123-930c1216021a",
   "metadata": {},
   "outputs": [],
   "source": [
    "# Filtering the data\n",
    "train_data = train_data.dropna()\n",
    "test_data = test_data.dropna()\n",
    "val_data = val_data.dropna()"
   ]
  },
  {
   "cell_type": "code",
   "execution_count": 6,
   "id": "124f067c-b4a0-4e18-9d48-c8e5f7c1deaa",
   "metadata": {},
   "outputs": [],
   "source": [
    "# Creating Vocubalory\n",
    "X = [list('\\t'+ w +'\\n') for w in np.array(train_data[1])] # Input Sequence\n",
    "Y = [list('\\t'+ w +'\\n') for w in np.array(train_data[0])] # Traget Sequence\n",
    "\n",
    "kannada_vocab = set() # Set avoids duplicates\n",
    "eng_vocab = set() # Set avoids duplicates\n",
    "\n",
    "for word in X:\n",
    "    for char in word:\n",
    "        eng_vocab.add(char)\n",
    "\n",
    "for word in Y:\n",
    "    for char in word:\n",
    "        kannada_vocab.add(char)\n",
    "\n",
    "kannada_vocab_list = sorted(list(kannada_vocab))\n",
    "eng_vocab_list = sorted(list(eng_vocab))"
   ]
  },
  {
   "cell_type": "code",
   "execution_count": 7,
   "id": "a9111d35-a0e1-4224-a809-229e3466bc3b",
   "metadata": {},
   "outputs": [],
   "source": [
    "# Preparing Data\n",
    "num_input_tokens = len(eng_vocab_list)\n",
    "num_output_tokens = len(kannada_vocab_list)\n",
    "\n",
    "# Mapping character to index\n",
    "input_token_index = {}\n",
    "for i, char in enumerate(eng_vocab_list):\n",
    "    input_token_index[char] = i\n",
    "\n",
    "output_token_index = {}\n",
    "for i, char in enumerate(kannada_vocab_list):\n",
    "    output_token_index[char] = i\n",
    "\n",
    "# Mapping index to character: \n",
    "# Inverting the previous dictionaries to avoid searching operations while decoding\n",
    "\n",
    "input_index_token = {i: char for char, i in input_token_index.items()}\n",
    "output_input_token = {i: char for char, i in output_token_index.items()}\n",
    "\n",
    "max_input_seq_length = max([len(seq) for seq in X])\n",
    "max_output_seq_length = max([len(seq) for seq in Y])"
   ]
  },
  {
   "cell_type": "code",
   "execution_count": 8,
   "id": "77728c58-705d-46b8-8026-28b54bf7d794",
   "metadata": {},
   "outputs": [],
   "source": [
    "def prepare(x, y):\n",
    "    # Converts list of characters -> list of indexes and provides the corresponding teacher forcing targets\n",
    "    decoder_target = np.zeros((len(x), max_output_seq_length, num_output_tokens), dtype=\"float32\")\n",
    "\n",
    "    for i, seq in enumerate(y):\n",
    "        for t, char in enumerate(seq):\n",
    "            if t > 0 :\n",
    "                decoder_target[i, t-1, output_token_index[char]] = 1.0\n",
    "        decoder_target[i, t:, output_token_index[\"\\n\"]] = 1.0\n",
    "    \n",
    "    encoder_samples = [[input_token_index[letter] for letter in seq] for seq in x]\n",
    "    decoder_samples = [[output_token_index[letter] for letter in seq] for seq in y]\n",
    "\n",
    "    return encoder_samples, decoder_samples, decoder_target"
   ]
  },
  {
   "cell_type": "code",
   "execution_count": 9,
   "id": "70346467-c930-4037-adaf-c134032c1531",
   "metadata": {},
   "outputs": [],
   "source": [
    "X_train = [list('\\t'+ w +'\\n') for w in np.array(train_data[1])] # Input Sequence\n",
    "Y_train = [list('\\t'+ w +'\\n') for w in np.array(train_data[0])] # Traget Sequence\n",
    "\n",
    "X_test = [list('\\t'+ w +'\\n') for w in np.array(test_data[1])] # Input Sequence\n",
    "Y_test = [list('\\t'+ w +'\\n') for w in np.array(test_data[0])] # Traget Sequence\n",
    "\n",
    "X_val = [list('\\t'+ w +'\\n') for w in np.array(val_data[1])] # Input Sequence\n",
    "Y_val = [list('\\t'+ w +'\\n') for w in np.array(val_data[0])] # Traget Sequence"
   ]
  },
  {
   "cell_type": "code",
   "execution_count": 10,
   "id": "41e566cf-805a-45e9-a101-bf5718499fa2",
   "metadata": {},
   "outputs": [],
   "source": [
    "encoder_train, decoder_train, decoder_target_train = prepare(X_train, Y_train)\n",
    "encoder_test, decoder_test, decoder_target_test = prepare(X_test, Y_test)\n",
    "encoder_val, decoder_val, decoder_target_val = prepare(X_val, Y_val)"
   ]
  },
  {
   "cell_type": "code",
   "execution_count": 11,
   "id": "61ff4628-d9cd-4f98-b45b-e4292e50c7f4",
   "metadata": {},
   "outputs": [],
   "source": [
    "def pad(List, max_length):\n",
    "    return sequence.data_utils.pad_sequences(List, maxlen=max_length, padding=\"post\")"
   ]
  },
  {
   "cell_type": "code",
   "execution_count": 12,
   "id": "fb8451fd-c64f-40c4-9e60-90cb01fab9d0",
   "metadata": {},
   "outputs": [],
   "source": [
    "encoder_train = pad(encoder_train, max_input_seq_length)\n",
    "encoder_test = pad(encoder_test, max_input_seq_length)\n",
    "encoder_val = pad(encoder_val, max_input_seq_length)\n",
    "\n",
    "decoder_train = pad(decoder_train, max_output_seq_length)\n",
    "decoder_test = pad(decoder_test, max_output_seq_length)\n",
    "decoder_val = pad(decoder_val, max_output_seq_length)"
   ]
  },
  {
   "cell_type": "code",
   "execution_count": 13,
   "id": "74e542ab-1757-4079-bd44-c17aaf26d647",
   "metadata": {},
   "outputs": [],
   "source": [
    "def Eng2Kan_with_attention(encoder_tokens, decoder_tokens, embedding_dim, hidden_dim, \n",
    "                           max_input_seq_length, max_output_seq_length,\n",
    "                           no_encoder_layers, no_decoder_layers, dropouts=0.1, cell_type=\"gru\"):\n",
    "    \n",
    "    cell_type = cell_type.lower()\n",
    "    \n",
    "    # Encoder\n",
    "    encoder_inputs = Input(shape=(None,), name=\"encoder_input\")\n",
    "    encoder_embed = Embedding(encoder_tokens, embedding_dim, input_length=max_input_seq_length, name=\"encoder_embedding\")(encoder_inputs)\n",
    "\n",
    "    encoder_outputs = encoder_embed\n",
    "    encoder_states = []\n",
    "    for i in range(no_encoder_layers):\n",
    "        if cell_type == \"lstm\":\n",
    "            encoder_outputs, state_h, state_c = LSTM(hidden_dim, return_sequences=True, return_state=True, dropout=dropouts)(encoder_outputs)\n",
    "            encoder_states = [state_h, state_c]\n",
    "        elif cell_type == \"gru\":\n",
    "            encoder_outputs, state_h = GRU(hidden_dim, return_sequences=True, return_state=True, dropout=dropouts)(encoder_outputs)\n",
    "            encoder_states = [state_h]\n",
    "        else:\n",
    "            encoder_outputs, state_h = SimpleRNN(hidden_dim, return_sequences=True, return_state=True, dropout=dropouts)(encoder_outputs)\n",
    "            encoder_states = [state_h]\n",
    "\n",
    "    # Decoder\n",
    "    decoder_inputs = Input(shape=(None,), name=\"decoder_input\")\n",
    "    decoder_embed = Embedding(decoder_tokens, embedding_dim, input_length=max_output_seq_length, name=\"decoder_embedding\")(decoder_inputs)\n",
    "\n",
    "    decoder_rnn = None\n",
    "    decoder_states = []\n",
    "    if cell_type == \"lstm\":\n",
    "        decoder_rnn = LSTM(hidden_dim, return_sequences=True, return_state=True, dropout=dropouts)\n",
    "        decoder_outputs, _, _ = decoder_rnn(decoder_embed, initial_state=encoder_states)\n",
    "    elif cell_type == \"gru\":\n",
    "        decoder_rnn = GRU(hidden_dim, return_sequences=True, return_state=True, dropout=dropouts)\n",
    "        decoder_outputs, _ = decoder_rnn(decoder_embed, initial_state=encoder_states)\n",
    "    else:\n",
    "        decoder_rnn = SimpleRNN(hidden_dim, return_sequences=True, return_state=True, dropout=dropouts)\n",
    "        decoder_outputs, _ = decoder_rnn(decoder_embed, initial_state=encoder_states)\n",
    "\n",
    "    # Attention mechanism\n",
    "    attention_layer = Attention(name=\"attention_layer\")\n",
    "    context_vector = attention_layer([decoder_outputs, encoder_outputs])  \n",
    "\n",
    "    # Concatenate context and decoder outputs\n",
    "    decoder_combined_context = Concatenate(axis=-1, name=\"concat_layer\")([decoder_outputs, context_vector])\n",
    "\n",
    "    output_layer = TimeDistributed(Dense(decoder_tokens, activation='softmax'), name=\"output_layer\")\n",
    "    decoder_final_output = output_layer(decoder_combined_context)\n",
    "\n",
    "    model = Model([encoder_inputs, decoder_inputs], decoder_final_output)\n",
    "    return model"
   ]
  },
  {
   "cell_type": "code",
   "execution_count": 14,
   "id": "a49279b7-1834-4dd8-a500-76db687ff544",
   "metadata": {},
   "outputs": [],
   "source": [
    "class Word_Accuracy(tf.keras.callbacks.Callback):\n",
    "    def __init__(self, encoder_cv, decoder_cv, inv_target_token_index, max_length_y, sample_size=None):\n",
    "        super().__init__()\n",
    "        self.encoder_val = encoder_cv\n",
    "        self.decoder_val = decoder_cv\n",
    "        self.inv_target_token_index = inv_target_token_index\n",
    "        self.max_output_seq_length = max_length_y\n",
    "        self.sample_size = sample_size  # optional\n",
    "\n",
    "    def on_epoch_end(self, epoch, logs=None):\n",
    "        if self.sample_size:\n",
    "            indices = np.random.choice(len(self.encoder_val), self.sample_size, replace=False)\n",
    "            enc = self.encoder_val[indices]\n",
    "            dec = self.decoder_val[indices]\n",
    "        else:\n",
    "            enc = self.encoder_val\n",
    "            dec = self.decoder_val\n",
    "\n",
    "        predictions = self.model.predict([enc, dec], verbose=0)\n",
    "        count = 0\n",
    "\n",
    "        for i in range(len(predictions)):\n",
    "            actual_out = re.sub(r'\\t|\\n', '', ''.join(\n",
    "                [self.inv_target_token_index[dec[i][j]] for j in range(self.max_output_seq_length)]\n",
    "            ))\n",
    "            predicted_out = re.sub(r'\\t|\\n', '', ''.join(\n",
    "                [self.inv_target_token_index[np.argmax(predictions[i][j])] for j in range(self.max_output_seq_length)]\n",
    "            ))\n",
    "\n",
    "            if actual_out == predicted_out:\n",
    "                count += 1\n",
    "\n",
    "        acc = count / len(predictions)\n",
    "        logs[\"WordAccuracy\"] = acc\n",
    "        print(f\"\\nEpoch {epoch + 1}: Word-level Accuracy = {acc:.4f}\")\n",
    "\n",
    "        wandb.log({\"Val_WordAccuracy\": acc, \"epoch\": epoch + 1})\n"
   ]
  },
  {
   "cell_type": "code",
   "execution_count": 15,
   "id": "a633c942-844a-4424-9e9c-94da800fb7da",
   "metadata": {},
   "outputs": [],
   "source": [
    "sweep_config = {\n",
    "    \"name\": \"RNN - Hyperparameter Search\",\n",
    "    \"metric\": {\n",
    "        \"name\": \"Val_WordAccuracy\", \n",
    "        \"goal\": \"maximize\"\n",
    "    },\n",
    "    \"method\": \"random\", # options: [bayes, random, grid]\n",
    "    \"parameters\" : {\n",
    "        \"char_embedding_dim\": {\n",
    "            \"values\": [8, 12, 16, 32]\n",
    "        },\n",
    "        \"encoder_layers\" : {\n",
    "            \"values\" : [1, 2, 3]\n",
    "        },\n",
    "        \"decoder_layers\": {\n",
    "            \"values\": [1, 2, 3]\n",
    "        },\n",
    "        \"hidden_state_dim\":{\n",
    "            \"values\": [64, 128, 256, 512]\n",
    "        },\n",
    "        \"cell_type\":{\n",
    "            \"values\":[\"gru\", \"lstm\", \"rnn\"]\n",
    "        },\n",
    "        \"dropout\": {\n",
    "            \"values\":[0.1, 0.2, 0.3, 0.4]\n",
    "        }\n",
    "    }\n",
    "}"
   ]
  },
  {
   "cell_type": "code",
   "execution_count": 16,
   "id": "f917c75b-b8b6-48f8-8514-8067cb5063b9",
   "metadata": {},
   "outputs": [],
   "source": [
    "def sweep_hyperparameters():\n",
    "    \n",
    "    default_config = {\n",
    "        \"char_embedding_dim\": 32,\n",
    "        \"encoder_layers\": 2,\n",
    "        \"decoder_layers\": 2,\n",
    "        \"hidden_state_dim\": 512,\n",
    "        \"cell_type\": \"lstm\",\n",
    "        \"dropout\": 0.1  \n",
    "    }\n",
    "\n",
    "    wandb.init(config = default_config)\n",
    "    config = wandb.config # To get the Hyper Parameters from sweep_config\n",
    "\n",
    "    embedding_dim = config.char_embedding_dim\n",
    "    encoder_layers = config.encoder_layers\n",
    "    decoder_layers = config.decoder_layers\n",
    "    hidden_dim = config.hidden_state_dim\n",
    "    cell_type = config.cell_type\n",
    "    dropout = config.dropout\n",
    "\n",
    "    run_name = f\"RNN Layer Type: {cell_type}, Character_Embedding_dim: {embedding_dim}, Hidden_dim:{hidden_dim}, Num_Encoder_Layer:{encoder_layers}, Num_Decoder_Layer:{decoder_layers}, Dropout:{dropout}\"\n",
    "    print(\"Sweep Name: \", run_name)\n",
    "\n",
    "    model = Eng2Kan_with_attention(num_input_tokens, num_output_tokens, embedding_dim, hidden_dim, max_input_seq_length, \n",
    "                    max_output_seq_length, encoder_layers, decoder_layers, dropout, cell_type)\n",
    "\n",
    "    model.compile(optimizer='Adam', loss='categorical_crossentropy', metrics=[\"accuracy\"])\n",
    "\n",
    "    epochs = 10\n",
    "    batch_size = 32\n",
    "    \n",
    "    word_accuracy = Word_Accuracy(\n",
    "        encoder_cv=encoder_val,\n",
    "        decoder_cv=decoder_val,\n",
    "        inv_target_token_index=output_input_token,\n",
    "        max_length_y=max_output_seq_length\n",
    "    )\n",
    "\n",
    "    history = model.fit(\n",
    "        [encoder_train, decoder_train],\n",
    "        decoder_target_train,\n",
    "        batch_size=batch_size,\n",
    "        epochs=epochs,\n",
    "        validation_data=([encoder_val, decoder_val], decoder_target_val),\n",
    "        callbacks=[word_accuracy, WandbCallback()],\n",
    "        verbose=1\n",
    "    )\n",
    "\n",
    "    #wandb.run.name = run_name\n",
    "    #wandb.run.save()"
   ]
  },
  {
   "cell_type": "code",
   "execution_count": 17,
   "id": "d3389d0f-f4dd-49c1-8408-f7905d34c768",
   "metadata": {},
   "outputs": [
    {
     "name": "stdout",
     "output_type": "stream",
     "text": [
      "Create sweep with ID: htfl2fri\n",
      "Sweep URL: https://wandb.ai/manoj_da24s018-iit-madras/Transliterator_Attention_HyperParameterSweep/sweeps/htfl2fri\n"
     ]
    },
    {
     "name": "stderr",
     "output_type": "stream",
     "text": [
      "wandb: Agent Starting Run: q2cna241 with config:\n",
      "wandb: \tcell_type: gru\n",
      "wandb: \tchar_embedding_dim: 16\n",
      "wandb: \tdecoder_layers: 1\n",
      "wandb: \tdropout: 0.2\n",
      "wandb: \tencoder_layers: 2\n",
      "wandb: \thidden_state_dim: 512\n",
      "wandb: Currently logged in as: manoj_da24s018 (manoj_da24s018-iit-madras). Use `wandb login --relogin` to force relogin\n"
     ]
    },
    {
     "data": {
      "text/html": [
       "wandb version 0.19.11 is available!  To upgrade, please run:\n",
       " $ pip install wandb --upgrade"
      ],
      "text/plain": [
       "<IPython.core.display.HTML object>"
      ]
     },
     "metadata": {},
     "output_type": "display_data"
    },
    {
     "data": {
      "text/html": [
       "Tracking run with wandb version 0.16.6"
      ],
      "text/plain": [
       "<IPython.core.display.HTML object>"
      ]
     },
     "metadata": {},
     "output_type": "display_data"
    },
    {
     "data": {
      "text/html": [
       "Run data is saved locally in <code>D:\\DL\\wandb\\run-20250515_215311-q2cna241</code>"
      ],
      "text/plain": [
       "<IPython.core.display.HTML object>"
      ]
     },
     "metadata": {},
     "output_type": "display_data"
    },
    {
     "data": {
      "text/html": [
       "Syncing run <strong><a href='https://wandb.ai/manoj_da24s018-iit-madras/Transliterator_Attention_HyperParameterSweep/runs/q2cna241' target=\"_blank\">ethereal-sweep-1</a></strong> to <a href='https://wandb.ai/manoj_da24s018-iit-madras/Transliterator_Attention_HyperParameterSweep' target=\"_blank\">Weights & Biases</a> (<a href='https://wandb.me/run' target=\"_blank\">docs</a>)<br/>Sweep page: <a href='https://wandb.ai/manoj_da24s018-iit-madras/Transliterator_Attention_HyperParameterSweep/sweeps/htfl2fri' target=\"_blank\">https://wandb.ai/manoj_da24s018-iit-madras/Transliterator_Attention_HyperParameterSweep/sweeps/htfl2fri</a>"
      ],
      "text/plain": [
       "<IPython.core.display.HTML object>"
      ]
     },
     "metadata": {},
     "output_type": "display_data"
    },
    {
     "data": {
      "text/html": [
       " View project at <a href='https://wandb.ai/manoj_da24s018-iit-madras/Transliterator_Attention_HyperParameterSweep' target=\"_blank\">https://wandb.ai/manoj_da24s018-iit-madras/Transliterator_Attention_HyperParameterSweep</a>"
      ],
      "text/plain": [
       "<IPython.core.display.HTML object>"
      ]
     },
     "metadata": {},
     "output_type": "display_data"
    },
    {
     "data": {
      "text/html": [
       " View sweep at <a href='https://wandb.ai/manoj_da24s018-iit-madras/Transliterator_Attention_HyperParameterSweep/sweeps/htfl2fri' target=\"_blank\">https://wandb.ai/manoj_da24s018-iit-madras/Transliterator_Attention_HyperParameterSweep/sweeps/htfl2fri</a>"
      ],
      "text/plain": [
       "<IPython.core.display.HTML object>"
      ]
     },
     "metadata": {},
     "output_type": "display_data"
    },
    {
     "data": {
      "text/html": [
       " View run at <a href='https://wandb.ai/manoj_da24s018-iit-madras/Transliterator_Attention_HyperParameterSweep/runs/q2cna241' target=\"_blank\">https://wandb.ai/manoj_da24s018-iit-madras/Transliterator_Attention_HyperParameterSweep/runs/q2cna241</a>"
      ],
      "text/plain": [
       "<IPython.core.display.HTML object>"
      ]
     },
     "metadata": {},
     "output_type": "display_data"
    },
    {
     "name": "stdout",
     "output_type": "stream",
     "text": [
      "Sweep Name:  RNN Layer Type: gru, Character_Embedding_dim: 16, Hidden_dim:512, Num_Encoder_Layer:2, Num_Decoder_Layer:1, Dropout:0.2\n"
     ]
    },
    {
     "name": "stderr",
     "output_type": "stream",
     "text": [
      "wandb: WARNING The save_model argument by default saves the model in the HDF5 format that cannot save custom objects like subclassed models and custom layers. This behavior will be deprecated in a future release in favor of the SavedModel format. Meanwhile, the HDF5 model is saved as W&B files and the SavedModel as W&B Artifacts.\n"
     ]
    },
    {
     "name": "stdout",
     "output_type": "stream",
     "text": [
      "Epoch 1/10\n",
      "   6/1582 [..............................] - ETA: 39s - loss: 3.5339 - accuracy: 0.5571WARNING:tensorflow:Callback method `on_train_batch_end` is slow compared to the batch time (batch time: 0.0118s vs `on_train_batch_end` time: 0.0129s). Check your callbacks.\n",
      "1581/1582 [============================>.] - ETA: 0s - loss: 0.5654 - accuracy: 0.8474\n",
      "Epoch 1: Word-level Accuracy = 0.3811\n"
     ]
    },
    {
     "name": "stderr",
     "output_type": "stream",
     "text": [
      "WARNING:absl:Found untraced functions such as gru_cell_layer_call_fn, gru_cell_layer_call_and_return_conditional_losses, gru_cell_1_layer_call_fn, gru_cell_1_layer_call_and_return_conditional_losses, gru_cell_2_layer_call_fn while saving (showing 5 of 6). These functions will not be directly callable after loading.\n"
     ]
    },
    {
     "name": "stdout",
     "output_type": "stream",
     "text": [
      "INFO:tensorflow:Assets written to: D:\\DL\\wandb\\run-20250515_215311-q2cna241\\files\\model-best\\assets\n"
     ]
    },
    {
     "name": "stderr",
     "output_type": "stream",
     "text": [
      "INFO:tensorflow:Assets written to: D:\\DL\\wandb\\run-20250515_215311-q2cna241\\files\\model-best\\assets\n",
      "wandb: Adding directory to artifact (D:\\DL\\wandb\\run-20250515_215311-q2cna241\\files\\model-best)... Done. 0.1s\n"
     ]
    },
    {
     "name": "stdout",
     "output_type": "stream",
     "text": [
      "1582/1582 [==============================] - 31s 17ms/step - loss: 0.5651 - accuracy: 0.8474 - val_loss: 0.1317 - val_accuracy: 0.9612 - WordAccuracy: 0.3811\n",
      "Epoch 2/10\n",
      "1582/1582 [==============================] - ETA: 0s - loss: 0.1141 - accuracy: 0.9656\n",
      "Epoch 2: Word-level Accuracy = 0.4532\n"
     ]
    },
    {
     "name": "stderr",
     "output_type": "stream",
     "text": [
      "WARNING:absl:Found untraced functions such as gru_cell_layer_call_fn, gru_cell_layer_call_and_return_conditional_losses, gru_cell_1_layer_call_fn, gru_cell_1_layer_call_and_return_conditional_losses, gru_cell_2_layer_call_fn while saving (showing 5 of 6). These functions will not be directly callable after loading.\n"
     ]
    },
    {
     "name": "stdout",
     "output_type": "stream",
     "text": [
      "INFO:tensorflow:Assets written to: D:\\DL\\wandb\\run-20250515_215311-q2cna241\\files\\model-best\\assets\n"
     ]
    },
    {
     "name": "stderr",
     "output_type": "stream",
     "text": [
      "INFO:tensorflow:Assets written to: D:\\DL\\wandb\\run-20250515_215311-q2cna241\\files\\model-best\\assets\n",
      "wandb: Adding directory to artifact (D:\\DL\\wandb\\run-20250515_215311-q2cna241\\files\\model-best)... Done. 0.1s\n"
     ]
    },
    {
     "name": "stdout",
     "output_type": "stream",
     "text": [
      "1582/1582 [==============================] - 27s 17ms/step - loss: 0.1141 - accuracy: 0.9656 - val_loss: 0.1057 - val_accuracy: 0.9667 - WordAccuracy: 0.4532\n",
      "Epoch 3/10\n",
      "1582/1582 [==============================] - ETA: 0s - loss: 0.0881 - accuracy: 0.9729\n",
      "Epoch 3: Word-level Accuracy = 0.4719\n"
     ]
    },
    {
     "name": "stderr",
     "output_type": "stream",
     "text": [
      "WARNING:absl:Found untraced functions such as gru_cell_layer_call_fn, gru_cell_layer_call_and_return_conditional_losses, gru_cell_1_layer_call_fn, gru_cell_1_layer_call_and_return_conditional_losses, gru_cell_2_layer_call_fn while saving (showing 5 of 6). These functions will not be directly callable after loading.\n"
     ]
    },
    {
     "name": "stdout",
     "output_type": "stream",
     "text": [
      "INFO:tensorflow:Assets written to: D:\\DL\\wandb\\run-20250515_215311-q2cna241\\files\\model-best\\assets\n"
     ]
    },
    {
     "name": "stderr",
     "output_type": "stream",
     "text": [
      "INFO:tensorflow:Assets written to: D:\\DL\\wandb\\run-20250515_215311-q2cna241\\files\\model-best\\assets\n",
      "wandb: Adding directory to artifact (D:\\DL\\wandb\\run-20250515_215311-q2cna241\\files\\model-best)... Done. 0.1s\n"
     ]
    },
    {
     "name": "stdout",
     "output_type": "stream",
     "text": [
      "1582/1582 [==============================] - 26s 17ms/step - loss: 0.0881 - accuracy: 0.9729 - val_loss: 0.0981 - val_accuracy: 0.9693 - WordAccuracy: 0.4719\n",
      "Epoch 4/10\n",
      "1580/1582 [============================>.] - ETA: 0s - loss: 0.0760 - accuracy: 0.9766\n",
      "Epoch 4: Word-level Accuracy = 0.4818\n"
     ]
    },
    {
     "name": "stderr",
     "output_type": "stream",
     "text": [
      "WARNING:absl:Found untraced functions such as gru_cell_layer_call_fn, gru_cell_layer_call_and_return_conditional_losses, gru_cell_1_layer_call_fn, gru_cell_1_layer_call_and_return_conditional_losses, gru_cell_2_layer_call_fn while saving (showing 5 of 6). These functions will not be directly callable after loading.\n"
     ]
    },
    {
     "name": "stdout",
     "output_type": "stream",
     "text": [
      "INFO:tensorflow:Assets written to: D:\\DL\\wandb\\run-20250515_215311-q2cna241\\files\\model-best\\assets\n"
     ]
    },
    {
     "name": "stderr",
     "output_type": "stream",
     "text": [
      "INFO:tensorflow:Assets written to: D:\\DL\\wandb\\run-20250515_215311-q2cna241\\files\\model-best\\assets\n",
      "wandb: Adding directory to artifact (D:\\DL\\wandb\\run-20250515_215311-q2cna241\\files\\model-best)... Done. 0.1s\n"
     ]
    },
    {
     "name": "stdout",
     "output_type": "stream",
     "text": [
      "1582/1582 [==============================] - 27s 17ms/step - loss: 0.0759 - accuracy: 0.9766 - val_loss: 0.0981 - val_accuracy: 0.9706 - WordAccuracy: 0.4818\n",
      "Epoch 5/10\n",
      "1578/1582 [============================>.] - ETA: 0s - loss: 0.0674 - accuracy: 0.9793\n",
      "Epoch 5: Word-level Accuracy = 0.4802\n"
     ]
    },
    {
     "name": "stderr",
     "output_type": "stream",
     "text": [
      "WARNING:absl:Found untraced functions such as gru_cell_layer_call_fn, gru_cell_layer_call_and_return_conditional_losses, gru_cell_1_layer_call_fn, gru_cell_1_layer_call_and_return_conditional_losses, gru_cell_2_layer_call_fn while saving (showing 5 of 6). These functions will not be directly callable after loading.\n"
     ]
    },
    {
     "name": "stdout",
     "output_type": "stream",
     "text": [
      "INFO:tensorflow:Assets written to: D:\\DL\\wandb\\run-20250515_215311-q2cna241\\files\\model-best\\assets\n"
     ]
    },
    {
     "name": "stderr",
     "output_type": "stream",
     "text": [
      "INFO:tensorflow:Assets written to: D:\\DL\\wandb\\run-20250515_215311-q2cna241\\files\\model-best\\assets\n",
      "wandb: Adding directory to artifact (D:\\DL\\wandb\\run-20250515_215311-q2cna241\\files\\model-best)... Done. 0.1s\n"
     ]
    },
    {
     "name": "stdout",
     "output_type": "stream",
     "text": [
      "1582/1582 [==============================] - 25s 16ms/step - loss: 0.0674 - accuracy: 0.9793 - val_loss: 0.0945 - val_accuracy: 0.9713 - WordAccuracy: 0.4802\n",
      "Epoch 6/10\n",
      "1578/1582 [============================>.] - ETA: 0s - loss: 0.0605 - accuracy: 0.9813\n",
      "Epoch 6: Word-level Accuracy = 0.5142\n"
     ]
    },
    {
     "name": "stderr",
     "output_type": "stream",
     "text": [
      "WARNING:absl:Found untraced functions such as gru_cell_layer_call_fn, gru_cell_layer_call_and_return_conditional_losses, gru_cell_1_layer_call_fn, gru_cell_1_layer_call_and_return_conditional_losses, gru_cell_2_layer_call_fn while saving (showing 5 of 6). These functions will not be directly callable after loading.\n"
     ]
    },
    {
     "name": "stdout",
     "output_type": "stream",
     "text": [
      "INFO:tensorflow:Assets written to: D:\\DL\\wandb\\run-20250515_215311-q2cna241\\files\\model-best\\assets\n"
     ]
    },
    {
     "name": "stderr",
     "output_type": "stream",
     "text": [
      "INFO:tensorflow:Assets written to: D:\\DL\\wandb\\run-20250515_215311-q2cna241\\files\\model-best\\assets\n",
      "wandb: Adding directory to artifact (D:\\DL\\wandb\\run-20250515_215311-q2cna241\\files\\model-best)... Done. 0.1s\n"
     ]
    },
    {
     "name": "stdout",
     "output_type": "stream",
     "text": [
      "1582/1582 [==============================] - 25s 16ms/step - loss: 0.0604 - accuracy: 0.9813 - val_loss: 0.0937 - val_accuracy: 0.9733 - WordAccuracy: 0.5142\n",
      "Epoch 7/10\n",
      "1580/1582 [============================>.] - ETA: 0s - loss: 0.0557 - accuracy: 0.9828\n",
      "Epoch 7: Word-level Accuracy = 0.5045\n",
      "1582/1582 [==============================] - 21s 13ms/step - loss: 0.0558 - accuracy: 0.9828 - val_loss: 0.0972 - val_accuracy: 0.9725 - WordAccuracy: 0.5045\n",
      "Epoch 8/10\n",
      "1578/1582 [============================>.] - ETA: 0s - loss: 0.0518 - accuracy: 0.9842\n",
      "Epoch 8: Word-level Accuracy = 0.5266\n"
     ]
    },
    {
     "name": "stderr",
     "output_type": "stream",
     "text": [
      "WARNING:absl:Found untraced functions such as gru_cell_layer_call_fn, gru_cell_layer_call_and_return_conditional_losses, gru_cell_1_layer_call_fn, gru_cell_1_layer_call_and_return_conditional_losses, gru_cell_2_layer_call_fn while saving (showing 5 of 6). These functions will not be directly callable after loading.\n"
     ]
    },
    {
     "name": "stdout",
     "output_type": "stream",
     "text": [
      "INFO:tensorflow:Assets written to: D:\\DL\\wandb\\run-20250515_215311-q2cna241\\files\\model-best\\assets\n"
     ]
    },
    {
     "name": "stderr",
     "output_type": "stream",
     "text": [
      "INFO:tensorflow:Assets written to: D:\\DL\\wandb\\run-20250515_215311-q2cna241\\files\\model-best\\assets\n",
      "wandb: Adding directory to artifact (D:\\DL\\wandb\\run-20250515_215311-q2cna241\\files\\model-best)... Done. 0.1s\n"
     ]
    },
    {
     "name": "stdout",
     "output_type": "stream",
     "text": [
      "1582/1582 [==============================] - 27s 17ms/step - loss: 0.0518 - accuracy: 0.9842 - val_loss: 0.0915 - val_accuracy: 0.9741 - WordAccuracy: 0.5266\n",
      "Epoch 9/10\n",
      "1580/1582 [============================>.] - ETA: 0s - loss: 0.0482 - accuracy: 0.9852\n",
      "Epoch 9: Word-level Accuracy = 0.5323\n"
     ]
    },
    {
     "name": "stderr",
     "output_type": "stream",
     "text": [
      "WARNING:absl:Found untraced functions such as gru_cell_layer_call_fn, gru_cell_layer_call_and_return_conditional_losses, gru_cell_1_layer_call_fn, gru_cell_1_layer_call_and_return_conditional_losses, gru_cell_2_layer_call_fn while saving (showing 5 of 6). These functions will not be directly callable after loading.\n"
     ]
    },
    {
     "name": "stdout",
     "output_type": "stream",
     "text": [
      "INFO:tensorflow:Assets written to: D:\\DL\\wandb\\run-20250515_215311-q2cna241\\files\\model-best\\assets\n"
     ]
    },
    {
     "name": "stderr",
     "output_type": "stream",
     "text": [
      "INFO:tensorflow:Assets written to: D:\\DL\\wandb\\run-20250515_215311-q2cna241\\files\\model-best\\assets\n",
      "wandb: Adding directory to artifact (D:\\DL\\wandb\\run-20250515_215311-q2cna241\\files\\model-best)... Done. 0.1s\n"
     ]
    },
    {
     "name": "stdout",
     "output_type": "stream",
     "text": [
      "1582/1582 [==============================] - 27s 17ms/step - loss: 0.0482 - accuracy: 0.9852 - val_loss: 0.0914 - val_accuracy: 0.9744 - WordAccuracy: 0.5323\n",
      "Epoch 10/10\n",
      "1577/1582 [============================>.] - ETA: 0s - loss: 0.0450 - accuracy: 0.9860\n",
      "Epoch 10: Word-level Accuracy = 0.5369\n"
     ]
    },
    {
     "name": "stderr",
     "output_type": "stream",
     "text": [
      "WARNING:absl:Found untraced functions such as gru_cell_layer_call_fn, gru_cell_layer_call_and_return_conditional_losses, gru_cell_1_layer_call_fn, gru_cell_1_layer_call_and_return_conditional_losses, gru_cell_2_layer_call_fn while saving (showing 5 of 6). These functions will not be directly callable after loading.\n"
     ]
    },
    {
     "name": "stdout",
     "output_type": "stream",
     "text": [
      "INFO:tensorflow:Assets written to: D:\\DL\\wandb\\run-20250515_215311-q2cna241\\files\\model-best\\assets\n"
     ]
    },
    {
     "name": "stderr",
     "output_type": "stream",
     "text": [
      "INFO:tensorflow:Assets written to: D:\\DL\\wandb\\run-20250515_215311-q2cna241\\files\\model-best\\assets\n",
      "wandb: Adding directory to artifact (D:\\DL\\wandb\\run-20250515_215311-q2cna241\\files\\model-best)... Done. 0.1s\n"
     ]
    },
    {
     "name": "stdout",
     "output_type": "stream",
     "text": [
      "1582/1582 [==============================] - 25s 16ms/step - loss: 0.0450 - accuracy: 0.9860 - val_loss: 0.0906 - val_accuracy: 0.9750 - WordAccuracy: 0.5369\n"
     ]
    },
    {
     "data": {
      "application/vnd.jupyter.widget-view+json": {
       "model_id": "d9e50ea5d88647588026b8797f121c12",
       "version_major": 2,
       "version_minor": 0
      },
      "text/plain": [
       "VBox(children=(Label(value='354.287 MB of 354.287 MB uploaded (0.220 MB deduped)\\r'), FloatProgress(value=1.0,…"
      ]
     },
     "metadata": {},
     "output_type": "display_data"
    },
    {
     "data": {
      "text/html": [
       "<style>\n",
       "    table.wandb td:nth-child(1) { padding: 0 10px; text-align: left ; width: auto;} td:nth-child(2) {text-align: left ; width: 100%}\n",
       "    .wandb-row { display: flex; flex-direction: row; flex-wrap: wrap; justify-content: flex-start; width: 100% }\n",
       "    .wandb-col { display: flex; flex-direction: column; flex-basis: 100%; flex: 1; padding: 10px; }\n",
       "    </style>\n",
       "<div class=\"wandb-row\"><div class=\"wandb-col\"><h3>Run history:</h3><br/><table class=\"wandb\"><tr><td>Val_WordAccuracy</td><td>▁▄▅▆▅▇▇███</td></tr><tr><td>WordAccuracy</td><td>▁▄▅▆▅▇▇███</td></tr><tr><td>accuracy</td><td>▁▇▇███████</td></tr><tr><td>epoch</td><td>▂▁▂▂▃▂▄▃▅▄▅▅▆▅▇▆▇▇█▇</td></tr><tr><td>loss</td><td>█▂▂▁▁▁▁▁▁▁</td></tr><tr><td>val_accuracy</td><td>▁▄▅▆▆▇▇███</td></tr><tr><td>val_loss</td><td>█▄▂▂▂▂▂▁▁▁</td></tr></table><br/></div><div class=\"wandb-col\"><h3>Run summary:</h3><br/><table class=\"wandb\"><tr><td>Val_WordAccuracy</td><td>0.5369</td></tr><tr><td>WordAccuracy</td><td>0.5369</td></tr><tr><td>accuracy</td><td>0.98602</td></tr><tr><td>best_epoch</td><td>9</td></tr><tr><td>best_val_loss</td><td>0.09058</td></tr><tr><td>epoch</td><td>9</td></tr><tr><td>loss</td><td>0.04501</td></tr><tr><td>val_accuracy</td><td>0.97502</td></tr><tr><td>val_loss</td><td>0.09058</td></tr></table><br/></div></div>"
      ],
      "text/plain": [
       "<IPython.core.display.HTML object>"
      ]
     },
     "metadata": {},
     "output_type": "display_data"
    },
    {
     "data": {
      "text/html": [
       " View run <strong style=\"color:#cdcd00\">ethereal-sweep-1</strong> at: <a href='https://wandb.ai/manoj_da24s018-iit-madras/Transliterator_Attention_HyperParameterSweep/runs/q2cna241' target=\"_blank\">https://wandb.ai/manoj_da24s018-iit-madras/Transliterator_Attention_HyperParameterSweep/runs/q2cna241</a><br/> View project at: <a href='https://wandb.ai/manoj_da24s018-iit-madras/Transliterator_Attention_HyperParameterSweep' target=\"_blank\">https://wandb.ai/manoj_da24s018-iit-madras/Transliterator_Attention_HyperParameterSweep</a><br/>Synced 5 W&B file(s), 1 media file(s), 36 artifact file(s) and 1 other file(s)"
      ],
      "text/plain": [
       "<IPython.core.display.HTML object>"
      ]
     },
     "metadata": {},
     "output_type": "display_data"
    },
    {
     "data": {
      "text/html": [
       "Find logs at: <code>.\\wandb\\run-20250515_215311-q2cna241\\logs</code>"
      ],
      "text/plain": [
       "<IPython.core.display.HTML object>"
      ]
     },
     "metadata": {},
     "output_type": "display_data"
    },
    {
     "name": "stderr",
     "output_type": "stream",
     "text": [
      "wandb: Agent Starting Run: uej47aza with config:\n",
      "wandb: \tcell_type: rnn\n",
      "wandb: \tchar_embedding_dim: 16\n",
      "wandb: \tdecoder_layers: 2\n",
      "wandb: \tdropout: 0.4\n",
      "wandb: \tencoder_layers: 2\n",
      "wandb: \thidden_state_dim: 128\n"
     ]
    },
    {
     "data": {
      "text/html": [
       "wandb version 0.19.11 is available!  To upgrade, please run:\n",
       " $ pip install wandb --upgrade"
      ],
      "text/plain": [
       "<IPython.core.display.HTML object>"
      ]
     },
     "metadata": {},
     "output_type": "display_data"
    },
    {
     "data": {
      "text/html": [
       "Tracking run with wandb version 0.16.6"
      ],
      "text/plain": [
       "<IPython.core.display.HTML object>"
      ]
     },
     "metadata": {},
     "output_type": "display_data"
    },
    {
     "data": {
      "text/html": [
       "Run data is saved locally in <code>D:\\DL\\wandb\\run-20250515_215824-uej47aza</code>"
      ],
      "text/plain": [
       "<IPython.core.display.HTML object>"
      ]
     },
     "metadata": {},
     "output_type": "display_data"
    },
    {
     "data": {
      "text/html": [
       "Syncing run <strong><a href='https://wandb.ai/manoj_da24s018-iit-madras/Transliterator_Attention_HyperParameterSweep/runs/uej47aza' target=\"_blank\">fluent-sweep-2</a></strong> to <a href='https://wandb.ai/manoj_da24s018-iit-madras/Transliterator_Attention_HyperParameterSweep' target=\"_blank\">Weights & Biases</a> (<a href='https://wandb.me/run' target=\"_blank\">docs</a>)<br/>Sweep page: <a href='https://wandb.ai/manoj_da24s018-iit-madras/Transliterator_Attention_HyperParameterSweep/sweeps/htfl2fri' target=\"_blank\">https://wandb.ai/manoj_da24s018-iit-madras/Transliterator_Attention_HyperParameterSweep/sweeps/htfl2fri</a>"
      ],
      "text/plain": [
       "<IPython.core.display.HTML object>"
      ]
     },
     "metadata": {},
     "output_type": "display_data"
    },
    {
     "data": {
      "text/html": [
       " View project at <a href='https://wandb.ai/manoj_da24s018-iit-madras/Transliterator_Attention_HyperParameterSweep' target=\"_blank\">https://wandb.ai/manoj_da24s018-iit-madras/Transliterator_Attention_HyperParameterSweep</a>"
      ],
      "text/plain": [
       "<IPython.core.display.HTML object>"
      ]
     },
     "metadata": {},
     "output_type": "display_data"
    },
    {
     "data": {
      "text/html": [
       " View sweep at <a href='https://wandb.ai/manoj_da24s018-iit-madras/Transliterator_Attention_HyperParameterSweep/sweeps/htfl2fri' target=\"_blank\">https://wandb.ai/manoj_da24s018-iit-madras/Transliterator_Attention_HyperParameterSweep/sweeps/htfl2fri</a>"
      ],
      "text/plain": [
       "<IPython.core.display.HTML object>"
      ]
     },
     "metadata": {},
     "output_type": "display_data"
    },
    {
     "data": {
      "text/html": [
       " View run at <a href='https://wandb.ai/manoj_da24s018-iit-madras/Transliterator_Attention_HyperParameterSweep/runs/uej47aza' target=\"_blank\">https://wandb.ai/manoj_da24s018-iit-madras/Transliterator_Attention_HyperParameterSweep/runs/uej47aza</a>"
      ],
      "text/plain": [
       "<IPython.core.display.HTML object>"
      ]
     },
     "metadata": {},
     "output_type": "display_data"
    },
    {
     "name": "stdout",
     "output_type": "stream",
     "text": [
      "Sweep Name:  RNN Layer Type: rnn, Character_Embedding_dim: 16, Hidden_dim:128, Num_Encoder_Layer:2, Num_Decoder_Layer:2, Dropout:0.4\n",
      "Epoch 1/10\n",
      "1582/1582 [==============================] - ETA: 0s - loss: 0.8913 - accuracy: 0.7585\n",
      "Epoch 1: Word-level Accuracy = 0.0545\n",
      "INFO:tensorflow:Assets written to: D:\\DL\\wandb\\run-20250515_215824-uej47aza\\files\\model-best\\assets\n"
     ]
    },
    {
     "name": "stderr",
     "output_type": "stream",
     "text": [
      "INFO:tensorflow:Assets written to: D:\\DL\\wandb\\run-20250515_215824-uej47aza\\files\\model-best\\assets\n",
      "wandb: Adding directory to artifact (D:\\DL\\wandb\\run-20250515_215824-uej47aza\\files\\model-best)... Done. 0.0s\n"
     ]
    },
    {
     "name": "stdout",
     "output_type": "stream",
     "text": [
      "1582/1582 [==============================] - 100s 62ms/step - loss: 0.8913 - accuracy: 0.7585 - val_loss: 0.3673 - val_accuracy: 0.9004 - WordAccuracy: 0.0545\n",
      "Epoch 2/10\n",
      "1582/1582 [==============================] - ETA: 0s - loss: 0.3618 - accuracy: 0.8981\n",
      "Epoch 2: Word-level Accuracy = 0.2487\n",
      "INFO:tensorflow:Assets written to: D:\\DL\\wandb\\run-20250515_215824-uej47aza\\files\\model-best\\assets\n"
     ]
    },
    {
     "name": "stderr",
     "output_type": "stream",
     "text": [
      "INFO:tensorflow:Assets written to: D:\\DL\\wandb\\run-20250515_215824-uej47aza\\files\\model-best\\assets\n",
      "wandb: Adding directory to artifact (D:\\DL\\wandb\\run-20250515_215824-uej47aza\\files\\model-best)... Done. 0.0s\n"
     ]
    },
    {
     "name": "stdout",
     "output_type": "stream",
     "text": [
      "1582/1582 [==============================] - 111s 70ms/step - loss: 0.3618 - accuracy: 0.8981 - val_loss: 0.1803 - val_accuracy: 0.9476 - WordAccuracy: 0.2487\n",
      "Epoch 3/10\n",
      "1582/1582 [==============================] - ETA: 0s - loss: 0.2498 - accuracy: 0.9290\n",
      "Epoch 3: Word-level Accuracy = 0.3292\n",
      "INFO:tensorflow:Assets written to: D:\\DL\\wandb\\run-20250515_215824-uej47aza\\files\\model-best\\assets\n"
     ]
    },
    {
     "name": "stderr",
     "output_type": "stream",
     "text": [
      "INFO:tensorflow:Assets written to: D:\\DL\\wandb\\run-20250515_215824-uej47aza\\files\\model-best\\assets\n",
      "wandb: Adding directory to artifact (D:\\DL\\wandb\\run-20250515_215824-uej47aza\\files\\model-best)... Done. 0.0s\n"
     ]
    },
    {
     "name": "stdout",
     "output_type": "stream",
     "text": [
      "1582/1582 [==============================] - 115s 73ms/step - loss: 0.2498 - accuracy: 0.9290 - val_loss: 0.1464 - val_accuracy: 0.9568 - WordAccuracy: 0.3292\n",
      "Epoch 4/10\n",
      "1582/1582 [==============================] - ETA: 0s - loss: 0.2112 - accuracy: 0.9392\n",
      "Epoch 4: Word-level Accuracy = 0.3489\n",
      "INFO:tensorflow:Assets written to: D:\\DL\\wandb\\run-20250515_215824-uej47aza\\files\\model-best\\assets\n"
     ]
    },
    {
     "name": "stderr",
     "output_type": "stream",
     "text": [
      "INFO:tensorflow:Assets written to: D:\\DL\\wandb\\run-20250515_215824-uej47aza\\files\\model-best\\assets\n",
      "wandb: Adding directory to artifact (D:\\DL\\wandb\\run-20250515_215824-uej47aza\\files\\model-best)... Done. 0.0s\n"
     ]
    },
    {
     "name": "stdout",
     "output_type": "stream",
     "text": [
      "1582/1582 [==============================] - 114s 72ms/step - loss: 0.2112 - accuracy: 0.9392 - val_loss: 0.1376 - val_accuracy: 0.9590 - WordAccuracy: 0.3489\n",
      "Epoch 5/10\n",
      "1582/1582 [==============================] - ETA: 0s - loss: 0.1886 - accuracy: 0.9455\n",
      "Epoch 5: Word-level Accuracy = 0.3744\n",
      "INFO:tensorflow:Assets written to: D:\\DL\\wandb\\run-20250515_215824-uej47aza\\files\\model-best\\assets\n"
     ]
    },
    {
     "name": "stderr",
     "output_type": "stream",
     "text": [
      "INFO:tensorflow:Assets written to: D:\\DL\\wandb\\run-20250515_215824-uej47aza\\files\\model-best\\assets\n",
      "wandb: Adding directory to artifact (D:\\DL\\wandb\\run-20250515_215824-uej47aza\\files\\model-best)... Done. 0.0s\n"
     ]
    },
    {
     "name": "stdout",
     "output_type": "stream",
     "text": [
      "1582/1582 [==============================] - 114s 72ms/step - loss: 0.1886 - accuracy: 0.9455 - val_loss: 0.1333 - val_accuracy: 0.9614 - WordAccuracy: 0.3744\n",
      "Epoch 6/10\n",
      "1582/1582 [==============================] - ETA: 0s - loss: 0.1736 - accuracy: 0.9492\n",
      "Epoch 6: Word-level Accuracy = 0.3895\n",
      "INFO:tensorflow:Assets written to: D:\\DL\\wandb\\run-20250515_215824-uej47aza\\files\\model-best\\assets\n"
     ]
    },
    {
     "name": "stderr",
     "output_type": "stream",
     "text": [
      "INFO:tensorflow:Assets written to: D:\\DL\\wandb\\run-20250515_215824-uej47aza\\files\\model-best\\assets\n",
      "wandb: Adding directory to artifact (D:\\DL\\wandb\\run-20250515_215824-uej47aza\\files\\model-best)... Done. 0.0s\n"
     ]
    },
    {
     "name": "stdout",
     "output_type": "stream",
     "text": [
      "1582/1582 [==============================] - 111s 70ms/step - loss: 0.1736 - accuracy: 0.9492 - val_loss: 0.1280 - val_accuracy: 0.9627 - WordAccuracy: 0.3895\n",
      "Epoch 7/10\n",
      "1582/1582 [==============================] - ETA: 0s - loss: 0.1630 - accuracy: 0.9521\n",
      "Epoch 7: Word-level Accuracy = 0.3959\n",
      "INFO:tensorflow:Assets written to: D:\\DL\\wandb\\run-20250515_215824-uej47aza\\files\\model-best\\assets\n"
     ]
    },
    {
     "name": "stderr",
     "output_type": "stream",
     "text": [
      "INFO:tensorflow:Assets written to: D:\\DL\\wandb\\run-20250515_215824-uej47aza\\files\\model-best\\assets\n",
      "wandb: Adding directory to artifact (D:\\DL\\wandb\\run-20250515_215824-uej47aza\\files\\model-best)... Done. 0.0s\n"
     ]
    },
    {
     "name": "stdout",
     "output_type": "stream",
     "text": [
      "1582/1582 [==============================] - 110s 70ms/step - loss: 0.1630 - accuracy: 0.9521 - val_loss: 0.1225 - val_accuracy: 0.9631 - WordAccuracy: 0.3959\n",
      "Epoch 8/10\n",
      "1582/1582 [==============================] - ETA: 0s - loss: 0.1537 - accuracy: 0.9544\n",
      "Epoch 8: Word-level Accuracy = 0.3947\n",
      "1582/1582 [==============================] - 104s 66ms/step - loss: 0.1537 - accuracy: 0.9544 - val_loss: 0.1242 - val_accuracy: 0.9627 - WordAccuracy: 0.3947\n",
      "Epoch 9/10\n",
      "1582/1582 [==============================] - ETA: 0s - loss: 0.1473 - accuracy: 0.9563\n",
      "Epoch 9: Word-level Accuracy = 0.3961\n",
      "INFO:tensorflow:Assets written to: D:\\DL\\wandb\\run-20250515_215824-uej47aza\\files\\model-best\\assets\n"
     ]
    },
    {
     "name": "stderr",
     "output_type": "stream",
     "text": [
      "INFO:tensorflow:Assets written to: D:\\DL\\wandb\\run-20250515_215824-uej47aza\\files\\model-best\\assets\n",
      "wandb: Adding directory to artifact (D:\\DL\\wandb\\run-20250515_215824-uej47aza\\files\\model-best)... Done. 0.0s\n"
     ]
    },
    {
     "name": "stdout",
     "output_type": "stream",
     "text": [
      "1582/1582 [==============================] - 108s 68ms/step - loss: 0.1473 - accuracy: 0.9563 - val_loss: 0.1165 - val_accuracy: 0.9645 - WordAccuracy: 0.3961\n",
      "Epoch 10/10\n",
      "1582/1582 [==============================] - ETA: 0s - loss: 0.1410 - accuracy: 0.9579\n",
      "Epoch 10: Word-level Accuracy = 0.4142\n",
      "INFO:tensorflow:Assets written to: D:\\DL\\wandb\\run-20250515_215824-uej47aza\\files\\model-best\\assets\n"
     ]
    },
    {
     "name": "stderr",
     "output_type": "stream",
     "text": [
      "INFO:tensorflow:Assets written to: D:\\DL\\wandb\\run-20250515_215824-uej47aza\\files\\model-best\\assets\n",
      "wandb: Adding directory to artifact (D:\\DL\\wandb\\run-20250515_215824-uej47aza\\files\\model-best)... Done. 0.0s\n"
     ]
    },
    {
     "name": "stdout",
     "output_type": "stream",
     "text": [
      "1582/1582 [==============================] - 110s 69ms/step - loss: 0.1410 - accuracy: 0.9579 - val_loss: 0.1149 - val_accuracy: 0.9651 - WordAccuracy: 0.4142\n"
     ]
    },
    {
     "data": {
      "application/vnd.jupyter.widget-view+json": {
       "model_id": "dc832eac36d343b39b6036f80eb05a0e",
       "version_major": 2,
       "version_minor": 0
      },
      "text/plain": [
       "VBox(children=(Label(value='16.591 MB of 16.591 MB uploaded (0.215 MB deduped)\\r'), FloatProgress(value=1.0, m…"
      ]
     },
     "metadata": {},
     "output_type": "display_data"
    },
    {
     "data": {
      "text/html": [
       "W&B sync reduced upload amount by 1.2%             "
      ],
      "text/plain": [
       "<IPython.core.display.HTML object>"
      ]
     },
     "metadata": {},
     "output_type": "display_data"
    },
    {
     "data": {
      "text/html": [
       "<style>\n",
       "    table.wandb td:nth-child(1) { padding: 0 10px; text-align: left ; width: auto;} td:nth-child(2) {text-align: left ; width: 100%}\n",
       "    .wandb-row { display: flex; flex-direction: row; flex-wrap: wrap; justify-content: flex-start; width: 100% }\n",
       "    .wandb-col { display: flex; flex-direction: column; flex-basis: 100%; flex: 1; padding: 10px; }\n",
       "    </style>\n",
       "<div class=\"wandb-row\"><div class=\"wandb-col\"><h3>Run history:</h3><br/><table class=\"wandb\"><tr><td>Val_WordAccuracy</td><td>▁▅▆▇▇█████</td></tr><tr><td>WordAccuracy</td><td>▁▅▆▇▇█████</td></tr><tr><td>accuracy</td><td>▁▆▇▇██████</td></tr><tr><td>epoch</td><td>▂▁▂▂▃▂▄▃▅▄▅▅▆▅▇▆▇▇█▇</td></tr><tr><td>loss</td><td>█▃▂▂▁▁▁▁▁▁</td></tr><tr><td>val_accuracy</td><td>▁▆▇▇██████</td></tr><tr><td>val_loss</td><td>█▃▂▂▂▁▁▁▁▁</td></tr></table><br/></div><div class=\"wandb-col\"><h3>Run summary:</h3><br/><table class=\"wandb\"><tr><td>Val_WordAccuracy</td><td>0.41416</td></tr><tr><td>WordAccuracy</td><td>0.41416</td></tr><tr><td>accuracy</td><td>0.95785</td></tr><tr><td>best_epoch</td><td>9</td></tr><tr><td>best_val_loss</td><td>0.11493</td></tr><tr><td>epoch</td><td>9</td></tr><tr><td>loss</td><td>0.14101</td></tr><tr><td>val_accuracy</td><td>0.96509</td></tr><tr><td>val_loss</td><td>0.11493</td></tr></table><br/></div></div>"
      ],
      "text/plain": [
       "<IPython.core.display.HTML object>"
      ]
     },
     "metadata": {},
     "output_type": "display_data"
    },
    {
     "data": {
      "text/html": [
       " View run <strong style=\"color:#cdcd00\">fluent-sweep-2</strong> at: <a href='https://wandb.ai/manoj_da24s018-iit-madras/Transliterator_Attention_HyperParameterSweep/runs/uej47aza' target=\"_blank\">https://wandb.ai/manoj_da24s018-iit-madras/Transliterator_Attention_HyperParameterSweep/runs/uej47aza</a><br/> View project at: <a href='https://wandb.ai/manoj_da24s018-iit-madras/Transliterator_Attention_HyperParameterSweep' target=\"_blank\">https://wandb.ai/manoj_da24s018-iit-madras/Transliterator_Attention_HyperParameterSweep</a><br/>Synced 5 W&B file(s), 1 media file(s), 36 artifact file(s) and 1 other file(s)"
      ],
      "text/plain": [
       "<IPython.core.display.HTML object>"
      ]
     },
     "metadata": {},
     "output_type": "display_data"
    },
    {
     "data": {
      "text/html": [
       "Find logs at: <code>.\\wandb\\run-20250515_215824-uej47aza\\logs</code>"
      ],
      "text/plain": [
       "<IPython.core.display.HTML object>"
      ]
     },
     "metadata": {},
     "output_type": "display_data"
    },
    {
     "name": "stderr",
     "output_type": "stream",
     "text": [
      "wandb: Agent Starting Run: lz0nqwl9 with config:\n",
      "wandb: \tcell_type: gru\n",
      "wandb: \tchar_embedding_dim: 16\n",
      "wandb: \tdecoder_layers: 3\n",
      "wandb: \tdropout: 0.4\n",
      "wandb: \tencoder_layers: 2\n",
      "wandb: \thidden_state_dim: 512\n"
     ]
    },
    {
     "data": {
      "text/html": [
       "wandb version 0.19.11 is available!  To upgrade, please run:\n",
       " $ pip install wandb --upgrade"
      ],
      "text/plain": [
       "<IPython.core.display.HTML object>"
      ]
     },
     "metadata": {},
     "output_type": "display_data"
    },
    {
     "data": {
      "text/html": [
       "Tracking run with wandb version 0.16.6"
      ],
      "text/plain": [
       "<IPython.core.display.HTML object>"
      ]
     },
     "metadata": {},
     "output_type": "display_data"
    },
    {
     "data": {
      "text/html": [
       "Run data is saved locally in <code>D:\\DL\\wandb\\run-20250515_221659-lz0nqwl9</code>"
      ],
      "text/plain": [
       "<IPython.core.display.HTML object>"
      ]
     },
     "metadata": {},
     "output_type": "display_data"
    },
    {
     "data": {
      "text/html": [
       "Syncing run <strong><a href='https://wandb.ai/manoj_da24s018-iit-madras/Transliterator_Attention_HyperParameterSweep/runs/lz0nqwl9' target=\"_blank\">faithful-sweep-3</a></strong> to <a href='https://wandb.ai/manoj_da24s018-iit-madras/Transliterator_Attention_HyperParameterSweep' target=\"_blank\">Weights & Biases</a> (<a href='https://wandb.me/run' target=\"_blank\">docs</a>)<br/>Sweep page: <a href='https://wandb.ai/manoj_da24s018-iit-madras/Transliterator_Attention_HyperParameterSweep/sweeps/htfl2fri' target=\"_blank\">https://wandb.ai/manoj_da24s018-iit-madras/Transliterator_Attention_HyperParameterSweep/sweeps/htfl2fri</a>"
      ],
      "text/plain": [
       "<IPython.core.display.HTML object>"
      ]
     },
     "metadata": {},
     "output_type": "display_data"
    },
    {
     "data": {
      "text/html": [
       " View project at <a href='https://wandb.ai/manoj_da24s018-iit-madras/Transliterator_Attention_HyperParameterSweep' target=\"_blank\">https://wandb.ai/manoj_da24s018-iit-madras/Transliterator_Attention_HyperParameterSweep</a>"
      ],
      "text/plain": [
       "<IPython.core.display.HTML object>"
      ]
     },
     "metadata": {},
     "output_type": "display_data"
    },
    {
     "data": {
      "text/html": [
       " View sweep at <a href='https://wandb.ai/manoj_da24s018-iit-madras/Transliterator_Attention_HyperParameterSweep/sweeps/htfl2fri' target=\"_blank\">https://wandb.ai/manoj_da24s018-iit-madras/Transliterator_Attention_HyperParameterSweep/sweeps/htfl2fri</a>"
      ],
      "text/plain": [
       "<IPython.core.display.HTML object>"
      ]
     },
     "metadata": {},
     "output_type": "display_data"
    },
    {
     "data": {
      "text/html": [
       " View run at <a href='https://wandb.ai/manoj_da24s018-iit-madras/Transliterator_Attention_HyperParameterSweep/runs/lz0nqwl9' target=\"_blank\">https://wandb.ai/manoj_da24s018-iit-madras/Transliterator_Attention_HyperParameterSweep/runs/lz0nqwl9</a>"
      ],
      "text/plain": [
       "<IPython.core.display.HTML object>"
      ]
     },
     "metadata": {},
     "output_type": "display_data"
    },
    {
     "name": "stdout",
     "output_type": "stream",
     "text": [
      "Sweep Name:  RNN Layer Type: gru, Character_Embedding_dim: 16, Hidden_dim:512, Num_Encoder_Layer:2, Num_Decoder_Layer:3, Dropout:0.4\n",
      "Epoch 1/10\n",
      "1582/1582 [==============================] - ETA: 0s - loss: 0.5881 - accuracy: 0.8382\n",
      "Epoch 1: Word-level Accuracy = 0.3426\n"
     ]
    },
    {
     "name": "stderr",
     "output_type": "stream",
     "text": [
      "WARNING:absl:Found untraced functions such as gru_cell_layer_call_fn, gru_cell_layer_call_and_return_conditional_losses, gru_cell_1_layer_call_fn, gru_cell_1_layer_call_and_return_conditional_losses, gru_cell_2_layer_call_fn while saving (showing 5 of 6). These functions will not be directly callable after loading.\n"
     ]
    },
    {
     "name": "stdout",
     "output_type": "stream",
     "text": [
      "INFO:tensorflow:Assets written to: D:\\DL\\wandb\\run-20250515_221659-lz0nqwl9\\files\\model-best\\assets\n"
     ]
    },
    {
     "name": "stderr",
     "output_type": "stream",
     "text": [
      "INFO:tensorflow:Assets written to: D:\\DL\\wandb\\run-20250515_221659-lz0nqwl9\\files\\model-best\\assets\n",
      "wandb: Adding directory to artifact (D:\\DL\\wandb\\run-20250515_221659-lz0nqwl9\\files\\model-best)... Done. 0.1s\n"
     ]
    },
    {
     "name": "stdout",
     "output_type": "stream",
     "text": [
      "1582/1582 [==============================] - 31s 18ms/step - loss: 0.5881 - accuracy: 0.8382 - val_loss: 0.1416 - val_accuracy: 0.9566 - WordAccuracy: 0.3426\n",
      "Epoch 2/10\n",
      "1578/1582 [============================>.] - ETA: 0s - loss: 0.1454 - accuracy: 0.9565\n",
      "Epoch 2: Word-level Accuracy = 0.4201\n"
     ]
    },
    {
     "name": "stderr",
     "output_type": "stream",
     "text": [
      "WARNING:absl:Found untraced functions such as gru_cell_layer_call_fn, gru_cell_layer_call_and_return_conditional_losses, gru_cell_1_layer_call_fn, gru_cell_1_layer_call_and_return_conditional_losses, gru_cell_2_layer_call_fn while saving (showing 5 of 6). These functions will not be directly callable after loading.\n"
     ]
    },
    {
     "name": "stdout",
     "output_type": "stream",
     "text": [
      "INFO:tensorflow:Assets written to: D:\\DL\\wandb\\run-20250515_221659-lz0nqwl9\\files\\model-best\\assets\n"
     ]
    },
    {
     "name": "stderr",
     "output_type": "stream",
     "text": [
      "INFO:tensorflow:Assets written to: D:\\DL\\wandb\\run-20250515_221659-lz0nqwl9\\files\\model-best\\assets\n",
      "wandb: Adding directory to artifact (D:\\DL\\wandb\\run-20250515_221659-lz0nqwl9\\files\\model-best)... Done. 0.1s\n"
     ]
    },
    {
     "name": "stdout",
     "output_type": "stream",
     "text": [
      "1582/1582 [==============================] - 28s 18ms/step - loss: 0.1454 - accuracy: 0.9565 - val_loss: 0.1174 - val_accuracy: 0.9649 - WordAccuracy: 0.4201\n",
      "Epoch 3/10\n",
      "1582/1582 [==============================] - ETA: 0s - loss: 0.1104 - accuracy: 0.9663\n",
      "Epoch 3: Word-level Accuracy = 0.4641\n"
     ]
    },
    {
     "name": "stderr",
     "output_type": "stream",
     "text": [
      "WARNING:absl:Found untraced functions such as gru_cell_layer_call_fn, gru_cell_layer_call_and_return_conditional_losses, gru_cell_1_layer_call_fn, gru_cell_1_layer_call_and_return_conditional_losses, gru_cell_2_layer_call_fn while saving (showing 5 of 6). These functions will not be directly callable after loading.\n"
     ]
    },
    {
     "name": "stdout",
     "output_type": "stream",
     "text": [
      "INFO:tensorflow:Assets written to: D:\\DL\\wandb\\run-20250515_221659-lz0nqwl9\\files\\model-best\\assets\n"
     ]
    },
    {
     "name": "stderr",
     "output_type": "stream",
     "text": [
      "INFO:tensorflow:Assets written to: D:\\DL\\wandb\\run-20250515_221659-lz0nqwl9\\files\\model-best\\assets\n",
      "wandb: Adding directory to artifact (D:\\DL\\wandb\\run-20250515_221659-lz0nqwl9\\files\\model-best)... Done. 0.1s\n"
     ]
    },
    {
     "name": "stdout",
     "output_type": "stream",
     "text": [
      "1582/1582 [==============================] - 28s 17ms/step - loss: 0.1104 - accuracy: 0.9663 - val_loss: 0.1002 - val_accuracy: 0.9686 - WordAccuracy: 0.4641\n",
      "Epoch 4/10\n",
      "1582/1582 [==============================] - ETA: 0s - loss: 0.0931 - accuracy: 0.9716\n",
      "Epoch 4: Word-level Accuracy = 0.4866\n"
     ]
    },
    {
     "name": "stderr",
     "output_type": "stream",
     "text": [
      "WARNING:absl:Found untraced functions such as gru_cell_layer_call_fn, gru_cell_layer_call_and_return_conditional_losses, gru_cell_1_layer_call_fn, gru_cell_1_layer_call_and_return_conditional_losses, gru_cell_2_layer_call_fn while saving (showing 5 of 6). These functions will not be directly callable after loading.\n"
     ]
    },
    {
     "name": "stdout",
     "output_type": "stream",
     "text": [
      "INFO:tensorflow:Assets written to: D:\\DL\\wandb\\run-20250515_221659-lz0nqwl9\\files\\model-best\\assets\n"
     ]
    },
    {
     "name": "stderr",
     "output_type": "stream",
     "text": [
      "INFO:tensorflow:Assets written to: D:\\DL\\wandb\\run-20250515_221659-lz0nqwl9\\files\\model-best\\assets\n",
      "wandb: Adding directory to artifact (D:\\DL\\wandb\\run-20250515_221659-lz0nqwl9\\files\\model-best)... Done. 0.1s\n"
     ]
    },
    {
     "name": "stdout",
     "output_type": "stream",
     "text": [
      "1582/1582 [==============================] - 27s 17ms/step - loss: 0.0931 - accuracy: 0.9716 - val_loss: 0.0968 - val_accuracy: 0.9708 - WordAccuracy: 0.4866\n",
      "Epoch 5/10\n",
      "1582/1582 [==============================] - ETA: 0s - loss: 0.0828 - accuracy: 0.9747\n",
      "Epoch 5: Word-level Accuracy = 0.4953\n"
     ]
    },
    {
     "name": "stderr",
     "output_type": "stream",
     "text": [
      "WARNING:absl:Found untraced functions such as gru_cell_layer_call_fn, gru_cell_layer_call_and_return_conditional_losses, gru_cell_1_layer_call_fn, gru_cell_1_layer_call_and_return_conditional_losses, gru_cell_2_layer_call_fn while saving (showing 5 of 6). These functions will not be directly callable after loading.\n"
     ]
    },
    {
     "name": "stdout",
     "output_type": "stream",
     "text": [
      "INFO:tensorflow:Assets written to: D:\\DL\\wandb\\run-20250515_221659-lz0nqwl9\\files\\model-best\\assets\n"
     ]
    },
    {
     "name": "stderr",
     "output_type": "stream",
     "text": [
      "INFO:tensorflow:Assets written to: D:\\DL\\wandb\\run-20250515_221659-lz0nqwl9\\files\\model-best\\assets\n",
      "wandb: Adding directory to artifact (D:\\DL\\wandb\\run-20250515_221659-lz0nqwl9\\files\\model-best)... Done. 0.1s\n"
     ]
    },
    {
     "name": "stdout",
     "output_type": "stream",
     "text": [
      "1582/1582 [==============================] - 25s 16ms/step - loss: 0.0828 - accuracy: 0.9747 - val_loss: 0.0945 - val_accuracy: 0.9710 - WordAccuracy: 0.4953\n",
      "Epoch 6/10\n",
      "1581/1582 [============================>.] - ETA: 0s - loss: 0.0737 - accuracy: 0.9774\n",
      "Epoch 6: Word-level Accuracy = 0.4989\n",
      "1582/1582 [==============================] - 20s 13ms/step - loss: 0.0737 - accuracy: 0.9774 - val_loss: 0.0959 - val_accuracy: 0.9711 - WordAccuracy: 0.4989\n",
      "Epoch 7/10\n",
      "1581/1582 [============================>.] - ETA: 0s - loss: 0.0669 - accuracy: 0.9794\n",
      "Epoch 7: Word-level Accuracy = 0.4995\n"
     ]
    },
    {
     "name": "stderr",
     "output_type": "stream",
     "text": [
      "WARNING:absl:Found untraced functions such as gru_cell_layer_call_fn, gru_cell_layer_call_and_return_conditional_losses, gru_cell_1_layer_call_fn, gru_cell_1_layer_call_and_return_conditional_losses, gru_cell_2_layer_call_fn while saving (showing 5 of 6). These functions will not be directly callable after loading.\n"
     ]
    },
    {
     "name": "stdout",
     "output_type": "stream",
     "text": [
      "INFO:tensorflow:Assets written to: D:\\DL\\wandb\\run-20250515_221659-lz0nqwl9\\files\\model-best\\assets\n"
     ]
    },
    {
     "name": "stderr",
     "output_type": "stream",
     "text": [
      "INFO:tensorflow:Assets written to: D:\\DL\\wandb\\run-20250515_221659-lz0nqwl9\\files\\model-best\\assets\n",
      "wandb: Adding directory to artifact (D:\\DL\\wandb\\run-20250515_221659-lz0nqwl9\\files\\model-best)... Done. 0.1s\n"
     ]
    },
    {
     "name": "stdout",
     "output_type": "stream",
     "text": [
      "1582/1582 [==============================] - 25s 16ms/step - loss: 0.0669 - accuracy: 0.9794 - val_loss: 0.0919 - val_accuracy: 0.9724 - WordAccuracy: 0.4995\n",
      "Epoch 8/10\n",
      "1577/1582 [============================>.] - ETA: 0s - loss: 0.0617 - accuracy: 0.9811\n",
      "Epoch 8: Word-level Accuracy = 0.5142\n",
      "1582/1582 [==============================] - 20s 13ms/step - loss: 0.0617 - accuracy: 0.9812 - val_loss: 0.0933 - val_accuracy: 0.9730 - WordAccuracy: 0.5142\n",
      "Epoch 9/10\n",
      "1582/1582 [==============================] - ETA: 0s - loss: 0.0581 - accuracy: 0.9821\n",
      "Epoch 9: Word-level Accuracy = 0.5126\n",
      "1582/1582 [==============================] - 20s 13ms/step - loss: 0.0581 - accuracy: 0.9821 - val_loss: 0.0954 - val_accuracy: 0.9728 - WordAccuracy: 0.5126\n",
      "Epoch 10/10\n",
      "1579/1582 [============================>.] - ETA: 0s - loss: 0.0548 - accuracy: 0.9831\n",
      "Epoch 10: Word-level Accuracy = 0.5218\n",
      "1582/1582 [==============================] - 21s 13ms/step - loss: 0.0548 - accuracy: 0.9831 - val_loss: 0.0948 - val_accuracy: 0.9734 - WordAccuracy: 0.5218\n"
     ]
    },
    {
     "data": {
      "application/vnd.jupyter.widget-view+json": {
       "model_id": "c12917d4fcb0423bbb42f351954e0f08",
       "version_major": 2,
       "version_minor": 0
      },
      "text/plain": [
       "VBox(children=(Label(value='236.195 MB of 236.195 MB uploaded (0.137 MB deduped)\\r'), FloatProgress(value=1.0,…"
      ]
     },
     "metadata": {},
     "output_type": "display_data"
    },
    {
     "data": {
      "text/html": [
       "<style>\n",
       "    table.wandb td:nth-child(1) { padding: 0 10px; text-align: left ; width: auto;} td:nth-child(2) {text-align: left ; width: 100%}\n",
       "    .wandb-row { display: flex; flex-direction: row; flex-wrap: wrap; justify-content: flex-start; width: 100% }\n",
       "    .wandb-col { display: flex; flex-direction: column; flex-basis: 100%; flex: 1; padding: 10px; }\n",
       "    </style>\n",
       "<div class=\"wandb-row\"><div class=\"wandb-col\"><h3>Run history:</h3><br/><table class=\"wandb\"><tr><td>Val_WordAccuracy</td><td>▁▄▆▇▇▇▇███</td></tr><tr><td>WordAccuracy</td><td>▁▄▆▇▇▇▇███</td></tr><tr><td>accuracy</td><td>▁▇▇▇██████</td></tr><tr><td>epoch</td><td>▂▁▂▂▃▂▄▃▅▄▅▅▆▅▇▆▇▇█▇</td></tr><tr><td>loss</td><td>█▂▂▂▁▁▁▁▁▁</td></tr><tr><td>val_accuracy</td><td>▁▄▆▇▇▇████</td></tr><tr><td>val_loss</td><td>█▅▂▂▁▂▁▁▁▁</td></tr></table><br/></div><div class=\"wandb-col\"><h3>Run summary:</h3><br/><table class=\"wandb\"><tr><td>Val_WordAccuracy</td><td>0.52178</td></tr><tr><td>WordAccuracy</td><td>0.52178</td></tr><tr><td>accuracy</td><td>0.98314</td></tr><tr><td>best_epoch</td><td>6</td></tr><tr><td>best_val_loss</td><td>0.0919</td></tr><tr><td>epoch</td><td>9</td></tr><tr><td>loss</td><td>0.05478</td></tr><tr><td>val_accuracy</td><td>0.97335</td></tr><tr><td>val_loss</td><td>0.09477</td></tr></table><br/></div></div>"
      ],
      "text/plain": [
       "<IPython.core.display.HTML object>"
      ]
     },
     "metadata": {},
     "output_type": "display_data"
    },
    {
     "data": {
      "text/html": [
       " View run <strong style=\"color:#cdcd00\">faithful-sweep-3</strong> at: <a href='https://wandb.ai/manoj_da24s018-iit-madras/Transliterator_Attention_HyperParameterSweep/runs/lz0nqwl9' target=\"_blank\">https://wandb.ai/manoj_da24s018-iit-madras/Transliterator_Attention_HyperParameterSweep/runs/lz0nqwl9</a><br/> View project at: <a href='https://wandb.ai/manoj_da24s018-iit-madras/Transliterator_Attention_HyperParameterSweep' target=\"_blank\">https://wandb.ai/manoj_da24s018-iit-madras/Transliterator_Attention_HyperParameterSweep</a><br/>Synced 5 W&B file(s), 1 media file(s), 24 artifact file(s) and 1 other file(s)"
      ],
      "text/plain": [
       "<IPython.core.display.HTML object>"
      ]
     },
     "metadata": {},
     "output_type": "display_data"
    },
    {
     "data": {
      "text/html": [
       "Find logs at: <code>.\\wandb\\run-20250515_221659-lz0nqwl9\\logs</code>"
      ],
      "text/plain": [
       "<IPython.core.display.HTML object>"
      ]
     },
     "metadata": {},
     "output_type": "display_data"
    },
    {
     "name": "stderr",
     "output_type": "stream",
     "text": [
      "wandb: Sweep Agent: Waiting for job.\n",
      "wandb: Job received.\n",
      "wandb: Agent Starting Run: nptfme97 with config:\n",
      "wandb: \tcell_type: gru\n",
      "wandb: \tchar_embedding_dim: 32\n",
      "wandb: \tdecoder_layers: 1\n",
      "wandb: \tdropout: 0.4\n",
      "wandb: \tencoder_layers: 3\n",
      "wandb: \thidden_state_dim: 64\n"
     ]
    },
    {
     "data": {
      "text/html": [
       "wandb version 0.19.11 is available!  To upgrade, please run:\n",
       " $ pip install wandb --upgrade"
      ],
      "text/plain": [
       "<IPython.core.display.HTML object>"
      ]
     },
     "metadata": {},
     "output_type": "display_data"
    },
    {
     "data": {
      "text/html": [
       "Tracking run with wandb version 0.16.6"
      ],
      "text/plain": [
       "<IPython.core.display.HTML object>"
      ]
     },
     "metadata": {},
     "output_type": "display_data"
    },
    {
     "data": {
      "text/html": [
       "Run data is saved locally in <code>D:\\DL\\wandb\\run-20250515_222128-nptfme97</code>"
      ],
      "text/plain": [
       "<IPython.core.display.HTML object>"
      ]
     },
     "metadata": {},
     "output_type": "display_data"
    },
    {
     "data": {
      "text/html": [
       "Syncing run <strong><a href='https://wandb.ai/manoj_da24s018-iit-madras/Transliterator_Attention_HyperParameterSweep/runs/nptfme97' target=\"_blank\">misunderstood-sweep-4</a></strong> to <a href='https://wandb.ai/manoj_da24s018-iit-madras/Transliterator_Attention_HyperParameterSweep' target=\"_blank\">Weights & Biases</a> (<a href='https://wandb.me/run' target=\"_blank\">docs</a>)<br/>Sweep page: <a href='https://wandb.ai/manoj_da24s018-iit-madras/Transliterator_Attention_HyperParameterSweep/sweeps/htfl2fri' target=\"_blank\">https://wandb.ai/manoj_da24s018-iit-madras/Transliterator_Attention_HyperParameterSweep/sweeps/htfl2fri</a>"
      ],
      "text/plain": [
       "<IPython.core.display.HTML object>"
      ]
     },
     "metadata": {},
     "output_type": "display_data"
    },
    {
     "data": {
      "text/html": [
       " View project at <a href='https://wandb.ai/manoj_da24s018-iit-madras/Transliterator_Attention_HyperParameterSweep' target=\"_blank\">https://wandb.ai/manoj_da24s018-iit-madras/Transliterator_Attention_HyperParameterSweep</a>"
      ],
      "text/plain": [
       "<IPython.core.display.HTML object>"
      ]
     },
     "metadata": {},
     "output_type": "display_data"
    },
    {
     "data": {
      "text/html": [
       " View sweep at <a href='https://wandb.ai/manoj_da24s018-iit-madras/Transliterator_Attention_HyperParameterSweep/sweeps/htfl2fri' target=\"_blank\">https://wandb.ai/manoj_da24s018-iit-madras/Transliterator_Attention_HyperParameterSweep/sweeps/htfl2fri</a>"
      ],
      "text/plain": [
       "<IPython.core.display.HTML object>"
      ]
     },
     "metadata": {},
     "output_type": "display_data"
    },
    {
     "data": {
      "text/html": [
       " View run at <a href='https://wandb.ai/manoj_da24s018-iit-madras/Transliterator_Attention_HyperParameterSweep/runs/nptfme97' target=\"_blank\">https://wandb.ai/manoj_da24s018-iit-madras/Transliterator_Attention_HyperParameterSweep/runs/nptfme97</a>"
      ],
      "text/plain": [
       "<IPython.core.display.HTML object>"
      ]
     },
     "metadata": {},
     "output_type": "display_data"
    },
    {
     "name": "stdout",
     "output_type": "stream",
     "text": [
      "Sweep Name:  RNN Layer Type: gru, Character_Embedding_dim: 32, Hidden_dim:64, Num_Encoder_Layer:3, Num_Decoder_Layer:1, Dropout:0.4\n",
      "Epoch 1/10\n",
      "1582/1582 [==============================] - ETA: 0s - loss: 0.9987 - accuracy: 0.7346\n",
      "Epoch 1: Word-level Accuracy = 0.0000\n"
     ]
    },
    {
     "name": "stderr",
     "output_type": "stream",
     "text": [
      "WARNING:absl:Found untraced functions such as gru_cell_layer_call_fn, gru_cell_layer_call_and_return_conditional_losses, gru_cell_1_layer_call_fn, gru_cell_1_layer_call_and_return_conditional_losses, gru_cell_2_layer_call_fn while saving (showing 5 of 8). These functions will not be directly callable after loading.\n"
     ]
    },
    {
     "name": "stdout",
     "output_type": "stream",
     "text": [
      "INFO:tensorflow:Assets written to: D:\\DL\\wandb\\run-20250515_222128-nptfme97\\files\\model-best\\assets\n"
     ]
    },
    {
     "name": "stderr",
     "output_type": "stream",
     "text": [
      "INFO:tensorflow:Assets written to: D:\\DL\\wandb\\run-20250515_222128-nptfme97\\files\\model-best\\assets\n",
      "wandb: Adding directory to artifact (D:\\DL\\wandb\\run-20250515_222128-nptfme97\\files\\model-best)... Done. 0.0s\n"
     ]
    },
    {
     "name": "stdout",
     "output_type": "stream",
     "text": [
      "1582/1582 [==============================] - 33s 19ms/step - loss: 0.9987 - accuracy: 0.7346 - val_loss: 0.7304 - val_accuracy: 0.7946 - WordAccuracy: 0.0000e+00\n",
      "Epoch 2/10\n",
      "1578/1582 [============================>.] - ETA: 0s - loss: 0.5365 - accuracy: 0.8474\n",
      "Epoch 2: Word-level Accuracy = 0.1440\n"
     ]
    },
    {
     "name": "stderr",
     "output_type": "stream",
     "text": [
      "WARNING:absl:Found untraced functions such as gru_cell_layer_call_fn, gru_cell_layer_call_and_return_conditional_losses, gru_cell_1_layer_call_fn, gru_cell_1_layer_call_and_return_conditional_losses, gru_cell_2_layer_call_fn while saving (showing 5 of 8). These functions will not be directly callable after loading.\n"
     ]
    },
    {
     "name": "stdout",
     "output_type": "stream",
     "text": [
      "INFO:tensorflow:Assets written to: D:\\DL\\wandb\\run-20250515_222128-nptfme97\\files\\model-best\\assets\n"
     ]
    },
    {
     "name": "stderr",
     "output_type": "stream",
     "text": [
      "INFO:tensorflow:Assets written to: D:\\DL\\wandb\\run-20250515_222128-nptfme97\\files\\model-best\\assets\n",
      "wandb: Adding directory to artifact (D:\\DL\\wandb\\run-20250515_222128-nptfme97\\files\\model-best)... Done. 0.0s\n"
     ]
    },
    {
     "name": "stdout",
     "output_type": "stream",
     "text": [
      "1582/1582 [==============================] - 27s 17ms/step - loss: 0.5360 - accuracy: 0.8476 - val_loss: 0.2524 - val_accuracy: 0.9270 - WordAccuracy: 0.1440\n",
      "Epoch 3/10\n",
      "1580/1582 [============================>.] - ETA: 0s - loss: 0.2422 - accuracy: 0.9281\n",
      "Epoch 3: Word-level Accuracy = 0.2276\n"
     ]
    },
    {
     "name": "stderr",
     "output_type": "stream",
     "text": [
      "WARNING:absl:Found untraced functions such as gru_cell_layer_call_fn, gru_cell_layer_call_and_return_conditional_losses, gru_cell_1_layer_call_fn, gru_cell_1_layer_call_and_return_conditional_losses, gru_cell_2_layer_call_fn while saving (showing 5 of 8). These functions will not be directly callable after loading.\n"
     ]
    },
    {
     "name": "stdout",
     "output_type": "stream",
     "text": [
      "INFO:tensorflow:Assets written to: D:\\DL\\wandb\\run-20250515_222128-nptfme97\\files\\model-best\\assets\n"
     ]
    },
    {
     "name": "stderr",
     "output_type": "stream",
     "text": [
      "INFO:tensorflow:Assets written to: D:\\DL\\wandb\\run-20250515_222128-nptfme97\\files\\model-best\\assets\n",
      "wandb: Adding directory to artifact (D:\\DL\\wandb\\run-20250515_222128-nptfme97\\files\\model-best)... Done. 0.0s\n"
     ]
    },
    {
     "name": "stdout",
     "output_type": "stream",
     "text": [
      "1582/1582 [==============================] - 29s 18ms/step - loss: 0.2422 - accuracy: 0.9281 - val_loss: 0.1726 - val_accuracy: 0.9465 - WordAccuracy: 0.2276\n",
      "Epoch 4/10\n",
      "1580/1582 [============================>.] - ETA: 0s - loss: 0.1812 - accuracy: 0.9447\n",
      "Epoch 4: Word-level Accuracy = 0.2861\n"
     ]
    },
    {
     "name": "stderr",
     "output_type": "stream",
     "text": [
      "WARNING:absl:Found untraced functions such as gru_cell_layer_call_fn, gru_cell_layer_call_and_return_conditional_losses, gru_cell_1_layer_call_fn, gru_cell_1_layer_call_and_return_conditional_losses, gru_cell_2_layer_call_fn while saving (showing 5 of 8). These functions will not be directly callable after loading.\n"
     ]
    },
    {
     "name": "stdout",
     "output_type": "stream",
     "text": [
      "INFO:tensorflow:Assets written to: D:\\DL\\wandb\\run-20250515_222128-nptfme97\\files\\model-best\\assets\n"
     ]
    },
    {
     "name": "stderr",
     "output_type": "stream",
     "text": [
      "INFO:tensorflow:Assets written to: D:\\DL\\wandb\\run-20250515_222128-nptfme97\\files\\model-best\\assets\n",
      "wandb: Adding directory to artifact (D:\\DL\\wandb\\run-20250515_222128-nptfme97\\files\\model-best)... Done. 0.0s\n"
     ]
    },
    {
     "name": "stdout",
     "output_type": "stream",
     "text": [
      "1582/1582 [==============================] - 29s 18ms/step - loss: 0.1813 - accuracy: 0.9447 - val_loss: 0.1535 - val_accuracy: 0.9524 - WordAccuracy: 0.2861\n",
      "Epoch 5/10\n",
      "1582/1582 [==============================] - ETA: 0s - loss: 0.1565 - accuracy: 0.9515\n",
      "Epoch 5: Word-level Accuracy = 0.3024\n"
     ]
    },
    {
     "name": "stderr",
     "output_type": "stream",
     "text": [
      "WARNING:absl:Found untraced functions such as gru_cell_layer_call_fn, gru_cell_layer_call_and_return_conditional_losses, gru_cell_1_layer_call_fn, gru_cell_1_layer_call_and_return_conditional_losses, gru_cell_2_layer_call_fn while saving (showing 5 of 8). These functions will not be directly callable after loading.\n"
     ]
    },
    {
     "name": "stdout",
     "output_type": "stream",
     "text": [
      "INFO:tensorflow:Assets written to: D:\\DL\\wandb\\run-20250515_222128-nptfme97\\files\\model-best\\assets\n"
     ]
    },
    {
     "name": "stderr",
     "output_type": "stream",
     "text": [
      "INFO:tensorflow:Assets written to: D:\\DL\\wandb\\run-20250515_222128-nptfme97\\files\\model-best\\assets\n",
      "wandb: Adding directory to artifact (D:\\DL\\wandb\\run-20250515_222128-nptfme97\\files\\model-best)... Done. 0.0s\n"
     ]
    },
    {
     "name": "stdout",
     "output_type": "stream",
     "text": [
      "1582/1582 [==============================] - 28s 18ms/step - loss: 0.1565 - accuracy: 0.9515 - val_loss: 0.1398 - val_accuracy: 0.9554 - WordAccuracy: 0.3024\n",
      "Epoch 6/10\n",
      "1580/1582 [============================>.] - ETA: 0s - loss: 0.1418 - accuracy: 0.9555\n",
      "Epoch 6: Word-level Accuracy = 0.3211\n"
     ]
    },
    {
     "name": "stderr",
     "output_type": "stream",
     "text": [
      "WARNING:absl:Found untraced functions such as gru_cell_layer_call_fn, gru_cell_layer_call_and_return_conditional_losses, gru_cell_1_layer_call_fn, gru_cell_1_layer_call_and_return_conditional_losses, gru_cell_2_layer_call_fn while saving (showing 5 of 8). These functions will not be directly callable after loading.\n"
     ]
    },
    {
     "name": "stdout",
     "output_type": "stream",
     "text": [
      "INFO:tensorflow:Assets written to: D:\\DL\\wandb\\run-20250515_222128-nptfme97\\files\\model-best\\assets\n"
     ]
    },
    {
     "name": "stderr",
     "output_type": "stream",
     "text": [
      "INFO:tensorflow:Assets written to: D:\\DL\\wandb\\run-20250515_222128-nptfme97\\files\\model-best\\assets\n",
      "wandb: Adding directory to artifact (D:\\DL\\wandb\\run-20250515_222128-nptfme97\\files\\model-best)... Done. 0.0s\n"
     ]
    },
    {
     "name": "stdout",
     "output_type": "stream",
     "text": [
      "1582/1582 [==============================] - 27s 17ms/step - loss: 0.1418 - accuracy: 0.9555 - val_loss: 0.1325 - val_accuracy: 0.9578 - WordAccuracy: 0.3211\n",
      "Epoch 7/10\n",
      "1582/1582 [==============================] - ETA: 0s - loss: 0.1322 - accuracy: 0.9582\n",
      "Epoch 7: Word-level Accuracy = 0.3380\n"
     ]
    },
    {
     "name": "stderr",
     "output_type": "stream",
     "text": [
      "WARNING:absl:Found untraced functions such as gru_cell_layer_call_fn, gru_cell_layer_call_and_return_conditional_losses, gru_cell_1_layer_call_fn, gru_cell_1_layer_call_and_return_conditional_losses, gru_cell_2_layer_call_fn while saving (showing 5 of 8). These functions will not be directly callable after loading.\n"
     ]
    },
    {
     "name": "stdout",
     "output_type": "stream",
     "text": [
      "INFO:tensorflow:Assets written to: D:\\DL\\wandb\\run-20250515_222128-nptfme97\\files\\model-best\\assets\n"
     ]
    },
    {
     "name": "stderr",
     "output_type": "stream",
     "text": [
      "INFO:tensorflow:Assets written to: D:\\DL\\wandb\\run-20250515_222128-nptfme97\\files\\model-best\\assets\n",
      "wandb: Adding directory to artifact (D:\\DL\\wandb\\run-20250515_222128-nptfme97\\files\\model-best)... Done. 0.0s\n"
     ]
    },
    {
     "name": "stdout",
     "output_type": "stream",
     "text": [
      "1582/1582 [==============================] - 26s 17ms/step - loss: 0.1322 - accuracy: 0.9582 - val_loss: 0.1257 - val_accuracy: 0.9597 - WordAccuracy: 0.3380\n",
      "Epoch 8/10\n",
      "1579/1582 [============================>.] - ETA: 0s - loss: 0.1247 - accuracy: 0.9605\n",
      "Epoch 8: Word-level Accuracy = 0.3644\n"
     ]
    },
    {
     "name": "stderr",
     "output_type": "stream",
     "text": [
      "WARNING:absl:Found untraced functions such as gru_cell_layer_call_fn, gru_cell_layer_call_and_return_conditional_losses, gru_cell_1_layer_call_fn, gru_cell_1_layer_call_and_return_conditional_losses, gru_cell_2_layer_call_fn while saving (showing 5 of 8). These functions will not be directly callable after loading.\n"
     ]
    },
    {
     "name": "stdout",
     "output_type": "stream",
     "text": [
      "INFO:tensorflow:Assets written to: D:\\DL\\wandb\\run-20250515_222128-nptfme97\\files\\model-best\\assets\n"
     ]
    },
    {
     "name": "stderr",
     "output_type": "stream",
     "text": [
      "INFO:tensorflow:Assets written to: D:\\DL\\wandb\\run-20250515_222128-nptfme97\\files\\model-best\\assets\n",
      "wandb: Adding directory to artifact (D:\\DL\\wandb\\run-20250515_222128-nptfme97\\files\\model-best)... Done. 0.0s\n"
     ]
    },
    {
     "name": "stdout",
     "output_type": "stream",
     "text": [
      "1582/1582 [==============================] - 28s 18ms/step - loss: 0.1247 - accuracy: 0.9605 - val_loss: 0.1202 - val_accuracy: 0.9619 - WordAccuracy: 0.3644\n",
      "Epoch 9/10\n",
      "1582/1582 [==============================] - ETA: 0s - loss: 0.1189 - accuracy: 0.9624\n",
      "Epoch 9: Word-level Accuracy = 0.3788\n"
     ]
    },
    {
     "name": "stderr",
     "output_type": "stream",
     "text": [
      "WARNING:absl:Found untraced functions such as gru_cell_layer_call_fn, gru_cell_layer_call_and_return_conditional_losses, gru_cell_1_layer_call_fn, gru_cell_1_layer_call_and_return_conditional_losses, gru_cell_2_layer_call_fn while saving (showing 5 of 8). These functions will not be directly callable after loading.\n"
     ]
    },
    {
     "name": "stdout",
     "output_type": "stream",
     "text": [
      "INFO:tensorflow:Assets written to: D:\\DL\\wandb\\run-20250515_222128-nptfme97\\files\\model-best\\assets\n"
     ]
    },
    {
     "name": "stderr",
     "output_type": "stream",
     "text": [
      "INFO:tensorflow:Assets written to: D:\\DL\\wandb\\run-20250515_222128-nptfme97\\files\\model-best\\assets\n",
      "wandb: Adding directory to artifact (D:\\DL\\wandb\\run-20250515_222128-nptfme97\\files\\model-best)... Done. 0.0s\n"
     ]
    },
    {
     "name": "stdout",
     "output_type": "stream",
     "text": [
      "1582/1582 [==============================] - 28s 18ms/step - loss: 0.1189 - accuracy: 0.9624 - val_loss: 0.1167 - val_accuracy: 0.9632 - WordAccuracy: 0.3788\n",
      "Epoch 10/10\n",
      "1581/1582 [============================>.] - ETA: 0s - loss: 0.1145 - accuracy: 0.9637\n",
      "Epoch 10: Word-level Accuracy = 0.3855\n"
     ]
    },
    {
     "name": "stderr",
     "output_type": "stream",
     "text": [
      "WARNING:absl:Found untraced functions such as gru_cell_layer_call_fn, gru_cell_layer_call_and_return_conditional_losses, gru_cell_1_layer_call_fn, gru_cell_1_layer_call_and_return_conditional_losses, gru_cell_2_layer_call_fn while saving (showing 5 of 8). These functions will not be directly callable after loading.\n"
     ]
    },
    {
     "name": "stdout",
     "output_type": "stream",
     "text": [
      "INFO:tensorflow:Assets written to: D:\\DL\\wandb\\run-20250515_222128-nptfme97\\files\\model-best\\assets\n"
     ]
    },
    {
     "name": "stderr",
     "output_type": "stream",
     "text": [
      "INFO:tensorflow:Assets written to: D:\\DL\\wandb\\run-20250515_222128-nptfme97\\files\\model-best\\assets\n",
      "wandb: Adding directory to artifact (D:\\DL\\wandb\\run-20250515_222128-nptfme97\\files\\model-best)... Done. 0.0s\n"
     ]
    },
    {
     "name": "stdout",
     "output_type": "stream",
     "text": [
      "1582/1582 [==============================] - 27s 17ms/step - loss: 0.1145 - accuracy: 0.9637 - val_loss: 0.1159 - val_accuracy: 0.9634 - WordAccuracy: 0.3855\n"
     ]
    },
    {
     "data": {
      "application/vnd.jupyter.widget-view+json": {
       "model_id": "3bc5b37fff874a559c3cec7c3d9a1f6f",
       "version_major": 2,
       "version_minor": 0
      },
      "text/plain": [
       "VBox(children=(Label(value='36.583 MB of 36.583 MB uploaded (0.286 MB deduped)\\r'), FloatProgress(value=1.0, m…"
      ]
     },
     "metadata": {},
     "output_type": "display_data"
    },
    {
     "data": {
      "text/html": [
       "<style>\n",
       "    table.wandb td:nth-child(1) { padding: 0 10px; text-align: left ; width: auto;} td:nth-child(2) {text-align: left ; width: 100%}\n",
       "    .wandb-row { display: flex; flex-direction: row; flex-wrap: wrap; justify-content: flex-start; width: 100% }\n",
       "    .wandb-col { display: flex; flex-direction: column; flex-basis: 100%; flex: 1; padding: 10px; }\n",
       "    </style>\n",
       "<div class=\"wandb-row\"><div class=\"wandb-col\"><h3>Run history:</h3><br/><table class=\"wandb\"><tr><td>Val_WordAccuracy</td><td>▁▄▅▆▆▇▇███</td></tr><tr><td>WordAccuracy</td><td>▁▄▅▆▆▇▇███</td></tr><tr><td>accuracy</td><td>▁▄▇▇██████</td></tr><tr><td>epoch</td><td>▂▁▂▂▃▂▄▃▅▄▅▅▆▅▇▆▇▇█▇</td></tr><tr><td>loss</td><td>█▄▂▂▁▁▁▁▁▁</td></tr><tr><td>val_accuracy</td><td>▁▆▇███████</td></tr><tr><td>val_loss</td><td>█▃▂▁▁▁▁▁▁▁</td></tr></table><br/></div><div class=\"wandb-col\"><h3>Run summary:</h3><br/><table class=\"wandb\"><tr><td>Val_WordAccuracy</td><td>0.38552</td></tr><tr><td>WordAccuracy</td><td>0.38552</td></tr><tr><td>accuracy</td><td>0.96372</td></tr><tr><td>best_epoch</td><td>9</td></tr><tr><td>best_val_loss</td><td>0.11589</td></tr><tr><td>epoch</td><td>9</td></tr><tr><td>loss</td><td>0.1145</td></tr><tr><td>val_accuracy</td><td>0.96342</td></tr><tr><td>val_loss</td><td>0.11589</td></tr></table><br/></div></div>"
      ],
      "text/plain": [
       "<IPython.core.display.HTML object>"
      ]
     },
     "metadata": {},
     "output_type": "display_data"
    },
    {
     "data": {
      "text/html": [
       " View run <strong style=\"color:#cdcd00\">misunderstood-sweep-4</strong> at: <a href='https://wandb.ai/manoj_da24s018-iit-madras/Transliterator_Attention_HyperParameterSweep/runs/nptfme97' target=\"_blank\">https://wandb.ai/manoj_da24s018-iit-madras/Transliterator_Attention_HyperParameterSweep/runs/nptfme97</a><br/> View project at: <a href='https://wandb.ai/manoj_da24s018-iit-madras/Transliterator_Attention_HyperParameterSweep' target=\"_blank\">https://wandb.ai/manoj_da24s018-iit-madras/Transliterator_Attention_HyperParameterSweep</a><br/>Synced 5 W&B file(s), 1 media file(s), 40 artifact file(s) and 1 other file(s)"
      ],
      "text/plain": [
       "<IPython.core.display.HTML object>"
      ]
     },
     "metadata": {},
     "output_type": "display_data"
    },
    {
     "data": {
      "text/html": [
       "Find logs at: <code>.\\wandb\\run-20250515_222128-nptfme97\\logs</code>"
      ],
      "text/plain": [
       "<IPython.core.display.HTML object>"
      ]
     },
     "metadata": {},
     "output_type": "display_data"
    },
    {
     "name": "stderr",
     "output_type": "stream",
     "text": [
      "wandb: Agent Starting Run: dzgam98v with config:\n",
      "wandb: \tcell_type: rnn\n",
      "wandb: \tchar_embedding_dim: 8\n",
      "wandb: \tdecoder_layers: 2\n",
      "wandb: \tdropout: 0.3\n",
      "wandb: \tencoder_layers: 2\n",
      "wandb: \thidden_state_dim: 128\n"
     ]
    },
    {
     "data": {
      "text/html": [
       "wandb version 0.19.11 is available!  To upgrade, please run:\n",
       " $ pip install wandb --upgrade"
      ],
      "text/plain": [
       "<IPython.core.display.HTML object>"
      ]
     },
     "metadata": {},
     "output_type": "display_data"
    },
    {
     "data": {
      "text/html": [
       "Tracking run with wandb version 0.16.6"
      ],
      "text/plain": [
       "<IPython.core.display.HTML object>"
      ]
     },
     "metadata": {},
     "output_type": "display_data"
    },
    {
     "data": {
      "text/html": [
       "Run data is saved locally in <code>D:\\DL\\wandb\\run-20250515_222630-dzgam98v</code>"
      ],
      "text/plain": [
       "<IPython.core.display.HTML object>"
      ]
     },
     "metadata": {},
     "output_type": "display_data"
    },
    {
     "data": {
      "text/html": [
       "Syncing run <strong><a href='https://wandb.ai/manoj_da24s018-iit-madras/Transliterator_Attention_HyperParameterSweep/runs/dzgam98v' target=\"_blank\">bright-sweep-5</a></strong> to <a href='https://wandb.ai/manoj_da24s018-iit-madras/Transliterator_Attention_HyperParameterSweep' target=\"_blank\">Weights & Biases</a> (<a href='https://wandb.me/run' target=\"_blank\">docs</a>)<br/>Sweep page: <a href='https://wandb.ai/manoj_da24s018-iit-madras/Transliterator_Attention_HyperParameterSweep/sweeps/htfl2fri' target=\"_blank\">https://wandb.ai/manoj_da24s018-iit-madras/Transliterator_Attention_HyperParameterSweep/sweeps/htfl2fri</a>"
      ],
      "text/plain": [
       "<IPython.core.display.HTML object>"
      ]
     },
     "metadata": {},
     "output_type": "display_data"
    },
    {
     "data": {
      "text/html": [
       " View project at <a href='https://wandb.ai/manoj_da24s018-iit-madras/Transliterator_Attention_HyperParameterSweep' target=\"_blank\">https://wandb.ai/manoj_da24s018-iit-madras/Transliterator_Attention_HyperParameterSweep</a>"
      ],
      "text/plain": [
       "<IPython.core.display.HTML object>"
      ]
     },
     "metadata": {},
     "output_type": "display_data"
    },
    {
     "data": {
      "text/html": [
       " View sweep at <a href='https://wandb.ai/manoj_da24s018-iit-madras/Transliterator_Attention_HyperParameterSweep/sweeps/htfl2fri' target=\"_blank\">https://wandb.ai/manoj_da24s018-iit-madras/Transliterator_Attention_HyperParameterSweep/sweeps/htfl2fri</a>"
      ],
      "text/plain": [
       "<IPython.core.display.HTML object>"
      ]
     },
     "metadata": {},
     "output_type": "display_data"
    },
    {
     "data": {
      "text/html": [
       " View run at <a href='https://wandb.ai/manoj_da24s018-iit-madras/Transliterator_Attention_HyperParameterSweep/runs/dzgam98v' target=\"_blank\">https://wandb.ai/manoj_da24s018-iit-madras/Transliterator_Attention_HyperParameterSweep/runs/dzgam98v</a>"
      ],
      "text/plain": [
       "<IPython.core.display.HTML object>"
      ]
     },
     "metadata": {},
     "output_type": "display_data"
    },
    {
     "name": "stdout",
     "output_type": "stream",
     "text": [
      "Sweep Name:  RNN Layer Type: rnn, Character_Embedding_dim: 8, Hidden_dim:128, Num_Encoder_Layer:2, Num_Decoder_Layer:2, Dropout:0.3\n",
      "Epoch 1/10\n",
      "1582/1582 [==============================] - ETA: 0s - loss: 1.0257 - accuracy: 0.7232\n",
      "Epoch 1: Word-level Accuracy = 0.0000\n",
      "INFO:tensorflow:Assets written to: D:\\DL\\wandb\\run-20250515_222630-dzgam98v\\files\\model-best\\assets\n"
     ]
    },
    {
     "name": "stderr",
     "output_type": "stream",
     "text": [
      "INFO:tensorflow:Assets written to: D:\\DL\\wandb\\run-20250515_222630-dzgam98v\\files\\model-best\\assets\n",
      "wandb: Adding directory to artifact (D:\\DL\\wandb\\run-20250515_222630-dzgam98v\\files\\model-best)... Done. 0.0s\n"
     ]
    },
    {
     "name": "stdout",
     "output_type": "stream",
     "text": [
      "1582/1582 [==============================] - 113s 70ms/step - loss: 1.0257 - accuracy: 0.7232 - val_loss: 0.9477 - val_accuracy: 0.7411 - WordAccuracy: 0.0000e+00\n",
      "Epoch 2/10\n",
      "1582/1582 [==============================] - ETA: 0s - loss: 0.8678 - accuracy: 0.7581\n",
      "Epoch 2: Word-level Accuracy = 0.0000\n",
      "INFO:tensorflow:Assets written to: D:\\DL\\wandb\\run-20250515_222630-dzgam98v\\files\\model-best\\assets\n"
     ]
    },
    {
     "name": "stderr",
     "output_type": "stream",
     "text": [
      "INFO:tensorflow:Assets written to: D:\\DL\\wandb\\run-20250515_222630-dzgam98v\\files\\model-best\\assets\n",
      "wandb: Adding directory to artifact (D:\\DL\\wandb\\run-20250515_222630-dzgam98v\\files\\model-best)... Done. 0.0s\n"
     ]
    },
    {
     "name": "stdout",
     "output_type": "stream",
     "text": [
      "1582/1582 [==============================] - 118s 74ms/step - loss: 0.8678 - accuracy: 0.7581 - val_loss: 0.7635 - val_accuracy: 0.7871 - WordAccuracy: 0.0000e+00\n",
      "Epoch 3/10\n",
      "1581/1582 [============================>.] - ETA: 0s - loss: 0.7925 - accuracy: 0.7776\n",
      "Epoch 3: Word-level Accuracy = 0.0000\n",
      "INFO:tensorflow:Assets written to: D:\\DL\\wandb\\run-20250515_222630-dzgam98v\\files\\model-best\\assets\n"
     ]
    },
    {
     "name": "stderr",
     "output_type": "stream",
     "text": [
      "INFO:tensorflow:Assets written to: D:\\DL\\wandb\\run-20250515_222630-dzgam98v\\files\\model-best\\assets\n",
      "wandb: Adding directory to artifact (D:\\DL\\wandb\\run-20250515_222630-dzgam98v\\files\\model-best)... Done. 0.0s\n"
     ]
    },
    {
     "name": "stdout",
     "output_type": "stream",
     "text": [
      "1582/1582 [==============================] - 102s 64ms/step - loss: 0.7925 - accuracy: 0.7776 - val_loss: 0.7056 - val_accuracy: 0.8023 - WordAccuracy: 0.0000e+00\n",
      "Epoch 4/10\n",
      "1582/1582 [==============================] - ETA: 0s - loss: 0.7284 - accuracy: 0.7937\n",
      "Epoch 4: Word-level Accuracy = 0.0000\n",
      "INFO:tensorflow:Assets written to: D:\\DL\\wandb\\run-20250515_222630-dzgam98v\\files\\model-best\\assets\n"
     ]
    },
    {
     "name": "stderr",
     "output_type": "stream",
     "text": [
      "INFO:tensorflow:Assets written to: D:\\DL\\wandb\\run-20250515_222630-dzgam98v\\files\\model-best\\assets\n",
      "wandb: Adding directory to artifact (D:\\DL\\wandb\\run-20250515_222630-dzgam98v\\files\\model-best)... Done. 0.0s\n"
     ]
    },
    {
     "name": "stdout",
     "output_type": "stream",
     "text": [
      "1582/1582 [==============================] - 108s 68ms/step - loss: 0.7284 - accuracy: 0.7937 - val_loss: 0.6418 - val_accuracy: 0.8154 - WordAccuracy: 0.0000e+00\n",
      "Epoch 5/10\n",
      "1582/1582 [==============================] - ETA: 0s - loss: 0.6740 - accuracy: 0.8065\n",
      "Epoch 5: Word-level Accuracy = 0.0000\n",
      "1582/1582 [==============================] - 112s 71ms/step - loss: 0.6740 - accuracy: 0.8065 - val_loss: 0.6840 - val_accuracy: 0.8065 - WordAccuracy: 0.0000e+00\n",
      "Epoch 6/10\n",
      "1582/1582 [==============================] - ETA: 0s - loss: 0.6563 - accuracy: 0.8111\n",
      "Epoch 6: Word-level Accuracy = 0.0032\n",
      "INFO:tensorflow:Assets written to: D:\\DL\\wandb\\run-20250515_222630-dzgam98v\\files\\model-best\\assets\n"
     ]
    },
    {
     "name": "stderr",
     "output_type": "stream",
     "text": [
      "INFO:tensorflow:Assets written to: D:\\DL\\wandb\\run-20250515_222630-dzgam98v\\files\\model-best\\assets\n",
      "wandb: Adding directory to artifact (D:\\DL\\wandb\\run-20250515_222630-dzgam98v\\files\\model-best)... Done. 0.0s\n"
     ]
    },
    {
     "name": "stdout",
     "output_type": "stream",
     "text": [
      "1582/1582 [==============================] - 109s 69ms/step - loss: 0.6563 - accuracy: 0.8111 - val_loss: 0.5524 - val_accuracy: 0.8397 - WordAccuracy: 0.0032\n",
      "Epoch 7/10\n",
      "1582/1582 [==============================] - ETA: 0s - loss: 0.5953 - accuracy: 0.8274\n",
      "Epoch 7: Word-level Accuracy = 0.0070\n",
      "INFO:tensorflow:Assets written to: D:\\DL\\wandb\\run-20250515_222630-dzgam98v\\files\\model-best\\assets\n"
     ]
    },
    {
     "name": "stderr",
     "output_type": "stream",
     "text": [
      "INFO:tensorflow:Assets written to: D:\\DL\\wandb\\run-20250515_222630-dzgam98v\\files\\model-best\\assets\n",
      "wandb: Adding directory to artifact (D:\\DL\\wandb\\run-20250515_222630-dzgam98v\\files\\model-best)... Done. 0.0s\n"
     ]
    },
    {
     "name": "stdout",
     "output_type": "stream",
     "text": [
      "1582/1582 [==============================] - 106s 67ms/step - loss: 0.5953 - accuracy: 0.8274 - val_loss: 0.4989 - val_accuracy: 0.8539 - WordAccuracy: 0.0070\n",
      "Epoch 8/10\n",
      "1582/1582 [==============================] - ETA: 0s - loss: 0.5550 - accuracy: 0.8381\n",
      "Epoch 8: Word-level Accuracy = 0.0107\n",
      "INFO:tensorflow:Assets written to: D:\\DL\\wandb\\run-20250515_222630-dzgam98v\\files\\model-best\\assets\n"
     ]
    },
    {
     "name": "stderr",
     "output_type": "stream",
     "text": [
      "INFO:tensorflow:Assets written to: D:\\DL\\wandb\\run-20250515_222630-dzgam98v\\files\\model-best\\assets\n",
      "wandb: Adding directory to artifact (D:\\DL\\wandb\\run-20250515_222630-dzgam98v\\files\\model-best)... Done. 0.0s\n"
     ]
    },
    {
     "name": "stdout",
     "output_type": "stream",
     "text": [
      "1582/1582 [==============================] - 105s 66ms/step - loss: 0.5550 - accuracy: 0.8381 - val_loss: 0.4612 - val_accuracy: 0.8636 - WordAccuracy: 0.0107\n",
      "Epoch 9/10\n",
      "1582/1582 [==============================] - ETA: 0s - loss: 0.5649 - accuracy: 0.8351\n",
      "Epoch 9: Word-level Accuracy = 0.0058\n",
      "1582/1582 [==============================] - 102s 64ms/step - loss: 0.5649 - accuracy: 0.8351 - val_loss: 0.4769 - val_accuracy: 0.8598 - WordAccuracy: 0.0058\n",
      "Epoch 10/10\n",
      "1582/1582 [==============================] - ETA: 0s - loss: 0.5292 - accuracy: 0.8443\n",
      "Epoch 10: Word-level Accuracy = 0.0177\n",
      "INFO:tensorflow:Assets written to: D:\\DL\\wandb\\run-20250515_222630-dzgam98v\\files\\model-best\\assets\n"
     ]
    },
    {
     "name": "stderr",
     "output_type": "stream",
     "text": [
      "INFO:tensorflow:Assets written to: D:\\DL\\wandb\\run-20250515_222630-dzgam98v\\files\\model-best\\assets\n",
      "wandb: Adding directory to artifact (D:\\DL\\wandb\\run-20250515_222630-dzgam98v\\files\\model-best)... Done. 0.0s\n"
     ]
    },
    {
     "name": "stdout",
     "output_type": "stream",
     "text": [
      "1582/1582 [==============================] - 105s 67ms/step - loss: 0.5292 - accuracy: 0.8443 - val_loss: 0.4325 - val_accuracy: 0.8726 - WordAccuracy: 0.0177\n"
     ]
    },
    {
     "data": {
      "application/vnd.jupyter.widget-view+json": {
       "model_id": "884189b854ab40469d1b191dea5f6067",
       "version_major": 2,
       "version_minor": 0
      },
      "text/plain": [
       "VBox(children=(Label(value='14.493 MB of 14.493 MB uploaded (0.188 MB deduped)\\r'), FloatProgress(value=1.0, m…"
      ]
     },
     "metadata": {},
     "output_type": "display_data"
    },
    {
     "data": {
      "text/html": [
       "W&B sync reduced upload amount by 1.2%             "
      ],
      "text/plain": [
       "<IPython.core.display.HTML object>"
      ]
     },
     "metadata": {},
     "output_type": "display_data"
    },
    {
     "data": {
      "text/html": [
       "<style>\n",
       "    table.wandb td:nth-child(1) { padding: 0 10px; text-align: left ; width: auto;} td:nth-child(2) {text-align: left ; width: 100%}\n",
       "    .wandb-row { display: flex; flex-direction: row; flex-wrap: wrap; justify-content: flex-start; width: 100% }\n",
       "    .wandb-col { display: flex; flex-direction: column; flex-basis: 100%; flex: 1; padding: 10px; }\n",
       "    </style>\n",
       "<div class=\"wandb-row\"><div class=\"wandb-col\"><h3>Run history:</h3><br/><table class=\"wandb\"><tr><td>Val_WordAccuracy</td><td>▁▁▁▁▁▂▄▅▃█</td></tr><tr><td>WordAccuracy</td><td>▁▁▁▁▁▂▄▅▃█</td></tr><tr><td>accuracy</td><td>▁▃▄▅▆▆▇█▇█</td></tr><tr><td>epoch</td><td>▂▁▂▂▃▂▄▃▅▄▅▅▆▅▇▆▇▇█▇</td></tr><tr><td>loss</td><td>█▆▅▄▃▃▂▁▂▁</td></tr><tr><td>val_accuracy</td><td>▁▃▄▅▄▆▇█▇█</td></tr><tr><td>val_loss</td><td>█▅▅▄▄▃▂▁▂▁</td></tr></table><br/></div><div class=\"wandb-col\"><h3>Run summary:</h3><br/><table class=\"wandb\"><tr><td>Val_WordAccuracy</td><td>0.0177</td></tr><tr><td>WordAccuracy</td><td>0.0177</td></tr><tr><td>accuracy</td><td>0.84426</td></tr><tr><td>best_epoch</td><td>9</td></tr><tr><td>best_val_loss</td><td>0.43247</td></tr><tr><td>epoch</td><td>9</td></tr><tr><td>loss</td><td>0.52921</td></tr><tr><td>val_accuracy</td><td>0.87258</td></tr><tr><td>val_loss</td><td>0.43247</td></tr></table><br/></div></div>"
      ],
      "text/plain": [
       "<IPython.core.display.HTML object>"
      ]
     },
     "metadata": {},
     "output_type": "display_data"
    },
    {
     "data": {
      "text/html": [
       " View run <strong style=\"color:#cdcd00\">bright-sweep-5</strong> at: <a href='https://wandb.ai/manoj_da24s018-iit-madras/Transliterator_Attention_HyperParameterSweep/runs/dzgam98v' target=\"_blank\">https://wandb.ai/manoj_da24s018-iit-madras/Transliterator_Attention_HyperParameterSweep/runs/dzgam98v</a><br/> View project at: <a href='https://wandb.ai/manoj_da24s018-iit-madras/Transliterator_Attention_HyperParameterSweep' target=\"_blank\">https://wandb.ai/manoj_da24s018-iit-madras/Transliterator_Attention_HyperParameterSweep</a><br/>Synced 5 W&B file(s), 1 media file(s), 32 artifact file(s) and 1 other file(s)"
      ],
      "text/plain": [
       "<IPython.core.display.HTML object>"
      ]
     },
     "metadata": {},
     "output_type": "display_data"
    },
    {
     "data": {
      "text/html": [
       "Find logs at: <code>.\\wandb\\run-20250515_222630-dzgam98v\\logs</code>"
      ],
      "text/plain": [
       "<IPython.core.display.HTML object>"
      ]
     },
     "metadata": {},
     "output_type": "display_data"
    },
    {
     "name": "stderr",
     "output_type": "stream",
     "text": [
      "wandb: Agent Starting Run: v1ok0jn9 with config:\n",
      "wandb: \tcell_type: gru\n",
      "wandb: \tchar_embedding_dim: 32\n",
      "wandb: \tdecoder_layers: 3\n",
      "wandb: \tdropout: 0.4\n",
      "wandb: \tencoder_layers: 3\n",
      "wandb: \thidden_state_dim: 64\n"
     ]
    },
    {
     "data": {
      "text/html": [
       "wandb version 0.19.11 is available!  To upgrade, please run:\n",
       " $ pip install wandb --upgrade"
      ],
      "text/plain": [
       "<IPython.core.display.HTML object>"
      ]
     },
     "metadata": {},
     "output_type": "display_data"
    },
    {
     "data": {
      "text/html": [
       "Tracking run with wandb version 0.16.6"
      ],
      "text/plain": [
       "<IPython.core.display.HTML object>"
      ]
     },
     "metadata": {},
     "output_type": "display_data"
    },
    {
     "data": {
      "text/html": [
       "Run data is saved locally in <code>D:\\DL\\wandb\\run-20250515_224449-v1ok0jn9</code>"
      ],
      "text/plain": [
       "<IPython.core.display.HTML object>"
      ]
     },
     "metadata": {},
     "output_type": "display_data"
    },
    {
     "data": {
      "text/html": [
       "Syncing run <strong><a href='https://wandb.ai/manoj_da24s018-iit-madras/Transliterator_Attention_HyperParameterSweep/runs/v1ok0jn9' target=\"_blank\">deft-sweep-6</a></strong> to <a href='https://wandb.ai/manoj_da24s018-iit-madras/Transliterator_Attention_HyperParameterSweep' target=\"_blank\">Weights & Biases</a> (<a href='https://wandb.me/run' target=\"_blank\">docs</a>)<br/>Sweep page: <a href='https://wandb.ai/manoj_da24s018-iit-madras/Transliterator_Attention_HyperParameterSweep/sweeps/htfl2fri' target=\"_blank\">https://wandb.ai/manoj_da24s018-iit-madras/Transliterator_Attention_HyperParameterSweep/sweeps/htfl2fri</a>"
      ],
      "text/plain": [
       "<IPython.core.display.HTML object>"
      ]
     },
     "metadata": {},
     "output_type": "display_data"
    },
    {
     "data": {
      "text/html": [
       " View project at <a href='https://wandb.ai/manoj_da24s018-iit-madras/Transliterator_Attention_HyperParameterSweep' target=\"_blank\">https://wandb.ai/manoj_da24s018-iit-madras/Transliterator_Attention_HyperParameterSweep</a>"
      ],
      "text/plain": [
       "<IPython.core.display.HTML object>"
      ]
     },
     "metadata": {},
     "output_type": "display_data"
    },
    {
     "data": {
      "text/html": [
       " View sweep at <a href='https://wandb.ai/manoj_da24s018-iit-madras/Transliterator_Attention_HyperParameterSweep/sweeps/htfl2fri' target=\"_blank\">https://wandb.ai/manoj_da24s018-iit-madras/Transliterator_Attention_HyperParameterSweep/sweeps/htfl2fri</a>"
      ],
      "text/plain": [
       "<IPython.core.display.HTML object>"
      ]
     },
     "metadata": {},
     "output_type": "display_data"
    },
    {
     "data": {
      "text/html": [
       " View run at <a href='https://wandb.ai/manoj_da24s018-iit-madras/Transliterator_Attention_HyperParameterSweep/runs/v1ok0jn9' target=\"_blank\">https://wandb.ai/manoj_da24s018-iit-madras/Transliterator_Attention_HyperParameterSweep/runs/v1ok0jn9</a>"
      ],
      "text/plain": [
       "<IPython.core.display.HTML object>"
      ]
     },
     "metadata": {},
     "output_type": "display_data"
    },
    {
     "name": "stdout",
     "output_type": "stream",
     "text": [
      "Sweep Name:  RNN Layer Type: gru, Character_Embedding_dim: 32, Hidden_dim:64, Num_Encoder_Layer:3, Num_Decoder_Layer:3, Dropout:0.4\n",
      "Epoch 1/10\n",
      "1581/1582 [============================>.] - ETA: 0s - loss: 1.0093 - accuracy: 0.7307\n",
      "Epoch 1: Word-level Accuracy = 0.0000\n"
     ]
    },
    {
     "name": "stderr",
     "output_type": "stream",
     "text": [
      "WARNING:absl:Found untraced functions such as gru_cell_layer_call_fn, gru_cell_layer_call_and_return_conditional_losses, gru_cell_1_layer_call_fn, gru_cell_1_layer_call_and_return_conditional_losses, gru_cell_2_layer_call_fn while saving (showing 5 of 8). These functions will not be directly callable after loading.\n"
     ]
    },
    {
     "name": "stdout",
     "output_type": "stream",
     "text": [
      "INFO:tensorflow:Assets written to: D:\\DL\\wandb\\run-20250515_224449-v1ok0jn9\\files\\model-best\\assets\n"
     ]
    },
    {
     "name": "stderr",
     "output_type": "stream",
     "text": [
      "INFO:tensorflow:Assets written to: D:\\DL\\wandb\\run-20250515_224449-v1ok0jn9\\files\\model-best\\assets\n",
      "wandb: Adding directory to artifact (D:\\DL\\wandb\\run-20250515_224449-v1ok0jn9\\files\\model-best)... Done. 0.0s\n"
     ]
    },
    {
     "name": "stdout",
     "output_type": "stream",
     "text": [
      "1582/1582 [==============================] - 34s 20ms/step - loss: 1.0091 - accuracy: 0.7307 - val_loss: 0.7700 - val_accuracy: 0.7875 - WordAccuracy: 0.0000e+00\n",
      "Epoch 2/10\n",
      "1578/1582 [============================>.] - ETA: 0s - loss: 0.6374 - accuracy: 0.8222\n",
      "Epoch 2: Word-level Accuracy = 0.0225\n"
     ]
    },
    {
     "name": "stderr",
     "output_type": "stream",
     "text": [
      "WARNING:absl:Found untraced functions such as gru_cell_layer_call_fn, gru_cell_layer_call_and_return_conditional_losses, gru_cell_1_layer_call_fn, gru_cell_1_layer_call_and_return_conditional_losses, gru_cell_2_layer_call_fn while saving (showing 5 of 8). These functions will not be directly callable after loading.\n"
     ]
    },
    {
     "name": "stdout",
     "output_type": "stream",
     "text": [
      "INFO:tensorflow:Assets written to: D:\\DL\\wandb\\run-20250515_224449-v1ok0jn9\\files\\model-best\\assets\n"
     ]
    },
    {
     "name": "stderr",
     "output_type": "stream",
     "text": [
      "INFO:tensorflow:Assets written to: D:\\DL\\wandb\\run-20250515_224449-v1ok0jn9\\files\\model-best\\assets\n",
      "wandb: Adding directory to artifact (D:\\DL\\wandb\\run-20250515_224449-v1ok0jn9\\files\\model-best)... Done. 0.0s\n"
     ]
    },
    {
     "name": "stdout",
     "output_type": "stream",
     "text": [
      "1582/1582 [==============================] - 27s 17ms/step - loss: 0.6370 - accuracy: 0.8223 - val_loss: 0.4065 - val_accuracy: 0.8836 - WordAccuracy: 0.0225\n",
      "Epoch 3/10\n",
      "1580/1582 [============================>.] - ETA: 0s - loss: 0.3411 - accuracy: 0.9021\n",
      "Epoch 3: Word-level Accuracy = 0.2339\n"
     ]
    },
    {
     "name": "stderr",
     "output_type": "stream",
     "text": [
      "WARNING:absl:Found untraced functions such as gru_cell_layer_call_fn, gru_cell_layer_call_and_return_conditional_losses, gru_cell_1_layer_call_fn, gru_cell_1_layer_call_and_return_conditional_losses, gru_cell_2_layer_call_fn while saving (showing 5 of 8). These functions will not be directly callable after loading.\n"
     ]
    },
    {
     "name": "stdout",
     "output_type": "stream",
     "text": [
      "INFO:tensorflow:Assets written to: D:\\DL\\wandb\\run-20250515_224449-v1ok0jn9\\files\\model-best\\assets\n"
     ]
    },
    {
     "name": "stderr",
     "output_type": "stream",
     "text": [
      "INFO:tensorflow:Assets written to: D:\\DL\\wandb\\run-20250515_224449-v1ok0jn9\\files\\model-best\\assets\n",
      "wandb: Adding directory to artifact (D:\\DL\\wandb\\run-20250515_224449-v1ok0jn9\\files\\model-best)... Done. 0.0s\n"
     ]
    },
    {
     "name": "stdout",
     "output_type": "stream",
     "text": [
      "1582/1582 [==============================] - 27s 17ms/step - loss: 0.3410 - accuracy: 0.9021 - val_loss: 0.2001 - val_accuracy: 0.9435 - WordAccuracy: 0.2339\n",
      "Epoch 4/10\n",
      "1579/1582 [============================>.] - ETA: 0s - loss: 0.2075 - accuracy: 0.9399\n",
      "Epoch 4: Word-level Accuracy = 0.3129\n"
     ]
    },
    {
     "name": "stderr",
     "output_type": "stream",
     "text": [
      "WARNING:absl:Found untraced functions such as gru_cell_layer_call_fn, gru_cell_layer_call_and_return_conditional_losses, gru_cell_1_layer_call_fn, gru_cell_1_layer_call_and_return_conditional_losses, gru_cell_2_layer_call_fn while saving (showing 5 of 8). These functions will not be directly callable after loading.\n"
     ]
    },
    {
     "name": "stdout",
     "output_type": "stream",
     "text": [
      "INFO:tensorflow:Assets written to: D:\\DL\\wandb\\run-20250515_224449-v1ok0jn9\\files\\model-best\\assets\n"
     ]
    },
    {
     "name": "stderr",
     "output_type": "stream",
     "text": [
      "INFO:tensorflow:Assets written to: D:\\DL\\wandb\\run-20250515_224449-v1ok0jn9\\files\\model-best\\assets\n",
      "wandb: Adding directory to artifact (D:\\DL\\wandb\\run-20250515_224449-v1ok0jn9\\files\\model-best)... Done. 0.0s\n"
     ]
    },
    {
     "name": "stdout",
     "output_type": "stream",
     "text": [
      "1582/1582 [==============================] - 29s 18ms/step - loss: 0.2075 - accuracy: 0.9399 - val_loss: 0.1496 - val_accuracy: 0.9554 - WordAccuracy: 0.3129\n",
      "Epoch 5/10\n",
      "1580/1582 [============================>.] - ETA: 0s - loss: 0.1611 - accuracy: 0.9520\n",
      "Epoch 5: Word-level Accuracy = 0.3479\n"
     ]
    },
    {
     "name": "stderr",
     "output_type": "stream",
     "text": [
      "WARNING:absl:Found untraced functions such as gru_cell_layer_call_fn, gru_cell_layer_call_and_return_conditional_losses, gru_cell_1_layer_call_fn, gru_cell_1_layer_call_and_return_conditional_losses, gru_cell_2_layer_call_fn while saving (showing 5 of 8). These functions will not be directly callable after loading.\n"
     ]
    },
    {
     "name": "stdout",
     "output_type": "stream",
     "text": [
      "INFO:tensorflow:Assets written to: D:\\DL\\wandb\\run-20250515_224449-v1ok0jn9\\files\\model-best\\assets\n"
     ]
    },
    {
     "name": "stderr",
     "output_type": "stream",
     "text": [
      "INFO:tensorflow:Assets written to: D:\\DL\\wandb\\run-20250515_224449-v1ok0jn9\\files\\model-best\\assets\n",
      "wandb: Adding directory to artifact (D:\\DL\\wandb\\run-20250515_224449-v1ok0jn9\\files\\model-best)... Done. 0.0s\n"
     ]
    },
    {
     "name": "stdout",
     "output_type": "stream",
     "text": [
      "1582/1582 [==============================] - 27s 17ms/step - loss: 0.1611 - accuracy: 0.9520 - val_loss: 0.1334 - val_accuracy: 0.9594 - WordAccuracy: 0.3479\n",
      "Epoch 6/10\n",
      "1581/1582 [============================>.] - ETA: 0s - loss: 0.1410 - accuracy: 0.9570\n",
      "Epoch 6: Word-level Accuracy = 0.3698\n"
     ]
    },
    {
     "name": "stderr",
     "output_type": "stream",
     "text": [
      "WARNING:absl:Found untraced functions such as gru_cell_layer_call_fn, gru_cell_layer_call_and_return_conditional_losses, gru_cell_1_layer_call_fn, gru_cell_1_layer_call_and_return_conditional_losses, gru_cell_2_layer_call_fn while saving (showing 5 of 8). These functions will not be directly callable after loading.\n"
     ]
    },
    {
     "name": "stdout",
     "output_type": "stream",
     "text": [
      "INFO:tensorflow:Assets written to: D:\\DL\\wandb\\run-20250515_224449-v1ok0jn9\\files\\model-best\\assets\n"
     ]
    },
    {
     "name": "stderr",
     "output_type": "stream",
     "text": [
      "INFO:tensorflow:Assets written to: D:\\DL\\wandb\\run-20250515_224449-v1ok0jn9\\files\\model-best\\assets\n",
      "wandb: Adding directory to artifact (D:\\DL\\wandb\\run-20250515_224449-v1ok0jn9\\files\\model-best)... Done. 0.0s\n"
     ]
    },
    {
     "name": "stdout",
     "output_type": "stream",
     "text": [
      "1582/1582 [==============================] - 26s 17ms/step - loss: 0.1409 - accuracy: 0.9570 - val_loss: 0.1231 - val_accuracy: 0.9620 - WordAccuracy: 0.3698\n",
      "Epoch 7/10\n",
      "1582/1582 [==============================] - ETA: 0s - loss: 0.1282 - accuracy: 0.9605\n",
      "Epoch 7: Word-level Accuracy = 0.3847\n"
     ]
    },
    {
     "name": "stderr",
     "output_type": "stream",
     "text": [
      "WARNING:absl:Found untraced functions such as gru_cell_layer_call_fn, gru_cell_layer_call_and_return_conditional_losses, gru_cell_1_layer_call_fn, gru_cell_1_layer_call_and_return_conditional_losses, gru_cell_2_layer_call_fn while saving (showing 5 of 8). These functions will not be directly callable after loading.\n"
     ]
    },
    {
     "name": "stdout",
     "output_type": "stream",
     "text": [
      "INFO:tensorflow:Assets written to: D:\\DL\\wandb\\run-20250515_224449-v1ok0jn9\\files\\model-best\\assets\n"
     ]
    },
    {
     "name": "stderr",
     "output_type": "stream",
     "text": [
      "INFO:tensorflow:Assets written to: D:\\DL\\wandb\\run-20250515_224449-v1ok0jn9\\files\\model-best\\assets\n",
      "wandb: Adding directory to artifact (D:\\DL\\wandb\\run-20250515_224449-v1ok0jn9\\files\\model-best)... Done. 0.0s\n"
     ]
    },
    {
     "name": "stdout",
     "output_type": "stream",
     "text": [
      "1582/1582 [==============================] - 29s 18ms/step - loss: 0.1282 - accuracy: 0.9605 - val_loss: 0.1174 - val_accuracy: 0.9633 - WordAccuracy: 0.3847\n",
      "Epoch 8/10\n",
      "1578/1582 [============================>.] - ETA: 0s - loss: 0.1205 - accuracy: 0.9624\n",
      "Epoch 8: Word-level Accuracy = 0.4036\n"
     ]
    },
    {
     "name": "stderr",
     "output_type": "stream",
     "text": [
      "WARNING:absl:Found untraced functions such as gru_cell_layer_call_fn, gru_cell_layer_call_and_return_conditional_losses, gru_cell_1_layer_call_fn, gru_cell_1_layer_call_and_return_conditional_losses, gru_cell_2_layer_call_fn while saving (showing 5 of 8). These functions will not be directly callable after loading.\n"
     ]
    },
    {
     "name": "stdout",
     "output_type": "stream",
     "text": [
      "INFO:tensorflow:Assets written to: D:\\DL\\wandb\\run-20250515_224449-v1ok0jn9\\files\\model-best\\assets\n"
     ]
    },
    {
     "name": "stderr",
     "output_type": "stream",
     "text": [
      "INFO:tensorflow:Assets written to: D:\\DL\\wandb\\run-20250515_224449-v1ok0jn9\\files\\model-best\\assets\n",
      "wandb: Adding directory to artifact (D:\\DL\\wandb\\run-20250515_224449-v1ok0jn9\\files\\model-best)... Done. 0.0s\n"
     ]
    },
    {
     "name": "stdout",
     "output_type": "stream",
     "text": [
      "1582/1582 [==============================] - 28s 18ms/step - loss: 0.1204 - accuracy: 0.9625 - val_loss: 0.1134 - val_accuracy: 0.9652 - WordAccuracy: 0.4036\n",
      "Epoch 9/10\n",
      "1579/1582 [============================>.] - ETA: 0s - loss: 0.1138 - accuracy: 0.9643\n",
      "Epoch 9: Word-level Accuracy = 0.4106\n"
     ]
    },
    {
     "name": "stderr",
     "output_type": "stream",
     "text": [
      "WARNING:absl:Found untraced functions such as gru_cell_layer_call_fn, gru_cell_layer_call_and_return_conditional_losses, gru_cell_1_layer_call_fn, gru_cell_1_layer_call_and_return_conditional_losses, gru_cell_2_layer_call_fn while saving (showing 5 of 8). These functions will not be directly callable after loading.\n"
     ]
    },
    {
     "name": "stdout",
     "output_type": "stream",
     "text": [
      "INFO:tensorflow:Assets written to: D:\\DL\\wandb\\run-20250515_224449-v1ok0jn9\\files\\model-best\\assets\n"
     ]
    },
    {
     "name": "stderr",
     "output_type": "stream",
     "text": [
      "INFO:tensorflow:Assets written to: D:\\DL\\wandb\\run-20250515_224449-v1ok0jn9\\files\\model-best\\assets\n",
      "wandb: Adding directory to artifact (D:\\DL\\wandb\\run-20250515_224449-v1ok0jn9\\files\\model-best)... Done. 0.0s\n"
     ]
    },
    {
     "name": "stdout",
     "output_type": "stream",
     "text": [
      "1582/1582 [==============================] - 28s 18ms/step - loss: 0.1138 - accuracy: 0.9643 - val_loss: 0.1111 - val_accuracy: 0.9656 - WordAccuracy: 0.4106\n",
      "Epoch 10/10\n",
      "1581/1582 [============================>.] - ETA: 0s - loss: 0.1098 - accuracy: 0.9657\n",
      "Epoch 10: Word-level Accuracy = 0.4281\n"
     ]
    },
    {
     "name": "stderr",
     "output_type": "stream",
     "text": [
      "WARNING:absl:Found untraced functions such as gru_cell_layer_call_fn, gru_cell_layer_call_and_return_conditional_losses, gru_cell_1_layer_call_fn, gru_cell_1_layer_call_and_return_conditional_losses, gru_cell_2_layer_call_fn while saving (showing 5 of 8). These functions will not be directly callable after loading.\n"
     ]
    },
    {
     "name": "stdout",
     "output_type": "stream",
     "text": [
      "INFO:tensorflow:Assets written to: D:\\DL\\wandb\\run-20250515_224449-v1ok0jn9\\files\\model-best\\assets\n"
     ]
    },
    {
     "name": "stderr",
     "output_type": "stream",
     "text": [
      "INFO:tensorflow:Assets written to: D:\\DL\\wandb\\run-20250515_224449-v1ok0jn9\\files\\model-best\\assets\n",
      "wandb: Adding directory to artifact (D:\\DL\\wandb\\run-20250515_224449-v1ok0jn9\\files\\model-best)... Done. 0.0s\n"
     ]
    },
    {
     "name": "stdout",
     "output_type": "stream",
     "text": [
      "1582/1582 [==============================] - 29s 18ms/step - loss: 0.1098 - accuracy: 0.9657 - val_loss: 0.1072 - val_accuracy: 0.9671 - WordAccuracy: 0.4281\n"
     ]
    },
    {
     "data": {
      "application/vnd.jupyter.widget-view+json": {
       "model_id": "6d20919aeb19439d938816bcc464d730",
       "version_major": 2,
       "version_minor": 0
      },
      "text/plain": [
       "VBox(children=(Label(value='36.596 MB of 36.596 MB uploaded (0.286 MB deduped)\\r'), FloatProgress(value=1.0, m…"
      ]
     },
     "metadata": {},
     "output_type": "display_data"
    },
    {
     "data": {
      "text/html": [
       "<style>\n",
       "    table.wandb td:nth-child(1) { padding: 0 10px; text-align: left ; width: auto;} td:nth-child(2) {text-align: left ; width: 100%}\n",
       "    .wandb-row { display: flex; flex-direction: row; flex-wrap: wrap; justify-content: flex-start; width: 100% }\n",
       "    .wandb-col { display: flex; flex-direction: column; flex-basis: 100%; flex: 1; padding: 10px; }\n",
       "    </style>\n",
       "<div class=\"wandb-row\"><div class=\"wandb-col\"><h3>Run history:</h3><br/><table class=\"wandb\"><tr><td>Val_WordAccuracy</td><td>▁▁▅▆▇▇▇███</td></tr><tr><td>WordAccuracy</td><td>▁▁▅▆▇▇▇███</td></tr><tr><td>accuracy</td><td>▁▄▆▇██████</td></tr><tr><td>epoch</td><td>▂▁▂▂▃▂▄▃▅▄▅▅▆▅▇▆▇▇█▇</td></tr><tr><td>loss</td><td>█▅▃▂▁▁▁▁▁▁</td></tr><tr><td>val_accuracy</td><td>▁▅▇███████</td></tr><tr><td>val_loss</td><td>█▄▂▁▁▁▁▁▁▁</td></tr></table><br/></div><div class=\"wandb-col\"><h3>Run summary:</h3><br/><table class=\"wandb\"><tr><td>Val_WordAccuracy</td><td>0.42809</td></tr><tr><td>WordAccuracy</td><td>0.42809</td></tr><tr><td>accuracy</td><td>0.96568</td></tr><tr><td>best_epoch</td><td>9</td></tr><tr><td>best_val_loss</td><td>0.10721</td></tr><tr><td>epoch</td><td>9</td></tr><tr><td>loss</td><td>0.10982</td></tr><tr><td>val_accuracy</td><td>0.96715</td></tr><tr><td>val_loss</td><td>0.10721</td></tr></table><br/></div></div>"
      ],
      "text/plain": [
       "<IPython.core.display.HTML object>"
      ]
     },
     "metadata": {},
     "output_type": "display_data"
    },
    {
     "data": {
      "text/html": [
       " View run <strong style=\"color:#cdcd00\">deft-sweep-6</strong> at: <a href='https://wandb.ai/manoj_da24s018-iit-madras/Transliterator_Attention_HyperParameterSweep/runs/v1ok0jn9' target=\"_blank\">https://wandb.ai/manoj_da24s018-iit-madras/Transliterator_Attention_HyperParameterSweep/runs/v1ok0jn9</a><br/> View project at: <a href='https://wandb.ai/manoj_da24s018-iit-madras/Transliterator_Attention_HyperParameterSweep' target=\"_blank\">https://wandb.ai/manoj_da24s018-iit-madras/Transliterator_Attention_HyperParameterSweep</a><br/>Synced 5 W&B file(s), 1 media file(s), 40 artifact file(s) and 1 other file(s)"
      ],
      "text/plain": [
       "<IPython.core.display.HTML object>"
      ]
     },
     "metadata": {},
     "output_type": "display_data"
    },
    {
     "data": {
      "text/html": [
       "Find logs at: <code>.\\wandb\\run-20250515_224449-v1ok0jn9\\logs</code>"
      ],
      "text/plain": [
       "<IPython.core.display.HTML object>"
      ]
     },
     "metadata": {},
     "output_type": "display_data"
    },
    {
     "name": "stderr",
     "output_type": "stream",
     "text": [
      "wandb: Agent Starting Run: kvmf5zli with config:\n",
      "wandb: \tcell_type: lstm\n",
      "wandb: \tchar_embedding_dim: 12\n",
      "wandb: \tdecoder_layers: 2\n",
      "wandb: \tdropout: 0.2\n",
      "wandb: \tencoder_layers: 3\n",
      "wandb: \thidden_state_dim: 256\n"
     ]
    },
    {
     "data": {
      "text/html": [
       "wandb version 0.19.11 is available!  To upgrade, please run:\n",
       " $ pip install wandb --upgrade"
      ],
      "text/plain": [
       "<IPython.core.display.HTML object>"
      ]
     },
     "metadata": {},
     "output_type": "display_data"
    },
    {
     "data": {
      "text/html": [
       "Tracking run with wandb version 0.16.6"
      ],
      "text/plain": [
       "<IPython.core.display.HTML object>"
      ]
     },
     "metadata": {},
     "output_type": "display_data"
    },
    {
     "data": {
      "text/html": [
       "Run data is saved locally in <code>D:\\DL\\wandb\\run-20250515_224951-kvmf5zli</code>"
      ],
      "text/plain": [
       "<IPython.core.display.HTML object>"
      ]
     },
     "metadata": {},
     "output_type": "display_data"
    },
    {
     "data": {
      "text/html": [
       "Syncing run <strong><a href='https://wandb.ai/manoj_da24s018-iit-madras/Transliterator_Attention_HyperParameterSweep/runs/kvmf5zli' target=\"_blank\">lilac-sweep-7</a></strong> to <a href='https://wandb.ai/manoj_da24s018-iit-madras/Transliterator_Attention_HyperParameterSweep' target=\"_blank\">Weights & Biases</a> (<a href='https://wandb.me/run' target=\"_blank\">docs</a>)<br/>Sweep page: <a href='https://wandb.ai/manoj_da24s018-iit-madras/Transliterator_Attention_HyperParameterSweep/sweeps/htfl2fri' target=\"_blank\">https://wandb.ai/manoj_da24s018-iit-madras/Transliterator_Attention_HyperParameterSweep/sweeps/htfl2fri</a>"
      ],
      "text/plain": [
       "<IPython.core.display.HTML object>"
      ]
     },
     "metadata": {},
     "output_type": "display_data"
    },
    {
     "data": {
      "text/html": [
       " View project at <a href='https://wandb.ai/manoj_da24s018-iit-madras/Transliterator_Attention_HyperParameterSweep' target=\"_blank\">https://wandb.ai/manoj_da24s018-iit-madras/Transliterator_Attention_HyperParameterSweep</a>"
      ],
      "text/plain": [
       "<IPython.core.display.HTML object>"
      ]
     },
     "metadata": {},
     "output_type": "display_data"
    },
    {
     "data": {
      "text/html": [
       " View sweep at <a href='https://wandb.ai/manoj_da24s018-iit-madras/Transliterator_Attention_HyperParameterSweep/sweeps/htfl2fri' target=\"_blank\">https://wandb.ai/manoj_da24s018-iit-madras/Transliterator_Attention_HyperParameterSweep/sweeps/htfl2fri</a>"
      ],
      "text/plain": [
       "<IPython.core.display.HTML object>"
      ]
     },
     "metadata": {},
     "output_type": "display_data"
    },
    {
     "data": {
      "text/html": [
       " View run at <a href='https://wandb.ai/manoj_da24s018-iit-madras/Transliterator_Attention_HyperParameterSweep/runs/kvmf5zli' target=\"_blank\">https://wandb.ai/manoj_da24s018-iit-madras/Transliterator_Attention_HyperParameterSweep/runs/kvmf5zli</a>"
      ],
      "text/plain": [
       "<IPython.core.display.HTML object>"
      ]
     },
     "metadata": {},
     "output_type": "display_data"
    },
    {
     "name": "stdout",
     "output_type": "stream",
     "text": [
      "Sweep Name:  RNN Layer Type: lstm, Character_Embedding_dim: 12, Hidden_dim:256, Num_Encoder_Layer:3, Num_Decoder_Layer:2, Dropout:0.2\n",
      "Epoch 1/10\n",
      "1579/1582 [============================>.] - ETA: 0s - loss: 0.8661 - accuracy: 0.7611\n",
      "Epoch 1: Word-level Accuracy = 0.0247\n"
     ]
    },
    {
     "name": "stderr",
     "output_type": "stream",
     "text": [
      "WARNING:absl:Found untraced functions such as lstm_cell_layer_call_fn, lstm_cell_layer_call_and_return_conditional_losses, lstm_cell_1_layer_call_fn, lstm_cell_1_layer_call_and_return_conditional_losses, lstm_cell_2_layer_call_fn while saving (showing 5 of 8). These functions will not be directly callable after loading.\n"
     ]
    },
    {
     "name": "stdout",
     "output_type": "stream",
     "text": [
      "INFO:tensorflow:Assets written to: D:\\DL\\wandb\\run-20250515_224951-kvmf5zli\\files\\model-best\\assets\n"
     ]
    },
    {
     "name": "stderr",
     "output_type": "stream",
     "text": [
      "INFO:tensorflow:Assets written to: D:\\DL\\wandb\\run-20250515_224951-kvmf5zli\\files\\model-best\\assets\n",
      "wandb: Adding directory to artifact (D:\\DL\\wandb\\run-20250515_224951-kvmf5zli\\files\\model-best)... Done. 0.0s\n"
     ]
    },
    {
     "name": "stdout",
     "output_type": "stream",
     "text": [
      "1582/1582 [==============================] - 38s 22ms/step - loss: 0.8653 - accuracy: 0.7613 - val_loss: 0.4106 - val_accuracy: 0.8793 - WordAccuracy: 0.0247\n",
      "Epoch 2/10\n",
      "1580/1582 [============================>.] - ETA: 0s - loss: 0.2306 - accuracy: 0.9326\n",
      "Epoch 2: Word-level Accuracy = 0.3628\n"
     ]
    },
    {
     "name": "stderr",
     "output_type": "stream",
     "text": [
      "WARNING:absl:Found untraced functions such as lstm_cell_layer_call_fn, lstm_cell_layer_call_and_return_conditional_losses, lstm_cell_1_layer_call_fn, lstm_cell_1_layer_call_and_return_conditional_losses, lstm_cell_2_layer_call_fn while saving (showing 5 of 8). These functions will not be directly callable after loading.\n"
     ]
    },
    {
     "name": "stdout",
     "output_type": "stream",
     "text": [
      "INFO:tensorflow:Assets written to: D:\\DL\\wandb\\run-20250515_224951-kvmf5zli\\files\\model-best\\assets\n"
     ]
    },
    {
     "name": "stderr",
     "output_type": "stream",
     "text": [
      "INFO:tensorflow:Assets written to: D:\\DL\\wandb\\run-20250515_224951-kvmf5zli\\files\\model-best\\assets\n",
      "wandb: Adding directory to artifact (D:\\DL\\wandb\\run-20250515_224951-kvmf5zli\\files\\model-best)... Done. 0.1s\n"
     ]
    },
    {
     "name": "stdout",
     "output_type": "stream",
     "text": [
      "1582/1582 [==============================] - 35s 22ms/step - loss: 0.2304 - accuracy: 0.9326 - val_loss: 0.1294 - val_accuracy: 0.9601 - WordAccuracy: 0.3628\n",
      "Epoch 3/10\n",
      "1581/1582 [============================>.] - ETA: 0s - loss: 0.1213 - accuracy: 0.9628\n",
      "Epoch 3: Word-level Accuracy = 0.4231\n"
     ]
    },
    {
     "name": "stderr",
     "output_type": "stream",
     "text": [
      "WARNING:absl:Found untraced functions such as lstm_cell_layer_call_fn, lstm_cell_layer_call_and_return_conditional_losses, lstm_cell_1_layer_call_fn, lstm_cell_1_layer_call_and_return_conditional_losses, lstm_cell_2_layer_call_fn while saving (showing 5 of 8). These functions will not be directly callable after loading.\n"
     ]
    },
    {
     "name": "stdout",
     "output_type": "stream",
     "text": [
      "INFO:tensorflow:Assets written to: D:\\DL\\wandb\\run-20250515_224951-kvmf5zli\\files\\model-best\\assets\n"
     ]
    },
    {
     "name": "stderr",
     "output_type": "stream",
     "text": [
      "INFO:tensorflow:Assets written to: D:\\DL\\wandb\\run-20250515_224951-kvmf5zli\\files\\model-best\\assets\n",
      "wandb: Adding directory to artifact (D:\\DL\\wandb\\run-20250515_224951-kvmf5zli\\files\\model-best)... Done. 0.0s\n"
     ]
    },
    {
     "name": "stdout",
     "output_type": "stream",
     "text": [
      "1582/1582 [==============================] - 33s 21ms/step - loss: 0.1213 - accuracy: 0.9628 - val_loss: 0.1067 - val_accuracy: 0.9660 - WordAccuracy: 0.4231\n",
      "Epoch 4/10\n",
      "1582/1582 [==============================] - ETA: 0s - loss: 0.0970 - accuracy: 0.9697\n",
      "Epoch 4: Word-level Accuracy = 0.4599\n"
     ]
    },
    {
     "name": "stderr",
     "output_type": "stream",
     "text": [
      "WARNING:absl:Found untraced functions such as lstm_cell_layer_call_fn, lstm_cell_layer_call_and_return_conditional_losses, lstm_cell_1_layer_call_fn, lstm_cell_1_layer_call_and_return_conditional_losses, lstm_cell_2_layer_call_fn while saving (showing 5 of 8). These functions will not be directly callable after loading.\n"
     ]
    },
    {
     "name": "stdout",
     "output_type": "stream",
     "text": [
      "INFO:tensorflow:Assets written to: D:\\DL\\wandb\\run-20250515_224951-kvmf5zli\\files\\model-best\\assets\n"
     ]
    },
    {
     "name": "stderr",
     "output_type": "stream",
     "text": [
      "INFO:tensorflow:Assets written to: D:\\DL\\wandb\\run-20250515_224951-kvmf5zli\\files\\model-best\\assets\n",
      "wandb: Adding directory to artifact (D:\\DL\\wandb\\run-20250515_224951-kvmf5zli\\files\\model-best)... Done. 0.1s\n"
     ]
    },
    {
     "name": "stdout",
     "output_type": "stream",
     "text": [
      "1582/1582 [==============================] - 34s 21ms/step - loss: 0.0970 - accuracy: 0.9697 - val_loss: 0.0961 - val_accuracy: 0.9697 - WordAccuracy: 0.4599\n",
      "Epoch 5/10\n",
      "1580/1582 [============================>.] - ETA: 0s - loss: 0.0821 - accuracy: 0.9742\n",
      "Epoch 5: Word-level Accuracy = 0.5015\n"
     ]
    },
    {
     "name": "stderr",
     "output_type": "stream",
     "text": [
      "WARNING:absl:Found untraced functions such as lstm_cell_layer_call_fn, lstm_cell_layer_call_and_return_conditional_losses, lstm_cell_1_layer_call_fn, lstm_cell_1_layer_call_and_return_conditional_losses, lstm_cell_2_layer_call_fn while saving (showing 5 of 8). These functions will not be directly callable after loading.\n"
     ]
    },
    {
     "name": "stdout",
     "output_type": "stream",
     "text": [
      "INFO:tensorflow:Assets written to: D:\\DL\\wandb\\run-20250515_224951-kvmf5zli\\files\\model-best\\assets\n"
     ]
    },
    {
     "name": "stderr",
     "output_type": "stream",
     "text": [
      "INFO:tensorflow:Assets written to: D:\\DL\\wandb\\run-20250515_224951-kvmf5zli\\files\\model-best\\assets\n",
      "wandb: Adding directory to artifact (D:\\DL\\wandb\\run-20250515_224951-kvmf5zli\\files\\model-best)... Done. 0.0s\n"
     ]
    },
    {
     "name": "stdout",
     "output_type": "stream",
     "text": [
      "1582/1582 [==============================] - 33s 21ms/step - loss: 0.0821 - accuracy: 0.9742 - val_loss: 0.0883 - val_accuracy: 0.9727 - WordAccuracy: 0.5015\n",
      "Epoch 6/10\n",
      "1580/1582 [============================>.] - ETA: 0s - loss: 0.0709 - accuracy: 0.9778\n",
      "Epoch 6: Word-level Accuracy = 0.5081\n"
     ]
    },
    {
     "name": "stderr",
     "output_type": "stream",
     "text": [
      "WARNING:absl:Found untraced functions such as lstm_cell_layer_call_fn, lstm_cell_layer_call_and_return_conditional_losses, lstm_cell_1_layer_call_fn, lstm_cell_1_layer_call_and_return_conditional_losses, lstm_cell_2_layer_call_fn while saving (showing 5 of 8). These functions will not be directly callable after loading.\n"
     ]
    },
    {
     "name": "stdout",
     "output_type": "stream",
     "text": [
      "INFO:tensorflow:Assets written to: D:\\DL\\wandb\\run-20250515_224951-kvmf5zli\\files\\model-best\\assets\n"
     ]
    },
    {
     "name": "stderr",
     "output_type": "stream",
     "text": [
      "INFO:tensorflow:Assets written to: D:\\DL\\wandb\\run-20250515_224951-kvmf5zli\\files\\model-best\\assets\n",
      "wandb: Adding directory to artifact (D:\\DL\\wandb\\run-20250515_224951-kvmf5zli\\files\\model-best)... Done. 0.0s\n"
     ]
    },
    {
     "name": "stdout",
     "output_type": "stream",
     "text": [
      "1582/1582 [==============================] - 33s 21ms/step - loss: 0.0709 - accuracy: 0.9778 - val_loss: 0.0879 - val_accuracy: 0.9727 - WordAccuracy: 0.5081\n",
      "Epoch 7/10\n",
      "1581/1582 [============================>.] - ETA: 0s - loss: 0.0625 - accuracy: 0.9804\n",
      "Epoch 7: Word-level Accuracy = 0.5190\n"
     ]
    },
    {
     "name": "stderr",
     "output_type": "stream",
     "text": [
      "WARNING:absl:Found untraced functions such as lstm_cell_layer_call_fn, lstm_cell_layer_call_and_return_conditional_losses, lstm_cell_1_layer_call_fn, lstm_cell_1_layer_call_and_return_conditional_losses, lstm_cell_2_layer_call_fn while saving (showing 5 of 8). These functions will not be directly callable after loading.\n"
     ]
    },
    {
     "name": "stdout",
     "output_type": "stream",
     "text": [
      "INFO:tensorflow:Assets written to: D:\\DL\\wandb\\run-20250515_224951-kvmf5zli\\files\\model-best\\assets\n"
     ]
    },
    {
     "name": "stderr",
     "output_type": "stream",
     "text": [
      "INFO:tensorflow:Assets written to: D:\\DL\\wandb\\run-20250515_224951-kvmf5zli\\files\\model-best\\assets\n",
      "wandb: Adding directory to artifact (D:\\DL\\wandb\\run-20250515_224951-kvmf5zli\\files\\model-best)... Done. 0.0s\n"
     ]
    },
    {
     "name": "stdout",
     "output_type": "stream",
     "text": [
      "1582/1582 [==============================] - 34s 21ms/step - loss: 0.0625 - accuracy: 0.9804 - val_loss: 0.0823 - val_accuracy: 0.9740 - WordAccuracy: 0.5190\n",
      "Epoch 8/10\n",
      "1580/1582 [============================>.] - ETA: 0s - loss: 0.0565 - accuracy: 0.9822\n",
      "Epoch 8: Word-level Accuracy = 0.5250\n"
     ]
    },
    {
     "name": "stderr",
     "output_type": "stream",
     "text": [
      "WARNING:absl:Found untraced functions such as lstm_cell_layer_call_fn, lstm_cell_layer_call_and_return_conditional_losses, lstm_cell_1_layer_call_fn, lstm_cell_1_layer_call_and_return_conditional_losses, lstm_cell_2_layer_call_fn while saving (showing 5 of 8). These functions will not be directly callable after loading.\n"
     ]
    },
    {
     "name": "stdout",
     "output_type": "stream",
     "text": [
      "INFO:tensorflow:Assets written to: D:\\DL\\wandb\\run-20250515_224951-kvmf5zli\\files\\model-best\\assets\n"
     ]
    },
    {
     "name": "stderr",
     "output_type": "stream",
     "text": [
      "INFO:tensorflow:Assets written to: D:\\DL\\wandb\\run-20250515_224951-kvmf5zli\\files\\model-best\\assets\n",
      "wandb: Adding directory to artifact (D:\\DL\\wandb\\run-20250515_224951-kvmf5zli\\files\\model-best)... Done. 0.0s\n"
     ]
    },
    {
     "name": "stdout",
     "output_type": "stream",
     "text": [
      "1582/1582 [==============================] - 34s 21ms/step - loss: 0.0565 - accuracy: 0.9822 - val_loss: 0.0820 - val_accuracy: 0.9744 - WordAccuracy: 0.5250\n",
      "Epoch 9/10\n",
      "1580/1582 [============================>.] - ETA: 0s - loss: 0.0508 - accuracy: 0.9842\n",
      "Epoch 9: Word-level Accuracy = 0.5457\n"
     ]
    },
    {
     "name": "stderr",
     "output_type": "stream",
     "text": [
      "WARNING:absl:Found untraced functions such as lstm_cell_layer_call_fn, lstm_cell_layer_call_and_return_conditional_losses, lstm_cell_1_layer_call_fn, lstm_cell_1_layer_call_and_return_conditional_losses, lstm_cell_2_layer_call_fn while saving (showing 5 of 8). These functions will not be directly callable after loading.\n"
     ]
    },
    {
     "name": "stdout",
     "output_type": "stream",
     "text": [
      "INFO:tensorflow:Assets written to: D:\\DL\\wandb\\run-20250515_224951-kvmf5zli\\files\\model-best\\assets\n"
     ]
    },
    {
     "name": "stderr",
     "output_type": "stream",
     "text": [
      "INFO:tensorflow:Assets written to: D:\\DL\\wandb\\run-20250515_224951-kvmf5zli\\files\\model-best\\assets\n",
      "wandb: Adding directory to artifact (D:\\DL\\wandb\\run-20250515_224951-kvmf5zli\\files\\model-best)... Done. 0.0s\n"
     ]
    },
    {
     "name": "stdout",
     "output_type": "stream",
     "text": [
      "1582/1582 [==============================] - 35s 22ms/step - loss: 0.0508 - accuracy: 0.9842 - val_loss: 0.0793 - val_accuracy: 0.9756 - WordAccuracy: 0.5457\n",
      "Epoch 10/10\n",
      "1580/1582 [============================>.] - ETA: 0s - loss: 0.0461 - accuracy: 0.9855\n",
      "Epoch 10: Word-level Accuracy = 0.5455\n",
      "1582/1582 [==============================] - 26s 16ms/step - loss: 0.0461 - accuracy: 0.9855 - val_loss: 0.0806 - val_accuracy: 0.9756 - WordAccuracy: 0.5455\n"
     ]
    },
    {
     "data": {
      "application/vnd.jupyter.widget-view+json": {
       "model_id": "2535f777440d4bbeac64dac2221bf73c",
       "version_major": 2,
       "version_minor": 0
      },
      "text/plain": [
       "VBox(children=(Label(value='195.026 MB of 195.026 MB uploaded (0.257 MB deduped)\\r'), FloatProgress(value=1.0,…"
      ]
     },
     "metadata": {},
     "output_type": "display_data"
    },
    {
     "data": {
      "text/html": [
       "<style>\n",
       "    table.wandb td:nth-child(1) { padding: 0 10px; text-align: left ; width: auto;} td:nth-child(2) {text-align: left ; width: 100%}\n",
       "    .wandb-row { display: flex; flex-direction: row; flex-wrap: wrap; justify-content: flex-start; width: 100% }\n",
       "    .wandb-col { display: flex; flex-direction: column; flex-basis: 100%; flex: 1; padding: 10px; }\n",
       "    </style>\n",
       "<div class=\"wandb-row\"><div class=\"wandb-col\"><h3>Run history:</h3><br/><table class=\"wandb\"><tr><td>Val_WordAccuracy</td><td>▁▆▆▇▇▇████</td></tr><tr><td>WordAccuracy</td><td>▁▆▆▇▇▇████</td></tr><tr><td>accuracy</td><td>▁▆▇███████</td></tr><tr><td>epoch</td><td>▂▁▂▂▃▂▄▃▅▄▅▅▆▅▇▆▇▇█▇</td></tr><tr><td>loss</td><td>█▃▂▁▁▁▁▁▁▁</td></tr><tr><td>val_accuracy</td><td>▁▇▇███████</td></tr><tr><td>val_loss</td><td>█▂▂▁▁▁▁▁▁▁</td></tr></table><br/></div><div class=\"wandb-col\"><h3>Run summary:</h3><br/><table class=\"wandb\"><tr><td>Val_WordAccuracy</td><td>0.54545</td></tr><tr><td>WordAccuracy</td><td>0.54545</td></tr><tr><td>accuracy</td><td>0.98548</td></tr><tr><td>best_epoch</td><td>8</td></tr><tr><td>best_val_loss</td><td>0.07928</td></tr><tr><td>epoch</td><td>9</td></tr><tr><td>loss</td><td>0.04613</td></tr><tr><td>val_accuracy</td><td>0.97563</td></tr><tr><td>val_loss</td><td>0.0806</td></tr></table><br/></div></div>"
      ],
      "text/plain": [
       "<IPython.core.display.HTML object>"
      ]
     },
     "metadata": {},
     "output_type": "display_data"
    },
    {
     "data": {
      "text/html": [
       " View run <strong style=\"color:#cdcd00\">lilac-sweep-7</strong> at: <a href='https://wandb.ai/manoj_da24s018-iit-madras/Transliterator_Attention_HyperParameterSweep/runs/kvmf5zli' target=\"_blank\">https://wandb.ai/manoj_da24s018-iit-madras/Transliterator_Attention_HyperParameterSweep/runs/kvmf5zli</a><br/> View project at: <a href='https://wandb.ai/manoj_da24s018-iit-madras/Transliterator_Attention_HyperParameterSweep' target=\"_blank\">https://wandb.ai/manoj_da24s018-iit-madras/Transliterator_Attention_HyperParameterSweep</a><br/>Synced 5 W&B file(s), 1 media file(s), 36 artifact file(s) and 1 other file(s)"
      ],
      "text/plain": [
       "<IPython.core.display.HTML object>"
      ]
     },
     "metadata": {},
     "output_type": "display_data"
    },
    {
     "data": {
      "text/html": [
       "Find logs at: <code>.\\wandb\\run-20250515_224951-kvmf5zli\\logs</code>"
      ],
      "text/plain": [
       "<IPython.core.display.HTML object>"
      ]
     },
     "metadata": {},
     "output_type": "display_data"
    },
    {
     "name": "stderr",
     "output_type": "stream",
     "text": [
      "wandb: Agent Starting Run: 8lvq5225 with config:\n",
      "wandb: \tcell_type: lstm\n",
      "wandb: \tchar_embedding_dim: 16\n",
      "wandb: \tdecoder_layers: 3\n",
      "wandb: \tdropout: 0.3\n",
      "wandb: \tencoder_layers: 1\n",
      "wandb: \thidden_state_dim: 256\n"
     ]
    },
    {
     "data": {
      "text/html": [
       "wandb version 0.19.11 is available!  To upgrade, please run:\n",
       " $ pip install wandb --upgrade"
      ],
      "text/plain": [
       "<IPython.core.display.HTML object>"
      ]
     },
     "metadata": {},
     "output_type": "display_data"
    },
    {
     "data": {
      "text/html": [
       "Tracking run with wandb version 0.16.6"
      ],
      "text/plain": [
       "<IPython.core.display.HTML object>"
      ]
     },
     "metadata": {},
     "output_type": "display_data"
    },
    {
     "data": {
      "text/html": [
       "Run data is saved locally in <code>D:\\DL\\wandb\\run-20250515_225551-8lvq5225</code>"
      ],
      "text/plain": [
       "<IPython.core.display.HTML object>"
      ]
     },
     "metadata": {},
     "output_type": "display_data"
    },
    {
     "data": {
      "text/html": [
       "Syncing run <strong><a href='https://wandb.ai/manoj_da24s018-iit-madras/Transliterator_Attention_HyperParameterSweep/runs/8lvq5225' target=\"_blank\">sweet-sweep-8</a></strong> to <a href='https://wandb.ai/manoj_da24s018-iit-madras/Transliterator_Attention_HyperParameterSweep' target=\"_blank\">Weights & Biases</a> (<a href='https://wandb.me/run' target=\"_blank\">docs</a>)<br/>Sweep page: <a href='https://wandb.ai/manoj_da24s018-iit-madras/Transliterator_Attention_HyperParameterSweep/sweeps/htfl2fri' target=\"_blank\">https://wandb.ai/manoj_da24s018-iit-madras/Transliterator_Attention_HyperParameterSweep/sweeps/htfl2fri</a>"
      ],
      "text/plain": [
       "<IPython.core.display.HTML object>"
      ]
     },
     "metadata": {},
     "output_type": "display_data"
    },
    {
     "data": {
      "text/html": [
       " View project at <a href='https://wandb.ai/manoj_da24s018-iit-madras/Transliterator_Attention_HyperParameterSweep' target=\"_blank\">https://wandb.ai/manoj_da24s018-iit-madras/Transliterator_Attention_HyperParameterSweep</a>"
      ],
      "text/plain": [
       "<IPython.core.display.HTML object>"
      ]
     },
     "metadata": {},
     "output_type": "display_data"
    },
    {
     "data": {
      "text/html": [
       " View sweep at <a href='https://wandb.ai/manoj_da24s018-iit-madras/Transliterator_Attention_HyperParameterSweep/sweeps/htfl2fri' target=\"_blank\">https://wandb.ai/manoj_da24s018-iit-madras/Transliterator_Attention_HyperParameterSweep/sweeps/htfl2fri</a>"
      ],
      "text/plain": [
       "<IPython.core.display.HTML object>"
      ]
     },
     "metadata": {},
     "output_type": "display_data"
    },
    {
     "data": {
      "text/html": [
       " View run at <a href='https://wandb.ai/manoj_da24s018-iit-madras/Transliterator_Attention_HyperParameterSweep/runs/8lvq5225' target=\"_blank\">https://wandb.ai/manoj_da24s018-iit-madras/Transliterator_Attention_HyperParameterSweep/runs/8lvq5225</a>"
      ],
      "text/plain": [
       "<IPython.core.display.HTML object>"
      ]
     },
     "metadata": {},
     "output_type": "display_data"
    },
    {
     "name": "stdout",
     "output_type": "stream",
     "text": [
      "Sweep Name:  RNN Layer Type: lstm, Character_Embedding_dim: 16, Hidden_dim:256, Num_Encoder_Layer:1, Num_Decoder_Layer:3, Dropout:0.3\n",
      "Epoch 1/10\n",
      "1580/1582 [============================>.] - ETA: 0s - loss: 0.9782 - accuracy: 0.7340\n",
      "Epoch 1: Word-level Accuracy = 0.0000\n"
     ]
    },
    {
     "name": "stderr",
     "output_type": "stream",
     "text": [
      "WARNING:absl:Found untraced functions such as lstm_cell_layer_call_fn, lstm_cell_layer_call_and_return_conditional_losses, lstm_cell_1_layer_call_fn, lstm_cell_1_layer_call_and_return_conditional_losses while saving (showing 4 of 4). These functions will not be directly callable after loading.\n"
     ]
    },
    {
     "name": "stdout",
     "output_type": "stream",
     "text": [
      "INFO:tensorflow:Assets written to: D:\\DL\\wandb\\run-20250515_225551-8lvq5225\\files\\model-best\\assets\n"
     ]
    },
    {
     "name": "stderr",
     "output_type": "stream",
     "text": [
      "INFO:tensorflow:Assets written to: D:\\DL\\wandb\\run-20250515_225551-8lvq5225\\files\\model-best\\assets\n",
      "wandb: Adding directory to artifact (D:\\DL\\wandb\\run-20250515_225551-8lvq5225\\files\\model-best)... Done. 0.0s\n"
     ]
    },
    {
     "name": "stdout",
     "output_type": "stream",
     "text": [
      "1582/1582 [==============================] - 21s 12ms/step - loss: 0.9780 - accuracy: 0.7341 - val_loss: 0.7556 - val_accuracy: 0.7873 - WordAccuracy: 0.0000e+00\n",
      "Epoch 2/10\n",
      "1576/1582 [============================>.] - ETA: 0s - loss: 0.7018 - accuracy: 0.7967\n",
      "Epoch 2: Word-level Accuracy = 0.0016\n"
     ]
    },
    {
     "name": "stderr",
     "output_type": "stream",
     "text": [
      "WARNING:absl:Found untraced functions such as lstm_cell_layer_call_fn, lstm_cell_layer_call_and_return_conditional_losses, lstm_cell_1_layer_call_fn, lstm_cell_1_layer_call_and_return_conditional_losses while saving (showing 4 of 4). These functions will not be directly callable after loading.\n"
     ]
    },
    {
     "name": "stdout",
     "output_type": "stream",
     "text": [
      "INFO:tensorflow:Assets written to: D:\\DL\\wandb\\run-20250515_225551-8lvq5225\\files\\model-best\\assets\n"
     ]
    },
    {
     "name": "stderr",
     "output_type": "stream",
     "text": [
      "INFO:tensorflow:Assets written to: D:\\DL\\wandb\\run-20250515_225551-8lvq5225\\files\\model-best\\assets\n",
      "wandb: Adding directory to artifact (D:\\DL\\wandb\\run-20250515_225551-8lvq5225\\files\\model-best)... Done. 0.0s\n"
     ]
    },
    {
     "name": "stdout",
     "output_type": "stream",
     "text": [
      "1582/1582 [==============================] - 19s 12ms/step - loss: 0.7015 - accuracy: 0.7968 - val_loss: 0.5850 - val_accuracy: 0.8298 - WordAccuracy: 0.0016\n",
      "Epoch 3/10\n",
      "1578/1582 [============================>.] - ETA: 0s - loss: 0.5134 - accuracy: 0.8480\n",
      "Epoch 3: Word-level Accuracy = 0.0191\n"
     ]
    },
    {
     "name": "stderr",
     "output_type": "stream",
     "text": [
      "WARNING:absl:Found untraced functions such as lstm_cell_layer_call_fn, lstm_cell_layer_call_and_return_conditional_losses, lstm_cell_1_layer_call_fn, lstm_cell_1_layer_call_and_return_conditional_losses while saving (showing 4 of 4). These functions will not be directly callable after loading.\n"
     ]
    },
    {
     "name": "stdout",
     "output_type": "stream",
     "text": [
      "INFO:tensorflow:Assets written to: D:\\DL\\wandb\\run-20250515_225551-8lvq5225\\files\\model-best\\assets\n"
     ]
    },
    {
     "name": "stderr",
     "output_type": "stream",
     "text": [
      "INFO:tensorflow:Assets written to: D:\\DL\\wandb\\run-20250515_225551-8lvq5225\\files\\model-best\\assets\n",
      "wandb: Adding directory to artifact (D:\\DL\\wandb\\run-20250515_225551-8lvq5225\\files\\model-best)... Done. 0.0s\n"
     ]
    },
    {
     "name": "stdout",
     "output_type": "stream",
     "text": [
      "1582/1582 [==============================] - 20s 13ms/step - loss: 0.5132 - accuracy: 0.8481 - val_loss: 0.4120 - val_accuracy: 0.8775 - WordAccuracy: 0.0191\n",
      "Epoch 4/10\n",
      "1582/1582 [==============================] - ETA: 0s - loss: 0.3601 - accuracy: 0.8922\n",
      "Epoch 4: Word-level Accuracy = 0.0849\n"
     ]
    },
    {
     "name": "stderr",
     "output_type": "stream",
     "text": [
      "WARNING:absl:Found untraced functions such as lstm_cell_layer_call_fn, lstm_cell_layer_call_and_return_conditional_losses, lstm_cell_1_layer_call_fn, lstm_cell_1_layer_call_and_return_conditional_losses while saving (showing 4 of 4). These functions will not be directly callable after loading.\n"
     ]
    },
    {
     "name": "stdout",
     "output_type": "stream",
     "text": [
      "INFO:tensorflow:Assets written to: D:\\DL\\wandb\\run-20250515_225551-8lvq5225\\files\\model-best\\assets\n"
     ]
    },
    {
     "name": "stderr",
     "output_type": "stream",
     "text": [
      "INFO:tensorflow:Assets written to: D:\\DL\\wandb\\run-20250515_225551-8lvq5225\\files\\model-best\\assets\n",
      "wandb: Adding directory to artifact (D:\\DL\\wandb\\run-20250515_225551-8lvq5225\\files\\model-best)... Done. 0.0s\n"
     ]
    },
    {
     "name": "stdout",
     "output_type": "stream",
     "text": [
      "1582/1582 [==============================] - 20s 12ms/step - loss: 0.3601 - accuracy: 0.8922 - val_loss: 0.3212 - val_accuracy: 0.9039 - WordAccuracy: 0.0849\n",
      "Epoch 5/10\n",
      "1581/1582 [============================>.] - ETA: 0s - loss: 0.2567 - accuracy: 0.9224\n",
      "Epoch 5: Word-level Accuracy = 0.1560\n"
     ]
    },
    {
     "name": "stderr",
     "output_type": "stream",
     "text": [
      "WARNING:absl:Found untraced functions such as lstm_cell_layer_call_fn, lstm_cell_layer_call_and_return_conditional_losses, lstm_cell_1_layer_call_fn, lstm_cell_1_layer_call_and_return_conditional_losses while saving (showing 4 of 4). These functions will not be directly callable after loading.\n"
     ]
    },
    {
     "name": "stdout",
     "output_type": "stream",
     "text": [
      "INFO:tensorflow:Assets written to: D:\\DL\\wandb\\run-20250515_225551-8lvq5225\\files\\model-best\\assets\n"
     ]
    },
    {
     "name": "stderr",
     "output_type": "stream",
     "text": [
      "INFO:tensorflow:Assets written to: D:\\DL\\wandb\\run-20250515_225551-8lvq5225\\files\\model-best\\assets\n",
      "wandb: Adding directory to artifact (D:\\DL\\wandb\\run-20250515_225551-8lvq5225\\files\\model-best)... Done. 0.0s\n"
     ]
    },
    {
     "name": "stdout",
     "output_type": "stream",
     "text": [
      "1582/1582 [==============================] - 21s 13ms/step - loss: 0.2568 - accuracy: 0.9224 - val_loss: 0.2541 - val_accuracy: 0.9235 - WordAccuracy: 0.1560\n",
      "Epoch 6/10\n",
      "1580/1582 [============================>.] - ETA: 0s - loss: 0.1881 - accuracy: 0.9433\n",
      "Epoch 6: Word-level Accuracy = 0.2413\n"
     ]
    },
    {
     "name": "stderr",
     "output_type": "stream",
     "text": [
      "WARNING:absl:Found untraced functions such as lstm_cell_layer_call_fn, lstm_cell_layer_call_and_return_conditional_losses, lstm_cell_1_layer_call_fn, lstm_cell_1_layer_call_and_return_conditional_losses while saving (showing 4 of 4). These functions will not be directly callable after loading.\n"
     ]
    },
    {
     "name": "stdout",
     "output_type": "stream",
     "text": [
      "INFO:tensorflow:Assets written to: D:\\DL\\wandb\\run-20250515_225551-8lvq5225\\files\\model-best\\assets\n"
     ]
    },
    {
     "name": "stderr",
     "output_type": "stream",
     "text": [
      "INFO:tensorflow:Assets written to: D:\\DL\\wandb\\run-20250515_225551-8lvq5225\\files\\model-best\\assets\n",
      "wandb: Adding directory to artifact (D:\\DL\\wandb\\run-20250515_225551-8lvq5225\\files\\model-best)... Done. 0.0s\n"
     ]
    },
    {
     "name": "stdout",
     "output_type": "stream",
     "text": [
      "1582/1582 [==============================] - 19s 12ms/step - loss: 0.1881 - accuracy: 0.9433 - val_loss: 0.2059 - val_accuracy: 0.9387 - WordAccuracy: 0.2413\n",
      "Epoch 7/10\n",
      "1578/1582 [============================>.] - ETA: 0s - loss: 0.1419 - accuracy: 0.9575\n",
      "Epoch 7: Word-level Accuracy = 0.2863\n"
     ]
    },
    {
     "name": "stderr",
     "output_type": "stream",
     "text": [
      "WARNING:absl:Found untraced functions such as lstm_cell_layer_call_fn, lstm_cell_layer_call_and_return_conditional_losses, lstm_cell_1_layer_call_fn, lstm_cell_1_layer_call_and_return_conditional_losses while saving (showing 4 of 4). These functions will not be directly callable after loading.\n"
     ]
    },
    {
     "name": "stdout",
     "output_type": "stream",
     "text": [
      "INFO:tensorflow:Assets written to: D:\\DL\\wandb\\run-20250515_225551-8lvq5225\\files\\model-best\\assets\n"
     ]
    },
    {
     "name": "stderr",
     "output_type": "stream",
     "text": [
      "INFO:tensorflow:Assets written to: D:\\DL\\wandb\\run-20250515_225551-8lvq5225\\files\\model-best\\assets\n",
      "wandb: Adding directory to artifact (D:\\DL\\wandb\\run-20250515_225551-8lvq5225\\files\\model-best)... Done. 0.0s\n"
     ]
    },
    {
     "name": "stdout",
     "output_type": "stream",
     "text": [
      "1582/1582 [==============================] - 19s 12ms/step - loss: 0.1418 - accuracy: 0.9575 - val_loss: 0.1761 - val_accuracy: 0.9474 - WordAccuracy: 0.2863\n",
      "Epoch 8/10\n",
      "1575/1582 [============================>.] - ETA: 0s - loss: 0.1103 - accuracy: 0.9668\n",
      "Epoch 8: Word-level Accuracy = 0.3402\n"
     ]
    },
    {
     "name": "stderr",
     "output_type": "stream",
     "text": [
      "WARNING:absl:Found untraced functions such as lstm_cell_layer_call_fn, lstm_cell_layer_call_and_return_conditional_losses, lstm_cell_1_layer_call_fn, lstm_cell_1_layer_call_and_return_conditional_losses while saving (showing 4 of 4). These functions will not be directly callable after loading.\n"
     ]
    },
    {
     "name": "stdout",
     "output_type": "stream",
     "text": [
      "INFO:tensorflow:Assets written to: D:\\DL\\wandb\\run-20250515_225551-8lvq5225\\files\\model-best\\assets\n"
     ]
    },
    {
     "name": "stderr",
     "output_type": "stream",
     "text": [
      "INFO:tensorflow:Assets written to: D:\\DL\\wandb\\run-20250515_225551-8lvq5225\\files\\model-best\\assets\n",
      "wandb: Adding directory to artifact (D:\\DL\\wandb\\run-20250515_225551-8lvq5225\\files\\model-best)... Done. 0.0s\n"
     ]
    },
    {
     "name": "stdout",
     "output_type": "stream",
     "text": [
      "1582/1582 [==============================] - 20s 13ms/step - loss: 0.1103 - accuracy: 0.9668 - val_loss: 0.1581 - val_accuracy: 0.9531 - WordAccuracy: 0.3402\n",
      "Epoch 9/10\n",
      "1577/1582 [============================>.] - ETA: 0s - loss: 0.0888 - accuracy: 0.9733\n",
      "Epoch 9: Word-level Accuracy = 0.3708\n"
     ]
    },
    {
     "name": "stderr",
     "output_type": "stream",
     "text": [
      "WARNING:absl:Found untraced functions such as lstm_cell_layer_call_fn, lstm_cell_layer_call_and_return_conditional_losses, lstm_cell_1_layer_call_fn, lstm_cell_1_layer_call_and_return_conditional_losses while saving (showing 4 of 4). These functions will not be directly callable after loading.\n"
     ]
    },
    {
     "name": "stdout",
     "output_type": "stream",
     "text": [
      "INFO:tensorflow:Assets written to: D:\\DL\\wandb\\run-20250515_225551-8lvq5225\\files\\model-best\\assets\n"
     ]
    },
    {
     "name": "stderr",
     "output_type": "stream",
     "text": [
      "INFO:tensorflow:Assets written to: D:\\DL\\wandb\\run-20250515_225551-8lvq5225\\files\\model-best\\assets\n",
      "wandb: Adding directory to artifact (D:\\DL\\wandb\\run-20250515_225551-8lvq5225\\files\\model-best)... Done. 0.0s\n"
     ]
    },
    {
     "name": "stdout",
     "output_type": "stream",
     "text": [
      "1582/1582 [==============================] - 19s 12ms/step - loss: 0.0887 - accuracy: 0.9733 - val_loss: 0.1405 - val_accuracy: 0.9578 - WordAccuracy: 0.3708\n",
      "Epoch 10/10\n",
      "1580/1582 [============================>.] - ETA: 0s - loss: 0.0735 - accuracy: 0.9777\n",
      "Epoch 10: Word-level Accuracy = 0.4166\n"
     ]
    },
    {
     "name": "stderr",
     "output_type": "stream",
     "text": [
      "WARNING:absl:Found untraced functions such as lstm_cell_layer_call_fn, lstm_cell_layer_call_and_return_conditional_losses, lstm_cell_1_layer_call_fn, lstm_cell_1_layer_call_and_return_conditional_losses while saving (showing 4 of 4). These functions will not be directly callable after loading.\n"
     ]
    },
    {
     "name": "stdout",
     "output_type": "stream",
     "text": [
      "INFO:tensorflow:Assets written to: D:\\DL\\wandb\\run-20250515_225551-8lvq5225\\files\\model-best\\assets\n"
     ]
    },
    {
     "name": "stderr",
     "output_type": "stream",
     "text": [
      "INFO:tensorflow:Assets written to: D:\\DL\\wandb\\run-20250515_225551-8lvq5225\\files\\model-best\\assets\n",
      "wandb: Adding directory to artifact (D:\\DL\\wandb\\run-20250515_225551-8lvq5225\\files\\model-best)... Done. 0.0s\n"
     ]
    },
    {
     "name": "stdout",
     "output_type": "stream",
     "text": [
      "1582/1582 [==============================] - 19s 12ms/step - loss: 0.0735 - accuracy: 0.9778 - val_loss: 0.1304 - val_accuracy: 0.9624 - WordAccuracy: 0.4166\n"
     ]
    },
    {
     "data": {
      "application/vnd.jupyter.widget-view+json": {
       "model_id": "0aca5b42ba0a483bb0a6f59112e6f9c7",
       "version_major": 2,
       "version_minor": 0
      },
      "text/plain": [
       "VBox(children=(Label(value='83.347 MB of 83.347 MB uploaded (0.209 MB deduped)\\r'), FloatProgress(value=1.0, m…"
      ]
     },
     "metadata": {},
     "output_type": "display_data"
    },
    {
     "data": {
      "text/html": [
       "<style>\n",
       "    table.wandb td:nth-child(1) { padding: 0 10px; text-align: left ; width: auto;} td:nth-child(2) {text-align: left ; width: 100%}\n",
       "    .wandb-row { display: flex; flex-direction: row; flex-wrap: wrap; justify-content: flex-start; width: 100% }\n",
       "    .wandb-col { display: flex; flex-direction: column; flex-basis: 100%; flex: 1; padding: 10px; }\n",
       "    </style>\n",
       "<div class=\"wandb-row\"><div class=\"wandb-col\"><h3>Run history:</h3><br/><table class=\"wandb\"><tr><td>Val_WordAccuracy</td><td>▁▁▁▂▄▅▆▇▇█</td></tr><tr><td>WordAccuracy</td><td>▁▁▁▂▄▅▆▇▇█</td></tr><tr><td>accuracy</td><td>▁▃▄▆▆▇▇███</td></tr><tr><td>epoch</td><td>▂▁▂▂▃▂▄▃▅▄▅▅▆▅▇▆▇▇█▇</td></tr><tr><td>loss</td><td>█▆▄▃▂▂▂▁▁▁</td></tr><tr><td>val_accuracy</td><td>▁▃▅▆▆▇▇███</td></tr><tr><td>val_loss</td><td>█▆▄▃▂▂▂▁▁▁</td></tr></table><br/></div><div class=\"wandb-col\"><h3>Run summary:</h3><br/><table class=\"wandb\"><tr><td>Val_WordAccuracy</td><td>0.41655</td></tr><tr><td>WordAccuracy</td><td>0.41655</td></tr><tr><td>accuracy</td><td>0.97775</td></tr><tr><td>best_epoch</td><td>9</td></tr><tr><td>best_val_loss</td><td>0.13041</td></tr><tr><td>epoch</td><td>9</td></tr><tr><td>loss</td><td>0.07347</td></tr><tr><td>val_accuracy</td><td>0.96242</td></tr><tr><td>val_loss</td><td>0.13041</td></tr></table><br/></div></div>"
      ],
      "text/plain": [
       "<IPython.core.display.HTML object>"
      ]
     },
     "metadata": {},
     "output_type": "display_data"
    },
    {
     "data": {
      "text/html": [
       " View run <strong style=\"color:#cdcd00\">sweet-sweep-8</strong> at: <a href='https://wandb.ai/manoj_da24s018-iit-madras/Transliterator_Attention_HyperParameterSweep/runs/8lvq5225' target=\"_blank\">https://wandb.ai/manoj_da24s018-iit-madras/Transliterator_Attention_HyperParameterSweep/runs/8lvq5225</a><br/> View project at: <a href='https://wandb.ai/manoj_da24s018-iit-madras/Transliterator_Attention_HyperParameterSweep' target=\"_blank\">https://wandb.ai/manoj_da24s018-iit-madras/Transliterator_Attention_HyperParameterSweep</a><br/>Synced 5 W&B file(s), 1 media file(s), 40 artifact file(s) and 1 other file(s)"
      ],
      "text/plain": [
       "<IPython.core.display.HTML object>"
      ]
     },
     "metadata": {},
     "output_type": "display_data"
    },
    {
     "data": {
      "text/html": [
       "Find logs at: <code>.\\wandb\\run-20250515_225551-8lvq5225\\logs</code>"
      ],
      "text/plain": [
       "<IPython.core.display.HTML object>"
      ]
     },
     "metadata": {},
     "output_type": "display_data"
    },
    {
     "name": "stderr",
     "output_type": "stream",
     "text": [
      "wandb: Agent Starting Run: 4yj5yd2q with config:\n",
      "wandb: \tcell_type: rnn\n",
      "wandb: \tchar_embedding_dim: 8\n",
      "wandb: \tdecoder_layers: 1\n",
      "wandb: \tdropout: 0.2\n",
      "wandb: \tencoder_layers: 3\n",
      "wandb: \thidden_state_dim: 256\n"
     ]
    },
    {
     "data": {
      "text/html": [
       "wandb version 0.19.11 is available!  To upgrade, please run:\n",
       " $ pip install wandb --upgrade"
      ],
      "text/plain": [
       "<IPython.core.display.HTML object>"
      ]
     },
     "metadata": {},
     "output_type": "display_data"
    },
    {
     "data": {
      "text/html": [
       "Tracking run with wandb version 0.16.6"
      ],
      "text/plain": [
       "<IPython.core.display.HTML object>"
      ]
     },
     "metadata": {},
     "output_type": "display_data"
    },
    {
     "data": {
      "text/html": [
       "Run data is saved locally in <code>D:\\DL\\wandb\\run-20250515_225927-4yj5yd2q</code>"
      ],
      "text/plain": [
       "<IPython.core.display.HTML object>"
      ]
     },
     "metadata": {},
     "output_type": "display_data"
    },
    {
     "data": {
      "text/html": [
       "Syncing run <strong><a href='https://wandb.ai/manoj_da24s018-iit-madras/Transliterator_Attention_HyperParameterSweep/runs/4yj5yd2q' target=\"_blank\">sandy-sweep-9</a></strong> to <a href='https://wandb.ai/manoj_da24s018-iit-madras/Transliterator_Attention_HyperParameterSweep' target=\"_blank\">Weights & Biases</a> (<a href='https://wandb.me/run' target=\"_blank\">docs</a>)<br/>Sweep page: <a href='https://wandb.ai/manoj_da24s018-iit-madras/Transliterator_Attention_HyperParameterSweep/sweeps/htfl2fri' target=\"_blank\">https://wandb.ai/manoj_da24s018-iit-madras/Transliterator_Attention_HyperParameterSweep/sweeps/htfl2fri</a>"
      ],
      "text/plain": [
       "<IPython.core.display.HTML object>"
      ]
     },
     "metadata": {},
     "output_type": "display_data"
    },
    {
     "data": {
      "text/html": [
       " View project at <a href='https://wandb.ai/manoj_da24s018-iit-madras/Transliterator_Attention_HyperParameterSweep' target=\"_blank\">https://wandb.ai/manoj_da24s018-iit-madras/Transliterator_Attention_HyperParameterSweep</a>"
      ],
      "text/plain": [
       "<IPython.core.display.HTML object>"
      ]
     },
     "metadata": {},
     "output_type": "display_data"
    },
    {
     "data": {
      "text/html": [
       " View sweep at <a href='https://wandb.ai/manoj_da24s018-iit-madras/Transliterator_Attention_HyperParameterSweep/sweeps/htfl2fri' target=\"_blank\">https://wandb.ai/manoj_da24s018-iit-madras/Transliterator_Attention_HyperParameterSweep/sweeps/htfl2fri</a>"
      ],
      "text/plain": [
       "<IPython.core.display.HTML object>"
      ]
     },
     "metadata": {},
     "output_type": "display_data"
    },
    {
     "data": {
      "text/html": [
       " View run at <a href='https://wandb.ai/manoj_da24s018-iit-madras/Transliterator_Attention_HyperParameterSweep/runs/4yj5yd2q' target=\"_blank\">https://wandb.ai/manoj_da24s018-iit-madras/Transliterator_Attention_HyperParameterSweep/runs/4yj5yd2q</a>"
      ],
      "text/plain": [
       "<IPython.core.display.HTML object>"
      ]
     },
     "metadata": {},
     "output_type": "display_data"
    },
    {
     "name": "stdout",
     "output_type": "stream",
     "text": [
      "Sweep Name:  RNN Layer Type: rnn, Character_Embedding_dim: 8, Hidden_dim:256, Num_Encoder_Layer:3, Num_Decoder_Layer:1, Dropout:0.2\n",
      "Epoch 1/10\n",
      "1582/1582 [==============================] - ETA: 0s - loss: 1.0286 - accuracy: 0.7218\n",
      "Epoch 1: Word-level Accuracy = 0.0000\n",
      "INFO:tensorflow:Assets written to: D:\\DL\\wandb\\run-20250515_225927-4yj5yd2q\\files\\model-best\\assets\n"
     ]
    },
    {
     "name": "stderr",
     "output_type": "stream",
     "text": [
      "INFO:tensorflow:Assets written to: D:\\DL\\wandb\\run-20250515_225927-4yj5yd2q\\files\\model-best\\assets\n",
      "wandb: Adding directory to artifact (D:\\DL\\wandb\\run-20250515_225927-4yj5yd2q\\files\\model-best)... Done. 0.0s\n"
     ]
    },
    {
     "name": "stdout",
     "output_type": "stream",
     "text": [
      "1582/1582 [==============================] - 152s 95ms/step - loss: 1.0286 - accuracy: 0.7218 - val_loss: 0.8514 - val_accuracy: 0.7628 - WordAccuracy: 0.0000e+00\n",
      "Epoch 2/10\n",
      "1582/1582 [==============================] - ETA: 0s - loss: 0.8438 - accuracy: 0.7611\n",
      "Epoch 2: Word-level Accuracy = 0.0000\n",
      "INFO:tensorflow:Assets written to: D:\\DL\\wandb\\run-20250515_225927-4yj5yd2q\\files\\model-best\\assets\n"
     ]
    },
    {
     "name": "stderr",
     "output_type": "stream",
     "text": [
      "INFO:tensorflow:Assets written to: D:\\DL\\wandb\\run-20250515_225927-4yj5yd2q\\files\\model-best\\assets\n",
      "wandb: Adding directory to artifact (D:\\DL\\wandb\\run-20250515_225927-4yj5yd2q\\files\\model-best)... Done. 0.0s\n"
     ]
    },
    {
     "name": "stdout",
     "output_type": "stream",
     "text": [
      "1582/1582 [==============================] - 154s 97ms/step - loss: 0.8438 - accuracy: 0.7611 - val_loss: 0.7597 - val_accuracy: 0.7881 - WordAccuracy: 0.0000e+00\n",
      "Epoch 3/10\n",
      "1582/1582 [==============================] - ETA: 0s - loss: 0.8423 - accuracy: 0.7624\n",
      "Epoch 3: Word-level Accuracy = 0.0000\n",
      "1582/1582 [==============================] - 150s 94ms/step - loss: 0.8423 - accuracy: 0.7624 - val_loss: 0.7748 - val_accuracy: 0.7785 - WordAccuracy: 0.0000e+00\n",
      "Epoch 4/10\n",
      "1582/1582 [==============================] - ETA: 0s - loss: 0.7880 - accuracy: 0.7739\n",
      "Epoch 4: Word-level Accuracy = 0.0000\n",
      "INFO:tensorflow:Assets written to: D:\\DL\\wandb\\run-20250515_225927-4yj5yd2q\\files\\model-best\\assets\n"
     ]
    },
    {
     "name": "stderr",
     "output_type": "stream",
     "text": [
      "INFO:tensorflow:Assets written to: D:\\DL\\wandb\\run-20250515_225927-4yj5yd2q\\files\\model-best\\assets\n",
      "wandb: Adding directory to artifact (D:\\DL\\wandb\\run-20250515_225927-4yj5yd2q\\files\\model-best)... Done. 0.0s\n"
     ]
    },
    {
     "name": "stdout",
     "output_type": "stream",
     "text": [
      "1582/1582 [==============================] - 149s 94ms/step - loss: 0.7880 - accuracy: 0.7739 - val_loss: 0.7403 - val_accuracy: 0.7878 - WordAccuracy: 0.0000e+00\n",
      "Epoch 5/10\n",
      "1582/1582 [==============================] - ETA: 0s - loss: 0.7659 - accuracy: 0.7815\n",
      "Epoch 5: Word-level Accuracy = 0.0000\n",
      "1582/1582 [==============================] - 160s 101ms/step - loss: 0.7659 - accuracy: 0.7815 - val_loss: 0.7581 - val_accuracy: 0.7841 - WordAccuracy: 0.0000e+00\n",
      "Epoch 6/10\n",
      "1582/1582 [==============================] - ETA: 0s - loss: 0.7475 - accuracy: 0.7863\n",
      "Epoch 6: Word-level Accuracy = 0.0000\n",
      "INFO:tensorflow:Assets written to: D:\\DL\\wandb\\run-20250515_225927-4yj5yd2q\\files\\model-best\\assets\n"
     ]
    },
    {
     "name": "stderr",
     "output_type": "stream",
     "text": [
      "INFO:tensorflow:Assets written to: D:\\DL\\wandb\\run-20250515_225927-4yj5yd2q\\files\\model-best\\assets\n",
      "wandb: Adding directory to artifact (D:\\DL\\wandb\\run-20250515_225927-4yj5yd2q\\files\\model-best)... Done. 0.0s\n"
     ]
    },
    {
     "name": "stdout",
     "output_type": "stream",
     "text": [
      "1582/1582 [==============================] - 152s 96ms/step - loss: 0.7475 - accuracy: 0.7863 - val_loss: 0.6933 - val_accuracy: 0.8034 - WordAccuracy: 0.0000e+00\n",
      "Epoch 7/10\n",
      "1582/1582 [==============================] - ETA: 0s - loss: 0.7027 - accuracy: 0.7975\n",
      "Epoch 7: Word-level Accuracy = 0.0000\n",
      "1582/1582 [==============================] - 149s 94ms/step - loss: 0.7027 - accuracy: 0.7975 - val_loss: 0.7528 - val_accuracy: 0.7847 - WordAccuracy: 0.0000e+00\n",
      "Epoch 8/10\n",
      "1582/1582 [==============================] - ETA: 0s - loss: 0.7146 - accuracy: 0.7950\n",
      "Epoch 8: Word-level Accuracy = 0.0000\n",
      "INFO:tensorflow:Assets written to: D:\\DL\\wandb\\run-20250515_225927-4yj5yd2q\\files\\model-best\\assets\n"
     ]
    },
    {
     "name": "stderr",
     "output_type": "stream",
     "text": [
      "INFO:tensorflow:Assets written to: D:\\DL\\wandb\\run-20250515_225927-4yj5yd2q\\files\\model-best\\assets\n",
      "wandb: Adding directory to artifact (D:\\DL\\wandb\\run-20250515_225927-4yj5yd2q\\files\\model-best)... Done. 0.0s\n"
     ]
    },
    {
     "name": "stdout",
     "output_type": "stream",
     "text": [
      "1582/1582 [==============================] - 152s 96ms/step - loss: 0.7146 - accuracy: 0.7950 - val_loss: 0.6894 - val_accuracy: 0.8045 - WordAccuracy: 0.0000e+00\n",
      "Epoch 9/10\n",
      "1582/1582 [==============================] - ETA: 0s - loss: 0.6827 - accuracy: 0.8021\n",
      "Epoch 9: Word-level Accuracy = 0.0000\n",
      "INFO:tensorflow:Assets written to: D:\\DL\\wandb\\run-20250515_225927-4yj5yd2q\\files\\model-best\\assets\n"
     ]
    },
    {
     "name": "stderr",
     "output_type": "stream",
     "text": [
      "INFO:tensorflow:Assets written to: D:\\DL\\wandb\\run-20250515_225927-4yj5yd2q\\files\\model-best\\assets\n",
      "wandb: Adding directory to artifact (D:\\DL\\wandb\\run-20250515_225927-4yj5yd2q\\files\\model-best)... Done. 0.0s\n"
     ]
    },
    {
     "name": "stdout",
     "output_type": "stream",
     "text": [
      "1582/1582 [==============================] - 148s 93ms/step - loss: 0.6827 - accuracy: 0.8021 - val_loss: 0.6725 - val_accuracy: 0.8095 - WordAccuracy: 0.0000e+00\n",
      "Epoch 10/10\n",
      "1582/1582 [==============================] - ETA: 0s - loss: 0.6737 - accuracy: 0.8052\n",
      "Epoch 10: Word-level Accuracy = 0.0000\n",
      "INFO:tensorflow:Assets written to: D:\\DL\\wandb\\run-20250515_225927-4yj5yd2q\\files\\model-best\\assets\n"
     ]
    },
    {
     "name": "stderr",
     "output_type": "stream",
     "text": [
      "INFO:tensorflow:Assets written to: D:\\DL\\wandb\\run-20250515_225927-4yj5yd2q\\files\\model-best\\assets\n",
      "wandb: Adding directory to artifact (D:\\DL\\wandb\\run-20250515_225927-4yj5yd2q\\files\\model-best)... Done. 0.0s\n"
     ]
    },
    {
     "name": "stdout",
     "output_type": "stream",
     "text": [
      "1582/1582 [==============================] - 149s 94ms/step - loss: 0.6737 - accuracy: 0.8052 - val_loss: 0.6633 - val_accuracy: 0.8122 - WordAccuracy: 0.0000e+00\n"
     ]
    },
    {
     "data": {
      "application/vnd.jupyter.widget-view+json": {
       "model_id": "64726048fc5a464ba29a5cd57daaa4a8",
       "version_major": 2,
       "version_minor": 0
      },
      "text/plain": [
       "VBox(children=(Label(value='42.084 MB of 42.084 MB uploaded (0.186 MB deduped)\\r'), FloatProgress(value=1.0, m…"
      ]
     },
     "metadata": {},
     "output_type": "display_data"
    },
    {
     "data": {
      "text/html": [
       "<style>\n",
       "    table.wandb td:nth-child(1) { padding: 0 10px; text-align: left ; width: auto;} td:nth-child(2) {text-align: left ; width: 100%}\n",
       "    .wandb-row { display: flex; flex-direction: row; flex-wrap: wrap; justify-content: flex-start; width: 100% }\n",
       "    .wandb-col { display: flex; flex-direction: column; flex-basis: 100%; flex: 1; padding: 10px; }\n",
       "    </style>\n",
       "<div class=\"wandb-row\"><div class=\"wandb-col\"><h3>Run history:</h3><br/><table class=\"wandb\"><tr><td>Val_WordAccuracy</td><td>▁▁▁▁▁▁▁▁▁▁</td></tr><tr><td>WordAccuracy</td><td>▁▁▁▁▁▁▁▁▁▁</td></tr><tr><td>accuracy</td><td>▁▄▄▅▆▆▇▇██</td></tr><tr><td>epoch</td><td>▂▁▂▂▃▂▄▃▅▄▅▅▆▅▇▆▇▇█▇</td></tr><tr><td>loss</td><td>█▄▄▃▃▂▂▂▁▁</td></tr><tr><td>val_accuracy</td><td>▁▅▃▅▄▇▄▇██</td></tr><tr><td>val_loss</td><td>█▅▅▄▅▂▄▂▁▁</td></tr></table><br/></div><div class=\"wandb-col\"><h3>Run summary:</h3><br/><table class=\"wandb\"><tr><td>Val_WordAccuracy</td><td>0.0</td></tr><tr><td>WordAccuracy</td><td>0.0</td></tr><tr><td>accuracy</td><td>0.80515</td></tr><tr><td>best_epoch</td><td>9</td></tr><tr><td>best_val_loss</td><td>0.66333</td></tr><tr><td>epoch</td><td>9</td></tr><tr><td>loss</td><td>0.67369</td></tr><tr><td>val_accuracy</td><td>0.81219</td></tr><tr><td>val_loss</td><td>0.66333</td></tr></table><br/></div></div>"
      ],
      "text/plain": [
       "<IPython.core.display.HTML object>"
      ]
     },
     "metadata": {},
     "output_type": "display_data"
    },
    {
     "data": {
      "text/html": [
       " View run <strong style=\"color:#cdcd00\">sandy-sweep-9</strong> at: <a href='https://wandb.ai/manoj_da24s018-iit-madras/Transliterator_Attention_HyperParameterSweep/runs/4yj5yd2q' target=\"_blank\">https://wandb.ai/manoj_da24s018-iit-madras/Transliterator_Attention_HyperParameterSweep/runs/4yj5yd2q</a><br/> View project at: <a href='https://wandb.ai/manoj_da24s018-iit-madras/Transliterator_Attention_HyperParameterSweep' target=\"_blank\">https://wandb.ai/manoj_da24s018-iit-madras/Transliterator_Attention_HyperParameterSweep</a><br/>Synced 5 W&B file(s), 1 media file(s), 28 artifact file(s) and 1 other file(s)"
      ],
      "text/plain": [
       "<IPython.core.display.HTML object>"
      ]
     },
     "metadata": {},
     "output_type": "display_data"
    },
    {
     "data": {
      "text/html": [
       "Find logs at: <code>.\\wandb\\run-20250515_225927-4yj5yd2q\\logs</code>"
      ],
      "text/plain": [
       "<IPython.core.display.HTML object>"
      ]
     },
     "metadata": {},
     "output_type": "display_data"
    },
    {
     "name": "stderr",
     "output_type": "stream",
     "text": [
      "wandb: Agent Starting Run: md2csr56 with config:\n",
      "wandb: \tcell_type: rnn\n",
      "wandb: \tchar_embedding_dim: 12\n",
      "wandb: \tdecoder_layers: 2\n",
      "wandb: \tdropout: 0.2\n",
      "wandb: \tencoder_layers: 1\n",
      "wandb: \thidden_state_dim: 128\n"
     ]
    },
    {
     "data": {
      "text/html": [
       "wandb version 0.19.11 is available!  To upgrade, please run:\n",
       " $ pip install wandb --upgrade"
      ],
      "text/plain": [
       "<IPython.core.display.HTML object>"
      ]
     },
     "metadata": {},
     "output_type": "display_data"
    },
    {
     "data": {
      "text/html": [
       "Tracking run with wandb version 0.16.6"
      ],
      "text/plain": [
       "<IPython.core.display.HTML object>"
      ]
     },
     "metadata": {},
     "output_type": "display_data"
    },
    {
     "data": {
      "text/html": [
       "Run data is saved locally in <code>D:\\DL\\wandb\\run-20250515_232504-md2csr56</code>"
      ],
      "text/plain": [
       "<IPython.core.display.HTML object>"
      ]
     },
     "metadata": {},
     "output_type": "display_data"
    },
    {
     "data": {
      "text/html": [
       "Syncing run <strong><a href='https://wandb.ai/manoj_da24s018-iit-madras/Transliterator_Attention_HyperParameterSweep/runs/md2csr56' target=\"_blank\">glad-sweep-10</a></strong> to <a href='https://wandb.ai/manoj_da24s018-iit-madras/Transliterator_Attention_HyperParameterSweep' target=\"_blank\">Weights & Biases</a> (<a href='https://wandb.me/run' target=\"_blank\">docs</a>)<br/>Sweep page: <a href='https://wandb.ai/manoj_da24s018-iit-madras/Transliterator_Attention_HyperParameterSweep/sweeps/htfl2fri' target=\"_blank\">https://wandb.ai/manoj_da24s018-iit-madras/Transliterator_Attention_HyperParameterSweep/sweeps/htfl2fri</a>"
      ],
      "text/plain": [
       "<IPython.core.display.HTML object>"
      ]
     },
     "metadata": {},
     "output_type": "display_data"
    },
    {
     "data": {
      "text/html": [
       " View project at <a href='https://wandb.ai/manoj_da24s018-iit-madras/Transliterator_Attention_HyperParameterSweep' target=\"_blank\">https://wandb.ai/manoj_da24s018-iit-madras/Transliterator_Attention_HyperParameterSweep</a>"
      ],
      "text/plain": [
       "<IPython.core.display.HTML object>"
      ]
     },
     "metadata": {},
     "output_type": "display_data"
    },
    {
     "data": {
      "text/html": [
       " View sweep at <a href='https://wandb.ai/manoj_da24s018-iit-madras/Transliterator_Attention_HyperParameterSweep/sweeps/htfl2fri' target=\"_blank\">https://wandb.ai/manoj_da24s018-iit-madras/Transliterator_Attention_HyperParameterSweep/sweeps/htfl2fri</a>"
      ],
      "text/plain": [
       "<IPython.core.display.HTML object>"
      ]
     },
     "metadata": {},
     "output_type": "display_data"
    },
    {
     "data": {
      "text/html": [
       " View run at <a href='https://wandb.ai/manoj_da24s018-iit-madras/Transliterator_Attention_HyperParameterSweep/runs/md2csr56' target=\"_blank\">https://wandb.ai/manoj_da24s018-iit-madras/Transliterator_Attention_HyperParameterSweep/runs/md2csr56</a>"
      ],
      "text/plain": [
       "<IPython.core.display.HTML object>"
      ]
     },
     "metadata": {},
     "output_type": "display_data"
    },
    {
     "name": "stdout",
     "output_type": "stream",
     "text": [
      "Sweep Name:  RNN Layer Type: rnn, Character_Embedding_dim: 12, Hidden_dim:128, Num_Encoder_Layer:1, Num_Decoder_Layer:2, Dropout:0.2\n",
      "Epoch 1/10\n",
      "1582/1582 [==============================] - ETA: 0s - loss: 0.7274 - accuracy: 0.8042\n",
      "Epoch 1: Word-level Accuracy = 0.2266\n",
      "INFO:tensorflow:Assets written to: D:\\DL\\wandb\\run-20250515_232504-md2csr56\\files\\model-best\\assets\n"
     ]
    },
    {
     "name": "stderr",
     "output_type": "stream",
     "text": [
      "INFO:tensorflow:Assets written to: D:\\DL\\wandb\\run-20250515_232504-md2csr56\\files\\model-best\\assets\n",
      "wandb: Adding directory to artifact (D:\\DL\\wandb\\run-20250515_232504-md2csr56\\files\\model-best)... Done. 0.0s\n"
     ]
    },
    {
     "name": "stdout",
     "output_type": "stream",
     "text": [
      "1582/1582 [==============================] - 72s 45ms/step - loss: 0.7274 - accuracy: 0.8042 - val_loss: 0.2124 - val_accuracy: 0.9405 - WordAccuracy: 0.2266\n",
      "Epoch 2/10\n",
      "1582/1582 [==============================] - ETA: 0s - loss: 0.2213 - accuracy: 0.9376\n",
      "Epoch 2: Word-level Accuracy = 0.3410\n",
      "INFO:tensorflow:Assets written to: D:\\DL\\wandb\\run-20250515_232504-md2csr56\\files\\model-best\\assets\n"
     ]
    },
    {
     "name": "stderr",
     "output_type": "stream",
     "text": [
      "INFO:tensorflow:Assets written to: D:\\DL\\wandb\\run-20250515_232504-md2csr56\\files\\model-best\\assets\n",
      "wandb: Adding directory to artifact (D:\\DL\\wandb\\run-20250515_232504-md2csr56\\files\\model-best)... Done. 0.0s\n"
     ]
    },
    {
     "name": "stdout",
     "output_type": "stream",
     "text": [
      "1582/1582 [==============================] - 70s 44ms/step - loss: 0.2213 - accuracy: 0.9376 - val_loss: 0.1444 - val_accuracy: 0.9565 - WordAccuracy: 0.3410\n",
      "Epoch 3/10\n",
      "1582/1582 [==============================] - ETA: 0s - loss: 0.1739 - accuracy: 0.9498\n",
      "Epoch 3: Word-level Accuracy = 0.3609\n",
      "INFO:tensorflow:Assets written to: D:\\DL\\wandb\\run-20250515_232504-md2csr56\\files\\model-best\\assets\n"
     ]
    },
    {
     "name": "stderr",
     "output_type": "stream",
     "text": [
      "INFO:tensorflow:Assets written to: D:\\DL\\wandb\\run-20250515_232504-md2csr56\\files\\model-best\\assets\n",
      "wandb: Adding directory to artifact (D:\\DL\\wandb\\run-20250515_232504-md2csr56\\files\\model-best)... Done. 0.0s\n"
     ]
    },
    {
     "name": "stdout",
     "output_type": "stream",
     "text": [
      "1582/1582 [==============================] - 72s 46ms/step - loss: 0.1739 - accuracy: 0.9498 - val_loss: 0.1325 - val_accuracy: 0.9594 - WordAccuracy: 0.3609\n",
      "Epoch 4/10\n",
      "1581/1582 [============================>.] - ETA: 0s - loss: 0.1566 - accuracy: 0.9544\n",
      "Epoch 4: Word-level Accuracy = 0.3752\n",
      "INFO:tensorflow:Assets written to: D:\\DL\\wandb\\run-20250515_232504-md2csr56\\files\\model-best\\assets\n"
     ]
    },
    {
     "name": "stderr",
     "output_type": "stream",
     "text": [
      "INFO:tensorflow:Assets written to: D:\\DL\\wandb\\run-20250515_232504-md2csr56\\files\\model-best\\assets\n",
      "wandb: Adding directory to artifact (D:\\DL\\wandb\\run-20250515_232504-md2csr56\\files\\model-best)... Done. 0.0s\n"
     ]
    },
    {
     "name": "stdout",
     "output_type": "stream",
     "text": [
      "1582/1582 [==============================] - 70s 44ms/step - loss: 0.1566 - accuracy: 0.9544 - val_loss: 0.1267 - val_accuracy: 0.9612 - WordAccuracy: 0.3752\n",
      "Epoch 5/10\n",
      "1581/1582 [============================>.] - ETA: 0s - loss: 0.1462 - accuracy: 0.9571\n",
      "Epoch 5: Word-level Accuracy = 0.3909\n",
      "INFO:tensorflow:Assets written to: D:\\DL\\wandb\\run-20250515_232504-md2csr56\\files\\model-best\\assets\n"
     ]
    },
    {
     "name": "stderr",
     "output_type": "stream",
     "text": [
      "INFO:tensorflow:Assets written to: D:\\DL\\wandb\\run-20250515_232504-md2csr56\\files\\model-best\\assets\n",
      "wandb: Adding directory to artifact (D:\\DL\\wandb\\run-20250515_232504-md2csr56\\files\\model-best)... Done. 0.0s\n"
     ]
    },
    {
     "name": "stdout",
     "output_type": "stream",
     "text": [
      "1582/1582 [==============================] - 74s 47ms/step - loss: 0.1462 - accuracy: 0.9571 - val_loss: 0.1221 - val_accuracy: 0.9627 - WordAccuracy: 0.3909\n",
      "Epoch 6/10\n",
      "1581/1582 [============================>.] - ETA: 0s - loss: 0.1385 - accuracy: 0.9593\n",
      "Epoch 6: Word-level Accuracy = 0.3955\n",
      "INFO:tensorflow:Assets written to: D:\\DL\\wandb\\run-20250515_232504-md2csr56\\files\\model-best\\assets\n"
     ]
    },
    {
     "name": "stderr",
     "output_type": "stream",
     "text": [
      "INFO:tensorflow:Assets written to: D:\\DL\\wandb\\run-20250515_232504-md2csr56\\files\\model-best\\assets\n",
      "wandb: Adding directory to artifact (D:\\DL\\wandb\\run-20250515_232504-md2csr56\\files\\model-best)... Done. 0.0s\n"
     ]
    },
    {
     "name": "stdout",
     "output_type": "stream",
     "text": [
      "1582/1582 [==============================] - 70s 44ms/step - loss: 0.1385 - accuracy: 0.9593 - val_loss: 0.1213 - val_accuracy: 0.9637 - WordAccuracy: 0.3955\n",
      "Epoch 7/10\n",
      "1581/1582 [============================>.] - ETA: 0s - loss: 0.1319 - accuracy: 0.9609\n",
      "Epoch 7: Word-level Accuracy = 0.3973\n",
      "1582/1582 [==============================] - 69s 44ms/step - loss: 0.1319 - accuracy: 0.9609 - val_loss: 0.1231 - val_accuracy: 0.9633 - WordAccuracy: 0.3973\n",
      "Epoch 8/10\n",
      "1582/1582 [==============================] - ETA: 0s - loss: 0.1272 - accuracy: 0.9622\n",
      "Epoch 8: Word-level Accuracy = 0.4144\n",
      "INFO:tensorflow:Assets written to: D:\\DL\\wandb\\run-20250515_232504-md2csr56\\files\\model-best\\assets\n"
     ]
    },
    {
     "name": "stderr",
     "output_type": "stream",
     "text": [
      "INFO:tensorflow:Assets written to: D:\\DL\\wandb\\run-20250515_232504-md2csr56\\files\\model-best\\assets\n",
      "wandb: Adding directory to artifact (D:\\DL\\wandb\\run-20250515_232504-md2csr56\\files\\model-best)... Done. 0.0s\n"
     ]
    },
    {
     "name": "stdout",
     "output_type": "stream",
     "text": [
      "1582/1582 [==============================] - 72s 46ms/step - loss: 0.1272 - accuracy: 0.9622 - val_loss: 0.1134 - val_accuracy: 0.9654 - WordAccuracy: 0.4144\n",
      "Epoch 9/10\n",
      "1581/1582 [============================>.] - ETA: 0s - loss: 0.1229 - accuracy: 0.9635\n",
      "Epoch 9: Word-level Accuracy = 0.4305\n",
      "INFO:tensorflow:Assets written to: D:\\DL\\wandb\\run-20250515_232504-md2csr56\\files\\model-best\\assets\n"
     ]
    },
    {
     "name": "stderr",
     "output_type": "stream",
     "text": [
      "INFO:tensorflow:Assets written to: D:\\DL\\wandb\\run-20250515_232504-md2csr56\\files\\model-best\\assets\n",
      "wandb: Adding directory to artifact (D:\\DL\\wandb\\run-20250515_232504-md2csr56\\files\\model-best)... Done. 0.0s\n"
     ]
    },
    {
     "name": "stdout",
     "output_type": "stream",
     "text": [
      "1582/1582 [==============================] - 71s 45ms/step - loss: 0.1229 - accuracy: 0.9635 - val_loss: 0.1125 - val_accuracy: 0.9664 - WordAccuracy: 0.4305\n",
      "Epoch 10/10\n",
      "1582/1582 [==============================] - ETA: 0s - loss: 0.1195 - accuracy: 0.9643\n",
      "Epoch 10: Word-level Accuracy = 0.4173\n",
      "INFO:tensorflow:Assets written to: D:\\DL\\wandb\\run-20250515_232504-md2csr56\\files\\model-best\\assets\n"
     ]
    },
    {
     "name": "stderr",
     "output_type": "stream",
     "text": [
      "INFO:tensorflow:Assets written to: D:\\DL\\wandb\\run-20250515_232504-md2csr56\\files\\model-best\\assets\n",
      "wandb: Adding directory to artifact (D:\\DL\\wandb\\run-20250515_232504-md2csr56\\files\\model-best)... Done. 0.0s\n"
     ]
    },
    {
     "name": "stdout",
     "output_type": "stream",
     "text": [
      "1582/1582 [==============================] - 72s 45ms/step - loss: 0.1195 - accuracy: 0.9643 - val_loss: 0.1103 - val_accuracy: 0.9656 - WordAccuracy: 0.4173\n"
     ]
    },
    {
     "data": {
      "application/vnd.jupyter.widget-view+json": {
       "model_id": "d579071fa447499b95d43063e07c7e2c",
       "version_major": 2,
       "version_minor": 0
      },
      "text/plain": [
       "VBox(children=(Label(value='10.961 MB of 10.961 MB uploaded (0.181 MB deduped)\\r'), FloatProgress(value=1.0, m…"
      ]
     },
     "metadata": {},
     "output_type": "display_data"
    },
    {
     "data": {
      "text/html": [
       "W&B sync reduced upload amount by 1.6%             "
      ],
      "text/plain": [
       "<IPython.core.display.HTML object>"
      ]
     },
     "metadata": {},
     "output_type": "display_data"
    },
    {
     "data": {
      "text/html": [
       "<style>\n",
       "    table.wandb td:nth-child(1) { padding: 0 10px; text-align: left ; width: auto;} td:nth-child(2) {text-align: left ; width: 100%}\n",
       "    .wandb-row { display: flex; flex-direction: row; flex-wrap: wrap; justify-content: flex-start; width: 100% }\n",
       "    .wandb-col { display: flex; flex-direction: column; flex-basis: 100%; flex: 1; padding: 10px; }\n",
       "    </style>\n",
       "<div class=\"wandb-row\"><div class=\"wandb-col\"><h3>Run history:</h3><br/><table class=\"wandb\"><tr><td>Val_WordAccuracy</td><td>▁▅▆▆▇▇▇▇██</td></tr><tr><td>WordAccuracy</td><td>▁▅▆▆▇▇▇▇██</td></tr><tr><td>accuracy</td><td>▁▇▇███████</td></tr><tr><td>epoch</td><td>▂▁▂▂▃▂▄▃▅▄▅▅▆▅▇▆▇▇█▇</td></tr><tr><td>loss</td><td>█▂▂▁▁▁▁▁▁▁</td></tr><tr><td>val_accuracy</td><td>▁▅▆▇▇▇▇███</td></tr><tr><td>val_loss</td><td>█▃▃▂▂▂▂▁▁▁</td></tr></table><br/></div><div class=\"wandb-col\"><h3>Run summary:</h3><br/><table class=\"wandb\"><tr><td>Val_WordAccuracy</td><td>0.41735</td></tr><tr><td>WordAccuracy</td><td>0.41735</td></tr><tr><td>accuracy</td><td>0.96426</td></tr><tr><td>best_epoch</td><td>9</td></tr><tr><td>best_val_loss</td><td>0.1103</td></tr><tr><td>epoch</td><td>9</td></tr><tr><td>loss</td><td>0.11947</td></tr><tr><td>val_accuracy</td><td>0.96557</td></tr><tr><td>val_loss</td><td>0.1103</td></tr></table><br/></div></div>"
      ],
      "text/plain": [
       "<IPython.core.display.HTML object>"
      ]
     },
     "metadata": {},
     "output_type": "display_data"
    },
    {
     "data": {
      "text/html": [
       " View run <strong style=\"color:#cdcd00\">glad-sweep-10</strong> at: <a href='https://wandb.ai/manoj_da24s018-iit-madras/Transliterator_Attention_HyperParameterSweep/runs/md2csr56' target=\"_blank\">https://wandb.ai/manoj_da24s018-iit-madras/Transliterator_Attention_HyperParameterSweep/runs/md2csr56</a><br/> View project at: <a href='https://wandb.ai/manoj_da24s018-iit-madras/Transliterator_Attention_HyperParameterSweep' target=\"_blank\">https://wandb.ai/manoj_da24s018-iit-madras/Transliterator_Attention_HyperParameterSweep</a><br/>Synced 5 W&B file(s), 1 media file(s), 36 artifact file(s) and 1 other file(s)"
      ],
      "text/plain": [
       "<IPython.core.display.HTML object>"
      ]
     },
     "metadata": {},
     "output_type": "display_data"
    },
    {
     "data": {
      "text/html": [
       "Find logs at: <code>.\\wandb\\run-20250515_232504-md2csr56\\logs</code>"
      ],
      "text/plain": [
       "<IPython.core.display.HTML object>"
      ]
     },
     "metadata": {},
     "output_type": "display_data"
    },
    {
     "name": "stderr",
     "output_type": "stream",
     "text": [
      "wandb: Sweep Agent: Waiting for job.\n",
      "wandb: Job received.\n",
      "wandb: Agent Starting Run: vi1zjb4i with config:\n",
      "wandb: \tcell_type: gru\n",
      "wandb: \tchar_embedding_dim: 32\n",
      "wandb: \tdecoder_layers: 2\n",
      "wandb: \tdropout: 0.1\n",
      "wandb: \tencoder_layers: 2\n",
      "wandb: \thidden_state_dim: 512\n"
     ]
    },
    {
     "data": {
      "text/html": [
       "wandb version 0.19.11 is available!  To upgrade, please run:\n",
       " $ pip install wandb --upgrade"
      ],
      "text/plain": [
       "<IPython.core.display.HTML object>"
      ]
     },
     "metadata": {},
     "output_type": "display_data"
    },
    {
     "data": {
      "text/html": [
       "Tracking run with wandb version 0.16.6"
      ],
      "text/plain": [
       "<IPython.core.display.HTML object>"
      ]
     },
     "metadata": {},
     "output_type": "display_data"
    },
    {
     "data": {
      "text/html": [
       "Run data is saved locally in <code>D:\\DL\\wandb\\run-20250515_233722-vi1zjb4i</code>"
      ],
      "text/plain": [
       "<IPython.core.display.HTML object>"
      ]
     },
     "metadata": {},
     "output_type": "display_data"
    },
    {
     "data": {
      "text/html": [
       "Syncing run <strong><a href='https://wandb.ai/manoj_da24s018-iit-madras/Transliterator_Attention_HyperParameterSweep/runs/vi1zjb4i' target=\"_blank\">glamorous-sweep-11</a></strong> to <a href='https://wandb.ai/manoj_da24s018-iit-madras/Transliterator_Attention_HyperParameterSweep' target=\"_blank\">Weights & Biases</a> (<a href='https://wandb.me/run' target=\"_blank\">docs</a>)<br/>Sweep page: <a href='https://wandb.ai/manoj_da24s018-iit-madras/Transliterator_Attention_HyperParameterSweep/sweeps/htfl2fri' target=\"_blank\">https://wandb.ai/manoj_da24s018-iit-madras/Transliterator_Attention_HyperParameterSweep/sweeps/htfl2fri</a>"
      ],
      "text/plain": [
       "<IPython.core.display.HTML object>"
      ]
     },
     "metadata": {},
     "output_type": "display_data"
    },
    {
     "data": {
      "text/html": [
       " View project at <a href='https://wandb.ai/manoj_da24s018-iit-madras/Transliterator_Attention_HyperParameterSweep' target=\"_blank\">https://wandb.ai/manoj_da24s018-iit-madras/Transliterator_Attention_HyperParameterSweep</a>"
      ],
      "text/plain": [
       "<IPython.core.display.HTML object>"
      ]
     },
     "metadata": {},
     "output_type": "display_data"
    },
    {
     "data": {
      "text/html": [
       " View sweep at <a href='https://wandb.ai/manoj_da24s018-iit-madras/Transliterator_Attention_HyperParameterSweep/sweeps/htfl2fri' target=\"_blank\">https://wandb.ai/manoj_da24s018-iit-madras/Transliterator_Attention_HyperParameterSweep/sweeps/htfl2fri</a>"
      ],
      "text/plain": [
       "<IPython.core.display.HTML object>"
      ]
     },
     "metadata": {},
     "output_type": "display_data"
    },
    {
     "data": {
      "text/html": [
       " View run at <a href='https://wandb.ai/manoj_da24s018-iit-madras/Transliterator_Attention_HyperParameterSweep/runs/vi1zjb4i' target=\"_blank\">https://wandb.ai/manoj_da24s018-iit-madras/Transliterator_Attention_HyperParameterSweep/runs/vi1zjb4i</a>"
      ],
      "text/plain": [
       "<IPython.core.display.HTML object>"
      ]
     },
     "metadata": {},
     "output_type": "display_data"
    },
    {
     "name": "stdout",
     "output_type": "stream",
     "text": [
      "Sweep Name:  RNN Layer Type: gru, Character_Embedding_dim: 32, Hidden_dim:512, Num_Encoder_Layer:2, Num_Decoder_Layer:2, Dropout:0.1\n",
      "Epoch 1/10\n",
      "1581/1582 [============================>.] - ETA: 0s - loss: 0.4703 - accuracy: 0.8714\n",
      "Epoch 1: Word-level Accuracy = 0.3885\n"
     ]
    },
    {
     "name": "stderr",
     "output_type": "stream",
     "text": [
      "WARNING:absl:Found untraced functions such as gru_cell_layer_call_fn, gru_cell_layer_call_and_return_conditional_losses, gru_cell_1_layer_call_fn, gru_cell_1_layer_call_and_return_conditional_losses, gru_cell_2_layer_call_fn while saving (showing 5 of 6). These functions will not be directly callable after loading.\n"
     ]
    },
    {
     "name": "stdout",
     "output_type": "stream",
     "text": [
      "INFO:tensorflow:Assets written to: D:\\DL\\wandb\\run-20250515_233722-vi1zjb4i\\files\\model-best\\assets\n"
     ]
    },
    {
     "name": "stderr",
     "output_type": "stream",
     "text": [
      "INFO:tensorflow:Assets written to: D:\\DL\\wandb\\run-20250515_233722-vi1zjb4i\\files\\model-best\\assets\n",
      "wandb: Adding directory to artifact (D:\\DL\\wandb\\run-20250515_233722-vi1zjb4i\\files\\model-best)... Done. 0.1s\n"
     ]
    },
    {
     "name": "stdout",
     "output_type": "stream",
     "text": [
      "1582/1582 [==============================] - 30s 18ms/step - loss: 0.4701 - accuracy: 0.8715 - val_loss: 0.1166 - val_accuracy: 0.9629 - WordAccuracy: 0.3885\n",
      "Epoch 2/10\n",
      "1581/1582 [============================>.] - ETA: 0s - loss: 0.0929 - accuracy: 0.9716\n",
      "Epoch 2: Word-level Accuracy = 0.4663\n"
     ]
    },
    {
     "name": "stderr",
     "output_type": "stream",
     "text": [
      "WARNING:absl:Found untraced functions such as gru_cell_layer_call_fn, gru_cell_layer_call_and_return_conditional_losses, gru_cell_1_layer_call_fn, gru_cell_1_layer_call_and_return_conditional_losses, gru_cell_2_layer_call_fn while saving (showing 5 of 6). These functions will not be directly callable after loading.\n"
     ]
    },
    {
     "name": "stdout",
     "output_type": "stream",
     "text": [
      "INFO:tensorflow:Assets written to: D:\\DL\\wandb\\run-20250515_233722-vi1zjb4i\\files\\model-best\\assets\n"
     ]
    },
    {
     "name": "stderr",
     "output_type": "stream",
     "text": [
      "INFO:tensorflow:Assets written to: D:\\DL\\wandb\\run-20250515_233722-vi1zjb4i\\files\\model-best\\assets\n",
      "wandb: Adding directory to artifact (D:\\DL\\wandb\\run-20250515_233722-vi1zjb4i\\files\\model-best)... Done. 0.1s\n"
     ]
    },
    {
     "name": "stdout",
     "output_type": "stream",
     "text": [
      "1582/1582 [==============================] - 28s 18ms/step - loss: 0.0929 - accuracy: 0.9716 - val_loss: 0.1011 - val_accuracy: 0.9688 - WordAccuracy: 0.4663\n",
      "Epoch 3/10\n",
      "1580/1582 [============================>.] - ETA: 0s - loss: 0.0724 - accuracy: 0.9778\n",
      "Epoch 3: Word-level Accuracy = 0.4969\n"
     ]
    },
    {
     "name": "stderr",
     "output_type": "stream",
     "text": [
      "WARNING:absl:Found untraced functions such as gru_cell_layer_call_fn, gru_cell_layer_call_and_return_conditional_losses, gru_cell_1_layer_call_fn, gru_cell_1_layer_call_and_return_conditional_losses, gru_cell_2_layer_call_fn while saving (showing 5 of 6). These functions will not be directly callable after loading.\n"
     ]
    },
    {
     "name": "stdout",
     "output_type": "stream",
     "text": [
      "INFO:tensorflow:Assets written to: D:\\DL\\wandb\\run-20250515_233722-vi1zjb4i\\files\\model-best\\assets\n"
     ]
    },
    {
     "name": "stderr",
     "output_type": "stream",
     "text": [
      "INFO:tensorflow:Assets written to: D:\\DL\\wandb\\run-20250515_233722-vi1zjb4i\\files\\model-best\\assets\n",
      "wandb: Adding directory to artifact (D:\\DL\\wandb\\run-20250515_233722-vi1zjb4i\\files\\model-best)... Done. 0.1s\n"
     ]
    },
    {
     "name": "stdout",
     "output_type": "stream",
     "text": [
      "1582/1582 [==============================] - 29s 18ms/step - loss: 0.0724 - accuracy: 0.9778 - val_loss: 0.0931 - val_accuracy: 0.9725 - WordAccuracy: 0.4969\n",
      "Epoch 4/10\n",
      "1582/1582 [==============================] - ETA: 0s - loss: 0.0601 - accuracy: 0.9815\n",
      "Epoch 4: Word-level Accuracy = 0.5176\n",
      "1582/1582 [==============================] - 22s 14ms/step - loss: 0.0601 - accuracy: 0.9815 - val_loss: 0.0936 - val_accuracy: 0.9731 - WordAccuracy: 0.5176\n",
      "Epoch 5/10\n",
      "1581/1582 [============================>.] - ETA: 0s - loss: 0.0510 - accuracy: 0.9845\n",
      "Epoch 5: Word-level Accuracy = 0.5192\n"
     ]
    },
    {
     "name": "stderr",
     "output_type": "stream",
     "text": [
      "WARNING:absl:Found untraced functions such as gru_cell_layer_call_fn, gru_cell_layer_call_and_return_conditional_losses, gru_cell_1_layer_call_fn, gru_cell_1_layer_call_and_return_conditional_losses, gru_cell_2_layer_call_fn while saving (showing 5 of 6). These functions will not be directly callable after loading.\n"
     ]
    },
    {
     "name": "stdout",
     "output_type": "stream",
     "text": [
      "INFO:tensorflow:Assets written to: D:\\DL\\wandb\\run-20250515_233722-vi1zjb4i\\files\\model-best\\assets\n"
     ]
    },
    {
     "name": "stderr",
     "output_type": "stream",
     "text": [
      "INFO:tensorflow:Assets written to: D:\\DL\\wandb\\run-20250515_233722-vi1zjb4i\\files\\model-best\\assets\n",
      "wandb: Adding directory to artifact (D:\\DL\\wandb\\run-20250515_233722-vi1zjb4i\\files\\model-best)... Done. 0.1s\n"
     ]
    },
    {
     "name": "stdout",
     "output_type": "stream",
     "text": [
      "1582/1582 [==============================] - 28s 18ms/step - loss: 0.0511 - accuracy: 0.9845 - val_loss: 0.0913 - val_accuracy: 0.9741 - WordAccuracy: 0.5192\n",
      "Epoch 6/10\n",
      "1579/1582 [============================>.] - ETA: 0s - loss: 0.0464 - accuracy: 0.9860\n",
      "Epoch 6: Word-level Accuracy = 0.5194\n",
      "1582/1582 [==============================] - 22s 14ms/step - loss: 0.0464 - accuracy: 0.9860 - val_loss: 0.0927 - val_accuracy: 0.9738 - WordAccuracy: 0.5194\n",
      "Epoch 7/10\n",
      "1581/1582 [============================>.] - ETA: 0s - loss: 0.0406 - accuracy: 0.9876\n",
      "Epoch 7: Word-level Accuracy = 0.5186\n",
      "1582/1582 [==============================] - 21s 13ms/step - loss: 0.0406 - accuracy: 0.9876 - val_loss: 0.0961 - val_accuracy: 0.9740 - WordAccuracy: 0.5186\n",
      "Epoch 8/10\n",
      "1581/1582 [============================>.] - ETA: 0s - loss: 0.0376 - accuracy: 0.9885\n",
      "Epoch 8: Word-level Accuracy = 0.5375\n",
      "1582/1582 [==============================] - 22s 14ms/step - loss: 0.0377 - accuracy: 0.9885 - val_loss: 0.0941 - val_accuracy: 0.9751 - WordAccuracy: 0.5375\n",
      "Epoch 9/10\n",
      "1582/1582 [==============================] - ETA: 0s - loss: 0.0346 - accuracy: 0.9894\n",
      "Epoch 9: Word-level Accuracy = 0.5361\n",
      "1582/1582 [==============================] - 21s 14ms/step - loss: 0.0346 - accuracy: 0.9894 - val_loss: 0.0975 - val_accuracy: 0.9748 - WordAccuracy: 0.5361\n",
      "Epoch 10/10\n",
      "1579/1582 [============================>.] - ETA: 0s - loss: 0.0330 - accuracy: 0.9898\n",
      "Epoch 10: Word-level Accuracy = 0.5383\n",
      "1582/1582 [==============================] - 21s 14ms/step - loss: 0.0330 - accuracy: 0.9898 - val_loss: 0.0982 - val_accuracy: 0.9749 - WordAccuracy: 0.5383\n"
     ]
    },
    {
     "data": {
      "application/vnd.jupyter.widget-view+json": {
       "model_id": "ce3cb6b8615744af9d6a9cba7de09a9b",
       "version_major": 2,
       "version_minor": 0
      },
      "text/plain": [
       "VBox(children=(Label(value='159.786 MB of 159.786 MB uploaded (0.082 MB deduped)\\r'), FloatProgress(value=1.0,…"
      ]
     },
     "metadata": {},
     "output_type": "display_data"
    },
    {
     "data": {
      "text/html": [
       "<style>\n",
       "    table.wandb td:nth-child(1) { padding: 0 10px; text-align: left ; width: auto;} td:nth-child(2) {text-align: left ; width: 100%}\n",
       "    .wandb-row { display: flex; flex-direction: row; flex-wrap: wrap; justify-content: flex-start; width: 100% }\n",
       "    .wandb-col { display: flex; flex-direction: column; flex-basis: 100%; flex: 1; padding: 10px; }\n",
       "    </style>\n",
       "<div class=\"wandb-row\"><div class=\"wandb-col\"><h3>Run history:</h3><br/><table class=\"wandb\"><tr><td>Val_WordAccuracy</td><td>▁▅▆▇▇▇▇███</td></tr><tr><td>WordAccuracy</td><td>▁▅▆▇▇▇▇███</td></tr><tr><td>accuracy</td><td>▁▇▇███████</td></tr><tr><td>epoch</td><td>▂▁▂▂▃▂▄▃▅▄▅▅▆▅▇▆▇▇█▇</td></tr><tr><td>loss</td><td>█▂▂▁▁▁▁▁▁▁</td></tr><tr><td>val_accuracy</td><td>▁▄▇▇▇▇▇███</td></tr><tr><td>val_loss</td><td>█▄▁▂▁▁▂▂▃▃</td></tr></table><br/></div><div class=\"wandb-col\"><h3>Run summary:</h3><br/><table class=\"wandb\"><tr><td>Val_WordAccuracy</td><td>0.53829</td></tr><tr><td>WordAccuracy</td><td>0.53829</td></tr><tr><td>accuracy</td><td>0.98978</td></tr><tr><td>best_epoch</td><td>4</td></tr><tr><td>best_val_loss</td><td>0.0913</td></tr><tr><td>epoch</td><td>9</td></tr><tr><td>loss</td><td>0.033</td></tr><tr><td>val_accuracy</td><td>0.9749</td></tr><tr><td>val_loss</td><td>0.09824</td></tr></table><br/></div></div>"
      ],
      "text/plain": [
       "<IPython.core.display.HTML object>"
      ]
     },
     "metadata": {},
     "output_type": "display_data"
    },
    {
     "data": {
      "text/html": [
       " View run <strong style=\"color:#cdcd00\">glamorous-sweep-11</strong> at: <a href='https://wandb.ai/manoj_da24s018-iit-madras/Transliterator_Attention_HyperParameterSweep/runs/vi1zjb4i' target=\"_blank\">https://wandb.ai/manoj_da24s018-iit-madras/Transliterator_Attention_HyperParameterSweep/runs/vi1zjb4i</a><br/> View project at: <a href='https://wandb.ai/manoj_da24s018-iit-madras/Transliterator_Attention_HyperParameterSweep' target=\"_blank\">https://wandb.ai/manoj_da24s018-iit-madras/Transliterator_Attention_HyperParameterSweep</a><br/>Synced 5 W&B file(s), 1 media file(s), 16 artifact file(s) and 1 other file(s)"
      ],
      "text/plain": [
       "<IPython.core.display.HTML object>"
      ]
     },
     "metadata": {},
     "output_type": "display_data"
    },
    {
     "data": {
      "text/html": [
       "Find logs at: <code>.\\wandb\\run-20250515_233722-vi1zjb4i\\logs</code>"
      ],
      "text/plain": [
       "<IPython.core.display.HTML object>"
      ]
     },
     "metadata": {},
     "output_type": "display_data"
    },
    {
     "name": "stderr",
     "output_type": "stream",
     "text": [
      "wandb: Agent Starting Run: 68l587al with config:\n",
      "wandb: \tcell_type: rnn\n",
      "wandb: \tchar_embedding_dim: 32\n",
      "wandb: \tdecoder_layers: 2\n",
      "wandb: \tdropout: 0.2\n",
      "wandb: \tencoder_layers: 3\n",
      "wandb: \thidden_state_dim: 512\n"
     ]
    },
    {
     "data": {
      "text/html": [
       "wandb version 0.19.11 is available!  To upgrade, please run:\n",
       " $ pip install wandb --upgrade"
      ],
      "text/plain": [
       "<IPython.core.display.HTML object>"
      ]
     },
     "metadata": {},
     "output_type": "display_data"
    },
    {
     "data": {
      "text/html": [
       "Tracking run with wandb version 0.16.6"
      ],
      "text/plain": [
       "<IPython.core.display.HTML object>"
      ]
     },
     "metadata": {},
     "output_type": "display_data"
    },
    {
     "data": {
      "text/html": [
       "Run data is saved locally in <code>D:\\DL\\wandb\\run-20250515_234143-68l587al</code>"
      ],
      "text/plain": [
       "<IPython.core.display.HTML object>"
      ]
     },
     "metadata": {},
     "output_type": "display_data"
    },
    {
     "data": {
      "text/html": [
       "Syncing run <strong><a href='https://wandb.ai/manoj_da24s018-iit-madras/Transliterator_Attention_HyperParameterSweep/runs/68l587al' target=\"_blank\">scarlet-sweep-12</a></strong> to <a href='https://wandb.ai/manoj_da24s018-iit-madras/Transliterator_Attention_HyperParameterSweep' target=\"_blank\">Weights & Biases</a> (<a href='https://wandb.me/run' target=\"_blank\">docs</a>)<br/>Sweep page: <a href='https://wandb.ai/manoj_da24s018-iit-madras/Transliterator_Attention_HyperParameterSweep/sweeps/htfl2fri' target=\"_blank\">https://wandb.ai/manoj_da24s018-iit-madras/Transliterator_Attention_HyperParameterSweep/sweeps/htfl2fri</a>"
      ],
      "text/plain": [
       "<IPython.core.display.HTML object>"
      ]
     },
     "metadata": {},
     "output_type": "display_data"
    },
    {
     "data": {
      "text/html": [
       " View project at <a href='https://wandb.ai/manoj_da24s018-iit-madras/Transliterator_Attention_HyperParameterSweep' target=\"_blank\">https://wandb.ai/manoj_da24s018-iit-madras/Transliterator_Attention_HyperParameterSweep</a>"
      ],
      "text/plain": [
       "<IPython.core.display.HTML object>"
      ]
     },
     "metadata": {},
     "output_type": "display_data"
    },
    {
     "data": {
      "text/html": [
       " View sweep at <a href='https://wandb.ai/manoj_da24s018-iit-madras/Transliterator_Attention_HyperParameterSweep/sweeps/htfl2fri' target=\"_blank\">https://wandb.ai/manoj_da24s018-iit-madras/Transliterator_Attention_HyperParameterSweep/sweeps/htfl2fri</a>"
      ],
      "text/plain": [
       "<IPython.core.display.HTML object>"
      ]
     },
     "metadata": {},
     "output_type": "display_data"
    },
    {
     "data": {
      "text/html": [
       " View run at <a href='https://wandb.ai/manoj_da24s018-iit-madras/Transliterator_Attention_HyperParameterSweep/runs/68l587al' target=\"_blank\">https://wandb.ai/manoj_da24s018-iit-madras/Transliterator_Attention_HyperParameterSweep/runs/68l587al</a>"
      ],
      "text/plain": [
       "<IPython.core.display.HTML object>"
      ]
     },
     "metadata": {},
     "output_type": "display_data"
    },
    {
     "name": "stdout",
     "output_type": "stream",
     "text": [
      "Sweep Name:  RNN Layer Type: rnn, Character_Embedding_dim: 32, Hidden_dim:512, Num_Encoder_Layer:3, Num_Decoder_Layer:2, Dropout:0.2\n",
      "Epoch 1/10\n",
      "1582/1582 [==============================] - ETA: 0s - loss: 0.9922 - accuracy: 0.7307\n",
      "Epoch 1: Word-level Accuracy = 0.0000\n",
      "INFO:tensorflow:Assets written to: D:\\DL\\wandb\\run-20250515_234143-68l587al\\files\\model-best\\assets\n"
     ]
    },
    {
     "name": "stderr",
     "output_type": "stream",
     "text": [
      "INFO:tensorflow:Assets written to: D:\\DL\\wandb\\run-20250515_234143-68l587al\\files\\model-best\\assets\n",
      "wandb: Adding directory to artifact (D:\\DL\\wandb\\run-20250515_234143-68l587al\\files\\model-best)... Done. 0.1s\n"
     ]
    },
    {
     "name": "stdout",
     "output_type": "stream",
     "text": [
      "1582/1582 [==============================] - 158s 99ms/step - loss: 0.9922 - accuracy: 0.7307 - val_loss: 0.8030 - val_accuracy: 0.7690 - WordAccuracy: 0.0000e+00\n",
      "Epoch 2/10\n",
      "1582/1582 [==============================] - ETA: 0s - loss: 0.7680 - accuracy: 0.7782\n",
      "Epoch 2: Word-level Accuracy = 0.0000\n",
      "INFO:tensorflow:Assets written to: D:\\DL\\wandb\\run-20250515_234143-68l587al\\files\\model-best\\assets\n"
     ]
    },
    {
     "name": "stderr",
     "output_type": "stream",
     "text": [
      "INFO:tensorflow:Assets written to: D:\\DL\\wandb\\run-20250515_234143-68l587al\\files\\model-best\\assets\n",
      "wandb: Adding directory to artifact (D:\\DL\\wandb\\run-20250515_234143-68l587al\\files\\model-best)... Done. 0.1s\n"
     ]
    },
    {
     "name": "stdout",
     "output_type": "stream",
     "text": [
      "1582/1582 [==============================] - 162s 103ms/step - loss: 0.7680 - accuracy: 0.7782 - val_loss: 0.7131 - val_accuracy: 0.7947 - WordAccuracy: 0.0000e+00\n",
      "Epoch 3/10\n",
      "1582/1582 [==============================] - ETA: 0s - loss: 0.7275 - accuracy: 0.7904\n",
      "Epoch 3: Word-level Accuracy = 0.0004\n",
      "1582/1582 [==============================] - 158s 100ms/step - loss: 0.7275 - accuracy: 0.7904 - val_loss: 0.7316 - val_accuracy: 0.7953 - WordAccuracy: 3.9785e-04\n",
      "Epoch 4/10\n",
      "1582/1582 [==============================] - ETA: 0s - loss: 0.6725 - accuracy: 0.8038\n",
      "Epoch 4: Word-level Accuracy = 0.0004\n",
      "INFO:tensorflow:Assets written to: D:\\DL\\wandb\\run-20250515_234143-68l587al\\files\\model-best\\assets\n"
     ]
    },
    {
     "name": "stderr",
     "output_type": "stream",
     "text": [
      "INFO:tensorflow:Assets written to: D:\\DL\\wandb\\run-20250515_234143-68l587al\\files\\model-best\\assets\n",
      "wandb: Adding directory to artifact (D:\\DL\\wandb\\run-20250515_234143-68l587al\\files\\model-best)... Done. 0.0s\n"
     ]
    },
    {
     "name": "stdout",
     "output_type": "stream",
     "text": [
      "1582/1582 [==============================] - 155s 98ms/step - loss: 0.6725 - accuracy: 0.8038 - val_loss: 0.6917 - val_accuracy: 0.7991 - WordAccuracy: 3.9785e-04\n",
      "Epoch 5/10\n",
      "1582/1582 [==============================] - ETA: 0s - loss: 0.6157 - accuracy: 0.8186\n",
      "Epoch 5: Word-level Accuracy = 0.0000\n",
      "INFO:tensorflow:Assets written to: D:\\DL\\wandb\\run-20250515_234143-68l587al\\files\\model-best\\assets\n"
     ]
    },
    {
     "name": "stderr",
     "output_type": "stream",
     "text": [
      "INFO:tensorflow:Assets written to: D:\\DL\\wandb\\run-20250515_234143-68l587al\\files\\model-best\\assets\n",
      "wandb: Adding directory to artifact (D:\\DL\\wandb\\run-20250515_234143-68l587al\\files\\model-best)... Done. 0.1s\n"
     ]
    },
    {
     "name": "stdout",
     "output_type": "stream",
     "text": [
      "1582/1582 [==============================] - 152s 96ms/step - loss: 0.6157 - accuracy: 0.8186 - val_loss: 0.6638 - val_accuracy: 0.8142 - WordAccuracy: 0.0000e+00\n",
      "Epoch 6/10\n",
      "1582/1582 [==============================] - ETA: 0s - loss: 0.5783 - accuracy: 0.8286\n",
      "Epoch 6: Word-level Accuracy = 0.0000\n",
      "INFO:tensorflow:Assets written to: D:\\DL\\wandb\\run-20250515_234143-68l587al\\files\\model-best\\assets\n"
     ]
    },
    {
     "name": "stderr",
     "output_type": "stream",
     "text": [
      "INFO:tensorflow:Assets written to: D:\\DL\\wandb\\run-20250515_234143-68l587al\\files\\model-best\\assets\n",
      "wandb: Adding directory to artifact (D:\\DL\\wandb\\run-20250515_234143-68l587al\\files\\model-best)... Done. 0.0s\n"
     ]
    },
    {
     "name": "stdout",
     "output_type": "stream",
     "text": [
      "1582/1582 [==============================] - 155s 98ms/step - loss: 0.5783 - accuracy: 0.8286 - val_loss: 0.6535 - val_accuracy: 0.8168 - WordAccuracy: 0.0000e+00\n",
      "Epoch 7/10\n",
      "1582/1582 [==============================] - ETA: 0s - loss: 0.5768 - accuracy: 0.8309\n",
      "Epoch 7: Word-level Accuracy = 0.0000\n",
      "INFO:tensorflow:Assets written to: D:\\DL\\wandb\\run-20250515_234143-68l587al\\files\\model-best\\assets\n"
     ]
    },
    {
     "name": "stderr",
     "output_type": "stream",
     "text": [
      "INFO:tensorflow:Assets written to: D:\\DL\\wandb\\run-20250515_234143-68l587al\\files\\model-best\\assets\n",
      "wandb: Adding directory to artifact (D:\\DL\\wandb\\run-20250515_234143-68l587al\\files\\model-best)... Done. 0.1s\n"
     ]
    },
    {
     "name": "stdout",
     "output_type": "stream",
     "text": [
      "1582/1582 [==============================] - 157s 99ms/step - loss: 0.5768 - accuracy: 0.8309 - val_loss: 0.6452 - val_accuracy: 0.8202 - WordAccuracy: 0.0000e+00\n",
      "Epoch 8/10\n",
      "1582/1582 [==============================] - ETA: 0s - loss: 0.5544 - accuracy: 0.8358\n",
      "Epoch 8: Word-level Accuracy = 0.0000\n",
      "1582/1582 [==============================] - 143s 91ms/step - loss: 0.5544 - accuracy: 0.8358 - val_loss: 0.6702 - val_accuracy: 0.8163 - WordAccuracy: 0.0000e+00\n",
      "Epoch 9/10\n",
      "1582/1582 [==============================] - ETA: 0s - loss: 0.5405 - accuracy: 0.8393\n",
      "Epoch 9: Word-level Accuracy = 0.0000\n",
      "1582/1582 [==============================] - 154s 97ms/step - loss: 0.5405 - accuracy: 0.8393 - val_loss: 0.6489 - val_accuracy: 0.8209 - WordAccuracy: 0.0000e+00\n",
      "Epoch 10/10\n",
      "1582/1582 [==============================] - ETA: 0s - loss: 0.5159 - accuracy: 0.8446\n",
      "Epoch 10: Word-level Accuracy = 0.0000\n",
      "1582/1582 [==============================] - 149s 94ms/step - loss: 0.5159 - accuracy: 0.8446 - val_loss: 0.6489 - val_accuracy: 0.8204 - WordAccuracy: 0.0000e+00\n"
     ]
    },
    {
     "data": {
      "application/vnd.jupyter.widget-view+json": {
       "model_id": "1a14e56e1c224851a045442150389306",
       "version_major": 2,
       "version_minor": 0
      },
      "text/plain": [
       "VBox(children=(Label(value='121.476 MB of 121.476 MB uploaded (0.155 MB deduped)\\r'), FloatProgress(value=1.0,…"
      ]
     },
     "metadata": {},
     "output_type": "display_data"
    },
    {
     "data": {
      "text/html": [
       "<style>\n",
       "    table.wandb td:nth-child(1) { padding: 0 10px; text-align: left ; width: auto;} td:nth-child(2) {text-align: left ; width: 100%}\n",
       "    .wandb-row { display: flex; flex-direction: row; flex-wrap: wrap; justify-content: flex-start; width: 100% }\n",
       "    .wandb-col { display: flex; flex-direction: column; flex-basis: 100%; flex: 1; padding: 10px; }\n",
       "    </style>\n",
       "<div class=\"wandb-row\"><div class=\"wandb-col\"><h3>Run history:</h3><br/><table class=\"wandb\"><tr><td>Val_WordAccuracy</td><td>▁▁██▁▁▁▁▁▁</td></tr><tr><td>WordAccuracy</td><td>▁▁██▁▁▁▁▁▁</td></tr><tr><td>accuracy</td><td>▁▄▅▅▆▇▇▇██</td></tr><tr><td>epoch</td><td>▂▁▂▂▃▂▄▃▅▄▅▅▆▅▇▆▇▇█▇</td></tr><tr><td>loss</td><td>█▅▄▃▂▂▂▂▁▁</td></tr><tr><td>val_accuracy</td><td>▁▄▅▅▇▇█▇██</td></tr><tr><td>val_loss</td><td>█▄▅▃▂▁▁▂▁▁</td></tr></table><br/></div><div class=\"wandb-col\"><h3>Run summary:</h3><br/><table class=\"wandb\"><tr><td>Val_WordAccuracy</td><td>0.0</td></tr><tr><td>WordAccuracy</td><td>0.0</td></tr><tr><td>accuracy</td><td>0.84463</td></tr><tr><td>best_epoch</td><td>6</td></tr><tr><td>best_val_loss</td><td>0.6452</td></tr><tr><td>epoch</td><td>9</td></tr><tr><td>loss</td><td>0.51593</td></tr><tr><td>val_accuracy</td><td>0.82039</td></tr><tr><td>val_loss</td><td>0.64894</td></tr></table><br/></div></div>"
      ],
      "text/plain": [
       "<IPython.core.display.HTML object>"
      ]
     },
     "metadata": {},
     "output_type": "display_data"
    },
    {
     "data": {
      "text/html": [
       " View run <strong style=\"color:#cdcd00\">scarlet-sweep-12</strong> at: <a href='https://wandb.ai/manoj_da24s018-iit-madras/Transliterator_Attention_HyperParameterSweep/runs/68l587al' target=\"_blank\">https://wandb.ai/manoj_da24s018-iit-madras/Transliterator_Attention_HyperParameterSweep/runs/68l587al</a><br/> View project at: <a href='https://wandb.ai/manoj_da24s018-iit-madras/Transliterator_Attention_HyperParameterSweep' target=\"_blank\">https://wandb.ai/manoj_da24s018-iit-madras/Transliterator_Attention_HyperParameterSweep</a><br/>Synced 5 W&B file(s), 1 media file(s), 24 artifact file(s) and 1 other file(s)"
      ],
      "text/plain": [
       "<IPython.core.display.HTML object>"
      ]
     },
     "metadata": {},
     "output_type": "display_data"
    },
    {
     "data": {
      "text/html": [
       "Find logs at: <code>.\\wandb\\run-20250515_234143-68l587al\\logs</code>"
      ],
      "text/plain": [
       "<IPython.core.display.HTML object>"
      ]
     },
     "metadata": {},
     "output_type": "display_data"
    },
    {
     "name": "stderr",
     "output_type": "stream",
     "text": [
      "wandb: Agent Starting Run: mec5sbvz with config:\n",
      "wandb: \tcell_type: lstm\n",
      "wandb: \tchar_embedding_dim: 12\n",
      "wandb: \tdecoder_layers: 2\n",
      "wandb: \tdropout: 0.3\n",
      "wandb: \tencoder_layers: 1\n",
      "wandb: \thidden_state_dim: 64\n"
     ]
    },
    {
     "data": {
      "text/html": [
       "wandb version 0.19.11 is available!  To upgrade, please run:\n",
       " $ pip install wandb --upgrade"
      ],
      "text/plain": [
       "<IPython.core.display.HTML object>"
      ]
     },
     "metadata": {},
     "output_type": "display_data"
    },
    {
     "data": {
      "text/html": [
       "Tracking run with wandb version 0.16.6"
      ],
      "text/plain": [
       "<IPython.core.display.HTML object>"
      ]
     },
     "metadata": {},
     "output_type": "display_data"
    },
    {
     "data": {
      "text/html": [
       "Run data is saved locally in <code>D:\\DL\\wandb\\run-20250516_000741-mec5sbvz</code>"
      ],
      "text/plain": [
       "<IPython.core.display.HTML object>"
      ]
     },
     "metadata": {},
     "output_type": "display_data"
    },
    {
     "data": {
      "text/html": [
       "Syncing run <strong><a href='https://wandb.ai/manoj_da24s018-iit-madras/Transliterator_Attention_HyperParameterSweep/runs/mec5sbvz' target=\"_blank\">olive-sweep-13</a></strong> to <a href='https://wandb.ai/manoj_da24s018-iit-madras/Transliterator_Attention_HyperParameterSweep' target=\"_blank\">Weights & Biases</a> (<a href='https://wandb.me/run' target=\"_blank\">docs</a>)<br/>Sweep page: <a href='https://wandb.ai/manoj_da24s018-iit-madras/Transliterator_Attention_HyperParameterSweep/sweeps/htfl2fri' target=\"_blank\">https://wandb.ai/manoj_da24s018-iit-madras/Transliterator_Attention_HyperParameterSweep/sweeps/htfl2fri</a>"
      ],
      "text/plain": [
       "<IPython.core.display.HTML object>"
      ]
     },
     "metadata": {},
     "output_type": "display_data"
    },
    {
     "data": {
      "text/html": [
       " View project at <a href='https://wandb.ai/manoj_da24s018-iit-madras/Transliterator_Attention_HyperParameterSweep' target=\"_blank\">https://wandb.ai/manoj_da24s018-iit-madras/Transliterator_Attention_HyperParameterSweep</a>"
      ],
      "text/plain": [
       "<IPython.core.display.HTML object>"
      ]
     },
     "metadata": {},
     "output_type": "display_data"
    },
    {
     "data": {
      "text/html": [
       " View sweep at <a href='https://wandb.ai/manoj_da24s018-iit-madras/Transliterator_Attention_HyperParameterSweep/sweeps/htfl2fri' target=\"_blank\">https://wandb.ai/manoj_da24s018-iit-madras/Transliterator_Attention_HyperParameterSweep/sweeps/htfl2fri</a>"
      ],
      "text/plain": [
       "<IPython.core.display.HTML object>"
      ]
     },
     "metadata": {},
     "output_type": "display_data"
    },
    {
     "data": {
      "text/html": [
       " View run at <a href='https://wandb.ai/manoj_da24s018-iit-madras/Transliterator_Attention_HyperParameterSweep/runs/mec5sbvz' target=\"_blank\">https://wandb.ai/manoj_da24s018-iit-madras/Transliterator_Attention_HyperParameterSweep/runs/mec5sbvz</a>"
      ],
      "text/plain": [
       "<IPython.core.display.HTML object>"
      ]
     },
     "metadata": {},
     "output_type": "display_data"
    },
    {
     "name": "stdout",
     "output_type": "stream",
     "text": [
      "Sweep Name:  RNN Layer Type: lstm, Character_Embedding_dim: 12, Hidden_dim:64, Num_Encoder_Layer:1, Num_Decoder_Layer:2, Dropout:0.3\n",
      "Epoch 1/10\n",
      "1575/1582 [============================>.] - ETA: 0s - loss: 1.0777 - accuracy: 0.7155\n",
      "Epoch 1: Word-level Accuracy = 0.0000\n"
     ]
    },
    {
     "name": "stderr",
     "output_type": "stream",
     "text": [
      "WARNING:absl:Found untraced functions such as lstm_cell_layer_call_fn, lstm_cell_layer_call_and_return_conditional_losses, lstm_cell_1_layer_call_fn, lstm_cell_1_layer_call_and_return_conditional_losses while saving (showing 4 of 4). These functions will not be directly callable after loading.\n"
     ]
    },
    {
     "name": "stdout",
     "output_type": "stream",
     "text": [
      "INFO:tensorflow:Assets written to: D:\\DL\\wandb\\run-20250516_000741-mec5sbvz\\files\\model-best\\assets\n"
     ]
    },
    {
     "name": "stderr",
     "output_type": "stream",
     "text": [
      "INFO:tensorflow:Assets written to: D:\\DL\\wandb\\run-20250516_000741-mec5sbvz\\files\\model-best\\assets\n",
      "wandb: Adding directory to artifact (D:\\DL\\wandb\\run-20250516_000741-mec5sbvz\\files\\model-best)... Done. 0.0s\n"
     ]
    },
    {
     "name": "stdout",
     "output_type": "stream",
     "text": [
      "1582/1582 [==============================] - 21s 12ms/step - loss: 1.0769 - accuracy: 0.7157 - val_loss: 0.8650 - val_accuracy: 0.7599 - WordAccuracy: 0.0000e+00\n",
      "Epoch 2/10\n",
      "1582/1582 [==============================] - ETA: 0s - loss: 0.8055 - accuracy: 0.7748\n",
      "Epoch 2: Word-level Accuracy = 0.0012\n"
     ]
    },
    {
     "name": "stderr",
     "output_type": "stream",
     "text": [
      "WARNING:absl:Found untraced functions such as lstm_cell_layer_call_fn, lstm_cell_layer_call_and_return_conditional_losses, lstm_cell_1_layer_call_fn, lstm_cell_1_layer_call_and_return_conditional_losses while saving (showing 4 of 4). These functions will not be directly callable after loading.\n"
     ]
    },
    {
     "name": "stdout",
     "output_type": "stream",
     "text": [
      "INFO:tensorflow:Assets written to: D:\\DL\\wandb\\run-20250516_000741-mec5sbvz\\files\\model-best\\assets\n"
     ]
    },
    {
     "name": "stderr",
     "output_type": "stream",
     "text": [
      "INFO:tensorflow:Assets written to: D:\\DL\\wandb\\run-20250516_000741-mec5sbvz\\files\\model-best\\assets\n",
      "wandb: Adding directory to artifact (D:\\DL\\wandb\\run-20250516_000741-mec5sbvz\\files\\model-best)... Done. 0.0s\n"
     ]
    },
    {
     "name": "stdout",
     "output_type": "stream",
     "text": [
      "1582/1582 [==============================] - 19s 12ms/step - loss: 0.8055 - accuracy: 0.7748 - val_loss: 0.6268 - val_accuracy: 0.8251 - WordAccuracy: 0.0012\n",
      "Epoch 3/10\n",
      "1581/1582 [============================>.] - ETA: 0s - loss: 0.4865 - accuracy: 0.8607\n",
      "Epoch 3: Word-level Accuracy = 0.1263\n"
     ]
    },
    {
     "name": "stderr",
     "output_type": "stream",
     "text": [
      "WARNING:absl:Found untraced functions such as lstm_cell_layer_call_fn, lstm_cell_layer_call_and_return_conditional_losses, lstm_cell_1_layer_call_fn, lstm_cell_1_layer_call_and_return_conditional_losses while saving (showing 4 of 4). These functions will not be directly callable after loading.\n"
     ]
    },
    {
     "name": "stdout",
     "output_type": "stream",
     "text": [
      "INFO:tensorflow:Assets written to: D:\\DL\\wandb\\run-20250516_000741-mec5sbvz\\files\\model-best\\assets\n"
     ]
    },
    {
     "name": "stderr",
     "output_type": "stream",
     "text": [
      "INFO:tensorflow:Assets written to: D:\\DL\\wandb\\run-20250516_000741-mec5sbvz\\files\\model-best\\assets\n",
      "wandb: Adding directory to artifact (D:\\DL\\wandb\\run-20250516_000741-mec5sbvz\\files\\model-best)... Done. 0.0s\n"
     ]
    },
    {
     "name": "stdout",
     "output_type": "stream",
     "text": [
      "1582/1582 [==============================] - 18s 12ms/step - loss: 0.4864 - accuracy: 0.8608 - val_loss: 0.2581 - val_accuracy: 0.9243 - WordAccuracy: 0.1263\n",
      "Epoch 4/10\n",
      "1580/1582 [============================>.] - ETA: 0s - loss: 0.2679 - accuracy: 0.9200\n",
      "Epoch 4: Word-level Accuracy = 0.2069\n"
     ]
    },
    {
     "name": "stderr",
     "output_type": "stream",
     "text": [
      "WARNING:absl:Found untraced functions such as lstm_cell_layer_call_fn, lstm_cell_layer_call_and_return_conditional_losses, lstm_cell_1_layer_call_fn, lstm_cell_1_layer_call_and_return_conditional_losses while saving (showing 4 of 4). These functions will not be directly callable after loading.\n"
     ]
    },
    {
     "name": "stdout",
     "output_type": "stream",
     "text": [
      "INFO:tensorflow:Assets written to: D:\\DL\\wandb\\run-20250516_000741-mec5sbvz\\files\\model-best\\assets\n"
     ]
    },
    {
     "name": "stderr",
     "output_type": "stream",
     "text": [
      "INFO:tensorflow:Assets written to: D:\\DL\\wandb\\run-20250516_000741-mec5sbvz\\files\\model-best\\assets\n",
      "wandb: Adding directory to artifact (D:\\DL\\wandb\\run-20250516_000741-mec5sbvz\\files\\model-best)... Done. 0.0s\n"
     ]
    },
    {
     "name": "stdout",
     "output_type": "stream",
     "text": [
      "1582/1582 [==============================] - 19s 12ms/step - loss: 0.2679 - accuracy: 0.9200 - val_loss: 0.1882 - val_accuracy: 0.9407 - WordAccuracy: 0.2069\n",
      "Epoch 5/10\n",
      "1579/1582 [============================>.] - ETA: 0s - loss: 0.2131 - accuracy: 0.9341\n",
      "Epoch 5: Word-level Accuracy = 0.2319\n"
     ]
    },
    {
     "name": "stderr",
     "output_type": "stream",
     "text": [
      "WARNING:absl:Found untraced functions such as lstm_cell_layer_call_fn, lstm_cell_layer_call_and_return_conditional_losses, lstm_cell_1_layer_call_fn, lstm_cell_1_layer_call_and_return_conditional_losses while saving (showing 4 of 4). These functions will not be directly callable after loading.\n"
     ]
    },
    {
     "name": "stdout",
     "output_type": "stream",
     "text": [
      "INFO:tensorflow:Assets written to: D:\\DL\\wandb\\run-20250516_000741-mec5sbvz\\files\\model-best\\assets\n"
     ]
    },
    {
     "name": "stderr",
     "output_type": "stream",
     "text": [
      "INFO:tensorflow:Assets written to: D:\\DL\\wandb\\run-20250516_000741-mec5sbvz\\files\\model-best\\assets\n",
      "wandb: Adding directory to artifact (D:\\DL\\wandb\\run-20250516_000741-mec5sbvz\\files\\model-best)... Done. 0.0s\n"
     ]
    },
    {
     "name": "stdout",
     "output_type": "stream",
     "text": [
      "1582/1582 [==============================] - 18s 11ms/step - loss: 0.2131 - accuracy: 0.9341 - val_loss: 0.1676 - val_accuracy: 0.9451 - WordAccuracy: 0.2319\n",
      "Epoch 6/10\n",
      "1579/1582 [============================>.] - ETA: 0s - loss: 0.1866 - accuracy: 0.9412\n",
      "Epoch 6: Word-level Accuracy = 0.2524\n"
     ]
    },
    {
     "name": "stderr",
     "output_type": "stream",
     "text": [
      "WARNING:absl:Found untraced functions such as lstm_cell_layer_call_fn, lstm_cell_layer_call_and_return_conditional_losses, lstm_cell_1_layer_call_fn, lstm_cell_1_layer_call_and_return_conditional_losses while saving (showing 4 of 4). These functions will not be directly callable after loading.\n"
     ]
    },
    {
     "name": "stdout",
     "output_type": "stream",
     "text": [
      "INFO:tensorflow:Assets written to: D:\\DL\\wandb\\run-20250516_000741-mec5sbvz\\files\\model-best\\assets\n"
     ]
    },
    {
     "name": "stderr",
     "output_type": "stream",
     "text": [
      "INFO:tensorflow:Assets written to: D:\\DL\\wandb\\run-20250516_000741-mec5sbvz\\files\\model-best\\assets\n",
      "wandb: Adding directory to artifact (D:\\DL\\wandb\\run-20250516_000741-mec5sbvz\\files\\model-best)... Done. 0.0s\n"
     ]
    },
    {
     "name": "stdout",
     "output_type": "stream",
     "text": [
      "1582/1582 [==============================] - 20s 13ms/step - loss: 0.1865 - accuracy: 0.9412 - val_loss: 0.1535 - val_accuracy: 0.9495 - WordAccuracy: 0.2524\n",
      "Epoch 7/10\n",
      "1581/1582 [============================>.] - ETA: 0s - loss: 0.1678 - accuracy: 0.9468\n",
      "Epoch 7: Word-level Accuracy = 0.3008\n"
     ]
    },
    {
     "name": "stderr",
     "output_type": "stream",
     "text": [
      "WARNING:absl:Found untraced functions such as lstm_cell_layer_call_fn, lstm_cell_layer_call_and_return_conditional_losses, lstm_cell_1_layer_call_fn, lstm_cell_1_layer_call_and_return_conditional_losses while saving (showing 4 of 4). These functions will not be directly callable after loading.\n"
     ]
    },
    {
     "name": "stdout",
     "output_type": "stream",
     "text": [
      "INFO:tensorflow:Assets written to: D:\\DL\\wandb\\run-20250516_000741-mec5sbvz\\files\\model-best\\assets\n"
     ]
    },
    {
     "name": "stderr",
     "output_type": "stream",
     "text": [
      "INFO:tensorflow:Assets written to: D:\\DL\\wandb\\run-20250516_000741-mec5sbvz\\files\\model-best\\assets\n",
      "wandb: Adding directory to artifact (D:\\DL\\wandb\\run-20250516_000741-mec5sbvz\\files\\model-best)... Done. 0.0s\n"
     ]
    },
    {
     "name": "stdout",
     "output_type": "stream",
     "text": [
      "1582/1582 [==============================] - 20s 12ms/step - loss: 0.1679 - accuracy: 0.9468 - val_loss: 0.1416 - val_accuracy: 0.9547 - WordAccuracy: 0.3008\n",
      "Epoch 8/10\n",
      "1576/1582 [============================>.] - ETA: 0s - loss: 0.1541 - accuracy: 0.9514\n",
      "Epoch 8: Word-level Accuracy = 0.3069\n"
     ]
    },
    {
     "name": "stderr",
     "output_type": "stream",
     "text": [
      "WARNING:absl:Found untraced functions such as lstm_cell_layer_call_fn, lstm_cell_layer_call_and_return_conditional_losses, lstm_cell_1_layer_call_fn, lstm_cell_1_layer_call_and_return_conditional_losses while saving (showing 4 of 4). These functions will not be directly callable after loading.\n"
     ]
    },
    {
     "name": "stdout",
     "output_type": "stream",
     "text": [
      "INFO:tensorflow:Assets written to: D:\\DL\\wandb\\run-20250516_000741-mec5sbvz\\files\\model-best\\assets\n"
     ]
    },
    {
     "name": "stderr",
     "output_type": "stream",
     "text": [
      "INFO:tensorflow:Assets written to: D:\\DL\\wandb\\run-20250516_000741-mec5sbvz\\files\\model-best\\assets\n",
      "wandb: Adding directory to artifact (D:\\DL\\wandb\\run-20250516_000741-mec5sbvz\\files\\model-best)... Done. 0.0s\n"
     ]
    },
    {
     "name": "stdout",
     "output_type": "stream",
     "text": [
      "1582/1582 [==============================] - 19s 12ms/step - loss: 0.1542 - accuracy: 0.9514 - val_loss: 0.1351 - val_accuracy: 0.9567 - WordAccuracy: 0.3069\n",
      "Epoch 9/10\n",
      "1576/1582 [============================>.] - ETA: 0s - loss: 0.1447 - accuracy: 0.9546\n",
      "Epoch 9: Word-level Accuracy = 0.3306\n"
     ]
    },
    {
     "name": "stderr",
     "output_type": "stream",
     "text": [
      "WARNING:absl:Found untraced functions such as lstm_cell_layer_call_fn, lstm_cell_layer_call_and_return_conditional_losses, lstm_cell_1_layer_call_fn, lstm_cell_1_layer_call_and_return_conditional_losses while saving (showing 4 of 4). These functions will not be directly callable after loading.\n"
     ]
    },
    {
     "name": "stdout",
     "output_type": "stream",
     "text": [
      "INFO:tensorflow:Assets written to: D:\\DL\\wandb\\run-20250516_000741-mec5sbvz\\files\\model-best\\assets\n"
     ]
    },
    {
     "name": "stderr",
     "output_type": "stream",
     "text": [
      "INFO:tensorflow:Assets written to: D:\\DL\\wandb\\run-20250516_000741-mec5sbvz\\files\\model-best\\assets\n",
      "wandb: Adding directory to artifact (D:\\DL\\wandb\\run-20250516_000741-mec5sbvz\\files\\model-best)... Done. 0.0s\n"
     ]
    },
    {
     "name": "stdout",
     "output_type": "stream",
     "text": [
      "1582/1582 [==============================] - 18s 12ms/step - loss: 0.1447 - accuracy: 0.9546 - val_loss: 0.1264 - val_accuracy: 0.9591 - WordAccuracy: 0.3306\n",
      "Epoch 10/10\n",
      "1580/1582 [============================>.] - ETA: 0s - loss: 0.1364 - accuracy: 0.9571\n",
      "Epoch 10: Word-level Accuracy = 0.3696\n"
     ]
    },
    {
     "name": "stderr",
     "output_type": "stream",
     "text": [
      "WARNING:absl:Found untraced functions such as lstm_cell_layer_call_fn, lstm_cell_layer_call_and_return_conditional_losses, lstm_cell_1_layer_call_fn, lstm_cell_1_layer_call_and_return_conditional_losses while saving (showing 4 of 4). These functions will not be directly callable after loading.\n"
     ]
    },
    {
     "name": "stdout",
     "output_type": "stream",
     "text": [
      "INFO:tensorflow:Assets written to: D:\\DL\\wandb\\run-20250516_000741-mec5sbvz\\files\\model-best\\assets\n"
     ]
    },
    {
     "name": "stderr",
     "output_type": "stream",
     "text": [
      "INFO:tensorflow:Assets written to: D:\\DL\\wandb\\run-20250516_000741-mec5sbvz\\files\\model-best\\assets\n",
      "wandb: Adding directory to artifact (D:\\DL\\wandb\\run-20250516_000741-mec5sbvz\\files\\model-best)... Done. 0.0s\n"
     ]
    },
    {
     "name": "stdout",
     "output_type": "stream",
     "text": [
      "1582/1582 [==============================] - 20s 13ms/step - loss: 0.1364 - accuracy: 0.9571 - val_loss: 0.1223 - val_accuracy: 0.9615 - WordAccuracy: 0.3696\n"
     ]
    },
    {
     "data": {
      "application/vnd.jupyter.widget-view+json": {
       "model_id": "b55bd6a5977549f89f7fa74b12affdba",
       "version_major": 2,
       "version_minor": 0
      },
      "text/plain": [
       "VBox(children=(Label(value='20.905 MB of 20.905 MB uploaded (0.209 MB deduped)\\r'), FloatProgress(value=1.0, m…"
      ]
     },
     "metadata": {},
     "output_type": "display_data"
    },
    {
     "data": {
      "text/html": [
       "<style>\n",
       "    table.wandb td:nth-child(1) { padding: 0 10px; text-align: left ; width: auto;} td:nth-child(2) {text-align: left ; width: 100%}\n",
       "    .wandb-row { display: flex; flex-direction: row; flex-wrap: wrap; justify-content: flex-start; width: 100% }\n",
       "    .wandb-col { display: flex; flex-direction: column; flex-basis: 100%; flex: 1; padding: 10px; }\n",
       "    </style>\n",
       "<div class=\"wandb-row\"><div class=\"wandb-col\"><h3>Run history:</h3><br/><table class=\"wandb\"><tr><td>Val_WordAccuracy</td><td>▁▁▃▅▅▆▇▇▇█</td></tr><tr><td>WordAccuracy</td><td>▁▁▃▅▅▆▇▇▇█</td></tr><tr><td>accuracy</td><td>▁▃▅▇▇█████</td></tr><tr><td>epoch</td><td>▂▁▂▂▃▂▄▃▅▄▅▅▆▅▇▆▇▇█▇</td></tr><tr><td>loss</td><td>█▆▄▂▂▁▁▁▁▁</td></tr><tr><td>val_accuracy</td><td>▁▃▇▇▇█████</td></tr><tr><td>val_loss</td><td>█▆▂▂▁▁▁▁▁▁</td></tr></table><br/></div><div class=\"wandb-col\"><h3>Run summary:</h3><br/><table class=\"wandb\"><tr><td>Val_WordAccuracy</td><td>0.3696</td></tr><tr><td>WordAccuracy</td><td>0.3696</td></tr><tr><td>accuracy</td><td>0.95705</td></tr><tr><td>best_epoch</td><td>9</td></tr><tr><td>best_val_loss</td><td>0.12231</td></tr><tr><td>epoch</td><td>9</td></tr><tr><td>loss</td><td>0.1364</td></tr><tr><td>val_accuracy</td><td>0.96154</td></tr><tr><td>val_loss</td><td>0.12231</td></tr></table><br/></div></div>"
      ],
      "text/plain": [
       "<IPython.core.display.HTML object>"
      ]
     },
     "metadata": {},
     "output_type": "display_data"
    },
    {
     "data": {
      "text/html": [
       " View run <strong style=\"color:#cdcd00\">olive-sweep-13</strong> at: <a href='https://wandb.ai/manoj_da24s018-iit-madras/Transliterator_Attention_HyperParameterSweep/runs/mec5sbvz' target=\"_blank\">https://wandb.ai/manoj_da24s018-iit-madras/Transliterator_Attention_HyperParameterSweep/runs/mec5sbvz</a><br/> View project at: <a href='https://wandb.ai/manoj_da24s018-iit-madras/Transliterator_Attention_HyperParameterSweep' target=\"_blank\">https://wandb.ai/manoj_da24s018-iit-madras/Transliterator_Attention_HyperParameterSweep</a><br/>Synced 5 W&B file(s), 1 media file(s), 40 artifact file(s) and 1 other file(s)"
      ],
      "text/plain": [
       "<IPython.core.display.HTML object>"
      ]
     },
     "metadata": {},
     "output_type": "display_data"
    },
    {
     "data": {
      "text/html": [
       "Find logs at: <code>.\\wandb\\run-20250516_000741-mec5sbvz\\logs</code>"
      ],
      "text/plain": [
       "<IPython.core.display.HTML object>"
      ]
     },
     "metadata": {},
     "output_type": "display_data"
    },
    {
     "name": "stderr",
     "output_type": "stream",
     "text": [
      "wandb: Agent Starting Run: mxglm34y with config:\n",
      "wandb: \tcell_type: rnn\n",
      "wandb: \tchar_embedding_dim: 32\n",
      "wandb: \tdecoder_layers: 2\n",
      "wandb: \tdropout: 0.4\n",
      "wandb: \tencoder_layers: 1\n",
      "wandb: \thidden_state_dim: 512\n"
     ]
    },
    {
     "data": {
      "text/html": [
       "wandb version 0.19.11 is available!  To upgrade, please run:\n",
       " $ pip install wandb --upgrade"
      ],
      "text/plain": [
       "<IPython.core.display.HTML object>"
      ]
     },
     "metadata": {},
     "output_type": "display_data"
    },
    {
     "data": {
      "text/html": [
       "Tracking run with wandb version 0.16.6"
      ],
      "text/plain": [
       "<IPython.core.display.HTML object>"
      ]
     },
     "metadata": {},
     "output_type": "display_data"
    },
    {
     "data": {
      "text/html": [
       "Run data is saved locally in <code>D:\\DL\\wandb\\run-20250516_001112-mxglm34y</code>"
      ],
      "text/plain": [
       "<IPython.core.display.HTML object>"
      ]
     },
     "metadata": {},
     "output_type": "display_data"
    },
    {
     "data": {
      "text/html": [
       "Syncing run <strong><a href='https://wandb.ai/manoj_da24s018-iit-madras/Transliterator_Attention_HyperParameterSweep/runs/mxglm34y' target=\"_blank\">celestial-sweep-14</a></strong> to <a href='https://wandb.ai/manoj_da24s018-iit-madras/Transliterator_Attention_HyperParameterSweep' target=\"_blank\">Weights & Biases</a> (<a href='https://wandb.me/run' target=\"_blank\">docs</a>)<br/>Sweep page: <a href='https://wandb.ai/manoj_da24s018-iit-madras/Transliterator_Attention_HyperParameterSweep/sweeps/htfl2fri' target=\"_blank\">https://wandb.ai/manoj_da24s018-iit-madras/Transliterator_Attention_HyperParameterSweep/sweeps/htfl2fri</a>"
      ],
      "text/plain": [
       "<IPython.core.display.HTML object>"
      ]
     },
     "metadata": {},
     "output_type": "display_data"
    },
    {
     "data": {
      "text/html": [
       " View project at <a href='https://wandb.ai/manoj_da24s018-iit-madras/Transliterator_Attention_HyperParameterSweep' target=\"_blank\">https://wandb.ai/manoj_da24s018-iit-madras/Transliterator_Attention_HyperParameterSweep</a>"
      ],
      "text/plain": [
       "<IPython.core.display.HTML object>"
      ]
     },
     "metadata": {},
     "output_type": "display_data"
    },
    {
     "data": {
      "text/html": [
       " View sweep at <a href='https://wandb.ai/manoj_da24s018-iit-madras/Transliterator_Attention_HyperParameterSweep/sweeps/htfl2fri' target=\"_blank\">https://wandb.ai/manoj_da24s018-iit-madras/Transliterator_Attention_HyperParameterSweep/sweeps/htfl2fri</a>"
      ],
      "text/plain": [
       "<IPython.core.display.HTML object>"
      ]
     },
     "metadata": {},
     "output_type": "display_data"
    },
    {
     "data": {
      "text/html": [
       " View run at <a href='https://wandb.ai/manoj_da24s018-iit-madras/Transliterator_Attention_HyperParameterSweep/runs/mxglm34y' target=\"_blank\">https://wandb.ai/manoj_da24s018-iit-madras/Transliterator_Attention_HyperParameterSweep/runs/mxglm34y</a>"
      ],
      "text/plain": [
       "<IPython.core.display.HTML object>"
      ]
     },
     "metadata": {},
     "output_type": "display_data"
    },
    {
     "name": "stdout",
     "output_type": "stream",
     "text": [
      "Sweep Name:  RNN Layer Type: rnn, Character_Embedding_dim: 32, Hidden_dim:512, Num_Encoder_Layer:1, Num_Decoder_Layer:2, Dropout:0.4\n",
      "Epoch 1/10\n",
      "1582/1582 [==============================] - ETA: 0s - loss: 0.6645 - accuracy: 0.8213\n",
      "Epoch 1: Word-level Accuracy = 0.1581\n",
      "INFO:tensorflow:Assets written to: D:\\DL\\wandb\\run-20250516_001112-mxglm34y\\files\\model-best\\assets\n"
     ]
    },
    {
     "name": "stderr",
     "output_type": "stream",
     "text": [
      "INFO:tensorflow:Assets written to: D:\\DL\\wandb\\run-20250516_001112-mxglm34y\\files\\model-best\\assets\n",
      "wandb: Adding directory to artifact (D:\\DL\\wandb\\run-20250516_001112-mxglm34y\\files\\model-best)... Done. 0.0s\n"
     ]
    },
    {
     "name": "stdout",
     "output_type": "stream",
     "text": [
      "1582/1582 [==============================] - 77s 48ms/step - loss: 0.6645 - accuracy: 0.8213 - val_loss: 0.2305 - val_accuracy: 0.9318 - WordAccuracy: 0.1581\n",
      "Epoch 2/10\n",
      "1582/1582 [==============================] - ETA: 0s - loss: 0.2561 - accuracy: 0.9274\n",
      "Epoch 2: Word-level Accuracy = 0.2409\n",
      "INFO:tensorflow:Assets written to: D:\\DL\\wandb\\run-20250516_001112-mxglm34y\\files\\model-best\\assets\n"
     ]
    },
    {
     "name": "stderr",
     "output_type": "stream",
     "text": [
      "INFO:tensorflow:Assets written to: D:\\DL\\wandb\\run-20250516_001112-mxglm34y\\files\\model-best\\assets\n",
      "wandb: Adding directory to artifact (D:\\DL\\wandb\\run-20250516_001112-mxglm34y\\files\\model-best)... Done. 0.0s\n"
     ]
    },
    {
     "name": "stdout",
     "output_type": "stream",
     "text": [
      "1582/1582 [==============================] - 80s 50ms/step - loss: 0.2561 - accuracy: 0.9274 - val_loss: 0.1833 - val_accuracy: 0.9441 - WordAccuracy: 0.2409\n",
      "Epoch 3/10\n",
      "1582/1582 [==============================] - ETA: 0s - loss: 0.2169 - accuracy: 0.9373\n",
      "Epoch 3: Word-level Accuracy = 0.2479\n",
      "INFO:tensorflow:Assets written to: D:\\DL\\wandb\\run-20250516_001112-mxglm34y\\files\\model-best\\assets\n"
     ]
    },
    {
     "name": "stderr",
     "output_type": "stream",
     "text": [
      "INFO:tensorflow:Assets written to: D:\\DL\\wandb\\run-20250516_001112-mxglm34y\\files\\model-best\\assets\n",
      "wandb: Adding directory to artifact (D:\\DL\\wandb\\run-20250516_001112-mxglm34y\\files\\model-best)... Done. 0.0s\n"
     ]
    },
    {
     "name": "stdout",
     "output_type": "stream",
     "text": [
      "1582/1582 [==============================] - 74s 47ms/step - loss: 0.2169 - accuracy: 0.9373 - val_loss: 0.1797 - val_accuracy: 0.9472 - WordAccuracy: 0.2479\n",
      "Epoch 4/10\n",
      "1582/1582 [==============================] - ETA: 0s - loss: 0.2319 - accuracy: 0.9340\n",
      "Epoch 4: Word-level Accuracy = 0.2481\n",
      "1582/1582 [==============================] - 79s 50ms/step - loss: 0.2319 - accuracy: 0.9340 - val_loss: 0.1803 - val_accuracy: 0.9449 - WordAccuracy: 0.2481\n",
      "Epoch 5/10\n",
      "1581/1582 [============================>.] - ETA: 0s - loss: 0.1984 - accuracy: 0.9416\n",
      "Epoch 5: Word-level Accuracy = 0.2365\n",
      "INFO:tensorflow:Assets written to: D:\\DL\\wandb\\run-20250516_001112-mxglm34y\\files\\model-best\\assets\n"
     ]
    },
    {
     "name": "stderr",
     "output_type": "stream",
     "text": [
      "INFO:tensorflow:Assets written to: D:\\DL\\wandb\\run-20250516_001112-mxglm34y\\files\\model-best\\assets\n",
      "wandb: Adding directory to artifact (D:\\DL\\wandb\\run-20250516_001112-mxglm34y\\files\\model-best)... Done. 0.0s\n"
     ]
    },
    {
     "name": "stdout",
     "output_type": "stream",
     "text": [
      "1582/1582 [==============================] - 76s 48ms/step - loss: 0.1984 - accuracy: 0.9416 - val_loss: 0.1742 - val_accuracy: 0.9450 - WordAccuracy: 0.2365\n",
      "Epoch 6/10\n",
      "1581/1582 [============================>.] - ETA: 0s - loss: 0.1928 - accuracy: 0.9435\n",
      "Epoch 6: Word-level Accuracy = 0.2638\n",
      "INFO:tensorflow:Assets written to: D:\\DL\\wandb\\run-20250516_001112-mxglm34y\\files\\model-best\\assets\n"
     ]
    },
    {
     "name": "stderr",
     "output_type": "stream",
     "text": [
      "INFO:tensorflow:Assets written to: D:\\DL\\wandb\\run-20250516_001112-mxglm34y\\files\\model-best\\assets\n",
      "wandb: Adding directory to artifact (D:\\DL\\wandb\\run-20250516_001112-mxglm34y\\files\\model-best)... Done. 0.0s\n"
     ]
    },
    {
     "name": "stdout",
     "output_type": "stream",
     "text": [
      "1582/1582 [==============================] - 78s 49ms/step - loss: 0.1928 - accuracy: 0.9435 - val_loss: 0.1640 - val_accuracy: 0.9493 - WordAccuracy: 0.2638\n",
      "Epoch 7/10\n",
      "1581/1582 [============================>.] - ETA: 0s - loss: 0.1881 - accuracy: 0.9449\n",
      "Epoch 7: Word-level Accuracy = 0.2588\n",
      "1582/1582 [==============================] - 75s 47ms/step - loss: 0.1881 - accuracy: 0.9449 - val_loss: 0.1660 - val_accuracy: 0.9502 - WordAccuracy: 0.2588\n",
      "Epoch 8/10\n",
      "1582/1582 [==============================] - ETA: 0s - loss: 0.1811 - accuracy: 0.9465\n",
      "Epoch 8: Word-level Accuracy = 0.2729\n",
      "INFO:tensorflow:Assets written to: D:\\DL\\wandb\\run-20250516_001112-mxglm34y\\files\\model-best\\assets\n"
     ]
    },
    {
     "name": "stderr",
     "output_type": "stream",
     "text": [
      "INFO:tensorflow:Assets written to: D:\\DL\\wandb\\run-20250516_001112-mxglm34y\\files\\model-best\\assets\n",
      "wandb: Adding directory to artifact (D:\\DL\\wandb\\run-20250516_001112-mxglm34y\\files\\model-best)... Done. 0.0s\n"
     ]
    },
    {
     "name": "stdout",
     "output_type": "stream",
     "text": [
      "1582/1582 [==============================] - 80s 51ms/step - loss: 0.1811 - accuracy: 0.9465 - val_loss: 0.1603 - val_accuracy: 0.9503 - WordAccuracy: 0.2729\n",
      "Epoch 9/10\n",
      "1582/1582 [==============================] - ETA: 0s - loss: 0.1763 - accuracy: 0.9477\n",
      "Epoch 9: Word-level Accuracy = 0.2566\n",
      "1582/1582 [==============================] - 80s 51ms/step - loss: 0.1763 - accuracy: 0.9477 - val_loss: 0.1680 - val_accuracy: 0.9492 - WordAccuracy: 0.2566\n",
      "Epoch 10/10\n",
      "1582/1582 [==============================] - ETA: 0s - loss: 0.1739 - accuracy: 0.9485\n",
      "Epoch 10: Word-level Accuracy = 0.2514\n",
      "INFO:tensorflow:Assets written to: D:\\DL\\wandb\\run-20250516_001112-mxglm34y\\files\\model-best\\assets\n"
     ]
    },
    {
     "name": "stderr",
     "output_type": "stream",
     "text": [
      "INFO:tensorflow:Assets written to: D:\\DL\\wandb\\run-20250516_001112-mxglm34y\\files\\model-best\\assets\n",
      "wandb: Adding directory to artifact (D:\\DL\\wandb\\run-20250516_001112-mxglm34y\\files\\model-best)... Done. 0.0s\n"
     ]
    },
    {
     "name": "stdout",
     "output_type": "stream",
     "text": [
      "1582/1582 [==============================] - 78s 49ms/step - loss: 0.1739 - accuracy: 0.9485 - val_loss: 0.1594 - val_accuracy: 0.9501 - WordAccuracy: 0.2514\n"
     ]
    },
    {
     "data": {
      "application/vnd.jupyter.widget-view+json": {
       "model_id": "d45377071f384db7ae418dcab3c4fa88",
       "version_major": 2,
       "version_minor": 0
      },
      "text/plain": [
       "VBox(children=(Label(value='54.364 MB of 54.364 MB uploaded (0.136 MB deduped)\\r'), FloatProgress(value=1.0, m…"
      ]
     },
     "metadata": {},
     "output_type": "display_data"
    },
    {
     "data": {
      "text/html": [
       "<style>\n",
       "    table.wandb td:nth-child(1) { padding: 0 10px; text-align: left ; width: auto;} td:nth-child(2) {text-align: left ; width: 100%}\n",
       "    .wandb-row { display: flex; flex-direction: row; flex-wrap: wrap; justify-content: flex-start; width: 100% }\n",
       "    .wandb-col { display: flex; flex-direction: column; flex-basis: 100%; flex: 1; padding: 10px; }\n",
       "    </style>\n",
       "<div class=\"wandb-row\"><div class=\"wandb-col\"><h3>Run history:</h3><br/><table class=\"wandb\"><tr><td>Val_WordAccuracy</td><td>▁▆▆▆▆▇▇█▇▇</td></tr><tr><td>WordAccuracy</td><td>▁▆▆▆▆▇▇█▇▇</td></tr><tr><td>accuracy</td><td>▁▇▇▇██████</td></tr><tr><td>epoch</td><td>▂▁▂▂▃▂▄▃▅▄▅▅▆▅▇▆▇▇█▇</td></tr><tr><td>loss</td><td>█▂▂▂▁▁▁▁▁▁</td></tr><tr><td>val_accuracy</td><td>▁▆▇▆▆█████</td></tr><tr><td>val_loss</td><td>█▃▃▃▂▁▂▁▂▁</td></tr></table><br/></div><div class=\"wandb-col\"><h3>Run summary:</h3><br/><table class=\"wandb\"><tr><td>Val_WordAccuracy</td><td>0.25144</td></tr><tr><td>WordAccuracy</td><td>0.25144</td></tr><tr><td>accuracy</td><td>0.94847</td></tr><tr><td>best_epoch</td><td>9</td></tr><tr><td>best_val_loss</td><td>0.15943</td></tr><tr><td>epoch</td><td>9</td></tr><tr><td>loss</td><td>0.17391</td></tr><tr><td>val_accuracy</td><td>0.95005</td></tr><tr><td>val_loss</td><td>0.15943</td></tr></table><br/></div></div>"
      ],
      "text/plain": [
       "<IPython.core.display.HTML object>"
      ]
     },
     "metadata": {},
     "output_type": "display_data"
    },
    {
     "data": {
      "text/html": [
       " View run <strong style=\"color:#cdcd00\">celestial-sweep-14</strong> at: <a href='https://wandb.ai/manoj_da24s018-iit-madras/Transliterator_Attention_HyperParameterSweep/runs/mxglm34y' target=\"_blank\">https://wandb.ai/manoj_da24s018-iit-madras/Transliterator_Attention_HyperParameterSweep/runs/mxglm34y</a><br/> View project at: <a href='https://wandb.ai/manoj_da24s018-iit-madras/Transliterator_Attention_HyperParameterSweep' target=\"_blank\">https://wandb.ai/manoj_da24s018-iit-madras/Transliterator_Attention_HyperParameterSweep</a><br/>Synced 5 W&B file(s), 1 media file(s), 28 artifact file(s) and 1 other file(s)"
      ],
      "text/plain": [
       "<IPython.core.display.HTML object>"
      ]
     },
     "metadata": {},
     "output_type": "display_data"
    },
    {
     "data": {
      "text/html": [
       "Find logs at: <code>.\\wandb\\run-20250516_001112-mxglm34y\\logs</code>"
      ],
      "text/plain": [
       "<IPython.core.display.HTML object>"
      ]
     },
     "metadata": {},
     "output_type": "display_data"
    },
    {
     "name": "stderr",
     "output_type": "stream",
     "text": [
      "wandb: Agent Starting Run: 5wettp7e with config:\n",
      "wandb: \tcell_type: rnn\n",
      "wandb: \tchar_embedding_dim: 16\n",
      "wandb: \tdecoder_layers: 2\n",
      "wandb: \tdropout: 0.2\n",
      "wandb: \tencoder_layers: 3\n",
      "wandb: \thidden_state_dim: 512\n"
     ]
    },
    {
     "data": {
      "text/html": [
       "wandb version 0.19.11 is available!  To upgrade, please run:\n",
       " $ pip install wandb --upgrade"
      ],
      "text/plain": [
       "<IPython.core.display.HTML object>"
      ]
     },
     "metadata": {},
     "output_type": "display_data"
    },
    {
     "data": {
      "text/html": [
       "Tracking run with wandb version 0.16.6"
      ],
      "text/plain": [
       "<IPython.core.display.HTML object>"
      ]
     },
     "metadata": {},
     "output_type": "display_data"
    },
    {
     "data": {
      "text/html": [
       "Run data is saved locally in <code>D:\\DL\\wandb\\run-20250516_002431-5wettp7e</code>"
      ],
      "text/plain": [
       "<IPython.core.display.HTML object>"
      ]
     },
     "metadata": {},
     "output_type": "display_data"
    },
    {
     "data": {
      "text/html": [
       "Syncing run <strong><a href='https://wandb.ai/manoj_da24s018-iit-madras/Transliterator_Attention_HyperParameterSweep/runs/5wettp7e' target=\"_blank\">vocal-sweep-15</a></strong> to <a href='https://wandb.ai/manoj_da24s018-iit-madras/Transliterator_Attention_HyperParameterSweep' target=\"_blank\">Weights & Biases</a> (<a href='https://wandb.me/run' target=\"_blank\">docs</a>)<br/>Sweep page: <a href='https://wandb.ai/manoj_da24s018-iit-madras/Transliterator_Attention_HyperParameterSweep/sweeps/htfl2fri' target=\"_blank\">https://wandb.ai/manoj_da24s018-iit-madras/Transliterator_Attention_HyperParameterSweep/sweeps/htfl2fri</a>"
      ],
      "text/plain": [
       "<IPython.core.display.HTML object>"
      ]
     },
     "metadata": {},
     "output_type": "display_data"
    },
    {
     "data": {
      "text/html": [
       " View project at <a href='https://wandb.ai/manoj_da24s018-iit-madras/Transliterator_Attention_HyperParameterSweep' target=\"_blank\">https://wandb.ai/manoj_da24s018-iit-madras/Transliterator_Attention_HyperParameterSweep</a>"
      ],
      "text/plain": [
       "<IPython.core.display.HTML object>"
      ]
     },
     "metadata": {},
     "output_type": "display_data"
    },
    {
     "data": {
      "text/html": [
       " View sweep at <a href='https://wandb.ai/manoj_da24s018-iit-madras/Transliterator_Attention_HyperParameterSweep/sweeps/htfl2fri' target=\"_blank\">https://wandb.ai/manoj_da24s018-iit-madras/Transliterator_Attention_HyperParameterSweep/sweeps/htfl2fri</a>"
      ],
      "text/plain": [
       "<IPython.core.display.HTML object>"
      ]
     },
     "metadata": {},
     "output_type": "display_data"
    },
    {
     "data": {
      "text/html": [
       " View run at <a href='https://wandb.ai/manoj_da24s018-iit-madras/Transliterator_Attention_HyperParameterSweep/runs/5wettp7e' target=\"_blank\">https://wandb.ai/manoj_da24s018-iit-madras/Transliterator_Attention_HyperParameterSweep/runs/5wettp7e</a>"
      ],
      "text/plain": [
       "<IPython.core.display.HTML object>"
      ]
     },
     "metadata": {},
     "output_type": "display_data"
    },
    {
     "name": "stdout",
     "output_type": "stream",
     "text": [
      "Sweep Name:  RNN Layer Type: rnn, Character_Embedding_dim: 16, Hidden_dim:512, Num_Encoder_Layer:3, Num_Decoder_Layer:2, Dropout:0.2\n",
      "Epoch 1/10\n",
      "1582/1582 [==============================] - ETA: 0s - loss: 1.0692 - accuracy: 0.7131\n",
      "Epoch 1: Word-level Accuracy = 0.0000\n",
      "INFO:tensorflow:Assets written to: D:\\DL\\wandb\\run-20250516_002431-5wettp7e\\files\\model-best\\assets\n"
     ]
    },
    {
     "name": "stderr",
     "output_type": "stream",
     "text": [
      "INFO:tensorflow:Assets written to: D:\\DL\\wandb\\run-20250516_002431-5wettp7e\\files\\model-best\\assets\n",
      "wandb: Adding directory to artifact (D:\\DL\\wandb\\run-20250516_002431-5wettp7e\\files\\model-best)... Done. 0.1s\n"
     ]
    },
    {
     "name": "stdout",
     "output_type": "stream",
     "text": [
      "1582/1582 [==============================] - 174s 108ms/step - loss: 1.0692 - accuracy: 0.7131 - val_loss: 0.9149 - val_accuracy: 0.7450 - WordAccuracy: 0.0000e+00\n",
      "Epoch 2/10\n",
      "1582/1582 [==============================] - ETA: 0s - loss: 0.9060 - accuracy: 0.7459\n",
      "Epoch 2: Word-level Accuracy = 0.0000\n",
      "INFO:tensorflow:Assets written to: D:\\DL\\wandb\\run-20250516_002431-5wettp7e\\files\\model-best\\assets\n"
     ]
    },
    {
     "name": "stderr",
     "output_type": "stream",
     "text": [
      "INFO:tensorflow:Assets written to: D:\\DL\\wandb\\run-20250516_002431-5wettp7e\\files\\model-best\\assets\n",
      "wandb: Adding directory to artifact (D:\\DL\\wandb\\run-20250516_002431-5wettp7e\\files\\model-best)... Done. 0.0s\n"
     ]
    },
    {
     "name": "stdout",
     "output_type": "stream",
     "text": [
      "1582/1582 [==============================] - 151s 95ms/step - loss: 0.9060 - accuracy: 0.7459 - val_loss: 0.8483 - val_accuracy: 0.7631 - WordAccuracy: 0.0000e+00\n",
      "Epoch 3/10\n",
      "1582/1582 [==============================] - ETA: 0s - loss: 0.8293 - accuracy: 0.7651\n",
      "Epoch 3: Word-level Accuracy = 0.0000\n",
      "INFO:tensorflow:Assets written to: D:\\DL\\wandb\\run-20250516_002431-5wettp7e\\files\\model-best\\assets\n"
     ]
    },
    {
     "name": "stderr",
     "output_type": "stream",
     "text": [
      "INFO:tensorflow:Assets written to: D:\\DL\\wandb\\run-20250516_002431-5wettp7e\\files\\model-best\\assets\n",
      "wandb: Adding directory to artifact (D:\\DL\\wandb\\run-20250516_002431-5wettp7e\\files\\model-best)... Done. 0.1s\n"
     ]
    },
    {
     "name": "stdout",
     "output_type": "stream",
     "text": [
      "1582/1582 [==============================] - 151s 96ms/step - loss: 0.8293 - accuracy: 0.7651 - val_loss: 0.8266 - val_accuracy: 0.7686 - WordAccuracy: 0.0000e+00\n",
      "Epoch 4/10\n",
      "1582/1582 [==============================] - ETA: 0s - loss: 0.8024 - accuracy: 0.7720\n",
      "Epoch 4: Word-level Accuracy = 0.0000\n",
      "INFO:tensorflow:Assets written to: D:\\DL\\wandb\\run-20250516_002431-5wettp7e\\files\\model-best\\assets\n"
     ]
    },
    {
     "name": "stderr",
     "output_type": "stream",
     "text": [
      "INFO:tensorflow:Assets written to: D:\\DL\\wandb\\run-20250516_002431-5wettp7e\\files\\model-best\\assets\n",
      "wandb: Adding directory to artifact (D:\\DL\\wandb\\run-20250516_002431-5wettp7e\\files\\model-best)... Done. 0.0s\n"
     ]
    },
    {
     "name": "stdout",
     "output_type": "stream",
     "text": [
      "1582/1582 [==============================] - 155s 98ms/step - loss: 0.8024 - accuracy: 0.7720 - val_loss: 0.7930 - val_accuracy: 0.7770 - WordAccuracy: 0.0000e+00\n",
      "Epoch 5/10\n",
      "1582/1582 [==============================] - ETA: 0s - loss: 0.7559 - accuracy: 0.7833\n",
      "Epoch 5: Word-level Accuracy = 0.0000\n",
      "INFO:tensorflow:Assets written to: D:\\DL\\wandb\\run-20250516_002431-5wettp7e\\files\\model-best\\assets\n"
     ]
    },
    {
     "name": "stderr",
     "output_type": "stream",
     "text": [
      "INFO:tensorflow:Assets written to: D:\\DL\\wandb\\run-20250516_002431-5wettp7e\\files\\model-best\\assets\n",
      "wandb: Adding directory to artifact (D:\\DL\\wandb\\run-20250516_002431-5wettp7e\\files\\model-best)... Done. 0.0s\n"
     ]
    },
    {
     "name": "stdout",
     "output_type": "stream",
     "text": [
      "1582/1582 [==============================] - 154s 97ms/step - loss: 0.7559 - accuracy: 0.7833 - val_loss: 0.7761 - val_accuracy: 0.7816 - WordAccuracy: 0.0000e+00\n",
      "Epoch 6/10\n",
      "1582/1582 [==============================] - ETA: 0s - loss: 0.7286 - accuracy: 0.7904\n",
      "Epoch 6: Word-level Accuracy = 0.0000\n",
      "1582/1582 [==============================] - 155s 98ms/step - loss: 0.7286 - accuracy: 0.7904 - val_loss: 0.7784 - val_accuracy: 0.7834 - WordAccuracy: 0.0000e+00\n",
      "Epoch 7/10\n",
      "1582/1582 [==============================] - ETA: 0s - loss: 0.7061 - accuracy: 0.7957\n",
      "Epoch 7: Word-level Accuracy = 0.0000\n",
      "INFO:tensorflow:Assets written to: D:\\DL\\wandb\\run-20250516_002431-5wettp7e\\files\\model-best\\assets\n"
     ]
    },
    {
     "name": "stderr",
     "output_type": "stream",
     "text": [
      "INFO:tensorflow:Assets written to: D:\\DL\\wandb\\run-20250516_002431-5wettp7e\\files\\model-best\\assets\n",
      "wandb: Adding directory to artifact (D:\\DL\\wandb\\run-20250516_002431-5wettp7e\\files\\model-best)... Done. 0.0s\n"
     ]
    },
    {
     "name": "stdout",
     "output_type": "stream",
     "text": [
      "1582/1582 [==============================] - 155s 98ms/step - loss: 0.7061 - accuracy: 0.7957 - val_loss: 0.7716 - val_accuracy: 0.7857 - WordAccuracy: 0.0000e+00\n",
      "Epoch 8/10\n",
      "1582/1582 [==============================] - ETA: 0s - loss: 0.6896 - accuracy: 0.8002\n",
      "Epoch 8: Word-level Accuracy = 0.0000\n",
      "INFO:tensorflow:Assets written to: D:\\DL\\wandb\\run-20250516_002431-5wettp7e\\files\\model-best\\assets\n"
     ]
    },
    {
     "name": "stderr",
     "output_type": "stream",
     "text": [
      "INFO:tensorflow:Assets written to: D:\\DL\\wandb\\run-20250516_002431-5wettp7e\\files\\model-best\\assets\n",
      "wandb: Adding directory to artifact (D:\\DL\\wandb\\run-20250516_002431-5wettp7e\\files\\model-best)... Done. 0.0s\n"
     ]
    },
    {
     "name": "stdout",
     "output_type": "stream",
     "text": [
      "1582/1582 [==============================] - 156s 98ms/step - loss: 0.6896 - accuracy: 0.8002 - val_loss: 0.7668 - val_accuracy: 0.7854 - WordAccuracy: 0.0000e+00\n",
      "Epoch 9/10\n",
      "1582/1582 [==============================] - ETA: 0s - loss: 0.6780 - accuracy: 0.8028\n",
      "Epoch 9: Word-level Accuracy = 0.0000\n",
      "1582/1582 [==============================] - 155s 98ms/step - loss: 0.6780 - accuracy: 0.8028 - val_loss: 0.7681 - val_accuracy: 0.7869 - WordAccuracy: 0.0000e+00\n",
      "Epoch 10/10\n",
      "1582/1582 [==============================] - ETA: 0s - loss: 0.6668 - accuracy: 0.8055\n",
      "Epoch 10: Word-level Accuracy = 0.0000\n",
      "INFO:tensorflow:Assets written to: D:\\DL\\wandb\\run-20250516_002431-5wettp7e\\files\\model-best\\assets\n"
     ]
    },
    {
     "name": "stderr",
     "output_type": "stream",
     "text": [
      "INFO:tensorflow:Assets written to: D:\\DL\\wandb\\run-20250516_002431-5wettp7e\\files\\model-best\\assets\n",
      "wandb: Adding directory to artifact (D:\\DL\\wandb\\run-20250516_002431-5wettp7e\\files\\model-best)... Done. 0.0s\n"
     ]
    },
    {
     "name": "stdout",
     "output_type": "stream",
     "text": [
      "1582/1582 [==============================] - 153s 97ms/step - loss: 0.6668 - accuracy: 0.8055 - val_loss: 0.7649 - val_accuracy: 0.7866 - WordAccuracy: 0.0000e+00\n"
     ]
    },
    {
     "data": {
      "application/vnd.jupyter.widget-view+json": {
       "model_id": "fece31a4ebe0402ca247426a0a8e3543",
       "version_major": 2,
       "version_minor": 0
      },
      "text/plain": [
       "VBox(children=(Label(value='160.334 MB of 160.334 MB uploaded (0.218 MB deduped)\\r'), FloatProgress(value=1.0,…"
      ]
     },
     "metadata": {},
     "output_type": "display_data"
    },
    {
     "data": {
      "text/html": [
       "<style>\n",
       "    table.wandb td:nth-child(1) { padding: 0 10px; text-align: left ; width: auto;} td:nth-child(2) {text-align: left ; width: 100%}\n",
       "    .wandb-row { display: flex; flex-direction: row; flex-wrap: wrap; justify-content: flex-start; width: 100% }\n",
       "    .wandb-col { display: flex; flex-direction: column; flex-basis: 100%; flex: 1; padding: 10px; }\n",
       "    </style>\n",
       "<div class=\"wandb-row\"><div class=\"wandb-col\"><h3>Run history:</h3><br/><table class=\"wandb\"><tr><td>Val_WordAccuracy</td><td>▁▁▁▁▁▁▁▁▁▁</td></tr><tr><td>WordAccuracy</td><td>▁▁▁▁▁▁▁▁▁▁</td></tr><tr><td>accuracy</td><td>▁▃▅▅▆▇▇███</td></tr><tr><td>epoch</td><td>▂▁▂▂▃▂▄▃▅▄▅▅▆▅▇▆▇▇█▇</td></tr><tr><td>loss</td><td>█▅▄▃▃▂▂▁▁▁</td></tr><tr><td>val_accuracy</td><td>▁▄▅▆▇▇████</td></tr><tr><td>val_loss</td><td>█▅▄▂▂▂▁▁▁▁</td></tr></table><br/></div><div class=\"wandb-col\"><h3>Run summary:</h3><br/><table class=\"wandb\"><tr><td>Val_WordAccuracy</td><td>0.0</td></tr><tr><td>WordAccuracy</td><td>0.0</td></tr><tr><td>accuracy</td><td>0.80552</td></tr><tr><td>best_epoch</td><td>9</td></tr><tr><td>best_val_loss</td><td>0.76493</td></tr><tr><td>epoch</td><td>9</td></tr><tr><td>loss</td><td>0.6668</td></tr><tr><td>val_accuracy</td><td>0.78663</td></tr><tr><td>val_loss</td><td>0.76493</td></tr></table><br/></div></div>"
      ],
      "text/plain": [
       "<IPython.core.display.HTML object>"
      ]
     },
     "metadata": {},
     "output_type": "display_data"
    },
    {
     "data": {
      "text/html": [
       " View run <strong style=\"color:#cdcd00\">vocal-sweep-15</strong> at: <a href='https://wandb.ai/manoj_da24s018-iit-madras/Transliterator_Attention_HyperParameterSweep/runs/5wettp7e' target=\"_blank\">https://wandb.ai/manoj_da24s018-iit-madras/Transliterator_Attention_HyperParameterSweep/runs/5wettp7e</a><br/> View project at: <a href='https://wandb.ai/manoj_da24s018-iit-madras/Transliterator_Attention_HyperParameterSweep' target=\"_blank\">https://wandb.ai/manoj_da24s018-iit-madras/Transliterator_Attention_HyperParameterSweep</a><br/>Synced 5 W&B file(s), 1 media file(s), 32 artifact file(s) and 1 other file(s)"
      ],
      "text/plain": [
       "<IPython.core.display.HTML object>"
      ]
     },
     "metadata": {},
     "output_type": "display_data"
    },
    {
     "data": {
      "text/html": [
       "Find logs at: <code>.\\wandb\\run-20250516_002431-5wettp7e\\logs</code>"
      ],
      "text/plain": [
       "<IPython.core.display.HTML object>"
      ]
     },
     "metadata": {},
     "output_type": "display_data"
    },
    {
     "name": "stderr",
     "output_type": "stream",
     "text": [
      "wandb: Agent Starting Run: d9b9r75k with config:\n",
      "wandb: \tcell_type: lstm\n",
      "wandb: \tchar_embedding_dim: 8\n",
      "wandb: \tdecoder_layers: 3\n",
      "wandb: \tdropout: 0.4\n",
      "wandb: \tencoder_layers: 2\n",
      "wandb: \thidden_state_dim: 128\n"
     ]
    },
    {
     "data": {
      "text/html": [
       "wandb version 0.19.11 is available!  To upgrade, please run:\n",
       " $ pip install wandb --upgrade"
      ],
      "text/plain": [
       "<IPython.core.display.HTML object>"
      ]
     },
     "metadata": {},
     "output_type": "display_data"
    },
    {
     "data": {
      "text/html": [
       "Tracking run with wandb version 0.16.6"
      ],
      "text/plain": [
       "<IPython.core.display.HTML object>"
      ]
     },
     "metadata": {},
     "output_type": "display_data"
    },
    {
     "data": {
      "text/html": [
       "Run data is saved locally in <code>D:\\DL\\wandb\\run-20250516_005049-d9b9r75k</code>"
      ],
      "text/plain": [
       "<IPython.core.display.HTML object>"
      ]
     },
     "metadata": {},
     "output_type": "display_data"
    },
    {
     "data": {
      "text/html": [
       "Syncing run <strong><a href='https://wandb.ai/manoj_da24s018-iit-madras/Transliterator_Attention_HyperParameterSweep/runs/d9b9r75k' target=\"_blank\">sleek-sweep-16</a></strong> to <a href='https://wandb.ai/manoj_da24s018-iit-madras/Transliterator_Attention_HyperParameterSweep' target=\"_blank\">Weights & Biases</a> (<a href='https://wandb.me/run' target=\"_blank\">docs</a>)<br/>Sweep page: <a href='https://wandb.ai/manoj_da24s018-iit-madras/Transliterator_Attention_HyperParameterSweep/sweeps/htfl2fri' target=\"_blank\">https://wandb.ai/manoj_da24s018-iit-madras/Transliterator_Attention_HyperParameterSweep/sweeps/htfl2fri</a>"
      ],
      "text/plain": [
       "<IPython.core.display.HTML object>"
      ]
     },
     "metadata": {},
     "output_type": "display_data"
    },
    {
     "data": {
      "text/html": [
       " View project at <a href='https://wandb.ai/manoj_da24s018-iit-madras/Transliterator_Attention_HyperParameterSweep' target=\"_blank\">https://wandb.ai/manoj_da24s018-iit-madras/Transliterator_Attention_HyperParameterSweep</a>"
      ],
      "text/plain": [
       "<IPython.core.display.HTML object>"
      ]
     },
     "metadata": {},
     "output_type": "display_data"
    },
    {
     "data": {
      "text/html": [
       " View sweep at <a href='https://wandb.ai/manoj_da24s018-iit-madras/Transliterator_Attention_HyperParameterSweep/sweeps/htfl2fri' target=\"_blank\">https://wandb.ai/manoj_da24s018-iit-madras/Transliterator_Attention_HyperParameterSweep/sweeps/htfl2fri</a>"
      ],
      "text/plain": [
       "<IPython.core.display.HTML object>"
      ]
     },
     "metadata": {},
     "output_type": "display_data"
    },
    {
     "data": {
      "text/html": [
       " View run at <a href='https://wandb.ai/manoj_da24s018-iit-madras/Transliterator_Attention_HyperParameterSweep/runs/d9b9r75k' target=\"_blank\">https://wandb.ai/manoj_da24s018-iit-madras/Transliterator_Attention_HyperParameterSweep/runs/d9b9r75k</a>"
      ],
      "text/plain": [
       "<IPython.core.display.HTML object>"
      ]
     },
     "metadata": {},
     "output_type": "display_data"
    },
    {
     "name": "stdout",
     "output_type": "stream",
     "text": [
      "Sweep Name:  RNN Layer Type: lstm, Character_Embedding_dim: 8, Hidden_dim:128, Num_Encoder_Layer:2, Num_Decoder_Layer:3, Dropout:0.4\n",
      "Epoch 1/10\n",
      "1578/1582 [============================>.] - ETA: 0s - loss: 1.0375 - accuracy: 0.7190\n",
      "Epoch 1: Word-level Accuracy = 0.0000\n"
     ]
    },
    {
     "name": "stderr",
     "output_type": "stream",
     "text": [
      "WARNING:absl:Found untraced functions such as lstm_cell_layer_call_fn, lstm_cell_layer_call_and_return_conditional_losses, lstm_cell_1_layer_call_fn, lstm_cell_1_layer_call_and_return_conditional_losses, lstm_cell_2_layer_call_fn while saving (showing 5 of 6). These functions will not be directly callable after loading.\n"
     ]
    },
    {
     "name": "stdout",
     "output_type": "stream",
     "text": [
      "INFO:tensorflow:Assets written to: D:\\DL\\wandb\\run-20250516_005049-d9b9r75k\\files\\model-best\\assets\n"
     ]
    },
    {
     "name": "stderr",
     "output_type": "stream",
     "text": [
      "INFO:tensorflow:Assets written to: D:\\DL\\wandb\\run-20250516_005049-d9b9r75k\\files\\model-best\\assets\n",
      "wandb: Adding directory to artifact (D:\\DL\\wandb\\run-20250516_005049-d9b9r75k\\files\\model-best)... Done. 0.0s\n"
     ]
    },
    {
     "name": "stdout",
     "output_type": "stream",
     "text": [
      "1582/1582 [==============================] - 33s 19ms/step - loss: 1.0370 - accuracy: 0.7191 - val_loss: 0.7868 - val_accuracy: 0.7738 - WordAccuracy: 0.0000e+00\n",
      "Epoch 2/10\n",
      "1579/1582 [============================>.] - ETA: 0s - loss: 0.6876 - accuracy: 0.7959\n",
      "Epoch 2: Word-level Accuracy = 0.0095\n"
     ]
    },
    {
     "name": "stderr",
     "output_type": "stream",
     "text": [
      "WARNING:absl:Found untraced functions such as lstm_cell_layer_call_fn, lstm_cell_layer_call_and_return_conditional_losses, lstm_cell_1_layer_call_fn, lstm_cell_1_layer_call_and_return_conditional_losses, lstm_cell_2_layer_call_fn while saving (showing 5 of 6). These functions will not be directly callable after loading.\n"
     ]
    },
    {
     "name": "stdout",
     "output_type": "stream",
     "text": [
      "INFO:tensorflow:Assets written to: D:\\DL\\wandb\\run-20250516_005049-d9b9r75k\\files\\model-best\\assets\n"
     ]
    },
    {
     "name": "stderr",
     "output_type": "stream",
     "text": [
      "INFO:tensorflow:Assets written to: D:\\DL\\wandb\\run-20250516_005049-d9b9r75k\\files\\model-best\\assets\n",
      "wandb: Adding directory to artifact (D:\\DL\\wandb\\run-20250516_005049-d9b9r75k\\files\\model-best)... Done. 0.0s\n"
     ]
    },
    {
     "name": "stdout",
     "output_type": "stream",
     "text": [
      "1582/1582 [==============================] - 29s 18ms/step - loss: 0.6873 - accuracy: 0.7959 - val_loss: 0.4775 - val_accuracy: 0.8610 - WordAccuracy: 0.0095\n",
      "Epoch 3/10\n",
      "1579/1582 [============================>.] - ETA: 0s - loss: 0.4729 - accuracy: 0.8583\n",
      "Epoch 3: Word-level Accuracy = 0.0525\n"
     ]
    },
    {
     "name": "stderr",
     "output_type": "stream",
     "text": [
      "WARNING:absl:Found untraced functions such as lstm_cell_layer_call_fn, lstm_cell_layer_call_and_return_conditional_losses, lstm_cell_1_layer_call_fn, lstm_cell_1_layer_call_and_return_conditional_losses, lstm_cell_2_layer_call_fn while saving (showing 5 of 6). These functions will not be directly callable after loading.\n"
     ]
    },
    {
     "name": "stdout",
     "output_type": "stream",
     "text": [
      "INFO:tensorflow:Assets written to: D:\\DL\\wandb\\run-20250516_005049-d9b9r75k\\files\\model-best\\assets\n"
     ]
    },
    {
     "name": "stderr",
     "output_type": "stream",
     "text": [
      "INFO:tensorflow:Assets written to: D:\\DL\\wandb\\run-20250516_005049-d9b9r75k\\files\\model-best\\assets\n",
      "wandb: Adding directory to artifact (D:\\DL\\wandb\\run-20250516_005049-d9b9r75k\\files\\model-best)... Done. 0.0s\n"
     ]
    },
    {
     "name": "stdout",
     "output_type": "stream",
     "text": [
      "1582/1582 [==============================] - 28s 18ms/step - loss: 0.4728 - accuracy: 0.8583 - val_loss: 0.3330 - val_accuracy: 0.9020 - WordAccuracy: 0.0525\n",
      "Epoch 4/10\n",
      "1581/1582 [============================>.] - ETA: 0s - loss: 0.3269 - accuracy: 0.9040\n",
      "Epoch 4: Word-level Accuracy = 0.2015\n"
     ]
    },
    {
     "name": "stderr",
     "output_type": "stream",
     "text": [
      "WARNING:absl:Found untraced functions such as lstm_cell_layer_call_fn, lstm_cell_layer_call_and_return_conditional_losses, lstm_cell_1_layer_call_fn, lstm_cell_1_layer_call_and_return_conditional_losses, lstm_cell_2_layer_call_fn while saving (showing 5 of 6). These functions will not be directly callable after loading.\n"
     ]
    },
    {
     "name": "stdout",
     "output_type": "stream",
     "text": [
      "INFO:tensorflow:Assets written to: D:\\DL\\wandb\\run-20250516_005049-d9b9r75k\\files\\model-best\\assets\n"
     ]
    },
    {
     "name": "stderr",
     "output_type": "stream",
     "text": [
      "INFO:tensorflow:Assets written to: D:\\DL\\wandb\\run-20250516_005049-d9b9r75k\\files\\model-best\\assets\n",
      "wandb: Adding directory to artifact (D:\\DL\\wandb\\run-20250516_005049-d9b9r75k\\files\\model-best)... Done. 0.0s\n"
     ]
    },
    {
     "name": "stdout",
     "output_type": "stream",
     "text": [
      "1582/1582 [==============================] - 28s 18ms/step - loss: 0.3268 - accuracy: 0.9040 - val_loss: 0.2024 - val_accuracy: 0.9420 - WordAccuracy: 0.2015\n",
      "Epoch 5/10\n",
      "1581/1582 [============================>.] - ETA: 0s - loss: 0.2426 - accuracy: 0.9289\n",
      "Epoch 5: Word-level Accuracy = 0.3026\n"
     ]
    },
    {
     "name": "stderr",
     "output_type": "stream",
     "text": [
      "WARNING:absl:Found untraced functions such as lstm_cell_layer_call_fn, lstm_cell_layer_call_and_return_conditional_losses, lstm_cell_1_layer_call_fn, lstm_cell_1_layer_call_and_return_conditional_losses, lstm_cell_2_layer_call_fn while saving (showing 5 of 6). These functions will not be directly callable after loading.\n"
     ]
    },
    {
     "name": "stdout",
     "output_type": "stream",
     "text": [
      "INFO:tensorflow:Assets written to: D:\\DL\\wandb\\run-20250516_005049-d9b9r75k\\files\\model-best\\assets\n"
     ]
    },
    {
     "name": "stderr",
     "output_type": "stream",
     "text": [
      "INFO:tensorflow:Assets written to: D:\\DL\\wandb\\run-20250516_005049-d9b9r75k\\files\\model-best\\assets\n",
      "wandb: Adding directory to artifact (D:\\DL\\wandb\\run-20250516_005049-d9b9r75k\\files\\model-best)... Done. 0.0s\n"
     ]
    },
    {
     "name": "stdout",
     "output_type": "stream",
     "text": [
      "1582/1582 [==============================] - 30s 19ms/step - loss: 0.2426 - accuracy: 0.9289 - val_loss: 0.1554 - val_accuracy: 0.9539 - WordAccuracy: 0.3026\n",
      "Epoch 6/10\n",
      "1580/1582 [============================>.] - ETA: 0s - loss: 0.1999 - accuracy: 0.9409\n",
      "Epoch 6: Word-level Accuracy = 0.3479\n"
     ]
    },
    {
     "name": "stderr",
     "output_type": "stream",
     "text": [
      "WARNING:absl:Found untraced functions such as lstm_cell_layer_call_fn, lstm_cell_layer_call_and_return_conditional_losses, lstm_cell_1_layer_call_fn, lstm_cell_1_layer_call_and_return_conditional_losses, lstm_cell_2_layer_call_fn while saving (showing 5 of 6). These functions will not be directly callable after loading.\n"
     ]
    },
    {
     "name": "stdout",
     "output_type": "stream",
     "text": [
      "INFO:tensorflow:Assets written to: D:\\DL\\wandb\\run-20250516_005049-d9b9r75k\\files\\model-best\\assets\n"
     ]
    },
    {
     "name": "stderr",
     "output_type": "stream",
     "text": [
      "INFO:tensorflow:Assets written to: D:\\DL\\wandb\\run-20250516_005049-d9b9r75k\\files\\model-best\\assets\n",
      "wandb: Adding directory to artifact (D:\\DL\\wandb\\run-20250516_005049-d9b9r75k\\files\\model-best)... Done. 0.0s\n"
     ]
    },
    {
     "name": "stdout",
     "output_type": "stream",
     "text": [
      "1582/1582 [==============================] - 28s 18ms/step - loss: 0.1998 - accuracy: 0.9409 - val_loss: 0.1345 - val_accuracy: 0.9585 - WordAccuracy: 0.3479\n",
      "Epoch 7/10\n",
      "1582/1582 [==============================] - ETA: 0s - loss: 0.1738 - accuracy: 0.9480\n",
      "Epoch 7: Word-level Accuracy = 0.3792\n"
     ]
    },
    {
     "name": "stderr",
     "output_type": "stream",
     "text": [
      "WARNING:absl:Found untraced functions such as lstm_cell_layer_call_fn, lstm_cell_layer_call_and_return_conditional_losses, lstm_cell_1_layer_call_fn, lstm_cell_1_layer_call_and_return_conditional_losses, lstm_cell_2_layer_call_fn while saving (showing 5 of 6). These functions will not be directly callable after loading.\n"
     ]
    },
    {
     "name": "stdout",
     "output_type": "stream",
     "text": [
      "INFO:tensorflow:Assets written to: D:\\DL\\wandb\\run-20250516_005049-d9b9r75k\\files\\model-best\\assets\n"
     ]
    },
    {
     "name": "stderr",
     "output_type": "stream",
     "text": [
      "INFO:tensorflow:Assets written to: D:\\DL\\wandb\\run-20250516_005049-d9b9r75k\\files\\model-best\\assets\n",
      "wandb: Adding directory to artifact (D:\\DL\\wandb\\run-20250516_005049-d9b9r75k\\files\\model-best)... Done. 0.0s\n"
     ]
    },
    {
     "name": "stdout",
     "output_type": "stream",
     "text": [
      "1582/1582 [==============================] - 28s 18ms/step - loss: 0.1738 - accuracy: 0.9480 - val_loss: 0.1231 - val_accuracy: 0.9619 - WordAccuracy: 0.3792\n",
      "Epoch 8/10\n",
      "1578/1582 [============================>.] - ETA: 0s - loss: 0.1582 - accuracy: 0.9522\n",
      "Epoch 8: Word-level Accuracy = 0.3955\n"
     ]
    },
    {
     "name": "stderr",
     "output_type": "stream",
     "text": [
      "WARNING:absl:Found untraced functions such as lstm_cell_layer_call_fn, lstm_cell_layer_call_and_return_conditional_losses, lstm_cell_1_layer_call_fn, lstm_cell_1_layer_call_and_return_conditional_losses, lstm_cell_2_layer_call_fn while saving (showing 5 of 6). These functions will not be directly callable after loading.\n"
     ]
    },
    {
     "name": "stdout",
     "output_type": "stream",
     "text": [
      "INFO:tensorflow:Assets written to: D:\\DL\\wandb\\run-20250516_005049-d9b9r75k\\files\\model-best\\assets\n"
     ]
    },
    {
     "name": "stderr",
     "output_type": "stream",
     "text": [
      "INFO:tensorflow:Assets written to: D:\\DL\\wandb\\run-20250516_005049-d9b9r75k\\files\\model-best\\assets\n",
      "wandb: Adding directory to artifact (D:\\DL\\wandb\\run-20250516_005049-d9b9r75k\\files\\model-best)... Done. 0.0s\n"
     ]
    },
    {
     "name": "stdout",
     "output_type": "stream",
     "text": [
      "1582/1582 [==============================] - 28s 17ms/step - loss: 0.1582 - accuracy: 0.9522 - val_loss: 0.1159 - val_accuracy: 0.9633 - WordAccuracy: 0.3955\n",
      "Epoch 9/10\n",
      "1581/1582 [============================>.] - ETA: 0s - loss: 0.1449 - accuracy: 0.9559\n",
      "Epoch 9: Word-level Accuracy = 0.4152\n"
     ]
    },
    {
     "name": "stderr",
     "output_type": "stream",
     "text": [
      "WARNING:absl:Found untraced functions such as lstm_cell_layer_call_fn, lstm_cell_layer_call_and_return_conditional_losses, lstm_cell_1_layer_call_fn, lstm_cell_1_layer_call_and_return_conditional_losses, lstm_cell_2_layer_call_fn while saving (showing 5 of 6). These functions will not be directly callable after loading.\n"
     ]
    },
    {
     "name": "stdout",
     "output_type": "stream",
     "text": [
      "INFO:tensorflow:Assets written to: D:\\DL\\wandb\\run-20250516_005049-d9b9r75k\\files\\model-best\\assets\n"
     ]
    },
    {
     "name": "stderr",
     "output_type": "stream",
     "text": [
      "INFO:tensorflow:Assets written to: D:\\DL\\wandb\\run-20250516_005049-d9b9r75k\\files\\model-best\\assets\n",
      "wandb: Adding directory to artifact (D:\\DL\\wandb\\run-20250516_005049-d9b9r75k\\files\\model-best)... Done. 0.0s\n"
     ]
    },
    {
     "name": "stdout",
     "output_type": "stream",
     "text": [
      "1582/1582 [==============================] - 28s 17ms/step - loss: 0.1449 - accuracy: 0.9559 - val_loss: 0.1096 - val_accuracy: 0.9657 - WordAccuracy: 0.4152\n",
      "Epoch 10/10\n",
      "1580/1582 [============================>.] - ETA: 0s - loss: 0.1357 - accuracy: 0.9583\n",
      "Epoch 10: Word-level Accuracy = 0.4177\n"
     ]
    },
    {
     "name": "stderr",
     "output_type": "stream",
     "text": [
      "WARNING:absl:Found untraced functions such as lstm_cell_layer_call_fn, lstm_cell_layer_call_and_return_conditional_losses, lstm_cell_1_layer_call_fn, lstm_cell_1_layer_call_and_return_conditional_losses, lstm_cell_2_layer_call_fn while saving (showing 5 of 6). These functions will not be directly callable after loading.\n"
     ]
    },
    {
     "name": "stdout",
     "output_type": "stream",
     "text": [
      "INFO:tensorflow:Assets written to: D:\\DL\\wandb\\run-20250516_005049-d9b9r75k\\files\\model-best\\assets\n"
     ]
    },
    {
     "name": "stderr",
     "output_type": "stream",
     "text": [
      "INFO:tensorflow:Assets written to: D:\\DL\\wandb\\run-20250516_005049-d9b9r75k\\files\\model-best\\assets\n",
      "wandb: Adding directory to artifact (D:\\DL\\wandb\\run-20250516_005049-d9b9r75k\\files\\model-best)... Done. 0.0s\n"
     ]
    },
    {
     "name": "stdout",
     "output_type": "stream",
     "text": [
      "1582/1582 [==============================] - 29s 18ms/step - loss: 0.1356 - accuracy: 0.9583 - val_loss: 0.1092 - val_accuracy: 0.9655 - WordAccuracy: 0.4177\n"
     ]
    },
    {
     "data": {
      "application/vnd.jupyter.widget-view+json": {
       "model_id": "10b9555d1a9c4d75a596afaa1f655d81",
       "version_major": 2,
       "version_minor": 0
      },
      "text/plain": [
       "VBox(children=(Label(value='55.454 MB of 55.454 MB uploaded (0.249 MB deduped)\\r'), FloatProgress(value=1.0, m…"
      ]
     },
     "metadata": {},
     "output_type": "display_data"
    },
    {
     "data": {
      "text/html": [
       "<style>\n",
       "    table.wandb td:nth-child(1) { padding: 0 10px; text-align: left ; width: auto;} td:nth-child(2) {text-align: left ; width: 100%}\n",
       "    .wandb-row { display: flex; flex-direction: row; flex-wrap: wrap; justify-content: flex-start; width: 100% }\n",
       "    .wandb-col { display: flex; flex-direction: column; flex-basis: 100%; flex: 1; padding: 10px; }\n",
       "    </style>\n",
       "<div class=\"wandb-row\"><div class=\"wandb-col\"><h3>Run history:</h3><br/><table class=\"wandb\"><tr><td>Val_WordAccuracy</td><td>▁▁▂▄▆▇▇███</td></tr><tr><td>WordAccuracy</td><td>▁▁▂▄▆▇▇███</td></tr><tr><td>accuracy</td><td>▁▃▅▆▇▇████</td></tr><tr><td>epoch</td><td>▂▁▂▂▃▂▄▃▅▄▅▅▆▅▇▆▇▇█▇</td></tr><tr><td>loss</td><td>█▅▄▂▂▁▁▁▁▁</td></tr><tr><td>val_accuracy</td><td>▁▄▆▇██████</td></tr><tr><td>val_loss</td><td>█▅▃▂▁▁▁▁▁▁</td></tr></table><br/></div><div class=\"wandb-col\"><h3>Run summary:</h3><br/><table class=\"wandb\"><tr><td>Val_WordAccuracy</td><td>0.41774</td></tr><tr><td>WordAccuracy</td><td>0.41774</td></tr><tr><td>accuracy</td><td>0.95832</td></tr><tr><td>best_epoch</td><td>9</td></tr><tr><td>best_val_loss</td><td>0.10917</td></tr><tr><td>epoch</td><td>9</td></tr><tr><td>loss</td><td>0.13562</td></tr><tr><td>val_accuracy</td><td>0.96549</td></tr><tr><td>val_loss</td><td>0.10917</td></tr></table><br/></div></div>"
      ],
      "text/plain": [
       "<IPython.core.display.HTML object>"
      ]
     },
     "metadata": {},
     "output_type": "display_data"
    },
    {
     "data": {
      "text/html": [
       " View run <strong style=\"color:#cdcd00\">sleek-sweep-16</strong> at: <a href='https://wandb.ai/manoj_da24s018-iit-madras/Transliterator_Attention_HyperParameterSweep/runs/d9b9r75k' target=\"_blank\">https://wandb.ai/manoj_da24s018-iit-madras/Transliterator_Attention_HyperParameterSweep/runs/d9b9r75k</a><br/> View project at: <a href='https://wandb.ai/manoj_da24s018-iit-madras/Transliterator_Attention_HyperParameterSweep' target=\"_blank\">https://wandb.ai/manoj_da24s018-iit-madras/Transliterator_Attention_HyperParameterSweep</a><br/>Synced 5 W&B file(s), 1 media file(s), 40 artifact file(s) and 1 other file(s)"
      ],
      "text/plain": [
       "<IPython.core.display.HTML object>"
      ]
     },
     "metadata": {},
     "output_type": "display_data"
    },
    {
     "data": {
      "text/html": [
       "Find logs at: <code>.\\wandb\\run-20250516_005049-d9b9r75k\\logs</code>"
      ],
      "text/plain": [
       "<IPython.core.display.HTML object>"
      ]
     },
     "metadata": {},
     "output_type": "display_data"
    },
    {
     "name": "stderr",
     "output_type": "stream",
     "text": [
      "wandb: Sweep Agent: Waiting for job.\n",
      "wandb: Job received.\n",
      "wandb: Agent Starting Run: 8vrc5xif with config:\n",
      "wandb: \tcell_type: rnn\n",
      "wandb: \tchar_embedding_dim: 32\n",
      "wandb: \tdecoder_layers: 1\n",
      "wandb: \tdropout: 0.3\n",
      "wandb: \tencoder_layers: 1\n",
      "wandb: \thidden_state_dim: 64\n"
     ]
    },
    {
     "data": {
      "text/html": [
       "wandb version 0.19.11 is available!  To upgrade, please run:\n",
       " $ pip install wandb --upgrade"
      ],
      "text/plain": [
       "<IPython.core.display.HTML object>"
      ]
     },
     "metadata": {},
     "output_type": "display_data"
    },
    {
     "data": {
      "text/html": [
       "Tracking run with wandb version 0.16.6"
      ],
      "text/plain": [
       "<IPython.core.display.HTML object>"
      ]
     },
     "metadata": {},
     "output_type": "display_data"
    },
    {
     "data": {
      "text/html": [
       "Run data is saved locally in <code>D:\\DL\\wandb\\run-20250516_005605-8vrc5xif</code>"
      ],
      "text/plain": [
       "<IPython.core.display.HTML object>"
      ]
     },
     "metadata": {},
     "output_type": "display_data"
    },
    {
     "data": {
      "text/html": [
       "Syncing run <strong><a href='https://wandb.ai/manoj_da24s018-iit-madras/Transliterator_Attention_HyperParameterSweep/runs/8vrc5xif' target=\"_blank\">dutiful-sweep-17</a></strong> to <a href='https://wandb.ai/manoj_da24s018-iit-madras/Transliterator_Attention_HyperParameterSweep' target=\"_blank\">Weights & Biases</a> (<a href='https://wandb.me/run' target=\"_blank\">docs</a>)<br/>Sweep page: <a href='https://wandb.ai/manoj_da24s018-iit-madras/Transliterator_Attention_HyperParameterSweep/sweeps/htfl2fri' target=\"_blank\">https://wandb.ai/manoj_da24s018-iit-madras/Transliterator_Attention_HyperParameterSweep/sweeps/htfl2fri</a>"
      ],
      "text/plain": [
       "<IPython.core.display.HTML object>"
      ]
     },
     "metadata": {},
     "output_type": "display_data"
    },
    {
     "data": {
      "text/html": [
       " View project at <a href='https://wandb.ai/manoj_da24s018-iit-madras/Transliterator_Attention_HyperParameterSweep' target=\"_blank\">https://wandb.ai/manoj_da24s018-iit-madras/Transliterator_Attention_HyperParameterSweep</a>"
      ],
      "text/plain": [
       "<IPython.core.display.HTML object>"
      ]
     },
     "metadata": {},
     "output_type": "display_data"
    },
    {
     "data": {
      "text/html": [
       " View sweep at <a href='https://wandb.ai/manoj_da24s018-iit-madras/Transliterator_Attention_HyperParameterSweep/sweeps/htfl2fri' target=\"_blank\">https://wandb.ai/manoj_da24s018-iit-madras/Transliterator_Attention_HyperParameterSweep/sweeps/htfl2fri</a>"
      ],
      "text/plain": [
       "<IPython.core.display.HTML object>"
      ]
     },
     "metadata": {},
     "output_type": "display_data"
    },
    {
     "data": {
      "text/html": [
       " View run at <a href='https://wandb.ai/manoj_da24s018-iit-madras/Transliterator_Attention_HyperParameterSweep/runs/8vrc5xif' target=\"_blank\">https://wandb.ai/manoj_da24s018-iit-madras/Transliterator_Attention_HyperParameterSweep/runs/8vrc5xif</a>"
      ],
      "text/plain": [
       "<IPython.core.display.HTML object>"
      ]
     },
     "metadata": {},
     "output_type": "display_data"
    },
    {
     "name": "stdout",
     "output_type": "stream",
     "text": [
      "Sweep Name:  RNN Layer Type: rnn, Character_Embedding_dim: 32, Hidden_dim:64, Num_Encoder_Layer:1, Num_Decoder_Layer:1, Dropout:0.3\n",
      "Epoch 1/10\n",
      "1582/1582 [==============================] - ETA: 0s - loss: 0.6728 - accuracy: 0.8224\n",
      "Epoch 1: Word-level Accuracy = 0.2033\n",
      "INFO:tensorflow:Assets written to: D:\\DL\\wandb\\run-20250516_005605-8vrc5xif\\files\\model-best\\assets\n"
     ]
    },
    {
     "name": "stderr",
     "output_type": "stream",
     "text": [
      "INFO:tensorflow:Assets written to: D:\\DL\\wandb\\run-20250516_005605-8vrc5xif\\files\\model-best\\assets\n",
      "wandb: Adding directory to artifact (D:\\DL\\wandb\\run-20250516_005605-8vrc5xif\\files\\model-best)... Done. 0.0s\n"
     ]
    },
    {
     "name": "stdout",
     "output_type": "stream",
     "text": [
      "1582/1582 [==============================] - 77s 48ms/step - loss: 0.6728 - accuracy: 0.8224 - val_loss: 0.2055 - val_accuracy: 0.9379 - WordAccuracy: 0.2033\n",
      "Epoch 2/10\n",
      "1581/1582 [============================>.] - ETA: 0s - loss: 0.2137 - accuracy: 0.9353\n",
      "Epoch 2: Word-level Accuracy = 0.2421\n",
      "INFO:tensorflow:Assets written to: D:\\DL\\wandb\\run-20250516_005605-8vrc5xif\\files\\model-best\\assets\n"
     ]
    },
    {
     "name": "stderr",
     "output_type": "stream",
     "text": [
      "INFO:tensorflow:Assets written to: D:\\DL\\wandb\\run-20250516_005605-8vrc5xif\\files\\model-best\\assets\n",
      "wandb: Adding directory to artifact (D:\\DL\\wandb\\run-20250516_005605-8vrc5xif\\files\\model-best)... Done. 0.0s\n"
     ]
    },
    {
     "name": "stdout",
     "output_type": "stream",
     "text": [
      "1582/1582 [==============================] - 71s 45ms/step - loss: 0.2137 - accuracy: 0.9353 - val_loss: 0.1670 - val_accuracy: 0.9451 - WordAccuracy: 0.2421\n",
      "Epoch 3/10\n",
      "1582/1582 [==============================] - ETA: 0s - loss: 0.1800 - accuracy: 0.9432\n",
      "Epoch 3: Word-level Accuracy = 0.2568\n",
      "INFO:tensorflow:Assets written to: D:\\DL\\wandb\\run-20250516_005605-8vrc5xif\\files\\model-best\\assets\n"
     ]
    },
    {
     "name": "stderr",
     "output_type": "stream",
     "text": [
      "INFO:tensorflow:Assets written to: D:\\DL\\wandb\\run-20250516_005605-8vrc5xif\\files\\model-best\\assets\n",
      "wandb: Adding directory to artifact (D:\\DL\\wandb\\run-20250516_005605-8vrc5xif\\files\\model-best)... Done. 0.0s\n"
     ]
    },
    {
     "name": "stdout",
     "output_type": "stream",
     "text": [
      "1582/1582 [==============================] - 69s 44ms/step - loss: 0.1800 - accuracy: 0.9432 - val_loss: 0.1556 - val_accuracy: 0.9482 - WordAccuracy: 0.2568\n",
      "Epoch 4/10\n",
      "1582/1582 [==============================] - ETA: 0s - loss: 0.1670 - accuracy: 0.9467\n",
      "Epoch 4: Word-level Accuracy = 0.2598\n",
      "INFO:tensorflow:Assets written to: D:\\DL\\wandb\\run-20250516_005605-8vrc5xif\\files\\model-best\\assets\n"
     ]
    },
    {
     "name": "stderr",
     "output_type": "stream",
     "text": [
      "INFO:tensorflow:Assets written to: D:\\DL\\wandb\\run-20250516_005605-8vrc5xif\\files\\model-best\\assets\n",
      "wandb: Adding directory to artifact (D:\\DL\\wandb\\run-20250516_005605-8vrc5xif\\files\\model-best)... Done. 0.0s\n"
     ]
    },
    {
     "name": "stdout",
     "output_type": "stream",
     "text": [
      "1582/1582 [==============================] - 72s 45ms/step - loss: 0.1670 - accuracy: 0.9467 - val_loss: 0.1511 - val_accuracy: 0.9495 - WordAccuracy: 0.2598\n",
      "Epoch 5/10\n",
      "1581/1582 [============================>.] - ETA: 0s - loss: 0.1583 - accuracy: 0.9490\n",
      "Epoch 5: Word-level Accuracy = 0.2632\n",
      "INFO:tensorflow:Assets written to: D:\\DL\\wandb\\run-20250516_005605-8vrc5xif\\files\\model-best\\assets\n"
     ]
    },
    {
     "name": "stderr",
     "output_type": "stream",
     "text": [
      "INFO:tensorflow:Assets written to: D:\\DL\\wandb\\run-20250516_005605-8vrc5xif\\files\\model-best\\assets\n",
      "wandb: Adding directory to artifact (D:\\DL\\wandb\\run-20250516_005605-8vrc5xif\\files\\model-best)... Done. 0.0s\n"
     ]
    },
    {
     "name": "stdout",
     "output_type": "stream",
     "text": [
      "1582/1582 [==============================] - 71s 45ms/step - loss: 0.1583 - accuracy: 0.9490 - val_loss: 0.1472 - val_accuracy: 0.9503 - WordAccuracy: 0.2632\n",
      "Epoch 6/10\n",
      "1581/1582 [============================>.] - ETA: 0s - loss: 0.1536 - accuracy: 0.9504\n",
      "Epoch 6: Word-level Accuracy = 0.2765\n",
      "INFO:tensorflow:Assets written to: D:\\DL\\wandb\\run-20250516_005605-8vrc5xif\\files\\model-best\\assets\n"
     ]
    },
    {
     "name": "stderr",
     "output_type": "stream",
     "text": [
      "INFO:tensorflow:Assets written to: D:\\DL\\wandb\\run-20250516_005605-8vrc5xif\\files\\model-best\\assets\n",
      "wandb: Adding directory to artifact (D:\\DL\\wandb\\run-20250516_005605-8vrc5xif\\files\\model-best)... Done. 0.0s\n"
     ]
    },
    {
     "name": "stdout",
     "output_type": "stream",
     "text": [
      "1582/1582 [==============================] - 72s 46ms/step - loss: 0.1536 - accuracy: 0.9504 - val_loss: 0.1428 - val_accuracy: 0.9522 - WordAccuracy: 0.2765\n",
      "Epoch 7/10\n",
      "1581/1582 [============================>.] - ETA: 0s - loss: 0.1482 - accuracy: 0.9520\n",
      "Epoch 7: Word-level Accuracy = 0.2757\n",
      "1582/1582 [==============================] - 70s 44ms/step - loss: 0.1482 - accuracy: 0.9520 - val_loss: 0.1430 - val_accuracy: 0.9518 - WordAccuracy: 0.2757\n",
      "Epoch 8/10\n",
      "1581/1582 [============================>.] - ETA: 0s - loss: 0.1449 - accuracy: 0.9530\n",
      "Epoch 8: Word-level Accuracy = 0.2996\n",
      "INFO:tensorflow:Assets written to: D:\\DL\\wandb\\run-20250516_005605-8vrc5xif\\files\\model-best\\assets\n"
     ]
    },
    {
     "name": "stderr",
     "output_type": "stream",
     "text": [
      "INFO:tensorflow:Assets written to: D:\\DL\\wandb\\run-20250516_005605-8vrc5xif\\files\\model-best\\assets\n",
      "wandb: Adding directory to artifact (D:\\DL\\wandb\\run-20250516_005605-8vrc5xif\\files\\model-best)... Done. 0.0s\n"
     ]
    },
    {
     "name": "stdout",
     "output_type": "stream",
     "text": [
      "1582/1582 [==============================] - 72s 46ms/step - loss: 0.1449 - accuracy: 0.9530 - val_loss: 0.1413 - val_accuracy: 0.9532 - WordAccuracy: 0.2996\n",
      "Epoch 9/10\n",
      "1581/1582 [============================>.] - ETA: 0s - loss: 0.1422 - accuracy: 0.9537\n",
      "Epoch 9: Word-level Accuracy = 0.2940\n",
      "INFO:tensorflow:Assets written to: D:\\DL\\wandb\\run-20250516_005605-8vrc5xif\\files\\model-best\\assets\n"
     ]
    },
    {
     "name": "stderr",
     "output_type": "stream",
     "text": [
      "INFO:tensorflow:Assets written to: D:\\DL\\wandb\\run-20250516_005605-8vrc5xif\\files\\model-best\\assets\n",
      "wandb: Adding directory to artifact (D:\\DL\\wandb\\run-20250516_005605-8vrc5xif\\files\\model-best)... Done. 0.0s\n"
     ]
    },
    {
     "name": "stdout",
     "output_type": "stream",
     "text": [
      "1582/1582 [==============================] - 70s 44ms/step - loss: 0.1422 - accuracy: 0.9537 - val_loss: 0.1393 - val_accuracy: 0.9536 - WordAccuracy: 0.2940\n",
      "Epoch 10/10\n",
      "1582/1582 [==============================] - ETA: 0s - loss: 0.1395 - accuracy: 0.9546\n",
      "Epoch 10: Word-level Accuracy = 0.2926\n",
      "INFO:tensorflow:Assets written to: D:\\DL\\wandb\\run-20250516_005605-8vrc5xif\\files\\model-best\\assets\n"
     ]
    },
    {
     "name": "stderr",
     "output_type": "stream",
     "text": [
      "INFO:tensorflow:Assets written to: D:\\DL\\wandb\\run-20250516_005605-8vrc5xif\\files\\model-best\\assets\n",
      "wandb: Adding directory to artifact (D:\\DL\\wandb\\run-20250516_005605-8vrc5xif\\files\\model-best)... Done. 0.0s\n"
     ]
    },
    {
     "name": "stdout",
     "output_type": "stream",
     "text": [
      "1582/1582 [==============================] - 70s 44ms/step - loss: 0.1395 - accuracy: 0.9546 - val_loss: 0.1389 - val_accuracy: 0.9537 - WordAccuracy: 0.2926\n"
     ]
    },
    {
     "data": {
      "application/vnd.jupyter.widget-view+json": {
       "model_id": "4a2dc9a14f3c4ce7b8ec802cbcdcdc05",
       "version_major": 2,
       "version_minor": 0
      },
      "text/plain": [
       "VBox(children=(Label(value='7.866 MB of 7.866 MB uploaded (0.181 MB deduped)\\r'), FloatProgress(value=1.0, max…"
      ]
     },
     "metadata": {},
     "output_type": "display_data"
    },
    {
     "data": {
      "text/html": [
       "W&B sync reduced upload amount by 2.2%             "
      ],
      "text/plain": [
       "<IPython.core.display.HTML object>"
      ]
     },
     "metadata": {},
     "output_type": "display_data"
    },
    {
     "data": {
      "text/html": [
       "<style>\n",
       "    table.wandb td:nth-child(1) { padding: 0 10px; text-align: left ; width: auto;} td:nth-child(2) {text-align: left ; width: 100%}\n",
       "    .wandb-row { display: flex; flex-direction: row; flex-wrap: wrap; justify-content: flex-start; width: 100% }\n",
       "    .wandb-col { display: flex; flex-direction: column; flex-basis: 100%; flex: 1; padding: 10px; }\n",
       "    </style>\n",
       "<div class=\"wandb-row\"><div class=\"wandb-col\"><h3>Run history:</h3><br/><table class=\"wandb\"><tr><td>Val_WordAccuracy</td><td>▁▄▅▅▅▆▆██▇</td></tr><tr><td>WordAccuracy</td><td>▁▄▅▅▅▆▆██▇</td></tr><tr><td>accuracy</td><td>▁▇▇███████</td></tr><tr><td>epoch</td><td>▂▁▂▂▃▂▄▃▅▄▅▅▆▅▇▆▇▇█▇</td></tr><tr><td>loss</td><td>█▂▂▁▁▁▁▁▁▁</td></tr><tr><td>val_accuracy</td><td>▁▄▆▆▆▇▇███</td></tr><tr><td>val_loss</td><td>█▄▃▂▂▁▁▁▁▁</td></tr></table><br/></div><div class=\"wandb-col\"><h3>Run summary:</h3><br/><table class=\"wandb\"><tr><td>Val_WordAccuracy</td><td>0.29262</td></tr><tr><td>WordAccuracy</td><td>0.29262</td></tr><tr><td>accuracy</td><td>0.95456</td></tr><tr><td>best_epoch</td><td>9</td></tr><tr><td>best_val_loss</td><td>0.13889</td></tr><tr><td>epoch</td><td>9</td></tr><tr><td>loss</td><td>0.13949</td></tr><tr><td>val_accuracy</td><td>0.95373</td></tr><tr><td>val_loss</td><td>0.13889</td></tr></table><br/></div></div>"
      ],
      "text/plain": [
       "<IPython.core.display.HTML object>"
      ]
     },
     "metadata": {},
     "output_type": "display_data"
    },
    {
     "data": {
      "text/html": [
       " View run <strong style=\"color:#cdcd00\">dutiful-sweep-17</strong> at: <a href='https://wandb.ai/manoj_da24s018-iit-madras/Transliterator_Attention_HyperParameterSweep/runs/8vrc5xif' target=\"_blank\">https://wandb.ai/manoj_da24s018-iit-madras/Transliterator_Attention_HyperParameterSweep/runs/8vrc5xif</a><br/> View project at: <a href='https://wandb.ai/manoj_da24s018-iit-madras/Transliterator_Attention_HyperParameterSweep' target=\"_blank\">https://wandb.ai/manoj_da24s018-iit-madras/Transliterator_Attention_HyperParameterSweep</a><br/>Synced 5 W&B file(s), 1 media file(s), 36 artifact file(s) and 1 other file(s)"
      ],
      "text/plain": [
       "<IPython.core.display.HTML object>"
      ]
     },
     "metadata": {},
     "output_type": "display_data"
    },
    {
     "data": {
      "text/html": [
       "Find logs at: <code>.\\wandb\\run-20250516_005605-8vrc5xif\\logs</code>"
      ],
      "text/plain": [
       "<IPython.core.display.HTML object>"
      ]
     },
     "metadata": {},
     "output_type": "display_data"
    },
    {
     "name": "stderr",
     "output_type": "stream",
     "text": [
      "wandb: Agent Starting Run: j25p17d8 with config:\n",
      "wandb: \tcell_type: gru\n",
      "wandb: \tchar_embedding_dim: 12\n",
      "wandb: \tdecoder_layers: 2\n",
      "wandb: \tdropout: 0.4\n",
      "wandb: \tencoder_layers: 2\n",
      "wandb: \thidden_state_dim: 256\n"
     ]
    },
    {
     "data": {
      "text/html": [
       "wandb version 0.19.11 is available!  To upgrade, please run:\n",
       " $ pip install wandb --upgrade"
      ],
      "text/plain": [
       "<IPython.core.display.HTML object>"
      ]
     },
     "metadata": {},
     "output_type": "display_data"
    },
    {
     "data": {
      "text/html": [
       "Tracking run with wandb version 0.16.6"
      ],
      "text/plain": [
       "<IPython.core.display.HTML object>"
      ]
     },
     "metadata": {},
     "output_type": "display_data"
    },
    {
     "data": {
      "text/html": [
       "Run data is saved locally in <code>D:\\DL\\wandb\\run-20250516_010819-j25p17d8</code>"
      ],
      "text/plain": [
       "<IPython.core.display.HTML object>"
      ]
     },
     "metadata": {},
     "output_type": "display_data"
    },
    {
     "data": {
      "text/html": [
       "Syncing run <strong><a href='https://wandb.ai/manoj_da24s018-iit-madras/Transliterator_Attention_HyperParameterSweep/runs/j25p17d8' target=\"_blank\">good-sweep-18</a></strong> to <a href='https://wandb.ai/manoj_da24s018-iit-madras/Transliterator_Attention_HyperParameterSweep' target=\"_blank\">Weights & Biases</a> (<a href='https://wandb.me/run' target=\"_blank\">docs</a>)<br/>Sweep page: <a href='https://wandb.ai/manoj_da24s018-iit-madras/Transliterator_Attention_HyperParameterSweep/sweeps/htfl2fri' target=\"_blank\">https://wandb.ai/manoj_da24s018-iit-madras/Transliterator_Attention_HyperParameterSweep/sweeps/htfl2fri</a>"
      ],
      "text/plain": [
       "<IPython.core.display.HTML object>"
      ]
     },
     "metadata": {},
     "output_type": "display_data"
    },
    {
     "data": {
      "text/html": [
       " View project at <a href='https://wandb.ai/manoj_da24s018-iit-madras/Transliterator_Attention_HyperParameterSweep' target=\"_blank\">https://wandb.ai/manoj_da24s018-iit-madras/Transliterator_Attention_HyperParameterSweep</a>"
      ],
      "text/plain": [
       "<IPython.core.display.HTML object>"
      ]
     },
     "metadata": {},
     "output_type": "display_data"
    },
    {
     "data": {
      "text/html": [
       " View sweep at <a href='https://wandb.ai/manoj_da24s018-iit-madras/Transliterator_Attention_HyperParameterSweep/sweeps/htfl2fri' target=\"_blank\">https://wandb.ai/manoj_da24s018-iit-madras/Transliterator_Attention_HyperParameterSweep/sweeps/htfl2fri</a>"
      ],
      "text/plain": [
       "<IPython.core.display.HTML object>"
      ]
     },
     "metadata": {},
     "output_type": "display_data"
    },
    {
     "data": {
      "text/html": [
       " View run at <a href='https://wandb.ai/manoj_da24s018-iit-madras/Transliterator_Attention_HyperParameterSweep/runs/j25p17d8' target=\"_blank\">https://wandb.ai/manoj_da24s018-iit-madras/Transliterator_Attention_HyperParameterSweep/runs/j25p17d8</a>"
      ],
      "text/plain": [
       "<IPython.core.display.HTML object>"
      ]
     },
     "metadata": {},
     "output_type": "display_data"
    },
    {
     "name": "stdout",
     "output_type": "stream",
     "text": [
      "Sweep Name:  RNN Layer Type: gru, Character_Embedding_dim: 12, Hidden_dim:256, Num_Encoder_Layer:2, Num_Decoder_Layer:2, Dropout:0.4\n",
      "Epoch 1/10\n",
      "1582/1582 [==============================] - ETA: 0s - loss: 0.8187 - accuracy: 0.7774\n",
      "Epoch 1: Word-level Accuracy = 0.2150\n"
     ]
    },
    {
     "name": "stderr",
     "output_type": "stream",
     "text": [
      "WARNING:absl:Found untraced functions such as gru_cell_layer_call_fn, gru_cell_layer_call_and_return_conditional_losses, gru_cell_1_layer_call_fn, gru_cell_1_layer_call_and_return_conditional_losses, gru_cell_2_layer_call_fn while saving (showing 5 of 6). These functions will not be directly callable after loading.\n"
     ]
    },
    {
     "name": "stdout",
     "output_type": "stream",
     "text": [
      "INFO:tensorflow:Assets written to: D:\\DL\\wandb\\run-20250516_010819-j25p17d8\\files\\model-best\\assets\n"
     ]
    },
    {
     "name": "stderr",
     "output_type": "stream",
     "text": [
      "INFO:tensorflow:Assets written to: D:\\DL\\wandb\\run-20250516_010819-j25p17d8\\files\\model-best\\assets\n",
      "wandb: Adding directory to artifact (D:\\DL\\wandb\\run-20250516_010819-j25p17d8\\files\\model-best)... Done. 0.0s\n"
     ]
    },
    {
     "name": "stdout",
     "output_type": "stream",
     "text": [
      "1582/1582 [==============================] - 29s 17ms/step - loss: 0.8187 - accuracy: 0.7774 - val_loss: 0.2226 - val_accuracy: 0.9379 - WordAccuracy: 0.2150\n",
      "Epoch 2/10\n",
      "1582/1582 [==============================] - ETA: 0s - loss: 0.2058 - accuracy: 0.9402\n",
      "Epoch 2: Word-level Accuracy = 0.3527\n"
     ]
    },
    {
     "name": "stderr",
     "output_type": "stream",
     "text": [
      "WARNING:absl:Found untraced functions such as gru_cell_layer_call_fn, gru_cell_layer_call_and_return_conditional_losses, gru_cell_1_layer_call_fn, gru_cell_1_layer_call_and_return_conditional_losses, gru_cell_2_layer_call_fn while saving (showing 5 of 6). These functions will not be directly callable after loading.\n"
     ]
    },
    {
     "name": "stdout",
     "output_type": "stream",
     "text": [
      "INFO:tensorflow:Assets written to: D:\\DL\\wandb\\run-20250516_010819-j25p17d8\\files\\model-best\\assets\n"
     ]
    },
    {
     "name": "stderr",
     "output_type": "stream",
     "text": [
      "INFO:tensorflow:Assets written to: D:\\DL\\wandb\\run-20250516_010819-j25p17d8\\files\\model-best\\assets\n",
      "wandb: Adding directory to artifact (D:\\DL\\wandb\\run-20250516_010819-j25p17d8\\files\\model-best)... Done. 0.0s\n"
     ]
    },
    {
     "name": "stdout",
     "output_type": "stream",
     "text": [
      "1582/1582 [==============================] - 25s 16ms/step - loss: 0.2058 - accuracy: 0.9402 - val_loss: 0.1354 - val_accuracy: 0.9583 - WordAccuracy: 0.3527\n",
      "Epoch 3/10\n",
      "1581/1582 [============================>.] - ETA: 0s - loss: 0.1443 - accuracy: 0.9568\n",
      "Epoch 3: Word-level Accuracy = 0.4026\n"
     ]
    },
    {
     "name": "stderr",
     "output_type": "stream",
     "text": [
      "WARNING:absl:Found untraced functions such as gru_cell_layer_call_fn, gru_cell_layer_call_and_return_conditional_losses, gru_cell_1_layer_call_fn, gru_cell_1_layer_call_and_return_conditional_losses, gru_cell_2_layer_call_fn while saving (showing 5 of 6). These functions will not be directly callable after loading.\n"
     ]
    },
    {
     "name": "stdout",
     "output_type": "stream",
     "text": [
      "INFO:tensorflow:Assets written to: D:\\DL\\wandb\\run-20250516_010819-j25p17d8\\files\\model-best\\assets\n"
     ]
    },
    {
     "name": "stderr",
     "output_type": "stream",
     "text": [
      "INFO:tensorflow:Assets written to: D:\\DL\\wandb\\run-20250516_010819-j25p17d8\\files\\model-best\\assets\n",
      "wandb: Adding directory to artifact (D:\\DL\\wandb\\run-20250516_010819-j25p17d8\\files\\model-best)... Done. 0.0s\n"
     ]
    },
    {
     "name": "stdout",
     "output_type": "stream",
     "text": [
      "1582/1582 [==============================] - 25s 16ms/step - loss: 0.1442 - accuracy: 0.9568 - val_loss: 0.1185 - val_accuracy: 0.9629 - WordAccuracy: 0.4026\n",
      "Epoch 4/10\n",
      "1581/1582 [============================>.] - ETA: 0s - loss: 0.1222 - accuracy: 0.9630\n",
      "Epoch 4: Word-level Accuracy = 0.4241\n"
     ]
    },
    {
     "name": "stderr",
     "output_type": "stream",
     "text": [
      "WARNING:absl:Found untraced functions such as gru_cell_layer_call_fn, gru_cell_layer_call_and_return_conditional_losses, gru_cell_1_layer_call_fn, gru_cell_1_layer_call_and_return_conditional_losses, gru_cell_2_layer_call_fn while saving (showing 5 of 6). These functions will not be directly callable after loading.\n"
     ]
    },
    {
     "name": "stdout",
     "output_type": "stream",
     "text": [
      "INFO:tensorflow:Assets written to: D:\\DL\\wandb\\run-20250516_010819-j25p17d8\\files\\model-best\\assets\n"
     ]
    },
    {
     "name": "stderr",
     "output_type": "stream",
     "text": [
      "INFO:tensorflow:Assets written to: D:\\DL\\wandb\\run-20250516_010819-j25p17d8\\files\\model-best\\assets\n",
      "wandb: Adding directory to artifact (D:\\DL\\wandb\\run-20250516_010819-j25p17d8\\files\\model-best)... Done. 0.0s\n"
     ]
    },
    {
     "name": "stdout",
     "output_type": "stream",
     "text": [
      "1582/1582 [==============================] - 24s 15ms/step - loss: 0.1222 - accuracy: 0.9630 - val_loss: 0.1106 - val_accuracy: 0.9656 - WordAccuracy: 0.4241\n",
      "Epoch 5/10\n",
      "1580/1582 [============================>.] - ETA: 0s - loss: 0.1091 - accuracy: 0.9668\n",
      "Epoch 5: Word-level Accuracy = 0.4424\n"
     ]
    },
    {
     "name": "stderr",
     "output_type": "stream",
     "text": [
      "WARNING:absl:Found untraced functions such as gru_cell_layer_call_fn, gru_cell_layer_call_and_return_conditional_losses, gru_cell_1_layer_call_fn, gru_cell_1_layer_call_and_return_conditional_losses, gru_cell_2_layer_call_fn while saving (showing 5 of 6). These functions will not be directly callable after loading.\n"
     ]
    },
    {
     "name": "stdout",
     "output_type": "stream",
     "text": [
      "INFO:tensorflow:Assets written to: D:\\DL\\wandb\\run-20250516_010819-j25p17d8\\files\\model-best\\assets\n"
     ]
    },
    {
     "name": "stderr",
     "output_type": "stream",
     "text": [
      "INFO:tensorflow:Assets written to: D:\\DL\\wandb\\run-20250516_010819-j25p17d8\\files\\model-best\\assets\n",
      "wandb: Adding directory to artifact (D:\\DL\\wandb\\run-20250516_010819-j25p17d8\\files\\model-best)... Done. 0.0s\n"
     ]
    },
    {
     "name": "stdout",
     "output_type": "stream",
     "text": [
      "1582/1582 [==============================] - 25s 16ms/step - loss: 0.1092 - accuracy: 0.9667 - val_loss: 0.1054 - val_accuracy: 0.9672 - WordAccuracy: 0.4424\n",
      "Epoch 6/10\n",
      "1580/1582 [============================>.] - ETA: 0s - loss: 0.0995 - accuracy: 0.9694\n",
      "Epoch 6: Word-level Accuracy = 0.4583\n"
     ]
    },
    {
     "name": "stderr",
     "output_type": "stream",
     "text": [
      "WARNING:absl:Found untraced functions such as gru_cell_layer_call_fn, gru_cell_layer_call_and_return_conditional_losses, gru_cell_1_layer_call_fn, gru_cell_1_layer_call_and_return_conditional_losses, gru_cell_2_layer_call_fn while saving (showing 5 of 6). These functions will not be directly callable after loading.\n"
     ]
    },
    {
     "name": "stdout",
     "output_type": "stream",
     "text": [
      "INFO:tensorflow:Assets written to: D:\\DL\\wandb\\run-20250516_010819-j25p17d8\\files\\model-best\\assets\n"
     ]
    },
    {
     "name": "stderr",
     "output_type": "stream",
     "text": [
      "INFO:tensorflow:Assets written to: D:\\DL\\wandb\\run-20250516_010819-j25p17d8\\files\\model-best\\assets\n",
      "wandb: Adding directory to artifact (D:\\DL\\wandb\\run-20250516_010819-j25p17d8\\files\\model-best)... Done. 0.0s\n"
     ]
    },
    {
     "name": "stdout",
     "output_type": "stream",
     "text": [
      "1582/1582 [==============================] - 24s 15ms/step - loss: 0.0995 - accuracy: 0.9694 - val_loss: 0.1013 - val_accuracy: 0.9689 - WordAccuracy: 0.4583\n",
      "Epoch 7/10\n",
      "1581/1582 [============================>.] - ETA: 0s - loss: 0.0935 - accuracy: 0.9716\n",
      "Epoch 7: Word-level Accuracy = 0.4721\n"
     ]
    },
    {
     "name": "stderr",
     "output_type": "stream",
     "text": [
      "WARNING:absl:Found untraced functions such as gru_cell_layer_call_fn, gru_cell_layer_call_and_return_conditional_losses, gru_cell_1_layer_call_fn, gru_cell_1_layer_call_and_return_conditional_losses, gru_cell_2_layer_call_fn while saving (showing 5 of 6). These functions will not be directly callable after loading.\n"
     ]
    },
    {
     "name": "stdout",
     "output_type": "stream",
     "text": [
      "INFO:tensorflow:Assets written to: D:\\DL\\wandb\\run-20250516_010819-j25p17d8\\files\\model-best\\assets\n"
     ]
    },
    {
     "name": "stderr",
     "output_type": "stream",
     "text": [
      "INFO:tensorflow:Assets written to: D:\\DL\\wandb\\run-20250516_010819-j25p17d8\\files\\model-best\\assets\n",
      "wandb: Adding directory to artifact (D:\\DL\\wandb\\run-20250516_010819-j25p17d8\\files\\model-best)... Done. 0.0s\n"
     ]
    },
    {
     "name": "stdout",
     "output_type": "stream",
     "text": [
      "1582/1582 [==============================] - 26s 16ms/step - loss: 0.0935 - accuracy: 0.9716 - val_loss: 0.0999 - val_accuracy: 0.9694 - WordAccuracy: 0.4721\n",
      "Epoch 8/10\n",
      "1578/1582 [============================>.] - ETA: 0s - loss: 0.0872 - accuracy: 0.9731\n",
      "Epoch 8: Word-level Accuracy = 0.4742\n"
     ]
    },
    {
     "name": "stderr",
     "output_type": "stream",
     "text": [
      "WARNING:absl:Found untraced functions such as gru_cell_layer_call_fn, gru_cell_layer_call_and_return_conditional_losses, gru_cell_1_layer_call_fn, gru_cell_1_layer_call_and_return_conditional_losses, gru_cell_2_layer_call_fn while saving (showing 5 of 6). These functions will not be directly callable after loading.\n"
     ]
    },
    {
     "name": "stdout",
     "output_type": "stream",
     "text": [
      "INFO:tensorflow:Assets written to: D:\\DL\\wandb\\run-20250516_010819-j25p17d8\\files\\model-best\\assets\n"
     ]
    },
    {
     "name": "stderr",
     "output_type": "stream",
     "text": [
      "INFO:tensorflow:Assets written to: D:\\DL\\wandb\\run-20250516_010819-j25p17d8\\files\\model-best\\assets\n",
      "wandb: Adding directory to artifact (D:\\DL\\wandb\\run-20250516_010819-j25p17d8\\files\\model-best)... Done. 0.0s\n"
     ]
    },
    {
     "name": "stdout",
     "output_type": "stream",
     "text": [
      "1582/1582 [==============================] - 26s 16ms/step - loss: 0.0872 - accuracy: 0.9731 - val_loss: 0.0993 - val_accuracy: 0.9696 - WordAccuracy: 0.4742\n",
      "Epoch 9/10\n",
      "1580/1582 [============================>.] - ETA: 0s - loss: 0.0827 - accuracy: 0.9745\n",
      "Epoch 9: Word-level Accuracy = 0.4907\n"
     ]
    },
    {
     "name": "stderr",
     "output_type": "stream",
     "text": [
      "WARNING:absl:Found untraced functions such as gru_cell_layer_call_fn, gru_cell_layer_call_and_return_conditional_losses, gru_cell_1_layer_call_fn, gru_cell_1_layer_call_and_return_conditional_losses, gru_cell_2_layer_call_fn while saving (showing 5 of 6). These functions will not be directly callable after loading.\n"
     ]
    },
    {
     "name": "stdout",
     "output_type": "stream",
     "text": [
      "INFO:tensorflow:Assets written to: D:\\DL\\wandb\\run-20250516_010819-j25p17d8\\files\\model-best\\assets\n"
     ]
    },
    {
     "name": "stderr",
     "output_type": "stream",
     "text": [
      "INFO:tensorflow:Assets written to: D:\\DL\\wandb\\run-20250516_010819-j25p17d8\\files\\model-best\\assets\n",
      "wandb: Adding directory to artifact (D:\\DL\\wandb\\run-20250516_010819-j25p17d8\\files\\model-best)... Done. 0.0s\n"
     ]
    },
    {
     "name": "stdout",
     "output_type": "stream",
     "text": [
      "1582/1582 [==============================] - 25s 16ms/step - loss: 0.0827 - accuracy: 0.9745 - val_loss: 0.0962 - val_accuracy: 0.9707 - WordAccuracy: 0.4907\n",
      "Epoch 10/10\n",
      "1581/1582 [============================>.] - ETA: 0s - loss: 0.0787 - accuracy: 0.9757\n",
      "Epoch 10: Word-level Accuracy = 0.4913\n"
     ]
    },
    {
     "name": "stderr",
     "output_type": "stream",
     "text": [
      "WARNING:absl:Found untraced functions such as gru_cell_layer_call_fn, gru_cell_layer_call_and_return_conditional_losses, gru_cell_1_layer_call_fn, gru_cell_1_layer_call_and_return_conditional_losses, gru_cell_2_layer_call_fn while saving (showing 5 of 6). These functions will not be directly callable after loading.\n"
     ]
    },
    {
     "name": "stdout",
     "output_type": "stream",
     "text": [
      "INFO:tensorflow:Assets written to: D:\\DL\\wandb\\run-20250516_010819-j25p17d8\\files\\model-best\\assets\n"
     ]
    },
    {
     "name": "stderr",
     "output_type": "stream",
     "text": [
      "INFO:tensorflow:Assets written to: D:\\DL\\wandb\\run-20250516_010819-j25p17d8\\files\\model-best\\assets\n",
      "wandb: Adding directory to artifact (D:\\DL\\wandb\\run-20250516_010819-j25p17d8\\files\\model-best)... Done. 0.0s\n"
     ]
    },
    {
     "name": "stdout",
     "output_type": "stream",
     "text": [
      "1582/1582 [==============================] - 26s 16ms/step - loss: 0.0787 - accuracy: 0.9757 - val_loss: 0.0947 - val_accuracy: 0.9715 - WordAccuracy: 0.4913\n"
     ]
    },
    {
     "data": {
      "application/vnd.jupyter.widget-view+json": {
       "model_id": "5e134282488f4db08241d9f86a7872d7",
       "version_major": 2,
       "version_minor": 0
      },
      "text/plain": [
       "VBox(children=(Label(value='115.889 MB of 115.889 MB uploaded (0.247 MB deduped)\\r'), FloatProgress(value=1.0,…"
      ]
     },
     "metadata": {},
     "output_type": "display_data"
    },
    {
     "data": {
      "text/html": [
       "<style>\n",
       "    table.wandb td:nth-child(1) { padding: 0 10px; text-align: left ; width: auto;} td:nth-child(2) {text-align: left ; width: 100%}\n",
       "    .wandb-row { display: flex; flex-direction: row; flex-wrap: wrap; justify-content: flex-start; width: 100% }\n",
       "    .wandb-col { display: flex; flex-direction: column; flex-basis: 100%; flex: 1; padding: 10px; }\n",
       "    </style>\n",
       "<div class=\"wandb-row\"><div class=\"wandb-col\"><h3>Run history:</h3><br/><table class=\"wandb\"><tr><td>Val_WordAccuracy</td><td>▁▄▆▆▇▇████</td></tr><tr><td>WordAccuracy</td><td>▁▄▆▆▇▇████</td></tr><tr><td>accuracy</td><td>▁▇▇███████</td></tr><tr><td>epoch</td><td>▂▁▂▂▃▂▄▃▅▄▅▅▆▅▇▆▇▇█▇</td></tr><tr><td>loss</td><td>█▂▂▁▁▁▁▁▁▁</td></tr><tr><td>val_accuracy</td><td>▁▅▆▇▇▇████</td></tr><tr><td>val_loss</td><td>█▃▂▂▂▁▁▁▁▁</td></tr></table><br/></div><div class=\"wandb-col\"><h3>Run summary:</h3><br/><table class=\"wandb\"><tr><td>Val_WordAccuracy</td><td>0.49135</td></tr><tr><td>WordAccuracy</td><td>0.49135</td></tr><tr><td>accuracy</td><td>0.97573</td></tr><tr><td>best_epoch</td><td>9</td></tr><tr><td>best_val_loss</td><td>0.09471</td></tr><tr><td>epoch</td><td>9</td></tr><tr><td>loss</td><td>0.07867</td></tr><tr><td>val_accuracy</td><td>0.97145</td></tr><tr><td>val_loss</td><td>0.09471</td></tr></table><br/></div></div>"
      ],
      "text/plain": [
       "<IPython.core.display.HTML object>"
      ]
     },
     "metadata": {},
     "output_type": "display_data"
    },
    {
     "data": {
      "text/html": [
       " View run <strong style=\"color:#cdcd00\">good-sweep-18</strong> at: <a href='https://wandb.ai/manoj_da24s018-iit-madras/Transliterator_Attention_HyperParameterSweep/runs/j25p17d8' target=\"_blank\">https://wandb.ai/manoj_da24s018-iit-madras/Transliterator_Attention_HyperParameterSweep/runs/j25p17d8</a><br/> View project at: <a href='https://wandb.ai/manoj_da24s018-iit-madras/Transliterator_Attention_HyperParameterSweep' target=\"_blank\">https://wandb.ai/manoj_da24s018-iit-madras/Transliterator_Attention_HyperParameterSweep</a><br/>Synced 5 W&B file(s), 1 media file(s), 40 artifact file(s) and 1 other file(s)"
      ],
      "text/plain": [
       "<IPython.core.display.HTML object>"
      ]
     },
     "metadata": {},
     "output_type": "display_data"
    },
    {
     "data": {
      "text/html": [
       "Find logs at: <code>.\\wandb\\run-20250516_010819-j25p17d8\\logs</code>"
      ],
      "text/plain": [
       "<IPython.core.display.HTML object>"
      ]
     },
     "metadata": {},
     "output_type": "display_data"
    },
    {
     "name": "stderr",
     "output_type": "stream",
     "text": [
      "wandb: Agent Starting Run: wb8zf5wo with config:\n",
      "wandb: \tcell_type: lstm\n",
      "wandb: \tchar_embedding_dim: 32\n",
      "wandb: \tdecoder_layers: 2\n",
      "wandb: \tdropout: 0.2\n",
      "wandb: \tencoder_layers: 1\n",
      "wandb: \thidden_state_dim: 512\n"
     ]
    },
    {
     "data": {
      "text/html": [
       "wandb version 0.19.11 is available!  To upgrade, please run:\n",
       " $ pip install wandb --upgrade"
      ],
      "text/plain": [
       "<IPython.core.display.HTML object>"
      ]
     },
     "metadata": {},
     "output_type": "display_data"
    },
    {
     "data": {
      "text/html": [
       "Tracking run with wandb version 0.16.6"
      ],
      "text/plain": [
       "<IPython.core.display.HTML object>"
      ]
     },
     "metadata": {},
     "output_type": "display_data"
    },
    {
     "data": {
      "text/html": [
       "Run data is saved locally in <code>D:\\DL\\wandb\\run-20250516_011255-wb8zf5wo</code>"
      ],
      "text/plain": [
       "<IPython.core.display.HTML object>"
      ]
     },
     "metadata": {},
     "output_type": "display_data"
    },
    {
     "data": {
      "text/html": [
       "Syncing run <strong><a href='https://wandb.ai/manoj_da24s018-iit-madras/Transliterator_Attention_HyperParameterSweep/runs/wb8zf5wo' target=\"_blank\">fanciful-sweep-19</a></strong> to <a href='https://wandb.ai/manoj_da24s018-iit-madras/Transliterator_Attention_HyperParameterSweep' target=\"_blank\">Weights & Biases</a> (<a href='https://wandb.me/run' target=\"_blank\">docs</a>)<br/>Sweep page: <a href='https://wandb.ai/manoj_da24s018-iit-madras/Transliterator_Attention_HyperParameterSweep/sweeps/htfl2fri' target=\"_blank\">https://wandb.ai/manoj_da24s018-iit-madras/Transliterator_Attention_HyperParameterSweep/sweeps/htfl2fri</a>"
      ],
      "text/plain": [
       "<IPython.core.display.HTML object>"
      ]
     },
     "metadata": {},
     "output_type": "display_data"
    },
    {
     "data": {
      "text/html": [
       " View project at <a href='https://wandb.ai/manoj_da24s018-iit-madras/Transliterator_Attention_HyperParameterSweep' target=\"_blank\">https://wandb.ai/manoj_da24s018-iit-madras/Transliterator_Attention_HyperParameterSweep</a>"
      ],
      "text/plain": [
       "<IPython.core.display.HTML object>"
      ]
     },
     "metadata": {},
     "output_type": "display_data"
    },
    {
     "data": {
      "text/html": [
       " View sweep at <a href='https://wandb.ai/manoj_da24s018-iit-madras/Transliterator_Attention_HyperParameterSweep/sweeps/htfl2fri' target=\"_blank\">https://wandb.ai/manoj_da24s018-iit-madras/Transliterator_Attention_HyperParameterSweep/sweeps/htfl2fri</a>"
      ],
      "text/plain": [
       "<IPython.core.display.HTML object>"
      ]
     },
     "metadata": {},
     "output_type": "display_data"
    },
    {
     "data": {
      "text/html": [
       " View run at <a href='https://wandb.ai/manoj_da24s018-iit-madras/Transliterator_Attention_HyperParameterSweep/runs/wb8zf5wo' target=\"_blank\">https://wandb.ai/manoj_da24s018-iit-madras/Transliterator_Attention_HyperParameterSweep/runs/wb8zf5wo</a>"
      ],
      "text/plain": [
       "<IPython.core.display.HTML object>"
      ]
     },
     "metadata": {},
     "output_type": "display_data"
    },
    {
     "name": "stdout",
     "output_type": "stream",
     "text": [
      "Sweep Name:  RNN Layer Type: lstm, Character_Embedding_dim: 32, Hidden_dim:512, Num_Encoder_Layer:1, Num_Decoder_Layer:2, Dropout:0.2\n",
      "Epoch 1/10\n",
      "1577/1582 [============================>.] - ETA: 0s - loss: 0.8848 - accuracy: 0.7565\n",
      "Epoch 1: Word-level Accuracy = 0.0006\n"
     ]
    },
    {
     "name": "stderr",
     "output_type": "stream",
     "text": [
      "WARNING:absl:Found untraced functions such as lstm_cell_layer_call_fn, lstm_cell_layer_call_and_return_conditional_losses, lstm_cell_1_layer_call_fn, lstm_cell_1_layer_call_and_return_conditional_losses while saving (showing 4 of 4). These functions will not be directly callable after loading.\n"
     ]
    },
    {
     "name": "stdout",
     "output_type": "stream",
     "text": [
      "INFO:tensorflow:Assets written to: D:\\DL\\wandb\\run-20250516_011255-wb8zf5wo\\files\\model-best\\assets\n"
     ]
    },
    {
     "name": "stderr",
     "output_type": "stream",
     "text": [
      "INFO:tensorflow:Assets written to: D:\\DL\\wandb\\run-20250516_011255-wb8zf5wo\\files\\model-best\\assets\n",
      "wandb: Adding directory to artifact (D:\\DL\\wandb\\run-20250516_011255-wb8zf5wo\\files\\model-best)... Done. 0.1s\n"
     ]
    },
    {
     "name": "stdout",
     "output_type": "stream",
     "text": [
      "1582/1582 [==============================] - 24s 14ms/step - loss: 0.8840 - accuracy: 0.7566 - val_loss: 0.6306 - val_accuracy: 0.8183 - WordAccuracy: 5.9678e-04\n",
      "Epoch 2/10\n",
      "1576/1582 [============================>.] - ETA: 0s - loss: 0.4378 - accuracy: 0.8706\n",
      "Epoch 2: Word-level Accuracy = 0.1993\n"
     ]
    },
    {
     "name": "stderr",
     "output_type": "stream",
     "text": [
      "WARNING:absl:Found untraced functions such as lstm_cell_layer_call_fn, lstm_cell_layer_call_and_return_conditional_losses, lstm_cell_1_layer_call_fn, lstm_cell_1_layer_call_and_return_conditional_losses while saving (showing 4 of 4). These functions will not be directly callable after loading.\n"
     ]
    },
    {
     "name": "stdout",
     "output_type": "stream",
     "text": [
      "INFO:tensorflow:Assets written to: D:\\DL\\wandb\\run-20250516_011255-wb8zf5wo\\files\\model-best\\assets\n"
     ]
    },
    {
     "name": "stderr",
     "output_type": "stream",
     "text": [
      "INFO:tensorflow:Assets written to: D:\\DL\\wandb\\run-20250516_011255-wb8zf5wo\\files\\model-best\\assets\n",
      "wandb: Adding directory to artifact (D:\\DL\\wandb\\run-20250516_011255-wb8zf5wo\\files\\model-best)... Done. 0.1s\n"
     ]
    },
    {
     "name": "stdout",
     "output_type": "stream",
     "text": [
      "1582/1582 [==============================] - 21s 13ms/step - loss: 0.4369 - accuracy: 0.8708 - val_loss: 0.2137 - val_accuracy: 0.9364 - WordAccuracy: 0.1993\n",
      "Epoch 3/10\n",
      "1577/1582 [============================>.] - ETA: 0s - loss: 0.1186 - accuracy: 0.9645\n",
      "Epoch 3: Word-level Accuracy = 0.4494\n"
     ]
    },
    {
     "name": "stderr",
     "output_type": "stream",
     "text": [
      "WARNING:absl:Found untraced functions such as lstm_cell_layer_call_fn, lstm_cell_layer_call_and_return_conditional_losses, lstm_cell_1_layer_call_fn, lstm_cell_1_layer_call_and_return_conditional_losses while saving (showing 4 of 4). These functions will not be directly callable after loading.\n"
     ]
    },
    {
     "name": "stdout",
     "output_type": "stream",
     "text": [
      "INFO:tensorflow:Assets written to: D:\\DL\\wandb\\run-20250516_011255-wb8zf5wo\\files\\model-best\\assets\n"
     ]
    },
    {
     "name": "stderr",
     "output_type": "stream",
     "text": [
      "INFO:tensorflow:Assets written to: D:\\DL\\wandb\\run-20250516_011255-wb8zf5wo\\files\\model-best\\assets\n",
      "wandb: Adding directory to artifact (D:\\DL\\wandb\\run-20250516_011255-wb8zf5wo\\files\\model-best)... Done. 0.1s\n"
     ]
    },
    {
     "name": "stdout",
     "output_type": "stream",
     "text": [
      "1582/1582 [==============================] - 20s 12ms/step - loss: 0.1186 - accuracy: 0.9645 - val_loss: 0.1042 - val_accuracy: 0.9674 - WordAccuracy: 0.4494\n",
      "Epoch 4/10\n",
      "1578/1582 [============================>.] - ETA: 0s - loss: 0.0720 - accuracy: 0.9782\n",
      "Epoch 4: Word-level Accuracy = 0.4864\n"
     ]
    },
    {
     "name": "stderr",
     "output_type": "stream",
     "text": [
      "WARNING:absl:Found untraced functions such as lstm_cell_layer_call_fn, lstm_cell_layer_call_and_return_conditional_losses, lstm_cell_1_layer_call_fn, lstm_cell_1_layer_call_and_return_conditional_losses while saving (showing 4 of 4). These functions will not be directly callable after loading.\n"
     ]
    },
    {
     "name": "stdout",
     "output_type": "stream",
     "text": [
      "INFO:tensorflow:Assets written to: D:\\DL\\wandb\\run-20250516_011255-wb8zf5wo\\files\\model-best\\assets\n"
     ]
    },
    {
     "name": "stderr",
     "output_type": "stream",
     "text": [
      "INFO:tensorflow:Assets written to: D:\\DL\\wandb\\run-20250516_011255-wb8zf5wo\\files\\model-best\\assets\n",
      "wandb: Adding directory to artifact (D:\\DL\\wandb\\run-20250516_011255-wb8zf5wo\\files\\model-best)... Done. 0.1s\n"
     ]
    },
    {
     "name": "stdout",
     "output_type": "stream",
     "text": [
      "1582/1582 [==============================] - 19s 12ms/step - loss: 0.0720 - accuracy: 0.9782 - val_loss: 0.0922 - val_accuracy: 0.9710 - WordAccuracy: 0.4864\n",
      "Epoch 5/10\n",
      "1582/1582 [==============================] - ETA: 0s - loss: 0.0548 - accuracy: 0.9835\n",
      "Epoch 5: Word-level Accuracy = 0.5027\n"
     ]
    },
    {
     "name": "stderr",
     "output_type": "stream",
     "text": [
      "WARNING:absl:Found untraced functions such as lstm_cell_layer_call_fn, lstm_cell_layer_call_and_return_conditional_losses, lstm_cell_1_layer_call_fn, lstm_cell_1_layer_call_and_return_conditional_losses while saving (showing 4 of 4). These functions will not be directly callable after loading.\n"
     ]
    },
    {
     "name": "stdout",
     "output_type": "stream",
     "text": [
      "INFO:tensorflow:Assets written to: D:\\DL\\wandb\\run-20250516_011255-wb8zf5wo\\files\\model-best\\assets\n"
     ]
    },
    {
     "name": "stderr",
     "output_type": "stream",
     "text": [
      "INFO:tensorflow:Assets written to: D:\\DL\\wandb\\run-20250516_011255-wb8zf5wo\\files\\model-best\\assets\n",
      "wandb: Adding directory to artifact (D:\\DL\\wandb\\run-20250516_011255-wb8zf5wo\\files\\model-best)... Done. 0.1s\n"
     ]
    },
    {
     "name": "stdout",
     "output_type": "stream",
     "text": [
      "1582/1582 [==============================] - 20s 13ms/step - loss: 0.0548 - accuracy: 0.9835 - val_loss: 0.0906 - val_accuracy: 0.9719 - WordAccuracy: 0.5027\n",
      "Epoch 6/10\n",
      "1579/1582 [============================>.] - ETA: 0s - loss: 0.0437 - accuracy: 0.9867\n",
      "Epoch 6: Word-level Accuracy = 0.4907\n",
      "1582/1582 [==============================] - 15s 9ms/step - loss: 0.0437 - accuracy: 0.9867 - val_loss: 0.0919 - val_accuracy: 0.9722 - WordAccuracy: 0.4907\n",
      "Epoch 7/10\n",
      "1582/1582 [==============================] - ETA: 0s - loss: 0.0360 - accuracy: 0.9890\n",
      "Epoch 7: Word-level Accuracy = 0.5250\n"
     ]
    },
    {
     "name": "stderr",
     "output_type": "stream",
     "text": [
      "WARNING:absl:Found untraced functions such as lstm_cell_layer_call_fn, lstm_cell_layer_call_and_return_conditional_losses, lstm_cell_1_layer_call_fn, lstm_cell_1_layer_call_and_return_conditional_losses while saving (showing 4 of 4). These functions will not be directly callable after loading.\n"
     ]
    },
    {
     "name": "stdout",
     "output_type": "stream",
     "text": [
      "INFO:tensorflow:Assets written to: D:\\DL\\wandb\\run-20250516_011255-wb8zf5wo\\files\\model-best\\assets\n"
     ]
    },
    {
     "name": "stderr",
     "output_type": "stream",
     "text": [
      "INFO:tensorflow:Assets written to: D:\\DL\\wandb\\run-20250516_011255-wb8zf5wo\\files\\model-best\\assets\n",
      "wandb: Adding directory to artifact (D:\\DL\\wandb\\run-20250516_011255-wb8zf5wo\\files\\model-best)... Done. 0.1s\n"
     ]
    },
    {
     "name": "stdout",
     "output_type": "stream",
     "text": [
      "1582/1582 [==============================] - 20s 13ms/step - loss: 0.0360 - accuracy: 0.9890 - val_loss: 0.0906 - val_accuracy: 0.9739 - WordAccuracy: 0.5250\n",
      "Epoch 8/10\n",
      "1581/1582 [============================>.] - ETA: 0s - loss: 0.0302 - accuracy: 0.9907\n",
      "Epoch 8: Word-level Accuracy = 0.5419\n"
     ]
    },
    {
     "name": "stderr",
     "output_type": "stream",
     "text": [
      "WARNING:absl:Found untraced functions such as lstm_cell_layer_call_fn, lstm_cell_layer_call_and_return_conditional_losses, lstm_cell_1_layer_call_fn, lstm_cell_1_layer_call_and_return_conditional_losses while saving (showing 4 of 4). These functions will not be directly callable after loading.\n"
     ]
    },
    {
     "name": "stdout",
     "output_type": "stream",
     "text": [
      "INFO:tensorflow:Assets written to: D:\\DL\\wandb\\run-20250516_011255-wb8zf5wo\\files\\model-best\\assets\n"
     ]
    },
    {
     "name": "stderr",
     "output_type": "stream",
     "text": [
      "INFO:tensorflow:Assets written to: D:\\DL\\wandb\\run-20250516_011255-wb8zf5wo\\files\\model-best\\assets\n",
      "wandb: Adding directory to artifact (D:\\DL\\wandb\\run-20250516_011255-wb8zf5wo\\files\\model-best)... Done. 0.0s\n"
     ]
    },
    {
     "name": "stdout",
     "output_type": "stream",
     "text": [
      "1582/1582 [==============================] - 20s 13ms/step - loss: 0.0302 - accuracy: 0.9907 - val_loss: 0.0892 - val_accuracy: 0.9750 - WordAccuracy: 0.5419\n",
      "Epoch 9/10\n",
      "1581/1582 [============================>.] - ETA: 0s - loss: 0.0259 - accuracy: 0.9920\n",
      "Epoch 9: Word-level Accuracy = 0.5192\n",
      "1582/1582 [==============================] - 15s 9ms/step - loss: 0.0259 - accuracy: 0.9920 - val_loss: 0.0921 - val_accuracy: 0.9740 - WordAccuracy: 0.5192\n",
      "Epoch 10/10\n",
      "1581/1582 [============================>.] - ETA: 0s - loss: 0.0219 - accuracy: 0.9932\n",
      "Epoch 10: Word-level Accuracy = 0.5357\n",
      "1582/1582 [==============================] - 14s 9ms/step - loss: 0.0218 - accuracy: 0.9932 - val_loss: 0.0958 - val_accuracy: 0.9750 - WordAccuracy: 0.5357\n"
     ]
    },
    {
     "data": {
      "application/vnd.jupyter.widget-view+json": {
       "model_id": "8aa1964306ef43acbb8b7e28f8add7c5",
       "version_major": 2,
       "version_minor": 0
      },
      "text/plain": [
       "VBox(children=(Label(value='195.086 MB of 195.086 MB uploaded (0.139 MB deduped)\\r'), FloatProgress(value=1.0,…"
      ]
     },
     "metadata": {},
     "output_type": "display_data"
    },
    {
     "data": {
      "text/html": [
       "<style>\n",
       "    table.wandb td:nth-child(1) { padding: 0 10px; text-align: left ; width: auto;} td:nth-child(2) {text-align: left ; width: 100%}\n",
       "    .wandb-row { display: flex; flex-direction: row; flex-wrap: wrap; justify-content: flex-start; width: 100% }\n",
       "    .wandb-col { display: flex; flex-direction: column; flex-basis: 100%; flex: 1; padding: 10px; }\n",
       "    </style>\n",
       "<div class=\"wandb-row\"><div class=\"wandb-col\"><h3>Run history:</h3><br/><table class=\"wandb\"><tr><td>Val_WordAccuracy</td><td>▁▄▇▇▇▇████</td></tr><tr><td>WordAccuracy</td><td>▁▄▇▇▇▇████</td></tr><tr><td>accuracy</td><td>▁▄▇███████</td></tr><tr><td>epoch</td><td>▂▁▂▂▃▂▄▃▅▄▅▅▆▅▇▆▇▇█▇</td></tr><tr><td>loss</td><td>█▄▂▁▁▁▁▁▁▁</td></tr><tr><td>val_accuracy</td><td>▁▆████████</td></tr><tr><td>val_loss</td><td>█▃▁▁▁▁▁▁▁▁</td></tr></table><br/></div><div class=\"wandb-col\"><h3>Run summary:</h3><br/><table class=\"wandb\"><tr><td>Val_WordAccuracy</td><td>0.53571</td></tr><tr><td>WordAccuracy</td><td>0.53571</td></tr><tr><td>accuracy</td><td>0.99321</td></tr><tr><td>best_epoch</td><td>7</td></tr><tr><td>best_val_loss</td><td>0.08923</td></tr><tr><td>epoch</td><td>9</td></tr><tr><td>loss</td><td>0.02185</td></tr><tr><td>val_accuracy</td><td>0.97503</td></tr><tr><td>val_loss</td><td>0.09579</td></tr></table><br/></div></div>"
      ],
      "text/plain": [
       "<IPython.core.display.HTML object>"
      ]
     },
     "metadata": {},
     "output_type": "display_data"
    },
    {
     "data": {
      "text/html": [
       " View run <strong style=\"color:#cdcd00\">fanciful-sweep-19</strong> at: <a href='https://wandb.ai/manoj_da24s018-iit-madras/Transliterator_Attention_HyperParameterSweep/runs/wb8zf5wo' target=\"_blank\">https://wandb.ai/manoj_da24s018-iit-madras/Transliterator_Attention_HyperParameterSweep/runs/wb8zf5wo</a><br/> View project at: <a href='https://wandb.ai/manoj_da24s018-iit-madras/Transliterator_Attention_HyperParameterSweep' target=\"_blank\">https://wandb.ai/manoj_da24s018-iit-madras/Transliterator_Attention_HyperParameterSweep</a><br/>Synced 5 W&B file(s), 1 media file(s), 28 artifact file(s) and 1 other file(s)"
      ],
      "text/plain": [
       "<IPython.core.display.HTML object>"
      ]
     },
     "metadata": {},
     "output_type": "display_data"
    },
    {
     "data": {
      "text/html": [
       "Find logs at: <code>.\\wandb\\run-20250516_011255-wb8zf5wo\\logs</code>"
      ],
      "text/plain": [
       "<IPython.core.display.HTML object>"
      ]
     },
     "metadata": {},
     "output_type": "display_data"
    },
    {
     "name": "stderr",
     "output_type": "stream",
     "text": [
      "wandb: Agent Starting Run: q6q5ygkz with config:\n",
      "wandb: \tcell_type: rnn\n",
      "wandb: \tchar_embedding_dim: 16\n",
      "wandb: \tdecoder_layers: 1\n",
      "wandb: \tdropout: 0.3\n",
      "wandb: \tencoder_layers: 1\n",
      "wandb: \thidden_state_dim: 128\n"
     ]
    },
    {
     "data": {
      "text/html": [
       "wandb version 0.19.11 is available!  To upgrade, please run:\n",
       " $ pip install wandb --upgrade"
      ],
      "text/plain": [
       "<IPython.core.display.HTML object>"
      ]
     },
     "metadata": {},
     "output_type": "display_data"
    },
    {
     "data": {
      "text/html": [
       "Tracking run with wandb version 0.16.6"
      ],
      "text/plain": [
       "<IPython.core.display.HTML object>"
      ]
     },
     "metadata": {},
     "output_type": "display_data"
    },
    {
     "data": {
      "text/html": [
       "Run data is saved locally in <code>D:\\DL\\wandb\\run-20250516_011616-q6q5ygkz</code>"
      ],
      "text/plain": [
       "<IPython.core.display.HTML object>"
      ]
     },
     "metadata": {},
     "output_type": "display_data"
    },
    {
     "data": {
      "text/html": [
       "Syncing run <strong><a href='https://wandb.ai/manoj_da24s018-iit-madras/Transliterator_Attention_HyperParameterSweep/runs/q6q5ygkz' target=\"_blank\">solar-sweep-20</a></strong> to <a href='https://wandb.ai/manoj_da24s018-iit-madras/Transliterator_Attention_HyperParameterSweep' target=\"_blank\">Weights & Biases</a> (<a href='https://wandb.me/run' target=\"_blank\">docs</a>)<br/>Sweep page: <a href='https://wandb.ai/manoj_da24s018-iit-madras/Transliterator_Attention_HyperParameterSweep/sweeps/htfl2fri' target=\"_blank\">https://wandb.ai/manoj_da24s018-iit-madras/Transliterator_Attention_HyperParameterSweep/sweeps/htfl2fri</a>"
      ],
      "text/plain": [
       "<IPython.core.display.HTML object>"
      ]
     },
     "metadata": {},
     "output_type": "display_data"
    },
    {
     "data": {
      "text/html": [
       " View project at <a href='https://wandb.ai/manoj_da24s018-iit-madras/Transliterator_Attention_HyperParameterSweep' target=\"_blank\">https://wandb.ai/manoj_da24s018-iit-madras/Transliterator_Attention_HyperParameterSweep</a>"
      ],
      "text/plain": [
       "<IPython.core.display.HTML object>"
      ]
     },
     "metadata": {},
     "output_type": "display_data"
    },
    {
     "data": {
      "text/html": [
       " View sweep at <a href='https://wandb.ai/manoj_da24s018-iit-madras/Transliterator_Attention_HyperParameterSweep/sweeps/htfl2fri' target=\"_blank\">https://wandb.ai/manoj_da24s018-iit-madras/Transliterator_Attention_HyperParameterSweep/sweeps/htfl2fri</a>"
      ],
      "text/plain": [
       "<IPython.core.display.HTML object>"
      ]
     },
     "metadata": {},
     "output_type": "display_data"
    },
    {
     "data": {
      "text/html": [
       " View run at <a href='https://wandb.ai/manoj_da24s018-iit-madras/Transliterator_Attention_HyperParameterSweep/runs/q6q5ygkz' target=\"_blank\">https://wandb.ai/manoj_da24s018-iit-madras/Transliterator_Attention_HyperParameterSweep/runs/q6q5ygkz</a>"
      ],
      "text/plain": [
       "<IPython.core.display.HTML object>"
      ]
     },
     "metadata": {},
     "output_type": "display_data"
    },
    {
     "name": "stdout",
     "output_type": "stream",
     "text": [
      "Sweep Name:  RNN Layer Type: rnn, Character_Embedding_dim: 16, Hidden_dim:128, Num_Encoder_Layer:1, Num_Decoder_Layer:1, Dropout:0.3\n",
      "Epoch 1/10\n",
      "1582/1582 [==============================] - ETA: 0s - loss: 0.7270 - accuracy: 0.8049\n",
      "Epoch 1: Word-level Accuracy = 0.2174\n",
      "INFO:tensorflow:Assets written to: D:\\DL\\wandb\\run-20250516_011616-q6q5ygkz\\files\\model-best\\assets\n"
     ]
    },
    {
     "name": "stderr",
     "output_type": "stream",
     "text": [
      "INFO:tensorflow:Assets written to: D:\\DL\\wandb\\run-20250516_011616-q6q5ygkz\\files\\model-best\\assets\n",
      "wandb: Adding directory to artifact (D:\\DL\\wandb\\run-20250516_011616-q6q5ygkz\\files\\model-best)... Done. 0.0s\n"
     ]
    },
    {
     "name": "stdout",
     "output_type": "stream",
     "text": [
      "1582/1582 [==============================] - 71s 44ms/step - loss: 0.7270 - accuracy: 0.8049 - val_loss: 0.2101 - val_accuracy: 0.9412 - WordAccuracy: 0.2174\n",
      "Epoch 2/10\n",
      "1582/1582 [==============================] - ETA: 0s - loss: 0.2236 - accuracy: 0.9375\n",
      "Epoch 2: Word-level Accuracy = 0.3418\n",
      "INFO:tensorflow:Assets written to: D:\\DL\\wandb\\run-20250516_011616-q6q5ygkz\\files\\model-best\\assets\n"
     ]
    },
    {
     "name": "stderr",
     "output_type": "stream",
     "text": [
      "INFO:tensorflow:Assets written to: D:\\DL\\wandb\\run-20250516_011616-q6q5ygkz\\files\\model-best\\assets\n",
      "wandb: Adding directory to artifact (D:\\DL\\wandb\\run-20250516_011616-q6q5ygkz\\files\\model-best)... Done. 0.0s\n"
     ]
    },
    {
     "name": "stdout",
     "output_type": "stream",
     "text": [
      "1582/1582 [==============================] - 71s 45ms/step - loss: 0.2236 - accuracy: 0.9375 - val_loss: 0.1448 - val_accuracy: 0.9572 - WordAccuracy: 0.3418\n",
      "Epoch 3/10\n",
      "1581/1582 [============================>.] - ETA: 0s - loss: 0.1764 - accuracy: 0.9495\n",
      "Epoch 3: Word-level Accuracy = 0.3702\n",
      "INFO:tensorflow:Assets written to: D:\\DL\\wandb\\run-20250516_011616-q6q5ygkz\\files\\model-best\\assets\n"
     ]
    },
    {
     "name": "stderr",
     "output_type": "stream",
     "text": [
      "INFO:tensorflow:Assets written to: D:\\DL\\wandb\\run-20250516_011616-q6q5ygkz\\files\\model-best\\assets\n",
      "wandb: Adding directory to artifact (D:\\DL\\wandb\\run-20250516_011616-q6q5ygkz\\files\\model-best)... Done. 0.0s\n"
     ]
    },
    {
     "name": "stdout",
     "output_type": "stream",
     "text": [
      "1582/1582 [==============================] - 73s 46ms/step - loss: 0.1764 - accuracy: 0.9495 - val_loss: 0.1312 - val_accuracy: 0.9603 - WordAccuracy: 0.3702\n",
      "Epoch 4/10\n",
      "1582/1582 [==============================] - ETA: 0s - loss: 0.1575 - accuracy: 0.9541\n",
      "Epoch 4: Word-level Accuracy = 0.3698\n",
      "INFO:tensorflow:Assets written to: D:\\DL\\wandb\\run-20250516_011616-q6q5ygkz\\files\\model-best\\assets\n"
     ]
    },
    {
     "name": "stderr",
     "output_type": "stream",
     "text": [
      "INFO:tensorflow:Assets written to: D:\\DL\\wandb\\run-20250516_011616-q6q5ygkz\\files\\model-best\\assets\n",
      "wandb: Adding directory to artifact (D:\\DL\\wandb\\run-20250516_011616-q6q5ygkz\\files\\model-best)... Done. 0.0s\n"
     ]
    },
    {
     "name": "stdout",
     "output_type": "stream",
     "text": [
      "1582/1582 [==============================] - 73s 46ms/step - loss: 0.1575 - accuracy: 0.9541 - val_loss: 0.1279 - val_accuracy: 0.9607 - WordAccuracy: 0.3698\n",
      "Epoch 5/10\n",
      "1581/1582 [============================>.] - ETA: 0s - loss: 0.1465 - accuracy: 0.9570\n",
      "Epoch 5: Word-level Accuracy = 0.3881\n",
      "INFO:tensorflow:Assets written to: D:\\DL\\wandb\\run-20250516_011616-q6q5ygkz\\files\\model-best\\assets\n"
     ]
    },
    {
     "name": "stderr",
     "output_type": "stream",
     "text": [
      "INFO:tensorflow:Assets written to: D:\\DL\\wandb\\run-20250516_011616-q6q5ygkz\\files\\model-best\\assets\n",
      "wandb: Adding directory to artifact (D:\\DL\\wandb\\run-20250516_011616-q6q5ygkz\\files\\model-best)... Done. 0.0s\n"
     ]
    },
    {
     "name": "stdout",
     "output_type": "stream",
     "text": [
      "1582/1582 [==============================] - 74s 47ms/step - loss: 0.1465 - accuracy: 0.9570 - val_loss: 0.1241 - val_accuracy: 0.9623 - WordAccuracy: 0.3881\n",
      "Epoch 6/10\n",
      "1582/1582 [==============================] - ETA: 0s - loss: 0.1391 - accuracy: 0.9588\n",
      "Epoch 6: Word-level Accuracy = 0.3986\n",
      "INFO:tensorflow:Assets written to: D:\\DL\\wandb\\run-20250516_011616-q6q5ygkz\\files\\model-best\\assets\n"
     ]
    },
    {
     "name": "stderr",
     "output_type": "stream",
     "text": [
      "INFO:tensorflow:Assets written to: D:\\DL\\wandb\\run-20250516_011616-q6q5ygkz\\files\\model-best\\assets\n",
      "wandb: Adding directory to artifact (D:\\DL\\wandb\\run-20250516_011616-q6q5ygkz\\files\\model-best)... Done. 0.0s\n"
     ]
    },
    {
     "name": "stdout",
     "output_type": "stream",
     "text": [
      "1582/1582 [==============================] - 74s 47ms/step - loss: 0.1391 - accuracy: 0.9588 - val_loss: 0.1171 - val_accuracy: 0.9638 - WordAccuracy: 0.3986\n",
      "Epoch 7/10\n",
      "1582/1582 [==============================] - ETA: 0s - loss: 0.1320 - accuracy: 0.9609\n",
      "Epoch 7: Word-level Accuracy = 0.4032\n",
      "INFO:tensorflow:Assets written to: D:\\DL\\wandb\\run-20250516_011616-q6q5ygkz\\files\\model-best\\assets\n"
     ]
    },
    {
     "name": "stderr",
     "output_type": "stream",
     "text": [
      "INFO:tensorflow:Assets written to: D:\\DL\\wandb\\run-20250516_011616-q6q5ygkz\\files\\model-best\\assets\n",
      "wandb: Adding directory to artifact (D:\\DL\\wandb\\run-20250516_011616-q6q5ygkz\\files\\model-best)... Done. 0.0s\n"
     ]
    },
    {
     "name": "stdout",
     "output_type": "stream",
     "text": [
      "1582/1582 [==============================] - 70s 44ms/step - loss: 0.1320 - accuracy: 0.9609 - val_loss: 0.1144 - val_accuracy: 0.9644 - WordAccuracy: 0.4032\n",
      "Epoch 8/10\n",
      "1581/1582 [============================>.] - ETA: 0s - loss: 0.1271 - accuracy: 0.9621\n",
      "Epoch 8: Word-level Accuracy = 0.3973\n",
      "1582/1582 [==============================] - 68s 43ms/step - loss: 0.1272 - accuracy: 0.9621 - val_loss: 0.1148 - val_accuracy: 0.9640 - WordAccuracy: 0.3973\n",
      "Epoch 9/10\n",
      "1582/1582 [==============================] - ETA: 0s - loss: 0.1233 - accuracy: 0.9630\n",
      "Epoch 9: Word-level Accuracy = 0.4156\n",
      "INFO:tensorflow:Assets written to: D:\\DL\\wandb\\run-20250516_011616-q6q5ygkz\\files\\model-best\\assets\n"
     ]
    },
    {
     "name": "stderr",
     "output_type": "stream",
     "text": [
      "INFO:tensorflow:Assets written to: D:\\DL\\wandb\\run-20250516_011616-q6q5ygkz\\files\\model-best\\assets\n",
      "wandb: Adding directory to artifact (D:\\DL\\wandb\\run-20250516_011616-q6q5ygkz\\files\\model-best)... Done. 0.0s\n"
     ]
    },
    {
     "name": "stdout",
     "output_type": "stream",
     "text": [
      "1582/1582 [==============================] - 71s 45ms/step - loss: 0.1233 - accuracy: 0.9630 - val_loss: 0.1136 - val_accuracy: 0.9655 - WordAccuracy: 0.4156\n",
      "Epoch 10/10\n",
      "1581/1582 [============================>.] - ETA: 0s - loss: 0.1192 - accuracy: 0.9643\n",
      "Epoch 10: Word-level Accuracy = 0.4110\n",
      "INFO:tensorflow:Assets written to: D:\\DL\\wandb\\run-20250516_011616-q6q5ygkz\\files\\model-best\\assets\n"
     ]
    },
    {
     "name": "stderr",
     "output_type": "stream",
     "text": [
      "INFO:tensorflow:Assets written to: D:\\DL\\wandb\\run-20250516_011616-q6q5ygkz\\files\\model-best\\assets\n",
      "wandb: Adding directory to artifact (D:\\DL\\wandb\\run-20250516_011616-q6q5ygkz\\files\\model-best)... Done. 0.0s\n"
     ]
    },
    {
     "name": "stdout",
     "output_type": "stream",
     "text": [
      "1582/1582 [==============================] - 74s 47ms/step - loss: 0.1192 - accuracy: 0.9643 - val_loss: 0.1132 - val_accuracy: 0.9656 - WordAccuracy: 0.4110\n"
     ]
    },
    {
     "data": {
      "application/vnd.jupyter.widget-view+json": {
       "model_id": "cf8e9c8c93554d93b5d4bf157e608761",
       "version_major": 2,
       "version_minor": 0
      },
      "text/plain": [
       "VBox(children=(Label(value='11.104 MB of 11.104 MB uploaded (0.181 MB deduped)\\r'), FloatProgress(value=1.0, m…"
      ]
     },
     "metadata": {},
     "output_type": "display_data"
    },
    {
     "data": {
      "text/html": [
       "W&B sync reduced upload amount by 1.5%             "
      ],
      "text/plain": [
       "<IPython.core.display.HTML object>"
      ]
     },
     "metadata": {},
     "output_type": "display_data"
    },
    {
     "data": {
      "text/html": [
       "<style>\n",
       "    table.wandb td:nth-child(1) { padding: 0 10px; text-align: left ; width: auto;} td:nth-child(2) {text-align: left ; width: 100%}\n",
       "    .wandb-row { display: flex; flex-direction: row; flex-wrap: wrap; justify-content: flex-start; width: 100% }\n",
       "    .wandb-col { display: flex; flex-direction: column; flex-basis: 100%; flex: 1; padding: 10px; }\n",
       "    </style>\n",
       "<div class=\"wandb-row\"><div class=\"wandb-col\"><h3>Run history:</h3><br/><table class=\"wandb\"><tr><td>Val_WordAccuracy</td><td>▁▅▆▆▇▇█▇██</td></tr><tr><td>WordAccuracy</td><td>▁▅▆▆▇▇█▇██</td></tr><tr><td>accuracy</td><td>▁▇▇███████</td></tr><tr><td>epoch</td><td>▂▁▂▂▃▂▄▃▅▄▅▅▆▅▇▆▇▇█▇</td></tr><tr><td>loss</td><td>█▂▂▁▁▁▁▁▁▁</td></tr><tr><td>val_accuracy</td><td>▁▆▆▇▇▇████</td></tr><tr><td>val_loss</td><td>█▃▂▂▂▁▁▁▁▁</td></tr></table><br/></div><div class=\"wandb-col\"><h3>Run summary:</h3><br/><table class=\"wandb\"><tr><td>Val_WordAccuracy</td><td>0.41098</td></tr><tr><td>WordAccuracy</td><td>0.41098</td></tr><tr><td>accuracy</td><td>0.9643</td></tr><tr><td>best_epoch</td><td>9</td></tr><tr><td>best_val_loss</td><td>0.11324</td></tr><tr><td>epoch</td><td>9</td></tr><tr><td>loss</td><td>0.11923</td></tr><tr><td>val_accuracy</td><td>0.96557</td></tr><tr><td>val_loss</td><td>0.11324</td></tr></table><br/></div></div>"
      ],
      "text/plain": [
       "<IPython.core.display.HTML object>"
      ]
     },
     "metadata": {},
     "output_type": "display_data"
    },
    {
     "data": {
      "text/html": [
       " View run <strong style=\"color:#cdcd00\">solar-sweep-20</strong> at: <a href='https://wandb.ai/manoj_da24s018-iit-madras/Transliterator_Attention_HyperParameterSweep/runs/q6q5ygkz' target=\"_blank\">https://wandb.ai/manoj_da24s018-iit-madras/Transliterator_Attention_HyperParameterSweep/runs/q6q5ygkz</a><br/> View project at: <a href='https://wandb.ai/manoj_da24s018-iit-madras/Transliterator_Attention_HyperParameterSweep' target=\"_blank\">https://wandb.ai/manoj_da24s018-iit-madras/Transliterator_Attention_HyperParameterSweep</a><br/>Synced 5 W&B file(s), 1 media file(s), 36 artifact file(s) and 1 other file(s)"
      ],
      "text/plain": [
       "<IPython.core.display.HTML object>"
      ]
     },
     "metadata": {},
     "output_type": "display_data"
    },
    {
     "data": {
      "text/html": [
       "Find logs at: <code>.\\wandb\\run-20250516_011616-q6q5ygkz\\logs</code>"
      ],
      "text/plain": [
       "<IPython.core.display.HTML object>"
      ]
     },
     "metadata": {},
     "output_type": "display_data"
    }
   ],
   "source": [
    "sweep_ID = wandb.sweep(sweep_config, entity=\"manoj_da24s018-iit-madras\", project=\"Transliterator_Attention_HyperParameterSweep\")\n",
    "wandb.agent(sweep_ID, sweep_hyperparameters, count=20)"
   ]
  },
  {
   "cell_type": "code",
   "execution_count": null,
   "id": "ecca7390-f753-47e2-94aa-217ec367ecbc",
   "metadata": {},
   "outputs": [],
   "source": []
  }
 ],
 "metadata": {
  "kernelspec": {
   "display_name": "Python 3 (ipykernel)",
   "language": "python",
   "name": "python3"
  },
  "language_info": {
   "codemirror_mode": {
    "name": "ipython",
    "version": 3
   },
   "file_extension": ".py",
   "mimetype": "text/x-python",
   "name": "python",
   "nbconvert_exporter": "python",
   "pygments_lexer": "ipython3",
   "version": "3.10.17"
  }
 },
 "nbformat": 4,
 "nbformat_minor": 5
}
